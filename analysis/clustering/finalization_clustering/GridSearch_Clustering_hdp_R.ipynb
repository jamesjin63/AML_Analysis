{
 "cells": [
  {
   "cell_type": "code",
   "execution_count": 1,
   "metadata": {},
   "outputs": [
    {
     "name": "stderr",
     "output_type": "stream",
     "text": [
      "Run citation('hdp') for citation instructions,\n",
      "    and file.show(system.file('LICENSE', package='hdp')) for license details.\n"
     ]
    }
   ],
   "source": [
    "\n",
    "library('hdp')\n",
    "library('clusterCrit')\n",
    "library('grid')\n",
    "library('gridExtra')\n",
    "library('ggplot2')\n",
    "library('ggrepel')\n",
    "\n",
    "source('../../../src/tools.R')     # custom tools function\n",
    "source('../../../src/hdp_tools.R') # hdp related functions\n",
    "source('../../../src/hdp_tools_yanis.R')\n",
    "theme_set(theme_minimal())\n",
    "\n",
    "# set jupyer notebook parameters\n",
    "options(repr.plot.res        = 100, # set a medium-definition resolution for the jupyter notebooks plots (DPI)\n",
    "        repr.matrix.max.rows = 200, # set the maximum number of rows displayed\n",
    "        repr.matrix.max.cols = 200) # set the maximum number of columns displayed"
   ]
  },
  {
   "cell_type": "markdown",
   "metadata": {},
   "source": [
    "### Some analysis of the dataframe to get familiar"
   ]
  },
  {
   "cell_type": "code",
   "execution_count": 84,
   "metadata": {},
   "outputs": [],
   "source": [
    "\n",
    "df_final <- read.table(\"../../../data/updated_dataset/modif_final.csv\",sep = ',' , header = T)\n",
    "rownames(df_final)<- df_final$data_pd\n",
    "df_final <- df_final[,-1:-3]\n",
    "df_to_recluster <-read.table(\"df_to_recluster.csv\",sep = ',' , header = T)\n",
    "df_to_recluster <- df_to_recluster[colSums(df_to_recluster) > 0]"
   ]
  },
  {
   "cell_type": "code",
   "execution_count": 48,
   "metadata": {},
   "outputs": [
    {
     "data": {
      "text/html": [
       "<table>\n",
       "<thead><tr><th></th><th scope=col>ASXL1</th><th scope=col>ASXL2</th><th scope=col>ASXL3</th><th scope=col>ATRX</th><th scope=col>BAGE3</th><th scope=col>BCOR</th><th scope=col>BRAF</th><th scope=col>CBFB</th><th scope=col>CBL</th><th scope=col>CDKN2A</th><th scope=col>CEBPA_bi</th><th scope=col>CEBPA_mono</th><th scope=col>CNTN5</th><th scope=col>CREBBP</th><th scope=col>CSF1R</th><th scope=col>CSF3R</th><th scope=col>CTCF</th><th scope=col>CUL2</th><th scope=col>CUX1</th><th scope=col>DNMT3A</th><th scope=col>EED</th><th scope=col>ETV6</th><th scope=col>EZH2</th><th scope=col>FBXW7</th><th scope=col>ITD</th><th scope=col>FLT3_TKD</th><th scope=col>FLT3_other</th><th scope=col>GATA1</th><th scope=col>GATA2</th><th scope=col>GNAS</th><th scope=col>GNB1</th><th scope=col>IDH1</th><th scope=col>IDH2_p.R140</th><th scope=col>IDH2_p.R172</th><th scope=col>JAK2</th><th scope=col>JAK3</th><th scope=col>KANSL1</th><th scope=col>KDM6A</th><th scope=col>KIT</th><th scope=col>KMT2C</th><th scope=col>KMT2D</th><th scope=col>KMT2E</th><th scope=col>KRAS</th><th scope=col>LUC7L2</th><th scope=col>MED12</th><th scope=col>MLL</th><th scope=col>MPL</th><th scope=col>MYC</th><th scope=col>NF1</th><th scope=col>NFE2</th><th scope=col>NOTCH1</th><th scope=col>NPM1</th><th scope=col>NRAS_other</th><th scope=col>NRAS_p.G12_13</th><th scope=col>NRAS_p.Q61_62</th><th scope=col>PDS5B</th><th scope=col>PHF6</th><th scope=col>PPFIA2</th><th scope=col>PRPF8</th><th scope=col>PTEN</th><th scope=col>PTPN11</th><th scope=col>PTPRF</th><th scope=col>PTPRT</th><th scope=col>RAD21</th><th scope=col>RIT1</th><th scope=col>RUNX1</th><th scope=col>S100B</th><th scope=col>SETBP1</th><th scope=col>SF1</th><th scope=col>SF3B1</th><th scope=col>SMC1A</th><th scope=col>SMC3</th><th scope=col>SMG1</th><th scope=col>SPP1</th><th scope=col>SRSF2</th><th scope=col>STAG2</th><th scope=col>STAT5B</th><th scope=col>SUZ12</th><th scope=col>TET2</th><th scope=col>TP53</th><th scope=col>U2AF1</th><th scope=col>WT1</th><th scope=col>ZRSR2</th><th scope=col>add_8</th><th scope=col>add_11</th><th scope=col>add_13</th><th scope=col>add_21</th><th scope=col>add_22</th><th scope=col>del_20</th><th scope=col>del_3</th><th scope=col>del_5</th><th scope=col>del_7</th><th scope=col>del_9</th><th scope=col>del_12</th><th scope=col>del_13</th><th scope=col>del_16</th><th scope=col>del_17</th><th scope=col>del_18</th><th scope=col>minusy</th><th scope=col>t_v_11</th><th scope=col>t_10_21</th><th scope=col>t_12_13</th><th scope=col>t_12_17</th><th scope=col>t_12_22</th><th scope=col>t_13_19</th><th scope=col>t_15_16</th><th scope=col>t_15_17</th><th scope=col>t_16_17</th><th scope=col>t_16_21</th><th scope=col>t_17_19</th><th scope=col>t_17_21</th><th scope=col>t_1_12</th><th scope=col>t_1_14</th><th scope=col>t_1_16</th><th scope=col>t_1_17</th><th scope=col>t_1_19</th><th scope=col>t_1_3</th><th scope=col>t_1_4</th><th scope=col>t_1_5</th><th scope=col>t_1_6</th><th scope=col>t_2_17</th><th scope=col>t_2_3</th><th scope=col>t_2_5</th><th scope=col>t_2_7</th><th scope=col>t_2_9</th><th scope=col>t_3_16</th><th scope=col>t_3_21</th><th scope=col>t_3_5</th><th scope=col>t_3_7</th><th scope=col>t_3_9</th><th scope=col>t_4_12</th><th scope=col>t_4_21</th><th scope=col>t_4_9</th><th scope=col>t_5_12</th><th scope=col>t_5_17</th><th scope=col>t_5_9</th><th scope=col>t_6_9</th><th scope=col>t_7_16</th><th scope=col>t_7_17</th><th scope=col>t_7_8</th><th scope=col>t_8_10</th><th scope=col>t_8_13</th><th scope=col>t_8_16</th><th scope=col>t_8_17</th><th scope=col>t_8_21</th><th scope=col>t_9_11</th><th scope=col>t_9_13</th><th scope=col>t_9_17</th><th scope=col>t_9_22</th><th scope=col>complex</th><th scope=col>others_transloc</th></tr></thead>\n",
       "<tbody>\n",
       "\t<tr><th scope=row>PD20337c</th><td>0</td><td>0</td><td>0</td><td>0</td><td>0</td><td>0</td><td>0</td><td>0</td><td>0</td><td>0</td><td>0</td><td>0</td><td>0</td><td>0</td><td>0</td><td>0</td><td>0</td><td>0</td><td>0</td><td>1</td><td>0</td><td>0</td><td>0</td><td>0</td><td>0</td><td>0</td><td>0</td><td>0</td><td>0</td><td>0</td><td>0</td><td>0</td><td>0</td><td>1</td><td>0</td><td>0</td><td>0</td><td>0</td><td>0</td><td>0</td><td>0</td><td>0</td><td>0</td><td>0</td><td>0</td><td>0</td><td>0</td><td>0</td><td>0</td><td>0</td><td>0</td><td>0</td><td>0</td><td>0</td><td>0</td><td>0</td><td>0</td><td>0</td><td>0</td><td>0</td><td>0</td><td>0</td><td>0</td><td>0</td><td>0</td><td>0</td><td>0</td><td>0</td><td>0</td><td>0</td><td>0</td><td>0</td><td>0</td><td>0</td><td>0</td><td>0</td><td>0</td><td>0</td><td>0</td><td>0</td><td>0</td><td>0</td><td>0</td><td>0</td><td>0</td><td>0</td><td>0</td><td>0</td><td>0</td><td>0</td><td>0</td><td>0</td><td>0</td><td>0</td><td>0</td><td>0</td><td>0</td><td>0</td><td>0</td><td>0</td><td>0</td><td>0</td><td>0</td><td>0</td><td>0</td><td>0</td><td>0</td><td>0</td><td>0</td><td>0</td><td>0</td><td>0</td><td>0</td><td>0</td><td>0</td><td>0</td><td>0</td><td>0</td><td>0</td><td>0</td><td>0</td><td>0</td><td>0</td><td>0</td><td>0</td><td>0</td><td>0</td><td>0</td><td>0</td><td>0</td><td>0</td><td>0</td><td>0</td><td>0</td><td>0</td><td>0</td><td>0</td><td>0</td><td>0</td><td>0</td><td>0</td><td>0</td><td>0</td><td>0</td><td>0</td><td>0</td><td>0</td><td>0</td><td>0</td><td>0</td><td>0</td></tr>\n",
       "\t<tr><th scope=row>PD20336a</th><td>0</td><td>0</td><td>0</td><td>0</td><td>0</td><td>0</td><td>0</td><td>0</td><td>0</td><td>0</td><td>0</td><td>0</td><td>0</td><td>0</td><td>0</td><td>0</td><td>0</td><td>0</td><td>0</td><td>0</td><td>0</td><td>0</td><td>0</td><td>0</td><td>1</td><td>0</td><td>0</td><td>0</td><td>0</td><td>0</td><td>0</td><td>0</td><td>0</td><td>0</td><td>0</td><td>0</td><td>0</td><td>1</td><td>0</td><td>0</td><td>0</td><td>0</td><td>0</td><td>0</td><td>0</td><td>0</td><td>0</td><td>0</td><td>0</td><td>0</td><td>0</td><td>0</td><td>0</td><td>0</td><td>0</td><td>0</td><td>0</td><td>0</td><td>0</td><td>0</td><td>0</td><td>0</td><td>0</td><td>0</td><td>0</td><td>1</td><td>0</td><td>0</td><td>0</td><td>1</td><td>0</td><td>1</td><td>0</td><td>0</td><td>0</td><td>0</td><td>0</td><td>0</td><td>0</td><td>1</td><td>0</td><td>0</td><td>0</td><td>0</td><td>0</td><td>0</td><td>0</td><td>0</td><td>0</td><td>0</td><td>0</td><td>0</td><td>0</td><td>0</td><td>0</td><td>0</td><td>0</td><td>0</td><td>0</td><td>0</td><td>0</td><td>0</td><td>0</td><td>0</td><td>0</td><td>0</td><td>0</td><td>0</td><td>0</td><td>0</td><td>0</td><td>0</td><td>0</td><td>0</td><td>0</td><td>0</td><td>0</td><td>0</td><td>0</td><td>0</td><td>0</td><td>0</td><td>0</td><td>0</td><td>0</td><td>0</td><td>0</td><td>0</td><td>0</td><td>0</td><td>0</td><td>0</td><td>0</td><td>0</td><td>0</td><td>0</td><td>0</td><td>0</td><td>0</td><td>0</td><td>0</td><td>0</td><td>0</td><td>0</td><td>0</td><td>0</td><td>0</td><td>0</td><td>0</td><td>0</td><td>0</td></tr>\n",
       "\t<tr><th scope=row>PD20334a</th><td>0</td><td>0</td><td>0</td><td>0</td><td>0</td><td>0</td><td>0</td><td>0</td><td>0</td><td>0</td><td>0</td><td>1</td><td>0</td><td>0</td><td>0</td><td>0</td><td>0</td><td>0</td><td>0</td><td>0</td><td>0</td><td>0</td><td>0</td><td>0</td><td>1</td><td>0</td><td>0</td><td>0</td><td>0</td><td>0</td><td>0</td><td>0</td><td>0</td><td>0</td><td>0</td><td>0</td><td>0</td><td>0</td><td>0</td><td>0</td><td>0</td><td>0</td><td>0</td><td>0</td><td>0</td><td>1</td><td>0</td><td>0</td><td>0</td><td>0</td><td>0</td><td>0</td><td>0</td><td>0</td><td>0</td><td>0</td><td>0</td><td>0</td><td>0</td><td>0</td><td>0</td><td>0</td><td>0</td><td>0</td><td>0</td><td>1</td><td>0</td><td>0</td><td>0</td><td>0</td><td>0</td><td>0</td><td>0</td><td>0</td><td>0</td><td>0</td><td>0</td><td>0</td><td>1</td><td>0</td><td>0</td><td>1</td><td>0</td><td>0</td><td>0</td><td>0</td><td>0</td><td>0</td><td>0</td><td>0</td><td>0</td><td>0</td><td>0</td><td>0</td><td>0</td><td>0</td><td>0</td><td>0</td><td>0</td><td>0</td><td>0</td><td>0</td><td>0</td><td>0</td><td>0</td><td>0</td><td>0</td><td>0</td><td>0</td><td>0</td><td>0</td><td>0</td><td>0</td><td>0</td><td>0</td><td>0</td><td>0</td><td>0</td><td>0</td><td>0</td><td>0</td><td>0</td><td>0</td><td>0</td><td>0</td><td>0</td><td>0</td><td>0</td><td>0</td><td>0</td><td>0</td><td>0</td><td>0</td><td>0</td><td>0</td><td>0</td><td>0</td><td>0</td><td>0</td><td>0</td><td>0</td><td>0</td><td>0</td><td>0</td><td>0</td><td>0</td><td>0</td><td>0</td><td>0</td><td>0</td><td>0</td></tr>\n",
       "\t<tr><th scope=row>PD20325a</th><td>0</td><td>0</td><td>0</td><td>0</td><td>0</td><td>1</td><td>0</td><td>0</td><td>0</td><td>0</td><td>0</td><td>0</td><td>0</td><td>0</td><td>0</td><td>0</td><td>0</td><td>0</td><td>0</td><td>1</td><td>0</td><td>0</td><td>0</td><td>0</td><td>0</td><td>1</td><td>0</td><td>0</td><td>0</td><td>0</td><td>0</td><td>0</td><td>0</td><td>0</td><td>0</td><td>0</td><td>0</td><td>0</td><td>0</td><td>0</td><td>0</td><td>0</td><td>0</td><td>0</td><td>0</td><td>0</td><td>0</td><td>0</td><td>0</td><td>0</td><td>0</td><td>0</td><td>0</td><td>0</td><td>0</td><td>0</td><td>0</td><td>0</td><td>0</td><td>0</td><td>0</td><td>0</td><td>0</td><td>0</td><td>0</td><td>1</td><td>0</td><td>0</td><td>0</td><td>0</td><td>0</td><td>1</td><td>0</td><td>0</td><td>1</td><td>0</td><td>0</td><td>0</td><td>0</td><td>0</td><td>0</td><td>0</td><td>0</td><td>0</td><td>0</td><td>0</td><td>0</td><td>0</td><td>0</td><td>0</td><td>0</td><td>0</td><td>0</td><td>0</td><td>0</td><td>0</td><td>0</td><td>0</td><td>0</td><td>0</td><td>0</td><td>0</td><td>0</td><td>0</td><td>0</td><td>0</td><td>0</td><td>0</td><td>0</td><td>0</td><td>0</td><td>0</td><td>0</td><td>0</td><td>0</td><td>0</td><td>0</td><td>0</td><td>0</td><td>0</td><td>0</td><td>0</td><td>0</td><td>0</td><td>0</td><td>0</td><td>0</td><td>0</td><td>0</td><td>0</td><td>0</td><td>0</td><td>0</td><td>0</td><td>0</td><td>0</td><td>0</td><td>0</td><td>0</td><td>0</td><td>0</td><td>0</td><td>0</td><td>0</td><td>0</td><td>0</td><td>0</td><td>0</td><td>0</td><td>0</td><td>0</td></tr>\n",
       "\t<tr><th scope=row>PD20324a</th><td>0</td><td>0</td><td>0</td><td>0</td><td>0</td><td>0</td><td>0</td><td>0</td><td>0</td><td>0</td><td>0</td><td>0</td><td>0</td><td>0</td><td>0</td><td>0</td><td>0</td><td>0</td><td>0</td><td>0</td><td>0</td><td>0</td><td>0</td><td>0</td><td>0</td><td>0</td><td>0</td><td>0</td><td>0</td><td>0</td><td>0</td><td>0</td><td>0</td><td>0</td><td>0</td><td>0</td><td>0</td><td>0</td><td>0</td><td>0</td><td>0</td><td>0</td><td>1</td><td>0</td><td>0</td><td>0</td><td>0</td><td>0</td><td>0</td><td>0</td><td>0</td><td>0</td><td>0</td><td>0</td><td>0</td><td>0</td><td>0</td><td>0</td><td>0</td><td>0</td><td>0</td><td>0</td><td>0</td><td>0</td><td>0</td><td>0</td><td>0</td><td>0</td><td>0</td><td>0</td><td>0</td><td>0</td><td>0</td><td>0</td><td>1</td><td>0</td><td>0</td><td>0</td><td>1</td><td>0</td><td>0</td><td>0</td><td>0</td><td>0</td><td>0</td><td>0</td><td>0</td><td>0</td><td>0</td><td>0</td><td>0</td><td>0</td><td>0</td><td>0</td><td>0</td><td>0</td><td>0</td><td>0</td><td>0</td><td>0</td><td>0</td><td>0</td><td>0</td><td>0</td><td>0</td><td>0</td><td>0</td><td>0</td><td>0</td><td>0</td><td>0</td><td>0</td><td>0</td><td>0</td><td>0</td><td>0</td><td>0</td><td>0</td><td>0</td><td>0</td><td>0</td><td>0</td><td>0</td><td>0</td><td>0</td><td>0</td><td>0</td><td>0</td><td>0</td><td>0</td><td>0</td><td>0</td><td>0</td><td>0</td><td>0</td><td>0</td><td>0</td><td>0</td><td>0</td><td>0</td><td>0</td><td>0</td><td>0</td><td>0</td><td>0</td><td>0</td><td>0</td><td>0</td><td>0</td><td>0</td><td>0</td></tr>\n",
       "\t<tr><th scope=row>PD20323a</th><td>1</td><td>0</td><td>0</td><td>0</td><td>0</td><td>0</td><td>0</td><td>0</td><td>0</td><td>0</td><td>0</td><td>0</td><td>0</td><td>0</td><td>0</td><td>0</td><td>0</td><td>0</td><td>0</td><td>0</td><td>0</td><td>0</td><td>0</td><td>0</td><td>0</td><td>0</td><td>0</td><td>0</td><td>0</td><td>0</td><td>0</td><td>0</td><td>0</td><td>0</td><td>0</td><td>0</td><td>0</td><td>0</td><td>0</td><td>0</td><td>0</td><td>0</td><td>0</td><td>0</td><td>0</td><td>0</td><td>0</td><td>0</td><td>0</td><td>0</td><td>0</td><td>0</td><td>0</td><td>0</td><td>0</td><td>0</td><td>0</td><td>0</td><td>0</td><td>0</td><td>0</td><td>0</td><td>0</td><td>0</td><td>0</td><td>1</td><td>0</td><td>0</td><td>0</td><td>0</td><td>0</td><td>0</td><td>0</td><td>0</td><td>1</td><td>0</td><td>0</td><td>0</td><td>1</td><td>0</td><td>0</td><td>0</td><td>0</td><td>0</td><td>0</td><td>0</td><td>0</td><td>0</td><td>0</td><td>0</td><td>0</td><td>0</td><td>0</td><td>0</td><td>0</td><td>0</td><td>0</td><td>0</td><td>0</td><td>0</td><td>0</td><td>0</td><td>0</td><td>0</td><td>0</td><td>0</td><td>0</td><td>0</td><td>0</td><td>0</td><td>0</td><td>0</td><td>0</td><td>0</td><td>0</td><td>0</td><td>0</td><td>0</td><td>0</td><td>0</td><td>0</td><td>0</td><td>0</td><td>0</td><td>0</td><td>0</td><td>0</td><td>0</td><td>0</td><td>0</td><td>0</td><td>0</td><td>0</td><td>0</td><td>0</td><td>0</td><td>0</td><td>0</td><td>0</td><td>0</td><td>0</td><td>0</td><td>0</td><td>0</td><td>0</td><td>0</td><td>0</td><td>0</td><td>0</td><td>0</td><td>0</td></tr>\n",
       "</tbody>\n",
       "</table>\n"
      ],
      "text/latex": [
       "\\begin{tabular}{r|lllllllllllllllllllllllllllllllllllllllllllllllllllllllllllllllllllllllllllllllllllllllllllllllllllllllllllllllllllllllllllllllllllllllllllllllllllllll}\n",
       "  & ASXL1 & ASXL2 & ASXL3 & ATRX & BAGE3 & BCOR & BRAF & CBFB & CBL & CDKN2A & CEBPA\\_bi & CEBPA\\_mono & CNTN5 & CREBBP & CSF1R & CSF3R & CTCF & CUL2 & CUX1 & DNMT3A & EED & ETV6 & EZH2 & FBXW7 & ITD & FLT3\\_TKD & FLT3\\_other & GATA1 & GATA2 & GNAS & GNB1 & IDH1 & IDH2\\_p.R140 & IDH2\\_p.R172 & JAK2 & JAK3 & KANSL1 & KDM6A & KIT & KMT2C & KMT2D & KMT2E & KRAS & LUC7L2 & MED12 & MLL & MPL & MYC & NF1 & NFE2 & NOTCH1 & NPM1 & NRAS\\_other & NRAS\\_p.G12\\_13 & NRAS\\_p.Q61\\_62 & PDS5B & PHF6 & PPFIA2 & PRPF8 & PTEN & PTPN11 & PTPRF & PTPRT & RAD21 & RIT1 & RUNX1 & S100B & SETBP1 & SF1 & SF3B1 & SMC1A & SMC3 & SMG1 & SPP1 & SRSF2 & STAG2 & STAT5B & SUZ12 & TET2 & TP53 & U2AF1 & WT1 & ZRSR2 & add\\_8 & add\\_11 & add\\_13 & add\\_21 & add\\_22 & del\\_20 & del\\_3 & del\\_5 & del\\_7 & del\\_9 & del\\_12 & del\\_13 & del\\_16 & del\\_17 & del\\_18 & minusy & t\\_v\\_11 & t\\_10\\_21 & t\\_12\\_13 & t\\_12\\_17 & t\\_12\\_22 & t\\_13\\_19 & t\\_15\\_16 & t\\_15\\_17 & t\\_16\\_17 & t\\_16\\_21 & t\\_17\\_19 & t\\_17\\_21 & t\\_1\\_12 & t\\_1\\_14 & t\\_1\\_16 & t\\_1\\_17 & t\\_1\\_19 & t\\_1\\_3 & t\\_1\\_4 & t\\_1\\_5 & t\\_1\\_6 & t\\_2\\_17 & t\\_2\\_3 & t\\_2\\_5 & t\\_2\\_7 & t\\_2\\_9 & t\\_3\\_16 & t\\_3\\_21 & t\\_3\\_5 & t\\_3\\_7 & t\\_3\\_9 & t\\_4\\_12 & t\\_4\\_21 & t\\_4\\_9 & t\\_5\\_12 & t\\_5\\_17 & t\\_5\\_9 & t\\_6\\_9 & t\\_7\\_16 & t\\_7\\_17 & t\\_7\\_8 & t\\_8\\_10 & t\\_8\\_13 & t\\_8\\_16 & t\\_8\\_17 & t\\_8\\_21 & t\\_9\\_11 & t\\_9\\_13 & t\\_9\\_17 & t\\_9\\_22 & complex & others\\_transloc\\\\\n",
       "\\hline\n",
       "\tPD20337c & 0 & 0 & 0 & 0 & 0 & 0 & 0 & 0 & 0 & 0 & 0 & 0 & 0 & 0 & 0 & 0 & 0 & 0 & 0 & 1 & 0 & 0 & 0 & 0 & 0 & 0 & 0 & 0 & 0 & 0 & 0 & 0 & 0 & 1 & 0 & 0 & 0 & 0 & 0 & 0 & 0 & 0 & 0 & 0 & 0 & 0 & 0 & 0 & 0 & 0 & 0 & 0 & 0 & 0 & 0 & 0 & 0 & 0 & 0 & 0 & 0 & 0 & 0 & 0 & 0 & 0 & 0 & 0 & 0 & 0 & 0 & 0 & 0 & 0 & 0 & 0 & 0 & 0 & 0 & 0 & 0 & 0 & 0 & 0 & 0 & 0 & 0 & 0 & 0 & 0 & 0 & 0 & 0 & 0 & 0 & 0 & 0 & 0 & 0 & 0 & 0 & 0 & 0 & 0 & 0 & 0 & 0 & 0 & 0 & 0 & 0 & 0 & 0 & 0 & 0 & 0 & 0 & 0 & 0 & 0 & 0 & 0 & 0 & 0 & 0 & 0 & 0 & 0 & 0 & 0 & 0 & 0 & 0 & 0 & 0 & 0 & 0 & 0 & 0 & 0 & 0 & 0 & 0 & 0 & 0 & 0 & 0 & 0 & 0 & 0 & 0\\\\\n",
       "\tPD20336a & 0 & 0 & 0 & 0 & 0 & 0 & 0 & 0 & 0 & 0 & 0 & 0 & 0 & 0 & 0 & 0 & 0 & 0 & 0 & 0 & 0 & 0 & 0 & 0 & 1 & 0 & 0 & 0 & 0 & 0 & 0 & 0 & 0 & 0 & 0 & 0 & 0 & 1 & 0 & 0 & 0 & 0 & 0 & 0 & 0 & 0 & 0 & 0 & 0 & 0 & 0 & 0 & 0 & 0 & 0 & 0 & 0 & 0 & 0 & 0 & 0 & 0 & 0 & 0 & 0 & 1 & 0 & 0 & 0 & 1 & 0 & 1 & 0 & 0 & 0 & 0 & 0 & 0 & 0 & 1 & 0 & 0 & 0 & 0 & 0 & 0 & 0 & 0 & 0 & 0 & 0 & 0 & 0 & 0 & 0 & 0 & 0 & 0 & 0 & 0 & 0 & 0 & 0 & 0 & 0 & 0 & 0 & 0 & 0 & 0 & 0 & 0 & 0 & 0 & 0 & 0 & 0 & 0 & 0 & 0 & 0 & 0 & 0 & 0 & 0 & 0 & 0 & 0 & 0 & 0 & 0 & 0 & 0 & 0 & 0 & 0 & 0 & 0 & 0 & 0 & 0 & 0 & 0 & 0 & 0 & 0 & 0 & 0 & 0 & 0 & 0\\\\\n",
       "\tPD20334a & 0 & 0 & 0 & 0 & 0 & 0 & 0 & 0 & 0 & 0 & 0 & 1 & 0 & 0 & 0 & 0 & 0 & 0 & 0 & 0 & 0 & 0 & 0 & 0 & 1 & 0 & 0 & 0 & 0 & 0 & 0 & 0 & 0 & 0 & 0 & 0 & 0 & 0 & 0 & 0 & 0 & 0 & 0 & 0 & 0 & 1 & 0 & 0 & 0 & 0 & 0 & 0 & 0 & 0 & 0 & 0 & 0 & 0 & 0 & 0 & 0 & 0 & 0 & 0 & 0 & 1 & 0 & 0 & 0 & 0 & 0 & 0 & 0 & 0 & 0 & 0 & 0 & 0 & 1 & 0 & 0 & 1 & 0 & 0 & 0 & 0 & 0 & 0 & 0 & 0 & 0 & 0 & 0 & 0 & 0 & 0 & 0 & 0 & 0 & 0 & 0 & 0 & 0 & 0 & 0 & 0 & 0 & 0 & 0 & 0 & 0 & 0 & 0 & 0 & 0 & 0 & 0 & 0 & 0 & 0 & 0 & 0 & 0 & 0 & 0 & 0 & 0 & 0 & 0 & 0 & 0 & 0 & 0 & 0 & 0 & 0 & 0 & 0 & 0 & 0 & 0 & 0 & 0 & 0 & 0 & 0 & 0 & 0 & 0 & 0 & 0\\\\\n",
       "\tPD20325a & 0 & 0 & 0 & 0 & 0 & 1 & 0 & 0 & 0 & 0 & 0 & 0 & 0 & 0 & 0 & 0 & 0 & 0 & 0 & 1 & 0 & 0 & 0 & 0 & 0 & 1 & 0 & 0 & 0 & 0 & 0 & 0 & 0 & 0 & 0 & 0 & 0 & 0 & 0 & 0 & 0 & 0 & 0 & 0 & 0 & 0 & 0 & 0 & 0 & 0 & 0 & 0 & 0 & 0 & 0 & 0 & 0 & 0 & 0 & 0 & 0 & 0 & 0 & 0 & 0 & 1 & 0 & 0 & 0 & 0 & 0 & 1 & 0 & 0 & 1 & 0 & 0 & 0 & 0 & 0 & 0 & 0 & 0 & 0 & 0 & 0 & 0 & 0 & 0 & 0 & 0 & 0 & 0 & 0 & 0 & 0 & 0 & 0 & 0 & 0 & 0 & 0 & 0 & 0 & 0 & 0 & 0 & 0 & 0 & 0 & 0 & 0 & 0 & 0 & 0 & 0 & 0 & 0 & 0 & 0 & 0 & 0 & 0 & 0 & 0 & 0 & 0 & 0 & 0 & 0 & 0 & 0 & 0 & 0 & 0 & 0 & 0 & 0 & 0 & 0 & 0 & 0 & 0 & 0 & 0 & 0 & 0 & 0 & 0 & 0 & 0\\\\\n",
       "\tPD20324a & 0 & 0 & 0 & 0 & 0 & 0 & 0 & 0 & 0 & 0 & 0 & 0 & 0 & 0 & 0 & 0 & 0 & 0 & 0 & 0 & 0 & 0 & 0 & 0 & 0 & 0 & 0 & 0 & 0 & 0 & 0 & 0 & 0 & 0 & 0 & 0 & 0 & 0 & 0 & 0 & 0 & 0 & 1 & 0 & 0 & 0 & 0 & 0 & 0 & 0 & 0 & 0 & 0 & 0 & 0 & 0 & 0 & 0 & 0 & 0 & 0 & 0 & 0 & 0 & 0 & 0 & 0 & 0 & 0 & 0 & 0 & 0 & 0 & 0 & 1 & 0 & 0 & 0 & 1 & 0 & 0 & 0 & 0 & 0 & 0 & 0 & 0 & 0 & 0 & 0 & 0 & 0 & 0 & 0 & 0 & 0 & 0 & 0 & 0 & 0 & 0 & 0 & 0 & 0 & 0 & 0 & 0 & 0 & 0 & 0 & 0 & 0 & 0 & 0 & 0 & 0 & 0 & 0 & 0 & 0 & 0 & 0 & 0 & 0 & 0 & 0 & 0 & 0 & 0 & 0 & 0 & 0 & 0 & 0 & 0 & 0 & 0 & 0 & 0 & 0 & 0 & 0 & 0 & 0 & 0 & 0 & 0 & 0 & 0 & 0 & 0\\\\\n",
       "\tPD20323a & 1 & 0 & 0 & 0 & 0 & 0 & 0 & 0 & 0 & 0 & 0 & 0 & 0 & 0 & 0 & 0 & 0 & 0 & 0 & 0 & 0 & 0 & 0 & 0 & 0 & 0 & 0 & 0 & 0 & 0 & 0 & 0 & 0 & 0 & 0 & 0 & 0 & 0 & 0 & 0 & 0 & 0 & 0 & 0 & 0 & 0 & 0 & 0 & 0 & 0 & 0 & 0 & 0 & 0 & 0 & 0 & 0 & 0 & 0 & 0 & 0 & 0 & 0 & 0 & 0 & 1 & 0 & 0 & 0 & 0 & 0 & 0 & 0 & 0 & 1 & 0 & 0 & 0 & 1 & 0 & 0 & 0 & 0 & 0 & 0 & 0 & 0 & 0 & 0 & 0 & 0 & 0 & 0 & 0 & 0 & 0 & 0 & 0 & 0 & 0 & 0 & 0 & 0 & 0 & 0 & 0 & 0 & 0 & 0 & 0 & 0 & 0 & 0 & 0 & 0 & 0 & 0 & 0 & 0 & 0 & 0 & 0 & 0 & 0 & 0 & 0 & 0 & 0 & 0 & 0 & 0 & 0 & 0 & 0 & 0 & 0 & 0 & 0 & 0 & 0 & 0 & 0 & 0 & 0 & 0 & 0 & 0 & 0 & 0 & 0 & 0\\\\\n",
       "\\end{tabular}\n"
      ],
      "text/markdown": [
       "\n",
       "| <!--/--> | ASXL1 | ASXL2 | ASXL3 | ATRX | BAGE3 | BCOR | BRAF | CBFB | CBL | CDKN2A | CEBPA_bi | CEBPA_mono | CNTN5 | CREBBP | CSF1R | CSF3R | CTCF | CUL2 | CUX1 | DNMT3A | EED | ETV6 | EZH2 | FBXW7 | ITD | FLT3_TKD | FLT3_other | GATA1 | GATA2 | GNAS | GNB1 | IDH1 | IDH2_p.R140 | IDH2_p.R172 | JAK2 | JAK3 | KANSL1 | KDM6A | KIT | KMT2C | KMT2D | KMT2E | KRAS | LUC7L2 | MED12 | MLL | MPL | MYC | NF1 | NFE2 | NOTCH1 | NPM1 | NRAS_other | NRAS_p.G12_13 | NRAS_p.Q61_62 | PDS5B | PHF6 | PPFIA2 | PRPF8 | PTEN | PTPN11 | PTPRF | PTPRT | RAD21 | RIT1 | RUNX1 | S100B | SETBP1 | SF1 | SF3B1 | SMC1A | SMC3 | SMG1 | SPP1 | SRSF2 | STAG2 | STAT5B | SUZ12 | TET2 | TP53 | U2AF1 | WT1 | ZRSR2 | add_8 | add_11 | add_13 | add_21 | add_22 | del_20 | del_3 | del_5 | del_7 | del_9 | del_12 | del_13 | del_16 | del_17 | del_18 | minusy | t_v_11 | t_10_21 | t_12_13 | t_12_17 | t_12_22 | t_13_19 | t_15_16 | t_15_17 | t_16_17 | t_16_21 | t_17_19 | t_17_21 | t_1_12 | t_1_14 | t_1_16 | t_1_17 | t_1_19 | t_1_3 | t_1_4 | t_1_5 | t_1_6 | t_2_17 | t_2_3 | t_2_5 | t_2_7 | t_2_9 | t_3_16 | t_3_21 | t_3_5 | t_3_7 | t_3_9 | t_4_12 | t_4_21 | t_4_9 | t_5_12 | t_5_17 | t_5_9 | t_6_9 | t_7_16 | t_7_17 | t_7_8 | t_8_10 | t_8_13 | t_8_16 | t_8_17 | t_8_21 | t_9_11 | t_9_13 | t_9_17 | t_9_22 | complex | others_transloc |\n",
       "|---|---|---|---|---|---|---|---|---|---|---|---|---|---|---|---|---|---|---|---|---|---|---|---|---|---|---|---|---|---|---|---|---|---|---|---|---|---|---|---|---|---|---|---|---|---|---|---|---|---|---|---|---|---|---|---|---|---|---|---|---|---|---|---|---|---|---|---|---|---|---|---|---|---|---|---|---|---|---|---|---|---|---|---|---|---|---|---|---|---|---|---|---|---|---|---|---|---|---|---|---|---|---|---|---|---|---|---|---|---|---|---|---|---|---|---|---|---|---|---|---|---|---|---|---|---|---|---|---|---|---|---|---|---|---|---|---|---|---|---|---|---|---|---|---|---|---|---|---|---|---|---|\n",
       "| PD20337c | 0 | 0 | 0 | 0 | 0 | 0 | 0 | 0 | 0 | 0 | 0 | 0 | 0 | 0 | 0 | 0 | 0 | 0 | 0 | 1 | 0 | 0 | 0 | 0 | 0 | 0 | 0 | 0 | 0 | 0 | 0 | 0 | 0 | 1 | 0 | 0 | 0 | 0 | 0 | 0 | 0 | 0 | 0 | 0 | 0 | 0 | 0 | 0 | 0 | 0 | 0 | 0 | 0 | 0 | 0 | 0 | 0 | 0 | 0 | 0 | 0 | 0 | 0 | 0 | 0 | 0 | 0 | 0 | 0 | 0 | 0 | 0 | 0 | 0 | 0 | 0 | 0 | 0 | 0 | 0 | 0 | 0 | 0 | 0 | 0 | 0 | 0 | 0 | 0 | 0 | 0 | 0 | 0 | 0 | 0 | 0 | 0 | 0 | 0 | 0 | 0 | 0 | 0 | 0 | 0 | 0 | 0 | 0 | 0 | 0 | 0 | 0 | 0 | 0 | 0 | 0 | 0 | 0 | 0 | 0 | 0 | 0 | 0 | 0 | 0 | 0 | 0 | 0 | 0 | 0 | 0 | 0 | 0 | 0 | 0 | 0 | 0 | 0 | 0 | 0 | 0 | 0 | 0 | 0 | 0 | 0 | 0 | 0 | 0 | 0 | 0 |\n",
       "| PD20336a | 0 | 0 | 0 | 0 | 0 | 0 | 0 | 0 | 0 | 0 | 0 | 0 | 0 | 0 | 0 | 0 | 0 | 0 | 0 | 0 | 0 | 0 | 0 | 0 | 1 | 0 | 0 | 0 | 0 | 0 | 0 | 0 | 0 | 0 | 0 | 0 | 0 | 1 | 0 | 0 | 0 | 0 | 0 | 0 | 0 | 0 | 0 | 0 | 0 | 0 | 0 | 0 | 0 | 0 | 0 | 0 | 0 | 0 | 0 | 0 | 0 | 0 | 0 | 0 | 0 | 1 | 0 | 0 | 0 | 1 | 0 | 1 | 0 | 0 | 0 | 0 | 0 | 0 | 0 | 1 | 0 | 0 | 0 | 0 | 0 | 0 | 0 | 0 | 0 | 0 | 0 | 0 | 0 | 0 | 0 | 0 | 0 | 0 | 0 | 0 | 0 | 0 | 0 | 0 | 0 | 0 | 0 | 0 | 0 | 0 | 0 | 0 | 0 | 0 | 0 | 0 | 0 | 0 | 0 | 0 | 0 | 0 | 0 | 0 | 0 | 0 | 0 | 0 | 0 | 0 | 0 | 0 | 0 | 0 | 0 | 0 | 0 | 0 | 0 | 0 | 0 | 0 | 0 | 0 | 0 | 0 | 0 | 0 | 0 | 0 | 0 |\n",
       "| PD20334a | 0 | 0 | 0 | 0 | 0 | 0 | 0 | 0 | 0 | 0 | 0 | 1 | 0 | 0 | 0 | 0 | 0 | 0 | 0 | 0 | 0 | 0 | 0 | 0 | 1 | 0 | 0 | 0 | 0 | 0 | 0 | 0 | 0 | 0 | 0 | 0 | 0 | 0 | 0 | 0 | 0 | 0 | 0 | 0 | 0 | 1 | 0 | 0 | 0 | 0 | 0 | 0 | 0 | 0 | 0 | 0 | 0 | 0 | 0 | 0 | 0 | 0 | 0 | 0 | 0 | 1 | 0 | 0 | 0 | 0 | 0 | 0 | 0 | 0 | 0 | 0 | 0 | 0 | 1 | 0 | 0 | 1 | 0 | 0 | 0 | 0 | 0 | 0 | 0 | 0 | 0 | 0 | 0 | 0 | 0 | 0 | 0 | 0 | 0 | 0 | 0 | 0 | 0 | 0 | 0 | 0 | 0 | 0 | 0 | 0 | 0 | 0 | 0 | 0 | 0 | 0 | 0 | 0 | 0 | 0 | 0 | 0 | 0 | 0 | 0 | 0 | 0 | 0 | 0 | 0 | 0 | 0 | 0 | 0 | 0 | 0 | 0 | 0 | 0 | 0 | 0 | 0 | 0 | 0 | 0 | 0 | 0 | 0 | 0 | 0 | 0 |\n",
       "| PD20325a | 0 | 0 | 0 | 0 | 0 | 1 | 0 | 0 | 0 | 0 | 0 | 0 | 0 | 0 | 0 | 0 | 0 | 0 | 0 | 1 | 0 | 0 | 0 | 0 | 0 | 1 | 0 | 0 | 0 | 0 | 0 | 0 | 0 | 0 | 0 | 0 | 0 | 0 | 0 | 0 | 0 | 0 | 0 | 0 | 0 | 0 | 0 | 0 | 0 | 0 | 0 | 0 | 0 | 0 | 0 | 0 | 0 | 0 | 0 | 0 | 0 | 0 | 0 | 0 | 0 | 1 | 0 | 0 | 0 | 0 | 0 | 1 | 0 | 0 | 1 | 0 | 0 | 0 | 0 | 0 | 0 | 0 | 0 | 0 | 0 | 0 | 0 | 0 | 0 | 0 | 0 | 0 | 0 | 0 | 0 | 0 | 0 | 0 | 0 | 0 | 0 | 0 | 0 | 0 | 0 | 0 | 0 | 0 | 0 | 0 | 0 | 0 | 0 | 0 | 0 | 0 | 0 | 0 | 0 | 0 | 0 | 0 | 0 | 0 | 0 | 0 | 0 | 0 | 0 | 0 | 0 | 0 | 0 | 0 | 0 | 0 | 0 | 0 | 0 | 0 | 0 | 0 | 0 | 0 | 0 | 0 | 0 | 0 | 0 | 0 | 0 |\n",
       "| PD20324a | 0 | 0 | 0 | 0 | 0 | 0 | 0 | 0 | 0 | 0 | 0 | 0 | 0 | 0 | 0 | 0 | 0 | 0 | 0 | 0 | 0 | 0 | 0 | 0 | 0 | 0 | 0 | 0 | 0 | 0 | 0 | 0 | 0 | 0 | 0 | 0 | 0 | 0 | 0 | 0 | 0 | 0 | 1 | 0 | 0 | 0 | 0 | 0 | 0 | 0 | 0 | 0 | 0 | 0 | 0 | 0 | 0 | 0 | 0 | 0 | 0 | 0 | 0 | 0 | 0 | 0 | 0 | 0 | 0 | 0 | 0 | 0 | 0 | 0 | 1 | 0 | 0 | 0 | 1 | 0 | 0 | 0 | 0 | 0 | 0 | 0 | 0 | 0 | 0 | 0 | 0 | 0 | 0 | 0 | 0 | 0 | 0 | 0 | 0 | 0 | 0 | 0 | 0 | 0 | 0 | 0 | 0 | 0 | 0 | 0 | 0 | 0 | 0 | 0 | 0 | 0 | 0 | 0 | 0 | 0 | 0 | 0 | 0 | 0 | 0 | 0 | 0 | 0 | 0 | 0 | 0 | 0 | 0 | 0 | 0 | 0 | 0 | 0 | 0 | 0 | 0 | 0 | 0 | 0 | 0 | 0 | 0 | 0 | 0 | 0 | 0 |\n",
       "| PD20323a | 1 | 0 | 0 | 0 | 0 | 0 | 0 | 0 | 0 | 0 | 0 | 0 | 0 | 0 | 0 | 0 | 0 | 0 | 0 | 0 | 0 | 0 | 0 | 0 | 0 | 0 | 0 | 0 | 0 | 0 | 0 | 0 | 0 | 0 | 0 | 0 | 0 | 0 | 0 | 0 | 0 | 0 | 0 | 0 | 0 | 0 | 0 | 0 | 0 | 0 | 0 | 0 | 0 | 0 | 0 | 0 | 0 | 0 | 0 | 0 | 0 | 0 | 0 | 0 | 0 | 1 | 0 | 0 | 0 | 0 | 0 | 0 | 0 | 0 | 1 | 0 | 0 | 0 | 1 | 0 | 0 | 0 | 0 | 0 | 0 | 0 | 0 | 0 | 0 | 0 | 0 | 0 | 0 | 0 | 0 | 0 | 0 | 0 | 0 | 0 | 0 | 0 | 0 | 0 | 0 | 0 | 0 | 0 | 0 | 0 | 0 | 0 | 0 | 0 | 0 | 0 | 0 | 0 | 0 | 0 | 0 | 0 | 0 | 0 | 0 | 0 | 0 | 0 | 0 | 0 | 0 | 0 | 0 | 0 | 0 | 0 | 0 | 0 | 0 | 0 | 0 | 0 | 0 | 0 | 0 | 0 | 0 | 0 | 0 | 0 | 0 |\n",
       "\n"
      ],
      "text/plain": [
       "         ASXL1 ASXL2 ASXL3 ATRX BAGE3 BCOR BRAF CBFB CBL CDKN2A CEBPA_bi\n",
       "PD20337c 0     0     0     0    0     0    0    0    0   0      0       \n",
       "PD20336a 0     0     0     0    0     0    0    0    0   0      0       \n",
       "PD20334a 0     0     0     0    0     0    0    0    0   0      0       \n",
       "PD20325a 0     0     0     0    0     1    0    0    0   0      0       \n",
       "PD20324a 0     0     0     0    0     0    0    0    0   0      0       \n",
       "PD20323a 1     0     0     0    0     0    0    0    0   0      0       \n",
       "         CEBPA_mono CNTN5 CREBBP CSF1R CSF3R CTCF CUL2 CUX1 DNMT3A EED ETV6\n",
       "PD20337c 0          0     0      0     0     0    0    0    1      0   0   \n",
       "PD20336a 0          0     0      0     0     0    0    0    0      0   0   \n",
       "PD20334a 1          0     0      0     0     0    0    0    0      0   0   \n",
       "PD20325a 0          0     0      0     0     0    0    0    1      0   0   \n",
       "PD20324a 0          0     0      0     0     0    0    0    0      0   0   \n",
       "PD20323a 0          0     0      0     0     0    0    0    0      0   0   \n",
       "         EZH2 FBXW7 ITD FLT3_TKD FLT3_other GATA1 GATA2 GNAS GNB1 IDH1\n",
       "PD20337c 0    0     0   0        0          0     0     0    0    0   \n",
       "PD20336a 0    0     1   0        0          0     0     0    0    0   \n",
       "PD20334a 0    0     1   0        0          0     0     0    0    0   \n",
       "PD20325a 0    0     0   1        0          0     0     0    0    0   \n",
       "PD20324a 0    0     0   0        0          0     0     0    0    0   \n",
       "PD20323a 0    0     0   0        0          0     0     0    0    0   \n",
       "         IDH2_p.R140 IDH2_p.R172 JAK2 JAK3 KANSL1 KDM6A KIT KMT2C KMT2D KMT2E\n",
       "PD20337c 0           1           0    0    0      0     0   0     0     0    \n",
       "PD20336a 0           0           0    0    0      1     0   0     0     0    \n",
       "PD20334a 0           0           0    0    0      0     0   0     0     0    \n",
       "PD20325a 0           0           0    0    0      0     0   0     0     0    \n",
       "PD20324a 0           0           0    0    0      0     0   0     0     0    \n",
       "PD20323a 0           0           0    0    0      0     0   0     0     0    \n",
       "         KRAS LUC7L2 MED12 MLL MPL MYC NF1 NFE2 NOTCH1 NPM1 NRAS_other\n",
       "PD20337c 0    0      0     0   0   0   0   0    0      0    0         \n",
       "PD20336a 0    0      0     0   0   0   0   0    0      0    0         \n",
       "PD20334a 0    0      0     1   0   0   0   0    0      0    0         \n",
       "PD20325a 0    0      0     0   0   0   0   0    0      0    0         \n",
       "PD20324a 1    0      0     0   0   0   0   0    0      0    0         \n",
       "PD20323a 0    0      0     0   0   0   0   0    0      0    0         \n",
       "         NRAS_p.G12_13 NRAS_p.Q61_62 PDS5B PHF6 PPFIA2 PRPF8 PTEN PTPN11 PTPRF\n",
       "PD20337c 0             0             0     0    0      0     0    0      0    \n",
       "PD20336a 0             0             0     0    0      0     0    0      0    \n",
       "PD20334a 0             0             0     0    0      0     0    0      0    \n",
       "PD20325a 0             0             0     0    0      0     0    0      0    \n",
       "PD20324a 0             0             0     0    0      0     0    0      0    \n",
       "PD20323a 0             0             0     0    0      0     0    0      0    \n",
       "         PTPRT RAD21 RIT1 RUNX1 S100B SETBP1 SF1 SF3B1 SMC1A SMC3 SMG1 SPP1\n",
       "PD20337c 0     0     0    0     0     0      0   0     0     0    0    0   \n",
       "PD20336a 0     0     0    1     0     0      0   1     0     1    0    0   \n",
       "PD20334a 0     0     0    1     0     0      0   0     0     0    0    0   \n",
       "PD20325a 0     0     0    1     0     0      0   0     0     1    0    0   \n",
       "PD20324a 0     0     0    0     0     0      0   0     0     0    0    0   \n",
       "PD20323a 0     0     0    1     0     0      0   0     0     0    0    0   \n",
       "         SRSF2 STAG2 STAT5B SUZ12 TET2 TP53 U2AF1 WT1 ZRSR2 add_8 add_11 add_13\n",
       "PD20337c 0     0     0      0     0    0    0     0   0     0     0      0     \n",
       "PD20336a 0     0     0      0     0    1    0     0   0     0     0      0     \n",
       "PD20334a 0     0     0      0     1    0    0     1   0     0     0      0     \n",
       "PD20325a 1     0     0      0     0    0    0     0   0     0     0      0     \n",
       "PD20324a 1     0     0      0     1    0    0     0   0     0     0      0     \n",
       "PD20323a 1     0     0      0     1    0    0     0   0     0     0      0     \n",
       "         add_21 add_22 del_20 del_3 del_5 del_7 del_9 del_12 del_13 del_16\n",
       "PD20337c 0      0      0      0     0     0     0     0      0      0     \n",
       "PD20336a 0      0      0      0     0     0     0     0      0      0     \n",
       "PD20334a 0      0      0      0     0     0     0     0      0      0     \n",
       "PD20325a 0      0      0      0     0     0     0     0      0      0     \n",
       "PD20324a 0      0      0      0     0     0     0     0      0      0     \n",
       "PD20323a 0      0      0      0     0     0     0     0      0      0     \n",
       "         del_17 del_18 minusy t_v_11 t_10_21 t_12_13 t_12_17 t_12_22 t_13_19\n",
       "PD20337c 0      0      0      0      0       0       0       0       0      \n",
       "PD20336a 0      0      0      0      0       0       0       0       0      \n",
       "PD20334a 0      0      0      0      0       0       0       0       0      \n",
       "PD20325a 0      0      0      0      0       0       0       0       0      \n",
       "PD20324a 0      0      0      0      0       0       0       0       0      \n",
       "PD20323a 0      0      0      0      0       0       0       0       0      \n",
       "         t_15_16 t_15_17 t_16_17 t_16_21 t_17_19 t_17_21 t_1_12 t_1_14 t_1_16\n",
       "PD20337c 0       0       0       0       0       0       0      0      0     \n",
       "PD20336a 0       0       0       0       0       0       0      0      0     \n",
       "PD20334a 0       0       0       0       0       0       0      0      0     \n",
       "PD20325a 0       0       0       0       0       0       0      0      0     \n",
       "PD20324a 0       0       0       0       0       0       0      0      0     \n",
       "PD20323a 0       0       0       0       0       0       0      0      0     \n",
       "         t_1_17 t_1_19 t_1_3 t_1_4 t_1_5 t_1_6 t_2_17 t_2_3 t_2_5 t_2_7 t_2_9\n",
       "PD20337c 0      0      0     0     0     0     0      0     0     0     0    \n",
       "PD20336a 0      0      0     0     0     0     0      0     0     0     0    \n",
       "PD20334a 0      0      0     0     0     0     0      0     0     0     0    \n",
       "PD20325a 0      0      0     0     0     0     0      0     0     0     0    \n",
       "PD20324a 0      0      0     0     0     0     0      0     0     0     0    \n",
       "PD20323a 0      0      0     0     0     0     0      0     0     0     0    \n",
       "         t_3_16 t_3_21 t_3_5 t_3_7 t_3_9 t_4_12 t_4_21 t_4_9 t_5_12 t_5_17\n",
       "PD20337c 0      0      0     0     0     0      0      0     0      0     \n",
       "PD20336a 0      0      0     0     0     0      0      0     0      0     \n",
       "PD20334a 0      0      0     0     0     0      0      0     0      0     \n",
       "PD20325a 0      0      0     0     0     0      0      0     0      0     \n",
       "PD20324a 0      0      0     0     0     0      0      0     0      0     \n",
       "PD20323a 0      0      0     0     0     0      0      0     0      0     \n",
       "         t_5_9 t_6_9 t_7_16 t_7_17 t_7_8 t_8_10 t_8_13 t_8_16 t_8_17 t_8_21\n",
       "PD20337c 0     0     0      0      0     0      0      0      0      0     \n",
       "PD20336a 0     0     0      0      0     0      0      0      0      0     \n",
       "PD20334a 0     0     0      0      0     0      0      0      0      0     \n",
       "PD20325a 0     0     0      0      0     0      0      0      0      0     \n",
       "PD20324a 0     0     0      0      0     0      0      0      0      0     \n",
       "PD20323a 0     0     0      0      0     0      0      0      0      0     \n",
       "         t_9_11 t_9_13 t_9_17 t_9_22 complex others_transloc\n",
       "PD20337c 0      0      0      0      0       0              \n",
       "PD20336a 0      0      0      0      0       0              \n",
       "PD20334a 0      0      0      0      0       0              \n",
       "PD20325a 0      0      0      0      0       0              \n",
       "PD20324a 0      0      0      0      0       0              \n",
       "PD20323a 0      0      0      0      0       0              "
      ]
     },
     "metadata": {},
     "output_type": "display_data"
    }
   ],
   "source": [
    "head(df_to_recluster)"
   ]
  },
  {
   "cell_type": "code",
   "execution_count": 5,
   "metadata": {},
   "outputs": [
    {
     "data": {
      "text/html": [
       "<table>\n",
       "<thead><tr><th></th><th scope=col>ASXL1</th><th scope=col>ASXL2</th><th scope=col>ASXL3</th><th scope=col>ATRX</th><th scope=col>BAGE3</th><th scope=col>BCOR</th><th scope=col>BRAF</th><th scope=col>CBFB</th><th scope=col>CBL</th><th scope=col>CDKN2A</th><th scope=col>CEBPA_bi</th><th scope=col>CEBPA_mono</th><th scope=col>CNTN5</th><th scope=col>CREBBP</th><th scope=col>CSF1R</th><th scope=col>CSF3R</th><th scope=col>CTCF</th><th scope=col>CUL2</th><th scope=col>CUX1</th><th scope=col>DNMT3A</th><th scope=col>EED</th><th scope=col>ETV6</th><th scope=col>EZH2</th><th scope=col>FBXW7</th><th scope=col>ITD</th><th scope=col>FLT3_TKD</th><th scope=col>FLT3_other</th><th scope=col>GATA1</th><th scope=col>GATA2</th><th scope=col>GNAS</th><th scope=col>GNB1</th><th scope=col>IDH1</th><th scope=col>IDH2_p.R140</th><th scope=col>IDH2_p.R172</th><th scope=col>JAK2</th><th scope=col>JAK3</th><th scope=col>KANSL1</th><th scope=col>KDM6A</th><th scope=col>KIT</th><th scope=col>KMT2C</th><th scope=col>KMT2D</th><th scope=col>KMT2E</th><th scope=col>KRAS</th><th scope=col>LUC7L2</th><th scope=col>MED12</th><th scope=col>MLL</th><th scope=col>MPL</th><th scope=col>MYC</th><th scope=col>NF1</th><th scope=col>NFE2</th><th scope=col>NOTCH1</th><th scope=col>NPM1</th><th scope=col>NRAS_other</th><th scope=col>NRAS_p.G12_13</th><th scope=col>NRAS_p.Q61_62</th><th scope=col>PDS5B</th><th scope=col>PHF6</th><th scope=col>PPFIA2</th><th scope=col>PRPF8</th><th scope=col>PTEN</th><th scope=col>PTPN11</th><th scope=col>PTPRF</th><th scope=col>PTPRT</th><th scope=col>RAD21</th><th scope=col>RIT1</th><th scope=col>RUNX1</th><th scope=col>S100B</th><th scope=col>SETBP1</th><th scope=col>SF1</th><th scope=col>SF3B1</th><th scope=col>SMC1A</th><th scope=col>SMC3</th><th scope=col>SMG1</th><th scope=col>SPP1</th><th scope=col>SRSF2</th><th scope=col>STAG2</th><th scope=col>STAT5B</th><th scope=col>SUZ12</th><th scope=col>TET2</th><th scope=col>TP53</th><th scope=col>U2AF1</th><th scope=col>WT1</th><th scope=col>ZRSR2</th><th scope=col>add_8</th><th scope=col>add_11</th><th scope=col>add_13</th><th scope=col>add_21</th><th scope=col>add_22</th><th scope=col>del_20</th><th scope=col>del_3</th><th scope=col>del_5</th><th scope=col>del_7</th><th scope=col>del_9</th><th scope=col>del_12</th><th scope=col>del_13</th><th scope=col>del_16</th><th scope=col>del_17</th><th scope=col>del_18</th><th scope=col>minusy</th><th scope=col>t_v_11</th><th scope=col>t_10_21</th><th scope=col>t_12_13</th><th scope=col>t_12_17</th><th scope=col>t_12_22</th><th scope=col>t_13_19</th><th scope=col>t_15_16</th><th scope=col>t_15_17</th><th scope=col>t_16_17</th><th scope=col>t_16_21</th><th scope=col>t_17_19</th><th scope=col>t_17_21</th><th scope=col>t_1_12</th><th scope=col>t_1_14</th><th scope=col>t_1_16</th><th scope=col>t_1_17</th><th scope=col>t_1_19</th><th scope=col>t_1_3</th><th scope=col>t_1_4</th><th scope=col>t_1_5</th><th scope=col>t_1_6</th><th scope=col>t_2_17</th><th scope=col>t_2_3</th><th scope=col>t_2_5</th><th scope=col>t_2_7</th><th scope=col>t_2_9</th><th scope=col>t_3_16</th><th scope=col>t_3_21</th><th scope=col>t_3_5</th><th scope=col>t_3_7</th><th scope=col>t_3_9</th><th scope=col>t_4_12</th><th scope=col>t_4_21</th><th scope=col>t_4_9</th><th scope=col>t_5_12</th><th scope=col>t_5_17</th><th scope=col>t_5_9</th><th scope=col>t_6_9</th><th scope=col>t_7_16</th><th scope=col>t_7_17</th><th scope=col>t_7_8</th><th scope=col>t_8_10</th><th scope=col>t_8_13</th><th scope=col>t_8_16</th><th scope=col>t_8_17</th><th scope=col>t_8_21</th><th scope=col>t_9_11</th><th scope=col>t_9_13</th><th scope=col>t_9_17</th><th scope=col>t_9_22</th><th scope=col>complex</th><th scope=col>others_transloc</th></tr></thead>\n",
       "<tbody>\n",
       "\t<tr><th scope=row>PD25623a</th><td>0</td><td>0</td><td>0</td><td>0</td><td>0</td><td>0</td><td>0</td><td>0</td><td>0</td><td>0</td><td>0</td><td>0</td><td>0</td><td>0</td><td>0</td><td>0</td><td>0</td><td>0</td><td>0</td><td>0</td><td>0</td><td>0</td><td>0</td><td>0</td><td>0</td><td>0</td><td>0</td><td>0</td><td>0</td><td>0</td><td>0</td><td>0</td><td>0</td><td>0</td><td>0</td><td>0</td><td>0</td><td>0</td><td>0</td><td>0</td><td>0</td><td>0</td><td>1</td><td>0</td><td>0</td><td>0</td><td>0</td><td>0</td><td>0</td><td>0</td><td>0</td><td>1</td><td>0</td><td>1</td><td>0</td><td>0</td><td>0</td><td>0</td><td>0</td><td>0</td><td>0</td><td>0</td><td>0</td><td>0</td><td>0</td><td>0</td><td>0</td><td>0</td><td>0</td><td>0</td><td>0</td><td>0</td><td>0</td><td>0</td><td>0</td><td>0</td><td>0</td><td>0</td><td>0</td><td>0</td><td>0</td><td>0</td><td>0</td><td>0</td><td>0</td><td>0</td><td>1</td><td>0</td><td>0</td><td>0</td><td>0</td><td>0</td><td>0</td><td>0</td><td>0</td><td>0</td><td>0</td><td>0</td><td>0</td><td>0</td><td>0</td><td>0</td><td>0</td><td>0</td><td>0</td><td>0</td><td>0</td><td>0</td><td>0</td><td>0</td><td>0</td><td>0</td><td>0</td><td>0</td><td>0</td><td>0</td><td>0</td><td>0</td><td>0</td><td>0</td><td>0</td><td>0</td><td>0</td><td>0</td><td>0</td><td>0</td><td>0</td><td>0</td><td>0</td><td>0</td><td>0</td><td>0</td><td>0</td><td>0</td><td>0</td><td>0</td><td>0</td><td>0</td><td>0</td><td>0</td><td>0</td><td>0</td><td>0</td><td>0</td><td>0</td><td>0</td><td>0</td><td>0</td><td>0</td><td>0</td><td>0</td></tr>\n",
       "\t<tr><th scope=row>PD25624c</th><td>0</td><td>0</td><td>0</td><td>0</td><td>0</td><td>0</td><td>0</td><td>0</td><td>0</td><td>0</td><td>0</td><td>0</td><td>0</td><td>0</td><td>0</td><td>0</td><td>0</td><td>0</td><td>0</td><td>0</td><td>0</td><td>0</td><td>0</td><td>0</td><td>0</td><td>0</td><td>0</td><td>0</td><td>0</td><td>0</td><td>0</td><td>0</td><td>0</td><td>0</td><td>0</td><td>0</td><td>0</td><td>0</td><td>0</td><td>0</td><td>0</td><td>0</td><td>0</td><td>0</td><td>0</td><td>0</td><td>0</td><td>0</td><td>0</td><td>0</td><td>0</td><td>0</td><td>0</td><td>0</td><td>0</td><td>0</td><td>0</td><td>0</td><td>0</td><td>0</td><td>0</td><td>0</td><td>0</td><td>0</td><td>0</td><td>0</td><td>0</td><td>0</td><td>0</td><td>0</td><td>0</td><td>0</td><td>0</td><td>0</td><td>0</td><td>0</td><td>0</td><td>0</td><td>0</td><td>1</td><td>0</td><td>0</td><td>0</td><td>0</td><td>0</td><td>0</td><td>0</td><td>0</td><td>1</td><td>0</td><td>1</td><td>0</td><td>0</td><td>0</td><td>0</td><td>1</td><td>0</td><td>1</td><td>0</td><td>0</td><td>0</td><td>0</td><td>0</td><td>0</td><td>0</td><td>0</td><td>0</td><td>0</td><td>0</td><td>0</td><td>0</td><td>0</td><td>0</td><td>0</td><td>0</td><td>0</td><td>0</td><td>0</td><td>0</td><td>0</td><td>0</td><td>0</td><td>0</td><td>0</td><td>0</td><td>0</td><td>0</td><td>0</td><td>0</td><td>0</td><td>0</td><td>0</td><td>0</td><td>0</td><td>0</td><td>0</td><td>0</td><td>0</td><td>0</td><td>0</td><td>0</td><td>0</td><td>0</td><td>0</td><td>0</td><td>0</td><td>0</td><td>0</td><td>0</td><td>1</td><td>0</td></tr>\n",
       "\t<tr><th scope=row>PD25625a</th><td>0</td><td>0</td><td>0</td><td>0</td><td>0</td><td>0</td><td>0</td><td>0</td><td>0</td><td>0</td><td>0</td><td>0</td><td>0</td><td>0</td><td>0</td><td>0</td><td>0</td><td>0</td><td>0</td><td>0</td><td>0</td><td>0</td><td>0</td><td>0</td><td>0</td><td>0</td><td>0</td><td>0</td><td>0</td><td>0</td><td>0</td><td>0</td><td>0</td><td>0</td><td>0</td><td>0</td><td>0</td><td>0</td><td>0</td><td>0</td><td>0</td><td>0</td><td>0</td><td>0</td><td>0</td><td>0</td><td>0</td><td>0</td><td>0</td><td>0</td><td>0</td><td>0</td><td>0</td><td>0</td><td>0</td><td>0</td><td>0</td><td>0</td><td>0</td><td>0</td><td>0</td><td>0</td><td>0</td><td>0</td><td>0</td><td>1</td><td>0</td><td>0</td><td>0</td><td>0</td><td>0</td><td>0</td><td>0</td><td>0</td><td>0</td><td>0</td><td>0</td><td>0</td><td>0</td><td>1</td><td>0</td><td>0</td><td>0</td><td>0</td><td>0</td><td>0</td><td>0</td><td>0</td><td>0</td><td>0</td><td>1</td><td>1</td><td>0</td><td>1</td><td>1</td><td>1</td><td>0</td><td>0</td><td>0</td><td>0</td><td>0</td><td>0</td><td>0</td><td>0</td><td>1</td><td>0</td><td>0</td><td>0</td><td>0</td><td>0</td><td>0</td><td>0</td><td>0</td><td>0</td><td>0</td><td>0</td><td>0</td><td>0</td><td>0</td><td>0</td><td>0</td><td>0</td><td>0</td><td>0</td><td>0</td><td>0</td><td>0</td><td>0</td><td>0</td><td>0</td><td>0</td><td>0</td><td>0</td><td>0</td><td>0</td><td>0</td><td>0</td><td>0</td><td>0</td><td>0</td><td>0</td><td>0</td><td>0</td><td>0</td><td>0</td><td>0</td><td>0</td><td>0</td><td>0</td><td>1</td><td>1</td></tr>\n",
       "\t<tr><th scope=row>PD25626c</th><td>0</td><td>0</td><td>0</td><td>0</td><td>0</td><td>0</td><td>0</td><td>0</td><td>0</td><td>0</td><td>0</td><td>0</td><td>0</td><td>0</td><td>0</td><td>0</td><td>0</td><td>0</td><td>0</td><td>0</td><td>0</td><td>0</td><td>0</td><td>0</td><td>0</td><td>0</td><td>0</td><td>0</td><td>0</td><td>0</td><td>0</td><td>0</td><td>0</td><td>0</td><td>0</td><td>0</td><td>0</td><td>0</td><td>0</td><td>0</td><td>0</td><td>0</td><td>0</td><td>0</td><td>0</td><td>0</td><td>0</td><td>0</td><td>0</td><td>0</td><td>0</td><td>0</td><td>0</td><td>0</td><td>0</td><td>0</td><td>0</td><td>0</td><td>0</td><td>0</td><td>0</td><td>0</td><td>0</td><td>0</td><td>0</td><td>1</td><td>0</td><td>0</td><td>0</td><td>0</td><td>0</td><td>0</td><td>0</td><td>0</td><td>1</td><td>1</td><td>0</td><td>0</td><td>1</td><td>0</td><td>0</td><td>0</td><td>0</td><td>0</td><td>0</td><td>0</td><td>0</td><td>0</td><td>0</td><td>0</td><td>0</td><td>0</td><td>0</td><td>0</td><td>0</td><td>0</td><td>0</td><td>0</td><td>0</td><td>0</td><td>0</td><td>0</td><td>0</td><td>0</td><td>0</td><td>0</td><td>0</td><td>0</td><td>0</td><td>0</td><td>0</td><td>0</td><td>0</td><td>0</td><td>0</td><td>0</td><td>0</td><td>0</td><td>0</td><td>0</td><td>0</td><td>0</td><td>0</td><td>0</td><td>0</td><td>0</td><td>0</td><td>0</td><td>0</td><td>0</td><td>0</td><td>0</td><td>0</td><td>0</td><td>0</td><td>0</td><td>0</td><td>0</td><td>0</td><td>0</td><td>0</td><td>0</td><td>0</td><td>0</td><td>0</td><td>0</td><td>0</td><td>0</td><td>0</td><td>0</td><td>0</td></tr>\n",
       "\t<tr><th scope=row>PD25627a</th><td>0</td><td>0</td><td>0</td><td>0</td><td>0</td><td>0</td><td>0</td><td>0</td><td>0</td><td>0</td><td>0</td><td>0</td><td>0</td><td>0</td><td>0</td><td>0</td><td>1</td><td>0</td><td>0</td><td>0</td><td>0</td><td>0</td><td>0</td><td>0</td><td>0</td><td>0</td><td>0</td><td>0</td><td>0</td><td>0</td><td>0</td><td>0</td><td>0</td><td>0</td><td>0</td><td>0</td><td>0</td><td>0</td><td>0</td><td>0</td><td>0</td><td>0</td><td>0</td><td>0</td><td>0</td><td>0</td><td>0</td><td>0</td><td>1</td><td>0</td><td>0</td><td>0</td><td>0</td><td>0</td><td>0</td><td>0</td><td>0</td><td>0</td><td>0</td><td>0</td><td>0</td><td>0</td><td>0</td><td>0</td><td>0</td><td>0</td><td>0</td><td>0</td><td>0</td><td>0</td><td>0</td><td>0</td><td>0</td><td>0</td><td>0</td><td>0</td><td>0</td><td>0</td><td>0</td><td>1</td><td>0</td><td>0</td><td>0</td><td>0</td><td>0</td><td>0</td><td>0</td><td>0</td><td>0</td><td>0</td><td>1</td><td>1</td><td>0</td><td>0</td><td>0</td><td>0</td><td>0</td><td>0</td><td>0</td><td>1</td><td>0</td><td>0</td><td>0</td><td>0</td><td>0</td><td>0</td><td>0</td><td>0</td><td>0</td><td>0</td><td>0</td><td>0</td><td>0</td><td>0</td><td>0</td><td>0</td><td>0</td><td>0</td><td>0</td><td>0</td><td>0</td><td>0</td><td>0</td><td>0</td><td>0</td><td>0</td><td>0</td><td>0</td><td>0</td><td>0</td><td>0</td><td>0</td><td>0</td><td>0</td><td>0</td><td>0</td><td>0</td><td>0</td><td>0</td><td>0</td><td>0</td><td>0</td><td>0</td><td>0</td><td>0</td><td>0</td><td>0</td><td>0</td><td>0</td><td>1</td><td>0</td></tr>\n",
       "\t<tr><th scope=row>PD25629c</th><td>0</td><td>0</td><td>0</td><td>0</td><td>0</td><td>0</td><td>0</td><td>0</td><td>0</td><td>0</td><td>0</td><td>0</td><td>0</td><td>0</td><td>0</td><td>0</td><td>0</td><td>0</td><td>0</td><td>0</td><td>0</td><td>0</td><td>0</td><td>0</td><td>0</td><td>0</td><td>0</td><td>0</td><td>0</td><td>0</td><td>0</td><td>0</td><td>0</td><td>0</td><td>0</td><td>0</td><td>0</td><td>0</td><td>0</td><td>0</td><td>0</td><td>0</td><td>0</td><td>0</td><td>0</td><td>0</td><td>0</td><td>0</td><td>0</td><td>0</td><td>0</td><td>0</td><td>0</td><td>0</td><td>0</td><td>0</td><td>0</td><td>0</td><td>0</td><td>0</td><td>0</td><td>0</td><td>0</td><td>0</td><td>0</td><td>0</td><td>0</td><td>0</td><td>0</td><td>0</td><td>0</td><td>0</td><td>0</td><td>0</td><td>0</td><td>0</td><td>0</td><td>0</td><td>1</td><td>1</td><td>0</td><td>0</td><td>0</td><td>0</td><td>0</td><td>0</td><td>0</td><td>1</td><td>0</td><td>0</td><td>0</td><td>1</td><td>0</td><td>0</td><td>1</td><td>1</td><td>1</td><td>0</td><td>0</td><td>0</td><td>0</td><td>0</td><td>0</td><td>0</td><td>0</td><td>0</td><td>0</td><td>0</td><td>0</td><td>0</td><td>0</td><td>0</td><td>0</td><td>0</td><td>0</td><td>0</td><td>0</td><td>0</td><td>0</td><td>0</td><td>0</td><td>0</td><td>0</td><td>0</td><td>0</td><td>0</td><td>0</td><td>0</td><td>0</td><td>0</td><td>0</td><td>0</td><td>0</td><td>0</td><td>0</td><td>0</td><td>0</td><td>0</td><td>0</td><td>0</td><td>0</td><td>0</td><td>0</td><td>0</td><td>0</td><td>0</td><td>0</td><td>0</td><td>0</td><td>1</td><td>0</td></tr>\n",
       "</tbody>\n",
       "</table>\n"
      ],
      "text/latex": [
       "\\begin{tabular}{r|lllllllllllllllllllllllllllllllllllllllllllllllllllllllllllllllllllllllllllllllllllllllllllllllllllllllllllllllllllllllllllllllllllllllllllllllllllllll}\n",
       "  & ASXL1 & ASXL2 & ASXL3 & ATRX & BAGE3 & BCOR & BRAF & CBFB & CBL & CDKN2A & CEBPA\\_bi & CEBPA\\_mono & CNTN5 & CREBBP & CSF1R & CSF3R & CTCF & CUL2 & CUX1 & DNMT3A & EED & ETV6 & EZH2 & FBXW7 & ITD & FLT3\\_TKD & FLT3\\_other & GATA1 & GATA2 & GNAS & GNB1 & IDH1 & IDH2\\_p.R140 & IDH2\\_p.R172 & JAK2 & JAK3 & KANSL1 & KDM6A & KIT & KMT2C & KMT2D & KMT2E & KRAS & LUC7L2 & MED12 & MLL & MPL & MYC & NF1 & NFE2 & NOTCH1 & NPM1 & NRAS\\_other & NRAS\\_p.G12\\_13 & NRAS\\_p.Q61\\_62 & PDS5B & PHF6 & PPFIA2 & PRPF8 & PTEN & PTPN11 & PTPRF & PTPRT & RAD21 & RIT1 & RUNX1 & S100B & SETBP1 & SF1 & SF3B1 & SMC1A & SMC3 & SMG1 & SPP1 & SRSF2 & STAG2 & STAT5B & SUZ12 & TET2 & TP53 & U2AF1 & WT1 & ZRSR2 & add\\_8 & add\\_11 & add\\_13 & add\\_21 & add\\_22 & del\\_20 & del\\_3 & del\\_5 & del\\_7 & del\\_9 & del\\_12 & del\\_13 & del\\_16 & del\\_17 & del\\_18 & minusy & t\\_v\\_11 & t\\_10\\_21 & t\\_12\\_13 & t\\_12\\_17 & t\\_12\\_22 & t\\_13\\_19 & t\\_15\\_16 & t\\_15\\_17 & t\\_16\\_17 & t\\_16\\_21 & t\\_17\\_19 & t\\_17\\_21 & t\\_1\\_12 & t\\_1\\_14 & t\\_1\\_16 & t\\_1\\_17 & t\\_1\\_19 & t\\_1\\_3 & t\\_1\\_4 & t\\_1\\_5 & t\\_1\\_6 & t\\_2\\_17 & t\\_2\\_3 & t\\_2\\_5 & t\\_2\\_7 & t\\_2\\_9 & t\\_3\\_16 & t\\_3\\_21 & t\\_3\\_5 & t\\_3\\_7 & t\\_3\\_9 & t\\_4\\_12 & t\\_4\\_21 & t\\_4\\_9 & t\\_5\\_12 & t\\_5\\_17 & t\\_5\\_9 & t\\_6\\_9 & t\\_7\\_16 & t\\_7\\_17 & t\\_7\\_8 & t\\_8\\_10 & t\\_8\\_13 & t\\_8\\_16 & t\\_8\\_17 & t\\_8\\_21 & t\\_9\\_11 & t\\_9\\_13 & t\\_9\\_17 & t\\_9\\_22 & complex & others\\_transloc\\\\\n",
       "\\hline\n",
       "\tPD25623a & 0 & 0 & 0 & 0 & 0 & 0 & 0 & 0 & 0 & 0 & 0 & 0 & 0 & 0 & 0 & 0 & 0 & 0 & 0 & 0 & 0 & 0 & 0 & 0 & 0 & 0 & 0 & 0 & 0 & 0 & 0 & 0 & 0 & 0 & 0 & 0 & 0 & 0 & 0 & 0 & 0 & 0 & 1 & 0 & 0 & 0 & 0 & 0 & 0 & 0 & 0 & 1 & 0 & 1 & 0 & 0 & 0 & 0 & 0 & 0 & 0 & 0 & 0 & 0 & 0 & 0 & 0 & 0 & 0 & 0 & 0 & 0 & 0 & 0 & 0 & 0 & 0 & 0 & 0 & 0 & 0 & 0 & 0 & 0 & 0 & 0 & 1 & 0 & 0 & 0 & 0 & 0 & 0 & 0 & 0 & 0 & 0 & 0 & 0 & 0 & 0 & 0 & 0 & 0 & 0 & 0 & 0 & 0 & 0 & 0 & 0 & 0 & 0 & 0 & 0 & 0 & 0 & 0 & 0 & 0 & 0 & 0 & 0 & 0 & 0 & 0 & 0 & 0 & 0 & 0 & 0 & 0 & 0 & 0 & 0 & 0 & 0 & 0 & 0 & 0 & 0 & 0 & 0 & 0 & 0 & 0 & 0 & 0 & 0 & 0 & 0\\\\\n",
       "\tPD25624c & 0 & 0 & 0 & 0 & 0 & 0 & 0 & 0 & 0 & 0 & 0 & 0 & 0 & 0 & 0 & 0 & 0 & 0 & 0 & 0 & 0 & 0 & 0 & 0 & 0 & 0 & 0 & 0 & 0 & 0 & 0 & 0 & 0 & 0 & 0 & 0 & 0 & 0 & 0 & 0 & 0 & 0 & 0 & 0 & 0 & 0 & 0 & 0 & 0 & 0 & 0 & 0 & 0 & 0 & 0 & 0 & 0 & 0 & 0 & 0 & 0 & 0 & 0 & 0 & 0 & 0 & 0 & 0 & 0 & 0 & 0 & 0 & 0 & 0 & 0 & 0 & 0 & 0 & 0 & 1 & 0 & 0 & 0 & 0 & 0 & 0 & 0 & 0 & 1 & 0 & 1 & 0 & 0 & 0 & 0 & 1 & 0 & 1 & 0 & 0 & 0 & 0 & 0 & 0 & 0 & 0 & 0 & 0 & 0 & 0 & 0 & 0 & 0 & 0 & 0 & 0 & 0 & 0 & 0 & 0 & 0 & 0 & 0 & 0 & 0 & 0 & 0 & 0 & 0 & 0 & 0 & 0 & 0 & 0 & 0 & 0 & 0 & 0 & 0 & 0 & 0 & 0 & 0 & 0 & 0 & 0 & 0 & 0 & 0 & 1 & 0\\\\\n",
       "\tPD25625a & 0 & 0 & 0 & 0 & 0 & 0 & 0 & 0 & 0 & 0 & 0 & 0 & 0 & 0 & 0 & 0 & 0 & 0 & 0 & 0 & 0 & 0 & 0 & 0 & 0 & 0 & 0 & 0 & 0 & 0 & 0 & 0 & 0 & 0 & 0 & 0 & 0 & 0 & 0 & 0 & 0 & 0 & 0 & 0 & 0 & 0 & 0 & 0 & 0 & 0 & 0 & 0 & 0 & 0 & 0 & 0 & 0 & 0 & 0 & 0 & 0 & 0 & 0 & 0 & 0 & 1 & 0 & 0 & 0 & 0 & 0 & 0 & 0 & 0 & 0 & 0 & 0 & 0 & 0 & 1 & 0 & 0 & 0 & 0 & 0 & 0 & 0 & 0 & 0 & 0 & 1 & 1 & 0 & 1 & 1 & 1 & 0 & 0 & 0 & 0 & 0 & 0 & 0 & 0 & 1 & 0 & 0 & 0 & 0 & 0 & 0 & 0 & 0 & 0 & 0 & 0 & 0 & 0 & 0 & 0 & 0 & 0 & 0 & 0 & 0 & 0 & 0 & 0 & 0 & 0 & 0 & 0 & 0 & 0 & 0 & 0 & 0 & 0 & 0 & 0 & 0 & 0 & 0 & 0 & 0 & 0 & 0 & 0 & 0 & 1 & 1\\\\\n",
       "\tPD25626c & 0 & 0 & 0 & 0 & 0 & 0 & 0 & 0 & 0 & 0 & 0 & 0 & 0 & 0 & 0 & 0 & 0 & 0 & 0 & 0 & 0 & 0 & 0 & 0 & 0 & 0 & 0 & 0 & 0 & 0 & 0 & 0 & 0 & 0 & 0 & 0 & 0 & 0 & 0 & 0 & 0 & 0 & 0 & 0 & 0 & 0 & 0 & 0 & 0 & 0 & 0 & 0 & 0 & 0 & 0 & 0 & 0 & 0 & 0 & 0 & 0 & 0 & 0 & 0 & 0 & 1 & 0 & 0 & 0 & 0 & 0 & 0 & 0 & 0 & 1 & 1 & 0 & 0 & 1 & 0 & 0 & 0 & 0 & 0 & 0 & 0 & 0 & 0 & 0 & 0 & 0 & 0 & 0 & 0 & 0 & 0 & 0 & 0 & 0 & 0 & 0 & 0 & 0 & 0 & 0 & 0 & 0 & 0 & 0 & 0 & 0 & 0 & 0 & 0 & 0 & 0 & 0 & 0 & 0 & 0 & 0 & 0 & 0 & 0 & 0 & 0 & 0 & 0 & 0 & 0 & 0 & 0 & 0 & 0 & 0 & 0 & 0 & 0 & 0 & 0 & 0 & 0 & 0 & 0 & 0 & 0 & 0 & 0 & 0 & 0 & 0\\\\\n",
       "\tPD25627a & 0 & 0 & 0 & 0 & 0 & 0 & 0 & 0 & 0 & 0 & 0 & 0 & 0 & 0 & 0 & 0 & 1 & 0 & 0 & 0 & 0 & 0 & 0 & 0 & 0 & 0 & 0 & 0 & 0 & 0 & 0 & 0 & 0 & 0 & 0 & 0 & 0 & 0 & 0 & 0 & 0 & 0 & 0 & 0 & 0 & 0 & 0 & 0 & 1 & 0 & 0 & 0 & 0 & 0 & 0 & 0 & 0 & 0 & 0 & 0 & 0 & 0 & 0 & 0 & 0 & 0 & 0 & 0 & 0 & 0 & 0 & 0 & 0 & 0 & 0 & 0 & 0 & 0 & 0 & 1 & 0 & 0 & 0 & 0 & 0 & 0 & 0 & 0 & 0 & 0 & 1 & 1 & 0 & 0 & 0 & 0 & 0 & 0 & 0 & 1 & 0 & 0 & 0 & 0 & 0 & 0 & 0 & 0 & 0 & 0 & 0 & 0 & 0 & 0 & 0 & 0 & 0 & 0 & 0 & 0 & 0 & 0 & 0 & 0 & 0 & 0 & 0 & 0 & 0 & 0 & 0 & 0 & 0 & 0 & 0 & 0 & 0 & 0 & 0 & 0 & 0 & 0 & 0 & 0 & 0 & 0 & 0 & 0 & 0 & 1 & 0\\\\\n",
       "\tPD25629c & 0 & 0 & 0 & 0 & 0 & 0 & 0 & 0 & 0 & 0 & 0 & 0 & 0 & 0 & 0 & 0 & 0 & 0 & 0 & 0 & 0 & 0 & 0 & 0 & 0 & 0 & 0 & 0 & 0 & 0 & 0 & 0 & 0 & 0 & 0 & 0 & 0 & 0 & 0 & 0 & 0 & 0 & 0 & 0 & 0 & 0 & 0 & 0 & 0 & 0 & 0 & 0 & 0 & 0 & 0 & 0 & 0 & 0 & 0 & 0 & 0 & 0 & 0 & 0 & 0 & 0 & 0 & 0 & 0 & 0 & 0 & 0 & 0 & 0 & 0 & 0 & 0 & 0 & 1 & 1 & 0 & 0 & 0 & 0 & 0 & 0 & 0 & 1 & 0 & 0 & 0 & 1 & 0 & 0 & 1 & 1 & 1 & 0 & 0 & 0 & 0 & 0 & 0 & 0 & 0 & 0 & 0 & 0 & 0 & 0 & 0 & 0 & 0 & 0 & 0 & 0 & 0 & 0 & 0 & 0 & 0 & 0 & 0 & 0 & 0 & 0 & 0 & 0 & 0 & 0 & 0 & 0 & 0 & 0 & 0 & 0 & 0 & 0 & 0 & 0 & 0 & 0 & 0 & 0 & 0 & 0 & 0 & 0 & 0 & 1 & 0\\\\\n",
       "\\end{tabular}\n"
      ],
      "text/markdown": [
       "\n",
       "| <!--/--> | ASXL1 | ASXL2 | ASXL3 | ATRX | BAGE3 | BCOR | BRAF | CBFB | CBL | CDKN2A | CEBPA_bi | CEBPA_mono | CNTN5 | CREBBP | CSF1R | CSF3R | CTCF | CUL2 | CUX1 | DNMT3A | EED | ETV6 | EZH2 | FBXW7 | ITD | FLT3_TKD | FLT3_other | GATA1 | GATA2 | GNAS | GNB1 | IDH1 | IDH2_p.R140 | IDH2_p.R172 | JAK2 | JAK3 | KANSL1 | KDM6A | KIT | KMT2C | KMT2D | KMT2E | KRAS | LUC7L2 | MED12 | MLL | MPL | MYC | NF1 | NFE2 | NOTCH1 | NPM1 | NRAS_other | NRAS_p.G12_13 | NRAS_p.Q61_62 | PDS5B | PHF6 | PPFIA2 | PRPF8 | PTEN | PTPN11 | PTPRF | PTPRT | RAD21 | RIT1 | RUNX1 | S100B | SETBP1 | SF1 | SF3B1 | SMC1A | SMC3 | SMG1 | SPP1 | SRSF2 | STAG2 | STAT5B | SUZ12 | TET2 | TP53 | U2AF1 | WT1 | ZRSR2 | add_8 | add_11 | add_13 | add_21 | add_22 | del_20 | del_3 | del_5 | del_7 | del_9 | del_12 | del_13 | del_16 | del_17 | del_18 | minusy | t_v_11 | t_10_21 | t_12_13 | t_12_17 | t_12_22 | t_13_19 | t_15_16 | t_15_17 | t_16_17 | t_16_21 | t_17_19 | t_17_21 | t_1_12 | t_1_14 | t_1_16 | t_1_17 | t_1_19 | t_1_3 | t_1_4 | t_1_5 | t_1_6 | t_2_17 | t_2_3 | t_2_5 | t_2_7 | t_2_9 | t_3_16 | t_3_21 | t_3_5 | t_3_7 | t_3_9 | t_4_12 | t_4_21 | t_4_9 | t_5_12 | t_5_17 | t_5_9 | t_6_9 | t_7_16 | t_7_17 | t_7_8 | t_8_10 | t_8_13 | t_8_16 | t_8_17 | t_8_21 | t_9_11 | t_9_13 | t_9_17 | t_9_22 | complex | others_transloc |\n",
       "|---|---|---|---|---|---|---|---|---|---|---|---|---|---|---|---|---|---|---|---|---|---|---|---|---|---|---|---|---|---|---|---|---|---|---|---|---|---|---|---|---|---|---|---|---|---|---|---|---|---|---|---|---|---|---|---|---|---|---|---|---|---|---|---|---|---|---|---|---|---|---|---|---|---|---|---|---|---|---|---|---|---|---|---|---|---|---|---|---|---|---|---|---|---|---|---|---|---|---|---|---|---|---|---|---|---|---|---|---|---|---|---|---|---|---|---|---|---|---|---|---|---|---|---|---|---|---|---|---|---|---|---|---|---|---|---|---|---|---|---|---|---|---|---|---|---|---|---|---|---|---|---|\n",
       "| PD25623a | 0 | 0 | 0 | 0 | 0 | 0 | 0 | 0 | 0 | 0 | 0 | 0 | 0 | 0 | 0 | 0 | 0 | 0 | 0 | 0 | 0 | 0 | 0 | 0 | 0 | 0 | 0 | 0 | 0 | 0 | 0 | 0 | 0 | 0 | 0 | 0 | 0 | 0 | 0 | 0 | 0 | 0 | 1 | 0 | 0 | 0 | 0 | 0 | 0 | 0 | 0 | 1 | 0 | 1 | 0 | 0 | 0 | 0 | 0 | 0 | 0 | 0 | 0 | 0 | 0 | 0 | 0 | 0 | 0 | 0 | 0 | 0 | 0 | 0 | 0 | 0 | 0 | 0 | 0 | 0 | 0 | 0 | 0 | 0 | 0 | 0 | 1 | 0 | 0 | 0 | 0 | 0 | 0 | 0 | 0 | 0 | 0 | 0 | 0 | 0 | 0 | 0 | 0 | 0 | 0 | 0 | 0 | 0 | 0 | 0 | 0 | 0 | 0 | 0 | 0 | 0 | 0 | 0 | 0 | 0 | 0 | 0 | 0 | 0 | 0 | 0 | 0 | 0 | 0 | 0 | 0 | 0 | 0 | 0 | 0 | 0 | 0 | 0 | 0 | 0 | 0 | 0 | 0 | 0 | 0 | 0 | 0 | 0 | 0 | 0 | 0 |\n",
       "| PD25624c | 0 | 0 | 0 | 0 | 0 | 0 | 0 | 0 | 0 | 0 | 0 | 0 | 0 | 0 | 0 | 0 | 0 | 0 | 0 | 0 | 0 | 0 | 0 | 0 | 0 | 0 | 0 | 0 | 0 | 0 | 0 | 0 | 0 | 0 | 0 | 0 | 0 | 0 | 0 | 0 | 0 | 0 | 0 | 0 | 0 | 0 | 0 | 0 | 0 | 0 | 0 | 0 | 0 | 0 | 0 | 0 | 0 | 0 | 0 | 0 | 0 | 0 | 0 | 0 | 0 | 0 | 0 | 0 | 0 | 0 | 0 | 0 | 0 | 0 | 0 | 0 | 0 | 0 | 0 | 1 | 0 | 0 | 0 | 0 | 0 | 0 | 0 | 0 | 1 | 0 | 1 | 0 | 0 | 0 | 0 | 1 | 0 | 1 | 0 | 0 | 0 | 0 | 0 | 0 | 0 | 0 | 0 | 0 | 0 | 0 | 0 | 0 | 0 | 0 | 0 | 0 | 0 | 0 | 0 | 0 | 0 | 0 | 0 | 0 | 0 | 0 | 0 | 0 | 0 | 0 | 0 | 0 | 0 | 0 | 0 | 0 | 0 | 0 | 0 | 0 | 0 | 0 | 0 | 0 | 0 | 0 | 0 | 0 | 0 | 1 | 0 |\n",
       "| PD25625a | 0 | 0 | 0 | 0 | 0 | 0 | 0 | 0 | 0 | 0 | 0 | 0 | 0 | 0 | 0 | 0 | 0 | 0 | 0 | 0 | 0 | 0 | 0 | 0 | 0 | 0 | 0 | 0 | 0 | 0 | 0 | 0 | 0 | 0 | 0 | 0 | 0 | 0 | 0 | 0 | 0 | 0 | 0 | 0 | 0 | 0 | 0 | 0 | 0 | 0 | 0 | 0 | 0 | 0 | 0 | 0 | 0 | 0 | 0 | 0 | 0 | 0 | 0 | 0 | 0 | 1 | 0 | 0 | 0 | 0 | 0 | 0 | 0 | 0 | 0 | 0 | 0 | 0 | 0 | 1 | 0 | 0 | 0 | 0 | 0 | 0 | 0 | 0 | 0 | 0 | 1 | 1 | 0 | 1 | 1 | 1 | 0 | 0 | 0 | 0 | 0 | 0 | 0 | 0 | 1 | 0 | 0 | 0 | 0 | 0 | 0 | 0 | 0 | 0 | 0 | 0 | 0 | 0 | 0 | 0 | 0 | 0 | 0 | 0 | 0 | 0 | 0 | 0 | 0 | 0 | 0 | 0 | 0 | 0 | 0 | 0 | 0 | 0 | 0 | 0 | 0 | 0 | 0 | 0 | 0 | 0 | 0 | 0 | 0 | 1 | 1 |\n",
       "| PD25626c | 0 | 0 | 0 | 0 | 0 | 0 | 0 | 0 | 0 | 0 | 0 | 0 | 0 | 0 | 0 | 0 | 0 | 0 | 0 | 0 | 0 | 0 | 0 | 0 | 0 | 0 | 0 | 0 | 0 | 0 | 0 | 0 | 0 | 0 | 0 | 0 | 0 | 0 | 0 | 0 | 0 | 0 | 0 | 0 | 0 | 0 | 0 | 0 | 0 | 0 | 0 | 0 | 0 | 0 | 0 | 0 | 0 | 0 | 0 | 0 | 0 | 0 | 0 | 0 | 0 | 1 | 0 | 0 | 0 | 0 | 0 | 0 | 0 | 0 | 1 | 1 | 0 | 0 | 1 | 0 | 0 | 0 | 0 | 0 | 0 | 0 | 0 | 0 | 0 | 0 | 0 | 0 | 0 | 0 | 0 | 0 | 0 | 0 | 0 | 0 | 0 | 0 | 0 | 0 | 0 | 0 | 0 | 0 | 0 | 0 | 0 | 0 | 0 | 0 | 0 | 0 | 0 | 0 | 0 | 0 | 0 | 0 | 0 | 0 | 0 | 0 | 0 | 0 | 0 | 0 | 0 | 0 | 0 | 0 | 0 | 0 | 0 | 0 | 0 | 0 | 0 | 0 | 0 | 0 | 0 | 0 | 0 | 0 | 0 | 0 | 0 |\n",
       "| PD25627a | 0 | 0 | 0 | 0 | 0 | 0 | 0 | 0 | 0 | 0 | 0 | 0 | 0 | 0 | 0 | 0 | 1 | 0 | 0 | 0 | 0 | 0 | 0 | 0 | 0 | 0 | 0 | 0 | 0 | 0 | 0 | 0 | 0 | 0 | 0 | 0 | 0 | 0 | 0 | 0 | 0 | 0 | 0 | 0 | 0 | 0 | 0 | 0 | 1 | 0 | 0 | 0 | 0 | 0 | 0 | 0 | 0 | 0 | 0 | 0 | 0 | 0 | 0 | 0 | 0 | 0 | 0 | 0 | 0 | 0 | 0 | 0 | 0 | 0 | 0 | 0 | 0 | 0 | 0 | 1 | 0 | 0 | 0 | 0 | 0 | 0 | 0 | 0 | 0 | 0 | 1 | 1 | 0 | 0 | 0 | 0 | 0 | 0 | 0 | 1 | 0 | 0 | 0 | 0 | 0 | 0 | 0 | 0 | 0 | 0 | 0 | 0 | 0 | 0 | 0 | 0 | 0 | 0 | 0 | 0 | 0 | 0 | 0 | 0 | 0 | 0 | 0 | 0 | 0 | 0 | 0 | 0 | 0 | 0 | 0 | 0 | 0 | 0 | 0 | 0 | 0 | 0 | 0 | 0 | 0 | 0 | 0 | 0 | 0 | 1 | 0 |\n",
       "| PD25629c | 0 | 0 | 0 | 0 | 0 | 0 | 0 | 0 | 0 | 0 | 0 | 0 | 0 | 0 | 0 | 0 | 0 | 0 | 0 | 0 | 0 | 0 | 0 | 0 | 0 | 0 | 0 | 0 | 0 | 0 | 0 | 0 | 0 | 0 | 0 | 0 | 0 | 0 | 0 | 0 | 0 | 0 | 0 | 0 | 0 | 0 | 0 | 0 | 0 | 0 | 0 | 0 | 0 | 0 | 0 | 0 | 0 | 0 | 0 | 0 | 0 | 0 | 0 | 0 | 0 | 0 | 0 | 0 | 0 | 0 | 0 | 0 | 0 | 0 | 0 | 0 | 0 | 0 | 1 | 1 | 0 | 0 | 0 | 0 | 0 | 0 | 0 | 1 | 0 | 0 | 0 | 1 | 0 | 0 | 1 | 1 | 1 | 0 | 0 | 0 | 0 | 0 | 0 | 0 | 0 | 0 | 0 | 0 | 0 | 0 | 0 | 0 | 0 | 0 | 0 | 0 | 0 | 0 | 0 | 0 | 0 | 0 | 0 | 0 | 0 | 0 | 0 | 0 | 0 | 0 | 0 | 0 | 0 | 0 | 0 | 0 | 0 | 0 | 0 | 0 | 0 | 0 | 0 | 0 | 0 | 0 | 0 | 0 | 0 | 1 | 0 |\n",
       "\n"
      ],
      "text/plain": [
       "         ASXL1 ASXL2 ASXL3 ATRX BAGE3 BCOR BRAF CBFB CBL CDKN2A CEBPA_bi\n",
       "PD25623a 0     0     0     0    0     0    0    0    0   0      0       \n",
       "PD25624c 0     0     0     0    0     0    0    0    0   0      0       \n",
       "PD25625a 0     0     0     0    0     0    0    0    0   0      0       \n",
       "PD25626c 0     0     0     0    0     0    0    0    0   0      0       \n",
       "PD25627a 0     0     0     0    0     0    0    0    0   0      0       \n",
       "PD25629c 0     0     0     0    0     0    0    0    0   0      0       \n",
       "         CEBPA_mono CNTN5 CREBBP CSF1R CSF3R CTCF CUL2 CUX1 DNMT3A EED ETV6\n",
       "PD25623a 0          0     0      0     0     0    0    0    0      0   0   \n",
       "PD25624c 0          0     0      0     0     0    0    0    0      0   0   \n",
       "PD25625a 0          0     0      0     0     0    0    0    0      0   0   \n",
       "PD25626c 0          0     0      0     0     0    0    0    0      0   0   \n",
       "PD25627a 0          0     0      0     0     1    0    0    0      0   0   \n",
       "PD25629c 0          0     0      0     0     0    0    0    0      0   0   \n",
       "         EZH2 FBXW7 ITD FLT3_TKD FLT3_other GATA1 GATA2 GNAS GNB1 IDH1\n",
       "PD25623a 0    0     0   0        0          0     0     0    0    0   \n",
       "PD25624c 0    0     0   0        0          0     0     0    0    0   \n",
       "PD25625a 0    0     0   0        0          0     0     0    0    0   \n",
       "PD25626c 0    0     0   0        0          0     0     0    0    0   \n",
       "PD25627a 0    0     0   0        0          0     0     0    0    0   \n",
       "PD25629c 0    0     0   0        0          0     0     0    0    0   \n",
       "         IDH2_p.R140 IDH2_p.R172 JAK2 JAK3 KANSL1 KDM6A KIT KMT2C KMT2D KMT2E\n",
       "PD25623a 0           0           0    0    0      0     0   0     0     0    \n",
       "PD25624c 0           0           0    0    0      0     0   0     0     0    \n",
       "PD25625a 0           0           0    0    0      0     0   0     0     0    \n",
       "PD25626c 0           0           0    0    0      0     0   0     0     0    \n",
       "PD25627a 0           0           0    0    0      0     0   0     0     0    \n",
       "PD25629c 0           0           0    0    0      0     0   0     0     0    \n",
       "         KRAS LUC7L2 MED12 MLL MPL MYC NF1 NFE2 NOTCH1 NPM1 NRAS_other\n",
       "PD25623a 1    0      0     0   0   0   0   0    0      1    0         \n",
       "PD25624c 0    0      0     0   0   0   0   0    0      0    0         \n",
       "PD25625a 0    0      0     0   0   0   0   0    0      0    0         \n",
       "PD25626c 0    0      0     0   0   0   0   0    0      0    0         \n",
       "PD25627a 0    0      0     0   0   0   1   0    0      0    0         \n",
       "PD25629c 0    0      0     0   0   0   0   0    0      0    0         \n",
       "         NRAS_p.G12_13 NRAS_p.Q61_62 PDS5B PHF6 PPFIA2 PRPF8 PTEN PTPN11 PTPRF\n",
       "PD25623a 1             0             0     0    0      0     0    0      0    \n",
       "PD25624c 0             0             0     0    0      0     0    0      0    \n",
       "PD25625a 0             0             0     0    0      0     0    0      0    \n",
       "PD25626c 0             0             0     0    0      0     0    0      0    \n",
       "PD25627a 0             0             0     0    0      0     0    0      0    \n",
       "PD25629c 0             0             0     0    0      0     0    0      0    \n",
       "         PTPRT RAD21 RIT1 RUNX1 S100B SETBP1 SF1 SF3B1 SMC1A SMC3 SMG1 SPP1\n",
       "PD25623a 0     0     0    0     0     0      0   0     0     0    0    0   \n",
       "PD25624c 0     0     0    0     0     0      0   0     0     0    0    0   \n",
       "PD25625a 0     0     0    1     0     0      0   0     0     0    0    0   \n",
       "PD25626c 0     0     0    1     0     0      0   0     0     0    0    0   \n",
       "PD25627a 0     0     0    0     0     0      0   0     0     0    0    0   \n",
       "PD25629c 0     0     0    0     0     0      0   0     0     0    0    0   \n",
       "         SRSF2 STAG2 STAT5B SUZ12 TET2 TP53 U2AF1 WT1 ZRSR2 add_8 add_11 add_13\n",
       "PD25623a 0     0     0      0     0    0    0     0   0     0     0      0     \n",
       "PD25624c 0     0     0      0     0    1    0     0   0     0     0      0     \n",
       "PD25625a 0     0     0      0     0    1    0     0   0     0     0      0     \n",
       "PD25626c 1     1     0      0     1    0    0     0   0     0     0      0     \n",
       "PD25627a 0     0     0      0     0    1    0     0   0     0     0      0     \n",
       "PD25629c 0     0     0      0     1    1    0     0   0     0     0      0     \n",
       "         add_21 add_22 del_20 del_3 del_5 del_7 del_9 del_12 del_13 del_16\n",
       "PD25623a 1      0      0      0     0     0     0     0      0      0     \n",
       "PD25624c 0      0      1      0     1     0     0     0      0      1     \n",
       "PD25625a 0      0      0      0     1     1     0     1      1      1     \n",
       "PD25626c 0      0      0      0     0     0     0     0      0      0     \n",
       "PD25627a 0      0      0      0     1     1     0     0      0      0     \n",
       "PD25629c 0      1      0      0     0     1     0     0      1      1     \n",
       "         del_17 del_18 minusy t_v_11 t_10_21 t_12_13 t_12_17 t_12_22 t_13_19\n",
       "PD25623a 0      0      0      0      0       0       0       0       0      \n",
       "PD25624c 0      1      0      0      0       0       0       0       0      \n",
       "PD25625a 0      0      0      0      0       0       0       0       1      \n",
       "PD25626c 0      0      0      0      0       0       0       0       0      \n",
       "PD25627a 0      0      0      1      0       0       0       0       0      \n",
       "PD25629c 1      0      0      0      0       0       0       0       0      \n",
       "         t_15_16 t_15_17 t_16_17 t_16_21 t_17_19 t_17_21 t_1_12 t_1_14 t_1_16\n",
       "PD25623a 0       0       0       0       0       0       0      0      0     \n",
       "PD25624c 0       0       0       0       0       0       0      0      0     \n",
       "PD25625a 0       0       0       0       0       0       0      0      0     \n",
       "PD25626c 0       0       0       0       0       0       0      0      0     \n",
       "PD25627a 0       0       0       0       0       0       0      0      0     \n",
       "PD25629c 0       0       0       0       0       0       0      0      0     \n",
       "         t_1_17 t_1_19 t_1_3 t_1_4 t_1_5 t_1_6 t_2_17 t_2_3 t_2_5 t_2_7 t_2_9\n",
       "PD25623a 0      0      0     0     0     0     0      0     0     0     0    \n",
       "PD25624c 0      0      0     0     0     0     0      0     0     0     0    \n",
       "PD25625a 0      0      0     0     0     0     0      0     0     0     0    \n",
       "PD25626c 0      0      0     0     0     0     0      0     0     0     0    \n",
       "PD25627a 0      0      0     0     0     0     0      0     0     0     0    \n",
       "PD25629c 0      0      0     0     0     0     0      0     0     0     0    \n",
       "         t_3_16 t_3_21 t_3_5 t_3_7 t_3_9 t_4_12 t_4_21 t_4_9 t_5_12 t_5_17\n",
       "PD25623a 0      0      0     0     0     0      0      0     0      0     \n",
       "PD25624c 0      0      0     0     0     0      0      0     0      0     \n",
       "PD25625a 0      0      0     0     0     0      0      0     0      0     \n",
       "PD25626c 0      0      0     0     0     0      0      0     0      0     \n",
       "PD25627a 0      0      0     0     0     0      0      0     0      0     \n",
       "PD25629c 0      0      0     0     0     0      0      0     0      0     \n",
       "         t_5_9 t_6_9 t_7_16 t_7_17 t_7_8 t_8_10 t_8_13 t_8_16 t_8_17 t_8_21\n",
       "PD25623a 0     0     0      0      0     0      0      0      0      0     \n",
       "PD25624c 0     0     0      0      0     0      0      0      0      0     \n",
       "PD25625a 0     0     0      0      0     0      0      0      0      0     \n",
       "PD25626c 0     0     0      0      0     0      0      0      0      0     \n",
       "PD25627a 0     0     0      0      0     0      0      0      0      0     \n",
       "PD25629c 0     0     0      0      0     0      0      0      0      0     \n",
       "         t_9_11 t_9_13 t_9_17 t_9_22 complex others_transloc\n",
       "PD25623a 0      0      0      0      0       0              \n",
       "PD25624c 0      0      0      0      1       0              \n",
       "PD25625a 0      0      0      0      1       1              \n",
       "PD25626c 0      0      0      0      0       0              \n",
       "PD25627a 0      0      0      0      1       0              \n",
       "PD25629c 0      0      0      0      1       0              "
      ]
     },
     "metadata": {},
     "output_type": "display_data"
    }
   ],
   "source": [
    "tail(df_final)"
   ]
  },
  {
   "cell_type": "code",
   "execution_count": 63,
   "metadata": {},
   "outputs": [
    {
     "data": {
      "text/html": [
       "<ol class=list-inline>\n",
       "\t<li>658</li>\n",
       "\t<li>151</li>\n",
       "</ol>\n"
      ],
      "text/latex": [
       "\\begin{enumerate*}\n",
       "\\item 658\n",
       "\\item 151\n",
       "\\end{enumerate*}\n"
      ],
      "text/markdown": [
       "1. 658\n",
       "2. 151\n",
       "\n",
       "\n"
      ],
      "text/plain": [
       "[1] 658 151"
      ]
     },
     "metadata": {},
     "output_type": "display_data"
    }
   ],
   "source": [
    "dim(df_final)"
   ]
  },
  {
   "cell_type": "code",
   "execution_count": 85,
   "metadata": {},
   "outputs": [
    {
     "data": {
      "text/html": [
       "<ol class=list-inline>\n",
       "\t<li>658</li>\n",
       "\t<li>115</li>\n",
       "</ol>\n"
      ],
      "text/latex": [
       "\\begin{enumerate*}\n",
       "\\item 658\n",
       "\\item 115\n",
       "\\end{enumerate*}\n"
      ],
      "text/markdown": [
       "1. 658\n",
       "2. 115\n",
       "\n",
       "\n"
      ],
      "text/plain": [
       "[1] 658 115"
      ]
     },
     "metadata": {},
     "output_type": "display_data"
    }
   ],
   "source": [
    "dim(df_to_recluster)"
   ]
  },
  {
   "cell_type": "markdown",
   "metadata": {},
   "source": [
    "### Clustering HDP"
   ]
  },
  {
   "cell_type": "markdown",
   "metadata": {},
   "source": [
    "## LETS WORK ON THE GRIDSEARCH"
   ]
  },
  {
   "cell_type": "markdown",
   "metadata": {},
   "source": [
    "### Base Distribution Functions"
   ]
  },
  {
   "cell_type": "code",
   "execution_count": 65,
   "metadata": {},
   "outputs": [
    {
     "data": {
      "text/html": [
       "151"
      ],
      "text/latex": [
       "151"
      ],
      "text/markdown": [
       "151"
      ],
      "text/plain": [
       "[1] 151"
      ]
     },
     "metadata": {},
     "output_type": "display_data"
    }
   ],
   "source": [
    "ncol(df_final)"
   ]
  },
  {
   "cell_type": "code",
   "execution_count": 86,
   "metadata": {},
   "outputs": [],
   "source": [
    "###Binomial\n",
    "num_cols = ncol(df_to_recluster)\n",
    "bin <- function(x){\n",
    "    set.seed(123)\n",
    "  (rbinom(1, num_cols, mean(x))+1)/num_cols\n",
    "}\n",
    "\n",
    "###Normal\n",
    "\n",
    "normal <- function(x){\n",
    "    set.seed(123)\n",
    "  abs(rnorm(1,mean(x),sd(x)))\n",
    "}\n",
    "\n",
    "###Poisson\n",
    "\n",
    "poisson <- function(x){\n",
    "    set.seed(123)\n",
    "  (rpois(num_cols,1)+1)/num_cols\n",
    "}\n",
    "\n",
    "###Uniform equally over all columns\n",
    "\n",
    "equally <- function(x){\n",
    "    set.seed(123)\n",
    "  1/num_cols\n",
    "}\n",
    "\n",
    "###Repet 1\n",
    "\n",
    "repet <- function(x){\n",
    "    set.seed(123)\n",
    "  1\n",
    "}\n",
    "\n",
    "#sapply(df_gene,equally)\n",
    "binomial <- unlist(sapply(df_to_recluster,bin))\n",
    "gaussian <- unlist(sapply(df_to_recluster,normal))\n",
    "pois <- as.numeric(unlist(sapply(df_to_recluster,poisson)))\n",
    "unif <- unlist(sapply(df_to_recluster,equally))\n",
    "repetition <- unlist(sapply(df_to_recluster,repet))\n",
    "lists<- list(binomial,gaussian,unif,repetition)\n",
    "#for (lis in lists) {\n",
    "    #initialise_hdp_yanis(data=df_final,alphaa=1,alphab=1,hh=lis)\n",
    "#}"
   ]
  },
  {
   "cell_type": "code",
   "execution_count": 95,
   "metadata": {},
   "outputs": [],
   "source": [
    "# define gridsearch function\n",
    "test_assignment <- function(x, dd_predicted, components_sd){\n",
    "    if(x['second_predicted_component']%in%dd_predicted$predicted_component) {\n",
    "        return( x['max_proba'] > x['second_max_proba']+components_sd[[x['second_predicted_component']+1]])\n",
    "    }\n",
    "    else {return(TRUE)} \n",
    "}\n",
    "hdp_gridsearch_yanis <- function( data, posterior_samples, initial_clusters, burnin, chains, space, base_dist, alphaa, alphab){  #+3 components\n",
    "\n",
    "    result_table <- data.frame('chains' = integer(),\n",
    "                              'inicc' = integer(),\n",
    "                              'n' = integer(),\n",
    "                              'burnin' = integer(),\n",
    "                              'space' = integer(),\n",
    "                              'base_dist' = character(), \n",
    "                              'alphaa' = integer(),\n",
    "                              'alphab' = integer(),\n",
    "                              'n_components' = integer(),\n",
    "                              'component_0' = integer(),\n",
    "                              'assignment' = numeric(),\n",
    "                              'Davies_Bouldin' =numeric(),\n",
    "                              'Silhouette' = numeric(),stringsAsFactors=FALSE)\n",
    "    \n",
    "    \n",
    "    for (a in chains) {\n",
    "        for (b in initial_clusters) {\n",
    "            for (c in posterior_samples) {\n",
    "                for (d in burnin) {\n",
    "                    for (e in space) {\n",
    "                        for (f in base_dist){\n",
    "                            for (g in alphaa){\n",
    "                                for (h in alphab){\n",
    "                                    str <-\"\"\n",
    "                                    if (f[1] == binomial[1]){\n",
    "                                        str <-\"binomial\"\n",
    "                                    } else if (f[1] == gaussian[1]){\n",
    "                                        str <-\"gaussian\"\n",
    "                                    } else if(f[1] == unif[1]){\n",
    "                                        str <-\"uniform\"\n",
    "                                    } else{\n",
    "                                        str <-\"repetition\"\n",
    "                                    }\n",
    "                                    cat(sprintf('### %d chains | %d initial clusters | %d posterior samples | %d burn-in | %d space ###\\n', a, b, c, d, e))\n",
    "                                    flush.console()\n",
    "\n",
    "                                    number_of_chains <- a\n",
    "                                    chain_list <- vector('list', number_of_chains)\n",
    "                                    hdp <- initialise_hdp_yanis(data=data,alphaa=g,alphab=h,hh=f)\n",
    "                                    for (i in 1:number_of_chains) {\n",
    "                                        seed <- i * 100\n",
    "\n",
    "                                        activated_hdp <- dp_activate(hdp,\n",
    "                                            dpindex = 1:numdp(hdp), # indices of the DP to activate: we choose all DP (1, ..., n + 1)\n",
    "                                            initcc  = b,           # number of starting clusters (every data item is randomly assigned to a cluster to start with)\n",
    "                                            seed    = seed)\n",
    "\n",
    "                                        hdp_output <- hdp_posterior(activated_hdp,\n",
    "                                            burnin = d, # number of burn-in iterations\n",
    "                                            n      = c,      # number of posterior samples to collect\n",
    "                                            space  = e,  # number of iterations between collected samples\n",
    "                                            # cpiter = 1,    # The number of iterations of concentration parameter sampling to perform after each iteration.\n",
    "                                            seed   = seed)\n",
    "\n",
    "                                        chain_list[[i]] <- hdp_output\n",
    "\n",
    "                                    }\n",
    "\n",
    "                                    multi_output <- hdp_multi_chain(chain_list)\n",
    "                                    multi_output <- hdp_extract_components(multi_output)\n",
    "\n",
    "\n",
    "                                    dd_predicted <- data.frame(comp_dp_distn(multi_output)$mean[-1,])\n",
    "\n",
    "                                    # change categories colnames\n",
    "                                    colnames(dd_predicted) <- paste0('component_', 0:(ncol(dd_predicted)-1))\n",
    "                                    components_colnames <- colnames(dd_predicted)\n",
    "\n",
    "                                    # evaluate for each row the predicted component\n",
    "                                    dd_predicted['predicted_component'] <- apply(dd_predicted, 1, function(x) { if (all(is.na(x)))\n",
    "                                                                                                     return(NaN)\n",
    "                                                                                                else\n",
    "                                                                                                     return(which.max(x)-1)\n",
    "                                                                                                })\n",
    "\n",
    "\n",
    "\n",
    "\n",
    "                                    # evaluate for each row the maximum probability associated to the predicted component\n",
    "                                    dd_predicted['max_proba'] <- apply(dd_predicted[,components_colnames], 1, function(x) { if (all(is.na(x)))\n",
    "                                                                                                     return(NaN)\n",
    "                                                                                                else\n",
    "                                                                                                     return(max(x))})\n",
    "\n",
    "\n",
    "                                    # get second predicted component\n",
    "                                    n_components <- ncol(dd_predicted) - 2 - 1 # without columns 'component_0', 'predicted_component' and 'max_proba'\n",
    "\n",
    "                                    dd_predicted['second_max_proba'] <- apply(dd_predicted[,0:n_components + 1], 1, function(x) { if (all(is.na(x)))\n",
    "                                                                                                     return(NaN)\n",
    "                                                                                                else\n",
    "                                                                                                     return(sort(x,partial=n_components)[n_components])})\n",
    "\n",
    "                                    dd_predicted['second_predicted_component'] <- apply(dd_predicted, 1, function(x) { if (all(is.na(x)))\n",
    "                                                                                                     return(NaN)\n",
    "                                                                                                else\n",
    "                                                                                                     return(which(x==x['second_max_proba'])[1]-1)})\n",
    "\n",
    "\n",
    "\n",
    "                                    # get standard deviations of components\n",
    "                                    components_sd <- list()\n",
    "                                    for( j in as.integer(levels(factor(dd_predicted$predicted_component)))){\n",
    "                                        if(! is.na(j)){\n",
    "                                            components_sd[[j+1]] <- sd(dd_predicted$max_proba[!is.na(dd_predicted$predicted_component) & dd_predicted$predicted_component == j])\n",
    "                                        }\n",
    "                                    }\n",
    "\n",
    "\n",
    "                                    # determine which patients are well assigned\n",
    "                                    dd_predicted['assignment'] <- apply(dd_predicted[, c('max_proba', 'second_max_proba','second_predicted_component')], 1, function(x) { if (all(is.na(x)))\n",
    "                                                                                                     return(NaN)\n",
    "                                                                                                else\n",
    "                                                                                                     return(test_assignment(x, dd_predicted, components_sd))})\n",
    "\n",
    "                                    # validation indexes\n",
    "                                    traj <- data.frame(data[rowSums(data) !=0,])\n",
    "                                    traj <- as.matrix(apply(traj, 2, function (x){as.numeric(x)}))\n",
    "                                    part <- as.integer(dd_predicted$predicted_component[!is.na(dd_predicted$predicted_component)])\n",
    "                                    intIdx <- intCriteria(traj, part, c(\"Davies_bouldin\",\"Silhouette\"))\n",
    "\n",
    "                                    # result\n",
    "                                    result_table[nrow(result_table)+1,] <- c(a, b, c, d, e, str, g, h, numcomp(multi_output), nrow(dd_predicted[!is.na(dd_predicted$predicted_component) &dd_predicted$predicted_component==0,]), nrow(dd_predicted[!is.na(dd_predicted$assignment) & dd_predicted$assignment==TRUE,]),intIdx$davies_bouldin,intIdx$silhouette)\n",
    "\n",
    "                                    cat('Done!\\n')\n",
    "                                    flush.console()\n",
    "                                }\n",
    "                            }\n",
    "                        }\n",
    "                    }\n",
    "                }\n",
    "            }\n",
    "        }\n",
    "    }\n",
    "    \n",
    "    return(result_table)\n",
    "\n",
    "}"
   ]
  },
  {
   "cell_type": "code",
   "execution_count": 93,
   "metadata": {},
   "outputs": [],
   "source": [
    "# initialize the range of parameters used for the grid search\n",
    "data <- df_to_recluster\n",
    "posterior_samples <- c(350,450)\n",
    "initial_clusters <- c(3,4,5,6,7)\n",
    "burnin <- 7000\n",
    "chains <- 3\n",
    "space <- 20\n",
    "base_dist <- gaussian\n",
    "alphaa <-2\n",
    "alphab <-0.5\n",
    "\n"
   ]
  },
  {
   "cell_type": "code",
   "execution_count": 94,
   "metadata": {},
   "outputs": [
    {
     "name": "stdout",
     "output_type": "stream",
     "text": [
      "### 3 chains | 3 initial clusters | 350 posterior samples | 7000 burn-in | 20 space ###\n",
      "Initialise HDP on a 658 x 115 dataframe\n",
      "  → create HDP structure... done!\n",
      "  → add DP node for each patient... done!\n",
      "  → assign the data to the nodes..."
     ]
    },
    {
     "ename": "ERROR",
     "evalue": "Error in hdp_setdata(hdp, dpindex = (1:nrow(data)) + 1, data = data): ncol(data) must equal numcateg(hdp)\n",
     "output_type": "error",
     "traceback": [
      "Error in hdp_setdata(hdp, dpindex = (1:nrow(data)) + 1, data = data): ncol(data) must equal numcateg(hdp)\nTraceback:\n",
      "1. hdp_gridsearch_yanis(data = df_to_recluster, posterior_samples, \n .     initial_clusters, burnin, chains, space, base_dist, alphaa, \n .     alphab)",
      "2. initialise_hdp_yanis(data = df_to_recluster, alphaa = g, alphab = h, \n .     hh = f)   # at line 48 of file <text>",
      "3. hdp_setdata(hdp, dpindex = (1:nrow(data)) + 1, data = data)",
      "4. stop(\"ncol(data) must equal numcateg(hdp)\")"
     ]
    }
   ],
   "source": [
    "ress <- hdp_gridsearch_yanis(data=df_to_recluster, posterior_samples, initial_clusters, burnin, chains, space,base_dist,alphaa,alphab)\n",
    "ress"
   ]
  },
  {
   "cell_type": "code",
   "execution_count": 15,
   "metadata": {},
   "outputs": [],
   "source": [
    "write.table(ress,'hdp_gridsearch_rep_gauss_binomial_bis.tsv',sep='\\t',quote=F)"
   ]
  },
  {
   "cell_type": "code",
   "execution_count": null,
   "metadata": {},
   "outputs": [],
   "source": []
  }
 ],
 "metadata": {
  "kernelspec": {
   "display_name": "R",
   "language": "R",
   "name": "ir"
  },
  "language_info": {
   "codemirror_mode": "r",
   "file_extension": ".r",
   "mimetype": "text/x-r-source",
   "name": "R",
   "pygments_lexer": "r",
   "version": "3.5.2"
  }
 },
 "nbformat": 4,
 "nbformat_minor": 2
}

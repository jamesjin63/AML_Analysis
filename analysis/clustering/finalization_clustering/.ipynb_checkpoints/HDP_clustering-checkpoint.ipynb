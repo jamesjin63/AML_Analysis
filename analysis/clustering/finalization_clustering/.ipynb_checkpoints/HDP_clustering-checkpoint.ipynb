{
 "cells": [
  {
   "cell_type": "code",
   "execution_count": 40,
   "metadata": {},
   "outputs": [],
   "source": [
    "library('hdp')\n",
    "library('clusterCrit')\n",
    "library('grid')\n",
    "library('gridExtra')\n",
    "library('ggplot2')\n",
    "library('ggrepel')\n",
    "library('RColorBrewer')\n",
    "library('dplyr')\n",
    "library('reshape2')\n",
    "library('IRdisplay')\n",
    "source('../../../src/tools.R')     # custom tools function\n",
    "source('../../../src/hdp_tools.R') # hdp related functions\n",
    "source('../../../src/hdp_tools_yanis.R')\n",
    "theme_set(theme_minimal())\n",
    "\n",
    "# set jupyer notebook parameters\n",
    "options(repr.plot.res        = 100, # set a medium-definition resolution for the jupyter notebooks plots (DPI)\n",
    "        repr.matrix.max.rows = 200, # set the maximum number of rows displayed\n",
    "        repr.matrix.max.cols = 200) # set the maximum number of columns displayed\n"
   ]
  },
  {
   "cell_type": "code",
   "execution_count": 41,
   "metadata": {},
   "outputs": [],
   "source": [
    "df_final <- read.table(\"../../../data/updated_dataset/modif_final.csv\",sep = ',' , header = T)\n",
    "rownames(df_final)<- df_final$data_pd\n",
    "df_final <- df_final[,-1:-3]"
   ]
  },
  {
   "cell_type": "code",
   "execution_count": 42,
   "metadata": {},
   "outputs": [
    {
     "data": {
      "text/html": [
       "<ol class=list-inline>\n",
       "\t<li>2150</li>\n",
       "\t<li>151</li>\n",
       "</ol>\n"
      ],
      "text/latex": [
       "\\begin{enumerate*}\n",
       "\\item 2150\n",
       "\\item 151\n",
       "\\end{enumerate*}\n"
      ],
      "text/markdown": [
       "1. 2150\n",
       "2. 151\n",
       "\n",
       "\n"
      ],
      "text/plain": [
       "[1] 2150  151"
      ]
     },
     "metadata": {},
     "output_type": "display_data"
    }
   ],
   "source": [
    "dim(df_final)"
   ]
  },
  {
   "cell_type": "code",
   "execution_count": 43,
   "metadata": {},
   "outputs": [],
   "source": [
    "num_cols = ncol(df_final)\n",
    "bin <- function(x){\n",
    "    set.seed(123)\n",
    "  (rbinom(1, num_cols, mean(x))+1)/num_cols\n",
    "}\n",
    "\n",
    "###Normal\n",
    "\n",
    "normal <- function(x){\n",
    "    set.seed(123)\n",
    "  abs(rnorm(1,mean(x),sd(x)))\n",
    "}\n",
    "\n",
    "###Poisson\n",
    "\n",
    "poisson <- function(x){\n",
    "    set.seed(123)\n",
    "  (rpois(num_cols,1)+1)/num_cols\n",
    "}\n",
    "\n",
    "###Uniform equally over all columns\n",
    "\n",
    "equally <- function(x){\n",
    "    set.seed(123)\n",
    "  1/num_cols\n",
    "}\n",
    "\n",
    "###Repet 1\n",
    "\n",
    "repet <- function(x){\n",
    "    set.seed(123)\n",
    "  1\n",
    "}\n",
    "\n",
    "#sapply(df_gene,equally)\n",
    "binomial <- unlist(sapply(df_final,bin))\n",
    "gaussian <- unlist(sapply(df_final,normal))\n",
    "pois <- as.numeric(unlist(sapply(df_final,poisson)))\n",
    "unif <- unlist(sapply(df_final,equally))\n",
    "repetition <- unlist(sapply(df_final,repet))\n",
    "lists<- list(binomial,gaussian,unif,repetition)"
   ]
  },
  {
   "cell_type": "code",
   "execution_count": 44,
   "metadata": {},
   "outputs": [],
   "source": [
    "launch <- function(data,base_dist,initial_clusters,burn,posterior_samples,chains,aa,ab){\n",
    "    number_of_chains <- chains\n",
    "    chain_list <- vector('list', number_of_chains)\n",
    "    hdp <- initialise_hdp_yanis(data = data,hh=base_dist,alphaa = aa,alphab= ab)\n",
    "\n",
    "\n",
    "    for (i in 1:number_of_chains) {\n",
    "        seed <- i * 100\n",
    "        print_and_flush(sprintf('### Experiment %d (seed = %d) ###\\n', i, seed))\n",
    "\n",
    "        # run single hdp chain\n",
    "        chain_list[[i]] <- activate_and_run_hdp(hdp,\n",
    "                                                initcc = initial_clusters,\n",
    "                                                burnin = burn,\n",
    "                                                n      = posterior_samples,\n",
    "                                                space  = 20,\n",
    "                                                seed   = seed)\n",
    "        print_and_flush('\\n')\n",
    "    }\n",
    "\n",
    "    multi_output <- hdp_multi_chain(chain_list)\n",
    "    print(multi_output)\n",
    "}"
   ]
  },
  {
   "cell_type": "code",
   "execution_count": 45,
   "metadata": {},
   "outputs": [],
   "source": [
    "data <- df_final\n",
    "posterior_samples <- 350\n",
    "initial_clusters <- 13\n",
    "burn <- 7000\n",
    "chains <- 3\n",
    "base_dist <- gaussian\n",
    "aa <- 2\n",
    "ab <-0.5"
   ]
  },
  {
   "cell_type": "code",
   "execution_count": null,
   "metadata": {},
   "outputs": [
    {
     "name": "stdout",
     "output_type": "stream",
     "text": [
      "Initialise HDP on a 2150 x 151 dataframe\n",
      "  → create HDP structure... done!\n",
      "  → add DP node for each patient... done!\n",
      "  → assign the data to the nodes... done!\n",
      "### Experiment 1 (seed = 100) ###\n",
      "Activate HDP nodes and run posterior sampling\n",
      "  → activate HDP nodes... done!\n",
      "  → run posterior sampling...\n",
      "[1] \"7000 burn-in iterations in 0.4 mins\"\n",
      "\n",
      "### Experiment 2 (seed = 200) ###\n",
      "Activate HDP nodes and run posterior sampling\n",
      "  → activate HDP nodes... done!\n",
      "  → run posterior sampling...\n",
      "[1] \"7000 burn-in iterations in 0.4 mins\"\n",
      "\n",
      "### Experiment 3 (seed = 300) ###\n",
      "Activate HDP nodes and run posterior sampling\n",
      "  → activate HDP nodes... done!\n",
      "  → run posterior sampling...\n",
      "[1] \"7000 burn-in iterations in 0.5 mins\"\n",
      "\n",
      "Object of class hdpSampleMulti \n",
      " Number of chains: 3 \n",
      " Total posterior samples: 1050 \n",
      " Components: NO. Run hdp_extract_components \n",
      " ----------\n",
      " Final hdpState from first chain: \n",
      "Object of class hdpState \n",
      " Number of DP nodes: 2151 \n",
      " Index of parent DP: 0 1 1 1 1 1 1 1 1 1 ...\n",
      " Number of data items per DP: 0 2 2 6 3 6 2 4 3 2 ...\n",
      " Index of conparam per DP: 1 1 1 1 1 1 1 1 1 1 ...\n",
      " Conparam hyperparameters and current value:\n",
      "           Shape Rate    Value\n",
      "Conparam 1     2  0.5 0.503673\n",
      " Number of data categories: 151 \n",
      " Number of clusters: 13 \n",
      " Initialised with 13 clusters, using random seed 100 \n",
      "Extract HDP components from posterior sampling\n",
      "  → extract components..."
     ]
    }
   ],
   "source": [
    "multi_output <- launch(data,base_dist,initial_clusters,burn,posterior_samples,chains,aa,ab)\n",
    "multi_output_cluster_10 <- extract_components(multi_output)\n",
    "plot_components_size(multi_output_cluster_10)"
   ]
  },
  {
   "cell_type": "code",
   "execution_count": null,
   "metadata": {},
   "outputs": [],
   "source": []
  }
 ],
 "metadata": {
  "kernelspec": {
   "display_name": "R",
   "language": "R",
   "name": "ir"
  },
  "language_info": {
   "codemirror_mode": "r",
   "file_extension": ".r",
   "mimetype": "text/x-r-source",
   "name": "R",
   "pygments_lexer": "r",
   "version": "3.5.2"
  }
 },
 "nbformat": 4,
 "nbformat_minor": 2
}

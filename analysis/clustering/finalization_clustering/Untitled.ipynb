{
 "cells": [
  {
   "cell_type": "code",
   "execution_count": 88,
   "metadata": {},
   "outputs": [
    {
     "data": {
      "text/html": [
       "<table>\n",
       "<tbody>\n",
       "\t<tr><th scope=row>Var1</th><td>p.A153S</td><td>p.M172L</td><td>p.Q157P</td><td>p.Q157R</td><td>p.R156H</td><td>p.R35L </td><td>p.R35Q </td><td>p.S34F </td><td>p.S34T </td><td>p.S34Y </td></tr>\n",
       "\t<tr><th scope=row>Freq</th><td> 1     </td><td> 3     </td><td>38     </td><td> 4     </td><td> 7     </td><td> 1     </td><td> 2     </td><td>66     </td><td> 1     </td><td> 5     </td></tr>\n",
       "</tbody>\n",
       "</table>\n"
      ],
      "text/latex": [
       "\\begin{tabular}{r|llllllllll}\n",
       "\tVar1 & p.A153S & p.M172L & p.Q157P & p.Q157R & p.R156H & p.R35L  & p.R35Q  & p.S34F  & p.S34T  & p.S34Y \\\\\n",
       "\tFreq &  1      &  3      & 38      &  4      &  7      &  1      &  2      & 66      &  1      &  5     \\\\\n",
       "\\end{tabular}\n"
      ],
      "text/markdown": [
       "\n",
       "| Var1 | p.A153S | p.M172L | p.Q157P | p.Q157R | p.R156H | p.R35L  | p.R35Q  | p.S34F  | p.S34T  | p.S34Y  |\n",
       "| Freq |  1      |  3      | 38      |  4      |  7      |  1      |  2      | 66      |  1      |  5      |\n",
       "\n"
      ],
      "text/plain": [
       "     [,1]    [,2]    [,3]    [,4]    [,5]    [,6]   [,7]   [,8]   [,9]   [,10] \n",
       "Var1 p.A153S p.M172L p.Q157P p.Q157R p.R156H p.R35L p.R35Q p.S34F p.S34T p.S34Y\n",
       "Freq  1       3      38       4       7       1      2     66      1      5    "
      ]
     },
     "metadata": {},
     "output_type": "display_data"
    }
   ],
   "source": [
    "df <- read.table(\"../../../data/initial_dataset/1013.mut.csv\",sep=',', header = T)\n",
    "df <- df[df$gene==\"U2AF1\",c(\"data_pd\",\"gene\",\"protein\")]\n",
    "df$protein <- factor(df$protein)\n",
    "df$data_pd <- factor(df$data_pd)\n",
    "t(data.frame(table(df$protein)))\n",
    "#df[,c(\"gene\",\"protein\")]"
   ]
  },
  {
   "cell_type": "code",
   "execution_count": 86,
   "metadata": {},
   "outputs": [],
   "source": [
    "df_final <- read.table(\"../../../data/updated_dataset/modif_final.csv\",sep = ',' , header = T)\n",
    "df_final <- df_final[df_final$U2AF1==1,]"
   ]
  },
  {
   "cell_type": "code",
   "execution_count": 132,
   "metadata": {},
   "outputs": [],
   "source": [
    "df <- read.table(\"../../../data/initial_dataset/1013.mut.csv\",sep=',', header = T)\n",
    "df <- df[df$gene==\"U2AF1\",c(\"data_pd\",\"gene\",\"protein\")]\n",
    "df$U2AF1_p.S34 <- ifelse(grepl( \"34\",df$protein) | grepl( \"35\",df$protein),1,0)\n",
    "df$U2AF1_p.Q157 <- ifelse(grepl( \"157\",df$protein) | grepl( \"156\",df$protein),1,0)\n",
    "df <- unique(df,by=\"data_pd\")\n",
    "newd <-  df %>% group_by(data_pd) %>% filter(n()>1)\n",
    "tmp <- data.frame(data_pd=unique(newd$data_pd),gene=rep(\"U2AF1\",length(unique(newd$data_pd))),protein=rep(\"p\",length(unique(newd$data_pd))),U2AF1_p.S34=rep(0,length(unique(newd$data_pd))),U2AF1_p.Q157=rep(0,length(unique(newd$data_pd))))\n",
    "for (element in unique(newd$data_pd)){    \n",
    "    tmp[tmp$data_pd==element,]$U2AF1_p.S34 <- colSums(newd[newd$data_pd==element,\"U2AF1_p.S34\"])\n",
    "    tmp[tmp$data_pd==element,]$U2AF1_p.Q157 <- colSums(newd[newd$data_pd==element,\"U2AF1_p.Q157\"])\n",
    "}\n",
    "df <- rbind(df[!is.element(df$data_pd,unique(newd$data_pd)),c(\"data_pd\",\"U2AF1_p.S34\",\"U2AF1_p.Q157\",\"protein\")],tmp[,c(\"data_pd\",\"U2AF1_p.S34\",\"U2AF1_p.Q157\",\"protein\")])\n",
    "rownames(df)<- df$data_pd\n",
    "df <- df[,c(\"U2AF1_p.S34\",\"U2AF1_p.Q157\",\"protein\")]\n",
    "  \n",
    "  \n",
    "  "
   ]
  },
  {
   "cell_type": "code",
   "execution_count": 133,
   "metadata": {},
   "outputs": [],
   "source": [
    "df_final <- read.table(\"../../../data/updated_dataset/modif_final.csv\",sep = ',' , header = T)\n",
    "rownames(df_final) <-df_final$data_pd\n",
    "k <- merge(x=df_final[,c(\"U2AF1\",\"data_pd\")],y=df,by=0,all.x = T)"
   ]
  },
  {
   "cell_type": "code",
   "execution_count": 134,
   "metadata": {},
   "outputs": [
    {
     "data": {
      "text/html": [
       "<table>\n",
       "<thead><tr><th></th><th scope=col>Row.names</th><th scope=col>U2AF1</th><th scope=col>data_pd</th><th scope=col>U2AF1_p.S34</th><th scope=col>U2AF1_p.Q157</th><th scope=col>protein</th></tr></thead>\n",
       "<tbody>\n",
       "\t<tr><th scope=row>PD15205a</th><td>PD15205a</td><td>1       </td><td>PD15205a</td><td>0       </td><td>0       </td><td>p.M172L </td></tr>\n",
       "\t<tr><th scope=row>PD15363c</th><td>PD15363c</td><td>1       </td><td>PD15363c</td><td>0       </td><td>0       </td><td>p.M172L </td></tr>\n",
       "\t<tr><th scope=row>PD25322a</th><td>PD25322a</td><td>1       </td><td>PD25322a</td><td>0       </td><td>0       </td><td>p.M172L </td></tr>\n",
       "</tbody>\n",
       "</table>\n"
      ],
      "text/latex": [
       "\\begin{tabular}{r|llllll}\n",
       "  & Row.names & U2AF1 & data\\_pd & U2AF1\\_p.S34 & U2AF1\\_p.Q157 & protein\\\\\n",
       "\\hline\n",
       "\tPD15205a & PD15205a & 1        & PD15205a & 0        & 0        & p.M172L \\\\\n",
       "\tPD15363c & PD15363c & 1        & PD15363c & 0        & 0        & p.M172L \\\\\n",
       "\tPD25322a & PD25322a & 1        & PD25322a & 0        & 0        & p.M172L \\\\\n",
       "\\end{tabular}\n"
      ],
      "text/markdown": [
       "\n",
       "| <!--/--> | Row.names | U2AF1 | data_pd | U2AF1_p.S34 | U2AF1_p.Q157 | protein |\n",
       "|---|---|---|---|---|---|---|\n",
       "| PD15205a | PD15205a | 1        | PD15205a | 0        | 0        | p.M172L  |\n",
       "| PD15363c | PD15363c | 1        | PD15363c | 0        | 0        | p.M172L  |\n",
       "| PD25322a | PD25322a | 1        | PD25322a | 0        | 0        | p.M172L  |\n",
       "\n"
      ],
      "text/plain": [
       "         Row.names U2AF1 data_pd  U2AF1_p.S34 U2AF1_p.Q157 protein\n",
       "PD15205a PD15205a  1     PD15205a 0           0            p.M172L\n",
       "PD15363c PD15363c  1     PD15363c 0           0            p.M172L\n",
       "PD25322a PD25322a  1     PD25322a 0           0            p.M172L"
      ]
     },
     "metadata": {},
     "output_type": "display_data"
    }
   ],
   "source": [
    "rownames(k) <- k$Row.names\n",
    "k[k$U2AF1==1 & k$U2AF1_p.S34==0 & k$U2AF1_p.Q157==0,]"
   ]
  },
  {
   "cell_type": "code",
   "execution_count": null,
   "metadata": {},
   "outputs": [],
   "source": []
  }
 ],
 "metadata": {
  "kernelspec": {
   "display_name": "R",
   "language": "R",
   "name": "ir"
  },
  "language_info": {
   "codemirror_mode": "r",
   "file_extension": ".r",
   "mimetype": "text/x-r-source",
   "name": "R",
   "pygments_lexer": "r",
   "version": "3.5.2"
  }
 },
 "nbformat": 4,
 "nbformat_minor": 2
}

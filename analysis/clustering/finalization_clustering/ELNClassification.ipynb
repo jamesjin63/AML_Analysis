{
 "cells": [
  {
   "cell_type": "code",
   "execution_count": 8,
   "metadata": {},
   "outputs": [],
   "source": [
    "import pandas as pd\n",
    "import copy\n",
    "import pandas as pd\n",
    "%matplotlib notebook\n",
    "%config InlineBackend.print_figure_kwargs={'bbox_inches': None}\n",
    "import pandas as pd\n",
    "from IPython.display import display\n",
    "import warnings\n",
    "warnings.filterwarnings(\"ignore\", category=DeprecationWarning) \n",
    "%matplotlib inline\n",
    "import numpy as np"
   ]
  },
  {
   "cell_type": "code",
   "execution_count": 9,
   "metadata": {},
   "outputs": [],
   "source": [
    "df_final = pd.read_csv(\"../../../data/updated_dataset/modif_final.csv\",sep=\",\",low_memory=False)\n",
    "df_master = pd.read_csv(\"../../../data/initial_dataset/Master_04_10_2019.csv\",sep=\",\",low_memory=False)"
   ]
  },
  {
   "cell_type": "code",
   "execution_count": 10,
   "metadata": {},
   "outputs": [],
   "source": [
    "df_final.set_index(df_final['Unnamed: 0'].unique(),inplace=True)\n",
    "df_final.drop('Unnamed: 0', axis=1, inplace=True)\n",
    "df_final.set_index('data_pd',inplace=True)\n",
    "\n",
    "df_master.set_index(df_master['Unnamed: 0'].unique(),inplace=True)\n",
    "df_master.drop('Unnamed: 0', axis=1, inplace=True)\n",
    "df_master.set_index('data_pd',inplace=True)"
   ]
  },
  {
   "cell_type": "markdown",
   "metadata": {},
   "source": [
    "#### Merge dataframe master reduced with the mandatory columns for yoann's eln classification\n",
    "#### with final incorporating the new translocation rules"
   ]
  },
  {
   "cell_type": "markdown",
   "metadata": {},
   "source": [
    "### Yoann 's ELN Classification"
   ]
  },
  {
   "cell_type": "code",
   "execution_count": 11,
   "metadata": {},
   "outputs": [],
   "source": [
    "def eln_2017_classification(df_merge):\n",
    "    \"\"\"\n",
    "    This function builds the ELN 2017 classification of AML for the dataframe given in input. The classification is a new column labeled 'eln_2017'\n",
    "\n",
    "    It supposes that the following are columns of the input:\n",
    "        - t_8_21, inv_16, t_16_16, CEBPA_bi, NPM1, FLT3_ITD t_9_11, TP53, t_6_9, MLL, t_9_22, inv_3, t_3_3,\n",
    "        minus5, del_5q, minus7, minus17, RUNX1 (or hotspots starting with RUNX1), ASXL1 (ibid), complex\n",
    "\n",
    "\n",
    "    :param df_final:\n",
    "    :return: pandas.DataFrame, copy of df_final with 'eln_2017' column\n",
    "    \"\"\"\n",
    "\n",
    "    df = df_merge.copy(deep=True)\n",
    "    df.loc[:, 'eln_2017'] = np.nan\n",
    "    df.loc[(df.eln_2017.isnull()) & (df.t_9_11 == 1), 'eln_2017'] = 'intermediate'\n",
    "    df.loc[(df.eln_2017.isnull()) & (df.complex == 1), 'eln_2017'] = 'adverse'\n",
    "    df.loc[(df.eln_2017.isnull()) & (df.TP53 == 1), 'eln_2017'] = 'adverse'\n",
    "    df.loc[(df.eln_2017.isnull()) & (df.t_6_9 == 1), 'eln_2017'] = 'adverse'\n",
    "    if 'MLL_PTD' in df.columns.values:\n",
    "        df.loc[(df.eln_2017.isnull()) & (df.MLL_PTD == 1), 'eln_2017'] = 'adverse'\n",
    "    else:\n",
    "        df.loc[(df.eln_2017.isnull()) & (df.MLL == 1), 'eln_2017'] = 'adverse'\n",
    "    df.loc[(df.eln_2017.isnull()) & (df.t_9_22 == 1), 'eln_2017'] = 'adverse'\n",
    "    df.loc[(df.eln_2017.isnull()) & (df.inv_3 == 1), 'eln_2017'] = 'adverse'\n",
    "    df.loc[(df.eln_2017.isnull()) & (\n",
    "                (df.minus5 == 1) | (df.del_5q == 1) | (df.minus7 == 1) | (df.minus17 == 1)), 'eln_2017'] = 'adverse'\n",
    "    df.loc[(df.eln_2017.isnull()) & (df.NPM1 == 0) & (df.ITD == 1), 'eln_2017'] = 'adverse'  #yanis change for my dataset FLT3_ITD to new ITD\n",
    "\n",
    "    df.loc[(df.eln_2017.isnull()) & (df.t_8_21 == 1), 'eln_2017'] = 'favorable'\n",
    "    df.loc[(df.eln_2017.isnull()) & (df.inv_16 == 1), 'eln_2017'] = 'favorable'\n",
    "    df.loc[(df.eln_2017.isnull()) & (df.CEBPA_bi == 1), 'eln_2017'] = 'favorable'\n",
    "    df.loc[(df.eln_2017.isnull()) & (df.NPM1 == 1) & (df.ITD == 0), 'eln_2017'] = 'favorable' #yanis change for my dataset FLT3_ITD to new ITD\n",
    "\n",
    "    # As we distinguish between hotspot mutations,  several columns may encode\n",
    "    # for a gene mutation\n",
    "\n",
    "    for col in [c for c in df.columns if c.startswith('RUNX1')]:\n",
    "        df.loc[(df.eln_2017.isnull()) & (df[col] == 1), 'eln_2017'] = 'adverse'\n",
    "    for col in [c for c in df.columns if c.startswith('ASXL1')]:\n",
    "        df.loc[(df.eln_2017.isnull()) & (df[col] == 1), 'eln_2017'] = 'adverse'\n",
    "\n",
    "    for col in [x for x in df.columns if (x.startswith('minus') or x.startswith('del'))]:\n",
    "        df.loc[(df.eln_2017.isnull()) & (df[col] == 1), 'eln_2017'] = 'adverse'\n",
    "\n",
    "    df.loc[(df.eln_2017.isnull()) & (df.NPM1 == 0) & (df.ITD == 0), 'eln_2017'] = 'intermediate'   #yanis change for my dataset FLT3_ITD to new ITD\n",
    "    df.loc[(df.eln_2017.isnull()) & (df.NPM1 == 1) & (df.ITD == 1), 'eln_2017'] = 'intermediate'\n",
    "    df.loc[df.eln_2017.isnull(), 'eln_2017'] = 'intermediate'\n",
    "\n",
    "    return df"
   ]
  },
  {
   "cell_type": "markdown",
   "metadata": {},
   "source": [
    "## I- Get the new ELN classification using Yoann 's rules"
   ]
  },
  {
   "cell_type": "markdown",
   "metadata": {},
   "source": [
    "##### To do that, we need to use the original master dataframe because it contains all the necessary columns including all the translocations and copy numbers . \n",
    "##### We also add the new ITD rules from the df_final."
   ]
  },
  {
   "cell_type": "code",
   "execution_count": 12,
   "metadata": {},
   "outputs": [],
   "source": [
    "merge = df_master.merge(pd.DataFrame(df_final[['ITD']]), left_index=True, right_index=True)"
   ]
  },
  {
   "cell_type": "markdown",
   "metadata": {},
   "source": [
    "##### In order to compare the eln classification previously done with Yoann's one including the new ITD rules ,\n",
    "##### we rename the column eln 2017 coming from the master dataframe as initial eln."
   ]
  },
  {
   "cell_type": "code",
   "execution_count": 13,
   "metadata": {},
   "outputs": [
    {
     "data": {
      "text/plain": [
       "(2150, 521)"
      ]
     },
     "execution_count": 13,
     "metadata": {},
     "output_type": "execute_result"
    }
   ],
   "source": [
    "merge.rename(columns={'eln_2017':'initial_eln_2017'},inplace=True)\n",
    "merge.shape"
   ]
  },
  {
   "cell_type": "markdown",
   "metadata": {},
   "source": [
    "### Important to note that from now on, we do not use the column FLT3_ITD because we have new rules in the column ITD"
   ]
  },
  {
   "cell_type": "markdown",
   "metadata": {},
   "source": [
    "#### We incorporate the function for the new eln classification"
   ]
  },
  {
   "cell_type": "code",
   "execution_count": 14,
   "metadata": {},
   "outputs": [
    {
     "data": {
      "text/plain": [
       "(2150, 522)"
      ]
     },
     "execution_count": 14,
     "metadata": {},
     "output_type": "execute_result"
    }
   ],
   "source": [
    "merge_eln=eln_2017_classification(merge)\n",
    "merge_eln.shape"
   ]
  },
  {
   "cell_type": "markdown",
   "metadata": {},
   "source": [
    "## II- Compare it with the initial_eln classifcication"
   ]
  },
  {
   "cell_type": "code",
   "execution_count": 15,
   "metadata": {},
   "outputs": [
    {
     "name": "stdout",
     "output_type": "stream",
     "text": [
      "There are 67 rows differing\n"
     ]
    }
   ],
   "source": [
    "df_diff = merge_eln[merge_eln.eln_2017!=merge_eln.initial_eln_2017]\n",
    "print (\"There are \"+str(df_diff.shape[0]) + \" rows differing\")"
   ]
  },
  {
   "cell_type": "markdown",
   "metadata": {},
   "source": [
    "### Let's look at the activated mutations for those rows and the rules used for the new eln classification"
   ]
  },
  {
   "cell_type": "code",
   "execution_count": 17,
   "metadata": {},
   "outputs": [],
   "source": [
    "tmp=copy.copy(df_diff)\n",
    "tmp.drop(columns=[\n",
    "                    'ahd','secondary','perf_status','gender','ahd', 'os_status',\n",
    "                  'DEADStatus','RFSStatus','MRD_Status','MRD_relapse_status','cod',\n",
    "                    'intense','cr','RelapseCIStatus','dic_13_21','acmcar','trial.x',\n",
    "                    'acmarr','acmoth','acmhvd','acmibd','acminf','acmhepmil','acmrhe',\n",
    "                    'acmpsy','acmpri','acmobe','acmdia'\n",
    "                  ]\n",
    "                     ,inplace=True)\n",
    "l=[]\n",
    "for row in tmp.index:\n",
    "    l.append(list(tmp.ix[row][tmp.ix[row]==1].index))"
   ]
  },
  {
   "cell_type": "markdown",
   "metadata": {},
   "source": [
    "#### Positive mutation"
   ]
  },
  {
   "cell_type": "code",
   "execution_count": 19,
   "metadata": {},
   "outputs": [],
   "source": [
    "df_diff.loc[:,'positive mutation']=l"
   ]
  },
  {
   "cell_type": "markdown",
   "metadata": {},
   "source": [
    "#### Rules used for ELN Classification"
   ]
  },
  {
   "cell_type": "code",
   "execution_count": 20,
   "metadata": {},
   "outputs": [],
   "source": [
    "df_diff.loc[:,'Classification rules']=np.nan\n",
    "df_diff.loc[(df_diff['Classification rules'].isnull()) & (df_diff.NPM1 == 0) & (df_diff.ITD == 1),'Classification rules'] ='NPM1 == 0 and ITD == 1'\n",
    "df_diff.loc[(df_diff['Classification rules'].isnull()) & (df_diff.t_8_21==1),'Classification rules'] ='t_8_21==1'\n",
    "df_diff.loc[(df_diff['Classification rules'].isnull()) & (df_diff.inv_16 ==1),'Classification rules'] ='inv_16 ==1'\n",
    "df_diff.loc[(df_diff['Classification rules'].isnull()) & (df_diff.CEBPA_bi == 1),'Classification rules'] ='CEBPA_bi == 1'\n",
    "df_diff.loc[(df_diff['Classification rules'].isnull()) & (df_diff.NPM1 == 1) & (df_diff.ITD == 0),'Classification rules'] ='NPM1 == 1 and ITD == 0'\n",
    "df_diff.loc[(df_diff['Classification rules'].isnull()) & (df_diff.RUNX1 ==1),'Classification rules'] ='RUNX1 ==1'\n",
    "df_diff.loc[(df_diff['Classification rules'].isnull()) & (df_diff.NPM1 == 0) & (df_diff.ITD == 0),'Classification rules'] ='NPM1 == 0 and ITD == 0'\n",
    "df_diff.loc[(df_diff['Classification rules'].isnull()) & (df_diff.NPM1 == 1) & (df_diff.ITD == 1),'Classification rules'] ='NPM1 == 1 and ITD == 1'"
   ]
  },
  {
   "cell_type": "code",
   "execution_count": 21,
   "metadata": {},
   "outputs": [
    {
     "name": "stdout",
     "output_type": "stream",
     "text": [
      "(67, 524)\n"
     ]
    },
    {
     "data": {
      "text/html": [
       "<div>\n",
       "<style scoped>\n",
       "    .dataframe tbody tr th:only-of-type {\n",
       "        vertical-align: middle;\n",
       "    }\n",
       "\n",
       "    .dataframe tbody tr th {\n",
       "        vertical-align: top;\n",
       "    }\n",
       "\n",
       "    .dataframe thead th {\n",
       "        text-align: right;\n",
       "    }\n",
       "</style>\n",
       "<table border=\"1\" class=\"dataframe\">\n",
       "  <thead>\n",
       "    <tr style=\"text-align: right;\">\n",
       "      <th></th>\n",
       "      <th>initial_eln_2017</th>\n",
       "      <th>eln_2017</th>\n",
       "      <th>positive mutation</th>\n",
       "      <th>Classification rules</th>\n",
       "    </tr>\n",
       "    <tr>\n",
       "      <th>data_pd</th>\n",
       "      <th></th>\n",
       "      <th></th>\n",
       "      <th></th>\n",
       "      <th></th>\n",
       "    </tr>\n",
       "  </thead>\n",
       "  <tbody>\n",
       "    <tr>\n",
       "      <th>PD20320a</th>\n",
       "      <td>intermediate</td>\n",
       "      <td>favorable</td>\n",
       "      <td>[FLT3_ITD, NPM1, TET2]</td>\n",
       "      <td>NPM1 == 1 and ITD == 0</td>\n",
       "    </tr>\n",
       "    <tr>\n",
       "      <th>PD20312a</th>\n",
       "      <td>intermediate</td>\n",
       "      <td>favorable</td>\n",
       "      <td>[CEBPA_mono, FLT3_ITD, NPM1, TET2]</td>\n",
       "      <td>NPM1 == 1 and ITD == 0</td>\n",
       "    </tr>\n",
       "    <tr>\n",
       "      <th>PD20306a</th>\n",
       "      <td>adverse</td>\n",
       "      <td>intermediate</td>\n",
       "      <td>[DNMT3A, FLT3_ITD]</td>\n",
       "      <td>NPM1 == 0 and ITD == 0</td>\n",
       "    </tr>\n",
       "    <tr>\n",
       "      <th>PD20253a</th>\n",
       "      <td>intermediate</td>\n",
       "      <td>favorable</td>\n",
       "      <td>[DNMT3A, FLT3_ITD, NPM1, NRAS_p.G12_13, TET2]</td>\n",
       "      <td>NPM1 == 1 and ITD == 0</td>\n",
       "    </tr>\n",
       "    <tr>\n",
       "      <th>PD20251c</th>\n",
       "      <td>adverse</td>\n",
       "      <td>intermediate</td>\n",
       "      <td>[DNMT3A, FLT3_ITD, IDH2_p.R140]</td>\n",
       "      <td>NPM1 == 0 and ITD == 0</td>\n",
       "    </tr>\n",
       "  </tbody>\n",
       "</table>\n",
       "</div>"
      ],
      "text/plain": [
       "         initial_eln_2017      eln_2017  \\\n",
       "data_pd                                   \n",
       "PD20320a     intermediate     favorable   \n",
       "PD20312a     intermediate     favorable   \n",
       "PD20306a          adverse  intermediate   \n",
       "PD20253a     intermediate     favorable   \n",
       "PD20251c          adverse  intermediate   \n",
       "\n",
       "                                      positive mutation  \\\n",
       "data_pd                                                   \n",
       "PD20320a                         [FLT3_ITD, NPM1, TET2]   \n",
       "PD20312a             [CEBPA_mono, FLT3_ITD, NPM1, TET2]   \n",
       "PD20306a                             [DNMT3A, FLT3_ITD]   \n",
       "PD20253a  [DNMT3A, FLT3_ITD, NPM1, NRAS_p.G12_13, TET2]   \n",
       "PD20251c                [DNMT3A, FLT3_ITD, IDH2_p.R140]   \n",
       "\n",
       "            Classification rules  \n",
       "data_pd                           \n",
       "PD20320a  NPM1 == 1 and ITD == 0  \n",
       "PD20312a  NPM1 == 1 and ITD == 0  \n",
       "PD20306a  NPM1 == 0 and ITD == 0  \n",
       "PD20253a  NPM1 == 1 and ITD == 0  \n",
       "PD20251c  NPM1 == 0 and ITD == 0  "
      ]
     },
     "execution_count": 21,
     "metadata": {},
     "output_type": "execute_result"
    }
   ],
   "source": [
    "print(df_diff.shape)\n",
    "df_diff[['initial_eln_2017','eln_2017','positive mutation','Classification rules']].head()"
   ]
  },
  {
   "cell_type": "code",
   "execution_count": null,
   "metadata": {},
   "outputs": [],
   "source": []
  },
  {
   "cell_type": "code",
   "execution_count": 564,
   "metadata": {},
   "outputs": [
    {
     "name": "stdout",
     "output_type": "stream",
     "text": [
      "(67, 524)\n"
     ]
    },
    {
     "data": {
      "text/html": [
       "<div>\n",
       "<style scoped>\n",
       "    .dataframe tbody tr th:only-of-type {\n",
       "        vertical-align: middle;\n",
       "    }\n",
       "\n",
       "    .dataframe tbody tr th {\n",
       "        vertical-align: top;\n",
       "    }\n",
       "\n",
       "    .dataframe thead th {\n",
       "        text-align: right;\n",
       "    }\n",
       "</style>\n",
       "<table border=\"1\" class=\"dataframe\">\n",
       "  <thead>\n",
       "    <tr style=\"text-align: right;\">\n",
       "      <th></th>\n",
       "      <th>initial_eln_2017</th>\n",
       "      <th>eln_2017</th>\n",
       "      <th>positive mutation</th>\n",
       "      <th>Classification rules</th>\n",
       "    </tr>\n",
       "    <tr>\n",
       "      <th>data_pd</th>\n",
       "      <th></th>\n",
       "      <th></th>\n",
       "      <th></th>\n",
       "      <th></th>\n",
       "    </tr>\n",
       "  </thead>\n",
       "  <tbody>\n",
       "    <tr>\n",
       "      <th>PD20320a</th>\n",
       "      <td>intermediate</td>\n",
       "      <td>favorable</td>\n",
       "      <td>[FLT3_ITD, NPM1, TET2]</td>\n",
       "      <td>NPM1 == 1 and ITD == 0</td>\n",
       "    </tr>\n",
       "    <tr>\n",
       "      <th>PD20312a</th>\n",
       "      <td>intermediate</td>\n",
       "      <td>favorable</td>\n",
       "      <td>[CEBPA_mono, FLT3_ITD, NPM1, TET2]</td>\n",
       "      <td>NPM1 == 1 and ITD == 0</td>\n",
       "    </tr>\n",
       "    <tr>\n",
       "      <th>PD20306a</th>\n",
       "      <td>adverse</td>\n",
       "      <td>intermediate</td>\n",
       "      <td>[DNMT3A, FLT3_ITD]</td>\n",
       "      <td>NPM1 == 0 and ITD == 0</td>\n",
       "    </tr>\n",
       "    <tr>\n",
       "      <th>PD20253a</th>\n",
       "      <td>intermediate</td>\n",
       "      <td>favorable</td>\n",
       "      <td>[DNMT3A, FLT3_ITD, NPM1, NRAS_p.G12_13, TET2]</td>\n",
       "      <td>NPM1 == 1 and ITD == 0</td>\n",
       "    </tr>\n",
       "    <tr>\n",
       "      <th>PD20251c</th>\n",
       "      <td>adverse</td>\n",
       "      <td>intermediate</td>\n",
       "      <td>[DNMT3A, FLT3_ITD, IDH2_p.R140]</td>\n",
       "      <td>NPM1 == 0 and ITD == 0</td>\n",
       "    </tr>\n",
       "  </tbody>\n",
       "</table>\n",
       "</div>"
      ],
      "text/plain": [
       "         initial_eln_2017      eln_2017  \\\n",
       "data_pd                                   \n",
       "PD20320a     intermediate     favorable   \n",
       "PD20312a     intermediate     favorable   \n",
       "PD20306a          adverse  intermediate   \n",
       "PD20253a     intermediate     favorable   \n",
       "PD20251c          adverse  intermediate   \n",
       "\n",
       "                                      positive mutation  \\\n",
       "data_pd                                                   \n",
       "PD20320a                         [FLT3_ITD, NPM1, TET2]   \n",
       "PD20312a             [CEBPA_mono, FLT3_ITD, NPM1, TET2]   \n",
       "PD20306a                             [DNMT3A, FLT3_ITD]   \n",
       "PD20253a  [DNMT3A, FLT3_ITD, NPM1, NRAS_p.G12_13, TET2]   \n",
       "PD20251c                [DNMT3A, FLT3_ITD, IDH2_p.R140]   \n",
       "\n",
       "            Classification rules  \n",
       "data_pd                           \n",
       "PD20320a  NPM1 == 1 and ITD == 0  \n",
       "PD20312a  NPM1 == 1 and ITD == 0  \n",
       "PD20306a  NPM1 == 0 and ITD == 0  \n",
       "PD20253a  NPM1 == 1 and ITD == 0  \n",
       "PD20251c  NPM1 == 0 and ITD == 0  "
      ]
     },
     "execution_count": 564,
     "metadata": {},
     "output_type": "execute_result"
    }
   ],
   "source": [
    "print(df_diff.shape)\n",
    "df_diff[['initial_eln_2017','eln_2017','positive mutation','Classification rules']].head()"
   ]
  },
  {
   "cell_type": "code",
   "execution_count": 576,
   "metadata": {},
   "outputs": [],
   "source": [
    "df_diff[['initial_eln_2017','eln_2017','positive mutation','Classification rules']].to_csv(\"differences.csv\",sep=\",\")"
   ]
  },
  {
   "cell_type": "markdown",
   "metadata": {},
   "source": [
    "## III- Add the new ELN classification in the df final with the other translocation rules dataset"
   ]
  },
  {
   "cell_type": "code",
   "execution_count": 565,
   "metadata": {},
   "outputs": [
    {
     "data": {
      "text/plain": [
       "(2150, 152)"
      ]
     },
     "execution_count": 565,
     "metadata": {},
     "output_type": "execute_result"
    }
   ],
   "source": [
    "df_final.shape"
   ]
  },
  {
   "cell_type": "code",
   "execution_count": 567,
   "metadata": {},
   "outputs": [],
   "source": [
    "df_final_eln = df_final.merge(pd.DataFrame(merge_eln[['eln_2017']]),left_index=True,right_index=True)"
   ]
  },
  {
   "cell_type": "code",
   "execution_count": 571,
   "metadata": {},
   "outputs": [
    {
     "name": "stdout",
     "output_type": "stream",
     "text": [
      "(2150, 153)\n"
     ]
    },
    {
     "data": {
      "text/html": [
       "<div>\n",
       "<style scoped>\n",
       "    .dataframe tbody tr th:only-of-type {\n",
       "        vertical-align: middle;\n",
       "    }\n",
       "\n",
       "    .dataframe tbody tr th {\n",
       "        vertical-align: top;\n",
       "    }\n",
       "\n",
       "    .dataframe thead th {\n",
       "        text-align: right;\n",
       "    }\n",
       "</style>\n",
       "<table border=\"1\" class=\"dataframe\">\n",
       "  <thead>\n",
       "    <tr style=\"text-align: right;\">\n",
       "      <th></th>\n",
       "      <th>sample_pd</th>\n",
       "      <th>ASXL1</th>\n",
       "      <th>ASXL2</th>\n",
       "      <th>ASXL3</th>\n",
       "      <th>ATRX</th>\n",
       "      <th>BAGE3</th>\n",
       "      <th>BCOR</th>\n",
       "      <th>BRAF</th>\n",
       "      <th>CBFB</th>\n",
       "      <th>CBL</th>\n",
       "      <th>...</th>\n",
       "      <th>t_8_16</th>\n",
       "      <th>t_8_17</th>\n",
       "      <th>t_8_21</th>\n",
       "      <th>t_9_11</th>\n",
       "      <th>t_9_13</th>\n",
       "      <th>t_9_17</th>\n",
       "      <th>t_9_22</th>\n",
       "      <th>complex</th>\n",
       "      <th>others_transloc</th>\n",
       "      <th>eln_2017</th>\n",
       "    </tr>\n",
       "    <tr>\n",
       "      <th>data_pd</th>\n",
       "      <th></th>\n",
       "      <th></th>\n",
       "      <th></th>\n",
       "      <th></th>\n",
       "      <th></th>\n",
       "      <th></th>\n",
       "      <th></th>\n",
       "      <th></th>\n",
       "      <th></th>\n",
       "      <th></th>\n",
       "      <th></th>\n",
       "      <th></th>\n",
       "      <th></th>\n",
       "      <th></th>\n",
       "      <th></th>\n",
       "      <th></th>\n",
       "      <th></th>\n",
       "      <th></th>\n",
       "      <th></th>\n",
       "      <th></th>\n",
       "      <th></th>\n",
       "    </tr>\n",
       "  </thead>\n",
       "  <tbody>\n",
       "    <tr>\n",
       "      <th>PD20338c</th>\n",
       "      <td>PD20338c</td>\n",
       "      <td>0</td>\n",
       "      <td>0</td>\n",
       "      <td>0</td>\n",
       "      <td>0</td>\n",
       "      <td>0</td>\n",
       "      <td>0</td>\n",
       "      <td>0</td>\n",
       "      <td>0</td>\n",
       "      <td>0</td>\n",
       "      <td>...</td>\n",
       "      <td>0</td>\n",
       "      <td>0</td>\n",
       "      <td>0</td>\n",
       "      <td>0</td>\n",
       "      <td>0</td>\n",
       "      <td>0</td>\n",
       "      <td>0</td>\n",
       "      <td>0</td>\n",
       "      <td>0</td>\n",
       "      <td>favorable</td>\n",
       "    </tr>\n",
       "    <tr>\n",
       "      <th>PD20337c</th>\n",
       "      <td>PD20337c</td>\n",
       "      <td>0</td>\n",
       "      <td>0</td>\n",
       "      <td>0</td>\n",
       "      <td>0</td>\n",
       "      <td>0</td>\n",
       "      <td>0</td>\n",
       "      <td>0</td>\n",
       "      <td>0</td>\n",
       "      <td>0</td>\n",
       "      <td>...</td>\n",
       "      <td>0</td>\n",
       "      <td>0</td>\n",
       "      <td>0</td>\n",
       "      <td>0</td>\n",
       "      <td>0</td>\n",
       "      <td>0</td>\n",
       "      <td>0</td>\n",
       "      <td>0</td>\n",
       "      <td>0</td>\n",
       "      <td>intermediate</td>\n",
       "    </tr>\n",
       "    <tr>\n",
       "      <th>PD20336a</th>\n",
       "      <td>PD20336a</td>\n",
       "      <td>0</td>\n",
       "      <td>0</td>\n",
       "      <td>0</td>\n",
       "      <td>0</td>\n",
       "      <td>0</td>\n",
       "      <td>0</td>\n",
       "      <td>0</td>\n",
       "      <td>0</td>\n",
       "      <td>0</td>\n",
       "      <td>...</td>\n",
       "      <td>0</td>\n",
       "      <td>0</td>\n",
       "      <td>0</td>\n",
       "      <td>0</td>\n",
       "      <td>0</td>\n",
       "      <td>0</td>\n",
       "      <td>0</td>\n",
       "      <td>0</td>\n",
       "      <td>0</td>\n",
       "      <td>adverse</td>\n",
       "    </tr>\n",
       "    <tr>\n",
       "      <th>PD20335c</th>\n",
       "      <td>PD20335c</td>\n",
       "      <td>0</td>\n",
       "      <td>0</td>\n",
       "      <td>0</td>\n",
       "      <td>0</td>\n",
       "      <td>0</td>\n",
       "      <td>0</td>\n",
       "      <td>0</td>\n",
       "      <td>0</td>\n",
       "      <td>0</td>\n",
       "      <td>...</td>\n",
       "      <td>0</td>\n",
       "      <td>0</td>\n",
       "      <td>0</td>\n",
       "      <td>0</td>\n",
       "      <td>0</td>\n",
       "      <td>0</td>\n",
       "      <td>0</td>\n",
       "      <td>0</td>\n",
       "      <td>0</td>\n",
       "      <td>favorable</td>\n",
       "    </tr>\n",
       "    <tr>\n",
       "      <th>PD20334a</th>\n",
       "      <td>PD20334a</td>\n",
       "      <td>0</td>\n",
       "      <td>0</td>\n",
       "      <td>0</td>\n",
       "      <td>0</td>\n",
       "      <td>0</td>\n",
       "      <td>0</td>\n",
       "      <td>0</td>\n",
       "      <td>0</td>\n",
       "      <td>0</td>\n",
       "      <td>...</td>\n",
       "      <td>0</td>\n",
       "      <td>0</td>\n",
       "      <td>0</td>\n",
       "      <td>0</td>\n",
       "      <td>0</td>\n",
       "      <td>0</td>\n",
       "      <td>0</td>\n",
       "      <td>0</td>\n",
       "      <td>0</td>\n",
       "      <td>adverse</td>\n",
       "    </tr>\n",
       "  </tbody>\n",
       "</table>\n",
       "<p>5 rows × 153 columns</p>\n",
       "</div>"
      ],
      "text/plain": [
       "         sample_pd  ASXL1  ASXL2  ASXL3  ATRX  BAGE3  BCOR  BRAF  CBFB  CBL  \\\n",
       "data_pd                                                                       \n",
       "PD20338c  PD20338c      0      0      0     0      0     0     0     0    0   \n",
       "PD20337c  PD20337c      0      0      0     0      0     0     0     0    0   \n",
       "PD20336a  PD20336a      0      0      0     0      0     0     0     0    0   \n",
       "PD20335c  PD20335c      0      0      0     0      0     0     0     0    0   \n",
       "PD20334a  PD20334a      0      0      0     0      0     0     0     0    0   \n",
       "\n",
       "              ...       t_8_16  t_8_17  t_8_21  t_9_11  t_9_13  t_9_17  \\\n",
       "data_pd       ...                                                        \n",
       "PD20338c      ...            0       0       0       0       0       0   \n",
       "PD20337c      ...            0       0       0       0       0       0   \n",
       "PD20336a      ...            0       0       0       0       0       0   \n",
       "PD20335c      ...            0       0       0       0       0       0   \n",
       "PD20334a      ...            0       0       0       0       0       0   \n",
       "\n",
       "          t_9_22  complex  others_transloc      eln_2017  \n",
       "data_pd                                                   \n",
       "PD20338c       0        0                0     favorable  \n",
       "PD20337c       0        0                0  intermediate  \n",
       "PD20336a       0        0                0       adverse  \n",
       "PD20335c       0        0                0     favorable  \n",
       "PD20334a       0        0                0       adverse  \n",
       "\n",
       "[5 rows x 153 columns]"
      ]
     },
     "execution_count": 571,
     "metadata": {},
     "output_type": "execute_result"
    }
   ],
   "source": [
    "print(df_final_eln.shape)\n",
    "df_final_eln.head()"
   ]
  },
  {
   "cell_type": "markdown",
   "metadata": {},
   "source": [
    "#### Let's save it"
   ]
  },
  {
   "cell_type": "code",
   "execution_count": 572,
   "metadata": {},
   "outputs": [],
   "source": [
    "df_final_eln.to_csv(\"../../../data/updated_dataset/modif_final_eln.csv\",sep=\",\")"
   ]
  },
  {
   "cell_type": "code",
   "execution_count": null,
   "metadata": {},
   "outputs": [],
   "source": []
  }
 ],
 "metadata": {
  "kernelspec": {
   "display_name": "Python 3",
   "language": "python",
   "name": "python3"
  },
  "language_info": {
   "codemirror_mode": {
    "name": "ipython",
    "version": 3
   },
   "file_extension": ".py",
   "mimetype": "text/x-python",
   "name": "python",
   "nbconvert_exporter": "python",
   "pygments_lexer": "ipython3",
   "version": "3.7.1"
  }
 },
 "nbformat": 4,
 "nbformat_minor": 2
}

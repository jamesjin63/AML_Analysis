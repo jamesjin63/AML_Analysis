{
 "cells": [
  {
   "cell_type": "code",
   "execution_count": 20,
   "metadata": {},
   "outputs": [],
   "source": [
    "df_all_components <- read.table(\"../../../data/updated_dataset/all_components.tsv\",sep = '\\t' , header = T)\n",
    "df_initial <- read.table(\"../../../data/initial_dataset/Master_04_10_2019.csv\",sep = ',' , header = T)\n",
    "rownames(df_initial) <- df_initial$data_pd\n",
    "df_initial <- df_initial[,-1:-4]"
   ]
  },
  {
   "cell_type": "code",
   "execution_count": 21,
   "metadata": {},
   "outputs": [],
   "source": [
    "tmp <- merge(df_initial,df_all_components['predicted_component'],by=0)\n",
    "rownames(tmp) <- tmp$Row.names\n",
    "tmp <- tmp[,-1]\n",
    "tmp <- tmp[,c(124:169,171:210,317:365,367:475,477)]"
   ]
  },
  {
   "cell_type": "code",
   "execution_count": 22,
   "metadata": {},
   "outputs": [],
   "source": [
    "# additions\n",
    "###\n",
    "for (i in 1:22){\n",
    "    tmp[,paste(\"add_\",as.character(i),sep=\"\")] <- tmp[,paste(\"add_\",\"p\",sep=as.character(i))]+tmp[,paste(\"add_\",\"q\",sep=as.character(i))]+tmp[,paste(\"plus\",as.character(i),sep=\"\")]\n",
    "    tmp[,paste(\"add_\",as.character(i),sep=\"\")][tmp[,paste(\"add_\",as.character(i),sep=\"\")]>=2] <-1\n",
    "} \n",
    "tmp$add_x <- tmp$add_xp + tmp$add_xq + tmp$plusx\n",
    "tmp$add_y <- tmp$plusy\n",
    "###\n",
    "# deletions\n",
    "###\n",
    "for (i in c(c(1,2,3),5:13,15:19)){\n",
    "    tmp[,paste(\"del_\",as.character(i),sep=\"\")] <- tmp[,paste(\"del_\",\"p\",sep=as.character(i))]+tmp[,paste(\"del_\",\"q\",sep=as.character(i))]+tmp[,paste(\"minus\",as.character(i),sep=\"\")]\n",
    "    tmp[,paste(\"del_\",as.character(i),sep=\"\")][tmp[,paste(\"del_\",as.character(i),sep=\"\")]>=2] <-1  \n",
    "}\n",
    "for (i in c(c(4,14,20,21,22),\"x\")){\n",
    "    tmp[,paste(\"del_\",as.character(i),sep=\"\")]<- tmp[,paste(\"del_\",\"q\",sep=as.character(i))]+tmp[,paste(\"minus\",as.character(i),sep=\"\")]\n",
    "}     \n",
    "tmp$del_y <- tmp$minusy\n",
    "###"
   ]
  },
  {
   "cell_type": "code",
   "execution_count": 23,
   "metadata": {},
   "outputs": [],
   "source": [
    "tmp$sum <- rowSums(tmp[,246:293],na.rm=T)\n",
    "k <- tmp[,c(paste(\"add_\",c((1:22),\"x\",\"y\"),sep=\"\"),paste(\"del_\",c((1:22),\"x\",\"y\"),sep=\"\"),\"complex\",\"sum\",\"t_8_21\",\"t_15_17\")]\n",
    "#k[k$sum>=3 & k$complex==0,]"
   ]
  },
  {
   "cell_type": "code",
   "execution_count": 27,
   "metadata": {},
   "outputs": [
    {
     "data": {
      "text/html": [
       "<ol class=list-inline>\n",
       "\t<li>226</li>\n",
       "\t<li>52</li>\n",
       "</ol>\n"
      ],
      "text/latex": [
       "\\begin{enumerate*}\n",
       "\\item 226\n",
       "\\item 52\n",
       "\\end{enumerate*}\n"
      ],
      "text/markdown": [
       "1. 226\n",
       "2. 52\n",
       "\n",
       "\n"
      ],
      "text/plain": [
       "[1] 226  52"
      ]
     },
     "metadata": {},
     "output_type": "display_data"
    }
   ],
   "source": [
    "dim(k[k$sum>2,])"
   ]
  },
  {
   "cell_type": "code",
   "execution_count": null,
   "metadata": {},
   "outputs": [],
   "source": []
  }
 ],
 "metadata": {
  "kernelspec": {
   "display_name": "R",
   "language": "R",
   "name": "ir"
  },
  "language_info": {
   "codemirror_mode": "r",
   "file_extension": ".r",
   "mimetype": "text/x-r-source",
   "name": "R",
   "pygments_lexer": "r",
   "version": "3.5.2"
  }
 },
 "nbformat": 4,
 "nbformat_minor": 2
}

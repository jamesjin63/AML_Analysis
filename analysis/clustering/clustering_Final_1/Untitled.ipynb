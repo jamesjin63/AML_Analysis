{
 "cells": [
  {
   "cell_type": "code",
   "execution_count": 3,
   "metadata": {},
   "outputs": [],
   "source": [
    "library(gridExtra)\n",
    "library(matrixStats)\n",
    "library(dplyr)\n",
    "library(rlang)\n",
    "library(reshape2)\n",
    "library(clusterCrit)\n",
    "library(grid)\n",
    "library(ggrepel)\n",
    "library(RColorBrewer)\n",
    "library(dplyr)\n",
    "library(IRdisplay)\n",
    "library(scales)\n",
    "library(survival)\n",
    "library(corrplot)\n",
    "library(Hmisc)\n",
    "library(ggplot2)\n",
    "library(survminer)\n",
    "library(muhaz)\n",
    "\n",
    "options(warn=-1)\n",
    "\n",
    "source('../../../src/tools.R')     # custom tools function\n",
    "source('../../../src/hdp_tools_yanis.R')\n",
    "source(\"../../../src/merge_df.R\")\n",
    "source(\"../../../src/my_toolbox.R\")\n",
    "source(\"../../../src/my_components.R\")\n",
    "source(\"../../../src/my_utils.R\")\n",
    "source(\"../../../src/ggstyles.R\")\n",
    "source(\"../../../src/my_hotspots.R\")\n",
    "###\n",
    "\n",
    "\n",
    "theme_set(theme_minimal())\n",
    "\n",
    "# set jupyer notebook parameters\n",
    "options(repr.plot.res        = 100, # set a medium-definition resolution for the jupyter notebooks plots (DPI)\n",
    "        repr.matrix.max.rows = 200, # set the maximum number of rows displayed\n",
    "        repr.matrix.max.cols = 200) # set the maximum number of columns displayed"
   ]
  },
  {
   "cell_type": "code",
   "execution_count": 2,
   "metadata": {},
   "outputs": [],
   "source": [
    "df_final <- read.table(\"df_final_full_component_ITD.tsv\")\n",
    "eln <- colnames(df_final[,c(2,3,4)])\n",
    "comp <- colnames(df_final[,c(170:193)])\n",
    "\n",
    "all_gen <- c(5:88)\n",
    "vect <- apply(X=df_final[,all_gen],2,FUN=function(x) 100*length(which(x==1))/dim(df_final)[1])\n",
    "gen <- colnames(df_final[,match(names(vect[vect>=2]),names(df_final))])\n",
    "              \n",
    "all_cyto <- c(89:158)\n",
    "vect <- apply(X=df_final[,all_cyto],2,FUN=function(x) 100*length(which(x==1))/dim(df_final)[1])\n",
    "cyto <- colnames(df_final[,match(names(vect[vect>=2]),names(df_final))])\n",
    "              \n",
    "clin <- colnames(df_final[,c(159:165)])\n",
    "demo <- colnames(df_final[,c(166:167)])"
   ]
  },
  {
   "cell_type": "code",
   "execution_count": null,
   "metadata": {},
   "outputs": [],
   "source": []
  }
 ],
 "metadata": {
  "kernelspec": {
   "display_name": "R",
   "language": "R",
   "name": "ir"
  },
  "language_info": {
   "codemirror_mode": "r",
   "file_extension": ".r",
   "mimetype": "text/x-r-source",
   "name": "R",
   "pygments_lexer": "r",
   "version": "3.5.2"
  }
 },
 "nbformat": 4,
 "nbformat_minor": 2
}

{
 "cells": [
  {
   "cell_type": "code",
   "execution_count": 4,
   "metadata": {},
   "outputs": [],
   "source": [
    "import os\n",
    "from PyPDF2 import PdfFileMerger"
   ]
  },
  {
   "cell_type": "markdown",
   "metadata": {},
   "source": [
    "# CONCAT ALL PDFS"
   ]
  },
  {
   "cell_type": "code",
   "execution_count": 5,
   "metadata": {},
   "outputs": [],
   "source": [
    "#MOLECULAR DRIVERS CONCAT\n",
    "\n",
    "merger = PdfFileMerger()\n",
    "to_merge =[\"../../../prognosis/Prognosis_locked/graphs/Overall Summary.pdf\",\"volcano_plot.pdf\",\"../../../prognosis/Prognosis_locked/graphs/ALL_GENES.pdf\"]\n",
    "for pdf in to_merge:\n",
    "    merger.append(pdf)\n",
    "\n",
    "merger.write(\"CONCAT_MOLECULAR.pdf\")\n",
    "merger.close()"
   ]
  },
  {
   "cell_type": "code",
   "execution_count": 24,
   "metadata": {},
   "outputs": [],
   "source": [
    "# COMPONENT CONCAT\n",
    "merger = PdfFileMerger()\n",
    "to_merge =[\"component_repartition.pdf\",\"heatmap.pdf\",\"comparison_components_ITD.pdf\",\"eln_comp_surv.pdf\",\"summary_multi_analysis.pdf\",\"survival_summary_plots.pdf\",\"../../../prognosis/Prognosis_locked/graphs/ALL_COMPONENTS.pdf\"]\n",
    "for pdf in to_merge:\n",
    "    merger.append(pdf)\n",
    "\n",
    "merger.write(\"CONCAT_COMPONENTS.pdf\")\n",
    "merger.close()"
   ]
  },
  {
   "cell_type": "code",
   "execution_count": 25,
   "metadata": {},
   "outputs": [],
   "source": [
    "# DIGGING SPLICING AND TP53 CONCAT\n",
    "merger = PdfFileMerger()\n",
    "to_merge =[\"chr_splicing_zoom.pdf\",\"TP53_complex_digging.pdf\"]\n",
    "for pdf in to_merge:\n",
    "    merger.append(pdf)\n",
    "\n",
    "merger.write(\"CONCAT_Digging_p53_splicing.pdf\")\n",
    "merger.close()"
   ]
  },
  {
   "cell_type": "code",
   "execution_count": 12,
   "metadata": {},
   "outputs": [],
   "source": [
    "# DIGGING SPLICING AND TP53 CONCAT\n",
    "merger = PdfFileMerger()\n",
    "to_merge =[\"chr_splicing_zoom.pdf\",\"TP53_complex_digging.pdf\"]\n",
    "for pdf in to_merge:\n",
    "    merger.append(pdf)\n",
    "\n",
    "merger.write(\"CONCAT_Digging_p53_splicing.pdf\")\n",
    "merger.close()"
   ]
  },
  {
   "cell_type": "code",
   "execution_count": 13,
   "metadata": {},
   "outputs": [],
   "source": [
    "# Prognosis CONCAT\n",
    "\n",
    "merger = PdfFileMerger()\n",
    "to_merge =[\"../../../prognosis/Prognosis_locked/graphs/Prognosis_results/all_models.pdf\",\"../../../prognosis/Prognosis_locked/graphs/Prognosis_results/by_model_by_algos.pdf\"]\n",
    "for pdf in to_merge:\n",
    "    merger.append(pdf)\n",
    "\n",
    "merger.write(\"CONCAT_Prognosis_Results.pdf\")\n",
    "merger.close()"
   ]
  },
  {
   "cell_type": "code",
   "execution_count": 16,
   "metadata": {},
   "outputs": [],
   "source": [
    "# Prognosis COMPARISONS\n",
    "\n",
    "merger = PdfFileMerger()\n",
    "to_merge =[\"../../../prognosis/Prognosis_locked/graphs/Model_Added_value/evolution_summary.pdf\",\"../../../prognosis/Prognosis_locked/graphs/Model_Added_value/eln_effects.pdf\",\n",
    "           \"../../../prognosis/Prognosis_locked/graphs/Model_Added_value/eln_comp_effects.pdf\",\"../../../prognosis/Prognosis_locked/graphs/Model_Added_value/comp_effects.pdf\",\n",
    "           \"../../../prognosis/Prognosis_locked/graphs/Model_Added_value/clin_demo_effects.pdf\"]\n",
    "for pdf in to_merge:\n",
    "    merger.append(pdf)\n",
    "\n",
    "merger.write(\"CONCAT_Comparisons.pdf\")\n",
    "merger.close()"
   ]
  },
  {
   "cell_type": "code",
   "execution_count": 17,
   "metadata": {},
   "outputs": [],
   "source": [
    "# Prognosis Importance\n",
    "\n",
    "merger = PdfFileMerger()\n",
    "to_merge =[\"../../../prognosis/Prognosis_locked/graphs/Importance/all_models.pdf\",\"../../../prognosis/Prognosis_locked/graphs/Importance/Nagelkerke_metric.pdf\",\n",
    "           \"../../../prognosis/Prognosis_locked/graphs/Importance/age_effect.pdf\"]\n",
    "for pdf in to_merge:\n",
    "    merger.append(pdf)\n",
    "\n",
    "merger.write(\"CONCAT_Importance.pdf\")\n",
    "merger.close()"
   ]
  },
  {
   "cell_type": "code",
   "execution_count": 18,
   "metadata": {},
   "outputs": [],
   "source": [
    "# MRD\n",
    "\n",
    "merger = PdfFileMerger()\n",
    "to_merge =[\"../../../prognosis/Prognosis_locked/graphs/MRD/overall_MRD.pdf\",\"../../../prognosis/Prognosis_locked/graphs/MRD/components_MRD.pdf\",\n",
    "           \"../../../prognosis/Prognosis_locked/graphs/MRD/gene_cyto_MRD.pdf\"]\n",
    "for pdf in to_merge:\n",
    "    merger.append(pdf)\n",
    "\n",
    "merger.write(\"CONCAT_MRD.pdf\")\n",
    "merger.close()"
   ]
  },
  {
   "cell_type": "code",
   "execution_count": 20,
   "metadata": {},
   "outputs": [],
   "source": [
    "# Intensification\n",
    "\n",
    "merger = PdfFileMerger()\n",
    "to_merge =[\"../../../prognosis/Prognosis_locked/graphs/Intensification/prognosis_comparison.pdf\",\"../../../prognosis/Prognosis_locked/graphs/Intensification/KM_curves_overall_and_age.pdf\",\n",
    "           \"../../../prognosis/Prognosis_locked/graphs/Intensification/KM_curves_gen_cyto.pdf\",\"../../../prognosis/Prognosis_locked/graphs/Intensification/KM_curves_comp.pdf\",\"../../../prognosis/Prognosis_locked/graphs/Intensification/importance_intensification_by_model.pdf\"]\n",
    "for pdf in to_merge:\n",
    "    merger.append(pdf)\n",
    "\n",
    "merger.write(\"CONCAT_MRD.pdf\")\n",
    "merger.close()"
   ]
  },
  {
   "cell_type": "code",
   "execution_count": null,
   "metadata": {},
   "outputs": [],
   "source": []
  }
 ],
 "metadata": {
  "kernelspec": {
   "display_name": "Python 3",
   "language": "python",
   "name": "python3"
  },
  "language_info": {
   "codemirror_mode": {
    "name": "ipython",
    "version": 3
   },
   "file_extension": ".py",
   "mimetype": "text/x-python",
   "name": "python",
   "nbconvert_exporter": "python",
   "pygments_lexer": "ipython3",
   "version": "3.7.1"
  }
 },
 "nbformat": 4,
 "nbformat_minor": 2
}

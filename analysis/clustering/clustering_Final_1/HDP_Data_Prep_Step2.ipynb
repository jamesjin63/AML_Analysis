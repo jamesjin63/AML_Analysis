{
 "cells": [
  {
   "cell_type": "markdown",
   "metadata": {},
   "source": [
    "# RULES :\n",
    "\n",
    "Step 1 to 5 already done. Now, we do step 6 and 7\n",
    "\n",
    "1) Replace FLT3_ITD by new column ITD where we have set up the rules.\n",
    "\n",
    "2) Additions : sum (p and q) and return 1 if sum >=1 for each chromosome . ex : add_10 = add_10p+add_10q\n",
    "\n",
    "3) Deletions : exactly the same . ex: del_10 = del_10p +del_10q\n",
    "\n",
    "4) Keep only new columns additions and deletions with frequency >=2%\n",
    "\n",
    "5) Translocations : Keep all translocations that appear at least two times. For translocations that appear only once : create a new column \"other transloc\" to sum all those translocation and return 1 when value is >=1\n",
    "\n",
    "6) Inversions : There is only one inversion with frequency greater than 2% (inv  16). we will add inv3 because it creates its own cluster with SF3B1. (We will not do this in this notebook).\n",
    "\n",
    "7) Replace complex columns by : 1 if sumn of aneuploidies (any additions and any deletions is >=3)"
   ]
  },
  {
   "cell_type": "code",
   "execution_count": 9,
   "metadata": {},
   "outputs": [],
   "source": [
    "library(dplyr)"
   ]
  },
  {
   "cell_type": "markdown",
   "metadata": {},
   "source": [
    "# 6 Add inversion 16 and inversion 3"
   ]
  },
  {
   "cell_type": "code",
   "execution_count": 19,
   "metadata": {},
   "outputs": [],
   "source": [
    "df_final <- read.table(\"../../../data/updated_dataset/modif_final.csv\",sep = ',' , header = T)\n",
    "rownames(df_final)<- df_final$data_pd\n",
    "df_final <- df_final[,-1:-3]\n",
    "df_master <- read.table(\"../../../data/initial_dataset/Master_04_10_2019.csv\",sep = ',' , header = T)\n",
    "rownames(df_master) <- df_master$data_pd\n",
    "df_final <- merge(df_final,df_master[c('inv_3','inv_16')],by=0)\n",
    "rownames(df_final) <- df_final$Row.names\n",
    "df_final <- df_final[,-1]"
   ]
  },
  {
   "cell_type": "markdown",
   "metadata": {},
   "source": [
    "# 7 Set up the new column complex "
   ]
  },
  {
   "cell_type": "code",
   "execution_count": 20,
   "metadata": {},
   "outputs": [],
   "source": [
    "\n",
    "df_initial <- read.table(\"../../../data/initial_dataset/Master_04_10_2019.csv\",sep = ',' , header = T)\n",
    "rownames(df_initial) <- df_initial$data_pd\n",
    "df_initial <- df_initial[,-1:-4]\n",
    "tmp <- df_initial\n",
    "\n",
    "tmp <- tmp[,c(124:169,171:210,317:365,367:475,477)]\n",
    "for (i in 1:22){\n",
    "    tmp[,paste(\"add_\",as.character(i),sep=\"\")] <- tmp[,paste(\"add_\",\"p\",sep=as.character(i))]+tmp[,paste(\"add_\",\"q\",sep=as.character(i))]+tmp[,paste(\"plus\",as.character(i),sep=\"\")]\n",
    "    tmp[,paste(\"add_\",as.character(i),sep=\"\")][tmp[,paste(\"add_\",as.character(i),sep=\"\")]>=2] <-1\n",
    "} \n",
    "tmp$add_x <- tmp$add_xp + tmp$add_xq + tmp$plusx\n",
    "tmp$add_y <- tmp$plusy\n",
    "###\n",
    "# deletions\n",
    "###\n",
    "for (i in c(c(1,2,3),5:13,15:19)){\n",
    "    tmp[,paste(\"del_\",as.character(i),sep=\"\")] <- tmp[,paste(\"del_\",\"p\",sep=as.character(i))]+tmp[,paste(\"del_\",\"q\",sep=as.character(i))]+tmp[,paste(\"minus\",as.character(i),sep=\"\")]\n",
    "    tmp[,paste(\"del_\",as.character(i),sep=\"\")][tmp[,paste(\"del_\",as.character(i),sep=\"\")]>=2] <-1  \n",
    "}\n",
    "for (i in c(c(4,14,20,21,22),\"x\")){\n",
    "    tmp[,paste(\"del_\",as.character(i),sep=\"\")]<- tmp[,paste(\"del_\",\"q\",sep=as.character(i))]+tmp[,paste(\"minus\",as.character(i),sep=\"\")]\n",
    "}     \n",
    "tmp$del_y <- tmp$minusy\n",
    "tmp$sum <- rowSums(tmp[,246:293],na.rm=T)  ## to sum only for add and del \n",
    "tmp$new_complex <- ifelse(tmp$sum>=3,1,0)"
   ]
  },
  {
   "cell_type": "markdown",
   "metadata": {},
   "source": [
    "# HDP Dataframe"
   ]
  },
  {
   "cell_type": "markdown",
   "metadata": {},
   "source": [
    "# 1) Without U2AF1 Separation\n",
    "\n",
    "We call it \"aml_data genes.tsv\" in AML_Paper Project"
   ]
  },
  {
   "cell_type": "code",
   "execution_count": 21,
   "metadata": {},
   "outputs": [],
   "source": [
    "df_final <- merge(df_final,tmp['new_complex'],by=0)\n",
    "rownames(df_final) <- df_final$Row.names \n",
    "df_final <- df_final[-1]\n",
    "df_final$complex <- df_final$new_complex\n",
    "df_final$new_complex <- NULL"
   ]
  },
  {
   "cell_type": "code",
   "execution_count": null,
   "metadata": {},
   "outputs": [],
   "source": [
    "#write.table(df_final,\"modif_final.tsv\")"
   ]
  },
  {
   "cell_type": "markdown",
   "metadata": {},
   "source": [
    "# 2) With U2AF1 Separation"
   ]
  },
  {
   "cell_type": "code",
   "execution_count": 60,
   "metadata": {},
   "outputs": [],
   "source": [
    "df_hotspots <- read.table(\"../../../data/initial_dataset/1013.mut.csv\",sep=',', header = T)\n",
    "df_hotspots <- df_hotspots[df_hotspots$gene==\"U2AF1\",c(\"data_pd\",\"gene\",\"protein\")]\n",
    "df_hotspots$U2AF1_p.S34 <- ifelse(grepl( \"34\",df_hotspots$protein) | grepl( \"35\",df_hotspots$protein),1,0)\n",
    "df_hotspots$U2AF1_p.Q157 <- ifelse(grepl( \"157\",df_hotspots$protein) | grepl( \"156\",df_hotspots$protein),1,0)\n",
    "df_hotspots <- unique(df_hotspots,by=\"data_pd\")\n",
    "\n",
    "newd <-  df_hotspots %>% group_by(data_pd) %>% filter(n()>1)\n",
    "\n",
    "tmp1 <- data.frame(data_pd=unique(newd$data_pd),gene=rep(\"U2AF1\",length(unique(newd$data_pd))),protein=rep(\"p\",length(unique(newd$data_pd))),U2AF1_p.S34=rep(0,length(unique(newd$data_pd))),U2AF1_p.Q157=rep(0,length(unique(newd$data_pd))))\n",
    "for (element in unique(newd$data_pd)){    \n",
    "    tmp1[tmp1$data_pd==element,]$U2AF1_p.S34 <- colSums(newd[newd$data_pd==element,\"U2AF1_p.S34\"])\n",
    "    tmp1[tmp1$data_pd==element,]$U2AF1_p.Q157 <- colSums(newd[newd$data_pd==element,\"U2AF1_p.Q157\"])\n",
    "}\n",
    "df_hotspots <- rbind(df_hotspots[!is.element(df_hotspots$data_pd,unique(newd$data_pd)),c(\"data_pd\",\"U2AF1_p.S34\",\"U2AF1_p.Q157\",\"protein\")],tmp1[,c(\"data_pd\",\"U2AF1_p.S34\",\"U2AF1_p.Q157\",\"protein\")])\n",
    "rownames(df_hotspots)<- df_hotspots$data_pd\n",
    "df_u2af1 <- df_hotspots[,c(\"U2AF1_p.S34\",\"U2AF1_p.Q157\")]\n",
    "tmp_u2af1 <- merge(df_final,df_u2af1,by=0,all.x=T)\n",
    "rownames(tmp_u2af1) <- tmp_u2af1$Row.names\n",
    "tmp_u2af1 <- tmp_u2af1[,c(2:82,155,156,83:154)]\n",
    "tmp_u2af1[is.na(tmp_u2af1)] <- 0"
   ]
  },
  {
   "cell_type": "code",
   "execution_count": 62,
   "metadata": {},
   "outputs": [],
   "source": [
    "# write.table(tmp_u2af1,\"modif_final_u2af1_sep.tsv\")"
   ]
  },
  {
   "cell_type": "code",
   "execution_count": null,
   "metadata": {},
   "outputs": [],
   "source": []
  }
 ],
 "metadata": {
  "kernelspec": {
   "display_name": "R",
   "language": "R",
   "name": "ir"
  },
  "language_info": {
   "codemirror_mode": "r",
   "file_extension": ".r",
   "mimetype": "text/x-r-source",
   "name": "R",
   "pygments_lexer": "r",
   "version": "3.5.2"
  }
 },
 "nbformat": 4,
 "nbformat_minor": 2
}

{
 "cells": [
  {
   "cell_type": "code",
   "execution_count": 1,
   "metadata": {},
   "outputs": [],
   "source": [
    "\n",
    "df_initial <- read.table(\"../../../data/initial_dataset/Master_04_10_2019.csv\",sep = ',' , header = T)\n",
    "rownames(df_initial) <- df_initial$data_pd\n",
    "df_initial <- df_initial[,-1:-4]\n",
    "tmp <- df_initial\n",
    "\n",
    "tmp <- tmp[,c(124:169,171:210,317:365,367:475,477)]\n",
    "for (i in 1:22){\n",
    "    tmp[,paste(\"add_\",as.character(i),sep=\"\")] <- tmp[,paste(\"add_\",\"p\",sep=as.character(i))]+tmp[,paste(\"add_\",\"q\",sep=as.character(i))]+tmp[,paste(\"plus\",as.character(i),sep=\"\")]\n",
    "    tmp[,paste(\"add_\",as.character(i),sep=\"\")][tmp[,paste(\"add_\",as.character(i),sep=\"\")]>=2] <-1\n",
    "} \n",
    "tmp$add_x <- tmp$add_xp + tmp$add_xq + tmp$plusx\n",
    "tmp$add_y <- tmp$plusy\n",
    "###\n",
    "# deletions\n",
    "###\n",
    "for (i in c(c(1,2,3),5:13,15:19)){\n",
    "    tmp[,paste(\"del_\",as.character(i),sep=\"\")] <- tmp[,paste(\"del_\",\"p\",sep=as.character(i))]+tmp[,paste(\"del_\",\"q\",sep=as.character(i))]+tmp[,paste(\"minus\",as.character(i),sep=\"\")]\n",
    "    tmp[,paste(\"del_\",as.character(i),sep=\"\")][tmp[,paste(\"del_\",as.character(i),sep=\"\")]>=2] <-1  \n",
    "}\n",
    "for (i in c(c(4,14,20,21,22),\"x\")){\n",
    "    tmp[,paste(\"del_\",as.character(i),sep=\"\")]<- tmp[,paste(\"del_\",\"q\",sep=as.character(i))]+tmp[,paste(\"minus\",as.character(i),sep=\"\")]\n",
    "}     \n",
    "tmp$del_y <- tmp$minusy\n",
    "tmp$sum <- rowSums(tmp[,246:293],na.rm=T)\n",
    "tmp$new_complex <- ifelse(tmp$sum>=3,1,0)"
   ]
  },
  {
   "cell_type": "code",
   "execution_count": 2,
   "metadata": {},
   "outputs": [],
   "source": [
    "df_final <- read.table(\"../../../data/updated_dataset/modif_final.csv\",sep = ',' , header = T)\n",
    "rownames(df_final)<- df_final$data_pd\n",
    "df_final <- df_final[,-1:-3]\n",
    "df_master <- read.table(\"../../../data/initial_dataset/Master_04_10_2019.csv\",sep = ',' , header = T)\n",
    "rownames(df_master) <- df_master$data_pd\n",
    "df_final <- merge(df_final,df_master[c('inv_3','inv_16')],by=0)\n",
    "rownames(df_final) <- df_final$Row.names\n",
    "df_final <- df_final[,-1]\n",
    "df_final <- merge(df_final,tmp['new_complex'],by=0)\n",
    "rownames(df_final) <- df_final$Row.names \n",
    "df_final <- df_final[-1]\n",
    "df_final$complex <- df_final$new_complex\n",
    "df_final$new_complex <- NULL\n"
   ]
  },
  {
   "cell_type": "code",
   "execution_count": null,
   "metadata": {},
   "outputs": [],
   "source": [
    "#write.table(df_final,\"modif_final.tsv\")"
   ]
  },
  {
   "cell_type": "code",
   "execution_count": null,
   "metadata": {},
   "outputs": [],
   "source": []
  }
 ],
 "metadata": {
  "kernelspec": {
   "display_name": "R",
   "language": "R",
   "name": "ir"
  },
  "language_info": {
   "codemirror_mode": "r",
   "file_extension": ".r",
   "mimetype": "text/x-r-source",
   "name": "R",
   "pygments_lexer": "r",
   "version": "3.5.2"
  }
 },
 "nbformat": 4,
 "nbformat_minor": 2
}

{
 "cells": [
  {
   "cell_type": "code",
   "execution_count": 3,
   "metadata": {},
   "outputs": [],
   "source": [
    "library('hdp')\n",
    "library('clusterCrit')\n",
    "library('grid')\n",
    "library('gridExtra')\n",
    "library('ggplot2')\n",
    "library('ggrepel')\n",
    "library('RColorBrewer')\n",
    "library('dplyr')\n",
    "library('reshape2')\n",
    "library('IRdisplay')\n",
    "source('../../../src/tools.R')     # custom tools function\n",
    "#source('../../../src/hdp_tools.R') # hdp related functions\n",
    "source('../../../src/hdp_tools_yanis.R')\n",
    "library(scales)\n",
    "theme_set(theme_minimal())\n",
    "\n",
    "# set jupyer notebook parameters\n",
    "options(repr.plot.res        = 100, # set a medium-definition resolution for the jupyter notebooks plots (DPI)\n",
    "        repr.matrix.max.rows = 200, # set the maximum number of rows displayed\n",
    "        repr.matrix.max.cols = 200) # set the maximum number of columns displayed"
   ]
  },
  {
   "cell_type": "code",
   "execution_count": 4,
   "metadata": {},
   "outputs": [],
   "source": [
    "### Tools to get max and second max proba with corresponding components\n",
    "\n",
    "add_first_second_predicted_component <- function(hdp_output, data) {\n",
    "    # Return a dataframe giving for each patient the probability by component, as well as the assigned component and its probability (max_proba)\n",
    "    # → Arguments\n",
    "    #     - hdp_output: hdpSampleChain or hdpSampleMulti object\n",
    "    #     - data      : original data\n",
    "\n",
    "    # keep all DP but first (first level)\n",
    "    dd_predicted <- data.frame(comp_dp_distn(hdp_output)$mean[-1,])\n",
    "\n",
    "# change categories colnames\n",
    "    colnames(dd_predicted) <- paste0('component_', 0:(ncol(dd_predicted)-1))\n",
    "    components_colnames <- colnames(dd_predicted)\n",
    "\n",
    "    # pprint various info\n",
    "    print_and_flush(sprintf('Number of components: %d\\n', ncol(dd_predicted) - 1))\n",
    "    print_and_flush(sprintf('Number of NA rows   : %d\\n', nrow(dd_predicted[rowSums(is.na(dd_predicted)) != 0,])))\n",
    "\n",
    "    # evaluate for each row the predicted component\n",
    "    dd_predicted['initial_predicted_component'] <- apply(dd_predicted, 1, function(x) { if (all(is.na(x)))\n",
    "                                                                     return(NaN)\n",
    "                                                                 else\n",
    "                                                                     return(which.max(x)-1)\n",
    "                                                                })\n",
    "    dd_predicted[, 'initial_predicted_component'] <- factor(dd_predicted[, 'initial_predicted_component'])\n",
    "\n",
    "\n",
    "    dd_predicted['second_predicted_component'] <- apply(dd_predicted[,components_colnames], 1, function(x) { if (all(is.na(x)))\n",
    "                                                                     return(NaN)\n",
    "                                                                 else\n",
    "                                                                     tmp <- names(which.max(x[x!=max(x)]))\n",
    "                                                                     return(as.numeric(substr(tmp,nchar(tmp),nchar(tmp))))\n",
    "                                                                })\n",
    "    dd_predicted[, 'second_predicted_component'] <- factor(dd_predicted[, 'second_predicted_component'])\n",
    "    \n",
    "    # evaluate for each row the maximum probability associated to the predicted component\n",
    "    \n",
    "    dd_predicted['max_proba'] <- apply(dd_predicted[,components_colnames], 1, function(x) { if (all(is.na(x)))\n",
    "                                                                                  return(NaN)\n",
    "                                                                              else\n",
    "                                                                                 return(max(x))\n",
    "                                                                            })\n",
    "\n",
    "    dd_predicted['second_max_proba'] <- apply(dd_predicted[,components_colnames], 1, function(x) { if (all(is.na(x)))\n",
    "                                                                                  return(NaN)\n",
    "                                                                              else\n",
    "                                                                                 return(max(x[x!=max(x)]))\n",
    "                                                                            })\n",
    "\n",
    "    return (dd_predicted)\n",
    "}"
   ]
  },
  {
   "cell_type": "code",
   "execution_count": 5,
   "metadata": {},
   "outputs": [
    {
     "data": {
      "text/html": [
       "<ol class=list-inline>\n",
       "\t<li>2150</li>\n",
       "\t<li>151</li>\n",
       "</ol>\n"
      ],
      "text/latex": [
       "\\begin{enumerate*}\n",
       "\\item 2150\n",
       "\\item 151\n",
       "\\end{enumerate*}\n"
      ],
      "text/markdown": [
       "1. 2150\n",
       "2. 151\n",
       "\n",
       "\n"
      ],
      "text/plain": [
       "[1] 2150  151"
      ]
     },
     "metadata": {},
     "output_type": "display_data"
    }
   ],
   "source": [
    "df_final <- read.table(\"../../../data/updated_dataset/modif_final.csv\",sep = ',' , header = T)\n",
    "rownames(df_final)<- df_final$data_pd\n",
    "df_final <- df_final[,-1:-3]\n",
    "dim(df_final)"
   ]
  },
  {
   "cell_type": "code",
   "execution_count": 6,
   "metadata": {},
   "outputs": [],
   "source": [
    "### Tools to launch HDP and get results\n",
    "\n",
    "launch <- function(data,base_dist,initial_clusters,burn,posterior_samples,chains,aa,ab){\n",
    "    number_of_chains <- chains\n",
    "    chain_list <- vector('list', number_of_chains)\n",
    "    hdp <- initialise_hdp_yanis(data = data,hh=base_dist,alphaa = aa,alphab= ab)\n",
    "\n",
    "\n",
    "    for (i in 1:number_of_chains) {\n",
    "        seed <- i * 100\n",
    "        print_and_flush(sprintf('### Experiment %d (seed = %d) ###\\n', i, seed))\n",
    "\n",
    "        # run single hdp chain\n",
    "        chain_list[[i]] <- activate_and_run_hdp(hdp,\n",
    "                                                initcc = initial_clusters,\n",
    "                                                burnin = burn,\n",
    "                                                n      = posterior_samples,\n",
    "                                                space  = 20,\n",
    "                                                seed   = seed)\n",
    "        print_and_flush('\\n')\n",
    "    }\n",
    "\n",
    "    multi_output <- hdp_multi_chain(chain_list)\n",
    "    print(multi_output)\n",
    "}"
   ]
  },
  {
   "cell_type": "code",
   "execution_count": 7,
   "metadata": {},
   "outputs": [],
   "source": [
    "### Tools for distributions of HDP\n",
    "\n",
    "\n",
    "num_cols = ncol(df_final)\n",
    "bin <- function(x){\n",
    "    set.seed(123)\n",
    "  (rbinom(1, num_cols, mean(x))+1)/num_cols\n",
    "}\n",
    "\n",
    "###Normal\n",
    "\n",
    "normal <- function(x){\n",
    "    set.seed(123)\n",
    "  abs(rnorm(1,mean(x),sd(x)))\n",
    "}\n",
    "\n",
    "###Poisson\n",
    "\n",
    "poisson <- function(x){\n",
    "    set.seed(123)\n",
    "  (rpois(num_cols,1))/num_cols\n",
    "}\n",
    "\n",
    "###Uniform equally over all columns\n",
    "\n",
    "equally <- function(x){\n",
    "    set.seed(123)\n",
    "  1/num_cols\n",
    "}\n",
    "\n",
    "###Repet 1\n",
    "\n",
    "repet <- function(x){\n",
    "    set.seed(123)\n",
    "  1\n",
    "}\n",
    "\n",
    "binomial <- unlist(sapply(df_final,bin))\n",
    "gaussian <- unlist(sapply(df_final,normal))\n",
    "pois <- as.numeric(unlist(sapply(df_final,poisson)))\n",
    "unif <- unlist(sapply(df_final,equally))\n",
    "repetition <- unlist(sapply(df_final,repet))\n",
    "lists<- list(binomial,gaussian,unif,repetition)\n"
   ]
  },
  {
   "cell_type": "code",
   "execution_count": 8,
   "metadata": {},
   "outputs": [],
   "source": [
    "data <- df_final\n",
    "posterior_samples <- 250\n",
    "initial_clusters <- 17\n",
    "burn <- 7000\n",
    "chains <- 3\n",
    "base_dist <- gaussian\n",
    "aa <- 2\n",
    "ab <-0.5"
   ]
  },
  {
   "cell_type": "markdown",
   "metadata": {},
   "source": [
    "# I) Initial Component : Component 0 to 10"
   ]
  },
  {
   "cell_type": "code",
   "execution_count": null,
   "metadata": {},
   "outputs": [
    {
     "name": "stdout",
     "output_type": "stream",
     "text": [
      "Initialise HDP on a 2150 x 151 dataframe\n",
      "  → create HDP structure... done!\n",
      "  → add DP node for each patient... done!\n",
      "  → assign the data to the nodes... done!\n",
      "### Experiment 1 (seed = 100) ###\n",
      "Activate HDP nodes and run posterior sampling\n",
      "  → activate HDP nodes... done!\n",
      "  → run posterior sampling...\n",
      "[1] \"7000 burn-in iterations in 0.4 mins\"\n",
      "\n",
      "### Experiment 2 (seed = 200) ###\n",
      "Activate HDP nodes and run posterior sampling\n",
      "  → activate HDP nodes... done!\n",
      "  → run posterior sampling...\n",
      "[1] \"7000 burn-in iterations in 0.4 mins\"\n",
      "\n",
      "### Experiment 3 (seed = 300) ###\n",
      "Activate HDP nodes and run posterior sampling\n",
      "  → activate HDP nodes... done!\n",
      "  → run posterior sampling...\n",
      "[1] \"7000 burn-in iterations in 0.4 mins\"\n",
      "\n",
      "Object of class hdpSampleMulti \n",
      " Number of chains: 3 \n",
      " Total posterior samples: 750 \n",
      " Components: NO. Run hdp_extract_components \n",
      " ----------\n",
      " Final hdpState from first chain: \n",
      "Object of class hdpState \n",
      " Number of DP nodes: 2151 \n",
      " Index of parent DP: 0 1 1 1 1 1 1 1 1 1 ...\n",
      " Number of data items per DP: 0 2 2 6 3 6 2 4 3 2 ...\n",
      " Index of conparam per DP: 1 1 1 1 1 1 1 1 1 1 ...\n",
      " Conparam hyperparameters and current value:\n",
      "           Shape Rate     Value\n",
      "Conparam 1     2  0.5 0.3972696\n",
      " Number of data categories: 151 \n",
      " Number of clusters: 15 \n",
      " Initialised with 17 clusters, using random seed 100 \n",
      "Extract HDP components from posterior sampling\n",
      "  → extract components..."
     ]
    }
   ],
   "source": [
    "multi_output <- launch(data,base_dist,initial_clusters,burn,posterior_samples,chains,aa,ab)\n",
    "multi_output_cluster_10 <- extract_components(multi_output)"
   ]
  },
  {
   "cell_type": "code",
   "execution_count": null,
   "metadata": {},
   "outputs": [],
   "source": [
    "#plot_category_distribution_by_component(multi_output_cluster_10, colnames(df_final))\n",
    "plot_components_size(multi_output_cluster_10,8,4.5)\n",
    "set_notebook_plot_size(22, 2.6)\n",
    "    plot_comp_distn(multi_output_cluster_10,\n",
    "                    cat_names  = colnames(df_final),\n",
    "                    col        = \"skyblue3\",\n",
    "                    col_nonsig = \"black\",\n",
    "                                         )"
   ]
  },
  {
   "cell_type": "code",
   "execution_count": null,
   "metadata": {},
   "outputs": [],
   "source": [
    "dd_predicted_10_components <- get_prediction_result_dataframe(multi_output_cluster_10, df_final)\n",
    "get_table(dd_predicted_10_components[,'predicted_component'])\n",
    "plot_assignement_probability_by_component(dd_predicted_10_components)"
   ]
  },
  {
   "cell_type": "markdown",
   "metadata": {},
   "source": [
    "#### People assigned to NaN have no genetic and cytogenetic events (sum=0). We remove them from the analysis"
   ]
  },
  {
   "cell_type": "code",
   "execution_count": null,
   "metadata": {},
   "outputs": [],
   "source": [
    "initial_components <- cbind(df_final,add_first_second_predicted_component(multi_output_cluster_10))\n",
    "sum(rowSums(initial_components[initial_components$predicted_component==\"NaN\",1:151]))"
   ]
  },
  {
   "cell_type": "markdown",
   "metadata": {},
   "source": [
    "##### Create a dataframe with initial patients and their initial component (without NAN patients)"
   ]
  },
  {
   "cell_type": "code",
   "execution_count": null,
   "metadata": {},
   "outputs": [],
   "source": [
    "#write.table(initial_components,file=\"initial_components_with_proba.tsv\",sep='\\t')"
   ]
  },
  {
   "cell_type": "markdown",
   "metadata": {},
   "source": [
    "# STEP 1: DEFINING FEATURES"
   ]
  },
  {
   "cell_type": "code",
   "execution_count": null,
   "metadata": {},
   "outputs": [],
   "source": [
    "tmp <- read.table(\"../finalization_clustering/all_components_with_second_complex_inv3.tsv\") # introduce inv_3 for C7 Post Processing\n",
    "tmp <- tmp[,c(1:150,155,156)]\n",
    "tmp <- merge(tmp,read.table(\"initial_components_with_proba.tsv\")[,152:166],by=0)\n",
    "rownames(tmp)<- tmp$Row.names\n",
    "tmp <- tmp[,-1]\n",
    "tmp$initial_refined_component <- \"not_assigned\"\n",
    "tmp[tmp$NPM1==1,]$initial_refined_component <- \"NPM1\"\n",
    "tmp[tmp$initial_refined_component==\"not_assigned\" & (tmp$TP53==1 & tmp$complex==1),]$initial_refined_component <- \"TP53_complex\"\n",
    "tmp[tmp$initial_refined_component==\"not_assigned\" & tmp$initial_predicted_component==3 & (tmp$TP53==1 | tmp$complex==1),]$initial_refined_component <- \"TP53_complex\"\n",
    "tmp[tmp$initial_refined_component==\"not_assigned\" & tmp$initial_predicted_component==5 & (tmp$t_v_11==1 | tmp$t_9_11==1),]$initial_refined_component <- \"t_11\"\n",
    "tmp[tmp$initial_refined_component==\"not_assigned\" & tmp$initial_predicted_component==5 & (tmp$t_15_17==1),]$initial_refined_component <- \"t_15_17\"\n",
    "tmp[tmp$initial_refined_component==\"not_assigned\" & tmp$initial_predicted_component==6 & (tmp$t_8_21==1),]$initial_refined_component <- \"t_8_21\"\n",
    "tmp[tmp$initial_refined_component==\"not_assigned\" & tmp$initial_predicted_component==7 & (tmp$t_8_21==1),]$initial_refined_component <- \"t_8_21\"\n",
    "tmp[tmp$initial_refined_component==\"not_assigned\" & tmp$initial_predicted_component==8 & (tmp$CEBPA_bi==1),]$initial_refined_component <- \"CEBPA_bi\"\n",
    "tmp[tmp$initial_refined_component==\"not_assigned\" & tmp$initial_predicted_component==9 & (tmp$inv_3==1),]$initial_refined_component <- \"inv_3\"\n",
    "tmp[tmp$initial_refined_component==\"not_assigned\" & tmp$initial_predicted_component==10 & (tmp$BAGE3==1 & tmp$KMT2C==1),]$initial_refined_component <- \"BAGE3_KMT2C\""
   ]
  },
  {
   "cell_type": "code",
   "execution_count": null,
   "metadata": {},
   "outputs": [],
   "source": [
    "table(tmp$initial_refined_component)"
   ]
  },
  {
   "cell_type": "markdown",
   "metadata": {},
   "source": [
    "# STEP 2: SECOND MAX PROBA + DEFINING FEATURES"
   ]
  },
  {
   "cell_type": "code",
   "execution_count": null,
   "metadata": {},
   "outputs": [],
   "source": [
    "min_proba_NPM1 = min(tmp[tmp$initial_predicted_component==1,]$max_proba)\n",
    "\n",
    "min_proba_TP53_complex = min(tmp[tmp$initial_predicted_component==3,]$max_proba)\n",
    "\n",
    "min_proba_transloc = min(tmp[tmp$initial_predicted_component==5,]$max_proba)\n",
    "\n",
    "min_proba_t_8_21 = min(min(tmp[tmp$initial_predicted_component==6,]$max_proba),min(tmp[tmp$initial_predicted_component==7,]$max_proba))\n",
    "\n",
    "min_proba_CEBPA_bi = min(tmp[tmp$initial_predicted_component==8,]$max_proba)\n",
    "\n",
    "min_proba_inv_3 = min(tmp[tmp$initial_predicted_component==9,]$max_proba)\n",
    "\n",
    "min_proba_BAGE3_KMT2C = min(tmp[tmp$initial_predicted_component==10,]$max_proba)\n",
    "\n"
   ]
  },
  {
   "cell_type": "code",
   "execution_count": null,
   "metadata": {},
   "outputs": [],
   "source": [
    "tmp[tmp$initial_refined_component==\"not_assigned\" & !is.element(tmp$initial_refined_component==\"not_assigned\",c(0,2,4)) ,]$initial_refined_component  <- apply(tmp[tmp$initial_refined_component==\"not_assigned\" & !is.element(tmp$initial_refined_component==\"not_assigned\",c(0,2,4)),], 1,function(x) {\n",
    "        if (all(is.na(x['second_predicted_component'])))\n",
    "            return(NaN)\n",
    "        else \n",
    "            return(ifelse(x['second_predicted_component']==3 & x['second_max_proba']>=0.75*min_proba_TP53_complex & (x['complex']==1 | x[\"TP53\"]==1),\"TP53_complex\",\n",
    "                   ifelse(x['second_predicted_component']==5 & x['second_max_proba']>=0.75*min_proba_transloc & (x['t_v_11']==1 | x['t_9_11']==1),\"t_11\",\n",
    "                   ifelse(x['second_predicted_component']==5 & x['second_max_proba']>=0.75*min_proba_transloc & x['t_15_17']==1,\"t_15_17\", \n",
    "                   ifelse((x['second_predicted_component']==6 | x['translated_second_predicted_component']==7 ) & x['second_max_proba']>=0.75*min_proba_t_8_21 & x['t_8_21']==1,\"t_8_21\", \n",
    "                   ifelse(x['second_predicted_component']==8 & x['second_max_proba']>=0.75*min_proba_CEBPA_bi & x['CEBPA_bi']==1,\"CEBPA_bi\",\n",
    "                   ifelse(x['second_predicted_component']==9 & x['second_max_proba']>=0.75*min_proba_inv_3 & x['inv_3']==1,\"inv_3\",\n",
    "                   ifelse(x['second_predicted_component']==10 & x['second_max_proba']>=0.75*min_proba_BAGE3_KMT2C & x['BAGE3']==1 & x['KMT2C']==1,\"BAGE3_KMT2C\",       \n",
    "                   \"not_assigned\"))))))))\n",
    "    })"
   ]
  },
  {
   "cell_type": "markdown",
   "metadata": {},
   "source": [
    "# Let's reapply HDP to patients from Initial Component 0,2,4 + patients that do not have defining features from their component and that were not assigned with second max proba (658 from C 0,2,4 and 318 from defining features +second max proba)"
   ]
  },
  {
   "cell_type": "code",
   "execution_count": null,
   "metadata": {},
   "outputs": [],
   "source": [
    "set_notebook_plot_size(22, 2.6)\n",
    "    plot_comp_distn(multi_output_cluster_10,\n",
    "                    cat_names  = colnames(df_final),\n",
    "                    col        = \"skyblue3\",\n",
    "                    col_nonsig = \"black\",\n",
    "                    comp=c(1,3,5,6,7,8,9,10),\n",
    "                    plot_title=c(\"Component 1\",\"Component 2\",\"Component 3\",\"Component 4\",\"Component 5\",\"Component 6\",\"Component 7\",\"Component 8\")\n",
    "                                         )"
   ]
  },
  {
   "cell_type": "markdown",
   "metadata": {},
   "source": [
    "# II- HDP reapplied ON THOSE PATIENTS"
   ]
  },
  {
   "cell_type": "code",
   "execution_count": null,
   "metadata": {},
   "outputs": [],
   "source": [
    "# ADD U2AF1 Separation"
   ]
  },
  {
   "cell_type": "code",
   "execution_count": null,
   "metadata": {},
   "outputs": [],
   "source": [
    "df <- read.table(\"../../../data/initial_dataset/1013.mut.csv\",sep=',', header = T)\n",
    "df <- df[df$gene==\"U2AF1\",c(\"data_pd\",\"gene\",\"protein\")]\n",
    "df$U2AF1_p.S34 <- ifelse(grepl( \"34\",df$protein) | grepl( \"35\",df$protein),1,0)\n",
    "df$U2AF1_p.Q157 <- ifelse(grepl( \"157\",df$protein) | grepl( \"156\",df$protein),1,0)\n",
    "df <- unique(df,by=\"data_pd\")\n",
    "newd <-  df %>% group_by(data_pd) %>% filter(n()>1)\n",
    "tmp1 <- data.frame(data_pd=unique(newd$data_pd),gene=rep(\"U2AF1\",length(unique(newd$data_pd))),protein=rep(\"p\",length(unique(newd$data_pd))),U2AF1_p.S34=rep(0,length(unique(newd$data_pd))),U2AF1_p.Q157=rep(0,length(unique(newd$data_pd))))\n",
    "for (element in unique(newd$data_pd)){    \n",
    "    tmp1[tmp1$data_pd==element,]$U2AF1_p.S34 <- colSums(newd[newd$data_pd==element,\"U2AF1_p.S34\"])\n",
    "    tmp1[tmp1$data_pd==element,]$U2AF1_p.Q157 <- colSums(newd[newd$data_pd==element,\"U2AF1_p.Q157\"])\n",
    "}\n",
    "df <- rbind(df[!is.element(df$data_pd,unique(newd$data_pd)),c(\"data_pd\",\"U2AF1_p.S34\",\"U2AF1_p.Q157\",\"protein\")],tmp1[,c(\"data_pd\",\"U2AF1_p.S34\",\"U2AF1_p.Q157\",\"protein\")])\n",
    "rownames(df)<- df$data_pd\n",
    "df_u2af1 <- df[,c(\"U2AF1_p.S34\",\"U2AF1_p.Q157\")]\n",
    "#dim(df_u2af1)\n",
    "tmp_u2af1 <- merge(tmp,df_u2af1,by=0,all.x=T)\n",
    "rownames(tmp_u2af1) <- tmp_u2af1$Row.names\n",
    "tmp_u2af1 <- tmp_u2af1[,c(2:81,170,171,83:153,169)]\n",
    "tmp_u2af1[is.na(tmp_u2af1)] <- 0\n",
    "#colnames(tmp_u2af1 )\n",
    "#dim(merge(tmp,df_u2af1,by=0)[,c(\"U2AF1\",\"U2AF1_p.S34\",\"U2AF1_p.Q157\")])"
   ]
  },
  {
   "cell_type": "code",
   "execution_count": null,
   "metadata": {},
   "outputs": [],
   "source": [
    "df_to_recluster <- tmp[tmp$initial_refined_component==\"not_assigned\",c(1:149,151,150)] # to keep same order as first HDP and remove complex\n",
    "df_to_recluster <- tmp_u2af1[tmp_u2af1$initial_refined_component==\"not_assigned\",c(1:150,152,151)]\n"
   ]
  },
  {
   "cell_type": "code",
   "execution_count": null,
   "metadata": {},
   "outputs": [],
   "source": [
    "# write.table(df_to_recluster,\"df_to_recluster.tsv\")"
   ]
  },
  {
   "cell_type": "code",
   "execution_count": null,
   "metadata": {},
   "outputs": [],
   "source": [
    "num_cols = ncol(df_to_recluster[colSums(df_to_recluster) > 0])  ## keep only column that have at least a mutation\n",
    "num_cols\n",
    "bin <- function(x){\n",
    "    set.seed(123)\n",
    "  (rbinom(1, num_cols, mean(x))+1)/num_cols\n",
    "}\n",
    "\n",
    "###Normal\n",
    "\n",
    "normal <- function(x){\n",
    "    set.seed(123)\n",
    "  abs(rnorm(1,mean(x),sd(x)))\n",
    "}\n",
    "\n",
    "###Poisson\n",
    "\n",
    "poisson <- function(x){\n",
    "    set.seed(123)\n",
    "  (rpois(num_cols,1)+1)/num_cols\n",
    "}\n",
    "\n",
    "###Uniform equally over all columns\n",
    "\n",
    "equally <- function(x){\n",
    "    set.seed(123)\n",
    "  1/num_cols\n",
    "}\n",
    "\n",
    "###Repet 1\n",
    "\n",
    "repet <- function(x){\n",
    "    set.seed(123)\n",
    "  1\n",
    "}\n",
    "\n",
    "binomial <- unlist(sapply(df_to_recluster[colSums(df_to_recluster) > 0],bin))\n",
    "gaussian <- unlist(sapply(df_to_recluster[colSums(df_to_recluster) > 0],normal))\n",
    "pois <- as.numeric(unlist(sapply(df_to_recluster[colSums(df_to_recluster) > 0],poisson)))\n",
    "unif <- unlist(sapply(df_to_recluster[colSums(df_to_recluster) > 0],equally))"
   ]
  },
  {
   "cell_type": "code",
   "execution_count": null,
   "metadata": {},
   "outputs": [],
   "source": [
    "data <- df_to_recluster[colSums(df_to_recluster) > 0]\n",
    "posterior_samples <- 150\n",
    "initial_clusters <- 5\n",
    "burn <- 5000\n",
    "chains <- 3\n",
    "base_dist <- gaussian\n",
    "aa <- 1\n",
    "ab <-1\n",
    "multi_output <- launch(df_to_recluster[colSums(df_to_recluster) > 0],base_dist,initial_clusters,burn,posterior_samples,chains,aa,ab)\n",
    "multi_output_recluster_7 <- extract_components(multi_output)\n"
   ]
  },
  {
   "cell_type": "code",
   "execution_count": null,
   "metadata": {},
   "outputs": [],
   "source": [
    "plot_components_size(multi_output_recluster_7,8,4.5)\n",
    "set_notebook_plot_size(22,2.6)\n",
    "plot_comp_distn(multi_output_recluster_7,\n",
    "                    cat_names  = colnames(df_to_recluster[colSums(df_to_recluster) > 0]),\n",
    "                    col        = \"skyblue3\",\n",
    "                    col_nonsig = \"black\")\n",
    "\n"
   ]
  },
  {
   "cell_type": "code",
   "execution_count": null,
   "metadata": {},
   "outputs": [],
   "source": [
    "dd_predicted_recluster_7 <- get_prediction_result_dataframe(multi_output_recluster_7, df_to_recluster[colSums(df_to_recluster) > 0])\n",
    "get_table(dd_predicted_recluster_7[,'predicted_component'])\n",
    "plot_assignement_probability_by_component(dd_predicted_recluster_7)"
   ]
  },
  {
   "cell_type": "markdown",
   "metadata": {},
   "source": [
    "# Refining Second HDP with defining features and second max proba"
   ]
  },
  {
   "cell_type": "code",
   "execution_count": null,
   "metadata": {},
   "outputs": [],
   "source": []
  },
  {
   "cell_type": "markdown",
   "metadata": {},
   "source": [
    "#### High second_hdp_second_max_proba for patients in component 0 so it's a good motivation for reassignment with second max proba!"
   ]
  },
  {
   "cell_type": "markdown",
   "metadata": {},
   "source": [
    "# STEP 1 Second HDP: DEFINING FEATURES"
   ]
  },
  {
   "cell_type": "code",
   "execution_count": null,
   "metadata": {},
   "outputs": [],
   "source": [
    "factors <- c(\"ZRSR2\",\"U2AF1_p.S34\",\"U2AF1_p.Q157\",\"SRSF2\",\"SF3B1\",\"ASXL1\",\"STAG2\",\"BCOR\",\"RUNX1\",\"EZH2\",\"MLL\",\"PHF6\",\"SF1\",\"NF1\",\"CUX1\",\"SETBP1\")\n",
    "second_hdp_probas <- add_first_second_predicted_component(multi_output_recluster_7)\n",
    "colnames(second_hdp_probas) <- paste(\"second_hdp\", colnames(second_hdp_probas), sep = \"_\")\n",
    "tmp_hdp_2 <- cbind(tmp_u2af1[tmp_u2af1$initial_refined_component==\"not_assigned\",],second_hdp_probas)\n",
    "tmp_hdp_2 <- na.omit(tmp_hdp_2)\n",
    "for (comp in c(0,1,2,4)){    \n",
    "    tmp_hdp_2[tmp_hdp_2$second_hdp_initial_predicted_component==comp & (rowSums(tmp_hdp_2[,factors])>1),\"initial_refined_component\"] <- \"chr_splicing>1\"\n",
    "    tmp_hdp_2[tmp_hdp_2$second_hdp_initial_predicted_component==comp & (rowSums(tmp_hdp_2[,factors])==1),\"initial_refined_component\"] <- \"chr_splicing\"\n",
    "    }\n",
    "tmp_hdp_2[tmp_hdp_2$second_hdp_initial_predicted_component==3 & tmp_hdp_2$DNMT3A==1 &(tmp_hdp_2$IDH1==1 | tmp_hdp_2$IDH2_p.R140==1 | tmp_hdp_2$IDH2_p.R172==1) ,]$initial_refined_component <- \"DNMT3A_IDH1_2\"\n",
    "tmp_hdp_2[tmp_hdp_2$second_hdp_initial_predicted_component==5 & tmp_hdp_2$WT1==1 | tmp_hdp_2$t_6_9==1 ,]$initial_refined_component <- \"WT1_t_6_9_ITD\"\n",
    "tmp_hdp_2[tmp_hdp_2$second_hdp_initial_predicted_component==6 & tmp_hdp_2$KIT==1 & (tmp_hdp_2$NRAS_p.G12_13==1  | tmp_hdp_2$NRAS_p.Q61_62==1),]$initial_refined_component <- \"KIT_NRAS\"\n",
    "tmp_hdp_2[tmp_hdp_2$second_hdp_initial_predicted_component==7 & (tmp_hdp_2$add_8==1 | tmp_hdp_2$add_13==1 | tmp_hdp_2$add_21==1 | tmp_hdp_2$add_22==1),]$initial_refined_component <- \"additions\"\n",
    "#tmp[tmp$initial_refined_component==\"not_assigned\" & tmp$initial_predicted_component==3 & (tmp$TP53==1 | tmp$complex==1),]$initial_refined_component <- \"TP53_complex\"\n",
    "#tmp[tmp$initial_refined_component==\"not_assigned\" & tmp$initial_predicted_component==5 & (tmp$t_v_11==1 | tmp$t_9_11==1),]$initial_refined_component <- \"t_11\"\n",
    "#tmp[tmp$initial_refined_component==\"not_assigned\" & tmp$initial_predicted_component==5 & (tmp$t_15_17==1),]$initial_refined_component <- \"t_15_17\"\n",
    "#tmp[tmp$initial_refined_component==\"not_assigned\" & tmp$initial_predicted_component==6 & (tmp$t_8_21==1),]$initial_refined_component <- \"t_8_21\"\n",
    "#tmp[tmp$initial_refined_component==\"not_assigned\" & tmp$initial_predicted_component==7 & (tmp$t_8_21==1),]$initial_refined_component <- \"t_8_21\"\n",
    "#tmp[tmp$initial_refined_component==\"not_assigned\" & tmp$initial_predicted_component==8 & (tmp$CEBPA_bi==1),]$initial_refined_component <- \"CEBPA_bi\"\n",
    "#tmp[tmp$initial_refined_component==\"not_assigned\" & tmp$initial_predicted_component==9 & (tmp$inv_3==1),]$initial_refined_component <- \"inv_3\"\n",
    "#tmp[tmp$initial_refined_component==\"not_assigned\" & tmp$initial_predicted_component==10 & (tmp$BAGE3==1 & tmp$KMT2C==1),]$initial_refined_component <- \"BAGE3_KMT2C\""
   ]
  },
  {
   "cell_type": "code",
   "execution_count": null,
   "metadata": {},
   "outputs": [],
   "source": [
    "table(tmp_hdp_2$initial_refined_component)"
   ]
  },
  {
   "cell_type": "markdown",
   "metadata": {},
   "source": [
    "# STEP 2 Second HDP: SECOND MAX PROBA + defining lesions"
   ]
  },
  {
   "cell_type": "code",
   "execution_count": null,
   "metadata": {},
   "outputs": [],
   "source": [
    "min_proba_chr_splicing = min(min(tmp_hdp_2[tmp_hdp_2$second_hdp_initial_predicted_component==1,]$second_hdp_max_proba),min(tmp_hdp_2[tmp_hdp_2$second_hdp_initial_predicted_component==2,]$second_hdp_max_proba),\n",
    "                             min(tmp_hdp_2[tmp_hdp_2$second_hdp_initial_predicted_component==4,]$second_hdp_max_proba))\n",
    "\n",
    "min_proba_DNMT3A_IDH1_2 = min(tmp_hdp_2[tmp_hdp_2$second_hdp_initial_predicted_component==3,]$second_hdp_max_proba)\n",
    "\n",
    "min_proba_WT1_t_6_9_ITD = min(tmp_hdp_2[tmp_hdp_2$second_hdp_initial_predicted_component==5,]$second_hdp_max_proba)\n",
    "\n",
    "min_proba_KIT_NRAS = min(tmp_hdp_2[tmp_hdp_2$second_hdp_initial_predicted_component==6,]$second_hdp_max_proba)\n",
    "\n",
    "min_proba_additions = min(tmp_hdp_2[tmp_hdp_2$second_hdp_initial_predicted_component==7,]$second_hdp_max_proba)"
   ]
  },
  {
   "cell_type": "code",
   "execution_count": null,
   "metadata": {},
   "outputs": [],
   "source": [
    "tmp_hdp_2[tmp_hdp_2$initial_refined_component==\"not_assigned\" & is.element(tmp_hdp_2$second_hdp_second_predicted_component,c(0,1,2,4))\n",
    "          & tmp_hdp_2$second_hdp_second_max_proba>=0.75*min_proba_chr_splicing & rowSums(tmp_hdp_2[,factors])>1,]$initial_refined_component <- \"chr_splicing>1\"\n",
    "\n",
    "tmp_hdp_2[tmp_hdp_2$initial_refined_component==\"not_assigned\" & is.element(tmp_hdp_2$second_hdp_second_predicted_component,c(0,1,2,4))\n",
    "          & tmp_hdp_2$second_hdp_second_max_proba>=0.75*min_proba_chr_splicing & rowSums(tmp_hdp_2[,factors])==1,]$initial_refined_component <- \"chr_splicing\"\n",
    "\n",
    "tmp_hdp_2[tmp_hdp_2$initial_refined_component==\"not_assigned\" ,]$initial_refined_component  <- apply(tmp_hdp_2[tmp_hdp_2$initial_refined_component==\"not_assigned\" ,], 1,function(x) {\n",
    "        if (all(is.na(x['second_hdp_second_predicted_component'])))\n",
    "            return(NaN)\n",
    "        else \n",
    "            return(\n",
    "                   ifelse(x['second_hdp_second_predicted_component']==3 & x['second_hdp_second_max_proba']>=0.75*min_proba_DNMT3A_IDH1_2 & (x['DNMT3A']==1 & (x['IDH1']==1 | x['IDH2_p.R140']==1  | x['IDH2_p.R172']==1)),\"DNMT3A_IDH1_2\",\n",
    "                   ifelse(x['second_hdp_second_predicted_component']==5 & x['second_hdp_second_max_proba']>=0.75*min_proba_WT1_t_6_9_ITD & (x['WT1']==1 | x['t_6_9']==1),\"WT1_t_6_9_ITD\", \n",
    "                   ifelse(x['second_hdp_second_predicted_component']==6 & x['second_hdp_second_max_proba']>=0.75*min_proba_KIT_NRAS & (x[\"KIT\"]==1 & (x[\"NRAS_p.G12_13\"]==1  | x[\"NRAS_p.Q61_62\"]==1)),\"KIT_NRAS\",\n",
    "                   ifelse(x['second_hdp_second_predicted_component']==7 & x['second_hdp_second_max_proba']>=0.75*min_proba_additions & (x['add_8']==1 | x['add_13']==1 | x['add_21']==1 | x['add_22']==1),\"additions\",      \n",
    "                   \"not_assigned\")))))\n",
    "    })"
   ]
  },
  {
   "cell_type": "code",
   "execution_count": null,
   "metadata": {},
   "outputs": [],
   "source": [
    "table(tmp_hdp_2$initial_refined_component)"
   ]
  },
  {
   "cell_type": "markdown",
   "metadata": {},
   "source": [
    "# STEP 3: Merge HDP 1 and HDP 2 and try defining lesions"
   ]
  },
  {
   "cell_type": "code",
   "execution_count": null,
   "metadata": {},
   "outputs": [],
   "source": [
    "tmp_hdp_1 <- tmp_u2af1[tmp_u2af1$initial_refined_component !=\"not_assigned\",]\n",
    "df_final_with_comp <- rbind(tmp_hdp_1,tmp_hdp_2[,1:154])"
   ]
  },
  {
   "cell_type": "code",
   "execution_count": null,
   "metadata": {},
   "outputs": [],
   "source": [
    "table(df_final_with_comp$initial_refined_component)"
   ]
  },
  {
   "cell_type": "code",
   "execution_count": null,
   "metadata": {},
   "outputs": [],
   "source": [
    "df_final_with_comp[df_final_with_comp$initial_refined_component==\"not_assigned\" & df_final_with_comp$t_8_21==1,]$initial_refined_component"
   ]
  },
  {
   "cell_type": "code",
   "execution_count": null,
   "metadata": {},
   "outputs": [],
   "source": [
    "try(df_final_with_comp[df_final_with_comp$initial_refined_component==\"not_assigned\" & (df_final_with_comp$t_9_11==1 | df_final_with_comp$t_v_11==1),]$initial_refined_component <- \"t_11\")\n",
    "\n",
    "try(df_final_with_comp[df_final_with_comp$initial_refined_component==\"not_assigned\" & df_final_with_comp$t_15_17==1,]$initial_refined_component <- \"t_15_17\")\n",
    "\n",
    "try(df_final_with_comp[df_final_with_comp$initial_refined_component==\"not_assigned\" & df_final_with_comp$t_8_21==1,]$initial_refined_component <- \"t_8_21\")\n",
    "\n",
    "try(df_final_with_comp[df_final_with_comp$initial_refined_component==\"not_assigned\" & df_final_with_comp$CEBPA_bi==1,]$initial_refined_component <- \"CEBPA_bi\")\n",
    "\n",
    "try(df_final_with_comp[df_final_with_comp$initial_refined_component==\"not_assigned\" & df_final_with_comp$inv_3==1,]$initial_refined_component <- \"inv_3\")\n",
    "\n",
    "try(df_final_with_comp[df_final_with_comp$initial_refined_component==\"not_assigned\" & df_final_with_comp$BAGE3==1 & df_final_with_comp$KMT2C==1,]$initial_refined_component <- \"BAGE3_KMT2C\")\n",
    "\n",
    "try(df_final_with_comp[df_final_with_comp$initial_refined_component==\"not_assigned\" & rowSums(df_final_with_comp[,factors])>1,]$initial_refined_component <- \"chr_splicing>1\")\n",
    "\n",
    "try(df_final_with_comp[df_final_with_comp$initial_refined_component==\"not_assigned\" & df_final_with_comp$DNMT3A==1 &\n",
    "                   (df_final_with_comp$IDH1==1 | df_final_with_comp$IDH2_p.R140==1 | df_final_with_comp$IDH2_p.R172==1),]$initial_refined_component <- \"DNMT3A_IDH1_2\")\n",
    "\n",
    "try(df_final_with_comp[df_final_with_comp$initial_refined_component==\"not_assigned\" & (df_final_with_comp$WT1==1 | df_final_with_comp$t_6_9==1 ),]$initial_refined_component <- \"WT1_t_6_9_ITD\")\n",
    "\n",
    "try(df_final_with_comp[df_final_with_comp$initial_refined_component==\"not_assigned\" & df_final_with_comp$KIT==1 &\n",
    "                   (df_final_with_comp$NRAS_p.G12_13==1 | df_final_with_comp$NRAS_p.Q61_62==1),]$initial_refined_component <- \"KIT_NRAS\")\n",
    "\n",
    "try(df_final_with_comp[df_final_with_comp$initial_refined_component==\"not_assigned\" & \n",
    "                       (df_final_with_comp$add_8==1 | df_final_with_comp$add_13==1 | df_final_with_comp$add_21==1 | df_final_with_comp$add_22==1) ,]$initial_refined_component <- \"additions\")\n",
    "\n",
    "try(df_final_with_comp[df_final_with_comp$initial_refined_component==\"not_assigned\" & rowSums(df_final_with_comp[,factors])==1,]$initial_refined_component <- \"chr_splicing\")\n",
    "\n",
    "table(df_final_with_comp$initial_refined_component)"
   ]
  },
  {
   "cell_type": "markdown",
   "metadata": {},
   "source": [
    "#Let's look at the repartition of initial component 0,2 and 4 in their new HDP Clustering : new component 1 to 7"
   ]
  },
  {
   "cell_type": "code",
   "execution_count": null,
   "metadata": {},
   "outputs": [],
   "source": [
    "df_final_with_comp$final_component_numeric <- ifelse(df_final_with_comp$initial_refined_component==\"NPM1\",1,\n",
    "                                              ifelse(df_final_with_comp$initial_refined_component==\"TP53_complex\",2, \n",
    "                                              ifelse(df_final_with_comp$initial_refined_component==\"t_11\",3,\n",
    "                                              ifelse(df_final_with_comp$initial_refined_component==\"t_15_17\",4,\n",
    "                                              ifelse(df_final_with_comp$initial_refined_component==\"t_8_21\",5,\n",
    "                                              ifelse(df_final_with_comp$initial_refined_component==\"CEBPA_bi\",6, \n",
    "                                              ifelse(df_final_with_comp$initial_refined_component==\"inv_3\",7,\n",
    "                                              ifelse(df_final_with_comp$initial_refined_component==\"BAGE3_KMT2C\",8,\n",
    "                                              ifelse(df_final_with_comp$initial_refined_component==\"chr_splicing>1\",9,\n",
    "                                              ifelse(df_final_with_comp$initial_refined_component==\"chr_splicing\",10, \n",
    "                                              ifelse(df_final_with_comp$initial_refined_component==\"DNMT3A_IDH1_2\",11,\n",
    "                                              ifelse(df_final_with_comp$initial_refined_component==\"WT1_t_6_9_ITD\",12,\n",
    "                                              ifelse(df_final_with_comp$initial_refined_component==\"KIT_NRAS\",13,\n",
    "                                              ifelse(df_final_with_comp$initial_refined_component==\"additions\",14,15))))))))))))))"
   ]
  },
  {
   "cell_type": "code",
   "execution_count": null,
   "metadata": {},
   "outputs": [],
   "source": [
    "library(gridExtra)\n",
    "library(matrixStats)\n",
    "library(dplyr)\n",
    "library(reshape2)\n",
    "library(clusterCrit)\n",
    "library(grid)\n",
    "library(ggrepel)\n",
    "library(RColorBrewer)\n",
    "library(dplyr)\n",
    "library(IRdisplay)\n",
    "library(scales)\n",
    "library(survival)\n",
    "library(corrplot)\n",
    "library(Hmisc)\n",
    "source('../../../src/tools.R')     # custom tools function\n",
    "source('../../../src/hdp_tools_yanis.R')\n",
    "source(\"../../../src/merge_df.R\")\n",
    "source(\"../../../src/my_toolbox.R\")\n",
    "source(\"../../../src/my_components.R\")\n",
    "source(\"../../../src/my_utils.R\")\n",
    "source(\"../../../src/ggstyles.R\")\n",
    "source(\"../../../src/my_hotspots.R\")\n",
    "###\n",
    "\n",
    "\n",
    "theme_set(theme_minimal())\n",
    "\n",
    "# set jupyer notebook parameters\n",
    "options(repr.plot.res        = 100, # set a medium-definition resolution for the jupyter notebooks plots (DPI)\n",
    "        repr.matrix.max.rows = 200, # set the maximum number of rows displayed\n",
    "        repr.matrix.max.cols = 200) # set the maximum number of columns displayed"
   ]
  },
  {
   "cell_type": "code",
   "execution_count": null,
   "metadata": {},
   "outputs": [],
   "source": [
    "colnames(df_final_with_comp)"
   ]
  },
  {
   "cell_type": "code",
   "execution_count": null,
   "metadata": {},
   "outputs": [],
   "source": [
    "cols_to_keep = c(1:153,155)\n",
    "tmp_all <- df_final_with_comp[,cols_to_keep][order(df_final_with_comp[,cols_to_keep]$final_component_numeric),]\n",
    "transp_df_all <-(as.data.frame(t(tmp_all)))\n",
    "transp_df_all$features <- rownames(transp_df_all)\n",
    "transp_df_all <- transp_df_all[! row.names(transp_df_all) == \"final_component_numeric\",]\n",
    "melt.data_all<-melt(transp_df_all,id.vars =\"features\", variable_name=colnames(transp_df_all))\n",
    "options(repr.plot.res = 200)\n",
    "set_notebook_plot_size(12, 18)\n",
    "col_sep <- tabulate(df_final_with_comp[,cols_to_keep]$final_component_numeric)   ## to separate by component\n",
    "\n",
    "cat(\"Order of Components :\",\"\\n\")\n",
    "cat(paste(unique(df_final_with_comp[order(df_final_with_comp[,cols_to_keep]$final_component_numeric),]$initial_refined_component),\" ,\"))\n",
    "# plot the heatmap\n",
    "ggplot(melt.data_all, aes(variable,features)) +\n",
    "geom_raster(aes(fill = factor(value)), show.legend = FALSE) +\n",
    "scale_fill_manual(values = c(\"0\" = \"grey45\", \"1\" = \"#e79f00\")) +\n",
    "geom_vline(xintercept = cumsum(col_sep)[1:8] + 0.5, col = \"#009E73\", linetype = 1, size = 0.5) +\n",
    "geom_vline(xintercept = cumsum(col_sep)[9:15] + 0.5, col = \"#CC79A7\", linetype = 1, size = 0.3) +\n",
    "labs(x = 'patients') "
   ]
  },
  {
   "cell_type": "code",
   "execution_count": null,
   "metadata": {},
   "outputs": [],
   "source": [
    "correlates <- c(\"gender\",\"age\",\"ahd\",\"perf_status\",\"bm_blasts\",\"secondary\",\"wbc\",\"hb\",\"plt\",\"os\",\"cr\",\"os_status\")\n",
    "binary_correlates <- c(\"gender\",\"ahd\",\"perf_status\",\"secondary\",\"os_status\",\"cr\")\n",
    "continuous_correlates <- c(\"age\",\"wbc\",\"hb\",\"plt\",\"bm_blasts\",\"os\")\n",
    "val=c(\"grey45\", \"#e79f00\", \"#009E73\",\"#0072B2\",  \"#CC79A7\",\n",
    "                                      \"#9ad0f3\", \"#D55E00\",\"lightskyblue\",\"mistyrose4\", \n",
    "                                      \"darkseagreen\",\"lightgoldenrod\",\"lightsalmon\",\"#F0E442\",\n",
    "                                      \"firebrick3\",\"#000000\",\"#870C14\",\"#a6bddb\",\"#fdbb84\",\"deeppink\")\n",
    "plot_surv <-function(df_surv,title=\"\",width=15,height=6,vals=val){\n",
    "    set_notebook_plot_size(width,height)\n",
    "    surv_object <- Surv(time = df_surv$os, event = df_surv$os_status)\n",
    "    fit1 <- survfit(surv_object ~ comparison, data = df_surv)\n",
    "    ggsurvplot(fit1, data = df_surv, pval = TRUE,risk.table = TRUE,ggtheme = theme_minimal(),\n",
    "    risk.table.y.text.col = T,\n",
    "    risk.table.y.text = T,break.time.by = 1,title= title,palette=as.vector(vals[1:length(unique(df_surv$comparison))]))\n",
    "}\n",
    "df_initial <- read.table(\"../../../data/initial_dataset/Master_04_10_2019.csv\",sep = ',' , header = T) \n",
    "rownames(df_initial) <- df_initial$data_pd\n",
    "df_initial <- df_initial[,-1:-4]\n",
    "df_w_correlates <- merge(df_initial[correlates],df_final_with_comp['initial_refined_component'],by=0)\n",
    "rownames(df_w_correlates) <- df_w_correlates$Row.names\n",
    "df_w_correlates <- df_w_correlates [,-1]\n",
    "set_notebook_plot_size(24,15)\n",
    "list_component <- levels(factor(df_w_correlates$initial_refined_component))\n",
    "survlist <- list()\n",
    "for (i in list_component){\n",
    "tmp <- df_w_correlates\n",
    "tmp$comparison <- ifelse((tmp$initial_refined_component==i),i,\"_Others\") \n",
    "surv_object <- Surv(time = tmp$os, event = tmp$os_status)\n",
    "fit <- survfit(surv_object ~ comparison, data = tmp)\n",
    "survlist[[i]]<-ggsurvplot(fit, data = tmp, pval = TRUE,ggtheme = theme_minimal(),main = \"Survival curve\",\n",
    "   font.main = c(16, \"bold\", \"darkblue\"),\n",
    "   font.y = c(14, \"bold.italic\", \"darkred\"),  \n",
    "   palette = c(\"grey45\",\"#e79f00\"),\n",
    "   font.tickslab = c(12, \"plain\", \"darkgreen\"))$plot\n",
    "}\n",
    "grid.arrange(grobs=survlist,ncol=5)"
   ]
  },
  {
   "cell_type": "code",
   "execution_count": null,
   "metadata": {},
   "outputs": [],
   "source": [
    "#for (i in list_component){\n",
    "set_notebook_plot_size(7,7)\n",
    "i=list_component[1]\n",
    "tmp <- df_w_correlates\n",
    "tmp$comparison <- ifelse((tmp$initial_refined_component==i),i,\"_Others\") \n",
    "surv_object <- Surv(time = tmp$os, event = tmp$os_status)\n",
    "fit <- survfit(surv_object ~ comparison, data = tmp)\n",
    "h <- ggsurvplot(fit, data = tmp, pval = TRUE,ggtheme = theme_minimal(),main = \"Survival curve\",risk.table=T)\n",
    "grid.arrange(grobs=h,ncol=1)\n",
    "print('a')"
   ]
  },
  {
   "cell_type": "code",
   "execution_count": null,
   "metadata": {},
   "outputs": [],
   "source": [
    "print('a')"
   ]
  }
 ],
 "metadata": {
  "kernelspec": {
   "display_name": "R",
   "language": "R",
   "name": "ir"
  },
  "language_info": {
   "codemirror_mode": "r",
   "file_extension": ".r",
   "mimetype": "text/x-r-source",
   "name": "R",
   "pygments_lexer": "r",
   "version": "3.5.2"
  }
 },
 "nbformat": 4,
 "nbformat_minor": 2
}

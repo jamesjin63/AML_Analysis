{
 "cells": [
  {
   "cell_type": "code",
   "execution_count": null,
   "metadata": {},
   "outputs": [],
   "source": [
    "predictorGLM <- function(designTrain, designTest, responseTrain, alpha, ninternalfolds=10) {\n",
    "    # alpha=1 --> l1 penalty\n",
    "    # alpha=0 --> l2 penalty\n",
    "    # alpha=1/2 --> elastic net\n",
    "    set.seed(17)\n",
    "    # Train\n",
    "    cvfit = cv.glmnet(designTrain, responseTrain, family=\"cox\", alpha=alpha, nfolds=ninternalfolds, grouped=TRUE)\n",
    "    # Predict\n",
    "    risk.predict = predict(cvfit, newx=designTest, s=\"lambda.min\", type=\"response\")\n",
    "    risk.predict = as.vector(risk.predict[,1])\n",
    "\n",
    "    return(risk.predict)\n",
    "}    "
   ]
  },
  {
   "cell_type": "code",
   "execution_count": 1,
   "metadata": {},
   "outputs": [
    {
     "name": "stdout",
     "output_type": "stream",
     "text": [
      "[1] 10\n"
     ]
    }
   ],
   "source": [
    "for (i in 10){\n",
    "    print(i)\n",
    "}"
   ]
  },
  {
   "cell_type": "code",
   "execution_count": null,
   "metadata": {},
   "outputs": [],
   "source": []
  }
 ],
 "metadata": {
  "kernelspec": {
   "display_name": "R",
   "language": "R",
   "name": "ir"
  },
  "language_info": {
   "codemirror_mode": "r",
   "file_extension": ".r",
   "mimetype": "text/x-r-source",
   "name": "R",
   "pygments_lexer": "r",
   "version": "3.5.2"
  }
 },
 "nbformat": 4,
 "nbformat_minor": 2
}

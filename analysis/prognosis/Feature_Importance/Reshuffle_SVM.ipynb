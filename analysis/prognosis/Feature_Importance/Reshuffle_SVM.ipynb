{
 "cells": [
  {
   "cell_type": "code",
   "execution_count": 1,
   "metadata": {},
   "outputs": [],
   "source": [
    "%matplotlib inline\n",
    "import numpy as np\n",
    "import matplotlib.pyplot as plt\n",
    "import pandas as pd\n",
    "import seaborn as sns\n",
    "from sklearn.model_selection import ShuffleSplit, GridSearchCV,train_test_split\n",
    "from sklearn.model_selection import cross_validate\n",
    "\n",
    "from sksurv.datasets import load_veterans_lung_cancer\n",
    "from sksurv.column import encode_categorical\n",
    "from sksurv.metrics import concordance_index_censored\n",
    "from sksurv.svm import FastSurvivalSVM,FastKernelSurvivalSVM\n",
    "from sksurv.kernels import clinical_kernel\n",
    "import warnings\n",
    "warnings.simplefilter(action='ignore', category=FutureWarning)"
   ]
  },
  {
   "cell_type": "code",
   "execution_count": 2,
   "metadata": {},
   "outputs": [],
   "source": [
    "def score_survival_model(model, X, y):\n",
    "    prediction = model.predict(X)\n",
    "    result = concordance_index_censored(y['Status'], y['Survival_in_days'], prediction)\n",
    "    return result[0]"
   ]
  },
  {
   "cell_type": "code",
   "execution_count": 3,
   "metadata": {},
   "outputs": [],
   "source": [
    "all_features = list(range(180)) \n",
    "clin_demo_comp = list(range(154,180)) \n",
    "clin_demo_cyto_gen_comp = list(range(1,180)) \n",
    "comp = list(range(163,180)) \n",
    "cyto_comp = list(range(85,154))+list(range(163,180)) \n",
    "cyto_gen_comp = list(range(1,154))+list(range(163,180)) \n",
    "eln_clin_demo_comp = [0]+list(range(154,180)) \n",
    "eln_cyto_comp = [0]+list(range(85,154))+list(range(163,180)) \n",
    "eln_cyto_gen_comp = list(range(154))+list(range(163,180)) \n",
    "eln_gen_comp = list(range(85))+list(range(163,180)) \n",
    "gen_comp = list(range(1,85))+list(range(163,180))\n",
    "clin_comp = list(range(154,161))+list(range(163,180)) \n",
    "clin_cyto_comp = list(range(85,161))+list(range(163,180)) \n",
    "clin_gen_comp = list(range(1,85))+list(range(154,161))+list(range(163,180)) \n",
    "eln_clin_comp = [0]+list(range(154,161))+list(range(163,180))\n",
    "\n",
    "\n",
    "#Without age\n",
    "all_features_without_age = list(range(162))+list(range(163,180))\n",
    "clin_demo_comp_without_age = list(range(154,162))+list(range(163,180))\n",
    "clin_demo_cyto_gen_comp_without_age = list(range(1,162))+list(range(163,180))\n",
    "eln_clin_demo_comp_without_age = [0]+list(range(154,162))+list(range(163,180))\n",
    "            \n",
    "            \n",
    "eln_clin_gen = list(range(85))+list(range(154,161))  \n",
    "eln_demo_gen = list(range(85))+[161,162] \n",
    "eln_clin_demo_cyto_gen =list(range(163)) \n",
    "eln_clin_demo_cyto = [0]+list(range(85,163))\n",
    "\n",
    "eln_clin_demo_gen = list(range(85))+list(range(154,163))\n",
    "eln_clin_demo = [0] + list(range(154,163))\n",
    "eln_clin = [0] + list(range(154,161))\n",
    "eln_cyto_gen = list(range(154))\n",
    "clin_demo_cyto_gen = list(range(1,163))\n",
    "clin_demo_cyto = list(range(85,163))\n",
    "clin_demo_gen = list(range(1,85))+list(range(154,163)) \n",
    "clin_demo = list(range(154,163)) \n",
    "cyto_gen = list(range(1,154))\n",
    "cyto = list(range(85,154))\n",
    "gen = list(range(1,85))\n",
    "clin_gen = list(range(1,85)) + list(range(154,161))  \n",
    "clin_cyto = list(range(85,161))  \n",
    "demo_gen = list(range(1,85)) + [161,162]\n",
    "demo_cyto = list(range(85,154)) + [161,162]\n",
    "\n",
    "###Without age:\n",
    "\n",
    "eln_demo_gen_without_age = list(range(85)) + [161]\n",
    "eln_clin_demo_cyto_gen_without_age = list(range(162))\n",
    "eln_clin_demo_cyto_without_age = [0] + list(range(85,162))\n",
    "eln_clin_demo_gen_without_age = list(range(85)) + list(range(154,162))\n",
    "eln_clin_demo_without_age = [0] + list(range(154,162))\n",
    "clin_demo_cyto_gen_without_age = list(range(1,162))\n",
    "clin_demo_cyto_without_age = list(range(85,162))\n",
    "clin_demo_gen_without_age = list(range(1,85)) + list(range(154,162)) \n",
    "clin_demo_without_age = list(range(154,162))\n",
    "demo_gen_without_age = list(range(1,85)) + [161]\n",
    "demo_cyto_without_age = list(range(85,154)) + [161]\n",
    "gen_age = list(range(1,85)) + [162]\n",
    "eln=[0]\n",
    "eln_comp=[0] + list(range(163,180))\n",
    "eln_age=[0,162]\n",
    "eln_gen=[0] + list(range(1,85))\n",
    "eln_cyto=[0] + list(range(85,154))\n"
   ]
  },
  {
   "cell_type": "code",
   "execution_count": null,
   "metadata": {},
   "outputs": [],
   "source": [
    "df_final = pd.read_table(\"prognosis_comp_final.tsv\")\n",
    "estimator = FastSurvivalSVM(max_iter=1000, tol=1e-6, random_state=17)\n",
    "param_grid = {'alpha': 10. ** np.array([-6,-5.5,-5,-4.5,-2.5,-1,0]),'optimizer':[\"avltree\"]}\n",
    "cv = ShuffleSplit(n_splits=5,random_state=17)\n",
    "gcv = GridSearchCV(estimator, param_grid, scoring=score_survival_model,\n",
    "                   n_jobs=50, iid=False, refit=True,\n",
    "                   cv=cv)"
   ]
  }
 ],
 "metadata": {
  "kernelspec": {
   "display_name": "Python 3",
   "language": "python",
   "name": "python3"
  },
  "language_info": {
   "codemirror_mode": {
    "name": "ipython",
    "version": 3
   },
   "file_extension": ".py",
   "mimetype": "text/x-python",
   "name": "python",
   "nbconvert_exporter": "python",
   "pygments_lexer": "ipython3",
   "version": "3.7.1"
  }
 },
 "nbformat": 4,
 "nbformat_minor": 2
}

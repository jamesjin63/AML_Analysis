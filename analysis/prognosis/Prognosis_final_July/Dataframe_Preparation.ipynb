{
 "cells": [
  {
   "cell_type": "code",
   "execution_count": 25,
   "metadata": {},
   "outputs": [
    {
     "data": {
      "text/html": [
       "<ol class=list-inline>\n",
       "\t<li>1928</li>\n",
       "\t<li>180</li>\n",
       "</ol>\n"
      ],
      "text/latex": [
       "\\begin{enumerate*}\n",
       "\\item 1928\n",
       "\\item 180\n",
       "\\end{enumerate*}\n"
      ],
      "text/markdown": [
       "1. 1928\n",
       "2. 180\n",
       "\n",
       "\n"
      ],
      "text/plain": [
       "[1] 1928  180"
      ]
     },
     "metadata": {},
     "output_type": "display_data"
    }
   ],
   "source": [
    "library(dummies)\n",
    "correlates <- c(\"ahd\",\"perf_status\",\"bm_blasts\",\"secondary\",\"wbc\",\"hb\",\"plt\",\"gender\",\"age\",\"os\",\"os_status\")\n",
    "\n",
    "df_all_components <- read.table(\"../../clustering/Clustering_Final_Analysis/df_final_with_components.tsv\")\n",
    "df_initial <- read.table(\"../../../data/initial_dataset/Master_04_10_2019.csv\",sep = ',' , header = T)\n",
    "rownames(df_initial) <- df_initial$data_pd\n",
    "df_initial <- df_initial[,-1:-4]\n",
    "df_eln <- read.table(\"../../../data/updated_dataset/eln_ratio.tsv\",sep = '\\t' , header = T)\n",
    "rownames(df_eln) <- df_eln$X\n",
    "df_eln <- df_eln[-1]\n",
    "df <- merge(df_eln,df_all_components,by=0)\n",
    "rownames(df) <- df$Row.names\n",
    "df <- df[-1]\n",
    "df <- merge(df,df_initial[,correlates],by=0)\n",
    "rownames(df) <- df$Row.names\n",
    "df <- df[-1]\n",
    "df <-df[,c(1:155,157:167)] \n",
    "df <- na.omit(df)\n",
    "df <- df[df$os>0,]\n",
    "df$eln_2017_ratio <- ifelse(df$eln_2017_ratio==\"adverse\",1,\n",
    "                   ifelse(df$eln_2017_ratio==\"intermediate\",2,3))\n",
    "df<- cbind(df,dummy('final_component',df, sep = \"_\"))\n",
    "df <- df[,c(1:154,156:164,167:181,165:166)]\n",
    "write.table(df,\"data_frame_final_prognosis.tsv\")"
   ]
  },
  {
   "cell_type": "code",
   "execution_count": null,
   "metadata": {},
   "outputs": [],
   "source": [
    "dim"
   ]
  }
 ],
 "metadata": {
  "kernelspec": {
   "display_name": "R",
   "language": "R",
   "name": "ir"
  },
  "language_info": {
   "codemirror_mode": "r",
   "file_extension": ".r",
   "mimetype": "text/x-r-source",
   "name": "R",
   "pygments_lexer": "r",
   "version": "3.5.2"
  }
 },
 "nbformat": 4,
 "nbformat_minor": 2
}

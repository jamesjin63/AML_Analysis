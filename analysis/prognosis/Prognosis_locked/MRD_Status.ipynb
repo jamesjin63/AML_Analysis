{
 "cells": [
  {
   "cell_type": "code",
   "execution_count": 1,
   "metadata": {},
   "outputs": [],
   "source": [
    "tmp <-read.table('handovercompiled.Yanis.080919.csv',sep=\",\",header=T)\n",
    "rownames(tmp) <- tmp$data_pd\n",
    "master <- read.table('../../../data/initial_dataset/Master_04_10_2019.csv',sep=\",\",header=T)\n",
    "rownames(master) <- master$data_pd"
   ]
  },
  {
   "cell_type": "code",
   "execution_count": 17,
   "metadata": {},
   "outputs": [
    {
     "data": {
      "text/html": [
       "<ol class=list-inline>\n",
       "\t<li>'donor_id'</li>\n",
       "\t<li>'data_pd'</li>\n",
       "\t<li>'sample_pd.x'</li>\n",
       "\t<li>'date_entry'</li>\n",
       "\t<li>'trtcode'</li>\n",
       "\t<li>'AMLID'</li>\n",
       "\t<li>'dead60'</li>\n",
       "\t<li>'MRDgp1'</li>\n",
       "\t<li>'MRDgp2'</li>\n",
       "\t<li>'CRby1'</li>\n",
       "\t<li>'CRby2'</li>\n",
       "\t<li>'MRD1'</li>\n",
       "\t<li>'MRD2'</li>\n",
       "\t<li>'LAIPdetection1'</li>\n",
       "\t<li>'LAIPvalue1'</li>\n",
       "\t<li>'Sample1'</li>\n",
       "\t<li>'DiagnosticLAIPscreening'</li>\n",
       "\t<li>'LAIPdetection2'</li>\n",
       "\t<li>'LAIPvalue2'</li>\n",
       "\t<li>'Sample2'</li>\n",
       "\t<li>'LAIPassessed1'</li>\n",
       "\t<li>'LAIPassessed2'</li>\n",
       "\t<li>'trial.y'</li>\n",
       "\t<li>'sample_pd.y'</li>\n",
       "\t<li>'OS_randomization'</li>\n",
       "\t<li>'DEADStatus'</li>\n",
       "\t<li>'RFSyears'</li>\n",
       "\t<li>'RFSStatus'</li>\n",
       "\t<li>'RelapseCIStatus'</li>\n",
       "\t<li>'DaystoFirstCR'</li>\n",
       "\t<li>'CODCause'</li>\n",
       "\t<li>'OS_CR'</li>\n",
       "\t<li>'CRdate'</li>\n",
       "\t<li>'randDate_PB'</li>\n",
       "\t<li>'CRDate_PB'</li>\n",
       "\t<li>'relapseDate_PB'</li>\n",
       "\t<li>'boneDate_PB'</li>\n",
       "\t<li>'longCR_PB'</li>\n",
       "</ol>\n"
      ],
      "text/latex": [
       "\\begin{enumerate*}\n",
       "\\item 'donor\\_id'\n",
       "\\item 'data\\_pd'\n",
       "\\item 'sample\\_pd.x'\n",
       "\\item 'date\\_entry'\n",
       "\\item 'trtcode'\n",
       "\\item 'AMLID'\n",
       "\\item 'dead60'\n",
       "\\item 'MRDgp1'\n",
       "\\item 'MRDgp2'\n",
       "\\item 'CRby1'\n",
       "\\item 'CRby2'\n",
       "\\item 'MRD1'\n",
       "\\item 'MRD2'\n",
       "\\item 'LAIPdetection1'\n",
       "\\item 'LAIPvalue1'\n",
       "\\item 'Sample1'\n",
       "\\item 'DiagnosticLAIPscreening'\n",
       "\\item 'LAIPdetection2'\n",
       "\\item 'LAIPvalue2'\n",
       "\\item 'Sample2'\n",
       "\\item 'LAIPassessed1'\n",
       "\\item 'LAIPassessed2'\n",
       "\\item 'trial.y'\n",
       "\\item 'sample\\_pd.y'\n",
       "\\item 'OS\\_randomization'\n",
       "\\item 'DEADStatus'\n",
       "\\item 'RFSyears'\n",
       "\\item 'RFSStatus'\n",
       "\\item 'RelapseCIStatus'\n",
       "\\item 'DaystoFirstCR'\n",
       "\\item 'CODCause'\n",
       "\\item 'OS\\_CR'\n",
       "\\item 'CRdate'\n",
       "\\item 'randDate\\_PB'\n",
       "\\item 'CRDate\\_PB'\n",
       "\\item 'relapseDate\\_PB'\n",
       "\\item 'boneDate\\_PB'\n",
       "\\item 'longCR\\_PB'\n",
       "\\end{enumerate*}\n"
      ],
      "text/markdown": [
       "1. 'donor_id'\n",
       "2. 'data_pd'\n",
       "3. 'sample_pd.x'\n",
       "4. 'date_entry'\n",
       "5. 'trtcode'\n",
       "6. 'AMLID'\n",
       "7. 'dead60'\n",
       "8. 'MRDgp1'\n",
       "9. 'MRDgp2'\n",
       "10. 'CRby1'\n",
       "11. 'CRby2'\n",
       "12. 'MRD1'\n",
       "13. 'MRD2'\n",
       "14. 'LAIPdetection1'\n",
       "15. 'LAIPvalue1'\n",
       "16. 'Sample1'\n",
       "17. 'DiagnosticLAIPscreening'\n",
       "18. 'LAIPdetection2'\n",
       "19. 'LAIPvalue2'\n",
       "20. 'Sample2'\n",
       "21. 'LAIPassessed1'\n",
       "22. 'LAIPassessed2'\n",
       "23. 'trial.y'\n",
       "24. 'sample_pd.y'\n",
       "25. 'OS_randomization'\n",
       "26. 'DEADStatus'\n",
       "27. 'RFSyears'\n",
       "28. 'RFSStatus'\n",
       "29. 'RelapseCIStatus'\n",
       "30. 'DaystoFirstCR'\n",
       "31. 'CODCause'\n",
       "32. 'OS_CR'\n",
       "33. 'CRdate'\n",
       "34. 'randDate_PB'\n",
       "35. 'CRDate_PB'\n",
       "36. 'relapseDate_PB'\n",
       "37. 'boneDate_PB'\n",
       "38. 'longCR_PB'\n",
       "\n",
       "\n"
      ],
      "text/plain": [
       " [1] \"donor_id\"                \"data_pd\"                \n",
       " [3] \"sample_pd.x\"             \"date_entry\"             \n",
       " [5] \"trtcode\"                 \"AMLID\"                  \n",
       " [7] \"dead60\"                  \"MRDgp1\"                 \n",
       " [9] \"MRDgp2\"                  \"CRby1\"                  \n",
       "[11] \"CRby2\"                   \"MRD1\"                   \n",
       "[13] \"MRD2\"                    \"LAIPdetection1\"         \n",
       "[15] \"LAIPvalue1\"              \"Sample1\"                \n",
       "[17] \"DiagnosticLAIPscreening\" \"LAIPdetection2\"         \n",
       "[19] \"LAIPvalue2\"              \"Sample2\"                \n",
       "[21] \"LAIPassessed1\"           \"LAIPassessed2\"          \n",
       "[23] \"trial.y\"                 \"sample_pd.y\"            \n",
       "[25] \"OS_randomization\"        \"DEADStatus\"             \n",
       "[27] \"RFSyears\"                \"RFSStatus\"              \n",
       "[29] \"RelapseCIStatus\"         \"DaystoFirstCR\"          \n",
       "[31] \"CODCause\"                \"OS_CR\"                  \n",
       "[33] \"CRdate\"                  \"randDate_PB\"            \n",
       "[35] \"CRDate_PB\"               \"relapseDate_PB\"         \n",
       "[37] \"boneDate_PB\"             \"longCR_PB\"              "
      ]
     },
     "metadata": {},
     "output_type": "display_data"
    }
   ],
   "source": [
    "colnames(tmp)"
   ]
  },
  {
   "cell_type": "code",
   "execution_count": 3,
   "metadata": {},
   "outputs": [
    {
     "data": {
      "text/html": [
       "<table>\n",
       "<thead><tr><th></th><th scope=col>donor_id</th><th scope=col>data_pd</th><th scope=col>sample_pd.x</th><th scope=col>date_entry</th><th scope=col>trtcode</th><th scope=col>AMLID</th><th scope=col>dead60</th><th scope=col>MRDgp1</th><th scope=col>MRDgp2</th><th scope=col>CRby1</th><th scope=col>⋯</th><th scope=col>RelapseCIStatus</th><th scope=col>DaystoFirstCR</th><th scope=col>CODCause</th><th scope=col>OS_CR</th><th scope=col>CRdate</th><th scope=col>randDate_PB</th><th scope=col>CRDate_PB</th><th scope=col>relapseDate_PB</th><th scope=col>boneDate_PB</th><th scope=col>longCR_PB</th></tr></thead>\n",
       "<tbody>\n",
       "\t<tr><th scope=row>PD20338c</th><td>11-3496       </td><td>PD20338c      </td><td>PD20338c      </td><td>1994-01-02    </td><td>110061        </td><td>NA            </td><td>NA            </td><td>NA            </td><td>NA            </td><td>NA            </td><td>⋯             </td><td>1             </td><td>27            </td><td>INFECTION     </td><td>1.9329230     </td><td>1994-02-28    </td><td>0             </td><td>0             </td><td>0             </td><td>0             </td><td>0             </td></tr>\n",
       "\t<tr><th scope=row>PD20337c</th><td>11-3807       </td><td>PD20337c      </td><td>PD20337c      </td><td>1995-09-08    </td><td>110054        </td><td>NA            </td><td>NA            </td><td>NA            </td><td>NA            </td><td>NA            </td><td>⋯             </td><td>2             </td><td>NA            </td><td>RESISTANT DIS </td><td>       NA     </td><td>NA            </td><td>0             </td><td>0             </td><td>0             </td><td>0             </td><td>0             </td></tr>\n",
       "\t<tr><th scope=row>PD20336a</th><td>11-3885       </td><td>PD20336a      </td><td>PD20336a      </td><td>1995-12-18    </td><td>110036        </td><td>NA            </td><td>NA            </td><td>NA            </td><td>NA            </td><td>NA            </td><td>⋯             </td><td>2             </td><td>NA            </td><td>INFECT + HAEM </td><td>       NA     </td><td>NA            </td><td>0             </td><td>0             </td><td>0             </td><td>0             </td><td>0             </td></tr>\n",
       "\t<tr><th scope=row>PD20335c</th><td>11-4052       </td><td>PD20335c      </td><td>PD20335c      </td><td>1996-11-14    </td><td>110045        </td><td>NA            </td><td>NA            </td><td>NA            </td><td>NA            </td><td>NA            </td><td>⋯             </td><td>2             </td><td>NA            </td><td>INFECTION     </td><td>       NA     </td><td>NA            </td><td>0             </td><td>0             </td><td>0             </td><td>0             </td><td>0             </td></tr>\n",
       "\t<tr><th scope=row>PD20334a</th><td>11-4169       </td><td>PD20334a      </td><td>PD20334a      </td><td>1997-06-18    </td><td>110058        </td><td>NA            </td><td>NA            </td><td>NA            </td><td>NA            </td><td>NA            </td><td>⋯             </td><td>1             </td><td>27            </td><td>RECURRENT LEUK</td><td>0.6078029     </td><td>1997-07-15    </td><td>0             </td><td>0             </td><td>0             </td><td>0             </td><td>0             </td></tr>\n",
       "\t<tr><th scope=row>PD20333c</th><td>12-5272       </td><td>PD20333c      </td><td>PD20333c      </td><td>1995-03-11    </td><td>    NA        </td><td>NA            </td><td>NA            </td><td>NA            </td><td>NA            </td><td>NA            </td><td>⋯             </td><td>1             </td><td>88            </td><td>RECURRENT LEUK</td><td>1.5523610     </td><td>1996-01-30    </td><td>0             </td><td>0             </td><td>0             </td><td>0             </td><td>0             </td></tr>\n",
       "</tbody>\n",
       "</table>\n"
      ],
      "text/latex": [
       "\\begin{tabular}{r|llllllllllllllllllllllllllllllllllllll}\n",
       "  & donor\\_id & data\\_pd & sample\\_pd.x & date\\_entry & trtcode & AMLID & dead60 & MRDgp1 & MRDgp2 & CRby1 & ⋯ & RelapseCIStatus & DaystoFirstCR & CODCause & OS\\_CR & CRdate & randDate\\_PB & CRDate\\_PB & relapseDate\\_PB & boneDate\\_PB & longCR\\_PB\\\\\n",
       "\\hline\n",
       "\tPD20338c & 11-3496        & PD20338c       & PD20338c       & 1994-01-02     & 110061         & NA             & NA             & NA             & NA             & NA             & ⋯              & 1              & 27             & INFECTION      & 1.9329230      & 1994-02-28     & 0              & 0              & 0              & 0              & 0             \\\\\n",
       "\tPD20337c & 11-3807        & PD20337c       & PD20337c       & 1995-09-08     & 110054         & NA             & NA             & NA             & NA             & NA             & ⋯              & 2              & NA             & RESISTANT DIS  &        NA      & NA             & 0              & 0              & 0              & 0              & 0             \\\\\n",
       "\tPD20336a & 11-3885        & PD20336a       & PD20336a       & 1995-12-18     & 110036         & NA             & NA             & NA             & NA             & NA             & ⋯              & 2              & NA             & INFECT + HAEM  &        NA      & NA             & 0              & 0              & 0              & 0              & 0             \\\\\n",
       "\tPD20335c & 11-4052        & PD20335c       & PD20335c       & 1996-11-14     & 110045         & NA             & NA             & NA             & NA             & NA             & ⋯              & 2              & NA             & INFECTION      &        NA      & NA             & 0              & 0              & 0              & 0              & 0             \\\\\n",
       "\tPD20334a & 11-4169        & PD20334a       & PD20334a       & 1997-06-18     & 110058         & NA             & NA             & NA             & NA             & NA             & ⋯              & 1              & 27             & RECURRENT LEUK & 0.6078029      & 1997-07-15     & 0              & 0              & 0              & 0              & 0             \\\\\n",
       "\tPD20333c & 12-5272        & PD20333c       & PD20333c       & 1995-03-11     &     NA         & NA             & NA             & NA             & NA             & NA             & ⋯              & 1              & 88             & RECURRENT LEUK & 1.5523610      & 1996-01-30     & 0              & 0              & 0              & 0              & 0             \\\\\n",
       "\\end{tabular}\n"
      ],
      "text/markdown": [
       "\n",
       "| <!--/--> | donor_id | data_pd | sample_pd.x | date_entry | trtcode | AMLID | dead60 | MRDgp1 | MRDgp2 | CRby1 | ⋯ | RelapseCIStatus | DaystoFirstCR | CODCause | OS_CR | CRdate | randDate_PB | CRDate_PB | relapseDate_PB | boneDate_PB | longCR_PB |\n",
       "|---|---|---|---|---|---|---|---|---|---|---|---|---|---|---|---|---|---|---|---|---|---|\n",
       "| PD20338c | 11-3496        | PD20338c       | PD20338c       | 1994-01-02     | 110061         | NA             | NA             | NA             | NA             | NA             | ⋯              | 1              | 27             | INFECTION      | 1.9329230      | 1994-02-28     | 0              | 0              | 0              | 0              | 0              |\n",
       "| PD20337c | 11-3807        | PD20337c       | PD20337c       | 1995-09-08     | 110054         | NA             | NA             | NA             | NA             | NA             | ⋯              | 2              | NA             | RESISTANT DIS  |        NA      | NA             | 0              | 0              | 0              | 0              | 0              |\n",
       "| PD20336a | 11-3885        | PD20336a       | PD20336a       | 1995-12-18     | 110036         | NA             | NA             | NA             | NA             | NA             | ⋯              | 2              | NA             | INFECT + HAEM  |        NA      | NA             | 0              | 0              | 0              | 0              | 0              |\n",
       "| PD20335c | 11-4052        | PD20335c       | PD20335c       | 1996-11-14     | 110045         | NA             | NA             | NA             | NA             | NA             | ⋯              | 2              | NA             | INFECTION      |        NA      | NA             | 0              | 0              | 0              | 0              | 0              |\n",
       "| PD20334a | 11-4169        | PD20334a       | PD20334a       | 1997-06-18     | 110058         | NA             | NA             | NA             | NA             | NA             | ⋯              | 1              | 27             | RECURRENT LEUK | 0.6078029      | 1997-07-15     | 0              | 0              | 0              | 0              | 0              |\n",
       "| PD20333c | 12-5272        | PD20333c       | PD20333c       | 1995-03-11     |     NA         | NA             | NA             | NA             | NA             | NA             | ⋯              | 1              | 88             | RECURRENT LEUK | 1.5523610      | 1996-01-30     | 0              | 0              | 0              | 0              | 0              |\n",
       "\n"
      ],
      "text/plain": [
       "         donor_id data_pd  sample_pd.x date_entry trtcode AMLID dead60 MRDgp1\n",
       "PD20338c 11-3496  PD20338c PD20338c    1994-01-02 110061  NA    NA     NA    \n",
       "PD20337c 11-3807  PD20337c PD20337c    1995-09-08 110054  NA    NA     NA    \n",
       "PD20336a 11-3885  PD20336a PD20336a    1995-12-18 110036  NA    NA     NA    \n",
       "PD20335c 11-4052  PD20335c PD20335c    1996-11-14 110045  NA    NA     NA    \n",
       "PD20334a 11-4169  PD20334a PD20334a    1997-06-18 110058  NA    NA     NA    \n",
       "PD20333c 12-5272  PD20333c PD20333c    1995-03-11     NA  NA    NA     NA    \n",
       "         MRDgp2 CRby1 ⋯ RelapseCIStatus DaystoFirstCR CODCause       OS_CR    \n",
       "PD20338c NA     NA    ⋯ 1               27            INFECTION      1.9329230\n",
       "PD20337c NA     NA    ⋯ 2               NA            RESISTANT DIS         NA\n",
       "PD20336a NA     NA    ⋯ 2               NA            INFECT + HAEM         NA\n",
       "PD20335c NA     NA    ⋯ 2               NA            INFECTION             NA\n",
       "PD20334a NA     NA    ⋯ 1               27            RECURRENT LEUK 0.6078029\n",
       "PD20333c NA     NA    ⋯ 1               88            RECURRENT LEUK 1.5523610\n",
       "         CRdate     randDate_PB CRDate_PB relapseDate_PB boneDate_PB longCR_PB\n",
       "PD20338c 1994-02-28 0           0         0              0           0        \n",
       "PD20337c NA         0           0         0              0           0        \n",
       "PD20336a NA         0           0         0              0           0        \n",
       "PD20335c NA         0           0         0              0           0        \n",
       "PD20334a 1997-07-15 0           0         0              0           0        \n",
       "PD20333c 1996-01-30 0           0         0              0           0        "
      ]
     },
     "metadata": {},
     "output_type": "display_data"
    }
   ],
   "source": [
    "head(master[,colnames(tmp)])"
   ]
  },
  {
   "cell_type": "code",
   "execution_count": 23,
   "metadata": {},
   "outputs": [
    {
     "data": {
      "text/html": [
       "1167"
      ],
      "text/latex": [
       "1167"
      ],
      "text/markdown": [
       "1167"
      ],
      "text/plain": [
       "[1] 1167"
      ]
     },
     "metadata": {},
     "output_type": "display_data"
    }
   ],
   "source": [
    "sum(table(master[,colnames(tmp)]$AMLID))"
   ]
  },
  {
   "cell_type": "code",
   "execution_count": 24,
   "metadata": {},
   "outputs": [
    {
     "data": {
      "text/html": [
       "1167"
      ],
      "text/latex": [
       "1167"
      ],
      "text/markdown": [
       "1167"
      ],
      "text/plain": [
       "[1] 1167"
      ]
     },
     "metadata": {},
     "output_type": "display_data"
    }
   ],
   "source": [
    "sum(table(master[,colnames(tmp)]$AMLID))"
   ]
  },
  {
   "cell_type": "code",
   "execution_count": 12,
   "metadata": {},
   "outputs": [
    {
     "data": {
      "text/html": [
       "<ol class=list-inline>\n",
       "\t<li>2428</li>\n",
       "\t<li>522</li>\n",
       "</ol>\n"
      ],
      "text/latex": [
       "\\begin{enumerate*}\n",
       "\\item 2428\n",
       "\\item 522\n",
       "\\end{enumerate*}\n"
      ],
      "text/markdown": [
       "1. 2428\n",
       "2. 522\n",
       "\n",
       "\n"
      ],
      "text/plain": [
       "[1] 2428  522"
      ]
     },
     "metadata": {},
     "output_type": "display_data"
    }
   ],
   "source": [
    "dim(master)"
   ]
  },
  {
   "cell_type": "code",
   "execution_count": null,
   "metadata": {},
   "outputs": [],
   "source": []
  }
 ],
 "metadata": {
  "kernelspec": {
   "display_name": "R",
   "language": "R",
   "name": "ir"
  },
  "language_info": {
   "codemirror_mode": "r",
   "file_extension": ".r",
   "mimetype": "text/x-r-source",
   "name": "R",
   "pygments_lexer": "r",
   "version": "3.5.2"
  }
 },
 "nbformat": 4,
 "nbformat_minor": 2
}

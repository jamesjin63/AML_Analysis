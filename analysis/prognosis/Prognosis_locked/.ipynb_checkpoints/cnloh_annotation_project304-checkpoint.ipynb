{
 "cells": [
  {
   "cell_type": "code",
   "execution_count": 2,
   "metadata": {},
   "outputs": [],
   "source": [
    "options(repr.plot.width=20, repr.plot.height=10)\n",
    "library(ggplot2)\n",
    "library(testit)\n",
    "library(gridExtra)\n",
    "library(reshape2)\n",
    "library(prodlim)\n",
    "#library(maftools)\n",
    "library(ggpubr)\n",
    "library(tidyr)\n",
    "library(gdata)\n",
    "library(plyr)\n",
    "library(survival)\n",
    "library(survminer)\n",
    "library(reshape)\n",
    "library(beanplot)\n",
    "library(grid)\n",
    "library(dplyr)\n",
    "library(stats)\n",
    "library(compare)\n",
    "library(glmnet)\n",
    "library(tibble)\n",
    "library(BradleyTerry2)\n",
    "library(\"RColorBrewer\")\n",
    "library(fishplot)\n",
    "library(gridGraphics)\n",
    "#library(cowplot)\n",
    "# source(\"../src_utils/merge_df.R\")\n",
    "# source(\"../src_utils/my_hotspots_plot.R\")\n",
    "# source(\"../src_utils/my_toolbox.R\")\n",
    "# source('../src_utils/my_volcano.R')\n",
    "# source(\"../src_utils/my_genomics.R\")\n",
    "# source(\"../src_utils/my_utils.R\")\n",
    "# source('../src_utils/my_legends.R')\n",
    "# source('../src_utils/my_os_per_categ.R')\n",
    "# source('../src_utils/my_os_per_categ2.R')\n",
    "# source('../src_utils/my_sample_by_categ.R')\n",
    "# source('../src_utils/my_who_ipssr_plot.R')\n",
    " source('../src_utils/my_label_dat_fromcol.R')\n",
    "#source(\"../src_utils/my_hotspots.R\")\n",
    "#source(\"../../../Utils/ggplot/ggstyles.R\")\n",
    "\n",
    "\n",
    "options(repr.plot.res        = 100, # set a medium-definition resolution for the jupyter notebooks plots (DPI)\n",
    "       repr.matrix.max.rows = 250, # set the maximum number of rows displayed\n",
    "       repr.matrix.max.cols = 400) # set the maximum number of columns displayed`\n",
    "biggersize<-theme(axis.title=element_text(size=15),axis.text=element_text(size=10))"
   ]
  },
  {
   "cell_type": "code",
   "execution_count": 3,
   "metadata": {},
   "outputs": [],
   "source": [
    "df<-read.csv(\"../data/304/Master_04_10_2019.csv\",sep=\",\",stringsAsFactors=F)"
   ]
  },
  {
   "cell_type": "code",
   "execution_count": 4,
   "metadata": {},
   "outputs": [],
   "source": [
    "mutated = subset(df,df$TP53==1,)"
   ]
  },
  {
   "cell_type": "code",
   "execution_count": 5,
   "metadata": {},
   "outputs": [],
   "source": [
    "pd = unique(mutated$data_pd)"
   ]
  },
  {
   "cell_type": "code",
   "execution_count": null,
   "metadata": {},
   "outputs": [],
   "source": []
  },
  {
   "cell_type": "code",
   "execution_count": 6,
   "metadata": {},
   "outputs": [
    {
     "data": {
      "text/plain": [
       "\n",
       "   0    1 \n",
       "2230  198 "
      ]
     },
     "metadata": {},
     "output_type": "display_data"
    }
   ],
   "source": [
    "table(df$TP53)"
   ]
  },
  {
   "cell_type": "code",
   "execution_count": 7,
   "metadata": {},
   "outputs": [],
   "source": [
    "pd_x = read.table(file='../data/304/pd_experiment.txt',header=FALSE)"
   ]
  },
  {
   "cell_type": "code",
   "execution_count": 8,
   "metadata": {},
   "outputs": [],
   "source": [
    "list_experiments = pd_x$V1"
   ]
  },
  {
   "cell_type": "code",
   "execution_count": 9,
   "metadata": {},
   "outputs": [
    {
     "data": {
      "text/html": [
       "<table>\n",
       "<caption>A data.frame: 6 × 2</caption>\n",
       "<thead>\n",
       "\t<tr><th scope=col>experiment</th><th scope=col>pd</th></tr>\n",
       "\t<tr><th scope=col>&lt;fct&gt;</th><th scope=col>&lt;fct&gt;</th></tr>\n",
       "</thead>\n",
       "<tbody>\n",
       "\t<tr><td>IID_H153902_T01_01_TD01</td><td>PD20336a</td></tr>\n",
       "\t<tr><td>IID_H154939_T01_01_TD01</td><td>PD20327a</td></tr>\n",
       "\t<tr><td>IID_H154967_T01_01_TD01</td><td>PD20266a</td></tr>\n",
       "\t<tr><td>IID_H153984_T01_01_TD01</td><td>PD15169a</td></tr>\n",
       "\t<tr><td>IID_H155040_T01_01_TD01</td><td>PD15056a</td></tr>\n",
       "\t<tr><td>IID_H155056_T01_01_TD01</td><td>PD20132c</td></tr>\n",
       "</tbody>\n",
       "</table>\n"
      ],
      "text/latex": [
       "A data.frame: 6 × 2\n",
       "\\begin{tabular}{r|ll}\n",
       " experiment & pd\\\\\n",
       " <fct> & <fct>\\\\\n",
       "\\hline\n",
       "\t IID\\_H153902\\_T01\\_01\\_TD01 & PD20336a\\\\\n",
       "\t IID\\_H154939\\_T01\\_01\\_TD01 & PD20327a\\\\\n",
       "\t IID\\_H154967\\_T01\\_01\\_TD01 & PD20266a\\\\\n",
       "\t IID\\_H153984\\_T01\\_01\\_TD01 & PD15169a\\\\\n",
       "\t IID\\_H155040\\_T01\\_01\\_TD01 & PD15056a\\\\\n",
       "\t IID\\_H155056\\_T01\\_01\\_TD01 & PD20132c\\\\\n",
       "\\end{tabular}\n"
      ],
      "text/markdown": [
       "\n",
       "A data.frame: 6 × 2\n",
       "\n",
       "| experiment &lt;fct&gt; | pd &lt;fct&gt; |\n",
       "|---|---|\n",
       "| IID_H153902_T01_01_TD01 | PD20336a |\n",
       "| IID_H154939_T01_01_TD01 | PD20327a |\n",
       "| IID_H154967_T01_01_TD01 | PD20266a |\n",
       "| IID_H153984_T01_01_TD01 | PD15169a |\n",
       "| IID_H155040_T01_01_TD01 | PD15056a |\n",
       "| IID_H155056_T01_01_TD01 | PD20132c |\n",
       "\n"
      ],
      "text/plain": [
       "  experiment              pd      \n",
       "1 IID_H153902_T01_01_TD01 PD20336a\n",
       "2 IID_H154939_T01_01_TD01 PD20327a\n",
       "3 IID_H154967_T01_01_TD01 PD20266a\n",
       "4 IID_H153984_T01_01_TD01 PD15169a\n",
       "5 IID_H155040_T01_01_TD01 PD15056a\n",
       "6 IID_H155056_T01_01_TD01 PD20132c"
      ]
     },
     "metadata": {},
     "output_type": "display_data"
    }
   ],
   "source": [
    "names(pd_x)=c(\"experiment\",\"pd\")\n",
    "head(pd_x)"
   ]
  },
  {
   "cell_type": "code",
   "execution_count": 10,
   "metadata": {},
   "outputs": [],
   "source": [
    "experiments = pd_x$experiment[!pd_x$experiment=='IID_H153998_T01_01_TD01']"
   ]
  },
  {
   "cell_type": "code",
   "execution_count": 11,
   "metadata": {},
   "outputs": [
    {
     "data": {
      "text/html": [
       "197"
      ],
      "text/latex": [
       "197"
      ],
      "text/markdown": [
       "197"
      ],
      "text/plain": [
       "[1] 197"
      ]
     },
     "metadata": {},
     "output_type": "display_data"
    }
   ],
   "source": [
    "length(experiments)"
   ]
  },
  {
   "cell_type": "code",
   "execution_count": 12,
   "metadata": {},
   "outputs": [],
   "source": [
    "##get all cnloh across genome\n",
    "\n",
    "ALL_cnloh=data.frame(V1=\"xx\",V2=-1,V3=-1,V4=-1,V5=-1,V6=-1,V7=-1,stringsAsFactors=FALSE)\n",
    "for (exp in unique(experiments)){\n",
    "    \n",
    "    #muts$VAF_CORRECTED<-muts$VAF\n",
    "    \n",
    "\n",
    "    info = file.info(paste0(\"../data/304/CNACS_results/\",exp,\"_result.txt\"))\n",
    "\n",
    "    if (info$size > 0){\n",
    "        cnloh_index = c()\n",
    "        result<-read.table(paste0(\"../data/304/CNACS_results/\",exp,\"_result.txt\"),header=F)\n",
    "        #print(head(result))\n",
    "        for (gg in 1:nrow(result)){\n",
    "            if (result[gg,\"V6\"]>1.8 & result[gg,\"V6\"]<2.2 & result[gg,\"V7\"]<0.8){\n",
    "            cnloh_index = c(cnloh_index,gg)            \n",
    "            }\n",
    "        }\n",
    "        cnloh = result[c(cnloh_index),]\n",
    "        ALL_cnloh = rbind(ALL_cnloh,cnloh)\n",
    "    }\n",
    "}\n",
    "  "
   ]
  },
  {
   "cell_type": "code",
   "execution_count": 13,
   "metadata": {},
   "outputs": [
    {
     "data": {
      "text/html": [
       "<table>\n",
       "<caption>A data.frame: 2 × 7</caption>\n",
       "<thead>\n",
       "\t<tr><th scope=col>V1</th><th scope=col>V2</th><th scope=col>V3</th><th scope=col>V4</th><th scope=col>V5</th><th scope=col>V6</th><th scope=col>V7</th></tr>\n",
       "\t<tr><th scope=col>&lt;chr&gt;</th><th scope=col>&lt;dbl&gt;</th><th scope=col>&lt;dbl&gt;</th><th scope=col>&lt;dbl&gt;</th><th scope=col>&lt;dbl&gt;</th><th scope=col>&lt;dbl&gt;</th><th scope=col>&lt;dbl&gt;</th></tr>\n",
       "</thead>\n",
       "<tbody>\n",
       "\t<tr><td>xx                     </td><td>-1</td><td>      -1</td><td>       -1</td><td> -1</td><td>-1.000000</td><td>-1.0000000</td></tr>\n",
       "\t<tr><td>IID_H155040_T01_01_TD01</td><td> 1</td><td>43818176</td><td>247098542</td><td>153</td><td> 2.120634</td><td> 0.4958181</td></tr>\n",
       "</tbody>\n",
       "</table>\n"
      ],
      "text/latex": [
       "A data.frame: 2 × 7\n",
       "\\begin{tabular}{r|lllllll}\n",
       " V1 & V2 & V3 & V4 & V5 & V6 & V7\\\\\n",
       " <chr> & <dbl> & <dbl> & <dbl> & <dbl> & <dbl> & <dbl>\\\\\n",
       "\\hline\n",
       "\t xx                      & -1 &       -1 &        -1 &  -1 & -1.000000 & -1.0000000\\\\\n",
       "\t IID\\_H155040\\_T01\\_01\\_TD01 &  1 & 43818176 & 247098542 & 153 &  2.120634 &  0.4958181\\\\\n",
       "\\end{tabular}\n"
      ],
      "text/markdown": [
       "\n",
       "A data.frame: 2 × 7\n",
       "\n",
       "| V1 &lt;chr&gt; | V2 &lt;dbl&gt; | V3 &lt;dbl&gt; | V4 &lt;dbl&gt; | V5 &lt;dbl&gt; | V6 &lt;dbl&gt; | V7 &lt;dbl&gt; |\n",
       "|---|---|---|---|---|---|---|\n",
       "| xx                      | -1 |       -1 |        -1 |  -1 | -1.000000 | -1.0000000 |\n",
       "| IID_H155040_T01_01_TD01 |  1 | 43818176 | 247098542 | 153 |  2.120634 |  0.4958181 |\n",
       "\n"
      ],
      "text/plain": [
       "  V1                      V2 V3       V4        V5  V6        V7        \n",
       "1 xx                      -1       -1        -1  -1 -1.000000 -1.0000000\n",
       "2 IID_H155040_T01_01_TD01  1 43818176 247098542 153  2.120634  0.4958181"
      ]
     },
     "metadata": {},
     "output_type": "display_data"
    }
   ],
   "source": [
    "head(ALL_cnloh,2)"
   ]
  },
  {
   "cell_type": "code",
   "execution_count": 14,
   "metadata": {},
   "outputs": [],
   "source": [
    "ALL_cnloh = ALL_cnloh[-1,]\n",
    "ALL_cnloh$evt = \"cnloh\"\n",
    "names(ALL_cnloh)=c(\"experiment\",\"Chr\",\"Start\",\"End\",\"N\",\"TCN\",\"maf\",\"evt\")\n",
    "#write.csv(ALL_cnloh, file='../data/304/all_cnloh_annotation_toprocess.csv',row.names=FALSE,quote=FALSE)"
   ]
  },
  {
   "cell_type": "code",
   "execution_count": 15,
   "metadata": {},
   "outputs": [],
   "source": [
    "##get all del across genome\n",
    "\n",
    "ALL_del=data.frame(V1=\"xx\",V2=-1,V3=-1,V4=-1,V5=-1,V6=-1,V7=-1,stringsAsFactors=FALSE)\n",
    "for (exp in unique(experiments)){\n",
    "    \n",
    "    #muts$VAF_CORRECTED<-muts$VAF\n",
    "    \n",
    "\n",
    "    info = file.info(paste0(\"../data/304/CNACS_results/\",exp,\"_result.txt\"))\n",
    "\n",
    "    if (info$size > 0){\n",
    "        cnloh_index = c()\n",
    "        result<-read.table(paste0(\"../data/304/CNACS_results/\",exp,\"_result.txt\"),header=F)\n",
    "        #print(head(result))\n",
    "        for (gg in 1:nrow(result)){\n",
    "            #if (is.na(result[gg,\"V6\"])|is.na(result[gg,\"V7\"])){print(result[gg,])}\n",
    "            if (!is.na(result[gg,\"V7\"]) & result[gg,\"V6\"]<1.8 & result[gg,\"V7\"]<0.8 ){\n",
    "            cnloh_index = c(cnloh_index,gg)            \n",
    "            }\n",
    "        }\n",
    "        cnloh = result[c(cnloh_index),]\n",
    "        ALL_del = rbind(ALL_del,cnloh)\n",
    "    }\n",
    "}\n",
    "  "
   ]
  },
  {
   "cell_type": "code",
   "execution_count": 16,
   "metadata": {},
   "outputs": [],
   "source": [
    "ALL_del = ALL_del[-1,]\n",
    "names(ALL_del)=c(\"experiment\",\"Chr\",\"Start\",\"End\",\"N\",\"TCN\",\"maf\")\n",
    "write.csv(ALL_del, file='../data/304/all_del_annotation_toprocess.csv',row.names=FALSE,quote=FALSE)\n",
    "ALL_del$evt = \"del\"\n"
   ]
  },
  {
   "cell_type": "code",
   "execution_count": 17,
   "metadata": {},
   "outputs": [],
   "source": [
    "evts = rbind(ALL_cnloh,ALL_del)\n",
    "evts = evts[order(evts$experiment),]"
   ]
  },
  {
   "cell_type": "code",
   "execution_count": 18,
   "metadata": {},
   "outputs": [
    {
     "data": {
      "text/html": [
       "1121"
      ],
      "text/latex": [
       "1121"
      ],
      "text/markdown": [
       "1121"
      ],
      "text/plain": [
       "[1] 1121"
      ]
     },
     "metadata": {},
     "output_type": "display_data"
    }
   ],
   "source": [
    "nrow(ALL_del)"
   ]
  },
  {
   "cell_type": "code",
   "execution_count": 19,
   "metadata": {},
   "outputs": [],
   "source": [
    "#write.csv(evts, file='../data/304/evts_toprocess.csv',row.names=FALSE,quote=FALSE)"
   ]
  },
  {
   "cell_type": "code",
   "execution_count": 20,
   "metadata": {},
   "outputs": [],
   "source": [
    "annot <-read.csv(\"../data/304/evts_toprocess.csv\",sep=\",\",stringsAsFactors=F)"
   ]
  },
  {
   "cell_type": "code",
   "execution_count": 21,
   "metadata": {},
   "outputs": [
    {
     "data": {
      "text/html": [
       "181"
      ],
      "text/latex": [
       "181"
      ],
      "text/markdown": [
       "181"
      ],
      "text/plain": [
       "[1] 181"
      ]
     },
     "metadata": {},
     "output_type": "display_data"
    }
   ],
   "source": [
    "length(unique(annot$experiment))"
   ]
  },
  {
   "cell_type": "code",
   "execution_count": 22,
   "metadata": {},
   "outputs": [
    {
     "data": {
      "text/html": [
       "<ol class=list-inline>\n",
       "\t<li>'IID_H153902_T01_01_TD01'</li>\n",
       "\t<li>'IID_H154967_T01_01_TD01'</li>\n",
       "\t<li>'IID_H154323_T01_01_TD01'</li>\n",
       "\t<li>'IID_H154366_T01_01_TD01'</li>\n",
       "\t<li>'IID_H154392_T01_01_TD01'</li>\n",
       "\t<li>'IID_H154547_T01_01_TD01'</li>\n",
       "\t<li>'IID_H154600_T01_01_TD01'</li>\n",
       "\t<li>'IID_H154609_T01_01_TD01'</li>\n",
       "\t<li>'IID_H156011_T01_01_TD01'</li>\n",
       "\t<li>'IID_H156091_T01_01_TD01'</li>\n",
       "\t<li>'IID_H154794_T01_01_TD01'</li>\n",
       "\t<li>'IID_H156130_T01_01_TD01'</li>\n",
       "\t<li>'IID_H156215_T01_01_TD01'</li>\n",
       "\t<li>'IID_H154883_T01_01_TD01'</li>\n",
       "\t<li>'IID_H156243_T01_01_TD01'</li>\n",
       "\t<li>'IID_H156262_T01_01_TD01'</li>\n",
       "</ol>\n"
      ],
      "text/latex": [
       "\\begin{enumerate*}\n",
       "\\item 'IID\\_H153902\\_T01\\_01\\_TD01'\n",
       "\\item 'IID\\_H154967\\_T01\\_01\\_TD01'\n",
       "\\item 'IID\\_H154323\\_T01\\_01\\_TD01'\n",
       "\\item 'IID\\_H154366\\_T01\\_01\\_TD01'\n",
       "\\item 'IID\\_H154392\\_T01\\_01\\_TD01'\n",
       "\\item 'IID\\_H154547\\_T01\\_01\\_TD01'\n",
       "\\item 'IID\\_H154600\\_T01\\_01\\_TD01'\n",
       "\\item 'IID\\_H154609\\_T01\\_01\\_TD01'\n",
       "\\item 'IID\\_H156011\\_T01\\_01\\_TD01'\n",
       "\\item 'IID\\_H156091\\_T01\\_01\\_TD01'\n",
       "\\item 'IID\\_H154794\\_T01\\_01\\_TD01'\n",
       "\\item 'IID\\_H156130\\_T01\\_01\\_TD01'\n",
       "\\item 'IID\\_H156215\\_T01\\_01\\_TD01'\n",
       "\\item 'IID\\_H154883\\_T01\\_01\\_TD01'\n",
       "\\item 'IID\\_H156243\\_T01\\_01\\_TD01'\n",
       "\\item 'IID\\_H156262\\_T01\\_01\\_TD01'\n",
       "\\end{enumerate*}\n"
      ],
      "text/markdown": [
       "1. 'IID_H153902_T01_01_TD01'\n",
       "2. 'IID_H154967_T01_01_TD01'\n",
       "3. 'IID_H154323_T01_01_TD01'\n",
       "4. 'IID_H154366_T01_01_TD01'\n",
       "5. 'IID_H154392_T01_01_TD01'\n",
       "6. 'IID_H154547_T01_01_TD01'\n",
       "7. 'IID_H154600_T01_01_TD01'\n",
       "8. 'IID_H154609_T01_01_TD01'\n",
       "9. 'IID_H156011_T01_01_TD01'\n",
       "10. 'IID_H156091_T01_01_TD01'\n",
       "11. 'IID_H154794_T01_01_TD01'\n",
       "12. 'IID_H156130_T01_01_TD01'\n",
       "13. 'IID_H156215_T01_01_TD01'\n",
       "14. 'IID_H154883_T01_01_TD01'\n",
       "15. 'IID_H156243_T01_01_TD01'\n",
       "16. 'IID_H156262_T01_01_TD01'\n",
       "\n",
       "\n"
      ],
      "text/plain": [
       " [1] \"IID_H153902_T01_01_TD01\" \"IID_H154967_T01_01_TD01\"\n",
       " [3] \"IID_H154323_T01_01_TD01\" \"IID_H154366_T01_01_TD01\"\n",
       " [5] \"IID_H154392_T01_01_TD01\" \"IID_H154547_T01_01_TD01\"\n",
       " [7] \"IID_H154600_T01_01_TD01\" \"IID_H154609_T01_01_TD01\"\n",
       " [9] \"IID_H156011_T01_01_TD01\" \"IID_H156091_T01_01_TD01\"\n",
       "[11] \"IID_H154794_T01_01_TD01\" \"IID_H156130_T01_01_TD01\"\n",
       "[13] \"IID_H156215_T01_01_TD01\" \"IID_H154883_T01_01_TD01\"\n",
       "[15] \"IID_H156243_T01_01_TD01\" \"IID_H156262_T01_01_TD01\""
      ]
     },
     "metadata": {},
     "output_type": "display_data"
    }
   ],
   "source": [
    "setdiff(experiments,(unique(annot$experiment)))"
   ]
  },
  {
   "cell_type": "code",
   "execution_count": 23,
   "metadata": {},
   "outputs": [
    {
     "data": {
      "text/html": [
       "<table>\n",
       "<caption>A data.frame: 6 × 10</caption>\n",
       "<thead>\n",
       "\t<tr><th scope=col>experiment</th><th scope=col>Chr</th><th scope=col>Start</th><th scope=col>End</th><th scope=col>N</th><th scope=col>TCN</th><th scope=col>maf</th><th scope=col>evt</th><th scope=col>annot</th><th scope=col>name</th></tr>\n",
       "\t<tr><th scope=col>&lt;chr&gt;</th><th scope=col>&lt;chr&gt;</th><th scope=col>&lt;int&gt;</th><th scope=col>&lt;int&gt;</th><th scope=col>&lt;int&gt;</th><th scope=col>&lt;dbl&gt;</th><th scope=col>&lt;dbl&gt;</th><th scope=col>&lt;chr&gt;</th><th scope=col>&lt;chr&gt;</th><th scope=col>&lt;chr&gt;</th></tr>\n",
       "</thead>\n",
       "<tbody>\n",
       "\t<tr><td>IID_H153984_T01_01_TD01</td><td>5 </td><td>131819584</td><td>131825027</td><td> 8</td><td>0.8702739</td><td>0.7778322</td><td>del  </td><td>no          </td><td>             </td></tr>\n",
       "\t<tr><td>IID_H153984_T01_01_TD01</td><td>18</td><td> 51744825</td><td> 75849539</td><td> 8</td><td>1.4938966</td><td>0.3775424</td><td>del  </td><td>double-check</td><td>             </td></tr>\n",
       "\t<tr><td>IID_H154001_T01_01_TD01</td><td>17</td><td> 28380565</td><td> 43430606</td><td>88</td><td>2.0871349</td><td>0.2515790</td><td>cnloh</td><td>no          </td><td>             </td></tr>\n",
       "\t<tr><td>IID_H154001_T01_01_TD01</td><td>22</td><td> 17666347</td><td> 49984877</td><td>99</td><td>1.8158923</td><td>0.2202300</td><td>cnloh</td><td>no          </td><td>             </td></tr>\n",
       "\t<tr><td>IID_H154001_T01_01_TD01</td><td>1 </td><td>190195210</td><td>247098542</td><td>24</td><td>1.2962750</td><td>0.3953769</td><td>del  </td><td>ok          </td><td>del_1q       </td></tr>\n",
       "\t<tr><td>IID_H154001_T01_01_TD01</td><td>5 </td><td>    38049</td><td>179648899</td><td>89</td><td>1.0533228</td><td>0.1791888</td><td>del  </td><td>ok          </td><td>del_5p,del_5q</td></tr>\n",
       "</tbody>\n",
       "</table>\n"
      ],
      "text/latex": [
       "A data.frame: 6 × 10\n",
       "\\begin{tabular}{r|llllllllll}\n",
       " experiment & Chr & Start & End & N & TCN & maf & evt & annot & name\\\\\n",
       " <chr> & <chr> & <int> & <int> & <int> & <dbl> & <dbl> & <chr> & <chr> & <chr>\\\\\n",
       "\\hline\n",
       "\t IID\\_H153984\\_T01\\_01\\_TD01 & 5  & 131819584 & 131825027 &  8 & 0.8702739 & 0.7778322 & del   & no           &              \\\\\n",
       "\t IID\\_H153984\\_T01\\_01\\_TD01 & 18 &  51744825 &  75849539 &  8 & 1.4938966 & 0.3775424 & del   & double-check &              \\\\\n",
       "\t IID\\_H154001\\_T01\\_01\\_TD01 & 17 &  28380565 &  43430606 & 88 & 2.0871349 & 0.2515790 & cnloh & no           &              \\\\\n",
       "\t IID\\_H154001\\_T01\\_01\\_TD01 & 22 &  17666347 &  49984877 & 99 & 1.8158923 & 0.2202300 & cnloh & no           &              \\\\\n",
       "\t IID\\_H154001\\_T01\\_01\\_TD01 & 1  & 190195210 & 247098542 & 24 & 1.2962750 & 0.3953769 & del   & ok           & del\\_1q       \\\\\n",
       "\t IID\\_H154001\\_T01\\_01\\_TD01 & 5  &     38049 & 179648899 & 89 & 1.0533228 & 0.1791888 & del   & ok           & del\\_5p,del\\_5q\\\\\n",
       "\\end{tabular}\n"
      ],
      "text/markdown": [
       "\n",
       "A data.frame: 6 × 10\n",
       "\n",
       "| experiment &lt;chr&gt; | Chr &lt;chr&gt; | Start &lt;int&gt; | End &lt;int&gt; | N &lt;int&gt; | TCN &lt;dbl&gt; | maf &lt;dbl&gt; | evt &lt;chr&gt; | annot &lt;chr&gt; | name &lt;chr&gt; |\n",
       "|---|---|---|---|---|---|---|---|---|---|\n",
       "| IID_H153984_T01_01_TD01 | 5  | 131819584 | 131825027 |  8 | 0.8702739 | 0.7778322 | del   | no           | <!----> |\n",
       "| IID_H153984_T01_01_TD01 | 18 |  51744825 |  75849539 |  8 | 1.4938966 | 0.3775424 | del   | double-check | <!----> |\n",
       "| IID_H154001_T01_01_TD01 | 17 |  28380565 |  43430606 | 88 | 2.0871349 | 0.2515790 | cnloh | no           | <!----> |\n",
       "| IID_H154001_T01_01_TD01 | 22 |  17666347 |  49984877 | 99 | 1.8158923 | 0.2202300 | cnloh | no           | <!----> |\n",
       "| IID_H154001_T01_01_TD01 | 1  | 190195210 | 247098542 | 24 | 1.2962750 | 0.3953769 | del   | ok           | del_1q        |\n",
       "| IID_H154001_T01_01_TD01 | 5  |     38049 | 179648899 | 89 | 1.0533228 | 0.1791888 | del   | ok           | del_5p,del_5q |\n",
       "\n"
      ],
      "text/plain": [
       "  experiment              Chr Start     End       N  TCN       maf       evt  \n",
       "1 IID_H153984_T01_01_TD01 5   131819584 131825027  8 0.8702739 0.7778322 del  \n",
       "2 IID_H153984_T01_01_TD01 18   51744825  75849539  8 1.4938966 0.3775424 del  \n",
       "3 IID_H154001_T01_01_TD01 17   28380565  43430606 88 2.0871349 0.2515790 cnloh\n",
       "4 IID_H154001_T01_01_TD01 22   17666347  49984877 99 1.8158923 0.2202300 cnloh\n",
       "5 IID_H154001_T01_01_TD01 1   190195210 247098542 24 1.2962750 0.3953769 del  \n",
       "6 IID_H154001_T01_01_TD01 5       38049 179648899 89 1.0533228 0.1791888 del  \n",
       "  annot        name         \n",
       "1 no                        \n",
       "2 double-check              \n",
       "3 no                        \n",
       "4 no                        \n",
       "5 ok           del_1q       \n",
       "6 ok           del_5p,del_5q"
      ]
     },
     "metadata": {},
     "output_type": "display_data"
    }
   ],
   "source": [
    "head(annot)"
   ]
  },
  {
   "cell_type": "code",
   "execution_count": 24,
   "metadata": {},
   "outputs": [],
   "source": [
    "arms <-read.csv(\"../data/304/arm_sizes.csv\",sep=\",\",stringsAsFactors=F)"
   ]
  },
  {
   "cell_type": "code",
   "execution_count": 25,
   "metadata": {},
   "outputs": [],
   "source": [
    "arms[arms$chr=='X','chr']='23'"
   ]
  },
  {
   "cell_type": "code",
   "execution_count": 26,
   "metadata": {},
   "outputs": [],
   "source": [
    "annot$name=NA\n",
    "annot$comment=NA"
   ]
  },
  {
   "cell_type": "code",
   "execution_count": 27,
   "metadata": {},
   "outputs": [],
   "source": [
    "\n",
    "for (i in 1:nrow(annot)){\n",
    "    if (!annot[i,'evt']=='byhand'){\n",
    "        sub = subset(arms, arms$chr == annot[i,'Chr'])\n",
    "        length = annot[i,'End'] - annot[i,'Start']\n",
    "        length_p = sub[sub$arm == \"p\",'end'] - sub[sub$arm == 'p','start']\n",
    "        length_q = sub[sub$arm == \"q\",'end'] - sub[sub$arm == 'q','start']\n",
    "        tot_length = length_p + length_q\n",
    "        #print(annot[i,])\n",
    "        if (annot[i,'End']<sub[sub$arm=='q','start']){\n",
    "            annot[i,'name']=paste0(annot[i,'evt'],'_',annot[i,'Chr'],'p')\n",
    "            if (length < 0.1*length_p){\n",
    "                annot[i,'comment'] = 'focal'\n",
    "            }\n",
    "            else if (length > 0.6*length_p){\n",
    "                annot[i,'comment'] = 'large'\n",
    "            }           \n",
    "        }\n",
    "        else if (annot[i,'Start']>sub[sub$arm=='p','end']){\n",
    "            annot[i,'name']=paste0(annot[i,'evt'],'_',annot[i,'Chr'],'q')\n",
    "            if (length < 0.1*length_q){\n",
    "                annot[i,'comment'] = 'focal'\n",
    "            }\n",
    "            else if (length > 0.6*length_q){\n",
    "                annot[i,'comment'] = 'large'\n",
    "            }             \n",
    "        }\n",
    "        else if (annot[i,'Start']<sub[sub$arm=='p','end'] & annot[i,'End']>sub[sub$arm=='q','start']){\n",
    "            annot[i,'name']=paste0(annot[i,'evt'],'_',annot[i,'Chr'],'p',';',annot[i,'evt'],'_',annot[i,'Chr'],'q')\n",
    "            if (length < 0.1*tot_length){\n",
    "                annot[i,'comment'] = 'focal'\n",
    "            }\n",
    "            else if (length > 0.6*tot_length){\n",
    "                annot[i,'comment'] = 'large'\n",
    "            }             \n",
    "        }\n",
    "    }\n",
    "}"
   ]
  },
  {
   "cell_type": "code",
   "execution_count": 28,
   "metadata": {},
   "outputs": [
    {
     "data": {
      "text/html": [
       "<table>\n",
       "<caption>A data.frame: 6 × 11</caption>\n",
       "<thead>\n",
       "\t<tr><th></th><th scope=col>experiment</th><th scope=col>Chr</th><th scope=col>Start</th><th scope=col>End</th><th scope=col>N</th><th scope=col>TCN</th><th scope=col>maf</th><th scope=col>evt</th><th scope=col>annot</th><th scope=col>name</th><th scope=col>comment</th></tr>\n",
       "\t<tr><th></th><th scope=col>&lt;chr&gt;</th><th scope=col>&lt;chr&gt;</th><th scope=col>&lt;int&gt;</th><th scope=col>&lt;int&gt;</th><th scope=col>&lt;int&gt;</th><th scope=col>&lt;dbl&gt;</th><th scope=col>&lt;dbl&gt;</th><th scope=col>&lt;chr&gt;</th><th scope=col>&lt;chr&gt;</th><th scope=col>&lt;chr&gt;</th><th scope=col>&lt;chr&gt;</th></tr>\n",
       "</thead>\n",
       "<tbody>\n",
       "\t<tr><th scope=row>5</th><td>IID_H154001_T01_01_TD01</td><td>1 </td><td>190195210</td><td>247098542</td><td> 24</td><td>1.2962750</td><td>0.3953769</td><td>del</td><td>ok</td><td>del_1q       </td><td>NA   </td></tr>\n",
       "\t<tr><th scope=row>6</th><td>IID_H154001_T01_01_TD01</td><td>5 </td><td>    38049</td><td>179648899</td><td> 89</td><td>1.0533228</td><td>0.1791888</td><td>del</td><td>ok</td><td>del_5p;del_5q</td><td>large</td></tr>\n",
       "\t<tr><th scope=row>7</th><td>IID_H154001_T01_01_TD01</td><td>7 </td><td>    46149</td><td>101870638</td><td>129</td><td>1.1619699</td><td>0.1893149</td><td>del</td><td>ok</td><td>del_7p;del_7q</td><td>large</td></tr>\n",
       "\t<tr><th scope=row>8</th><td>IID_H154001_T01_01_TD01</td><td>7 </td><td>101873206</td><td>103190268</td><td> 23</td><td>0.5092767</td><td>0.2862653</td><td>del</td><td>ok</td><td>del_7q       </td><td>focal</td></tr>\n",
       "\t<tr><th scope=row>9</th><td>IID_H154001_T01_01_TD01</td><td>7 </td><td>104681354</td><td>157560673</td><td>167</td><td>1.1804649</td><td>0.1744523</td><td>del</td><td>ok</td><td>del_7q       </td><td>NA   </td></tr>\n",
       "\t<tr><th scope=row>16</th><td>IID_H154001_T01_01_TD01</td><td>13</td><td> 32478354</td><td> 56509726</td><td> 95</td><td>1.2422850</td><td>0.2611616</td><td>del</td><td>ok</td><td>del_13q      </td><td>NA   </td></tr>\n",
       "</tbody>\n",
       "</table>\n"
      ],
      "text/latex": [
       "A data.frame: 6 × 11\n",
       "\\begin{tabular}{r|lllllllllll}\n",
       "  & experiment & Chr & Start & End & N & TCN & maf & evt & annot & name & comment\\\\\n",
       "  & <chr> & <chr> & <int> & <int> & <int> & <dbl> & <dbl> & <chr> & <chr> & <chr> & <chr>\\\\\n",
       "\\hline\n",
       "\t5 & IID\\_H154001\\_T01\\_01\\_TD01 & 1  & 190195210 & 247098542 &  24 & 1.2962750 & 0.3953769 & del & ok & del\\_1q        & NA   \\\\\n",
       "\t6 & IID\\_H154001\\_T01\\_01\\_TD01 & 5  &     38049 & 179648899 &  89 & 1.0533228 & 0.1791888 & del & ok & del\\_5p;del\\_5q & large\\\\\n",
       "\t7 & IID\\_H154001\\_T01\\_01\\_TD01 & 7  &     46149 & 101870638 & 129 & 1.1619699 & 0.1893149 & del & ok & del\\_7p;del\\_7q & large\\\\\n",
       "\t8 & IID\\_H154001\\_T01\\_01\\_TD01 & 7  & 101873206 & 103190268 &  23 & 0.5092767 & 0.2862653 & del & ok & del\\_7q        & focal\\\\\n",
       "\t9 & IID\\_H154001\\_T01\\_01\\_TD01 & 7  & 104681354 & 157560673 & 167 & 1.1804649 & 0.1744523 & del & ok & del\\_7q        & NA   \\\\\n",
       "\t16 & IID\\_H154001\\_T01\\_01\\_TD01 & 13 &  32478354 &  56509726 &  95 & 1.2422850 & 0.2611616 & del & ok & del\\_13q       & NA   \\\\\n",
       "\\end{tabular}\n"
      ],
      "text/markdown": [
       "\n",
       "A data.frame: 6 × 11\n",
       "\n",
       "| <!--/--> | experiment &lt;chr&gt; | Chr &lt;chr&gt; | Start &lt;int&gt; | End &lt;int&gt; | N &lt;int&gt; | TCN &lt;dbl&gt; | maf &lt;dbl&gt; | evt &lt;chr&gt; | annot &lt;chr&gt; | name &lt;chr&gt; | comment &lt;chr&gt; |\n",
       "|---|---|---|---|---|---|---|---|---|---|---|---|\n",
       "| 5 | IID_H154001_T01_01_TD01 | 1  | 190195210 | 247098542 |  24 | 1.2962750 | 0.3953769 | del | ok | del_1q        | NA    |\n",
       "| 6 | IID_H154001_T01_01_TD01 | 5  |     38049 | 179648899 |  89 | 1.0533228 | 0.1791888 | del | ok | del_5p;del_5q | large |\n",
       "| 7 | IID_H154001_T01_01_TD01 | 7  |     46149 | 101870638 | 129 | 1.1619699 | 0.1893149 | del | ok | del_7p;del_7q | large |\n",
       "| 8 | IID_H154001_T01_01_TD01 | 7  | 101873206 | 103190268 |  23 | 0.5092767 | 0.2862653 | del | ok | del_7q        | focal |\n",
       "| 9 | IID_H154001_T01_01_TD01 | 7  | 104681354 | 157560673 | 167 | 1.1804649 | 0.1744523 | del | ok | del_7q        | NA    |\n",
       "| 16 | IID_H154001_T01_01_TD01 | 13 |  32478354 |  56509726 |  95 | 1.2422850 | 0.2611616 | del | ok | del_13q       | NA    |\n",
       "\n"
      ],
      "text/plain": [
       "   experiment              Chr Start     End       N   TCN       maf       evt\n",
       "5  IID_H154001_T01_01_TD01 1   190195210 247098542  24 1.2962750 0.3953769 del\n",
       "6  IID_H154001_T01_01_TD01 5       38049 179648899  89 1.0533228 0.1791888 del\n",
       "7  IID_H154001_T01_01_TD01 7       46149 101870638 129 1.1619699 0.1893149 del\n",
       "8  IID_H154001_T01_01_TD01 7   101873206 103190268  23 0.5092767 0.2862653 del\n",
       "9  IID_H154001_T01_01_TD01 7   104681354 157560673 167 1.1804649 0.1744523 del\n",
       "16 IID_H154001_T01_01_TD01 13   32478354  56509726  95 1.2422850 0.2611616 del\n",
       "   annot name          comment\n",
       "5  ok    del_1q        NA     \n",
       "6  ok    del_5p;del_5q large  \n",
       "7  ok    del_7p;del_7q large  \n",
       "8  ok    del_7q        focal  \n",
       "9  ok    del_7q        NA     \n",
       "16 ok    del_13q       NA     "
      ]
     },
     "metadata": {},
     "output_type": "display_data"
    }
   ],
   "source": [
    "head(annot[annot$annot==\"ok\",])"
   ]
  },
  {
   "cell_type": "code",
   "execution_count": 29,
   "metadata": {},
   "outputs": [],
   "source": [
    "sure = annot[annot$annot==\"ok\",]"
   ]
  },
  {
   "cell_type": "code",
   "execution_count": 30,
   "metadata": {},
   "outputs": [],
   "source": [
    "#write.csv(annot, file='../data/304/processed_evts_lastversion.csv',row.names=FALSE,quote=FALSE)"
   ]
  },
  {
   "cell_type": "code",
   "execution_count": 31,
   "metadata": {},
   "outputs": [],
   "source": [
    "del17 = grep('del_17p',sure$name)"
   ]
  },
  {
   "cell_type": "code",
   "execution_count": 32,
   "metadata": {},
   "outputs": [
    {
     "name": "stdout",
     "output_type": "stream",
     "text": [
      "[1] FALSE\n",
      "  [1] \"NA\"       \"PD14865a\" \"PD14872a\" \"PD14885a\" \"PD14899a\" \"PD14913c\"\n",
      "  [7] \"PD14920a\" \"PD14924a\" \"PD14935a\" \"PD14939c\" \"PD14952a\" \"PD14964a\"\n",
      " [13] \"PD14977c\" \"PD15010c\" \"PD15024c\" \"PD15027a\" \"PD15036c\" \"PD15037a\"\n",
      " [19] \"PD15056a\" \"PD15056c\" \"PD15060a\" \"PD15086a\" \"PD15100c\" \"PD15102a\"\n",
      " [25] \"PD15115c\" \"PD15136c\" \"PD15156a\" \"PD15163a\" \"PD15165a\" \"PD15169a\"\n",
      " [31] \"PD15174a\" \"PD15181a\" \"PD15194c\" \"PD15207a\" \"PD15209a\" \"PD15217a\"\n",
      " [37] \"PD15235a\" \"PD15244a\" \"PD15246a\" \"PD15259a\" \"PD15288a\" \"PD15297a\"\n",
      " [43] \"PD15303a\" \"PD15306c\" \"PD15312c\" \"PD15313a\" \"PD15322a\" \"PD15329a\"\n",
      " [49] \"PD15334a\" \"PD15336a\" \"PD15385a\" \"PD15415c\" \"PD15417a\" \"PD15438a\"\n",
      " [55] \"PD15460a\" \"PD15463c\" \"PD15481a\" \"PD15497a\" \"PD15500a\" \"PD15505a\"\n",
      " [61] \"PD15523a\" \"PD19640a\" \"PD19647a\" \"PD19667a\" \"PD19672c\" \"PD19673a\"\n",
      " [67] \"PD19687c\" \"PD19711a\" \"PD19773c\" \"PD19779a\" \"PD19780c\" \"PD19832c\"\n",
      " [73] \"PD19837c\" \"PD19882a\" \"PD20047a\" \"PD20067a\" \"PD20077a\" \"PD20079a\"\n",
      " [79] \"PD20114a\" \"PD20132c\" \"PD20266a\" \"PD20327a\" \"PD20336a\" \"PD22541c\"\n",
      " [85] \"PD22625c\" \"PD22713a\" \"PD22714a\" \"PD22786a\" \"PD22805c\" \"PD22806c\"\n",
      " [91] \"PD22838c\" \"PD22845c\" \"PD22850a\" \"PD22857c\" \"PD22899a\" \"PD22920c\"\n",
      " [97] \"PD22922a\" \"PD22930a\" \"PD22935a\" \"PD22946c\" \"PD22949c\" \"PD22964a\"\n",
      "[103] \"PD22965c\" \"PD22966c\" \"PD23007c\" \"PD23013a\" \"PD23053a\" \"PD23071c\"\n",
      "[109] \"PD23074c\" \"PD23076c\" \"PD23081a\" \"PD23098c\" \"PD23108c\" \"PD23109a\"\n",
      "[115] \"PD23111c\" \"PD23112c\" \"PD23130c\" \"PD23133c\" \"PD23138a\" \"PD23153a\"\n",
      "[121] \"PD23185a\" \"PD23186a\" \"PD23258a\" \"PD23259c\" \"PD23260c\" \"PD23276a\"\n",
      "[127] \"PD23287a\" \"PD23293a\" \"PD23295a\" \"PD25038a\" \"PD25039c\" \"PD25045a\"\n",
      "[133] \"PD25048a\" \"PD25062c\" \"PD25071a\" \"PD25087c\" \"PD25098c\" \"PD25107a\"\n",
      "[139] \"PD25116c\" \"PD25125c\" \"PD25143a\" \"PD25145c\" \"PD25148c\" \"PD25171c\"\n",
      "[145] \"PD25184a\" \"PD25199a\" \"PD25201a\" \"PD25210c\" \"PD25218c\" \"PD25220a\"\n",
      "[151] \"PD25242a\" \"PD25252a\" \"PD25255a\" \"PD25282c\" \"PD25291c\" \"PD25294c\"\n",
      "[157] \"PD25304a\" \"PD25332a\" \"PD25343a\" \"PD25354a\" \"PD25361c\" \"PD25370c\"\n",
      "[163] \"PD25412c\" \"PD25418a\" \"PD25420a\" \"PD25445a\" \"PD25448a\" \"PD25455c\"\n",
      "[169] \"PD25459c\" \"PD25466a\" \"PD25468c\" \"PD25473c\" \"PD25475c\" \"PD25484c\"\n",
      "[175] \"PD25486a\" \"PD25492c\" \"PD25501a\" \"PD25504c\" \"PD25506a\" \"PD25526a\"\n",
      "[181] \"PD25540a\" \"PD25544a\" \"PD25548a\" \"PD25557a\" \"PD25558a\" \"PD25564c\"\n",
      "[187] \"PD25566a\" \"PD25573a\" \"PD25575c\" \"PD25578c\" \"PD25581c\" \"PD25591a\"\n",
      "[193] \"PD25600a\" \"PD25617a\" \"PD25619a\" \"PD25624c\" \"PD25625a\" \"PD25627a\"\n",
      "[199] \"PD25629c\"\n"
     ]
    }
   ],
   "source": [
    "m = sure[del17,]\n",
    "m = label_dat_fromcol(m,pd_x,'pd',by=\"experiment\")"
   ]
  },
  {
   "cell_type": "code",
   "execution_count": 33,
   "metadata": {},
   "outputs": [
    {
     "data": {
      "text/html": [
       "<table>\n",
       "<caption>A data.frame: 6 × 12</caption>\n",
       "<thead>\n",
       "\t<tr><th></th><th scope=col>experiment</th><th scope=col>Chr</th><th scope=col>Start</th><th scope=col>End</th><th scope=col>N</th><th scope=col>TCN</th><th scope=col>maf</th><th scope=col>evt</th><th scope=col>annot</th><th scope=col>name</th><th scope=col>comment</th><th scope=col>pd</th></tr>\n",
       "\t<tr><th></th><th scope=col>&lt;chr&gt;</th><th scope=col>&lt;chr&gt;</th><th scope=col>&lt;int&gt;</th><th scope=col>&lt;int&gt;</th><th scope=col>&lt;int&gt;</th><th scope=col>&lt;dbl&gt;</th><th scope=col>&lt;dbl&gt;</th><th scope=col>&lt;chr&gt;</th><th scope=col>&lt;chr&gt;</th><th scope=col>&lt;chr&gt;</th><th scope=col>&lt;chr&gt;</th><th scope=col>&lt;fct&gt;</th></tr>\n",
       "</thead>\n",
       "<tbody>\n",
       "\t<tr><th scope=row>58</th><td>IID_H154100_T01_01_TD01</td><td>17</td><td>  18811</td><td> 7576809</td><td> 46</td><td>0.9174908</td><td>0.1146790</td><td>del</td><td>ok</td><td>del_17p        </td><td>NA   </td><td>PD15417a</td></tr>\n",
       "\t<tr><th scope=row>59</th><td>IID_H154100_T01_01_TD01</td><td>17</td><td>9026000</td><td>29579907</td><td> 32</td><td>0.9518727</td><td>0.1118016</td><td>del</td><td>ok</td><td>del_17p;del_17q</td><td>NA   </td><td>PD15417a</td></tr>\n",
       "\t<tr><th scope=row>81</th><td>IID_H154114_T01_01_TD01</td><td>17</td><td>  18811</td><td>38497825</td><td>127</td><td>1.5354444</td><td>0.3005758</td><td>del</td><td>ok</td><td>del_17p;del_17q</td><td>NA   </td><td>PD15217a</td></tr>\n",
       "\t<tr><th scope=row>154</th><td>IID_H154151_T01_01_TD01</td><td>17</td><td>  18811</td><td> 7576809</td><td> 46</td><td>1.4431096</td><td>0.5483515</td><td>del</td><td>ok</td><td>del_17p        </td><td>NA   </td><td>PD15246a</td></tr>\n",
       "\t<tr><th scope=row>164</th><td>IID_H154153_T01_01_TD01</td><td>17</td><td>1578870</td><td> 1580228</td><td>  5</td><td>1.3363103</td><td>0.1738733</td><td>del</td><td>ok</td><td>del_17p        </td><td>focal</td><td>PD15163a</td></tr>\n",
       "\t<tr><th scope=row>165</th><td>IID_H154153_T01_01_TD01</td><td>17</td><td>9026000</td><td>28380565</td><td>  5</td><td>0.9757626</td><td>0.2601255</td><td>del</td><td>ok</td><td>del_17p;del_17q</td><td>NA   </td><td>PD15163a</td></tr>\n",
       "</tbody>\n",
       "</table>\n"
      ],
      "text/latex": [
       "A data.frame: 6 × 12\n",
       "\\begin{tabular}{r|llllllllllll}\n",
       "  & experiment & Chr & Start & End & N & TCN & maf & evt & annot & name & comment & pd\\\\\n",
       "  & <chr> & <chr> & <int> & <int> & <int> & <dbl> & <dbl> & <chr> & <chr> & <chr> & <chr> & <fct>\\\\\n",
       "\\hline\n",
       "\t58 & IID\\_H154100\\_T01\\_01\\_TD01 & 17 &   18811 &  7576809 &  46 & 0.9174908 & 0.1146790 & del & ok & del\\_17p         & NA    & PD15417a\\\\\n",
       "\t59 & IID\\_H154100\\_T01\\_01\\_TD01 & 17 & 9026000 & 29579907 &  32 & 0.9518727 & 0.1118016 & del & ok & del\\_17p;del\\_17q & NA    & PD15417a\\\\\n",
       "\t81 & IID\\_H154114\\_T01\\_01\\_TD01 & 17 &   18811 & 38497825 & 127 & 1.5354444 & 0.3005758 & del & ok & del\\_17p;del\\_17q & NA    & PD15217a\\\\\n",
       "\t154 & IID\\_H154151\\_T01\\_01\\_TD01 & 17 &   18811 &  7576809 &  46 & 1.4431096 & 0.5483515 & del & ok & del\\_17p         & NA    & PD15246a\\\\\n",
       "\t164 & IID\\_H154153\\_T01\\_01\\_TD01 & 17 & 1578870 &  1580228 &   5 & 1.3363103 & 0.1738733 & del & ok & del\\_17p         & focal & PD15163a\\\\\n",
       "\t165 & IID\\_H154153\\_T01\\_01\\_TD01 & 17 & 9026000 & 28380565 &   5 & 0.9757626 & 0.2601255 & del & ok & del\\_17p;del\\_17q & NA    & PD15163a\\\\\n",
       "\\end{tabular}\n"
      ],
      "text/markdown": [
       "\n",
       "A data.frame: 6 × 12\n",
       "\n",
       "| <!--/--> | experiment &lt;chr&gt; | Chr &lt;chr&gt; | Start &lt;int&gt; | End &lt;int&gt; | N &lt;int&gt; | TCN &lt;dbl&gt; | maf &lt;dbl&gt; | evt &lt;chr&gt; | annot &lt;chr&gt; | name &lt;chr&gt; | comment &lt;chr&gt; | pd &lt;fct&gt; |\n",
       "|---|---|---|---|---|---|---|---|---|---|---|---|---|\n",
       "| 58 | IID_H154100_T01_01_TD01 | 17 |   18811 |  7576809 |  46 | 0.9174908 | 0.1146790 | del | ok | del_17p         | NA    | PD15417a |\n",
       "| 59 | IID_H154100_T01_01_TD01 | 17 | 9026000 | 29579907 |  32 | 0.9518727 | 0.1118016 | del | ok | del_17p;del_17q | NA    | PD15417a |\n",
       "| 81 | IID_H154114_T01_01_TD01 | 17 |   18811 | 38497825 | 127 | 1.5354444 | 0.3005758 | del | ok | del_17p;del_17q | NA    | PD15217a |\n",
       "| 154 | IID_H154151_T01_01_TD01 | 17 |   18811 |  7576809 |  46 | 1.4431096 | 0.5483515 | del | ok | del_17p         | NA    | PD15246a |\n",
       "| 164 | IID_H154153_T01_01_TD01 | 17 | 1578870 |  1580228 |   5 | 1.3363103 | 0.1738733 | del | ok | del_17p         | focal | PD15163a |\n",
       "| 165 | IID_H154153_T01_01_TD01 | 17 | 9026000 | 28380565 |   5 | 0.9757626 | 0.2601255 | del | ok | del_17p;del_17q | NA    | PD15163a |\n",
       "\n"
      ],
      "text/plain": [
       "    experiment              Chr Start   End      N   TCN       maf       evt\n",
       "58  IID_H154100_T01_01_TD01 17    18811  7576809  46 0.9174908 0.1146790 del\n",
       "59  IID_H154100_T01_01_TD01 17  9026000 29579907  32 0.9518727 0.1118016 del\n",
       "81  IID_H154114_T01_01_TD01 17    18811 38497825 127 1.5354444 0.3005758 del\n",
       "154 IID_H154151_T01_01_TD01 17    18811  7576809  46 1.4431096 0.5483515 del\n",
       "164 IID_H154153_T01_01_TD01 17  1578870  1580228   5 1.3363103 0.1738733 del\n",
       "165 IID_H154153_T01_01_TD01 17  9026000 28380565   5 0.9757626 0.2601255 del\n",
       "    annot name            comment pd      \n",
       "58  ok    del_17p         NA      PD15417a\n",
       "59  ok    del_17p;del_17q NA      PD15417a\n",
       "81  ok    del_17p;del_17q NA      PD15217a\n",
       "154 ok    del_17p         NA      PD15246a\n",
       "164 ok    del_17p         focal   PD15163a\n",
       "165 ok    del_17p;del_17q NA      PD15163a"
      ]
     },
     "metadata": {},
     "output_type": "display_data"
    }
   ],
   "source": [
    "head(m)"
   ]
  },
  {
   "cell_type": "code",
   "execution_count": 34,
   "metadata": {},
   "outputs": [
    {
     "data": {
      "text/html": [
       "<table>\n",
       "<caption>A data.frame: 6 × 522</caption>\n",
       "<thead>\n",
       "\t<tr><th scope=col>X</th><th scope=col>donor_id</th><th scope=col>data_pd</th><th scope=col>sample_pd.x</th><th scope=col>ASXL1</th><th scope=col>ASXL2</th><th scope=col>ASXL3</th><th scope=col>ATRX</th><th scope=col>BAGE3</th><th scope=col>BCOR</th><th scope=col>BRAF</th><th scope=col>CBFB</th><th scope=col>CBL</th><th scope=col>CDKN2A</th><th scope=col>CEBPA_bi</th><th scope=col>CEBPA_mono</th><th scope=col>CNTN5</th><th scope=col>CREBBP</th><th scope=col>CSF1R</th><th scope=col>CSF3R</th><th scope=col>CTCF</th><th scope=col>CUL2</th><th scope=col>CUX1</th><th scope=col>DNMT3A</th><th scope=col>EED</th><th scope=col>ETV6</th><th scope=col>EZH2</th><th scope=col>FBXW7</th><th scope=col>FLT3_ITD</th><th scope=col>FLT3_TKD</th><th scope=col>FLT3_other</th><th scope=col>GATA1</th><th scope=col>GATA2</th><th scope=col>GNAS</th><th scope=col>GNB1</th><th scope=col>IDH1</th><th scope=col>IDH2_p.R140</th><th scope=col>IDH2_p.R172</th><th scope=col>JAK2</th><th scope=col>JAK3</th><th scope=col>KANSL1</th><th scope=col>KDM6A</th><th scope=col>KIT</th><th scope=col>KMT2C</th><th scope=col>KMT2D</th><th scope=col>KMT2E</th><th scope=col>KRAS</th><th scope=col>LUC7L2</th><th scope=col>MED12</th><th scope=col>MLL</th><th scope=col>MPL</th><th scope=col>MYC</th><th scope=col>NF1</th><th scope=col>NFE2</th><th scope=col>NOTCH1</th><th scope=col>NPM1</th><th scope=col>NRAS_other</th><th scope=col>NRAS_p.G12_13</th><th scope=col>NRAS_p.Q61_62</th><th scope=col>PDS5B</th><th scope=col>PHF6</th><th scope=col>PPFIA2</th><th scope=col>PRPF8</th><th scope=col>PTEN</th><th scope=col>PTPN11</th><th scope=col>PTPRF</th><th scope=col>PTPRT</th><th scope=col>RAD21</th><th scope=col>RIT1</th><th scope=col>RUNX1</th><th scope=col>S100B</th><th scope=col>SETBP1</th><th scope=col>SF1</th><th scope=col>SF3B1</th><th scope=col>SMC1A</th><th scope=col>SMC3</th><th scope=col>SMG1</th><th scope=col>SPP1</th><th scope=col>SRSF2</th><th scope=col>STAG2</th><th scope=col>STAT5B</th><th scope=col>SUZ12</th><th scope=col>TET2</th><th scope=col>TP53</th><th scope=col>U2AF1</th><th scope=col>WT1</th><th scope=col>ZRSR2</th><th scope=col>trial.x</th><th scope=col>date_entry</th><th scope=col>gender</th><th scope=col>age</th><th scope=col>ethnic</th><th scope=col>ahd</th><th scope=col>perf_status</th><th scope=col>secondary</th><th scope=col>wbc</th><th scope=col>hb</th><th scope=col>plt</th><th scope=col>bm_blasts</th><th scope=col>neut</th><th scope=col>intense</th><th scope=col>trtcode</th><th scope=col>acmarr</th><th scope=col>acmcar</th><th scope=col>acmhvd</th><th scope=col>acmibd</th><th scope=col>acmdia</th><th scope=col>acmcvd</th><th scope=col>acmpsy</th><th scope=col>acmobe</th><th scope=col>acminf</th><th scope=col>acmrhe</th><th scope=col>acmpep</th><th scope=col>acmren</th><th scope=col>acmpulmod</th><th scope=col>acmpulsev</th><th scope=col>acmpri</th><th scope=col>acmhepmil</th><th scope=col>acmhepsev</th><th scope=col>acmoth</th><th scope=col>cod</th><th scope=col>cr</th><th scope=col>os</th><th scope=col>os_status</th><th scope=col>pbmts</th><th scope=col>pbmty</th><th scope=col>t_v_11</th><th scope=col>add_10p</th><th scope=col>add_10q</th><th scope=col>add_11p</th><th scope=col>add_11q</th><th scope=col>add_12p</th><th scope=col>add_12q</th><th scope=col>add_13p</th><th scope=col>add_13q</th><th scope=col>add_14p</th><th scope=col>add_14q</th><th scope=col>add_15p</th><th scope=col>add_15q</th><th scope=col>add_16p</th><th scope=col>add_16q</th><th scope=col>add_17p</th><th scope=col>add_17q</th><th scope=col>add_18p</th><th scope=col>add_18q</th><th scope=col>add_19p</th><th scope=col>add_19q</th><th scope=col>add_1p</th><th scope=col>add_1q</th><th scope=col>add_20p</th><th scope=col>add_20q</th><th scope=col>add_21p</th><th scope=col>add_21q</th><th scope=col>add_22p</th><th scope=col>add_22q</th><th scope=col>add_2p</th><th scope=col>add_2q</th><th scope=col>add_3p</th><th scope=col>add_3q</th><th scope=col>add_4p</th><th scope=col>add_4q</th><th scope=col>add_5p</th><th scope=col>add_5q</th><th scope=col>add_6p</th><th scope=col>add_6q</th><th scope=col>add_7p</th><th scope=col>add_7q</th><th scope=col>add_8p</th><th scope=col>add_8q</th><th scope=col>add_9p</th><th scope=col>add_9q</th><th scope=col>add_xp</th><th scope=col>add_xq</th><th scope=col>complex_translocations</th><th scope=col>del_10p</th><th scope=col>del_10q</th><th scope=col>del_11p</th><th scope=col>del_11q</th><th scope=col>del_12p</th><th scope=col>del_12q</th><th scope=col>del_13p</th><th scope=col>del_13q</th><th scope=col>del_14q</th><th scope=col>del_15p</th><th scope=col>del_15q</th><th scope=col>del_16p</th><th scope=col>del_16q</th><th scope=col>del_17p</th><th scope=col>del_17q</th><th scope=col>del_18p</th><th scope=col>del_18q</th><th scope=col>del_19p</th><th scope=col>del_19q</th><th scope=col>del_1p</th><th scope=col>del_1q</th><th scope=col>del_20q</th><th scope=col>del_21q</th><th scope=col>del_22q</th><th scope=col>del_2p</th><th scope=col>del_2q</th><th scope=col>⋯</th><th scope=col>minus11</th><th scope=col>minus12</th><th scope=col>minus13</th><th scope=col>minus14</th><th scope=col>minus15</th><th scope=col>minus16</th><th scope=col>minus17</th><th scope=col>minus18</th><th scope=col>minus19</th><th scope=col>minus2</th><th scope=col>minus20</th><th scope=col>minus21</th><th scope=col>minus22</th><th scope=col>minus3</th><th scope=col>minus4</th><th scope=col>minus5</th><th scope=col>minus6</th><th scope=col>minus7</th><th scope=col>minus7.</th><th scope=col>minus8</th><th scope=col>minus9</th><th scope=col>minusx</th><th scope=col>minusy</th><th scope=col>plus1</th><th scope=col>plus10</th><th scope=col>plus11</th><th scope=col>plus12</th><th scope=col>plus13</th><th scope=col>plus14</th><th scope=col>plus15</th><th scope=col>plus16</th><th scope=col>plus17</th><th scope=col>plus18</th><th scope=col>plus19</th><th scope=col>plus2</th><th scope=col>plus20</th><th scope=col>plus21</th><th scope=col>plus22</th><th scope=col>plus3</th><th scope=col>plus4</th><th scope=col>plus5</th><th scope=col>plus6</th><th scope=col>plus7</th><th scope=col>plus8</th><th scope=col>plus9</th><th scope=col>plusx</th><th scope=col>plusy</th><th scope=col>ring</th><th scope=col>t_10_13</th><th scope=col>t_10_19</th><th scope=col>t_10_21</th><th scope=col>t_12_13</th><th scope=col>t_12_14</th><th scope=col>t_12_15</th><th scope=col>t_12_17</th><th scope=col>t_12_20</th><th scope=col>t_12_21</th><th scope=col>t_12_22</th><th scope=col>t_13_15</th><th scope=col>t_13_19</th><th scope=col>t_15_16</th><th scope=col>t_15_17</th><th scope=col>t_16_17</th><th scope=col>t_16_21</th><th scope=col>t_17_18</th><th scope=col>t_17_19</th><th scope=col>t_17_20</th><th scope=col>t_17_21</th><th scope=col>t_17_22</th><th scope=col>t_19_22</th><th scope=col>t_1_12</th><th scope=col>t_1_14</th><th scope=col>t_1_15</th><th scope=col>t_1_16</th><th scope=col>t_1_17</th><th scope=col>t_1_19</th><th scope=col>t_1_2</th><th scope=col>t_1_21</th><th scope=col>t_1_22</th><th scope=col>t_1_3</th><th scope=col>t_1_4</th><th scope=col>t_1_5</th><th scope=col>t_1_6</th><th scope=col>t_1_8</th><th scope=col>t_1_9</th><th scope=col>t_2_12</th><th scope=col>t_2_17</th><th scope=col>t_2_21</th><th scope=col>t_2_3</th><th scope=col>t_2_5</th><th scope=col>t_2_7</th><th scope=col>t_2_8</th><th scope=col>t_2_9</th><th scope=col>t_3_14</th><th scope=col>t_3_16</th><th scope=col>t_3_19</th><th scope=col>t_3_21</th><th scope=col>t_3_4</th><th scope=col>t_3_5</th><th scope=col>t_3_6</th><th scope=col>t_3_7</th><th scope=col>t_3_9</th><th scope=col>t_4_10</th><th scope=col>t_4_12</th><th scope=col>t_4_13</th><th scope=col>t_4_15</th><th scope=col>t_4_17</th><th scope=col>t_4_19</th><th scope=col>t_4_21</th><th scope=col>t_4_5</th><th scope=col>t_4_6</th><th scope=col>t_4_8</th><th scope=col>t_4_9</th><th scope=col>t_5_10</th><th scope=col>t_5_12</th><th scope=col>t_5_13</th><th scope=col>t_5_15</th><th scope=col>t_5_17</th><th scope=col>t_5_21</th><th scope=col>t_5_7</th><th scope=col>t_5_8</th><th scope=col>t_5_9</th><th scope=col>t_6_10</th><th scope=col>t_6_16</th><th scope=col>t_6_17</th><th scope=col>t_6_22</th><th scope=col>t_6_7</th><th scope=col>t_6_9</th><th scope=col>t_7_12</th><th scope=col>t_7_14</th><th scope=col>t_7_16</th><th scope=col>t_7_17</th><th scope=col>t_7_8</th><th scope=col>t_8_10</th><th scope=col>t_8_13</th><th scope=col>t_8_14</th><th scope=col>t_8_16</th><th scope=col>t_8_17</th><th scope=col>t_8_19</th><th scope=col>t_8_20</th><th scope=col>t_8_21</th><th scope=col>t_8_9</th><th scope=col>t_9_10</th><th scope=col>t_9_11</th><th scope=col>t_9_12</th><th scope=col>t_9_13</th><th scope=col>t_9_15</th><th scope=col>t_9_17</th><th scope=col>t_9_21</th><th scope=col>t_9_22</th><th scope=col>t_x_1</th><th scope=col>t_x_12</th><th scope=col>t_x_15</th><th scope=col>t_x_16</th><th scope=col>t_x_21</th><th scope=col>t_x_5</th><th scope=col>t_x_y</th><th scope=col>wholedup</th><th scope=col>complex</th><th scope=col>eln_2017</th><th scope=col>nejm</th><th scope=col>AMLID</th><th scope=col>dead60</th><th scope=col>MRDgp1</th><th scope=col>MRDgp2</th><th scope=col>CRby1</th><th scope=col>CRby2</th><th scope=col>MRD1</th><th scope=col>MRD2</th><th scope=col>LAIPdetection1</th><th scope=col>LAIPvalue1</th><th scope=col>Sample1</th><th scope=col>DiagnosticLAIPscreening</th><th scope=col>LAIPdetection2</th><th scope=col>LAIPvalue2</th><th scope=col>Sample2</th><th scope=col>LAIPassessed1</th><th scope=col>LAIPassessed2</th><th scope=col>trial.y</th><th scope=col>sample_pd.y</th><th scope=col>OS_randomization</th><th scope=col>DEADStatus</th><th scope=col>RFSyears</th><th scope=col>RFSStatus</th><th scope=col>RelapseCIStatus</th><th scope=col>DaystoFirstCR</th><th scope=col>CODCause</th><th scope=col>OS_CR</th><th scope=col>MRD_Status</th><th scope=col>MRD_relapse</th><th scope=col>MRD_relapse_status</th><th scope=col>CRdate</th><th scope=col>randDate_PB</th><th scope=col>CRDate_PB</th><th scope=col>relapseDate_PB</th><th scope=col>boneDate_PB</th><th scope=col>longCR_PB</th><th scope=col>FLT3_ITD_New</th><th scope=col>FLT3_ITD_Value_New</th><th scope=col>NoMatchFLT3</th></tr>\n",
       "\t<tr><th scope=col>&lt;int&gt;</th><th scope=col>&lt;chr&gt;</th><th scope=col>&lt;chr&gt;</th><th scope=col>&lt;chr&gt;</th><th scope=col>&lt;int&gt;</th><th scope=col>&lt;int&gt;</th><th scope=col>&lt;int&gt;</th><th scope=col>&lt;int&gt;</th><th scope=col>&lt;int&gt;</th><th scope=col>&lt;int&gt;</th><th scope=col>&lt;int&gt;</th><th scope=col>&lt;int&gt;</th><th scope=col>&lt;int&gt;</th><th scope=col>&lt;int&gt;</th><th scope=col>&lt;int&gt;</th><th scope=col>&lt;int&gt;</th><th scope=col>&lt;int&gt;</th><th scope=col>&lt;int&gt;</th><th scope=col>&lt;int&gt;</th><th scope=col>&lt;int&gt;</th><th scope=col>&lt;int&gt;</th><th scope=col>&lt;int&gt;</th><th scope=col>&lt;int&gt;</th><th scope=col>&lt;int&gt;</th><th scope=col>&lt;int&gt;</th><th scope=col>&lt;int&gt;</th><th scope=col>&lt;int&gt;</th><th scope=col>&lt;int&gt;</th><th scope=col>&lt;int&gt;</th><th scope=col>&lt;int&gt;</th><th scope=col>&lt;int&gt;</th><th scope=col>&lt;int&gt;</th><th scope=col>&lt;int&gt;</th><th scope=col>&lt;int&gt;</th><th scope=col>&lt;int&gt;</th><th scope=col>&lt;int&gt;</th><th scope=col>&lt;int&gt;</th><th scope=col>&lt;int&gt;</th><th scope=col>&lt;int&gt;</th><th scope=col>&lt;int&gt;</th><th scope=col>&lt;int&gt;</th><th scope=col>&lt;int&gt;</th><th scope=col>&lt;int&gt;</th><th scope=col>&lt;int&gt;</th><th scope=col>&lt;int&gt;</th><th scope=col>&lt;int&gt;</th><th scope=col>&lt;int&gt;</th><th scope=col>&lt;int&gt;</th><th scope=col>&lt;int&gt;</th><th scope=col>&lt;int&gt;</th><th scope=col>&lt;int&gt;</th><th scope=col>&lt;int&gt;</th><th scope=col>&lt;int&gt;</th><th scope=col>&lt;int&gt;</th><th scope=col>&lt;int&gt;</th><th scope=col>&lt;int&gt;</th><th scope=col>&lt;int&gt;</th><th scope=col>&lt;int&gt;</th><th scope=col>&lt;int&gt;</th><th scope=col>&lt;int&gt;</th><th scope=col>&lt;int&gt;</th><th scope=col>&lt;int&gt;</th><th scope=col>&lt;int&gt;</th><th scope=col>&lt;int&gt;</th><th scope=col>&lt;int&gt;</th><th scope=col>&lt;int&gt;</th><th scope=col>&lt;int&gt;</th><th scope=col>&lt;int&gt;</th><th scope=col>&lt;int&gt;</th><th scope=col>&lt;int&gt;</th><th scope=col>&lt;int&gt;</th><th scope=col>&lt;int&gt;</th><th scope=col>&lt;int&gt;</th><th scope=col>&lt;int&gt;</th><th scope=col>&lt;int&gt;</th><th scope=col>&lt;int&gt;</th><th scope=col>&lt;int&gt;</th><th scope=col>&lt;int&gt;</th><th scope=col>&lt;int&gt;</th><th scope=col>&lt;int&gt;</th><th scope=col>&lt;int&gt;</th><th scope=col>&lt;int&gt;</th><th scope=col>&lt;int&gt;</th><th scope=col>&lt;int&gt;</th><th scope=col>&lt;int&gt;</th><th scope=col>&lt;int&gt;</th><th scope=col>&lt;int&gt;</th><th scope=col>&lt;int&gt;</th><th scope=col>&lt;chr&gt;</th><th scope=col>&lt;int&gt;</th><th scope=col>&lt;dbl&gt;</th><th scope=col>&lt;chr&gt;</th><th scope=col>&lt;int&gt;</th><th scope=col>&lt;int&gt;</th><th scope=col>&lt;int&gt;</th><th scope=col>&lt;dbl&gt;</th><th scope=col>&lt;dbl&gt;</th><th scope=col>&lt;dbl&gt;</th><th scope=col>&lt;dbl&gt;</th><th scope=col>&lt;dbl&gt;</th><th scope=col>&lt;int&gt;</th><th scope=col>&lt;int&gt;</th><th scope=col>&lt;int&gt;</th><th scope=col>&lt;int&gt;</th><th scope=col>&lt;int&gt;</th><th scope=col>&lt;int&gt;</th><th scope=col>&lt;int&gt;</th><th scope=col>&lt;int&gt;</th><th scope=col>&lt;int&gt;</th><th scope=col>&lt;int&gt;</th><th scope=col>&lt;int&gt;</th><th scope=col>&lt;int&gt;</th><th scope=col>&lt;int&gt;</th><th scope=col>&lt;int&gt;</th><th scope=col>&lt;int&gt;</th><th scope=col>&lt;int&gt;</th><th scope=col>&lt;int&gt;</th><th scope=col>&lt;int&gt;</th><th scope=col>&lt;int&gt;</th><th scope=col>&lt;int&gt;</th><th scope=col>&lt;int&gt;</th><th scope=col>&lt;int&gt;</th><th scope=col>&lt;dbl&gt;</th><th scope=col>&lt;int&gt;</th><th scope=col>&lt;chr&gt;</th><th scope=col>&lt;chr&gt;</th><th scope=col>&lt;int&gt;</th><th scope=col>&lt;int&gt;</th><th scope=col>&lt;int&gt;</th><th scope=col>&lt;int&gt;</th><th scope=col>&lt;int&gt;</th><th scope=col>&lt;int&gt;</th><th scope=col>&lt;int&gt;</th><th scope=col>&lt;int&gt;</th><th scope=col>&lt;int&gt;</th><th scope=col>&lt;int&gt;</th><th scope=col>&lt;int&gt;</th><th scope=col>&lt;int&gt;</th><th scope=col>&lt;int&gt;</th><th scope=col>&lt;int&gt;</th><th scope=col>&lt;int&gt;</th><th scope=col>&lt;int&gt;</th><th scope=col>&lt;int&gt;</th><th scope=col>&lt;int&gt;</th><th scope=col>&lt;int&gt;</th><th scope=col>&lt;int&gt;</th><th scope=col>&lt;int&gt;</th><th scope=col>&lt;int&gt;</th><th scope=col>&lt;int&gt;</th><th scope=col>&lt;int&gt;</th><th scope=col>&lt;int&gt;</th><th scope=col>&lt;int&gt;</th><th scope=col>&lt;int&gt;</th><th scope=col>&lt;int&gt;</th><th scope=col>&lt;int&gt;</th><th scope=col>&lt;int&gt;</th><th scope=col>&lt;int&gt;</th><th scope=col>&lt;int&gt;</th><th scope=col>&lt;int&gt;</th><th scope=col>&lt;int&gt;</th><th scope=col>&lt;int&gt;</th><th scope=col>&lt;int&gt;</th><th scope=col>&lt;int&gt;</th><th scope=col>&lt;int&gt;</th><th scope=col>&lt;int&gt;</th><th scope=col>&lt;int&gt;</th><th scope=col>&lt;int&gt;</th><th scope=col>&lt;int&gt;</th><th scope=col>&lt;int&gt;</th><th scope=col>&lt;int&gt;</th><th scope=col>&lt;int&gt;</th><th scope=col>&lt;int&gt;</th><th scope=col>&lt;int&gt;</th><th scope=col>&lt;int&gt;</th><th scope=col>&lt;int&gt;</th><th scope=col>&lt;int&gt;</th><th scope=col>&lt;int&gt;</th><th scope=col>&lt;int&gt;</th><th scope=col>&lt;int&gt;</th><th scope=col>&lt;int&gt;</th><th scope=col>&lt;int&gt;</th><th scope=col>&lt;int&gt;</th><th scope=col>&lt;int&gt;</th><th scope=col>&lt;int&gt;</th><th scope=col>&lt;int&gt;</th><th scope=col>&lt;int&gt;</th><th scope=col>&lt;int&gt;</th><th scope=col>&lt;int&gt;</th><th scope=col>&lt;int&gt;</th><th scope=col>&lt;int&gt;</th><th scope=col>&lt;int&gt;</th><th scope=col>&lt;int&gt;</th><th scope=col>&lt;int&gt;</th><th scope=col>&lt;int&gt;</th><th scope=col>&lt;int&gt;</th><th scope=col>&lt;int&gt;</th><th scope=col>&lt;int&gt;</th><th scope=col>&lt;int&gt;</th><th scope=col>&lt;int&gt;</th><th scope=col>&lt;int&gt;</th><th scope=col>⋯</th><th scope=col>&lt;int&gt;</th><th scope=col>&lt;int&gt;</th><th scope=col>&lt;int&gt;</th><th scope=col>&lt;int&gt;</th><th scope=col>&lt;int&gt;</th><th scope=col>&lt;int&gt;</th><th scope=col>&lt;int&gt;</th><th scope=col>&lt;int&gt;</th><th scope=col>&lt;int&gt;</th><th scope=col>&lt;int&gt;</th><th scope=col>&lt;int&gt;</th><th scope=col>&lt;int&gt;</th><th scope=col>&lt;int&gt;</th><th scope=col>&lt;int&gt;</th><th scope=col>&lt;int&gt;</th><th scope=col>&lt;int&gt;</th><th scope=col>&lt;int&gt;</th><th scope=col>&lt;int&gt;</th><th scope=col>&lt;int&gt;</th><th scope=col>&lt;int&gt;</th><th scope=col>&lt;int&gt;</th><th scope=col>&lt;int&gt;</th><th scope=col>&lt;int&gt;</th><th scope=col>&lt;int&gt;</th><th scope=col>&lt;int&gt;</th><th scope=col>&lt;int&gt;</th><th scope=col>&lt;int&gt;</th><th scope=col>&lt;int&gt;</th><th scope=col>&lt;int&gt;</th><th scope=col>&lt;int&gt;</th><th scope=col>&lt;int&gt;</th><th scope=col>&lt;int&gt;</th><th scope=col>&lt;int&gt;</th><th scope=col>&lt;int&gt;</th><th scope=col>&lt;int&gt;</th><th scope=col>&lt;int&gt;</th><th scope=col>&lt;int&gt;</th><th scope=col>&lt;int&gt;</th><th scope=col>&lt;int&gt;</th><th scope=col>&lt;int&gt;</th><th scope=col>&lt;int&gt;</th><th scope=col>&lt;int&gt;</th><th scope=col>&lt;int&gt;</th><th scope=col>&lt;int&gt;</th><th scope=col>&lt;int&gt;</th><th scope=col>&lt;int&gt;</th><th scope=col>&lt;int&gt;</th><th scope=col>&lt;int&gt;</th><th scope=col>&lt;int&gt;</th><th scope=col>&lt;int&gt;</th><th scope=col>&lt;int&gt;</th><th scope=col>&lt;int&gt;</th><th scope=col>&lt;int&gt;</th><th scope=col>&lt;int&gt;</th><th scope=col>&lt;int&gt;</th><th scope=col>&lt;int&gt;</th><th scope=col>&lt;int&gt;</th><th scope=col>&lt;int&gt;</th><th scope=col>&lt;int&gt;</th><th scope=col>&lt;int&gt;</th><th scope=col>&lt;int&gt;</th><th scope=col>&lt;int&gt;</th><th scope=col>&lt;int&gt;</th><th scope=col>&lt;int&gt;</th><th scope=col>&lt;int&gt;</th><th scope=col>&lt;int&gt;</th><th scope=col>&lt;int&gt;</th><th scope=col>&lt;int&gt;</th><th scope=col>&lt;int&gt;</th><th scope=col>&lt;int&gt;</th><th scope=col>&lt;int&gt;</th><th scope=col>&lt;int&gt;</th><th scope=col>&lt;int&gt;</th><th scope=col>&lt;int&gt;</th><th scope=col>&lt;int&gt;</th><th scope=col>&lt;int&gt;</th><th scope=col>&lt;int&gt;</th><th scope=col>&lt;int&gt;</th><th scope=col>&lt;int&gt;</th><th scope=col>&lt;int&gt;</th><th scope=col>&lt;int&gt;</th><th scope=col>&lt;int&gt;</th><th scope=col>&lt;int&gt;</th><th scope=col>&lt;int&gt;</th><th scope=col>&lt;int&gt;</th><th scope=col>&lt;int&gt;</th><th scope=col>&lt;int&gt;</th><th scope=col>&lt;int&gt;</th><th scope=col>&lt;int&gt;</th><th scope=col>&lt;int&gt;</th><th scope=col>&lt;int&gt;</th><th scope=col>&lt;int&gt;</th><th scope=col>&lt;int&gt;</th><th scope=col>&lt;int&gt;</th><th scope=col>&lt;int&gt;</th><th scope=col>&lt;int&gt;</th><th scope=col>&lt;int&gt;</th><th scope=col>&lt;int&gt;</th><th scope=col>&lt;int&gt;</th><th scope=col>&lt;int&gt;</th><th scope=col>&lt;int&gt;</th><th scope=col>&lt;int&gt;</th><th scope=col>&lt;int&gt;</th><th scope=col>&lt;int&gt;</th><th scope=col>&lt;int&gt;</th><th scope=col>&lt;int&gt;</th><th scope=col>&lt;int&gt;</th><th scope=col>&lt;int&gt;</th><th scope=col>&lt;int&gt;</th><th scope=col>&lt;int&gt;</th><th scope=col>&lt;int&gt;</th><th scope=col>&lt;int&gt;</th><th scope=col>&lt;int&gt;</th><th scope=col>&lt;int&gt;</th><th scope=col>&lt;int&gt;</th><th scope=col>&lt;int&gt;</th><th scope=col>&lt;int&gt;</th><th scope=col>&lt;int&gt;</th><th scope=col>&lt;int&gt;</th><th scope=col>&lt;int&gt;</th><th scope=col>&lt;int&gt;</th><th scope=col>&lt;int&gt;</th><th scope=col>&lt;int&gt;</th><th scope=col>&lt;int&gt;</th><th scope=col>&lt;int&gt;</th><th scope=col>&lt;int&gt;</th><th scope=col>&lt;int&gt;</th><th scope=col>&lt;int&gt;</th><th scope=col>&lt;int&gt;</th><th scope=col>&lt;int&gt;</th><th scope=col>&lt;int&gt;</th><th scope=col>&lt;int&gt;</th><th scope=col>&lt;int&gt;</th><th scope=col>&lt;int&gt;</th><th scope=col>&lt;int&gt;</th><th scope=col>&lt;int&gt;</th><th scope=col>&lt;int&gt;</th><th scope=col>&lt;int&gt;</th><th scope=col>&lt;int&gt;</th><th scope=col>&lt;int&gt;</th><th scope=col>&lt;int&gt;</th><th scope=col>&lt;int&gt;</th><th scope=col>&lt;int&gt;</th><th scope=col>&lt;int&gt;</th><th scope=col>&lt;int&gt;</th><th scope=col>&lt;int&gt;</th><th scope=col>&lt;int&gt;</th><th scope=col>&lt;int&gt;</th><th scope=col>&lt;int&gt;</th><th scope=col>&lt;int&gt;</th><th scope=col>&lt;int&gt;</th><th scope=col>&lt;int&gt;</th><th scope=col>&lt;int&gt;</th><th scope=col>&lt;int&gt;</th><th scope=col>&lt;int&gt;</th><th scope=col>&lt;int&gt;</th><th scope=col>&lt;int&gt;</th><th scope=col>&lt;int&gt;</th><th scope=col>&lt;int&gt;</th><th scope=col>&lt;chr&gt;</th><th scope=col>&lt;chr&gt;</th><th scope=col>&lt;chr&gt;</th><th scope=col>&lt;int&gt;</th><th scope=col>&lt;chr&gt;</th><th scope=col>&lt;chr&gt;</th><th scope=col>&lt;chr&gt;</th><th scope=col>&lt;chr&gt;</th><th scope=col>&lt;chr&gt;</th><th scope=col>&lt;chr&gt;</th><th scope=col>&lt;chr&gt;</th><th scope=col>&lt;dbl&gt;</th><th scope=col>&lt;chr&gt;</th><th scope=col>&lt;chr&gt;</th><th scope=col>&lt;chr&gt;</th><th scope=col>&lt;dbl&gt;</th><th scope=col>&lt;chr&gt;</th><th scope=col>&lt;chr&gt;</th><th scope=col>&lt;chr&gt;</th><th scope=col>&lt;chr&gt;</th><th scope=col>&lt;chr&gt;</th><th scope=col>&lt;dbl&gt;</th><th scope=col>&lt;int&gt;</th><th scope=col>&lt;dbl&gt;</th><th scope=col>&lt;int&gt;</th><th scope=col>&lt;int&gt;</th><th scope=col>&lt;int&gt;</th><th scope=col>&lt;chr&gt;</th><th scope=col>&lt;dbl&gt;</th><th scope=col>&lt;int&gt;</th><th scope=col>&lt;dbl&gt;</th><th scope=col>&lt;int&gt;</th><th scope=col>&lt;chr&gt;</th><th scope=col>&lt;int&gt;</th><th scope=col>&lt;int&gt;</th><th scope=col>&lt;int&gt;</th><th scope=col>&lt;int&gt;</th><th scope=col>&lt;int&gt;</th><th scope=col>&lt;int&gt;</th><th scope=col>&lt;dbl&gt;</th><th scope=col>&lt;chr&gt;</th></tr>\n",
       "</thead>\n",
       "<tbody>\n",
       "\t<tr><td>1</td><td>11-3496</td><td>PD20338c</td><td>PD20338c</td><td>0</td><td>0</td><td>0</td><td>0</td><td>0</td><td>0</td><td>0</td><td>0</td><td>0</td><td>0</td><td>0</td><td>0</td><td>0</td><td>0</td><td>0</td><td>0</td><td>0</td><td>0</td><td>0</td><td>0</td><td>0</td><td>0</td><td>0</td><td>0</td><td>0</td><td>0</td><td>0</td><td>0</td><td>0</td><td>0</td><td>0</td><td>0</td><td>1</td><td>0</td><td>0</td><td>0</td><td>0</td><td>0</td><td>0</td><td>0</td><td>0</td><td>0</td><td>0</td><td>0</td><td>0</td><td>0</td><td>0</td><td>0</td><td>0</td><td>0</td><td>0</td><td>1</td><td>0</td><td>0</td><td>0</td><td>0</td><td>0</td><td>0</td><td>0</td><td>0</td><td>0</td><td>0</td><td>0</td><td>0</td><td>0</td><td>0</td><td>0</td><td>0</td><td>0</td><td>0</td><td>0</td><td>0</td><td>0</td><td>0</td><td>0</td><td>0</td><td>0</td><td>0</td><td>0</td><td>0</td><td>0</td><td>0</td><td>0</td><td>6</td><td>1994-01-02</td><td>1</td><td>58.47775</td><td></td><td>1</td><td>1</td><td>1</td><td> 39.0</td><td> 7.699997</td><td> 10</td><td>98</td><td>NA</td><td>1</td><td>110061</td><td>NA</td><td>NA</td><td>NA</td><td>NA</td><td>NA</td><td>NA</td><td>NA</td><td>NA</td><td>NA</td><td>NA</td><td>NA</td><td>NA</td><td>NA</td><td>NA</td><td>NA</td><td>NA</td><td>NA</td><td>NA</td><td> 1</td><td>1</td><td>2.00684463</td><td>1</td><td>NONE</td><td>NONE</td><td>0</td><td>0</td><td>0</td><td>0</td><td>0</td><td>0</td><td>0</td><td>0</td><td>0</td><td>0</td><td>0</td><td>0</td><td>0</td><td>0</td><td>0</td><td>0</td><td>0</td><td>0</td><td>0</td><td>0</td><td>0</td><td>0</td><td>0</td><td>0</td><td>0</td><td>0</td><td>0</td><td>0</td><td>0</td><td>0</td><td>0</td><td>0</td><td>0</td><td>0</td><td>0</td><td>0</td><td>0</td><td>0</td><td>0</td><td>0</td><td>0</td><td>0</td><td>0</td><td>0</td><td>0</td><td>0</td><td>0</td><td>0</td><td>0</td><td>0</td><td>0</td><td>0</td><td>0</td><td>0</td><td>0</td><td>0</td><td>0</td><td>0</td><td>0</td><td>0</td><td>0</td><td>0</td><td>0</td><td>0</td><td>0</td><td>0</td><td>0</td><td>0</td><td>0</td><td>0</td><td>0</td><td>0</td><td>0</td><td>0</td><td>⋯</td><td>0</td><td>0</td><td>0</td><td>0</td><td>0</td><td>0</td><td>0</td><td>0</td><td>0</td><td>0</td><td>0</td><td>0</td><td>0</td><td>0</td><td>0</td><td>0</td><td>0</td><td>0</td><td>0</td><td>0</td><td>0</td><td>0</td><td>0</td><td>0</td><td>0</td><td>0</td><td>0</td><td>0</td><td>0</td><td>0</td><td>0</td><td>0</td><td>0</td><td>0</td><td>0</td><td>0</td><td>0</td><td>0</td><td>0</td><td>0</td><td>0</td><td>0</td><td>0</td><td>0</td><td>0</td><td>0</td><td>0</td><td>0</td><td>0</td><td>0</td><td>0</td><td>0</td><td>0</td><td>0</td><td>0</td><td>0</td><td>0</td><td>0</td><td>0</td><td>0</td><td>0</td><td>0</td><td>0</td><td>0</td><td>0</td><td>0</td><td>0</td><td>0</td><td>0</td><td>0</td><td>0</td><td>0</td><td>0</td><td>0</td><td>0</td><td>0</td><td>0</td><td>0</td><td>0</td><td>0</td><td>0</td><td>0</td><td>0</td><td>0</td><td>0</td><td>0</td><td>0</td><td>0</td><td>0</td><td>0</td><td>0</td><td>0</td><td>0</td><td>0</td><td>0</td><td>0</td><td>0</td><td>0</td><td>0</td><td>0</td><td>0</td><td>0</td><td>0</td><td>0</td><td>0</td><td>0</td><td>0</td><td>0</td><td>0</td><td>0</td><td>0</td><td>0</td><td>0</td><td>0</td><td>0</td><td>0</td><td>0</td><td>0</td><td>0</td><td>0</td><td>0</td><td>0</td><td>0</td><td>0</td><td>0</td><td>0</td><td>0</td><td>0</td><td>0</td><td>0</td><td>0</td><td>0</td><td>0</td><td>0</td><td>0</td><td>0</td><td>0</td><td>0</td><td>0</td><td>0</td><td>0</td><td>0</td><td>0</td><td>0</td><td>0</td><td>0</td><td>0</td><td>0</td><td>0</td><td>0</td><td>0</td><td>0</td><td>0</td><td>0</td><td>0</td><td>0</td><td>0</td><td>0</td><td>0</td><td>favorable   </td><td>NPM1                                 </td><td>NA</td><td>NA</td><td>NA</td><td>NA</td><td>NA</td><td>NA</td><td>NA</td><td>NA</td><td>NA</td><td>NA</td><td>NA</td><td>NA</td><td>NA</td><td>NA</td><td>NA</td><td>NA</td><td>NA</td><td>NA</td><td>NA</td><td>2.00821900</td><td>1</td><td>1.7260270</td><td>1</td><td>1</td><td>27</td><td>INFECTION     </td><td>1.9329230</td><td>1</td><td>1.7248460</td><td>1</td><td>1994-02-28</td><td>0</td><td>0</td><td>0</td><td>0</td><td>0</td><td>NA</td><td>NA</td><td>Missing</td></tr>\n",
       "\t<tr><td>2</td><td>11-3807</td><td>PD20337c</td><td>PD20337c</td><td>0</td><td>0</td><td>0</td><td>0</td><td>0</td><td>0</td><td>0</td><td>0</td><td>0</td><td>0</td><td>0</td><td>0</td><td>0</td><td>0</td><td>0</td><td>0</td><td>0</td><td>0</td><td>0</td><td>1</td><td>0</td><td>0</td><td>0</td><td>0</td><td>0</td><td>0</td><td>0</td><td>0</td><td>0</td><td>0</td><td>0</td><td>0</td><td>0</td><td>1</td><td>0</td><td>0</td><td>0</td><td>0</td><td>0</td><td>0</td><td>0</td><td>0</td><td>0</td><td>0</td><td>0</td><td>0</td><td>0</td><td>0</td><td>0</td><td>0</td><td>0</td><td>0</td><td>0</td><td>0</td><td>0</td><td>0</td><td>0</td><td>0</td><td>0</td><td>0</td><td>0</td><td>0</td><td>0</td><td>0</td><td>0</td><td>0</td><td>0</td><td>0</td><td>0</td><td>0</td><td>0</td><td>0</td><td>0</td><td>0</td><td>0</td><td>0</td><td>0</td><td>0</td><td>0</td><td>0</td><td>0</td><td>0</td><td>0</td><td>6</td><td>1995-09-08</td><td>0</td><td>72.43258</td><td></td><td>1</td><td>0</td><td>1</td><td>  1.5</td><td>13.500000</td><td> 75</td><td>75</td><td>NA</td><td>1</td><td>110054</td><td>NA</td><td>NA</td><td>NA</td><td>NA</td><td>NA</td><td>NA</td><td>NA</td><td>NA</td><td>NA</td><td>NA</td><td>NA</td><td>NA</td><td>NA</td><td>NA</td><td>NA</td><td>NA</td><td>NA</td><td>NA</td><td>10</td><td>0</td><td>0.09308693</td><td>1</td><td>NONE</td><td>NONE</td><td>0</td><td>0</td><td>0</td><td>0</td><td>0</td><td>0</td><td>0</td><td>0</td><td>0</td><td>0</td><td>0</td><td>0</td><td>0</td><td>0</td><td>0</td><td>0</td><td>0</td><td>0</td><td>0</td><td>0</td><td>0</td><td>0</td><td>0</td><td>0</td><td>0</td><td>0</td><td>0</td><td>0</td><td>0</td><td>0</td><td>0</td><td>0</td><td>0</td><td>0</td><td>0</td><td>0</td><td>0</td><td>0</td><td>0</td><td>0</td><td>0</td><td>0</td><td>0</td><td>0</td><td>0</td><td>0</td><td>0</td><td>0</td><td>0</td><td>0</td><td>0</td><td>0</td><td>0</td><td>0</td><td>0</td><td>0</td><td>0</td><td>0</td><td>0</td><td>0</td><td>0</td><td>0</td><td>0</td><td>0</td><td>0</td><td>0</td><td>0</td><td>0</td><td>0</td><td>0</td><td>0</td><td>0</td><td>0</td><td>0</td><td>⋯</td><td>0</td><td>0</td><td>0</td><td>0</td><td>0</td><td>0</td><td>0</td><td>0</td><td>0</td><td>0</td><td>0</td><td>0</td><td>0</td><td>0</td><td>0</td><td>0</td><td>0</td><td>0</td><td>0</td><td>0</td><td>0</td><td>0</td><td>0</td><td>0</td><td>0</td><td>0</td><td>0</td><td>0</td><td>0</td><td>0</td><td>0</td><td>0</td><td>0</td><td>0</td><td>0</td><td>0</td><td>0</td><td>0</td><td>0</td><td>0</td><td>0</td><td>0</td><td>0</td><td>0</td><td>0</td><td>0</td><td>0</td><td>0</td><td>0</td><td>0</td><td>0</td><td>0</td><td>0</td><td>0</td><td>0</td><td>0</td><td>0</td><td>0</td><td>0</td><td>0</td><td>0</td><td>0</td><td>0</td><td>0</td><td>0</td><td>0</td><td>0</td><td>0</td><td>0</td><td>0</td><td>0</td><td>0</td><td>0</td><td>0</td><td>0</td><td>0</td><td>0</td><td>0</td><td>0</td><td>0</td><td>0</td><td>0</td><td>0</td><td>0</td><td>0</td><td>0</td><td>0</td><td>0</td><td>0</td><td>0</td><td>0</td><td>0</td><td>0</td><td>0</td><td>0</td><td>0</td><td>0</td><td>0</td><td>0</td><td>0</td><td>0</td><td>0</td><td>0</td><td>0</td><td>0</td><td>0</td><td>0</td><td>0</td><td>0</td><td>0</td><td>0</td><td>0</td><td>0</td><td>0</td><td>0</td><td>0</td><td>0</td><td>0</td><td>0</td><td>0</td><td>0</td><td>0</td><td>0</td><td>0</td><td>0</td><td>0</td><td>0</td><td>0</td><td>0</td><td>0</td><td>0</td><td>0</td><td>0</td><td>0</td><td>0</td><td>0</td><td>0</td><td>0</td><td>0</td><td>0</td><td>0</td><td>0</td><td>0</td><td>0</td><td>0</td><td>0</td><td>0</td><td>0</td><td>0</td><td>0</td><td>0</td><td>0</td><td>0</td><td>0</td><td>0</td><td>0</td><td>0</td><td>0</td><td>0</td><td>intermediate</td><td>IDH2_R172                            </td><td>NA</td><td>NA</td><td>NA</td><td>NA</td><td>NA</td><td>NA</td><td>NA</td><td>NA</td><td>NA</td><td>NA</td><td>NA</td><td>NA</td><td>NA</td><td>NA</td><td>NA</td><td>NA</td><td>NA</td><td>NA</td><td>NA</td><td>0.09315068</td><td>1</td><td>       NA</td><td>1</td><td>2</td><td>NA</td><td>RESISTANT DIS </td><td>       NA</td><td>1</td><td>       NA</td><td>1</td><td>NA        </td><td>0</td><td>0</td><td>0</td><td>0</td><td>0</td><td>NA</td><td>NA</td><td>Missing</td></tr>\n",
       "\t<tr><td>3</td><td>11-3885</td><td>PD20336a</td><td>PD20336a</td><td>0</td><td>0</td><td>0</td><td>0</td><td>0</td><td>0</td><td>0</td><td>0</td><td>0</td><td>0</td><td>0</td><td>0</td><td>0</td><td>0</td><td>0</td><td>0</td><td>0</td><td>0</td><td>0</td><td>0</td><td>0</td><td>0</td><td>0</td><td>0</td><td>1</td><td>0</td><td>0</td><td>0</td><td>0</td><td>0</td><td>0</td><td>0</td><td>0</td><td>0</td><td>0</td><td>0</td><td>0</td><td>1</td><td>0</td><td>0</td><td>0</td><td>0</td><td>0</td><td>0</td><td>0</td><td>0</td><td>0</td><td>0</td><td>0</td><td>0</td><td>0</td><td>0</td><td>0</td><td>0</td><td>0</td><td>0</td><td>0</td><td>0</td><td>0</td><td>0</td><td>0</td><td>0</td><td>0</td><td>0</td><td>0</td><td>1</td><td>0</td><td>0</td><td>0</td><td>1</td><td>0</td><td>1</td><td>0</td><td>0</td><td>0</td><td>0</td><td>0</td><td>0</td><td>0</td><td>1</td><td>0</td><td>0</td><td>0</td><td>6</td><td>1995-12-18</td><td>0</td><td>61.67830</td><td></td><td>1</td><td>0</td><td>1</td><td>130.0</td><td> 8.500000</td><td>135</td><td>NA</td><td>NA</td><td>1</td><td>110036</td><td>NA</td><td>NA</td><td>NA</td><td>NA</td><td>NA</td><td>NA</td><td>NA</td><td>NA</td><td>NA</td><td>NA</td><td>NA</td><td>NA</td><td>NA</td><td>NA</td><td>NA</td><td>NA</td><td>NA</td><td>NA</td><td> 3</td><td>0</td><td>0.68172485</td><td>1</td><td>NONE</td><td>NONE</td><td>0</td><td>0</td><td>0</td><td>0</td><td>0</td><td>0</td><td>0</td><td>0</td><td>0</td><td>0</td><td>0</td><td>0</td><td>0</td><td>0</td><td>0</td><td>0</td><td>0</td><td>0</td><td>0</td><td>0</td><td>0</td><td>0</td><td>0</td><td>0</td><td>0</td><td>0</td><td>0</td><td>0</td><td>0</td><td>0</td><td>0</td><td>0</td><td>0</td><td>0</td><td>0</td><td>0</td><td>0</td><td>0</td><td>0</td><td>0</td><td>0</td><td>0</td><td>0</td><td>0</td><td>0</td><td>0</td><td>0</td><td>0</td><td>0</td><td>0</td><td>0</td><td>0</td><td>0</td><td>0</td><td>0</td><td>0</td><td>0</td><td>0</td><td>0</td><td>0</td><td>0</td><td>0</td><td>0</td><td>0</td><td>0</td><td>0</td><td>0</td><td>0</td><td>0</td><td>0</td><td>0</td><td>0</td><td>0</td><td>0</td><td>⋯</td><td>0</td><td>0</td><td>0</td><td>0</td><td>0</td><td>0</td><td>0</td><td>0</td><td>0</td><td>0</td><td>0</td><td>0</td><td>0</td><td>0</td><td>0</td><td>0</td><td>0</td><td>0</td><td>0</td><td>0</td><td>0</td><td>0</td><td>0</td><td>0</td><td>0</td><td>0</td><td>0</td><td>0</td><td>0</td><td>0</td><td>0</td><td>0</td><td>0</td><td>0</td><td>0</td><td>0</td><td>0</td><td>0</td><td>0</td><td>0</td><td>0</td><td>0</td><td>0</td><td>0</td><td>0</td><td>0</td><td>0</td><td>0</td><td>0</td><td>0</td><td>0</td><td>0</td><td>0</td><td>0</td><td>0</td><td>0</td><td>0</td><td>0</td><td>0</td><td>0</td><td>0</td><td>0</td><td>0</td><td>0</td><td>0</td><td>0</td><td>0</td><td>0</td><td>0</td><td>0</td><td>0</td><td>0</td><td>0</td><td>0</td><td>0</td><td>0</td><td>0</td><td>0</td><td>0</td><td>0</td><td>0</td><td>0</td><td>0</td><td>0</td><td>0</td><td>0</td><td>0</td><td>0</td><td>0</td><td>0</td><td>0</td><td>0</td><td>0</td><td>0</td><td>0</td><td>0</td><td>0</td><td>0</td><td>0</td><td>0</td><td>0</td><td>0</td><td>0</td><td>0</td><td>0</td><td>0</td><td>0</td><td>0</td><td>0</td><td>0</td><td>0</td><td>0</td><td>0</td><td>0</td><td>0</td><td>0</td><td>0</td><td>0</td><td>0</td><td>0</td><td>0</td><td>0</td><td>0</td><td>0</td><td>0</td><td>0</td><td>0</td><td>0</td><td>0</td><td>0</td><td>0</td><td>0</td><td>0</td><td>0</td><td>0</td><td>0</td><td>0</td><td>0</td><td>0</td><td>0</td><td>0</td><td>0</td><td>0</td><td>0</td><td>0</td><td>0</td><td>0</td><td>0</td><td>0</td><td>0</td><td>0</td><td>0</td><td>0</td><td>0</td><td>0</td><td>0</td><td>0</td><td>0</td><td>0</td><td>adverse     </td><td>Chromatin_spliceosome-TP53_aneuploidy</td><td>NA</td><td>NA</td><td>NA</td><td>NA</td><td>NA</td><td>NA</td><td>NA</td><td>NA</td><td>NA</td><td>NA</td><td>NA</td><td>NA</td><td>NA</td><td>NA</td><td>NA</td><td>NA</td><td>NA</td><td>NA</td><td>NA</td><td>0.68219180</td><td>1</td><td>       NA</td><td>1</td><td>2</td><td>NA</td><td>INFECT + HAEM </td><td>       NA</td><td>1</td><td>       NA</td><td>1</td><td>NA        </td><td>0</td><td>0</td><td>0</td><td>0</td><td>0</td><td>NA</td><td>NA</td><td>Missing</td></tr>\n",
       "\t<tr><td>4</td><td>11-4052</td><td>PD20335c</td><td>PD20335c</td><td>0</td><td>0</td><td>0</td><td>0</td><td>0</td><td>0</td><td>0</td><td>0</td><td>0</td><td>0</td><td>0</td><td>0</td><td>0</td><td>0</td><td>0</td><td>0</td><td>0</td><td>0</td><td>0</td><td>0</td><td>0</td><td>0</td><td>0</td><td>0</td><td>0</td><td>0</td><td>0</td><td>0</td><td>0</td><td>0</td><td>0</td><td>0</td><td>0</td><td>0</td><td>0</td><td>0</td><td>0</td><td>0</td><td>0</td><td>0</td><td>0</td><td>0</td><td>0</td><td>0</td><td>0</td><td>0</td><td>0</td><td>0</td><td>0</td><td>0</td><td>0</td><td>1</td><td>0</td><td>0</td><td>0</td><td>0</td><td>0</td><td>0</td><td>0</td><td>0</td><td>0</td><td>0</td><td>0</td><td>0</td><td>0</td><td>0</td><td>0</td><td>0</td><td>0</td><td>0</td><td>0</td><td>0</td><td>0</td><td>0</td><td>1</td><td>0</td><td>0</td><td>0</td><td>1</td><td>0</td><td>0</td><td>0</td><td>0</td><td>6</td><td>1996-11-14</td><td>1</td><td>68.28747</td><td></td><td>1</td><td>0</td><td>1</td><td> 32.0</td><td> 8.699997</td><td> 55</td><td>98</td><td>NA</td><td>1</td><td>110045</td><td>NA</td><td>NA</td><td>NA</td><td>NA</td><td>NA</td><td>NA</td><td>NA</td><td>NA</td><td>NA</td><td>NA</td><td>NA</td><td>NA</td><td>NA</td><td>NA</td><td>NA</td><td>NA</td><td>NA</td><td>NA</td><td> 1</td><td>0</td><td>0.05201916</td><td>1</td><td>NONE</td><td>NONE</td><td>0</td><td>0</td><td>0</td><td>0</td><td>0</td><td>0</td><td>0</td><td>0</td><td>0</td><td>0</td><td>0</td><td>0</td><td>0</td><td>0</td><td>0</td><td>0</td><td>0</td><td>0</td><td>0</td><td>0</td><td>0</td><td>0</td><td>0</td><td>0</td><td>0</td><td>0</td><td>0</td><td>0</td><td>0</td><td>0</td><td>0</td><td>0</td><td>0</td><td>0</td><td>0</td><td>0</td><td>0</td><td>0</td><td>0</td><td>0</td><td>0</td><td>0</td><td>0</td><td>0</td><td>0</td><td>0</td><td>0</td><td>0</td><td>0</td><td>0</td><td>0</td><td>0</td><td>0</td><td>0</td><td>0</td><td>0</td><td>0</td><td>0</td><td>0</td><td>0</td><td>0</td><td>0</td><td>0</td><td>0</td><td>0</td><td>0</td><td>0</td><td>0</td><td>0</td><td>0</td><td>0</td><td>0</td><td>0</td><td>0</td><td>⋯</td><td>0</td><td>0</td><td>0</td><td>0</td><td>0</td><td>0</td><td>0</td><td>0</td><td>0</td><td>0</td><td>0</td><td>0</td><td>0</td><td>0</td><td>0</td><td>0</td><td>0</td><td>0</td><td>0</td><td>0</td><td>0</td><td>0</td><td>0</td><td>0</td><td>0</td><td>0</td><td>0</td><td>0</td><td>0</td><td>0</td><td>0</td><td>0</td><td>0</td><td>0</td><td>0</td><td>0</td><td>0</td><td>0</td><td>0</td><td>0</td><td>0</td><td>0</td><td>0</td><td>0</td><td>0</td><td>0</td><td>0</td><td>0</td><td>0</td><td>0</td><td>0</td><td>0</td><td>0</td><td>0</td><td>0</td><td>0</td><td>0</td><td>0</td><td>0</td><td>0</td><td>0</td><td>0</td><td>0</td><td>0</td><td>0</td><td>0</td><td>0</td><td>0</td><td>0</td><td>0</td><td>0</td><td>0</td><td>0</td><td>0</td><td>0</td><td>0</td><td>0</td><td>0</td><td>0</td><td>0</td><td>0</td><td>0</td><td>0</td><td>0</td><td>0</td><td>0</td><td>0</td><td>0</td><td>0</td><td>0</td><td>0</td><td>0</td><td>0</td><td>0</td><td>0</td><td>0</td><td>0</td><td>0</td><td>0</td><td>0</td><td>0</td><td>0</td><td>0</td><td>0</td><td>0</td><td>0</td><td>0</td><td>0</td><td>0</td><td>0</td><td>0</td><td>0</td><td>0</td><td>0</td><td>0</td><td>0</td><td>0</td><td>0</td><td>0</td><td>0</td><td>0</td><td>0</td><td>0</td><td>0</td><td>0</td><td>0</td><td>0</td><td>0</td><td>0</td><td>0</td><td>0</td><td>0</td><td>0</td><td>0</td><td>0</td><td>0</td><td>0</td><td>0</td><td>0</td><td>0</td><td>0</td><td>0</td><td>0</td><td>0</td><td>0</td><td>0</td><td>0</td><td>0</td><td>0</td><td>0</td><td>0</td><td>0</td><td>0</td><td>0</td><td>0</td><td>0</td><td>0</td><td>0</td><td>0</td><td>favorable   </td><td>NPM1                                 </td><td>NA</td><td>NA</td><td>NA</td><td>NA</td><td>NA</td><td>NA</td><td>NA</td><td>NA</td><td>NA</td><td>NA</td><td>NA</td><td>NA</td><td>NA</td><td>NA</td><td>NA</td><td>NA</td><td>NA</td><td>NA</td><td>NA</td><td>0.05205479</td><td>1</td><td>       NA</td><td>1</td><td>2</td><td>NA</td><td>INFECTION     </td><td>       NA</td><td>1</td><td>       NA</td><td>1</td><td>NA        </td><td>0</td><td>0</td><td>0</td><td>0</td><td>0</td><td>NA</td><td>NA</td><td>Missing</td></tr>\n",
       "\t<tr><td>5</td><td>11-4169</td><td>PD20334a</td><td>PD20334a</td><td>0</td><td>0</td><td>0</td><td>0</td><td>0</td><td>0</td><td>0</td><td>0</td><td>0</td><td>0</td><td>0</td><td>1</td><td>0</td><td>0</td><td>0</td><td>0</td><td>0</td><td>0</td><td>0</td><td>0</td><td>0</td><td>0</td><td>0</td><td>0</td><td>1</td><td>0</td><td>0</td><td>0</td><td>0</td><td>0</td><td>0</td><td>0</td><td>0</td><td>0</td><td>0</td><td>0</td><td>0</td><td>0</td><td>0</td><td>0</td><td>0</td><td>0</td><td>0</td><td>0</td><td>0</td><td>1</td><td>0</td><td>0</td><td>0</td><td>0</td><td>0</td><td>0</td><td>0</td><td>0</td><td>0</td><td>0</td><td>0</td><td>0</td><td>0</td><td>0</td><td>0</td><td>0</td><td>0</td><td>0</td><td>0</td><td>1</td><td>0</td><td>0</td><td>0</td><td>0</td><td>0</td><td>0</td><td>0</td><td>0</td><td>0</td><td>0</td><td>0</td><td>0</td><td>1</td><td>0</td><td>0</td><td>1</td><td>0</td><td>6</td><td>1997-06-18</td><td>1</td><td>62.16290</td><td></td><td>1</td><td>1</td><td>1</td><td>118.0</td><td> 6.699997</td><td> 21</td><td>NA</td><td>NA</td><td>1</td><td>110058</td><td>NA</td><td>NA</td><td>NA</td><td>NA</td><td>NA</td><td>NA</td><td>NA</td><td>NA</td><td>NA</td><td>NA</td><td>NA</td><td>NA</td><td>NA</td><td>NA</td><td>NA</td><td>NA</td><td>NA</td><td>NA</td><td> 5</td><td>1</td><td>0.68172485</td><td>1</td><td>NONE</td><td>NONE</td><td>0</td><td>0</td><td>0</td><td>0</td><td>0</td><td>0</td><td>0</td><td>0</td><td>0</td><td>0</td><td>0</td><td>0</td><td>0</td><td>0</td><td>0</td><td>0</td><td>0</td><td>0</td><td>0</td><td>0</td><td>0</td><td>0</td><td>0</td><td>0</td><td>0</td><td>0</td><td>0</td><td>0</td><td>0</td><td>0</td><td>0</td><td>0</td><td>0</td><td>0</td><td>0</td><td>0</td><td>0</td><td>0</td><td>0</td><td>0</td><td>0</td><td>0</td><td>0</td><td>0</td><td>0</td><td>0</td><td>0</td><td>0</td><td>0</td><td>0</td><td>0</td><td>0</td><td>0</td><td>0</td><td>0</td><td>0</td><td>0</td><td>0</td><td>0</td><td>0</td><td>0</td><td>0</td><td>0</td><td>0</td><td>0</td><td>0</td><td>0</td><td>0</td><td>0</td><td>0</td><td>0</td><td>0</td><td>0</td><td>0</td><td>⋯</td><td>0</td><td>0</td><td>0</td><td>0</td><td>0</td><td>0</td><td>0</td><td>0</td><td>0</td><td>0</td><td>0</td><td>0</td><td>0</td><td>0</td><td>0</td><td>0</td><td>0</td><td>0</td><td>0</td><td>0</td><td>0</td><td>0</td><td>0</td><td>0</td><td>0</td><td>0</td><td>0</td><td>0</td><td>0</td><td>0</td><td>0</td><td>0</td><td>0</td><td>0</td><td>0</td><td>0</td><td>0</td><td>0</td><td>0</td><td>0</td><td>0</td><td>0</td><td>0</td><td>0</td><td>0</td><td>0</td><td>0</td><td>0</td><td>0</td><td>0</td><td>0</td><td>0</td><td>0</td><td>0</td><td>0</td><td>0</td><td>0</td><td>0</td><td>0</td><td>0</td><td>0</td><td>0</td><td>0</td><td>0</td><td>0</td><td>0</td><td>0</td><td>0</td><td>0</td><td>0</td><td>0</td><td>0</td><td>0</td><td>0</td><td>0</td><td>0</td><td>0</td><td>0</td><td>0</td><td>0</td><td>0</td><td>0</td><td>0</td><td>0</td><td>0</td><td>0</td><td>0</td><td>0</td><td>0</td><td>0</td><td>0</td><td>0</td><td>0</td><td>0</td><td>0</td><td>0</td><td>0</td><td>0</td><td>0</td><td>0</td><td>0</td><td>0</td><td>0</td><td>0</td><td>0</td><td>0</td><td>0</td><td>0</td><td>0</td><td>0</td><td>0</td><td>0</td><td>0</td><td>0</td><td>0</td><td>0</td><td>0</td><td>0</td><td>0</td><td>0</td><td>0</td><td>0</td><td>0</td><td>0</td><td>0</td><td>0</td><td>0</td><td>0</td><td>0</td><td>0</td><td>0</td><td>0</td><td>0</td><td>0</td><td>0</td><td>0</td><td>0</td><td>0</td><td>0</td><td>0</td><td>0</td><td>0</td><td>0</td><td>0</td><td>0</td><td>0</td><td>0</td><td>0</td><td>0</td><td>0</td><td>0</td><td>0</td><td>0</td><td>0</td><td>0</td><td>0</td><td>0</td><td>0</td><td>0</td><td>adverse     </td><td>Chromatin_spliceosome                </td><td>NA</td><td>NA</td><td>NA</td><td>NA</td><td>NA</td><td>NA</td><td>NA</td><td>NA</td><td>NA</td><td>NA</td><td>NA</td><td>NA</td><td>NA</td><td>NA</td><td>NA</td><td>NA</td><td>NA</td><td>NA</td><td>NA</td><td>0.68219180</td><td>1</td><td>0.4109589</td><td>1</td><td>1</td><td>27</td><td>RECURRENT LEUK</td><td>0.6078029</td><td>1</td><td>0.4106776</td><td>1</td><td>1997-07-15</td><td>0</td><td>0</td><td>0</td><td>0</td><td>0</td><td>NA</td><td>NA</td><td>Missing</td></tr>\n",
       "\t<tr><td>6</td><td>12-5272</td><td>PD20333c</td><td>PD20333c</td><td>0</td><td>0</td><td>0</td><td>0</td><td>0</td><td>0</td><td>0</td><td>0</td><td>0</td><td>0</td><td>1</td><td>0</td><td>0</td><td>0</td><td>0</td><td>0</td><td>0</td><td>0</td><td>0</td><td>0</td><td>0</td><td>0</td><td>0</td><td>0</td><td>0</td><td>0</td><td>0</td><td>0</td><td>1</td><td>0</td><td>0</td><td>0</td><td>0</td><td>0</td><td>0</td><td>0</td><td>0</td><td>0</td><td>0</td><td>0</td><td>0</td><td>0</td><td>0</td><td>0</td><td>0</td><td>0</td><td>0</td><td>0</td><td>0</td><td>0</td><td>0</td><td>0</td><td>0</td><td>0</td><td>0</td><td>0</td><td>0</td><td>0</td><td>0</td><td>0</td><td>0</td><td>0</td><td>0</td><td>0</td><td>0</td><td>0</td><td>0</td><td>0</td><td>0</td><td>0</td><td>0</td><td>0</td><td>0</td><td>0</td><td>0</td><td>0</td><td>0</td><td>0</td><td>0</td><td>0</td><td>0</td><td>0</td><td>0</td><td>7</td><td>1995-03-11</td><td>1</td><td>51.45243</td><td></td><td>1</td><td>0</td><td>1</td><td> 12.9</td><td>12.299995</td><td> 16</td><td>86</td><td>NA</td><td>1</td><td>    NA</td><td>NA</td><td>NA</td><td>NA</td><td>NA</td><td>NA</td><td>NA</td><td>NA</td><td>NA</td><td>NA</td><td>NA</td><td>NA</td><td>NA</td><td>NA</td><td>NA</td><td>NA</td><td>NA</td><td>NA</td><td>NA</td><td> 5</td><td>1</td><td>1.79329227</td><td>1</td><td>NONE</td><td>NONE</td><td>0</td><td>0</td><td>0</td><td>0</td><td>0</td><td>0</td><td>0</td><td>0</td><td>0</td><td>0</td><td>0</td><td>0</td><td>0</td><td>0</td><td>0</td><td>0</td><td>0</td><td>0</td><td>0</td><td>0</td><td>0</td><td>0</td><td>0</td><td>0</td><td>0</td><td>0</td><td>0</td><td>0</td><td>0</td><td>0</td><td>0</td><td>0</td><td>0</td><td>0</td><td>0</td><td>0</td><td>0</td><td>0</td><td>0</td><td>0</td><td>0</td><td>0</td><td>0</td><td>0</td><td>0</td><td>0</td><td>0</td><td>0</td><td>0</td><td>0</td><td>0</td><td>0</td><td>0</td><td>0</td><td>0</td><td>0</td><td>0</td><td>0</td><td>0</td><td>0</td><td>0</td><td>0</td><td>0</td><td>0</td><td>0</td><td>0</td><td>0</td><td>0</td><td>0</td><td>0</td><td>0</td><td>0</td><td>0</td><td>0</td><td>⋯</td><td>0</td><td>0</td><td>0</td><td>0</td><td>0</td><td>0</td><td>0</td><td>0</td><td>0</td><td>0</td><td>0</td><td>0</td><td>0</td><td>0</td><td>0</td><td>0</td><td>0</td><td>0</td><td>0</td><td>0</td><td>0</td><td>0</td><td>0</td><td>0</td><td>0</td><td>0</td><td>0</td><td>0</td><td>0</td><td>0</td><td>0</td><td>0</td><td>0</td><td>0</td><td>0</td><td>0</td><td>0</td><td>0</td><td>0</td><td>0</td><td>0</td><td>0</td><td>0</td><td>0</td><td>0</td><td>0</td><td>0</td><td>0</td><td>0</td><td>0</td><td>0</td><td>0</td><td>0</td><td>0</td><td>0</td><td>0</td><td>0</td><td>0</td><td>0</td><td>0</td><td>0</td><td>0</td><td>0</td><td>0</td><td>0</td><td>0</td><td>0</td><td>0</td><td>0</td><td>0</td><td>0</td><td>0</td><td>0</td><td>0</td><td>0</td><td>0</td><td>0</td><td>0</td><td>0</td><td>0</td><td>0</td><td>0</td><td>0</td><td>0</td><td>0</td><td>0</td><td>0</td><td>0</td><td>0</td><td>0</td><td>0</td><td>0</td><td>0</td><td>0</td><td>0</td><td>0</td><td>0</td><td>0</td><td>0</td><td>0</td><td>0</td><td>0</td><td>0</td><td>0</td><td>0</td><td>0</td><td>0</td><td>0</td><td>0</td><td>0</td><td>0</td><td>0</td><td>0</td><td>0</td><td>0</td><td>0</td><td>0</td><td>0</td><td>0</td><td>0</td><td>0</td><td>0</td><td>0</td><td>0</td><td>0</td><td>0</td><td>0</td><td>0</td><td>0</td><td>0</td><td>0</td><td>0</td><td>0</td><td>0</td><td>0</td><td>0</td><td>0</td><td>0</td><td>0</td><td>0</td><td>0</td><td>0</td><td>0</td><td>0</td><td>0</td><td>0</td><td>0</td><td>0</td><td>0</td><td>0</td><td>0</td><td>0</td><td>0</td><td>0</td><td>0</td><td>0</td><td>0</td><td>0</td><td>0</td><td>favorable   </td><td>CEBPA_bi                             </td><td>NA</td><td>NA</td><td>NA</td><td>NA</td><td>NA</td><td>NA</td><td>NA</td><td>NA</td><td>NA</td><td>NA</td><td>NA</td><td>NA</td><td>NA</td><td>NA</td><td>NA</td><td>NA</td><td>NA</td><td>NA</td><td>NA</td><td>1.79452100</td><td>1</td><td>0.6767123</td><td>1</td><td>1</td><td>88</td><td>RECURRENT LEUK</td><td>1.5523610</td><td>1</td><td>0.6762491</td><td>1</td><td>1996-01-30</td><td>0</td><td>0</td><td>0</td><td>0</td><td>0</td><td>NA</td><td>NA</td><td>Missing</td></tr>\n",
       "</tbody>\n",
       "</table>\n"
      ],
      "text/latex": [
       "A data.frame: 6 × 522\n",
       "\\begin{tabular}{r|llllllllllllllllllllllllllllllllllllllllllllllllllllllllllllllllllllllllllllllllllllllllllllllllllllllllllllllllllllllllllllllllllllllllllllllllllllllllllllllllllllllllllllllllllllllllllllllllllllllllllllllllllllllllllllllllllllllllllllllllllllllllllllllllllllllllllllllllllllllllllllllllllllllllllllllllllllllllllllllllllllllllllllllllllllllllllllllllllllllllllllllllllllllllllllllllllllllllllllllllllllllllllllllllllllllllllllllllllllllllllllllllllllllllllllllllllllllllllllllllllllllllllllllllllllllllllllllllllllllllll}\n",
       " X & donor\\_id & data\\_pd & sample\\_pd.x & ASXL1 & ASXL2 & ASXL3 & ATRX & BAGE3 & BCOR & BRAF & CBFB & CBL & CDKN2A & CEBPA\\_bi & CEBPA\\_mono & CNTN5 & CREBBP & CSF1R & CSF3R & CTCF & CUL2 & CUX1 & DNMT3A & EED & ETV6 & EZH2 & FBXW7 & FLT3\\_ITD & FLT3\\_TKD & FLT3\\_other & GATA1 & GATA2 & GNAS & GNB1 & IDH1 & IDH2\\_p.R140 & IDH2\\_p.R172 & JAK2 & JAK3 & KANSL1 & KDM6A & KIT & KMT2C & KMT2D & KMT2E & KRAS & LUC7L2 & MED12 & MLL & MPL & MYC & NF1 & NFE2 & NOTCH1 & NPM1 & NRAS\\_other & NRAS\\_p.G12\\_13 & NRAS\\_p.Q61\\_62 & PDS5B & PHF6 & PPFIA2 & PRPF8 & PTEN & PTPN11 & PTPRF & PTPRT & RAD21 & RIT1 & RUNX1 & S100B & SETBP1 & SF1 & SF3B1 & SMC1A & SMC3 & SMG1 & SPP1 & SRSF2 & STAG2 & STAT5B & SUZ12 & TET2 & TP53 & U2AF1 & WT1 & ZRSR2 & trial.x & date\\_entry & gender & age & ethnic & ahd & perf\\_status & secondary & wbc & hb & plt & bm\\_blasts & neut & intense & trtcode & acmarr & acmcar & acmhvd & acmibd & acmdia & acmcvd & acmpsy & acmobe & acminf & acmrhe & acmpep & acmren & acmpulmod & acmpulsev & acmpri & acmhepmil & acmhepsev & acmoth & cod & cr & os & os\\_status & pbmts & pbmty & t\\_v\\_11 & add\\_10p & add\\_10q & add\\_11p & add\\_11q & add\\_12p & add\\_12q & add\\_13p & add\\_13q & add\\_14p & add\\_14q & add\\_15p & add\\_15q & add\\_16p & add\\_16q & add\\_17p & add\\_17q & add\\_18p & add\\_18q & add\\_19p & add\\_19q & add\\_1p & add\\_1q & add\\_20p & add\\_20q & add\\_21p & add\\_21q & add\\_22p & add\\_22q & add\\_2p & add\\_2q & add\\_3p & add\\_3q & add\\_4p & add\\_4q & add\\_5p & add\\_5q & add\\_6p & add\\_6q & add\\_7p & add\\_7q & add\\_8p & add\\_8q & add\\_9p & add\\_9q & add\\_xp & add\\_xq & complex\\_translocations & del\\_10p & del\\_10q & del\\_11p & del\\_11q & del\\_12p & del\\_12q & del\\_13p & del\\_13q & del\\_14q & del\\_15p & del\\_15q & del\\_16p & del\\_16q & del\\_17p & del\\_17q & del\\_18p & del\\_18q & del\\_19p & del\\_19q & del\\_1p & del\\_1q & del\\_20q & del\\_21q & del\\_22q & del\\_2p & del\\_2q & del\\_3p & del\\_3q & del\\_4q & del\\_5p & del\\_5q & del\\_6p & del\\_6q & del\\_7p & del\\_7q & del\\_8p & del\\_8q & del\\_9p & del\\_9q & del\\_xq & der\\_1 & der\\_10 & der\\_11 & der\\_11\\_13 & der\\_11\\_17 & der\\_11\\_19 & der\\_12 & der\\_13 & der\\_13\\_14 & der\\_13\\_17 & der\\_13\\_21 & der\\_14 & der\\_14\\_22 & der\\_15 & der\\_15\\_21 & der\\_15\\_22 & der\\_16 & der\\_17 & der\\_17\\_18 & der\\_17\\_19 & der\\_18 & der\\_19 & der\\_1\\_12 & der\\_1\\_13 & der\\_1\\_7 & der\\_2 & der\\_20 & der\\_21 & der\\_21\\_22 & der\\_22 & der\\_3 & der\\_3\\_11 & der\\_3\\_6 & der\\_4 & der\\_5 & der\\_5\\_17 & der\\_6 & der\\_6\\_11 & der\\_7 & der\\_7\\_11 & der\\_7\\_17 & der\\_8 & der\\_8\\_14 & der\\_9 & der\\_x & dic\\_11 & dic\\_12\\_22 & dic\\_13\\_14 & dic\\_13\\_21 & dic\\_14 & dic\\_15 & dic\\_16\\_19 & dic\\_16\\_21 & dic\\_17 & dic\\_17\\_18 & dic\\_17\\_21 & dic\\_2 & dic\\_22 & dic\\_3\\_11 & dic\\_3\\_5 & dic\\_4\\_20 & dic\\_5\\_7 & dic\\_6\\_11 & dic\\_6\\_12 & dic\\_7\\_12 & dic\\_7\\_16 & dic\\_7\\_20 & dic\\_8 & dic\\_8\\_11 & dic\\_x & dmin & dup\\_11q & dup\\_12p & dup\\_14q & dup\\_1p & dup\\_1q & hsr & i\\_1 & i\\_11 & i\\_15 & i\\_17 & i\\_21 & i\\_22 & i\\_3 & i\\_5 & i\\_6 & i\\_7 & i\\_8 & i\\_9 & ins & inv\\_1 & inv\\_10 & inv\\_11 & inv\\_12 & inv\\_16 & inv\\_17 & inv\\_2 & inv\\_3 & inv\\_4 & inv\\_5 & inv\\_6 & inv\\_7 & inv\\_8 & inv\\_9 & inv\\_x & mar & minus1 & minus10 & minus11 & minus12 & minus13 & minus14 & minus15 & minus16 & minus17 & minus18 & minus19 & minus2 & minus20 & minus21 & minus22 & minus3 & minus4 & minus5 & minus6 & minus7 & minus7. & minus8 & minus9 & minusx & minusy & plus1 & plus10 & plus11 & plus12 & plus13 & plus14 & plus15 & plus16 & plus17 & plus18 & plus19 & plus2 & plus20 & plus21 & plus22 & plus3 & plus4 & plus5 & plus6 & plus7 & plus8 & plus9 & plusx & plusy & ring & t\\_10\\_13 & t\\_10\\_19 & t\\_10\\_21 & t\\_12\\_13 & t\\_12\\_14 & t\\_12\\_15 & t\\_12\\_17 & t\\_12\\_20 & t\\_12\\_21 & t\\_12\\_22 & t\\_13\\_15 & t\\_13\\_19 & t\\_15\\_16 & t\\_15\\_17 & t\\_16\\_17 & t\\_16\\_21 & t\\_17\\_18 & t\\_17\\_19 & t\\_17\\_20 & t\\_17\\_21 & t\\_17\\_22 & t\\_19\\_22 & t\\_1\\_12 & t\\_1\\_14 & t\\_1\\_15 & t\\_1\\_16 & t\\_1\\_17 & t\\_1\\_19 & t\\_1\\_2 & t\\_1\\_21 & t\\_1\\_22 & t\\_1\\_3 & t\\_1\\_4 & t\\_1\\_5 & t\\_1\\_6 & t\\_1\\_8 & t\\_1\\_9 & t\\_2\\_12 & t\\_2\\_17 & t\\_2\\_21 & t\\_2\\_3 & t\\_2\\_5 & t\\_2\\_7 & t\\_2\\_8 & t\\_2\\_9 & t\\_3\\_14 & t\\_3\\_16 & t\\_3\\_19 & t\\_3\\_21 & t\\_3\\_4 & t\\_3\\_5 & t\\_3\\_6 & t\\_3\\_7 & t\\_3\\_9 & t\\_4\\_10 & t\\_4\\_12 & t\\_4\\_13 & t\\_4\\_15 & t\\_4\\_17 & t\\_4\\_19 & t\\_4\\_21 & t\\_4\\_5 & t\\_4\\_6 & t\\_4\\_8 & t\\_4\\_9 & t\\_5\\_10 & t\\_5\\_12 & t\\_5\\_13 & t\\_5\\_15 & t\\_5\\_17 & t\\_5\\_21 & t\\_5\\_7 & t\\_5\\_8 & t\\_5\\_9 & t\\_6\\_10 & t\\_6\\_16 & t\\_6\\_17 & t\\_6\\_22 & t\\_6\\_7 & t\\_6\\_9 & t\\_7\\_12 & t\\_7\\_14 & t\\_7\\_16 & t\\_7\\_17 & t\\_7\\_8 & t\\_8\\_10 & t\\_8\\_13 & t\\_8\\_14 & t\\_8\\_16 & t\\_8\\_17 & t\\_8\\_19 & t\\_8\\_20 & t\\_8\\_21 & t\\_8\\_9 & t\\_9\\_10 & t\\_9\\_11 & t\\_9\\_12 & t\\_9\\_13 & t\\_9\\_15 & t\\_9\\_17 & t\\_9\\_21 & t\\_9\\_22 & t\\_x\\_1 & t\\_x\\_12 & t\\_x\\_15 & t\\_x\\_16 & t\\_x\\_21 & t\\_x\\_5 & t\\_x\\_y & wholedup & complex & eln\\_2017 & nejm & AMLID & dead60 & MRDgp1 & MRDgp2 & CRby1 & CRby2 & MRD1 & MRD2 & LAIPdetection1 & LAIPvalue1 & Sample1 & DiagnosticLAIPscreening & LAIPdetection2 & LAIPvalue2 & Sample2 & LAIPassessed1 & LAIPassessed2 & trial.y & sample\\_pd.y & OS\\_randomization & DEADStatus & RFSyears & RFSStatus & RelapseCIStatus & DaystoFirstCR & CODCause & OS\\_CR & MRD\\_Status & MRD\\_relapse & MRD\\_relapse\\_status & CRdate & randDate\\_PB & CRDate\\_PB & relapseDate\\_PB & boneDate\\_PB & longCR\\_PB & FLT3\\_ITD\\_New & FLT3\\_ITD\\_Value\\_New & NoMatchFLT3\\\\\n",
       " <int> & <chr> & <chr> & <chr> & <int> & <int> & <int> & <int> & <int> & <int> & <int> & <int> & <int> & <int> & <int> & <int> & <int> & <int> & <int> & <int> & <int> & <int> & <int> & <int> & <int> & <int> & <int> & <int> & <int> & <int> & <int> & <int> & <int> & <int> & <int> & <int> & <int> & <int> & <int> & <int> & <int> & <int> & <int> & <int> & <int> & <int> & <int> & <int> & <int> & <int> & <int> & <int> & <int> & <int> & <int> & <int> & <int> & <int> & <int> & <int> & <int> & <int> & <int> & <int> & <int> & <int> & <int> & <int> & <int> & <int> & <int> & <int> & <int> & <int> & <int> & <int> & <int> & <int> & <int> & <int> & <int> & <int> & <int> & <int> & <int> & <int> & <int> & <int> & <chr> & <int> & <dbl> & <chr> & <int> & <int> & <int> & <dbl> & <dbl> & <dbl> & <dbl> & <dbl> & <int> & <int> & <int> & <int> & <int> & <int> & <int> & <int> & <int> & <int> & <int> & <int> & <int> & <int> & <int> & <int> & <int> & <int> & <int> & <int> & <int> & <int> & <dbl> & <int> & <chr> & <chr> & <int> & <int> & <int> & <int> & <int> & <int> & <int> & <int> & <int> & <int> & <int> & <int> & <int> & <int> & <int> & <int> & <int> & <int> & <int> & <int> & <int> & <int> & <int> & <int> & <int> & <int> & <int> & <int> & <int> & <int> & <int> & <int> & <int> & <int> & <int> & <int> & <int> & <int> & <int> & <int> & <int> & <int> & <int> & <int> & <int> & <int> & <int> & <int> & <int> & <int> & <int> & <int> & <int> & <int> & <int> & <int> & <int> & <int> & <int> & <int> & <int> & <int> & <int> & <int> & <int> & <int> & <int> & <int> & <int> & <int> & <int> & <int> & <int> & <int> & <int> & <int> & <int> & <int> & <int> & <int> & <int> & <int> & <int> & <int> & <int> & <int> & <int> & <int> & <int> & <int> & <int> & <int> & <int> & <int> & <int> & <int> & <int> & <int> & <int> & <int> & <int> & <int> & <int> & <int> & <int> & <int> & <int> & <int> & <int> & <int> & <int> & <int> & <int> & <int> & <int> & <int> & <int> & <int> & <int> & <int> & <int> & <int> & <int> & <int> & <int> & <int> & <int> & <int> & <int> & <int> & <int> & <int> & <int> & <int> & <int> & <int> & <int> & <int> & <int> & <int> & <int> & <int> & <int> & <int> & <int> & <int> & <int> & <int> & <int> & <int> & <int> & <int> & <int> & <int> & <int> & <int> & <int> & <int> & <int> & <int> & <int> & <int> & <int> & <int> & <int> & <int> & <int> & <int> & <int> & <int> & <int> & <int> & <int> & <int> & <int> & <int> & <int> & <int> & <int> & <int> & <int> & <int> & <int> & <int> & <int> & <int> & <int> & <int> & <int> & <int> & <int> & <int> & <int> & <int> & <int> & <int> & <int> & <int> & <int> & <int> & <int> & <int> & <int> & <int> & <int> & <int> & <int> & <int> & <int> & <int> & <int> & <int> & <int> & <int> & <int> & <int> & <int> & <int> & <int> & <int> & <int> & <int> & <int> & <int> & <int> & <int> & <int> & <int> & <int> & <int> & <int> & <int> & <int> & <int> & <int> & <int> & <int> & <int> & <int> & <int> & <int> & <int> & <int> & <int> & <int> & <int> & <int> & <int> & <int> & <int> & <int> & <int> & <int> & <int> & <int> & <int> & <int> & <int> & <int> & <int> & <int> & <int> & <int> & <int> & <int> & <int> & <int> & <int> & <int> & <int> & <int> & <int> & <int> & <int> & <int> & <int> & <int> & <int> & <int> & <int> & <int> & <int> & <int> & <int> & <int> & <int> & <int> & <int> & <int> & <int> & <int> & <int> & <int> & <int> & <int> & <int> & <int> & <int> & <int> & <int> & <int> & <int> & <int> & <int> & <int> & <int> & <int> & <int> & <int> & <int> & <int> & <int> & <int> & <int> & <int> & <int> & <int> & <int> & <int> & <int> & <int> & <int> & <int> & <int> & <int> & <int> & <int> & <int> & <int> & <int> & <int> & <int> & <int> & <int> & <int> & <int> & <int> & <int> & <int> & <int> & <int> & <int> & <int> & <int> & <int> & <int> & <int> & <int> & <int> & <int> & <int> & <int> & <int> & <int> & <int> & <chr> & <chr> & <chr> & <int> & <chr> & <chr> & <chr> & <chr> & <chr> & <chr> & <chr> & <dbl> & <chr> & <chr> & <chr> & <dbl> & <chr> & <chr> & <chr> & <chr> & <chr> & <dbl> & <int> & <dbl> & <int> & <int> & <int> & <chr> & <dbl> & <int> & <dbl> & <int> & <chr> & <int> & <int> & <int> & <int> & <int> & <int> & <dbl> & <chr>\\\\\n",
       "\\hline\n",
       "\t 1 & 11-3496 & PD20338c & PD20338c & 0 & 0 & 0 & 0 & 0 & 0 & 0 & 0 & 0 & 0 & 0 & 0 & 0 & 0 & 0 & 0 & 0 & 0 & 0 & 0 & 0 & 0 & 0 & 0 & 0 & 0 & 0 & 0 & 0 & 0 & 0 & 0 & 1 & 0 & 0 & 0 & 0 & 0 & 0 & 0 & 0 & 0 & 0 & 0 & 0 & 0 & 0 & 0 & 0 & 0 & 0 & 1 & 0 & 0 & 0 & 0 & 0 & 0 & 0 & 0 & 0 & 0 & 0 & 0 & 0 & 0 & 0 & 0 & 0 & 0 & 0 & 0 & 0 & 0 & 0 & 0 & 0 & 0 & 0 & 0 & 0 & 0 & 0 & 6 & 1994-01-02 & 1 & 58.47775 &  & 1 & 1 & 1 &  39.0 &  7.699997 &  10 & 98 & NA & 1 & 110061 & NA & NA & NA & NA & NA & NA & NA & NA & NA & NA & NA & NA & NA & NA & NA & NA & NA & NA &  1 & 1 & 2.00684463 & 1 & NONE & NONE & 0 & 0 & 0 & 0 & 0 & 0 & 0 & 0 & 0 & 0 & 0 & 0 & 0 & 0 & 0 & 0 & 0 & 0 & 0 & 0 & 0 & 0 & 0 & 0 & 0 & 0 & 0 & 0 & 0 & 0 & 0 & 0 & 0 & 0 & 0 & 0 & 0 & 0 & 0 & 0 & 0 & 0 & 0 & 0 & 0 & 0 & 0 & 0 & 0 & 0 & 0 & 0 & 0 & 0 & 0 & 0 & 0 & 0 & 0 & 0 & 0 & 0 & 0 & 0 & 0 & 0 & 0 & 0 & 0 & 0 & 0 & 0 & 0 & 0 & 0 & 0 & 0 & 0 & 0 & 0 & 0 & 0 & 0 & 0 & 0 & 0 & 0 & 0 & 0 & 0 & 0 & 0 & 0 & 0 & 0 & 0 & 0 & 0 & 0 & 0 & 0 & 0 & 0 & 0 & 0 & 0 & 0 & 0 & 0 & 0 & 0 & 0 & 0 & 0 & 0 & 0 & 0 & 0 & 0 & 0 & 0 & 0 & 0 & 0 & 0 & 0 & 0 & 0 & 0 & 0 & 0 & 0 & 0 & 0 & 0 & 0 & 0 & 0 & 0 & 0 & 0 & 0 & 0 & 0 & 0 & 0 & 0 & 0 & 0 & 0 & 0 & 0 & 0 & 0 & 0 & 0 & 0 & 0 & 0 & 0 & 0 & 0 & 0 & 0 & 0 & 0 & 0 & 0 & 0 & 0 & 0 & 0 & 0 & 0 & 0 & 0 & 0 & 0 & 0 & 0 & 0 & 0 & 0 & 0 & 0 & 0 & 0 & 0 & 0 & 0 & 0 & 0 & 0 & 0 & 0 & 0 & 0 & 0 & 0 & 0 & 0 & 0 & 0 & 0 & 0 & 0 & 0 & 0 & 0 & 0 & 0 & 0 & 0 & 0 & 0 & 0 & 0 & 0 & 0 & 0 & 0 & 0 & 0 & 0 & 0 & 0 & 0 & 0 & 0 & 0 & 0 & 0 & 0 & 0 & 0 & 0 & 0 & 0 & 0 & 0 & 0 & 0 & 0 & 0 & 0 & 0 & 0 & 0 & 0 & 0 & 0 & 0 & 0 & 0 & 0 & 0 & 0 & 0 & 0 & 0 & 0 & 0 & 0 & 0 & 0 & 0 & 0 & 0 & 0 & 0 & 0 & 0 & 0 & 0 & 0 & 0 & 0 & 0 & 0 & 0 & 0 & 0 & 0 & 0 & 0 & 0 & 0 & 0 & 0 & 0 & 0 & 0 & 0 & 0 & 0 & 0 & 0 & 0 & 0 & 0 & 0 & 0 & 0 & 0 & 0 & 0 & 0 & 0 & 0 & 0 & 0 & 0 & 0 & 0 & 0 & 0 & 0 & 0 & 0 & 0 & 0 & 0 & 0 & 0 & 0 & 0 & 0 & 0 & 0 & 0 & 0 & 0 & 0 & 0 & 0 & 0 & 0 & 0 & 0 & 0 & 0 & 0 & 0 & 0 & 0 & 0 & 0 & 0 & 0 & 0 & 0 & 0 & 0 & 0 & 0 & favorable    & NPM1                                  & NA & NA & NA & NA & NA & NA & NA & NA & NA & NA & NA & NA & NA & NA & NA & NA & NA & NA & NA & 2.00821900 & 1 & 1.7260270 & 1 & 1 & 27 & INFECTION      & 1.9329230 & 1 & 1.7248460 & 1 & 1994-02-28 & 0 & 0 & 0 & 0 & 0 & NA & NA & Missing\\\\\n",
       "\t 2 & 11-3807 & PD20337c & PD20337c & 0 & 0 & 0 & 0 & 0 & 0 & 0 & 0 & 0 & 0 & 0 & 0 & 0 & 0 & 0 & 0 & 0 & 0 & 0 & 1 & 0 & 0 & 0 & 0 & 0 & 0 & 0 & 0 & 0 & 0 & 0 & 0 & 0 & 1 & 0 & 0 & 0 & 0 & 0 & 0 & 0 & 0 & 0 & 0 & 0 & 0 & 0 & 0 & 0 & 0 & 0 & 0 & 0 & 0 & 0 & 0 & 0 & 0 & 0 & 0 & 0 & 0 & 0 & 0 & 0 & 0 & 0 & 0 & 0 & 0 & 0 & 0 & 0 & 0 & 0 & 0 & 0 & 0 & 0 & 0 & 0 & 0 & 0 & 6 & 1995-09-08 & 0 & 72.43258 &  & 1 & 0 & 1 &   1.5 & 13.500000 &  75 & 75 & NA & 1 & 110054 & NA & NA & NA & NA & NA & NA & NA & NA & NA & NA & NA & NA & NA & NA & NA & NA & NA & NA & 10 & 0 & 0.09308693 & 1 & NONE & NONE & 0 & 0 & 0 & 0 & 0 & 0 & 0 & 0 & 0 & 0 & 0 & 0 & 0 & 0 & 0 & 0 & 0 & 0 & 0 & 0 & 0 & 0 & 0 & 0 & 0 & 0 & 0 & 0 & 0 & 0 & 0 & 0 & 0 & 0 & 0 & 0 & 0 & 0 & 0 & 0 & 0 & 0 & 0 & 0 & 0 & 0 & 0 & 0 & 0 & 0 & 0 & 0 & 0 & 0 & 0 & 0 & 0 & 0 & 0 & 0 & 0 & 0 & 0 & 0 & 0 & 0 & 0 & 0 & 0 & 0 & 0 & 0 & 0 & 0 & 0 & 0 & 0 & 0 & 0 & 0 & 0 & 0 & 0 & 0 & 0 & 0 & 0 & 0 & 0 & 0 & 0 & 0 & 0 & 0 & 0 & 0 & 0 & 0 & 0 & 0 & 0 & 0 & 0 & 0 & 0 & 0 & 0 & 0 & 0 & 0 & 0 & 0 & 0 & 0 & 0 & 0 & 0 & 0 & 0 & 0 & 0 & 0 & 0 & 0 & 0 & 0 & 0 & 0 & 0 & 0 & 0 & 0 & 0 & 0 & 0 & 0 & 0 & 0 & 0 & 0 & 0 & 0 & 0 & 0 & 0 & 0 & 0 & 0 & 0 & 0 & 0 & 0 & 0 & 0 & 0 & 0 & 0 & 0 & 0 & 0 & 0 & 0 & 0 & 0 & 0 & 0 & 0 & 0 & 0 & 0 & 0 & 0 & 0 & 0 & 0 & 0 & 0 & 0 & 0 & 0 & 0 & 0 & 0 & 0 & 0 & 0 & 0 & 0 & 0 & 0 & 0 & 0 & 0 & 0 & 0 & 0 & 0 & 0 & 0 & 0 & 0 & 0 & 0 & 0 & 0 & 0 & 0 & 0 & 0 & 0 & 0 & 0 & 0 & 0 & 0 & 0 & 0 & 0 & 0 & 0 & 0 & 0 & 0 & 0 & 0 & 0 & 0 & 0 & 0 & 0 & 0 & 0 & 0 & 0 & 0 & 0 & 0 & 0 & 0 & 0 & 0 & 0 & 0 & 0 & 0 & 0 & 0 & 0 & 0 & 0 & 0 & 0 & 0 & 0 & 0 & 0 & 0 & 0 & 0 & 0 & 0 & 0 & 0 & 0 & 0 & 0 & 0 & 0 & 0 & 0 & 0 & 0 & 0 & 0 & 0 & 0 & 0 & 0 & 0 & 0 & 0 & 0 & 0 & 0 & 0 & 0 & 0 & 0 & 0 & 0 & 0 & 0 & 0 & 0 & 0 & 0 & 0 & 0 & 0 & 0 & 0 & 0 & 0 & 0 & 0 & 0 & 0 & 0 & 0 & 0 & 0 & 0 & 0 & 0 & 0 & 0 & 0 & 0 & 0 & 0 & 0 & 0 & 0 & 0 & 0 & 0 & 0 & 0 & 0 & 0 & 0 & 0 & 0 & 0 & 0 & 0 & 0 & 0 & 0 & 0 & 0 & 0 & 0 & 0 & 0 & 0 & 0 & 0 & 0 & 0 & 0 & 0 & 0 & 0 & 0 & intermediate & IDH2\\_R172                             & NA & NA & NA & NA & NA & NA & NA & NA & NA & NA & NA & NA & NA & NA & NA & NA & NA & NA & NA & 0.09315068 & 1 &        NA & 1 & 2 & NA & RESISTANT DIS  &        NA & 1 &        NA & 1 & NA         & 0 & 0 & 0 & 0 & 0 & NA & NA & Missing\\\\\n",
       "\t 3 & 11-3885 & PD20336a & PD20336a & 0 & 0 & 0 & 0 & 0 & 0 & 0 & 0 & 0 & 0 & 0 & 0 & 0 & 0 & 0 & 0 & 0 & 0 & 0 & 0 & 0 & 0 & 0 & 0 & 1 & 0 & 0 & 0 & 0 & 0 & 0 & 0 & 0 & 0 & 0 & 0 & 0 & 1 & 0 & 0 & 0 & 0 & 0 & 0 & 0 & 0 & 0 & 0 & 0 & 0 & 0 & 0 & 0 & 0 & 0 & 0 & 0 & 0 & 0 & 0 & 0 & 0 & 0 & 0 & 0 & 1 & 0 & 0 & 0 & 1 & 0 & 1 & 0 & 0 & 0 & 0 & 0 & 0 & 0 & 1 & 0 & 0 & 0 & 6 & 1995-12-18 & 0 & 61.67830 &  & 1 & 0 & 1 & 130.0 &  8.500000 & 135 & NA & NA & 1 & 110036 & NA & NA & NA & NA & NA & NA & NA & NA & NA & NA & NA & NA & NA & NA & NA & NA & NA & NA &  3 & 0 & 0.68172485 & 1 & NONE & NONE & 0 & 0 & 0 & 0 & 0 & 0 & 0 & 0 & 0 & 0 & 0 & 0 & 0 & 0 & 0 & 0 & 0 & 0 & 0 & 0 & 0 & 0 & 0 & 0 & 0 & 0 & 0 & 0 & 0 & 0 & 0 & 0 & 0 & 0 & 0 & 0 & 0 & 0 & 0 & 0 & 0 & 0 & 0 & 0 & 0 & 0 & 0 & 0 & 0 & 0 & 0 & 0 & 0 & 0 & 0 & 0 & 0 & 0 & 0 & 0 & 0 & 0 & 0 & 0 & 0 & 0 & 0 & 0 & 0 & 0 & 0 & 0 & 0 & 0 & 0 & 0 & 0 & 0 & 0 & 0 & 0 & 0 & 0 & 0 & 0 & 0 & 0 & 0 & 0 & 0 & 0 & 0 & 0 & 0 & 0 & 0 & 0 & 0 & 0 & 0 & 0 & 0 & 0 & 0 & 0 & 0 & 0 & 0 & 0 & 0 & 0 & 0 & 0 & 0 & 0 & 0 & 0 & 0 & 0 & 0 & 0 & 0 & 0 & 0 & 0 & 0 & 0 & 0 & 0 & 0 & 0 & 0 & 0 & 0 & 0 & 0 & 0 & 0 & 0 & 0 & 0 & 0 & 0 & 0 & 0 & 0 & 0 & 0 & 0 & 0 & 0 & 0 & 0 & 0 & 0 & 0 & 0 & 0 & 0 & 0 & 0 & 0 & 0 & 0 & 0 & 0 & 0 & 0 & 0 & 0 & 0 & 0 & 0 & 0 & 0 & 0 & 0 & 0 & 0 & 0 & 0 & 0 & 0 & 0 & 0 & 0 & 0 & 0 & 0 & 0 & 0 & 0 & 0 & 0 & 0 & 0 & 0 & 0 & 0 & 0 & 0 & 0 & 0 & 0 & 0 & 0 & 0 & 0 & 0 & 0 & 0 & 0 & 0 & 0 & 0 & 0 & 0 & 0 & 0 & 0 & 0 & 0 & 0 & 0 & 0 & 0 & 0 & 0 & 0 & 0 & 0 & 0 & 0 & 0 & 0 & 0 & 0 & 0 & 0 & 0 & 0 & 0 & 0 & 0 & 0 & 0 & 0 & 0 & 0 & 0 & 0 & 0 & 0 & 0 & 0 & 0 & 0 & 0 & 0 & 0 & 0 & 0 & 0 & 0 & 0 & 0 & 0 & 0 & 0 & 0 & 0 & 0 & 0 & 0 & 0 & 0 & 0 & 0 & 0 & 0 & 0 & 0 & 0 & 0 & 0 & 0 & 0 & 0 & 0 & 0 & 0 & 0 & 0 & 0 & 0 & 0 & 0 & 0 & 0 & 0 & 0 & 0 & 0 & 0 & 0 & 0 & 0 & 0 & 0 & 0 & 0 & 0 & 0 & 0 & 0 & 0 & 0 & 0 & 0 & 0 & 0 & 0 & 0 & 0 & 0 & 0 & 0 & 0 & 0 & 0 & 0 & 0 & 0 & 0 & 0 & 0 & 0 & 0 & 0 & 0 & 0 & 0 & 0 & 0 & 0 & 0 & 0 & 0 & 0 & 0 & 0 & 0 & 0 & 0 & 0 & adverse      & Chromatin\\_spliceosome-TP53\\_aneuploidy & NA & NA & NA & NA & NA & NA & NA & NA & NA & NA & NA & NA & NA & NA & NA & NA & NA & NA & NA & 0.68219180 & 1 &        NA & 1 & 2 & NA & INFECT + HAEM  &        NA & 1 &        NA & 1 & NA         & 0 & 0 & 0 & 0 & 0 & NA & NA & Missing\\\\\n",
       "\t 4 & 11-4052 & PD20335c & PD20335c & 0 & 0 & 0 & 0 & 0 & 0 & 0 & 0 & 0 & 0 & 0 & 0 & 0 & 0 & 0 & 0 & 0 & 0 & 0 & 0 & 0 & 0 & 0 & 0 & 0 & 0 & 0 & 0 & 0 & 0 & 0 & 0 & 0 & 0 & 0 & 0 & 0 & 0 & 0 & 0 & 0 & 0 & 0 & 0 & 0 & 0 & 0 & 0 & 0 & 0 & 0 & 1 & 0 & 0 & 0 & 0 & 0 & 0 & 0 & 0 & 0 & 0 & 0 & 0 & 0 & 0 & 0 & 0 & 0 & 0 & 0 & 0 & 0 & 0 & 1 & 0 & 0 & 0 & 1 & 0 & 0 & 0 & 0 & 6 & 1996-11-14 & 1 & 68.28747 &  & 1 & 0 & 1 &  32.0 &  8.699997 &  55 & 98 & NA & 1 & 110045 & NA & NA & NA & NA & NA & NA & NA & NA & NA & NA & NA & NA & NA & NA & NA & NA & NA & NA &  1 & 0 & 0.05201916 & 1 & NONE & NONE & 0 & 0 & 0 & 0 & 0 & 0 & 0 & 0 & 0 & 0 & 0 & 0 & 0 & 0 & 0 & 0 & 0 & 0 & 0 & 0 & 0 & 0 & 0 & 0 & 0 & 0 & 0 & 0 & 0 & 0 & 0 & 0 & 0 & 0 & 0 & 0 & 0 & 0 & 0 & 0 & 0 & 0 & 0 & 0 & 0 & 0 & 0 & 0 & 0 & 0 & 0 & 0 & 0 & 0 & 0 & 0 & 0 & 0 & 0 & 0 & 0 & 0 & 0 & 0 & 0 & 0 & 0 & 0 & 0 & 0 & 0 & 0 & 0 & 0 & 0 & 0 & 0 & 0 & 0 & 0 & 0 & 0 & 0 & 0 & 0 & 0 & 0 & 0 & 0 & 0 & 0 & 0 & 0 & 0 & 0 & 0 & 0 & 0 & 0 & 0 & 0 & 0 & 0 & 0 & 0 & 0 & 0 & 0 & 0 & 0 & 0 & 0 & 0 & 0 & 0 & 0 & 0 & 0 & 0 & 0 & 0 & 0 & 0 & 0 & 0 & 0 & 0 & 0 & 0 & 0 & 0 & 0 & 0 & 0 & 0 & 0 & 0 & 0 & 0 & 0 & 0 & 0 & 0 & 0 & 0 & 0 & 0 & 0 & 0 & 0 & 0 & 0 & 0 & 0 & 0 & 0 & 0 & 0 & 0 & 0 & 0 & 0 & 0 & 0 & 0 & 0 & 0 & 0 & 0 & 0 & 0 & 0 & 0 & 0 & 0 & 0 & 0 & 0 & 0 & 0 & 0 & 0 & 0 & 0 & 0 & 0 & 0 & 0 & 0 & 0 & 0 & 0 & 0 & 0 & 0 & 0 & 0 & 0 & 0 & 0 & 0 & 0 & 0 & 0 & 0 & 0 & 0 & 0 & 0 & 0 & 0 & 0 & 0 & 0 & 0 & 0 & 0 & 0 & 0 & 0 & 0 & 0 & 0 & 0 & 0 & 0 & 0 & 0 & 0 & 0 & 0 & 0 & 0 & 0 & 0 & 0 & 0 & 0 & 0 & 0 & 0 & 0 & 0 & 0 & 0 & 0 & 0 & 0 & 0 & 0 & 0 & 0 & 0 & 0 & 0 & 0 & 0 & 0 & 0 & 0 & 0 & 0 & 0 & 0 & 0 & 0 & 0 & 0 & 0 & 0 & 0 & 0 & 0 & 0 & 0 & 0 & 0 & 0 & 0 & 0 & 0 & 0 & 0 & 0 & 0 & 0 & 0 & 0 & 0 & 0 & 0 & 0 & 0 & 0 & 0 & 0 & 0 & 0 & 0 & 0 & 0 & 0 & 0 & 0 & 0 & 0 & 0 & 0 & 0 & 0 & 0 & 0 & 0 & 0 & 0 & 0 & 0 & 0 & 0 & 0 & 0 & 0 & 0 & 0 & 0 & 0 & 0 & 0 & 0 & 0 & 0 & 0 & 0 & 0 & 0 & 0 & 0 & 0 & 0 & 0 & 0 & 0 & 0 & 0 & 0 & 0 & 0 & 0 & 0 & 0 & 0 & 0 & 0 & 0 & 0 & favorable    & NPM1                                  & NA & NA & NA & NA & NA & NA & NA & NA & NA & NA & NA & NA & NA & NA & NA & NA & NA & NA & NA & 0.05205479 & 1 &        NA & 1 & 2 & NA & INFECTION      &        NA & 1 &        NA & 1 & NA         & 0 & 0 & 0 & 0 & 0 & NA & NA & Missing\\\\\n",
       "\t 5 & 11-4169 & PD20334a & PD20334a & 0 & 0 & 0 & 0 & 0 & 0 & 0 & 0 & 0 & 0 & 0 & 1 & 0 & 0 & 0 & 0 & 0 & 0 & 0 & 0 & 0 & 0 & 0 & 0 & 1 & 0 & 0 & 0 & 0 & 0 & 0 & 0 & 0 & 0 & 0 & 0 & 0 & 0 & 0 & 0 & 0 & 0 & 0 & 0 & 0 & 1 & 0 & 0 & 0 & 0 & 0 & 0 & 0 & 0 & 0 & 0 & 0 & 0 & 0 & 0 & 0 & 0 & 0 & 0 & 0 & 1 & 0 & 0 & 0 & 0 & 0 & 0 & 0 & 0 & 0 & 0 & 0 & 0 & 1 & 0 & 0 & 1 & 0 & 6 & 1997-06-18 & 1 & 62.16290 &  & 1 & 1 & 1 & 118.0 &  6.699997 &  21 & NA & NA & 1 & 110058 & NA & NA & NA & NA & NA & NA & NA & NA & NA & NA & NA & NA & NA & NA & NA & NA & NA & NA &  5 & 1 & 0.68172485 & 1 & NONE & NONE & 0 & 0 & 0 & 0 & 0 & 0 & 0 & 0 & 0 & 0 & 0 & 0 & 0 & 0 & 0 & 0 & 0 & 0 & 0 & 0 & 0 & 0 & 0 & 0 & 0 & 0 & 0 & 0 & 0 & 0 & 0 & 0 & 0 & 0 & 0 & 0 & 0 & 0 & 0 & 0 & 0 & 0 & 0 & 0 & 0 & 0 & 0 & 0 & 0 & 0 & 0 & 0 & 0 & 0 & 0 & 0 & 0 & 0 & 0 & 0 & 0 & 0 & 0 & 0 & 0 & 0 & 0 & 0 & 0 & 0 & 0 & 0 & 0 & 0 & 0 & 0 & 0 & 0 & 0 & 0 & 0 & 0 & 0 & 0 & 0 & 0 & 0 & 0 & 0 & 0 & 0 & 0 & 0 & 0 & 0 & 0 & 0 & 0 & 0 & 0 & 0 & 0 & 0 & 0 & 0 & 0 & 0 & 0 & 0 & 0 & 0 & 0 & 0 & 0 & 0 & 0 & 0 & 0 & 0 & 0 & 0 & 0 & 0 & 0 & 0 & 0 & 0 & 0 & 0 & 0 & 0 & 0 & 0 & 0 & 0 & 0 & 0 & 0 & 0 & 0 & 0 & 0 & 0 & 0 & 0 & 0 & 0 & 0 & 0 & 0 & 0 & 0 & 0 & 0 & 0 & 0 & 0 & 0 & 0 & 0 & 0 & 0 & 0 & 0 & 0 & 0 & 0 & 0 & 0 & 0 & 0 & 0 & 0 & 0 & 0 & 0 & 0 & 0 & 0 & 0 & 0 & 0 & 0 & 0 & 0 & 0 & 0 & 0 & 0 & 0 & 0 & 0 & 0 & 0 & 0 & 0 & 0 & 0 & 0 & 0 & 0 & 0 & 0 & 0 & 0 & 0 & 0 & 0 & 0 & 0 & 0 & 0 & 0 & 0 & 0 & 0 & 0 & 0 & 0 & 0 & 0 & 0 & 0 & 0 & 0 & 0 & 0 & 0 & 0 & 0 & 0 & 0 & 0 & 0 & 0 & 0 & 0 & 0 & 0 & 0 & 0 & 0 & 0 & 0 & 0 & 0 & 0 & 0 & 0 & 0 & 0 & 0 & 0 & 0 & 0 & 0 & 0 & 0 & 0 & 0 & 0 & 0 & 0 & 0 & 0 & 0 & 0 & 0 & 0 & 0 & 0 & 0 & 0 & 0 & 0 & 0 & 0 & 0 & 0 & 0 & 0 & 0 & 0 & 0 & 0 & 0 & 0 & 0 & 0 & 0 & 0 & 0 & 0 & 0 & 0 & 0 & 0 & 0 & 0 & 0 & 0 & 0 & 0 & 0 & 0 & 0 & 0 & 0 & 0 & 0 & 0 & 0 & 0 & 0 & 0 & 0 & 0 & 0 & 0 & 0 & 0 & 0 & 0 & 0 & 0 & 0 & 0 & 0 & 0 & 0 & 0 & 0 & 0 & 0 & 0 & 0 & 0 & 0 & 0 & 0 & 0 & 0 & 0 & 0 & 0 & 0 & 0 & 0 & 0 & 0 & 0 & 0 & 0 & 0 & 0 & adverse      & Chromatin\\_spliceosome                 & NA & NA & NA & NA & NA & NA & NA & NA & NA & NA & NA & NA & NA & NA & NA & NA & NA & NA & NA & 0.68219180 & 1 & 0.4109589 & 1 & 1 & 27 & RECURRENT LEUK & 0.6078029 & 1 & 0.4106776 & 1 & 1997-07-15 & 0 & 0 & 0 & 0 & 0 & NA & NA & Missing\\\\\n",
       "\t 6 & 12-5272 & PD20333c & PD20333c & 0 & 0 & 0 & 0 & 0 & 0 & 0 & 0 & 0 & 0 & 1 & 0 & 0 & 0 & 0 & 0 & 0 & 0 & 0 & 0 & 0 & 0 & 0 & 0 & 0 & 0 & 0 & 0 & 1 & 0 & 0 & 0 & 0 & 0 & 0 & 0 & 0 & 0 & 0 & 0 & 0 & 0 & 0 & 0 & 0 & 0 & 0 & 0 & 0 & 0 & 0 & 0 & 0 & 0 & 0 & 0 & 0 & 0 & 0 & 0 & 0 & 0 & 0 & 0 & 0 & 0 & 0 & 0 & 0 & 0 & 0 & 0 & 0 & 0 & 0 & 0 & 0 & 0 & 0 & 0 & 0 & 0 & 0 & 7 & 1995-03-11 & 1 & 51.45243 &  & 1 & 0 & 1 &  12.9 & 12.299995 &  16 & 86 & NA & 1 &     NA & NA & NA & NA & NA & NA & NA & NA & NA & NA & NA & NA & NA & NA & NA & NA & NA & NA & NA &  5 & 1 & 1.79329227 & 1 & NONE & NONE & 0 & 0 & 0 & 0 & 0 & 0 & 0 & 0 & 0 & 0 & 0 & 0 & 0 & 0 & 0 & 0 & 0 & 0 & 0 & 0 & 0 & 0 & 0 & 0 & 0 & 0 & 0 & 0 & 0 & 0 & 0 & 0 & 0 & 0 & 0 & 0 & 0 & 0 & 0 & 0 & 0 & 0 & 0 & 0 & 0 & 0 & 0 & 0 & 0 & 0 & 0 & 0 & 0 & 0 & 0 & 0 & 0 & 0 & 0 & 0 & 0 & 0 & 0 & 0 & 0 & 0 & 0 & 0 & 0 & 0 & 0 & 0 & 0 & 0 & 0 & 0 & 0 & 0 & 0 & 0 & 0 & 0 & 0 & 0 & 0 & 0 & 0 & 0 & 0 & 0 & 0 & 0 & 0 & 0 & 0 & 0 & 0 & 0 & 0 & 0 & 0 & 0 & 0 & 0 & 0 & 0 & 0 & 0 & 0 & 0 & 0 & 0 & 0 & 0 & 0 & 0 & 0 & 0 & 0 & 0 & 0 & 0 & 0 & 0 & 0 & 0 & 0 & 0 & 0 & 0 & 0 & 0 & 0 & 0 & 0 & 0 & 0 & 0 & 0 & 0 & 0 & 0 & 0 & 0 & 0 & 0 & 0 & 0 & 0 & 0 & 0 & 0 & 0 & 0 & 0 & 0 & 0 & 0 & 0 & 0 & 0 & 0 & 0 & 0 & 0 & 0 & 0 & 0 & 0 & 0 & 0 & 0 & 0 & 0 & 0 & 0 & 0 & 0 & 0 & 0 & 0 & 0 & 0 & 0 & 0 & 0 & 0 & 0 & 0 & 0 & 0 & 0 & 0 & 0 & 0 & 0 & 0 & 0 & 0 & 0 & 0 & 0 & 0 & 0 & 0 & 0 & 0 & 0 & 0 & 0 & 0 & 0 & 0 & 0 & 0 & 0 & 0 & 0 & 0 & 0 & 0 & 0 & 0 & 0 & 0 & 0 & 0 & 0 & 0 & 0 & 0 & 0 & 0 & 0 & 0 & 0 & 0 & 0 & 0 & 0 & 0 & 0 & 0 & 0 & 0 & 0 & 0 & 0 & 0 & 0 & 0 & 0 & 0 & 0 & 0 & 0 & 0 & 0 & 0 & 0 & 0 & 0 & 0 & 0 & 0 & 0 & 0 & 0 & 0 & 0 & 0 & 0 & 0 & 0 & 0 & 0 & 0 & 0 & 0 & 0 & 0 & 0 & 0 & 0 & 0 & 0 & 0 & 0 & 0 & 0 & 0 & 0 & 0 & 0 & 0 & 0 & 0 & 0 & 0 & 0 & 0 & 0 & 0 & 0 & 0 & 0 & 0 & 0 & 0 & 0 & 0 & 0 & 0 & 0 & 0 & 0 & 0 & 0 & 0 & 0 & 0 & 0 & 0 & 0 & 0 & 0 & 0 & 0 & 0 & 0 & 0 & 0 & 0 & 0 & 0 & 0 & 0 & 0 & 0 & 0 & 0 & 0 & 0 & 0 & 0 & 0 & 0 & 0 & 0 & 0 & 0 & 0 & 0 & 0 & 0 & favorable    & CEBPA\\_bi                              & NA & NA & NA & NA & NA & NA & NA & NA & NA & NA & NA & NA & NA & NA & NA & NA & NA & NA & NA & 1.79452100 & 1 & 0.6767123 & 1 & 1 & 88 & RECURRENT LEUK & 1.5523610 & 1 & 0.6762491 & 1 & 1996-01-30 & 0 & 0 & 0 & 0 & 0 & NA & NA & Missing\\\\\n",
       "\\end{tabular}\n"
      ],
      "text/markdown": [
       "\n",
       "A data.frame: 6 × 522\n",
       "\n",
       "| X &lt;int&gt; | donor_id &lt;chr&gt; | data_pd &lt;chr&gt; | sample_pd.x &lt;chr&gt; | ASXL1 &lt;int&gt; | ASXL2 &lt;int&gt; | ASXL3 &lt;int&gt; | ATRX &lt;int&gt; | BAGE3 &lt;int&gt; | BCOR &lt;int&gt; | BRAF &lt;int&gt; | CBFB &lt;int&gt; | CBL &lt;int&gt; | CDKN2A &lt;int&gt; | CEBPA_bi &lt;int&gt; | CEBPA_mono &lt;int&gt; | CNTN5 &lt;int&gt; | CREBBP &lt;int&gt; | CSF1R &lt;int&gt; | CSF3R &lt;int&gt; | CTCF &lt;int&gt; | CUL2 &lt;int&gt; | CUX1 &lt;int&gt; | DNMT3A &lt;int&gt; | EED &lt;int&gt; | ETV6 &lt;int&gt; | EZH2 &lt;int&gt; | FBXW7 &lt;int&gt; | FLT3_ITD &lt;int&gt; | FLT3_TKD &lt;int&gt; | FLT3_other &lt;int&gt; | GATA1 &lt;int&gt; | GATA2 &lt;int&gt; | GNAS &lt;int&gt; | GNB1 &lt;int&gt; | IDH1 &lt;int&gt; | IDH2_p.R140 &lt;int&gt; | IDH2_p.R172 &lt;int&gt; | JAK2 &lt;int&gt; | JAK3 &lt;int&gt; | KANSL1 &lt;int&gt; | KDM6A &lt;int&gt; | KIT &lt;int&gt; | KMT2C &lt;int&gt; | KMT2D &lt;int&gt; | KMT2E &lt;int&gt; | KRAS &lt;int&gt; | LUC7L2 &lt;int&gt; | MED12 &lt;int&gt; | MLL &lt;int&gt; | MPL &lt;int&gt; | MYC &lt;int&gt; | NF1 &lt;int&gt; | NFE2 &lt;int&gt; | NOTCH1 &lt;int&gt; | NPM1 &lt;int&gt; | NRAS_other &lt;int&gt; | NRAS_p.G12_13 &lt;int&gt; | NRAS_p.Q61_62 &lt;int&gt; | PDS5B &lt;int&gt; | PHF6 &lt;int&gt; | PPFIA2 &lt;int&gt; | PRPF8 &lt;int&gt; | PTEN &lt;int&gt; | PTPN11 &lt;int&gt; | PTPRF &lt;int&gt; | PTPRT &lt;int&gt; | RAD21 &lt;int&gt; | RIT1 &lt;int&gt; | RUNX1 &lt;int&gt; | S100B &lt;int&gt; | SETBP1 &lt;int&gt; | SF1 &lt;int&gt; | SF3B1 &lt;int&gt; | SMC1A &lt;int&gt; | SMC3 &lt;int&gt; | SMG1 &lt;int&gt; | SPP1 &lt;int&gt; | SRSF2 &lt;int&gt; | STAG2 &lt;int&gt; | STAT5B &lt;int&gt; | SUZ12 &lt;int&gt; | TET2 &lt;int&gt; | TP53 &lt;int&gt; | U2AF1 &lt;int&gt; | WT1 &lt;int&gt; | ZRSR2 &lt;int&gt; | trial.x &lt;int&gt; | date_entry &lt;chr&gt; | gender &lt;int&gt; | age &lt;dbl&gt; | ethnic &lt;chr&gt; | ahd &lt;int&gt; | perf_status &lt;int&gt; | secondary &lt;int&gt; | wbc &lt;dbl&gt; | hb &lt;dbl&gt; | plt &lt;dbl&gt; | bm_blasts &lt;dbl&gt; | neut &lt;dbl&gt; | intense &lt;int&gt; | trtcode &lt;int&gt; | acmarr &lt;int&gt; | acmcar &lt;int&gt; | acmhvd &lt;int&gt; | acmibd &lt;int&gt; | acmdia &lt;int&gt; | acmcvd &lt;int&gt; | acmpsy &lt;int&gt; | acmobe &lt;int&gt; | acminf &lt;int&gt; | acmrhe &lt;int&gt; | acmpep &lt;int&gt; | acmren &lt;int&gt; | acmpulmod &lt;int&gt; | acmpulsev &lt;int&gt; | acmpri &lt;int&gt; | acmhepmil &lt;int&gt; | acmhepsev &lt;int&gt; | acmoth &lt;int&gt; | cod &lt;int&gt; | cr &lt;int&gt; | os &lt;dbl&gt; | os_status &lt;int&gt; | pbmts &lt;chr&gt; | pbmty &lt;chr&gt; | t_v_11 &lt;int&gt; | add_10p &lt;int&gt; | add_10q &lt;int&gt; | add_11p &lt;int&gt; | add_11q &lt;int&gt; | add_12p &lt;int&gt; | add_12q &lt;int&gt; | add_13p &lt;int&gt; | add_13q &lt;int&gt; | add_14p &lt;int&gt; | add_14q &lt;int&gt; | add_15p &lt;int&gt; | add_15q &lt;int&gt; | add_16p &lt;int&gt; | add_16q &lt;int&gt; | add_17p &lt;int&gt; | add_17q &lt;int&gt; | add_18p &lt;int&gt; | add_18q &lt;int&gt; | add_19p &lt;int&gt; | add_19q &lt;int&gt; | add_1p &lt;int&gt; | add_1q &lt;int&gt; | add_20p &lt;int&gt; | add_20q &lt;int&gt; | add_21p &lt;int&gt; | add_21q &lt;int&gt; | add_22p &lt;int&gt; | add_22q &lt;int&gt; | add_2p &lt;int&gt; | add_2q &lt;int&gt; | add_3p &lt;int&gt; | add_3q &lt;int&gt; | add_4p &lt;int&gt; | add_4q &lt;int&gt; | add_5p &lt;int&gt; | add_5q &lt;int&gt; | add_6p &lt;int&gt; | add_6q &lt;int&gt; | add_7p &lt;int&gt; | add_7q &lt;int&gt; | add_8p &lt;int&gt; | add_8q &lt;int&gt; | add_9p &lt;int&gt; | add_9q &lt;int&gt; | add_xp &lt;int&gt; | add_xq &lt;int&gt; | complex_translocations &lt;int&gt; | del_10p &lt;int&gt; | del_10q &lt;int&gt; | del_11p &lt;int&gt; | del_11q &lt;int&gt; | del_12p &lt;int&gt; | del_12q &lt;int&gt; | del_13p &lt;int&gt; | del_13q &lt;int&gt; | del_14q &lt;int&gt; | del_15p &lt;int&gt; | del_15q &lt;int&gt; | del_16p &lt;int&gt; | del_16q &lt;int&gt; | del_17p &lt;int&gt; | del_17q &lt;int&gt; | del_18p &lt;int&gt; | del_18q &lt;int&gt; | del_19p &lt;int&gt; | del_19q &lt;int&gt; | del_1p &lt;int&gt; | del_1q &lt;int&gt; | del_20q &lt;int&gt; | del_21q &lt;int&gt; | del_22q &lt;int&gt; | del_2p &lt;int&gt; | del_2q &lt;int&gt; | ⋯ ⋯ | minus11 &lt;int&gt; | minus12 &lt;int&gt; | minus13 &lt;int&gt; | minus14 &lt;int&gt; | minus15 &lt;int&gt; | minus16 &lt;int&gt; | minus17 &lt;int&gt; | minus18 &lt;int&gt; | minus19 &lt;int&gt; | minus2 &lt;int&gt; | minus20 &lt;int&gt; | minus21 &lt;int&gt; | minus22 &lt;int&gt; | minus3 &lt;int&gt; | minus4 &lt;int&gt; | minus5 &lt;int&gt; | minus6 &lt;int&gt; | minus7 &lt;int&gt; | minus7. &lt;int&gt; | minus8 &lt;int&gt; | minus9 &lt;int&gt; | minusx &lt;int&gt; | minusy &lt;int&gt; | plus1 &lt;int&gt; | plus10 &lt;int&gt; | plus11 &lt;int&gt; | plus12 &lt;int&gt; | plus13 &lt;int&gt; | plus14 &lt;int&gt; | plus15 &lt;int&gt; | plus16 &lt;int&gt; | plus17 &lt;int&gt; | plus18 &lt;int&gt; | plus19 &lt;int&gt; | plus2 &lt;int&gt; | plus20 &lt;int&gt; | plus21 &lt;int&gt; | plus22 &lt;int&gt; | plus3 &lt;int&gt; | plus4 &lt;int&gt; | plus5 &lt;int&gt; | plus6 &lt;int&gt; | plus7 &lt;int&gt; | plus8 &lt;int&gt; | plus9 &lt;int&gt; | plusx &lt;int&gt; | plusy &lt;int&gt; | ring &lt;int&gt; | t_10_13 &lt;int&gt; | t_10_19 &lt;int&gt; | t_10_21 &lt;int&gt; | t_12_13 &lt;int&gt; | t_12_14 &lt;int&gt; | t_12_15 &lt;int&gt; | t_12_17 &lt;int&gt; | t_12_20 &lt;int&gt; | t_12_21 &lt;int&gt; | t_12_22 &lt;int&gt; | t_13_15 &lt;int&gt; | t_13_19 &lt;int&gt; | t_15_16 &lt;int&gt; | t_15_17 &lt;int&gt; | t_16_17 &lt;int&gt; | t_16_21 &lt;int&gt; | t_17_18 &lt;int&gt; | t_17_19 &lt;int&gt; | t_17_20 &lt;int&gt; | t_17_21 &lt;int&gt; | t_17_22 &lt;int&gt; | t_19_22 &lt;int&gt; | t_1_12 &lt;int&gt; | t_1_14 &lt;int&gt; | t_1_15 &lt;int&gt; | t_1_16 &lt;int&gt; | t_1_17 &lt;int&gt; | t_1_19 &lt;int&gt; | t_1_2 &lt;int&gt; | t_1_21 &lt;int&gt; | t_1_22 &lt;int&gt; | t_1_3 &lt;int&gt; | t_1_4 &lt;int&gt; | t_1_5 &lt;int&gt; | t_1_6 &lt;int&gt; | t_1_8 &lt;int&gt; | t_1_9 &lt;int&gt; | t_2_12 &lt;int&gt; | t_2_17 &lt;int&gt; | t_2_21 &lt;int&gt; | t_2_3 &lt;int&gt; | t_2_5 &lt;int&gt; | t_2_7 &lt;int&gt; | t_2_8 &lt;int&gt; | t_2_9 &lt;int&gt; | t_3_14 &lt;int&gt; | t_3_16 &lt;int&gt; | t_3_19 &lt;int&gt; | t_3_21 &lt;int&gt; | t_3_4 &lt;int&gt; | t_3_5 &lt;int&gt; | t_3_6 &lt;int&gt; | t_3_7 &lt;int&gt; | t_3_9 &lt;int&gt; | t_4_10 &lt;int&gt; | t_4_12 &lt;int&gt; | t_4_13 &lt;int&gt; | t_4_15 &lt;int&gt; | t_4_17 &lt;int&gt; | t_4_19 &lt;int&gt; | t_4_21 &lt;int&gt; | t_4_5 &lt;int&gt; | t_4_6 &lt;int&gt; | t_4_8 &lt;int&gt; | t_4_9 &lt;int&gt; | t_5_10 &lt;int&gt; | t_5_12 &lt;int&gt; | t_5_13 &lt;int&gt; | t_5_15 &lt;int&gt; | t_5_17 &lt;int&gt; | t_5_21 &lt;int&gt; | t_5_7 &lt;int&gt; | t_5_8 &lt;int&gt; | t_5_9 &lt;int&gt; | t_6_10 &lt;int&gt; | t_6_16 &lt;int&gt; | t_6_17 &lt;int&gt; | t_6_22 &lt;int&gt; | t_6_7 &lt;int&gt; | t_6_9 &lt;int&gt; | t_7_12 &lt;int&gt; | t_7_14 &lt;int&gt; | t_7_16 &lt;int&gt; | t_7_17 &lt;int&gt; | t_7_8 &lt;int&gt; | t_8_10 &lt;int&gt; | t_8_13 &lt;int&gt; | t_8_14 &lt;int&gt; | t_8_16 &lt;int&gt; | t_8_17 &lt;int&gt; | t_8_19 &lt;int&gt; | t_8_20 &lt;int&gt; | t_8_21 &lt;int&gt; | t_8_9 &lt;int&gt; | t_9_10 &lt;int&gt; | t_9_11 &lt;int&gt; | t_9_12 &lt;int&gt; | t_9_13 &lt;int&gt; | t_9_15 &lt;int&gt; | t_9_17 &lt;int&gt; | t_9_21 &lt;int&gt; | t_9_22 &lt;int&gt; | t_x_1 &lt;int&gt; | t_x_12 &lt;int&gt; | t_x_15 &lt;int&gt; | t_x_16 &lt;int&gt; | t_x_21 &lt;int&gt; | t_x_5 &lt;int&gt; | t_x_y &lt;int&gt; | wholedup &lt;int&gt; | complex &lt;int&gt; | eln_2017 &lt;chr&gt; | nejm &lt;chr&gt; | AMLID &lt;chr&gt; | dead60 &lt;int&gt; | MRDgp1 &lt;chr&gt; | MRDgp2 &lt;chr&gt; | CRby1 &lt;chr&gt; | CRby2 &lt;chr&gt; | MRD1 &lt;chr&gt; | MRD2 &lt;chr&gt; | LAIPdetection1 &lt;chr&gt; | LAIPvalue1 &lt;dbl&gt; | Sample1 &lt;chr&gt; | DiagnosticLAIPscreening &lt;chr&gt; | LAIPdetection2 &lt;chr&gt; | LAIPvalue2 &lt;dbl&gt; | Sample2 &lt;chr&gt; | LAIPassessed1 &lt;chr&gt; | LAIPassessed2 &lt;chr&gt; | trial.y &lt;chr&gt; | sample_pd.y &lt;chr&gt; | OS_randomization &lt;dbl&gt; | DEADStatus &lt;int&gt; | RFSyears &lt;dbl&gt; | RFSStatus &lt;int&gt; | RelapseCIStatus &lt;int&gt; | DaystoFirstCR &lt;int&gt; | CODCause &lt;chr&gt; | OS_CR &lt;dbl&gt; | MRD_Status &lt;int&gt; | MRD_relapse &lt;dbl&gt; | MRD_relapse_status &lt;int&gt; | CRdate &lt;chr&gt; | randDate_PB &lt;int&gt; | CRDate_PB &lt;int&gt; | relapseDate_PB &lt;int&gt; | boneDate_PB &lt;int&gt; | longCR_PB &lt;int&gt; | FLT3_ITD_New &lt;int&gt; | FLT3_ITD_Value_New &lt;dbl&gt; | NoMatchFLT3 &lt;chr&gt; |\n",
       "|---|---|---|---|---|---|---|---|---|---|---|---|---|---|---|---|---|---|---|---|---|---|---|---|---|---|---|---|---|---|---|---|---|---|---|---|---|---|---|---|---|---|---|---|---|---|---|---|---|---|---|---|---|---|---|---|---|---|---|---|---|---|---|---|---|---|---|---|---|---|---|---|---|---|---|---|---|---|---|---|---|---|---|---|---|---|---|---|---|---|---|---|---|---|---|---|---|---|---|---|---|---|---|---|---|---|---|---|---|---|---|---|---|---|---|---|---|---|---|---|---|---|---|---|---|---|---|---|---|---|---|---|---|---|---|---|---|---|---|---|---|---|---|---|---|---|---|---|---|---|---|---|---|---|---|---|---|---|---|---|---|---|---|---|---|---|---|---|---|---|---|---|---|---|---|---|---|---|---|---|---|---|---|---|---|---|---|---|---|---|---|---|---|---|---|---|---|---|---|---|---|---|---|---|---|---|---|---|---|---|---|---|---|---|---|---|---|---|---|---|---|---|---|---|---|---|---|---|---|---|---|---|---|---|---|---|---|---|---|---|---|---|---|---|---|---|---|---|---|---|---|---|---|---|---|---|---|---|---|---|---|---|---|---|---|---|---|---|---|---|---|---|---|---|---|---|---|---|---|---|---|---|---|---|---|---|---|---|---|---|---|---|---|---|---|---|---|---|---|---|---|---|---|---|---|---|---|---|---|---|---|---|---|---|---|---|---|---|---|---|---|---|---|---|---|---|---|---|---|---|---|---|---|---|---|---|---|---|---|---|---|---|---|---|---|---|---|---|---|---|---|---|---|---|---|---|---|---|---|---|---|---|---|---|---|---|---|---|---|---|---|---|---|---|---|---|---|---|---|---|---|---|---|---|---|---|---|---|---|---|---|---|---|---|---|---|---|---|---|---|---|\n",
       "| 1 | 11-3496 | PD20338c | PD20338c | 0 | 0 | 0 | 0 | 0 | 0 | 0 | 0 | 0 | 0 | 0 | 0 | 0 | 0 | 0 | 0 | 0 | 0 | 0 | 0 | 0 | 0 | 0 | 0 | 0 | 0 | 0 | 0 | 0 | 0 | 0 | 0 | 1 | 0 | 0 | 0 | 0 | 0 | 0 | 0 | 0 | 0 | 0 | 0 | 0 | 0 | 0 | 0 | 0 | 0 | 0 | 1 | 0 | 0 | 0 | 0 | 0 | 0 | 0 | 0 | 0 | 0 | 0 | 0 | 0 | 0 | 0 | 0 | 0 | 0 | 0 | 0 | 0 | 0 | 0 | 0 | 0 | 0 | 0 | 0 | 0 | 0 | 0 | 6 | 1994-01-02 | 1 | 58.47775 | <!----> | 1 | 1 | 1 |  39.0 |  7.699997 |  10 | 98 | NA | 1 | 110061 | NA | NA | NA | NA | NA | NA | NA | NA | NA | NA | NA | NA | NA | NA | NA | NA | NA | NA |  1 | 1 | 2.00684463 | 1 | NONE | NONE | 0 | 0 | 0 | 0 | 0 | 0 | 0 | 0 | 0 | 0 | 0 | 0 | 0 | 0 | 0 | 0 | 0 | 0 | 0 | 0 | 0 | 0 | 0 | 0 | 0 | 0 | 0 | 0 | 0 | 0 | 0 | 0 | 0 | 0 | 0 | 0 | 0 | 0 | 0 | 0 | 0 | 0 | 0 | 0 | 0 | 0 | 0 | 0 | 0 | 0 | 0 | 0 | 0 | 0 | 0 | 0 | 0 | 0 | 0 | 0 | 0 | 0 | 0 | 0 | 0 | 0 | 0 | 0 | 0 | 0 | 0 | 0 | 0 | 0 | ⋯ | 0 | 0 | 0 | 0 | 0 | 0 | 0 | 0 | 0 | 0 | 0 | 0 | 0 | 0 | 0 | 0 | 0 | 0 | 0 | 0 | 0 | 0 | 0 | 0 | 0 | 0 | 0 | 0 | 0 | 0 | 0 | 0 | 0 | 0 | 0 | 0 | 0 | 0 | 0 | 0 | 0 | 0 | 0 | 0 | 0 | 0 | 0 | 0 | 0 | 0 | 0 | 0 | 0 | 0 | 0 | 0 | 0 | 0 | 0 | 0 | 0 | 0 | 0 | 0 | 0 | 0 | 0 | 0 | 0 | 0 | 0 | 0 | 0 | 0 | 0 | 0 | 0 | 0 | 0 | 0 | 0 | 0 | 0 | 0 | 0 | 0 | 0 | 0 | 0 | 0 | 0 | 0 | 0 | 0 | 0 | 0 | 0 | 0 | 0 | 0 | 0 | 0 | 0 | 0 | 0 | 0 | 0 | 0 | 0 | 0 | 0 | 0 | 0 | 0 | 0 | 0 | 0 | 0 | 0 | 0 | 0 | 0 | 0 | 0 | 0 | 0 | 0 | 0 | 0 | 0 | 0 | 0 | 0 | 0 | 0 | 0 | 0 | 0 | 0 | 0 | 0 | 0 | 0 | 0 | 0 | 0 | 0 | 0 | 0 | 0 | 0 | 0 | 0 | 0 | 0 | 0 | 0 | 0 | 0 | favorable    | NPM1                                  | NA | NA | NA | NA | NA | NA | NA | NA | NA | NA | NA | NA | NA | NA | NA | NA | NA | NA | NA | 2.00821900 | 1 | 1.7260270 | 1 | 1 | 27 | INFECTION      | 1.9329230 | 1 | 1.7248460 | 1 | 1994-02-28 | 0 | 0 | 0 | 0 | 0 | NA | NA | Missing |\n",
       "| 2 | 11-3807 | PD20337c | PD20337c | 0 | 0 | 0 | 0 | 0 | 0 | 0 | 0 | 0 | 0 | 0 | 0 | 0 | 0 | 0 | 0 | 0 | 0 | 0 | 1 | 0 | 0 | 0 | 0 | 0 | 0 | 0 | 0 | 0 | 0 | 0 | 0 | 0 | 1 | 0 | 0 | 0 | 0 | 0 | 0 | 0 | 0 | 0 | 0 | 0 | 0 | 0 | 0 | 0 | 0 | 0 | 0 | 0 | 0 | 0 | 0 | 0 | 0 | 0 | 0 | 0 | 0 | 0 | 0 | 0 | 0 | 0 | 0 | 0 | 0 | 0 | 0 | 0 | 0 | 0 | 0 | 0 | 0 | 0 | 0 | 0 | 0 | 0 | 6 | 1995-09-08 | 0 | 72.43258 | <!----> | 1 | 0 | 1 |   1.5 | 13.500000 |  75 | 75 | NA | 1 | 110054 | NA | NA | NA | NA | NA | NA | NA | NA | NA | NA | NA | NA | NA | NA | NA | NA | NA | NA | 10 | 0 | 0.09308693 | 1 | NONE | NONE | 0 | 0 | 0 | 0 | 0 | 0 | 0 | 0 | 0 | 0 | 0 | 0 | 0 | 0 | 0 | 0 | 0 | 0 | 0 | 0 | 0 | 0 | 0 | 0 | 0 | 0 | 0 | 0 | 0 | 0 | 0 | 0 | 0 | 0 | 0 | 0 | 0 | 0 | 0 | 0 | 0 | 0 | 0 | 0 | 0 | 0 | 0 | 0 | 0 | 0 | 0 | 0 | 0 | 0 | 0 | 0 | 0 | 0 | 0 | 0 | 0 | 0 | 0 | 0 | 0 | 0 | 0 | 0 | 0 | 0 | 0 | 0 | 0 | 0 | ⋯ | 0 | 0 | 0 | 0 | 0 | 0 | 0 | 0 | 0 | 0 | 0 | 0 | 0 | 0 | 0 | 0 | 0 | 0 | 0 | 0 | 0 | 0 | 0 | 0 | 0 | 0 | 0 | 0 | 0 | 0 | 0 | 0 | 0 | 0 | 0 | 0 | 0 | 0 | 0 | 0 | 0 | 0 | 0 | 0 | 0 | 0 | 0 | 0 | 0 | 0 | 0 | 0 | 0 | 0 | 0 | 0 | 0 | 0 | 0 | 0 | 0 | 0 | 0 | 0 | 0 | 0 | 0 | 0 | 0 | 0 | 0 | 0 | 0 | 0 | 0 | 0 | 0 | 0 | 0 | 0 | 0 | 0 | 0 | 0 | 0 | 0 | 0 | 0 | 0 | 0 | 0 | 0 | 0 | 0 | 0 | 0 | 0 | 0 | 0 | 0 | 0 | 0 | 0 | 0 | 0 | 0 | 0 | 0 | 0 | 0 | 0 | 0 | 0 | 0 | 0 | 0 | 0 | 0 | 0 | 0 | 0 | 0 | 0 | 0 | 0 | 0 | 0 | 0 | 0 | 0 | 0 | 0 | 0 | 0 | 0 | 0 | 0 | 0 | 0 | 0 | 0 | 0 | 0 | 0 | 0 | 0 | 0 | 0 | 0 | 0 | 0 | 0 | 0 | 0 | 0 | 0 | 0 | 0 | 0 | intermediate | IDH2_R172                             | NA | NA | NA | NA | NA | NA | NA | NA | NA | NA | NA | NA | NA | NA | NA | NA | NA | NA | NA | 0.09315068 | 1 |        NA | 1 | 2 | NA | RESISTANT DIS  |        NA | 1 |        NA | 1 | NA         | 0 | 0 | 0 | 0 | 0 | NA | NA | Missing |\n",
       "| 3 | 11-3885 | PD20336a | PD20336a | 0 | 0 | 0 | 0 | 0 | 0 | 0 | 0 | 0 | 0 | 0 | 0 | 0 | 0 | 0 | 0 | 0 | 0 | 0 | 0 | 0 | 0 | 0 | 0 | 1 | 0 | 0 | 0 | 0 | 0 | 0 | 0 | 0 | 0 | 0 | 0 | 0 | 1 | 0 | 0 | 0 | 0 | 0 | 0 | 0 | 0 | 0 | 0 | 0 | 0 | 0 | 0 | 0 | 0 | 0 | 0 | 0 | 0 | 0 | 0 | 0 | 0 | 0 | 0 | 0 | 1 | 0 | 0 | 0 | 1 | 0 | 1 | 0 | 0 | 0 | 0 | 0 | 0 | 0 | 1 | 0 | 0 | 0 | 6 | 1995-12-18 | 0 | 61.67830 | <!----> | 1 | 0 | 1 | 130.0 |  8.500000 | 135 | NA | NA | 1 | 110036 | NA | NA | NA | NA | NA | NA | NA | NA | NA | NA | NA | NA | NA | NA | NA | NA | NA | NA |  3 | 0 | 0.68172485 | 1 | NONE | NONE | 0 | 0 | 0 | 0 | 0 | 0 | 0 | 0 | 0 | 0 | 0 | 0 | 0 | 0 | 0 | 0 | 0 | 0 | 0 | 0 | 0 | 0 | 0 | 0 | 0 | 0 | 0 | 0 | 0 | 0 | 0 | 0 | 0 | 0 | 0 | 0 | 0 | 0 | 0 | 0 | 0 | 0 | 0 | 0 | 0 | 0 | 0 | 0 | 0 | 0 | 0 | 0 | 0 | 0 | 0 | 0 | 0 | 0 | 0 | 0 | 0 | 0 | 0 | 0 | 0 | 0 | 0 | 0 | 0 | 0 | 0 | 0 | 0 | 0 | ⋯ | 0 | 0 | 0 | 0 | 0 | 0 | 0 | 0 | 0 | 0 | 0 | 0 | 0 | 0 | 0 | 0 | 0 | 0 | 0 | 0 | 0 | 0 | 0 | 0 | 0 | 0 | 0 | 0 | 0 | 0 | 0 | 0 | 0 | 0 | 0 | 0 | 0 | 0 | 0 | 0 | 0 | 0 | 0 | 0 | 0 | 0 | 0 | 0 | 0 | 0 | 0 | 0 | 0 | 0 | 0 | 0 | 0 | 0 | 0 | 0 | 0 | 0 | 0 | 0 | 0 | 0 | 0 | 0 | 0 | 0 | 0 | 0 | 0 | 0 | 0 | 0 | 0 | 0 | 0 | 0 | 0 | 0 | 0 | 0 | 0 | 0 | 0 | 0 | 0 | 0 | 0 | 0 | 0 | 0 | 0 | 0 | 0 | 0 | 0 | 0 | 0 | 0 | 0 | 0 | 0 | 0 | 0 | 0 | 0 | 0 | 0 | 0 | 0 | 0 | 0 | 0 | 0 | 0 | 0 | 0 | 0 | 0 | 0 | 0 | 0 | 0 | 0 | 0 | 0 | 0 | 0 | 0 | 0 | 0 | 0 | 0 | 0 | 0 | 0 | 0 | 0 | 0 | 0 | 0 | 0 | 0 | 0 | 0 | 0 | 0 | 0 | 0 | 0 | 0 | 0 | 0 | 0 | 0 | 0 | adverse      | Chromatin_spliceosome-TP53_aneuploidy | NA | NA | NA | NA | NA | NA | NA | NA | NA | NA | NA | NA | NA | NA | NA | NA | NA | NA | NA | 0.68219180 | 1 |        NA | 1 | 2 | NA | INFECT + HAEM  |        NA | 1 |        NA | 1 | NA         | 0 | 0 | 0 | 0 | 0 | NA | NA | Missing |\n",
       "| 4 | 11-4052 | PD20335c | PD20335c | 0 | 0 | 0 | 0 | 0 | 0 | 0 | 0 | 0 | 0 | 0 | 0 | 0 | 0 | 0 | 0 | 0 | 0 | 0 | 0 | 0 | 0 | 0 | 0 | 0 | 0 | 0 | 0 | 0 | 0 | 0 | 0 | 0 | 0 | 0 | 0 | 0 | 0 | 0 | 0 | 0 | 0 | 0 | 0 | 0 | 0 | 0 | 0 | 0 | 0 | 0 | 1 | 0 | 0 | 0 | 0 | 0 | 0 | 0 | 0 | 0 | 0 | 0 | 0 | 0 | 0 | 0 | 0 | 0 | 0 | 0 | 0 | 0 | 0 | 1 | 0 | 0 | 0 | 1 | 0 | 0 | 0 | 0 | 6 | 1996-11-14 | 1 | 68.28747 | <!----> | 1 | 0 | 1 |  32.0 |  8.699997 |  55 | 98 | NA | 1 | 110045 | NA | NA | NA | NA | NA | NA | NA | NA | NA | NA | NA | NA | NA | NA | NA | NA | NA | NA |  1 | 0 | 0.05201916 | 1 | NONE | NONE | 0 | 0 | 0 | 0 | 0 | 0 | 0 | 0 | 0 | 0 | 0 | 0 | 0 | 0 | 0 | 0 | 0 | 0 | 0 | 0 | 0 | 0 | 0 | 0 | 0 | 0 | 0 | 0 | 0 | 0 | 0 | 0 | 0 | 0 | 0 | 0 | 0 | 0 | 0 | 0 | 0 | 0 | 0 | 0 | 0 | 0 | 0 | 0 | 0 | 0 | 0 | 0 | 0 | 0 | 0 | 0 | 0 | 0 | 0 | 0 | 0 | 0 | 0 | 0 | 0 | 0 | 0 | 0 | 0 | 0 | 0 | 0 | 0 | 0 | ⋯ | 0 | 0 | 0 | 0 | 0 | 0 | 0 | 0 | 0 | 0 | 0 | 0 | 0 | 0 | 0 | 0 | 0 | 0 | 0 | 0 | 0 | 0 | 0 | 0 | 0 | 0 | 0 | 0 | 0 | 0 | 0 | 0 | 0 | 0 | 0 | 0 | 0 | 0 | 0 | 0 | 0 | 0 | 0 | 0 | 0 | 0 | 0 | 0 | 0 | 0 | 0 | 0 | 0 | 0 | 0 | 0 | 0 | 0 | 0 | 0 | 0 | 0 | 0 | 0 | 0 | 0 | 0 | 0 | 0 | 0 | 0 | 0 | 0 | 0 | 0 | 0 | 0 | 0 | 0 | 0 | 0 | 0 | 0 | 0 | 0 | 0 | 0 | 0 | 0 | 0 | 0 | 0 | 0 | 0 | 0 | 0 | 0 | 0 | 0 | 0 | 0 | 0 | 0 | 0 | 0 | 0 | 0 | 0 | 0 | 0 | 0 | 0 | 0 | 0 | 0 | 0 | 0 | 0 | 0 | 0 | 0 | 0 | 0 | 0 | 0 | 0 | 0 | 0 | 0 | 0 | 0 | 0 | 0 | 0 | 0 | 0 | 0 | 0 | 0 | 0 | 0 | 0 | 0 | 0 | 0 | 0 | 0 | 0 | 0 | 0 | 0 | 0 | 0 | 0 | 0 | 0 | 0 | 0 | 0 | favorable    | NPM1                                  | NA | NA | NA | NA | NA | NA | NA | NA | NA | NA | NA | NA | NA | NA | NA | NA | NA | NA | NA | 0.05205479 | 1 |        NA | 1 | 2 | NA | INFECTION      |        NA | 1 |        NA | 1 | NA         | 0 | 0 | 0 | 0 | 0 | NA | NA | Missing |\n",
       "| 5 | 11-4169 | PD20334a | PD20334a | 0 | 0 | 0 | 0 | 0 | 0 | 0 | 0 | 0 | 0 | 0 | 1 | 0 | 0 | 0 | 0 | 0 | 0 | 0 | 0 | 0 | 0 | 0 | 0 | 1 | 0 | 0 | 0 | 0 | 0 | 0 | 0 | 0 | 0 | 0 | 0 | 0 | 0 | 0 | 0 | 0 | 0 | 0 | 0 | 0 | 1 | 0 | 0 | 0 | 0 | 0 | 0 | 0 | 0 | 0 | 0 | 0 | 0 | 0 | 0 | 0 | 0 | 0 | 0 | 0 | 1 | 0 | 0 | 0 | 0 | 0 | 0 | 0 | 0 | 0 | 0 | 0 | 0 | 1 | 0 | 0 | 1 | 0 | 6 | 1997-06-18 | 1 | 62.16290 | <!----> | 1 | 1 | 1 | 118.0 |  6.699997 |  21 | NA | NA | 1 | 110058 | NA | NA | NA | NA | NA | NA | NA | NA | NA | NA | NA | NA | NA | NA | NA | NA | NA | NA |  5 | 1 | 0.68172485 | 1 | NONE | NONE | 0 | 0 | 0 | 0 | 0 | 0 | 0 | 0 | 0 | 0 | 0 | 0 | 0 | 0 | 0 | 0 | 0 | 0 | 0 | 0 | 0 | 0 | 0 | 0 | 0 | 0 | 0 | 0 | 0 | 0 | 0 | 0 | 0 | 0 | 0 | 0 | 0 | 0 | 0 | 0 | 0 | 0 | 0 | 0 | 0 | 0 | 0 | 0 | 0 | 0 | 0 | 0 | 0 | 0 | 0 | 0 | 0 | 0 | 0 | 0 | 0 | 0 | 0 | 0 | 0 | 0 | 0 | 0 | 0 | 0 | 0 | 0 | 0 | 0 | ⋯ | 0 | 0 | 0 | 0 | 0 | 0 | 0 | 0 | 0 | 0 | 0 | 0 | 0 | 0 | 0 | 0 | 0 | 0 | 0 | 0 | 0 | 0 | 0 | 0 | 0 | 0 | 0 | 0 | 0 | 0 | 0 | 0 | 0 | 0 | 0 | 0 | 0 | 0 | 0 | 0 | 0 | 0 | 0 | 0 | 0 | 0 | 0 | 0 | 0 | 0 | 0 | 0 | 0 | 0 | 0 | 0 | 0 | 0 | 0 | 0 | 0 | 0 | 0 | 0 | 0 | 0 | 0 | 0 | 0 | 0 | 0 | 0 | 0 | 0 | 0 | 0 | 0 | 0 | 0 | 0 | 0 | 0 | 0 | 0 | 0 | 0 | 0 | 0 | 0 | 0 | 0 | 0 | 0 | 0 | 0 | 0 | 0 | 0 | 0 | 0 | 0 | 0 | 0 | 0 | 0 | 0 | 0 | 0 | 0 | 0 | 0 | 0 | 0 | 0 | 0 | 0 | 0 | 0 | 0 | 0 | 0 | 0 | 0 | 0 | 0 | 0 | 0 | 0 | 0 | 0 | 0 | 0 | 0 | 0 | 0 | 0 | 0 | 0 | 0 | 0 | 0 | 0 | 0 | 0 | 0 | 0 | 0 | 0 | 0 | 0 | 0 | 0 | 0 | 0 | 0 | 0 | 0 | 0 | 0 | adverse      | Chromatin_spliceosome                 | NA | NA | NA | NA | NA | NA | NA | NA | NA | NA | NA | NA | NA | NA | NA | NA | NA | NA | NA | 0.68219180 | 1 | 0.4109589 | 1 | 1 | 27 | RECURRENT LEUK | 0.6078029 | 1 | 0.4106776 | 1 | 1997-07-15 | 0 | 0 | 0 | 0 | 0 | NA | NA | Missing |\n",
       "| 6 | 12-5272 | PD20333c | PD20333c | 0 | 0 | 0 | 0 | 0 | 0 | 0 | 0 | 0 | 0 | 1 | 0 | 0 | 0 | 0 | 0 | 0 | 0 | 0 | 0 | 0 | 0 | 0 | 0 | 0 | 0 | 0 | 0 | 1 | 0 | 0 | 0 | 0 | 0 | 0 | 0 | 0 | 0 | 0 | 0 | 0 | 0 | 0 | 0 | 0 | 0 | 0 | 0 | 0 | 0 | 0 | 0 | 0 | 0 | 0 | 0 | 0 | 0 | 0 | 0 | 0 | 0 | 0 | 0 | 0 | 0 | 0 | 0 | 0 | 0 | 0 | 0 | 0 | 0 | 0 | 0 | 0 | 0 | 0 | 0 | 0 | 0 | 0 | 7 | 1995-03-11 | 1 | 51.45243 | <!----> | 1 | 0 | 1 |  12.9 | 12.299995 |  16 | 86 | NA | 1 |     NA | NA | NA | NA | NA | NA | NA | NA | NA | NA | NA | NA | NA | NA | NA | NA | NA | NA | NA |  5 | 1 | 1.79329227 | 1 | NONE | NONE | 0 | 0 | 0 | 0 | 0 | 0 | 0 | 0 | 0 | 0 | 0 | 0 | 0 | 0 | 0 | 0 | 0 | 0 | 0 | 0 | 0 | 0 | 0 | 0 | 0 | 0 | 0 | 0 | 0 | 0 | 0 | 0 | 0 | 0 | 0 | 0 | 0 | 0 | 0 | 0 | 0 | 0 | 0 | 0 | 0 | 0 | 0 | 0 | 0 | 0 | 0 | 0 | 0 | 0 | 0 | 0 | 0 | 0 | 0 | 0 | 0 | 0 | 0 | 0 | 0 | 0 | 0 | 0 | 0 | 0 | 0 | 0 | 0 | 0 | ⋯ | 0 | 0 | 0 | 0 | 0 | 0 | 0 | 0 | 0 | 0 | 0 | 0 | 0 | 0 | 0 | 0 | 0 | 0 | 0 | 0 | 0 | 0 | 0 | 0 | 0 | 0 | 0 | 0 | 0 | 0 | 0 | 0 | 0 | 0 | 0 | 0 | 0 | 0 | 0 | 0 | 0 | 0 | 0 | 0 | 0 | 0 | 0 | 0 | 0 | 0 | 0 | 0 | 0 | 0 | 0 | 0 | 0 | 0 | 0 | 0 | 0 | 0 | 0 | 0 | 0 | 0 | 0 | 0 | 0 | 0 | 0 | 0 | 0 | 0 | 0 | 0 | 0 | 0 | 0 | 0 | 0 | 0 | 0 | 0 | 0 | 0 | 0 | 0 | 0 | 0 | 0 | 0 | 0 | 0 | 0 | 0 | 0 | 0 | 0 | 0 | 0 | 0 | 0 | 0 | 0 | 0 | 0 | 0 | 0 | 0 | 0 | 0 | 0 | 0 | 0 | 0 | 0 | 0 | 0 | 0 | 0 | 0 | 0 | 0 | 0 | 0 | 0 | 0 | 0 | 0 | 0 | 0 | 0 | 0 | 0 | 0 | 0 | 0 | 0 | 0 | 0 | 0 | 0 | 0 | 0 | 0 | 0 | 0 | 0 | 0 | 0 | 0 | 0 | 0 | 0 | 0 | 0 | 0 | 0 | favorable    | CEBPA_bi                              | NA | NA | NA | NA | NA | NA | NA | NA | NA | NA | NA | NA | NA | NA | NA | NA | NA | NA | NA | 1.79452100 | 1 | 0.6767123 | 1 | 1 | 88 | RECURRENT LEUK | 1.5523610 | 1 | 0.6762491 | 1 | 1996-01-30 | 0 | 0 | 0 | 0 | 0 | NA | NA | Missing |\n",
       "\n"
      ],
      "text/plain": [
       "  X donor_id data_pd  sample_pd.x ASXL1 ASXL2 ASXL3 ATRX BAGE3 BCOR BRAF CBFB\n",
       "1 1 11-3496  PD20338c PD20338c    0     0     0     0    0     0    0    0   \n",
       "2 2 11-3807  PD20337c PD20337c    0     0     0     0    0     0    0    0   \n",
       "3 3 11-3885  PD20336a PD20336a    0     0     0     0    0     0    0    0   \n",
       "4 4 11-4052  PD20335c PD20335c    0     0     0     0    0     0    0    0   \n",
       "5 5 11-4169  PD20334a PD20334a    0     0     0     0    0     0    0    0   \n",
       "6 6 12-5272  PD20333c PD20333c    0     0     0     0    0     0    0    0   \n",
       "  CBL CDKN2A CEBPA_bi CEBPA_mono CNTN5 CREBBP CSF1R CSF3R CTCF CUL2 CUX1 DNMT3A\n",
       "1 0   0      0        0          0     0      0     0     0    0    0    0     \n",
       "2 0   0      0        0          0     0      0     0     0    0    0    1     \n",
       "3 0   0      0        0          0     0      0     0     0    0    0    0     \n",
       "4 0   0      0        0          0     0      0     0     0    0    0    0     \n",
       "5 0   0      0        1          0     0      0     0     0    0    0    0     \n",
       "6 0   0      1        0          0     0      0     0     0    0    0    0     \n",
       "  EED ETV6 EZH2 FBXW7 FLT3_ITD FLT3_TKD FLT3_other GATA1 GATA2 GNAS GNB1 IDH1\n",
       "1 0   0    0    0     0        0        0          0     0     0    0    0   \n",
       "2 0   0    0    0     0        0        0          0     0     0    0    0   \n",
       "3 0   0    0    0     1        0        0          0     0     0    0    0   \n",
       "4 0   0    0    0     0        0        0          0     0     0    0    0   \n",
       "5 0   0    0    0     1        0        0          0     0     0    0    0   \n",
       "6 0   0    0    0     0        0        0          0     1     0    0    0   \n",
       "  IDH2_p.R140 IDH2_p.R172 JAK2 JAK3 KANSL1 KDM6A KIT KMT2C KMT2D KMT2E KRAS\n",
       "1 1           0           0    0    0      0     0   0     0     0     0   \n",
       "2 0           1           0    0    0      0     0   0     0     0     0   \n",
       "3 0           0           0    0    0      1     0   0     0     0     0   \n",
       "4 0           0           0    0    0      0     0   0     0     0     0   \n",
       "5 0           0           0    0    0      0     0   0     0     0     0   \n",
       "6 0           0           0    0    0      0     0   0     0     0     0   \n",
       "  LUC7L2 MED12 MLL MPL MYC NF1 NFE2 NOTCH1 NPM1 NRAS_other NRAS_p.G12_13\n",
       "1 0      0     0   0   0   0   0    0      1    0          0            \n",
       "2 0      0     0   0   0   0   0    0      0    0          0            \n",
       "3 0      0     0   0   0   0   0    0      0    0          0            \n",
       "4 0      0     0   0   0   0   0    0      1    0          0            \n",
       "5 0      0     1   0   0   0   0    0      0    0          0            \n",
       "6 0      0     0   0   0   0   0    0      0    0          0            \n",
       "  NRAS_p.Q61_62 PDS5B PHF6 PPFIA2 PRPF8 PTEN PTPN11 PTPRF PTPRT RAD21 RIT1\n",
       "1 0             0     0    0      0     0    0      0     0     0     0   \n",
       "2 0             0     0    0      0     0    0      0     0     0     0   \n",
       "3 0             0     0    0      0     0    0      0     0     0     0   \n",
       "4 0             0     0    0      0     0    0      0     0     0     0   \n",
       "5 0             0     0    0      0     0    0      0     0     0     0   \n",
       "6 0             0     0    0      0     0    0      0     0     0     0   \n",
       "  RUNX1 S100B SETBP1 SF1 SF3B1 SMC1A SMC3 SMG1 SPP1 SRSF2 STAG2 STAT5B SUZ12\n",
       "1 0     0     0      0   0     0     0    0    0    0     0     0      0    \n",
       "2 0     0     0      0   0     0     0    0    0    0     0     0      0    \n",
       "3 1     0     0      0   1     0     1    0    0    0     0     0      0    \n",
       "4 0     0     0      0   0     0     0    0    0    1     0     0      0    \n",
       "5 1     0     0      0   0     0     0    0    0    0     0     0      0    \n",
       "6 0     0     0      0   0     0     0    0    0    0     0     0      0    \n",
       "  TET2 TP53 U2AF1 WT1 ZRSR2 trial.x date_entry gender age      ethnic ahd\n",
       "1 0    0    0     0   0     6       1994-01-02 1      58.47775        1  \n",
       "2 0    0    0     0   0     6       1995-09-08 0      72.43258        1  \n",
       "3 0    1    0     0   0     6       1995-12-18 0      61.67830        1  \n",
       "4 1    0    0     0   0     6       1996-11-14 1      68.28747        1  \n",
       "5 1    0    0     1   0     6       1997-06-18 1      62.16290        1  \n",
       "6 0    0    0     0   0     7       1995-03-11 1      51.45243        1  \n",
       "  perf_status secondary wbc   hb        plt bm_blasts neut intense trtcode\n",
       "1 1           1          39.0  7.699997  10 98        NA   1       110061 \n",
       "2 0           1           1.5 13.500000  75 75        NA   1       110054 \n",
       "3 0           1         130.0  8.500000 135 NA        NA   1       110036 \n",
       "4 0           1          32.0  8.699997  55 98        NA   1       110045 \n",
       "5 1           1         118.0  6.699997  21 NA        NA   1       110058 \n",
       "6 0           1          12.9 12.299995  16 86        NA   1           NA \n",
       "  acmarr acmcar acmhvd acmibd acmdia acmcvd acmpsy acmobe acminf acmrhe acmpep\n",
       "1 NA     NA     NA     NA     NA     NA     NA     NA     NA     NA     NA    \n",
       "2 NA     NA     NA     NA     NA     NA     NA     NA     NA     NA     NA    \n",
       "3 NA     NA     NA     NA     NA     NA     NA     NA     NA     NA     NA    \n",
       "4 NA     NA     NA     NA     NA     NA     NA     NA     NA     NA     NA    \n",
       "5 NA     NA     NA     NA     NA     NA     NA     NA     NA     NA     NA    \n",
       "6 NA     NA     NA     NA     NA     NA     NA     NA     NA     NA     NA    \n",
       "  acmren acmpulmod acmpulsev acmpri acmhepmil acmhepsev acmoth cod cr\n",
       "1 NA     NA        NA        NA     NA        NA        NA      1  1 \n",
       "2 NA     NA        NA        NA     NA        NA        NA     10  0 \n",
       "3 NA     NA        NA        NA     NA        NA        NA      3  0 \n",
       "4 NA     NA        NA        NA     NA        NA        NA      1  0 \n",
       "5 NA     NA        NA        NA     NA        NA        NA      5  1 \n",
       "6 NA     NA        NA        NA     NA        NA        NA      5  1 \n",
       "  os         os_status pbmts pbmty t_v_11 add_10p add_10q add_11p add_11q\n",
       "1 2.00684463 1         NONE  NONE  0      0       0       0       0      \n",
       "2 0.09308693 1         NONE  NONE  0      0       0       0       0      \n",
       "3 0.68172485 1         NONE  NONE  0      0       0       0       0      \n",
       "4 0.05201916 1         NONE  NONE  0      0       0       0       0      \n",
       "5 0.68172485 1         NONE  NONE  0      0       0       0       0      \n",
       "6 1.79329227 1         NONE  NONE  0      0       0       0       0      \n",
       "  add_12p add_12q add_13p add_13q add_14p add_14q add_15p add_15q add_16p\n",
       "1 0       0       0       0       0       0       0       0       0      \n",
       "2 0       0       0       0       0       0       0       0       0      \n",
       "3 0       0       0       0       0       0       0       0       0      \n",
       "4 0       0       0       0       0       0       0       0       0      \n",
       "5 0       0       0       0       0       0       0       0       0      \n",
       "6 0       0       0       0       0       0       0       0       0      \n",
       "  add_16q add_17p add_17q add_18p add_18q add_19p add_19q add_1p add_1q add_20p\n",
       "1 0       0       0       0       0       0       0       0      0      0      \n",
       "2 0       0       0       0       0       0       0       0      0      0      \n",
       "3 0       0       0       0       0       0       0       0      0      0      \n",
       "4 0       0       0       0       0       0       0       0      0      0      \n",
       "5 0       0       0       0       0       0       0       0      0      0      \n",
       "6 0       0       0       0       0       0       0       0      0      0      \n",
       "  add_20q add_21p add_21q add_22p add_22q add_2p add_2q add_3p add_3q add_4p\n",
       "1 0       0       0       0       0       0      0      0      0      0     \n",
       "2 0       0       0       0       0       0      0      0      0      0     \n",
       "3 0       0       0       0       0       0      0      0      0      0     \n",
       "4 0       0       0       0       0       0      0      0      0      0     \n",
       "5 0       0       0       0       0       0      0      0      0      0     \n",
       "6 0       0       0       0       0       0      0      0      0      0     \n",
       "  add_4q add_5p add_5q add_6p add_6q add_7p add_7q add_8p add_8q add_9p add_9q\n",
       "1 0      0      0      0      0      0      0      0      0      0      0     \n",
       "2 0      0      0      0      0      0      0      0      0      0      0     \n",
       "3 0      0      0      0      0      0      0      0      0      0      0     \n",
       "4 0      0      0      0      0      0      0      0      0      0      0     \n",
       "5 0      0      0      0      0      0      0      0      0      0      0     \n",
       "6 0      0      0      0      0      0      0      0      0      0      0     \n",
       "  add_xp add_xq complex_translocations del_10p del_10q del_11p del_11q del_12p\n",
       "1 0      0      0                      0       0       0       0       0      \n",
       "2 0      0      0                      0       0       0       0       0      \n",
       "3 0      0      0                      0       0       0       0       0      \n",
       "4 0      0      0                      0       0       0       0       0      \n",
       "5 0      0      0                      0       0       0       0       0      \n",
       "6 0      0      0                      0       0       0       0       0      \n",
       "  del_12q del_13p del_13q del_14q del_15p del_15q del_16p del_16q del_17p\n",
       "1 0       0       0       0       0       0       0       0       0      \n",
       "2 0       0       0       0       0       0       0       0       0      \n",
       "3 0       0       0       0       0       0       0       0       0      \n",
       "4 0       0       0       0       0       0       0       0       0      \n",
       "5 0       0       0       0       0       0       0       0       0      \n",
       "6 0       0       0       0       0       0       0       0       0      \n",
       "  del_17q del_18p del_18q del_19p del_19q del_1p del_1q del_20q del_21q del_22q\n",
       "1 0       0       0       0       0       0      0      0       0       0      \n",
       "2 0       0       0       0       0       0      0      0       0       0      \n",
       "3 0       0       0       0       0       0      0      0       0       0      \n",
       "4 0       0       0       0       0       0      0      0       0       0      \n",
       "5 0       0       0       0       0       0      0      0       0       0      \n",
       "6 0       0       0       0       0       0      0      0       0       0      \n",
       "  del_2p del_2q ⋯ minus11 minus12 minus13 minus14 minus15 minus16 minus17\n",
       "1 0      0      ⋯ 0       0       0       0       0       0       0      \n",
       "2 0      0      ⋯ 0       0       0       0       0       0       0      \n",
       "3 0      0      ⋯ 0       0       0       0       0       0       0      \n",
       "4 0      0      ⋯ 0       0       0       0       0       0       0      \n",
       "5 0      0      ⋯ 0       0       0       0       0       0       0      \n",
       "6 0      0      ⋯ 0       0       0       0       0       0       0      \n",
       "  minus18 minus19 minus2 minus20 minus21 minus22 minus3 minus4 minus5 minus6\n",
       "1 0       0       0      0       0       0       0      0      0      0     \n",
       "2 0       0       0      0       0       0       0      0      0      0     \n",
       "3 0       0       0      0       0       0       0      0      0      0     \n",
       "4 0       0       0      0       0       0       0      0      0      0     \n",
       "5 0       0       0      0       0       0       0      0      0      0     \n",
       "6 0       0       0      0       0       0       0      0      0      0     \n",
       "  minus7 minus7. minus8 minus9 minusx minusy plus1 plus10 plus11 plus12 plus13\n",
       "1 0      0       0      0      0      0      0     0      0      0      0     \n",
       "2 0      0       0      0      0      0      0     0      0      0      0     \n",
       "3 0      0       0      0      0      0      0     0      0      0      0     \n",
       "4 0      0       0      0      0      0      0     0      0      0      0     \n",
       "5 0      0       0      0      0      0      0     0      0      0      0     \n",
       "6 0      0       0      0      0      0      0     0      0      0      0     \n",
       "  plus14 plus15 plus16 plus17 plus18 plus19 plus2 plus20 plus21 plus22 plus3\n",
       "1 0      0      0      0      0      0      0     0      0      0      0    \n",
       "2 0      0      0      0      0      0      0     0      0      0      0    \n",
       "3 0      0      0      0      0      0      0     0      0      0      0    \n",
       "4 0      0      0      0      0      0      0     0      0      0      0    \n",
       "5 0      0      0      0      0      0      0     0      0      0      0    \n",
       "6 0      0      0      0      0      0      0     0      0      0      0    \n",
       "  plus4 plus5 plus6 plus7 plus8 plus9 plusx plusy ring t_10_13 t_10_19 t_10_21\n",
       "1 0     0     0     0     0     0     0     0     0    0       0       0      \n",
       "2 0     0     0     0     0     0     0     0     0    0       0       0      \n",
       "3 0     0     0     0     0     0     0     0     0    0       0       0      \n",
       "4 0     0     0     0     0     0     0     0     0    0       0       0      \n",
       "5 0     0     0     0     0     0     0     0     0    0       0       0      \n",
       "6 0     0     0     0     0     0     0     0     0    0       0       0      \n",
       "  t_12_13 t_12_14 t_12_15 t_12_17 t_12_20 t_12_21 t_12_22 t_13_15 t_13_19\n",
       "1 0       0       0       0       0       0       0       0       0      \n",
       "2 0       0       0       0       0       0       0       0       0      \n",
       "3 0       0       0       0       0       0       0       0       0      \n",
       "4 0       0       0       0       0       0       0       0       0      \n",
       "5 0       0       0       0       0       0       0       0       0      \n",
       "6 0       0       0       0       0       0       0       0       0      \n",
       "  t_15_16 t_15_17 t_16_17 t_16_21 t_17_18 t_17_19 t_17_20 t_17_21 t_17_22\n",
       "1 0       0       0       0       0       0       0       0       0      \n",
       "2 0       0       0       0       0       0       0       0       0      \n",
       "3 0       0       0       0       0       0       0       0       0      \n",
       "4 0       0       0       0       0       0       0       0       0      \n",
       "5 0       0       0       0       0       0       0       0       0      \n",
       "6 0       0       0       0       0       0       0       0       0      \n",
       "  t_19_22 t_1_12 t_1_14 t_1_15 t_1_16 t_1_17 t_1_19 t_1_2 t_1_21 t_1_22 t_1_3\n",
       "1 0       0      0      0      0      0      0      0     0      0      0    \n",
       "2 0       0      0      0      0      0      0      0     0      0      0    \n",
       "3 0       0      0      0      0      0      0      0     0      0      0    \n",
       "4 0       0      0      0      0      0      0      0     0      0      0    \n",
       "5 0       0      0      0      0      0      0      0     0      0      0    \n",
       "6 0       0      0      0      0      0      0      0     0      0      0    \n",
       "  t_1_4 t_1_5 t_1_6 t_1_8 t_1_9 t_2_12 t_2_17 t_2_21 t_2_3 t_2_5 t_2_7 t_2_8\n",
       "1 0     0     0     0     0     0      0      0      0     0     0     0    \n",
       "2 0     0     0     0     0     0      0      0      0     0     0     0    \n",
       "3 0     0     0     0     0     0      0      0      0     0     0     0    \n",
       "4 0     0     0     0     0     0      0      0      0     0     0     0    \n",
       "5 0     0     0     0     0     0      0      0      0     0     0     0    \n",
       "6 0     0     0     0     0     0      0      0      0     0     0     0    \n",
       "  t_2_9 t_3_14 t_3_16 t_3_19 t_3_21 t_3_4 t_3_5 t_3_6 t_3_7 t_3_9 t_4_10 t_4_12\n",
       "1 0     0      0      0      0      0     0     0     0     0     0      0     \n",
       "2 0     0      0      0      0      0     0     0     0     0     0      0     \n",
       "3 0     0      0      0      0      0     0     0     0     0     0      0     \n",
       "4 0     0      0      0      0      0     0     0     0     0     0      0     \n",
       "5 0     0      0      0      0      0     0     0     0     0     0      0     \n",
       "6 0     0      0      0      0      0     0     0     0     0     0      0     \n",
       "  t_4_13 t_4_15 t_4_17 t_4_19 t_4_21 t_4_5 t_4_6 t_4_8 t_4_9 t_5_10 t_5_12\n",
       "1 0      0      0      0      0      0     0     0     0     0      0     \n",
       "2 0      0      0      0      0      0     0     0     0     0      0     \n",
       "3 0      0      0      0      0      0     0     0     0     0      0     \n",
       "4 0      0      0      0      0      0     0     0     0     0      0     \n",
       "5 0      0      0      0      0      0     0     0     0     0      0     \n",
       "6 0      0      0      0      0      0     0     0     0     0      0     \n",
       "  t_5_13 t_5_15 t_5_17 t_5_21 t_5_7 t_5_8 t_5_9 t_6_10 t_6_16 t_6_17 t_6_22\n",
       "1 0      0      0      0      0     0     0     0      0      0      0     \n",
       "2 0      0      0      0      0     0     0     0      0      0      0     \n",
       "3 0      0      0      0      0     0     0     0      0      0      0     \n",
       "4 0      0      0      0      0     0     0     0      0      0      0     \n",
       "5 0      0      0      0      0     0     0     0      0      0      0     \n",
       "6 0      0      0      0      0     0     0     0      0      0      0     \n",
       "  t_6_7 t_6_9 t_7_12 t_7_14 t_7_16 t_7_17 t_7_8 t_8_10 t_8_13 t_8_14 t_8_16\n",
       "1 0     0     0      0      0      0      0     0      0      0      0     \n",
       "2 0     0     0      0      0      0      0     0      0      0      0     \n",
       "3 0     0     0      0      0      0      0     0      0      0      0     \n",
       "4 0     0     0      0      0      0      0     0      0      0      0     \n",
       "5 0     0     0      0      0      0      0     0      0      0      0     \n",
       "6 0     0     0      0      0      0      0     0      0      0      0     \n",
       "  t_8_17 t_8_19 t_8_20 t_8_21 t_8_9 t_9_10 t_9_11 t_9_12 t_9_13 t_9_15 t_9_17\n",
       "1 0      0      0      0      0     0      0      0      0      0      0     \n",
       "2 0      0      0      0      0     0      0      0      0      0      0     \n",
       "3 0      0      0      0      0     0      0      0      0      0      0     \n",
       "4 0      0      0      0      0     0      0      0      0      0      0     \n",
       "5 0      0      0      0      0     0      0      0      0      0      0     \n",
       "6 0      0      0      0      0     0      0      0      0      0      0     \n",
       "  t_9_21 t_9_22 t_x_1 t_x_12 t_x_15 t_x_16 t_x_21 t_x_5 t_x_y wholedup complex\n",
       "1 0      0      0     0      0      0      0      0     0     0        0      \n",
       "2 0      0      0     0      0      0      0      0     0     0        0      \n",
       "3 0      0      0     0      0      0      0      0     0     0        0      \n",
       "4 0      0      0     0      0      0      0      0     0     0        0      \n",
       "5 0      0      0     0      0      0      0      0     0     0        0      \n",
       "6 0      0      0     0      0      0      0      0     0     0        0      \n",
       "  eln_2017     nejm                                  AMLID dead60 MRDgp1 MRDgp2\n",
       "1 favorable    NPM1                                  NA    NA     NA     NA    \n",
       "2 intermediate IDH2_R172                             NA    NA     NA     NA    \n",
       "3 adverse      Chromatin_spliceosome-TP53_aneuploidy NA    NA     NA     NA    \n",
       "4 favorable    NPM1                                  NA    NA     NA     NA    \n",
       "5 adverse      Chromatin_spliceosome                 NA    NA     NA     NA    \n",
       "6 favorable    CEBPA_bi                              NA    NA     NA     NA    \n",
       "  CRby1 CRby2 MRD1 MRD2 LAIPdetection1 LAIPvalue1 Sample1\n",
       "1 NA    NA    NA   NA   NA             NA         NA     \n",
       "2 NA    NA    NA   NA   NA             NA         NA     \n",
       "3 NA    NA    NA   NA   NA             NA         NA     \n",
       "4 NA    NA    NA   NA   NA             NA         NA     \n",
       "5 NA    NA    NA   NA   NA             NA         NA     \n",
       "6 NA    NA    NA   NA   NA             NA         NA     \n",
       "  DiagnosticLAIPscreening LAIPdetection2 LAIPvalue2 Sample2 LAIPassessed1\n",
       "1 NA                      NA             NA         NA      NA           \n",
       "2 NA                      NA             NA         NA      NA           \n",
       "3 NA                      NA             NA         NA      NA           \n",
       "4 NA                      NA             NA         NA      NA           \n",
       "5 NA                      NA             NA         NA      NA           \n",
       "6 NA                      NA             NA         NA      NA           \n",
       "  LAIPassessed2 trial.y sample_pd.y OS_randomization DEADStatus RFSyears \n",
       "1 NA            NA      NA          2.00821900       1          1.7260270\n",
       "2 NA            NA      NA          0.09315068       1                 NA\n",
       "3 NA            NA      NA          0.68219180       1                 NA\n",
       "4 NA            NA      NA          0.05205479       1                 NA\n",
       "5 NA            NA      NA          0.68219180       1          0.4109589\n",
       "6 NA            NA      NA          1.79452100       1          0.6767123\n",
       "  RFSStatus RelapseCIStatus DaystoFirstCR CODCause       OS_CR     MRD_Status\n",
       "1 1         1               27            INFECTION      1.9329230 1         \n",
       "2 1         2               NA            RESISTANT DIS         NA 1         \n",
       "3 1         2               NA            INFECT + HAEM         NA 1         \n",
       "4 1         2               NA            INFECTION             NA 1         \n",
       "5 1         1               27            RECURRENT LEUK 0.6078029 1         \n",
       "6 1         1               88            RECURRENT LEUK 1.5523610 1         \n",
       "  MRD_relapse MRD_relapse_status CRdate     randDate_PB CRDate_PB\n",
       "1 1.7248460   1                  1994-02-28 0           0        \n",
       "2        NA   1                  NA         0           0        \n",
       "3        NA   1                  NA         0           0        \n",
       "4        NA   1                  NA         0           0        \n",
       "5 0.4106776   1                  1997-07-15 0           0        \n",
       "6 0.6762491   1                  1996-01-30 0           0        \n",
       "  relapseDate_PB boneDate_PB longCR_PB FLT3_ITD_New FLT3_ITD_Value_New\n",
       "1 0              0           0         NA           NA                \n",
       "2 0              0           0         NA           NA                \n",
       "3 0              0           0         NA           NA                \n",
       "4 0              0           0         NA           NA                \n",
       "5 0              0           0         NA           NA                \n",
       "6 0              0           0         NA           NA                \n",
       "  NoMatchFLT3\n",
       "1 Missing    \n",
       "2 Missing    \n",
       "3 Missing    \n",
       "4 Missing    \n",
       "5 Missing    \n",
       "6 Missing    "
      ]
     },
     "metadata": {},
     "output_type": "display_data"
    }
   ],
   "source": [
    "head(df)"
   ]
  },
  {
   "cell_type": "code",
   "execution_count": 35,
   "metadata": {},
   "outputs": [],
   "source": [
    "old = unique(df[df$del_17p==1,'data_pd'])"
   ]
  },
  {
   "cell_type": "code",
   "execution_count": 36,
   "metadata": {},
   "outputs": [],
   "source": [
    "#m = sure[sure$comment =='del_17p'|sure$Chr=='17p',]"
   ]
  },
  {
   "cell_type": "code",
   "execution_count": 37,
   "metadata": {},
   "outputs": [
    {
     "data": {
      "text/html": [
       "<ol class=list-inline>\n",
       "\t<li>'PD15417a'</li>\n",
       "\t<li>'PD15217a'</li>\n",
       "\t<li>'PD15246a'</li>\n",
       "\t<li>'PD15163a'</li>\n",
       "\t<li>'PD19837c'</li>\n",
       "\t<li>'PD22949c'</li>\n",
       "\t<li>'PD23007c'</li>\n",
       "\t<li>'PD23071c'</li>\n",
       "\t<li>'PD23098c'</li>\n",
       "\t<li>'PD25038a'</li>\n",
       "\t<li>'PD19779a'</li>\n",
       "\t<li>'PD23258a'</li>\n",
       "\t<li>'PD25218c'</li>\n",
       "\t<li>'PD25282c'</li>\n",
       "\t<li>'PD25504c'</li>\n",
       "\t<li>'PD25566a'</li>\n",
       "\t<li>'PD25629c'</li>\n",
       "\t<li>'PD20079a'</li>\n",
       "\t<li>'PD20067a'</li>\n",
       "\t<li>'PD15060a'</li>\n",
       "\t<li>'PD15102a'</li>\n",
       "\t<li>'PD15115c'</li>\n",
       "\t<li>'PD15329a'</li>\n",
       "\t<li>'PD14924a'</li>\n",
       "\t<li>'PD22541c'</li>\n",
       "\t<li>'PD22713a'</li>\n",
       "\t<li>'PD22806c'</li>\n",
       "\t<li>'PD22930a'</li>\n",
       "\t<li>'PD23074c'</li>\n",
       "\t<li>'PD23109a'</li>\n",
       "\t<li>'PD15024c'</li>\n",
       "\t<li>'PD15056c'</li>\n",
       "\t<li>'PD19773c'</li>\n",
       "\t<li>'PD23295a'</li>\n",
       "\t<li>'PD23287a'</li>\n",
       "\t<li>'PD19711a'</li>\n",
       "\t<li>'PD25062c'</li>\n",
       "\t<li>'PD25087c'</li>\n",
       "\t<li>'PD25201a'</li>\n",
       "\t<li>'PD25291c'</li>\n",
       "\t<li>'PD25445a'</li>\n",
       "\t<li>'PD15497a'</li>\n",
       "\t<li>'PD19647a'</li>\n",
       "\t<li>'PD25501a'</li>\n",
       "\t<li>'PD25617a'</li>\n",
       "</ol>\n"
      ],
      "text/latex": [
       "\\begin{enumerate*}\n",
       "\\item 'PD15417a'\n",
       "\\item 'PD15217a'\n",
       "\\item 'PD15246a'\n",
       "\\item 'PD15163a'\n",
       "\\item 'PD19837c'\n",
       "\\item 'PD22949c'\n",
       "\\item 'PD23007c'\n",
       "\\item 'PD23071c'\n",
       "\\item 'PD23098c'\n",
       "\\item 'PD25038a'\n",
       "\\item 'PD19779a'\n",
       "\\item 'PD23258a'\n",
       "\\item 'PD25218c'\n",
       "\\item 'PD25282c'\n",
       "\\item 'PD25504c'\n",
       "\\item 'PD25566a'\n",
       "\\item 'PD25629c'\n",
       "\\item 'PD20079a'\n",
       "\\item 'PD20067a'\n",
       "\\item 'PD15060a'\n",
       "\\item 'PD15102a'\n",
       "\\item 'PD15115c'\n",
       "\\item 'PD15329a'\n",
       "\\item 'PD14924a'\n",
       "\\item 'PD22541c'\n",
       "\\item 'PD22713a'\n",
       "\\item 'PD22806c'\n",
       "\\item 'PD22930a'\n",
       "\\item 'PD23074c'\n",
       "\\item 'PD23109a'\n",
       "\\item 'PD15024c'\n",
       "\\item 'PD15056c'\n",
       "\\item 'PD19773c'\n",
       "\\item 'PD23295a'\n",
       "\\item 'PD23287a'\n",
       "\\item 'PD19711a'\n",
       "\\item 'PD25062c'\n",
       "\\item 'PD25087c'\n",
       "\\item 'PD25201a'\n",
       "\\item 'PD25291c'\n",
       "\\item 'PD25445a'\n",
       "\\item 'PD15497a'\n",
       "\\item 'PD19647a'\n",
       "\\item 'PD25501a'\n",
       "\\item 'PD25617a'\n",
       "\\end{enumerate*}\n"
      ],
      "text/markdown": [
       "1. 'PD15417a'\n",
       "2. 'PD15217a'\n",
       "3. 'PD15246a'\n",
       "4. 'PD15163a'\n",
       "5. 'PD19837c'\n",
       "6. 'PD22949c'\n",
       "7. 'PD23007c'\n",
       "8. 'PD23071c'\n",
       "9. 'PD23098c'\n",
       "10. 'PD25038a'\n",
       "11. 'PD19779a'\n",
       "12. 'PD23258a'\n",
       "13. 'PD25218c'\n",
       "14. 'PD25282c'\n",
       "15. 'PD25504c'\n",
       "16. 'PD25566a'\n",
       "17. 'PD25629c'\n",
       "18. 'PD20079a'\n",
       "19. 'PD20067a'\n",
       "20. 'PD15060a'\n",
       "21. 'PD15102a'\n",
       "22. 'PD15115c'\n",
       "23. 'PD15329a'\n",
       "24. 'PD14924a'\n",
       "25. 'PD22541c'\n",
       "26. 'PD22713a'\n",
       "27. 'PD22806c'\n",
       "28. 'PD22930a'\n",
       "29. 'PD23074c'\n",
       "30. 'PD23109a'\n",
       "31. 'PD15024c'\n",
       "32. 'PD15056c'\n",
       "33. 'PD19773c'\n",
       "34. 'PD23295a'\n",
       "35. 'PD23287a'\n",
       "36. 'PD19711a'\n",
       "37. 'PD25062c'\n",
       "38. 'PD25087c'\n",
       "39. 'PD25201a'\n",
       "40. 'PD25291c'\n",
       "41. 'PD25445a'\n",
       "42. 'PD15497a'\n",
       "43. 'PD19647a'\n",
       "44. 'PD25501a'\n",
       "45. 'PD25617a'\n",
       "\n",
       "\n"
      ],
      "text/plain": [
       " [1] \"PD15417a\" \"PD15217a\" \"PD15246a\" \"PD15163a\" \"PD19837c\" \"PD22949c\"\n",
       " [7] \"PD23007c\" \"PD23071c\" \"PD23098c\" \"PD25038a\" \"PD19779a\" \"PD23258a\"\n",
       "[13] \"PD25218c\" \"PD25282c\" \"PD25504c\" \"PD25566a\" \"PD25629c\" \"PD20079a\"\n",
       "[19] \"PD20067a\" \"PD15060a\" \"PD15102a\" \"PD15115c\" \"PD15329a\" \"PD14924a\"\n",
       "[25] \"PD22541c\" \"PD22713a\" \"PD22806c\" \"PD22930a\" \"PD23074c\" \"PD23109a\"\n",
       "[31] \"PD15024c\" \"PD15056c\" \"PD19773c\" \"PD23295a\" \"PD23287a\" \"PD19711a\"\n",
       "[37] \"PD25062c\" \"PD25087c\" \"PD25201a\" \"PD25291c\" \"PD25445a\" \"PD15497a\"\n",
       "[43] \"PD19647a\" \"PD25501a\" \"PD25617a\""
      ]
     },
     "metadata": {},
     "output_type": "display_data"
    }
   ],
   "source": [
    "setdiff(unique(m$pd),old)"
   ]
  },
  {
   "cell_type": "code",
   "execution_count": 38,
   "metadata": {},
   "outputs": [],
   "source": [
    "comp = setdiff(old,unique(m$pd))"
   ]
  },
  {
   "cell_type": "code",
   "execution_count": 39,
   "metadata": {},
   "outputs": [
    {
     "data": {
      "text/html": [
       "<table>\n",
       "<caption>A data.frame: 1 × 2</caption>\n",
       "<thead>\n",
       "\t<tr><th></th><th scope=col>experiment</th><th scope=col>pd</th></tr>\n",
       "\t<tr><th></th><th scope=col>&lt;fct&gt;</th><th scope=col>&lt;fct&gt;</th></tr>\n",
       "</thead>\n",
       "<tbody>\n",
       "\t<tr><th scope=row>170</th><td>IID_H154866_T01_01_TD01</td><td>PD19667a</td></tr>\n",
       "</tbody>\n",
       "</table>\n"
      ],
      "text/latex": [
       "A data.frame: 1 × 2\n",
       "\\begin{tabular}{r|ll}\n",
       "  & experiment & pd\\\\\n",
       "  & <fct> & <fct>\\\\\n",
       "\\hline\n",
       "\t170 & IID\\_H154866\\_T01\\_01\\_TD01 & PD19667a\\\\\n",
       "\\end{tabular}\n"
      ],
      "text/markdown": [
       "\n",
       "A data.frame: 1 × 2\n",
       "\n",
       "| <!--/--> | experiment &lt;fct&gt; | pd &lt;fct&gt; |\n",
       "|---|---|---|\n",
       "| 170 | IID_H154866_T01_01_TD01 | PD19667a |\n",
       "\n"
      ],
      "text/plain": [
       "    experiment              pd      \n",
       "170 IID_H154866_T01_01_TD01 PD19667a"
      ]
     },
     "metadata": {},
     "output_type": "display_data"
    }
   ],
   "source": [
    "pd_x[pd_x$experiment=='IID_H154866_T01_01_TD01',]"
   ]
  },
  {
   "cell_type": "code",
   "execution_count": 40,
   "metadata": {},
   "outputs": [
    {
     "data": {
      "text/html": [
       "<table>\n",
       "<caption>A data.frame: 1 × 522</caption>\n",
       "<thead>\n",
       "\t<tr><th></th><th scope=col>X</th><th scope=col>donor_id</th><th scope=col>data_pd</th><th scope=col>sample_pd.x</th><th scope=col>ASXL1</th><th scope=col>ASXL2</th><th scope=col>ASXL3</th><th scope=col>ATRX</th><th scope=col>BAGE3</th><th scope=col>BCOR</th><th scope=col>BRAF</th><th scope=col>CBFB</th><th scope=col>CBL</th><th scope=col>CDKN2A</th><th scope=col>CEBPA_bi</th><th scope=col>CEBPA_mono</th><th scope=col>CNTN5</th><th scope=col>CREBBP</th><th scope=col>CSF1R</th><th scope=col>CSF3R</th><th scope=col>CTCF</th><th scope=col>CUL2</th><th scope=col>CUX1</th><th scope=col>DNMT3A</th><th scope=col>EED</th><th scope=col>ETV6</th><th scope=col>EZH2</th><th scope=col>FBXW7</th><th scope=col>FLT3_ITD</th><th scope=col>FLT3_TKD</th><th scope=col>FLT3_other</th><th scope=col>GATA1</th><th scope=col>GATA2</th><th scope=col>GNAS</th><th scope=col>GNB1</th><th scope=col>IDH1</th><th scope=col>IDH2_p.R140</th><th scope=col>IDH2_p.R172</th><th scope=col>JAK2</th><th scope=col>JAK3</th><th scope=col>KANSL1</th><th scope=col>KDM6A</th><th scope=col>KIT</th><th scope=col>KMT2C</th><th scope=col>KMT2D</th><th scope=col>KMT2E</th><th scope=col>KRAS</th><th scope=col>LUC7L2</th><th scope=col>MED12</th><th scope=col>MLL</th><th scope=col>MPL</th><th scope=col>MYC</th><th scope=col>NF1</th><th scope=col>NFE2</th><th scope=col>NOTCH1</th><th scope=col>NPM1</th><th scope=col>NRAS_other</th><th scope=col>NRAS_p.G12_13</th><th scope=col>NRAS_p.Q61_62</th><th scope=col>PDS5B</th><th scope=col>PHF6</th><th scope=col>PPFIA2</th><th scope=col>PRPF8</th><th scope=col>PTEN</th><th scope=col>PTPN11</th><th scope=col>PTPRF</th><th scope=col>PTPRT</th><th scope=col>RAD21</th><th scope=col>RIT1</th><th scope=col>RUNX1</th><th scope=col>S100B</th><th scope=col>SETBP1</th><th scope=col>SF1</th><th scope=col>SF3B1</th><th scope=col>SMC1A</th><th scope=col>SMC3</th><th scope=col>SMG1</th><th scope=col>SPP1</th><th scope=col>SRSF2</th><th scope=col>STAG2</th><th scope=col>STAT5B</th><th scope=col>SUZ12</th><th scope=col>TET2</th><th scope=col>TP53</th><th scope=col>U2AF1</th><th scope=col>WT1</th><th scope=col>ZRSR2</th><th scope=col>trial.x</th><th scope=col>date_entry</th><th scope=col>gender</th><th scope=col>age</th><th scope=col>ethnic</th><th scope=col>ahd</th><th scope=col>perf_status</th><th scope=col>secondary</th><th scope=col>wbc</th><th scope=col>hb</th><th scope=col>plt</th><th scope=col>bm_blasts</th><th scope=col>neut</th><th scope=col>intense</th><th scope=col>trtcode</th><th scope=col>acmarr</th><th scope=col>acmcar</th><th scope=col>acmhvd</th><th scope=col>acmibd</th><th scope=col>acmdia</th><th scope=col>acmcvd</th><th scope=col>acmpsy</th><th scope=col>acmobe</th><th scope=col>acminf</th><th scope=col>acmrhe</th><th scope=col>acmpep</th><th scope=col>acmren</th><th scope=col>acmpulmod</th><th scope=col>acmpulsev</th><th scope=col>acmpri</th><th scope=col>acmhepmil</th><th scope=col>acmhepsev</th><th scope=col>acmoth</th><th scope=col>cod</th><th scope=col>cr</th><th scope=col>os</th><th scope=col>os_status</th><th scope=col>pbmts</th><th scope=col>pbmty</th><th scope=col>t_v_11</th><th scope=col>add_10p</th><th scope=col>add_10q</th><th scope=col>add_11p</th><th scope=col>add_11q</th><th scope=col>add_12p</th><th scope=col>add_12q</th><th scope=col>add_13p</th><th scope=col>add_13q</th><th scope=col>add_14p</th><th scope=col>add_14q</th><th scope=col>add_15p</th><th scope=col>add_15q</th><th scope=col>add_16p</th><th scope=col>add_16q</th><th scope=col>add_17p</th><th scope=col>add_17q</th><th scope=col>add_18p</th><th scope=col>add_18q</th><th scope=col>add_19p</th><th scope=col>add_19q</th><th scope=col>add_1p</th><th scope=col>add_1q</th><th scope=col>add_20p</th><th scope=col>add_20q</th><th scope=col>add_21p</th><th scope=col>add_21q</th><th scope=col>add_22p</th><th scope=col>add_22q</th><th scope=col>add_2p</th><th scope=col>add_2q</th><th scope=col>add_3p</th><th scope=col>add_3q</th><th scope=col>add_4p</th><th scope=col>add_4q</th><th scope=col>add_5p</th><th scope=col>add_5q</th><th scope=col>add_6p</th><th scope=col>add_6q</th><th scope=col>add_7p</th><th scope=col>add_7q</th><th scope=col>add_8p</th><th scope=col>add_8q</th><th scope=col>add_9p</th><th scope=col>add_9q</th><th scope=col>add_xp</th><th scope=col>add_xq</th><th scope=col>complex_translocations</th><th scope=col>del_10p</th><th scope=col>del_10q</th><th scope=col>del_11p</th><th scope=col>del_11q</th><th scope=col>del_12p</th><th scope=col>del_12q</th><th scope=col>del_13p</th><th scope=col>del_13q</th><th scope=col>del_14q</th><th scope=col>del_15p</th><th scope=col>del_15q</th><th scope=col>del_16p</th><th scope=col>del_16q</th><th scope=col>del_17p</th><th scope=col>del_17q</th><th scope=col>del_18p</th><th scope=col>del_18q</th><th scope=col>del_19p</th><th scope=col>del_19q</th><th scope=col>del_1p</th><th scope=col>del_1q</th><th scope=col>del_20q</th><th scope=col>del_21q</th><th scope=col>del_22q</th><th scope=col>del_2p</th><th scope=col>del_2q</th><th scope=col>⋯</th><th scope=col>minus11</th><th scope=col>minus12</th><th scope=col>minus13</th><th scope=col>minus14</th><th scope=col>minus15</th><th scope=col>minus16</th><th scope=col>minus17</th><th scope=col>minus18</th><th scope=col>minus19</th><th scope=col>minus2</th><th scope=col>minus20</th><th scope=col>minus21</th><th scope=col>minus22</th><th scope=col>minus3</th><th scope=col>minus4</th><th scope=col>minus5</th><th scope=col>minus6</th><th scope=col>minus7</th><th scope=col>minus7.</th><th scope=col>minus8</th><th scope=col>minus9</th><th scope=col>minusx</th><th scope=col>minusy</th><th scope=col>plus1</th><th scope=col>plus10</th><th scope=col>plus11</th><th scope=col>plus12</th><th scope=col>plus13</th><th scope=col>plus14</th><th scope=col>plus15</th><th scope=col>plus16</th><th scope=col>plus17</th><th scope=col>plus18</th><th scope=col>plus19</th><th scope=col>plus2</th><th scope=col>plus20</th><th scope=col>plus21</th><th scope=col>plus22</th><th scope=col>plus3</th><th scope=col>plus4</th><th scope=col>plus5</th><th scope=col>plus6</th><th scope=col>plus7</th><th scope=col>plus8</th><th scope=col>plus9</th><th scope=col>plusx</th><th scope=col>plusy</th><th scope=col>ring</th><th scope=col>t_10_13</th><th scope=col>t_10_19</th><th scope=col>t_10_21</th><th scope=col>t_12_13</th><th scope=col>t_12_14</th><th scope=col>t_12_15</th><th scope=col>t_12_17</th><th scope=col>t_12_20</th><th scope=col>t_12_21</th><th scope=col>t_12_22</th><th scope=col>t_13_15</th><th scope=col>t_13_19</th><th scope=col>t_15_16</th><th scope=col>t_15_17</th><th scope=col>t_16_17</th><th scope=col>t_16_21</th><th scope=col>t_17_18</th><th scope=col>t_17_19</th><th scope=col>t_17_20</th><th scope=col>t_17_21</th><th scope=col>t_17_22</th><th scope=col>t_19_22</th><th scope=col>t_1_12</th><th scope=col>t_1_14</th><th scope=col>t_1_15</th><th scope=col>t_1_16</th><th scope=col>t_1_17</th><th scope=col>t_1_19</th><th scope=col>t_1_2</th><th scope=col>t_1_21</th><th scope=col>t_1_22</th><th scope=col>t_1_3</th><th scope=col>t_1_4</th><th scope=col>t_1_5</th><th scope=col>t_1_6</th><th scope=col>t_1_8</th><th scope=col>t_1_9</th><th scope=col>t_2_12</th><th scope=col>t_2_17</th><th scope=col>t_2_21</th><th scope=col>t_2_3</th><th scope=col>t_2_5</th><th scope=col>t_2_7</th><th scope=col>t_2_8</th><th scope=col>t_2_9</th><th scope=col>t_3_14</th><th scope=col>t_3_16</th><th scope=col>t_3_19</th><th scope=col>t_3_21</th><th scope=col>t_3_4</th><th scope=col>t_3_5</th><th scope=col>t_3_6</th><th scope=col>t_3_7</th><th scope=col>t_3_9</th><th scope=col>t_4_10</th><th scope=col>t_4_12</th><th scope=col>t_4_13</th><th scope=col>t_4_15</th><th scope=col>t_4_17</th><th scope=col>t_4_19</th><th scope=col>t_4_21</th><th scope=col>t_4_5</th><th scope=col>t_4_6</th><th scope=col>t_4_8</th><th scope=col>t_4_9</th><th scope=col>t_5_10</th><th scope=col>t_5_12</th><th scope=col>t_5_13</th><th scope=col>t_5_15</th><th scope=col>t_5_17</th><th scope=col>t_5_21</th><th scope=col>t_5_7</th><th scope=col>t_5_8</th><th scope=col>t_5_9</th><th scope=col>t_6_10</th><th scope=col>t_6_16</th><th scope=col>t_6_17</th><th scope=col>t_6_22</th><th scope=col>t_6_7</th><th scope=col>t_6_9</th><th scope=col>t_7_12</th><th scope=col>t_7_14</th><th scope=col>t_7_16</th><th scope=col>t_7_17</th><th scope=col>t_7_8</th><th scope=col>t_8_10</th><th scope=col>t_8_13</th><th scope=col>t_8_14</th><th scope=col>t_8_16</th><th scope=col>t_8_17</th><th scope=col>t_8_19</th><th scope=col>t_8_20</th><th scope=col>t_8_21</th><th scope=col>t_8_9</th><th scope=col>t_9_10</th><th scope=col>t_9_11</th><th scope=col>t_9_12</th><th scope=col>t_9_13</th><th scope=col>t_9_15</th><th scope=col>t_9_17</th><th scope=col>t_9_21</th><th scope=col>t_9_22</th><th scope=col>t_x_1</th><th scope=col>t_x_12</th><th scope=col>t_x_15</th><th scope=col>t_x_16</th><th scope=col>t_x_21</th><th scope=col>t_x_5</th><th scope=col>t_x_y</th><th scope=col>wholedup</th><th scope=col>complex</th><th scope=col>eln_2017</th><th scope=col>nejm</th><th scope=col>AMLID</th><th scope=col>dead60</th><th scope=col>MRDgp1</th><th scope=col>MRDgp2</th><th scope=col>CRby1</th><th scope=col>CRby2</th><th scope=col>MRD1</th><th scope=col>MRD2</th><th scope=col>LAIPdetection1</th><th scope=col>LAIPvalue1</th><th scope=col>Sample1</th><th scope=col>DiagnosticLAIPscreening</th><th scope=col>LAIPdetection2</th><th scope=col>LAIPvalue2</th><th scope=col>Sample2</th><th scope=col>LAIPassessed1</th><th scope=col>LAIPassessed2</th><th scope=col>trial.y</th><th scope=col>sample_pd.y</th><th scope=col>OS_randomization</th><th scope=col>DEADStatus</th><th scope=col>RFSyears</th><th scope=col>RFSStatus</th><th scope=col>RelapseCIStatus</th><th scope=col>DaystoFirstCR</th><th scope=col>CODCause</th><th scope=col>OS_CR</th><th scope=col>MRD_Status</th><th scope=col>MRD_relapse</th><th scope=col>MRD_relapse_status</th><th scope=col>CRdate</th><th scope=col>randDate_PB</th><th scope=col>CRDate_PB</th><th scope=col>relapseDate_PB</th><th scope=col>boneDate_PB</th><th scope=col>longCR_PB</th><th scope=col>FLT3_ITD_New</th><th scope=col>FLT3_ITD_Value_New</th><th scope=col>NoMatchFLT3</th></tr>\n",
       "\t<tr><th></th><th scope=col>&lt;int&gt;</th><th scope=col>&lt;chr&gt;</th><th scope=col>&lt;chr&gt;</th><th scope=col>&lt;chr&gt;</th><th scope=col>&lt;int&gt;</th><th scope=col>&lt;int&gt;</th><th scope=col>&lt;int&gt;</th><th scope=col>&lt;int&gt;</th><th scope=col>&lt;int&gt;</th><th scope=col>&lt;int&gt;</th><th scope=col>&lt;int&gt;</th><th scope=col>&lt;int&gt;</th><th scope=col>&lt;int&gt;</th><th scope=col>&lt;int&gt;</th><th scope=col>&lt;int&gt;</th><th scope=col>&lt;int&gt;</th><th scope=col>&lt;int&gt;</th><th scope=col>&lt;int&gt;</th><th scope=col>&lt;int&gt;</th><th scope=col>&lt;int&gt;</th><th scope=col>&lt;int&gt;</th><th scope=col>&lt;int&gt;</th><th scope=col>&lt;int&gt;</th><th scope=col>&lt;int&gt;</th><th scope=col>&lt;int&gt;</th><th scope=col>&lt;int&gt;</th><th scope=col>&lt;int&gt;</th><th scope=col>&lt;int&gt;</th><th scope=col>&lt;int&gt;</th><th scope=col>&lt;int&gt;</th><th scope=col>&lt;int&gt;</th><th scope=col>&lt;int&gt;</th><th scope=col>&lt;int&gt;</th><th scope=col>&lt;int&gt;</th><th scope=col>&lt;int&gt;</th><th scope=col>&lt;int&gt;</th><th scope=col>&lt;int&gt;</th><th scope=col>&lt;int&gt;</th><th scope=col>&lt;int&gt;</th><th scope=col>&lt;int&gt;</th><th scope=col>&lt;int&gt;</th><th scope=col>&lt;int&gt;</th><th scope=col>&lt;int&gt;</th><th scope=col>&lt;int&gt;</th><th scope=col>&lt;int&gt;</th><th scope=col>&lt;int&gt;</th><th scope=col>&lt;int&gt;</th><th scope=col>&lt;int&gt;</th><th scope=col>&lt;int&gt;</th><th scope=col>&lt;int&gt;</th><th scope=col>&lt;int&gt;</th><th scope=col>&lt;int&gt;</th><th scope=col>&lt;int&gt;</th><th scope=col>&lt;int&gt;</th><th scope=col>&lt;int&gt;</th><th scope=col>&lt;int&gt;</th><th scope=col>&lt;int&gt;</th><th scope=col>&lt;int&gt;</th><th scope=col>&lt;int&gt;</th><th scope=col>&lt;int&gt;</th><th scope=col>&lt;int&gt;</th><th scope=col>&lt;int&gt;</th><th scope=col>&lt;int&gt;</th><th scope=col>&lt;int&gt;</th><th scope=col>&lt;int&gt;</th><th scope=col>&lt;int&gt;</th><th scope=col>&lt;int&gt;</th><th scope=col>&lt;int&gt;</th><th scope=col>&lt;int&gt;</th><th scope=col>&lt;int&gt;</th><th scope=col>&lt;int&gt;</th><th scope=col>&lt;int&gt;</th><th scope=col>&lt;int&gt;</th><th scope=col>&lt;int&gt;</th><th scope=col>&lt;int&gt;</th><th scope=col>&lt;int&gt;</th><th scope=col>&lt;int&gt;</th><th scope=col>&lt;int&gt;</th><th scope=col>&lt;int&gt;</th><th scope=col>&lt;int&gt;</th><th scope=col>&lt;int&gt;</th><th scope=col>&lt;int&gt;</th><th scope=col>&lt;int&gt;</th><th scope=col>&lt;int&gt;</th><th scope=col>&lt;int&gt;</th><th scope=col>&lt;int&gt;</th><th scope=col>&lt;int&gt;</th><th scope=col>&lt;int&gt;</th><th scope=col>&lt;chr&gt;</th><th scope=col>&lt;int&gt;</th><th scope=col>&lt;dbl&gt;</th><th scope=col>&lt;chr&gt;</th><th scope=col>&lt;int&gt;</th><th scope=col>&lt;int&gt;</th><th scope=col>&lt;int&gt;</th><th scope=col>&lt;dbl&gt;</th><th scope=col>&lt;dbl&gt;</th><th scope=col>&lt;dbl&gt;</th><th scope=col>&lt;dbl&gt;</th><th scope=col>&lt;dbl&gt;</th><th scope=col>&lt;int&gt;</th><th scope=col>&lt;int&gt;</th><th scope=col>&lt;int&gt;</th><th scope=col>&lt;int&gt;</th><th scope=col>&lt;int&gt;</th><th scope=col>&lt;int&gt;</th><th scope=col>&lt;int&gt;</th><th scope=col>&lt;int&gt;</th><th scope=col>&lt;int&gt;</th><th scope=col>&lt;int&gt;</th><th scope=col>&lt;int&gt;</th><th scope=col>&lt;int&gt;</th><th scope=col>&lt;int&gt;</th><th scope=col>&lt;int&gt;</th><th scope=col>&lt;int&gt;</th><th scope=col>&lt;int&gt;</th><th scope=col>&lt;int&gt;</th><th scope=col>&lt;int&gt;</th><th scope=col>&lt;int&gt;</th><th scope=col>&lt;int&gt;</th><th scope=col>&lt;int&gt;</th><th scope=col>&lt;int&gt;</th><th scope=col>&lt;dbl&gt;</th><th scope=col>&lt;int&gt;</th><th scope=col>&lt;chr&gt;</th><th scope=col>&lt;chr&gt;</th><th scope=col>&lt;int&gt;</th><th scope=col>&lt;int&gt;</th><th scope=col>&lt;int&gt;</th><th scope=col>&lt;int&gt;</th><th scope=col>&lt;int&gt;</th><th scope=col>&lt;int&gt;</th><th scope=col>&lt;int&gt;</th><th scope=col>&lt;int&gt;</th><th scope=col>&lt;int&gt;</th><th scope=col>&lt;int&gt;</th><th scope=col>&lt;int&gt;</th><th scope=col>&lt;int&gt;</th><th scope=col>&lt;int&gt;</th><th scope=col>&lt;int&gt;</th><th scope=col>&lt;int&gt;</th><th scope=col>&lt;int&gt;</th><th scope=col>&lt;int&gt;</th><th scope=col>&lt;int&gt;</th><th scope=col>&lt;int&gt;</th><th scope=col>&lt;int&gt;</th><th scope=col>&lt;int&gt;</th><th scope=col>&lt;int&gt;</th><th scope=col>&lt;int&gt;</th><th scope=col>&lt;int&gt;</th><th scope=col>&lt;int&gt;</th><th scope=col>&lt;int&gt;</th><th scope=col>&lt;int&gt;</th><th scope=col>&lt;int&gt;</th><th scope=col>&lt;int&gt;</th><th scope=col>&lt;int&gt;</th><th scope=col>&lt;int&gt;</th><th scope=col>&lt;int&gt;</th><th scope=col>&lt;int&gt;</th><th scope=col>&lt;int&gt;</th><th scope=col>&lt;int&gt;</th><th scope=col>&lt;int&gt;</th><th scope=col>&lt;int&gt;</th><th scope=col>&lt;int&gt;</th><th scope=col>&lt;int&gt;</th><th scope=col>&lt;int&gt;</th><th scope=col>&lt;int&gt;</th><th scope=col>&lt;int&gt;</th><th scope=col>&lt;int&gt;</th><th scope=col>&lt;int&gt;</th><th scope=col>&lt;int&gt;</th><th scope=col>&lt;int&gt;</th><th scope=col>&lt;int&gt;</th><th scope=col>&lt;int&gt;</th><th scope=col>&lt;int&gt;</th><th scope=col>&lt;int&gt;</th><th scope=col>&lt;int&gt;</th><th scope=col>&lt;int&gt;</th><th scope=col>&lt;int&gt;</th><th scope=col>&lt;int&gt;</th><th scope=col>&lt;int&gt;</th><th scope=col>&lt;int&gt;</th><th scope=col>&lt;int&gt;</th><th scope=col>&lt;int&gt;</th><th scope=col>&lt;int&gt;</th><th scope=col>&lt;int&gt;</th><th scope=col>&lt;int&gt;</th><th scope=col>&lt;int&gt;</th><th scope=col>&lt;int&gt;</th><th scope=col>&lt;int&gt;</th><th scope=col>&lt;int&gt;</th><th scope=col>&lt;int&gt;</th><th scope=col>&lt;int&gt;</th><th scope=col>&lt;int&gt;</th><th scope=col>&lt;int&gt;</th><th scope=col>&lt;int&gt;</th><th scope=col>&lt;int&gt;</th><th scope=col>&lt;int&gt;</th><th scope=col>&lt;int&gt;</th><th scope=col>&lt;int&gt;</th><th scope=col>⋯</th><th scope=col>&lt;int&gt;</th><th scope=col>&lt;int&gt;</th><th scope=col>&lt;int&gt;</th><th scope=col>&lt;int&gt;</th><th scope=col>&lt;int&gt;</th><th scope=col>&lt;int&gt;</th><th scope=col>&lt;int&gt;</th><th scope=col>&lt;int&gt;</th><th scope=col>&lt;int&gt;</th><th scope=col>&lt;int&gt;</th><th scope=col>&lt;int&gt;</th><th scope=col>&lt;int&gt;</th><th scope=col>&lt;int&gt;</th><th scope=col>&lt;int&gt;</th><th scope=col>&lt;int&gt;</th><th scope=col>&lt;int&gt;</th><th scope=col>&lt;int&gt;</th><th scope=col>&lt;int&gt;</th><th scope=col>&lt;int&gt;</th><th scope=col>&lt;int&gt;</th><th scope=col>&lt;int&gt;</th><th scope=col>&lt;int&gt;</th><th scope=col>&lt;int&gt;</th><th scope=col>&lt;int&gt;</th><th scope=col>&lt;int&gt;</th><th scope=col>&lt;int&gt;</th><th scope=col>&lt;int&gt;</th><th scope=col>&lt;int&gt;</th><th scope=col>&lt;int&gt;</th><th scope=col>&lt;int&gt;</th><th scope=col>&lt;int&gt;</th><th scope=col>&lt;int&gt;</th><th scope=col>&lt;int&gt;</th><th scope=col>&lt;int&gt;</th><th scope=col>&lt;int&gt;</th><th scope=col>&lt;int&gt;</th><th scope=col>&lt;int&gt;</th><th scope=col>&lt;int&gt;</th><th scope=col>&lt;int&gt;</th><th scope=col>&lt;int&gt;</th><th scope=col>&lt;int&gt;</th><th scope=col>&lt;int&gt;</th><th scope=col>&lt;int&gt;</th><th scope=col>&lt;int&gt;</th><th scope=col>&lt;int&gt;</th><th scope=col>&lt;int&gt;</th><th scope=col>&lt;int&gt;</th><th scope=col>&lt;int&gt;</th><th scope=col>&lt;int&gt;</th><th scope=col>&lt;int&gt;</th><th scope=col>&lt;int&gt;</th><th scope=col>&lt;int&gt;</th><th scope=col>&lt;int&gt;</th><th scope=col>&lt;int&gt;</th><th scope=col>&lt;int&gt;</th><th scope=col>&lt;int&gt;</th><th scope=col>&lt;int&gt;</th><th scope=col>&lt;int&gt;</th><th scope=col>&lt;int&gt;</th><th scope=col>&lt;int&gt;</th><th scope=col>&lt;int&gt;</th><th scope=col>&lt;int&gt;</th><th scope=col>&lt;int&gt;</th><th scope=col>&lt;int&gt;</th><th scope=col>&lt;int&gt;</th><th scope=col>&lt;int&gt;</th><th scope=col>&lt;int&gt;</th><th scope=col>&lt;int&gt;</th><th scope=col>&lt;int&gt;</th><th scope=col>&lt;int&gt;</th><th scope=col>&lt;int&gt;</th><th scope=col>&lt;int&gt;</th><th scope=col>&lt;int&gt;</th><th scope=col>&lt;int&gt;</th><th scope=col>&lt;int&gt;</th><th scope=col>&lt;int&gt;</th><th scope=col>&lt;int&gt;</th><th scope=col>&lt;int&gt;</th><th scope=col>&lt;int&gt;</th><th scope=col>&lt;int&gt;</th><th scope=col>&lt;int&gt;</th><th scope=col>&lt;int&gt;</th><th scope=col>&lt;int&gt;</th><th scope=col>&lt;int&gt;</th><th scope=col>&lt;int&gt;</th><th scope=col>&lt;int&gt;</th><th scope=col>&lt;int&gt;</th><th scope=col>&lt;int&gt;</th><th scope=col>&lt;int&gt;</th><th scope=col>&lt;int&gt;</th><th scope=col>&lt;int&gt;</th><th scope=col>&lt;int&gt;</th><th scope=col>&lt;int&gt;</th><th scope=col>&lt;int&gt;</th><th scope=col>&lt;int&gt;</th><th scope=col>&lt;int&gt;</th><th scope=col>&lt;int&gt;</th><th scope=col>&lt;int&gt;</th><th scope=col>&lt;int&gt;</th><th scope=col>&lt;int&gt;</th><th scope=col>&lt;int&gt;</th><th scope=col>&lt;int&gt;</th><th scope=col>&lt;int&gt;</th><th scope=col>&lt;int&gt;</th><th scope=col>&lt;int&gt;</th><th scope=col>&lt;int&gt;</th><th scope=col>&lt;int&gt;</th><th scope=col>&lt;int&gt;</th><th scope=col>&lt;int&gt;</th><th scope=col>&lt;int&gt;</th><th scope=col>&lt;int&gt;</th><th scope=col>&lt;int&gt;</th><th scope=col>&lt;int&gt;</th><th scope=col>&lt;int&gt;</th><th scope=col>&lt;int&gt;</th><th scope=col>&lt;int&gt;</th><th scope=col>&lt;int&gt;</th><th scope=col>&lt;int&gt;</th><th scope=col>&lt;int&gt;</th><th scope=col>&lt;int&gt;</th><th scope=col>&lt;int&gt;</th><th scope=col>&lt;int&gt;</th><th scope=col>&lt;int&gt;</th><th scope=col>&lt;int&gt;</th><th scope=col>&lt;int&gt;</th><th scope=col>&lt;int&gt;</th><th scope=col>&lt;int&gt;</th><th scope=col>&lt;int&gt;</th><th scope=col>&lt;int&gt;</th><th scope=col>&lt;int&gt;</th><th scope=col>&lt;int&gt;</th><th scope=col>&lt;int&gt;</th><th scope=col>&lt;int&gt;</th><th scope=col>&lt;int&gt;</th><th scope=col>&lt;int&gt;</th><th scope=col>&lt;int&gt;</th><th scope=col>&lt;int&gt;</th><th scope=col>&lt;int&gt;</th><th scope=col>&lt;int&gt;</th><th scope=col>&lt;int&gt;</th><th scope=col>&lt;int&gt;</th><th scope=col>&lt;int&gt;</th><th scope=col>&lt;int&gt;</th><th scope=col>&lt;int&gt;</th><th scope=col>&lt;int&gt;</th><th scope=col>&lt;int&gt;</th><th scope=col>&lt;int&gt;</th><th scope=col>&lt;int&gt;</th><th scope=col>&lt;int&gt;</th><th scope=col>&lt;int&gt;</th><th scope=col>&lt;int&gt;</th><th scope=col>&lt;int&gt;</th><th scope=col>&lt;int&gt;</th><th scope=col>&lt;int&gt;</th><th scope=col>&lt;int&gt;</th><th scope=col>&lt;int&gt;</th><th scope=col>&lt;int&gt;</th><th scope=col>&lt;int&gt;</th><th scope=col>&lt;int&gt;</th><th scope=col>&lt;chr&gt;</th><th scope=col>&lt;chr&gt;</th><th scope=col>&lt;chr&gt;</th><th scope=col>&lt;int&gt;</th><th scope=col>&lt;chr&gt;</th><th scope=col>&lt;chr&gt;</th><th scope=col>&lt;chr&gt;</th><th scope=col>&lt;chr&gt;</th><th scope=col>&lt;chr&gt;</th><th scope=col>&lt;chr&gt;</th><th scope=col>&lt;chr&gt;</th><th scope=col>&lt;dbl&gt;</th><th scope=col>&lt;chr&gt;</th><th scope=col>&lt;chr&gt;</th><th scope=col>&lt;chr&gt;</th><th scope=col>&lt;dbl&gt;</th><th scope=col>&lt;chr&gt;</th><th scope=col>&lt;chr&gt;</th><th scope=col>&lt;chr&gt;</th><th scope=col>&lt;chr&gt;</th><th scope=col>&lt;chr&gt;</th><th scope=col>&lt;dbl&gt;</th><th scope=col>&lt;int&gt;</th><th scope=col>&lt;dbl&gt;</th><th scope=col>&lt;int&gt;</th><th scope=col>&lt;int&gt;</th><th scope=col>&lt;int&gt;</th><th scope=col>&lt;chr&gt;</th><th scope=col>&lt;dbl&gt;</th><th scope=col>&lt;int&gt;</th><th scope=col>&lt;dbl&gt;</th><th scope=col>&lt;int&gt;</th><th scope=col>&lt;chr&gt;</th><th scope=col>&lt;int&gt;</th><th scope=col>&lt;int&gt;</th><th scope=col>&lt;int&gt;</th><th scope=col>&lt;int&gt;</th><th scope=col>&lt;int&gt;</th><th scope=col>&lt;int&gt;</th><th scope=col>&lt;dbl&gt;</th><th scope=col>&lt;chr&gt;</th></tr>\n",
       "</thead>\n",
       "<tbody>\n",
       "\t<tr><th scope=row>770</th><td>770</td><td>17-1032</td><td>PD22541c</td><td>PD22541c</td><td>0</td><td>0</td><td>0</td><td>0</td><td>0</td><td>0</td><td>0</td><td>0</td><td>0</td><td>0</td><td>0</td><td>0</td><td>0</td><td>0</td><td>0</td><td>0</td><td>0</td><td>0</td><td>0</td><td>0</td><td>0</td><td>0</td><td>0</td><td>0</td><td>0</td><td>0</td><td>0</td><td>0</td><td>0</td><td>0</td><td>0</td><td>0</td><td>0</td><td>1</td><td>0</td><td>0</td><td>0</td><td>0</td><td>0</td><td>0</td><td>0</td><td>0</td><td>0</td><td>0</td><td>0</td><td>0</td><td>0</td><td>0</td><td>0</td><td>0</td><td>0</td><td>0</td><td>0</td><td>0</td><td>0</td><td>0</td><td>0</td><td>0</td><td>0</td><td>0</td><td>0</td><td>0</td><td>0</td><td>0</td><td>0</td><td>0</td><td>0</td><td>0</td><td>0</td><td>0</td><td>0</td><td>0</td><td>0</td><td>0</td><td>0</td><td>0</td><td>0</td><td>0</td><td>0</td><td>1</td><td>0</td><td>0</td><td>0</td><td>0</td><td>2009-05-29</td><td>1</td><td>63.88227</td><td>White</td><td>1</td><td>0</td><td>1</td><td>0.7</td><td>9.699997</td><td>110</td><td>55</td><td>NA</td><td>1</td><td>170168</td><td>0</td><td>0</td><td>0</td><td>0</td><td>0</td><td>0</td><td>0</td><td>0</td><td>0</td><td>0</td><td>0</td><td>0</td><td>0</td><td>0</td><td>0</td><td>0</td><td>0</td><td>1</td><td>10</td><td>0</td><td>0.183436</td><td>1</td><td>NONE</td><td>NONE</td><td>NA</td><td>0</td><td>0</td><td>0</td><td>1</td><td>0</td><td>0</td><td>0</td><td>0</td><td>0</td><td>0</td><td>0</td><td>0</td><td>0</td><td>0</td><td>0</td><td>0</td><td>0</td><td>0</td><td>0</td><td>0</td><td>0</td><td>0</td><td>0</td><td>0</td><td>0</td><td>0</td><td>0</td><td>0</td><td>0</td><td>0</td><td>0</td><td>0</td><td>0</td><td>0</td><td>0</td><td>0</td><td>0</td><td>0</td><td>0</td><td>0</td><td>0</td><td>0</td><td>0</td><td>1</td><td>0</td><td>0</td><td>0</td><td>0</td><td>0</td><td>1</td><td>0</td><td>0</td><td>0</td><td>0</td><td>0</td><td>0</td><td>0</td><td>0</td><td>0</td><td>0</td><td>0</td><td>0</td><td>0</td><td>0</td><td>0</td><td>0</td><td>0</td><td>0</td><td>0</td><td>0</td><td>0</td><td>0</td><td>1</td><td>⋯</td><td>0</td><td>0</td><td>0</td><td>0</td><td>0</td><td>0</td><td>1</td><td>0</td><td>0</td><td>0</td><td>0</td><td>0</td><td>0</td><td>0</td><td>0</td><td>0</td><td>0</td><td>0</td><td>0</td><td>0</td><td>0</td><td>0</td><td>0</td><td>0</td><td>0</td><td>0</td><td>0</td><td>0</td><td>0</td><td>0</td><td>0</td><td>0</td><td>0</td><td>0</td><td>0</td><td>0</td><td>0</td><td>0</td><td>0</td><td>0</td><td>0</td><td>0</td><td>0</td><td>0</td><td>0</td><td>0</td><td>0</td><td>0</td><td>NA</td><td>NA</td><td>NA</td><td>NA</td><td>NA</td><td>NA</td><td>NA</td><td>NA</td><td>NA</td><td>NA</td><td>NA</td><td>NA</td><td>NA</td><td>NA</td><td>NA</td><td>NA</td><td>NA</td><td>NA</td><td>NA</td><td>NA</td><td>NA</td><td>NA</td><td>NA</td><td>NA</td><td>NA</td><td>NA</td><td>NA</td><td>NA</td><td>NA</td><td>NA</td><td>NA</td><td>NA</td><td>NA</td><td>NA</td><td>NA</td><td>NA</td><td>NA</td><td>NA</td><td>NA</td><td>NA</td><td>NA</td><td>NA</td><td>NA</td><td>NA</td><td>NA</td><td>NA</td><td>NA</td><td>NA</td><td>NA</td><td>NA</td><td>NA</td><td>NA</td><td>NA</td><td>NA</td><td>NA</td><td>NA</td><td>NA</td><td>NA</td><td>NA</td><td>NA</td><td>NA</td><td>NA</td><td>NA</td><td>NA</td><td>NA</td><td>NA</td><td>NA</td><td>NA</td><td>NA</td><td>NA</td><td>NA</td><td>NA</td><td>NA</td><td>NA</td><td>NA</td><td>NA</td><td>NA</td><td>NA</td><td>NA</td><td>NA</td><td>NA</td><td>NA</td><td>NA</td><td>NA</td><td>NA</td><td>NA</td><td>NA</td><td>NA</td><td>NA</td><td>NA</td><td>NA</td><td>NA</td><td>NA</td><td>NA</td><td>NA</td><td>NA</td><td>NA</td><td>NA</td><td>NA</td><td>NA</td><td>NA</td><td>NA</td><td>NA</td><td>NA</td><td>NA</td><td>NA</td><td>NA</td><td>NA</td><td>NA</td><td>0</td><td>1</td><td>adverse</td><td>TP53_aneuploidy</td><td>17-1032</td><td>0</td><td>4</td><td>.</td><td>No</td><td>NA</td><td>RD</td><td>NA</td><td>Exactly</td><td>63</td><td></td><td>No entry</td><td>No info</td><td>NA</td><td></td><td>Yes</td><td>No</td><td>AML 17</td><td>PD22541c</td><td>0.1835616</td><td>1</td><td>NA</td><td>1</td><td>2</td><td>NA</td><td>RESISTANT DIS</td><td>NA</td><td>1</td><td>NA</td><td>1</td><td>NA</td><td>0</td><td>0</td><td>0</td><td>0</td><td>0</td><td>0</td><td>NA</td><td>Match</td></tr>\n",
       "</tbody>\n",
       "</table>\n"
      ],
      "text/latex": [
       "A data.frame: 1 × 522\n",
       "\\begin{tabular}{r|llllllllllllllllllllllllllllllllllllllllllllllllllllllllllllllllllllllllllllllllllllllllllllllllllllllllllllllllllllllllllllllllllllllllllllllllllllllllllllllllllllllllllllllllllllllllllllllllllllllllllllllllllllllllllllllllllllllllllllllllllllllllllllllllllllllllllllllllllllllllllllllllllllllllllllllllllllllllllllllllllllllllllllllllllllllllllllllllllllllllllllllllllllllllllllllllllllllllllllllllllllllllllllllllllllllllllllllllllllllllllllllllllllllllllllllllllllllllllllllllllllllllllllllllllllllllllllllllllllllllll}\n",
       "  & X & donor\\_id & data\\_pd & sample\\_pd.x & ASXL1 & ASXL2 & ASXL3 & ATRX & BAGE3 & BCOR & BRAF & CBFB & CBL & CDKN2A & CEBPA\\_bi & CEBPA\\_mono & CNTN5 & CREBBP & CSF1R & CSF3R & CTCF & CUL2 & CUX1 & DNMT3A & EED & ETV6 & EZH2 & FBXW7 & FLT3\\_ITD & FLT3\\_TKD & FLT3\\_other & GATA1 & GATA2 & GNAS & GNB1 & IDH1 & IDH2\\_p.R140 & IDH2\\_p.R172 & JAK2 & JAK3 & KANSL1 & KDM6A & KIT & KMT2C & KMT2D & KMT2E & KRAS & LUC7L2 & MED12 & MLL & MPL & MYC & NF1 & NFE2 & NOTCH1 & NPM1 & NRAS\\_other & NRAS\\_p.G12\\_13 & NRAS\\_p.Q61\\_62 & PDS5B & PHF6 & PPFIA2 & PRPF8 & PTEN & PTPN11 & PTPRF & PTPRT & RAD21 & RIT1 & RUNX1 & S100B & SETBP1 & SF1 & SF3B1 & SMC1A & SMC3 & SMG1 & SPP1 & SRSF2 & STAG2 & STAT5B & SUZ12 & TET2 & TP53 & U2AF1 & WT1 & ZRSR2 & trial.x & date\\_entry & gender & age & ethnic & ahd & perf\\_status & secondary & wbc & hb & plt & bm\\_blasts & neut & intense & trtcode & acmarr & acmcar & acmhvd & acmibd & acmdia & acmcvd & acmpsy & acmobe & acminf & acmrhe & acmpep & acmren & acmpulmod & acmpulsev & acmpri & acmhepmil & acmhepsev & acmoth & cod & cr & os & os\\_status & pbmts & pbmty & t\\_v\\_11 & add\\_10p & add\\_10q & add\\_11p & add\\_11q & add\\_12p & add\\_12q & add\\_13p & add\\_13q & add\\_14p & add\\_14q & add\\_15p & add\\_15q & add\\_16p & add\\_16q & add\\_17p & add\\_17q & add\\_18p & add\\_18q & add\\_19p & add\\_19q & add\\_1p & add\\_1q & add\\_20p & add\\_20q & add\\_21p & add\\_21q & add\\_22p & add\\_22q & add\\_2p & add\\_2q & add\\_3p & add\\_3q & add\\_4p & add\\_4q & add\\_5p & add\\_5q & add\\_6p & add\\_6q & add\\_7p & add\\_7q & add\\_8p & add\\_8q & add\\_9p & add\\_9q & add\\_xp & add\\_xq & complex\\_translocations & del\\_10p & del\\_10q & del\\_11p & del\\_11q & del\\_12p & del\\_12q & del\\_13p & del\\_13q & del\\_14q & del\\_15p & del\\_15q & del\\_16p & del\\_16q & del\\_17p & del\\_17q & del\\_18p & del\\_18q & del\\_19p & del\\_19q & del\\_1p & del\\_1q & del\\_20q & del\\_21q & del\\_22q & del\\_2p & del\\_2q & del\\_3p & del\\_3q & del\\_4q & del\\_5p & del\\_5q & del\\_6p & del\\_6q & del\\_7p & del\\_7q & del\\_8p & del\\_8q & del\\_9p & del\\_9q & del\\_xq & der\\_1 & der\\_10 & der\\_11 & der\\_11\\_13 & der\\_11\\_17 & der\\_11\\_19 & der\\_12 & der\\_13 & der\\_13\\_14 & der\\_13\\_17 & der\\_13\\_21 & der\\_14 & der\\_14\\_22 & der\\_15 & der\\_15\\_21 & der\\_15\\_22 & der\\_16 & der\\_17 & der\\_17\\_18 & der\\_17\\_19 & der\\_18 & der\\_19 & der\\_1\\_12 & der\\_1\\_13 & der\\_1\\_7 & der\\_2 & der\\_20 & der\\_21 & der\\_21\\_22 & der\\_22 & der\\_3 & der\\_3\\_11 & der\\_3\\_6 & der\\_4 & der\\_5 & der\\_5\\_17 & der\\_6 & der\\_6\\_11 & der\\_7 & der\\_7\\_11 & der\\_7\\_17 & der\\_8 & der\\_8\\_14 & der\\_9 & der\\_x & dic\\_11 & dic\\_12\\_22 & dic\\_13\\_14 & dic\\_13\\_21 & dic\\_14 & dic\\_15 & dic\\_16\\_19 & dic\\_16\\_21 & dic\\_17 & dic\\_17\\_18 & dic\\_17\\_21 & dic\\_2 & dic\\_22 & dic\\_3\\_11 & dic\\_3\\_5 & dic\\_4\\_20 & dic\\_5\\_7 & dic\\_6\\_11 & dic\\_6\\_12 & dic\\_7\\_12 & dic\\_7\\_16 & dic\\_7\\_20 & dic\\_8 & dic\\_8\\_11 & dic\\_x & dmin & dup\\_11q & dup\\_12p & dup\\_14q & dup\\_1p & dup\\_1q & hsr & i\\_1 & i\\_11 & i\\_15 & i\\_17 & i\\_21 & i\\_22 & i\\_3 & i\\_5 & i\\_6 & i\\_7 & i\\_8 & i\\_9 & ins & inv\\_1 & inv\\_10 & inv\\_11 & inv\\_12 & inv\\_16 & inv\\_17 & inv\\_2 & inv\\_3 & inv\\_4 & inv\\_5 & inv\\_6 & inv\\_7 & inv\\_8 & inv\\_9 & inv\\_x & mar & minus1 & minus10 & minus11 & minus12 & minus13 & minus14 & minus15 & minus16 & minus17 & minus18 & minus19 & minus2 & minus20 & minus21 & minus22 & minus3 & minus4 & minus5 & minus6 & minus7 & minus7. & minus8 & minus9 & minusx & minusy & plus1 & plus10 & plus11 & plus12 & plus13 & plus14 & plus15 & plus16 & plus17 & plus18 & plus19 & plus2 & plus20 & plus21 & plus22 & plus3 & plus4 & plus5 & plus6 & plus7 & plus8 & plus9 & plusx & plusy & ring & t\\_10\\_13 & t\\_10\\_19 & t\\_10\\_21 & t\\_12\\_13 & t\\_12\\_14 & t\\_12\\_15 & t\\_12\\_17 & t\\_12\\_20 & t\\_12\\_21 & t\\_12\\_22 & t\\_13\\_15 & t\\_13\\_19 & t\\_15\\_16 & t\\_15\\_17 & t\\_16\\_17 & t\\_16\\_21 & t\\_17\\_18 & t\\_17\\_19 & t\\_17\\_20 & t\\_17\\_21 & t\\_17\\_22 & t\\_19\\_22 & t\\_1\\_12 & t\\_1\\_14 & t\\_1\\_15 & t\\_1\\_16 & t\\_1\\_17 & t\\_1\\_19 & t\\_1\\_2 & t\\_1\\_21 & t\\_1\\_22 & t\\_1\\_3 & t\\_1\\_4 & t\\_1\\_5 & t\\_1\\_6 & t\\_1\\_8 & t\\_1\\_9 & t\\_2\\_12 & t\\_2\\_17 & t\\_2\\_21 & t\\_2\\_3 & t\\_2\\_5 & t\\_2\\_7 & t\\_2\\_8 & t\\_2\\_9 & t\\_3\\_14 & t\\_3\\_16 & t\\_3\\_19 & t\\_3\\_21 & t\\_3\\_4 & t\\_3\\_5 & t\\_3\\_6 & t\\_3\\_7 & t\\_3\\_9 & t\\_4\\_10 & t\\_4\\_12 & t\\_4\\_13 & t\\_4\\_15 & t\\_4\\_17 & t\\_4\\_19 & t\\_4\\_21 & t\\_4\\_5 & t\\_4\\_6 & t\\_4\\_8 & t\\_4\\_9 & t\\_5\\_10 & t\\_5\\_12 & t\\_5\\_13 & t\\_5\\_15 & t\\_5\\_17 & t\\_5\\_21 & t\\_5\\_7 & t\\_5\\_8 & t\\_5\\_9 & t\\_6\\_10 & t\\_6\\_16 & t\\_6\\_17 & t\\_6\\_22 & t\\_6\\_7 & t\\_6\\_9 & t\\_7\\_12 & t\\_7\\_14 & t\\_7\\_16 & t\\_7\\_17 & t\\_7\\_8 & t\\_8\\_10 & t\\_8\\_13 & t\\_8\\_14 & t\\_8\\_16 & t\\_8\\_17 & t\\_8\\_19 & t\\_8\\_20 & t\\_8\\_21 & t\\_8\\_9 & t\\_9\\_10 & t\\_9\\_11 & t\\_9\\_12 & t\\_9\\_13 & t\\_9\\_15 & t\\_9\\_17 & t\\_9\\_21 & t\\_9\\_22 & t\\_x\\_1 & t\\_x\\_12 & t\\_x\\_15 & t\\_x\\_16 & t\\_x\\_21 & t\\_x\\_5 & t\\_x\\_y & wholedup & complex & eln\\_2017 & nejm & AMLID & dead60 & MRDgp1 & MRDgp2 & CRby1 & CRby2 & MRD1 & MRD2 & LAIPdetection1 & LAIPvalue1 & Sample1 & DiagnosticLAIPscreening & LAIPdetection2 & LAIPvalue2 & Sample2 & LAIPassessed1 & LAIPassessed2 & trial.y & sample\\_pd.y & OS\\_randomization & DEADStatus & RFSyears & RFSStatus & RelapseCIStatus & DaystoFirstCR & CODCause & OS\\_CR & MRD\\_Status & MRD\\_relapse & MRD\\_relapse\\_status & CRdate & randDate\\_PB & CRDate\\_PB & relapseDate\\_PB & boneDate\\_PB & longCR\\_PB & FLT3\\_ITD\\_New & FLT3\\_ITD\\_Value\\_New & NoMatchFLT3\\\\\n",
       "  & <int> & <chr> & <chr> & <chr> & <int> & <int> & <int> & <int> & <int> & <int> & <int> & <int> & <int> & <int> & <int> & <int> & <int> & <int> & <int> & <int> & <int> & <int> & <int> & <int> & <int> & <int> & <int> & <int> & <int> & <int> & <int> & <int> & <int> & <int> & <int> & <int> & <int> & <int> & <int> & <int> & <int> & <int> & <int> & <int> & <int> & <int> & <int> & <int> & <int> & <int> & <int> & <int> & <int> & <int> & <int> & <int> & <int> & <int> & <int> & <int> & <int> & <int> & <int> & <int> & <int> & <int> & <int> & <int> & <int> & <int> & <int> & <int> & <int> & <int> & <int> & <int> & <int> & <int> & <int> & <int> & <int> & <int> & <int> & <int> & <int> & <int> & <int> & <int> & <chr> & <int> & <dbl> & <chr> & <int> & <int> & <int> & <dbl> & <dbl> & <dbl> & <dbl> & <dbl> & <int> & <int> & <int> & <int> & <int> & <int> & <int> & <int> & <int> & <int> & <int> & <int> & <int> & <int> & <int> & <int> & <int> & <int> & <int> & <int> & <int> & <int> & <dbl> & <int> & <chr> & <chr> & <int> & <int> & <int> & <int> & <int> & <int> & <int> & <int> & <int> & <int> & <int> & <int> & <int> & <int> & <int> & <int> & <int> & <int> & <int> & <int> & <int> & <int> & <int> & <int> & <int> & <int> & <int> & <int> & <int> & <int> & <int> & <int> & <int> & <int> & <int> & <int> & <int> & <int> & <int> & <int> & <int> & <int> & <int> & <int> & <int> & <int> & <int> & <int> & <int> & <int> & <int> & <int> & <int> & <int> & <int> & <int> & <int> & <int> & <int> & <int> & <int> & <int> & <int> & <int> & <int> & <int> & <int> & <int> & <int> & <int> & <int> & <int> & <int> & <int> & <int> & <int> & <int> & <int> & <int> & <int> & <int> & <int> & <int> & <int> & <int> & <int> & <int> & <int> & <int> & <int> & <int> & <int> & <int> & <int> & <int> & <int> & <int> & <int> & <int> & <int> & <int> & <int> & <int> & <int> & <int> & <int> & <int> & <int> & <int> & <int> & <int> & <int> & <int> & <int> & <int> & <int> & <int> & <int> & <int> & <int> & <int> & <int> & <int> & <int> & <int> & <int> & <int> & <int> & <int> & <int> & <int> & <int> & <int> & <int> & <int> & <int> & <int> & <int> & <int> & <int> & <int> & <int> & <int> & <int> & <int> & <int> & <int> & <int> & <int> & <int> & <int> & <int> & <int> & <int> & <int> & <int> & <int> & <int> & <int> & <int> & <int> & <int> & <int> & <int> & <int> & <int> & <int> & <int> & <int> & <int> & <int> & <int> & <int> & <int> & <int> & <int> & <int> & <int> & <int> & <int> & <int> & <int> & <int> & <int> & <int> & <int> & <int> & <int> & <int> & <int> & <int> & <int> & <int> & <int> & <int> & <int> & <int> & <int> & <int> & <int> & <int> & <int> & <int> & <int> & <int> & <int> & <int> & <int> & <int> & <int> & <int> & <int> & <int> & <int> & <int> & <int> & <int> & <int> & <int> & <int> & <int> & <int> & <int> & <int> & <int> & <int> & <int> & <int> & <int> & <int> & <int> & <int> & <int> & <int> & <int> & <int> & <int> & <int> & <int> & <int> & <int> & <int> & <int> & <int> & <int> & <int> & <int> & <int> & <int> & <int> & <int> & <int> & <int> & <int> & <int> & <int> & <int> & <int> & <int> & <int> & <int> & <int> & <int> & <int> & <int> & <int> & <int> & <int> & <int> & <int> & <int> & <int> & <int> & <int> & <int> & <int> & <int> & <int> & <int> & <int> & <int> & <int> & <int> & <int> & <int> & <int> & <int> & <int> & <int> & <int> & <int> & <int> & <int> & <int> & <int> & <int> & <int> & <int> & <int> & <int> & <int> & <int> & <int> & <int> & <int> & <int> & <int> & <int> & <int> & <int> & <int> & <int> & <int> & <int> & <int> & <int> & <int> & <int> & <int> & <int> & <int> & <int> & <int> & <int> & <int> & <int> & <int> & <int> & <int> & <int> & <int> & <int> & <int> & <int> & <int> & <int> & <int> & <int> & <int> & <int> & <int> & <int> & <int> & <int> & <int> & <int> & <int> & <int> & <int> & <int> & <int> & <int> & <int> & <int> & <int> & <chr> & <chr> & <chr> & <int> & <chr> & <chr> & <chr> & <chr> & <chr> & <chr> & <chr> & <dbl> & <chr> & <chr> & <chr> & <dbl> & <chr> & <chr> & <chr> & <chr> & <chr> & <dbl> & <int> & <dbl> & <int> & <int> & <int> & <chr> & <dbl> & <int> & <dbl> & <int> & <chr> & <int> & <int> & <int> & <int> & <int> & <int> & <dbl> & <chr>\\\\\n",
       "\\hline\n",
       "\t770 & 770 & 17-1032 & PD22541c & PD22541c & 0 & 0 & 0 & 0 & 0 & 0 & 0 & 0 & 0 & 0 & 0 & 0 & 0 & 0 & 0 & 0 & 0 & 0 & 0 & 0 & 0 & 0 & 0 & 0 & 0 & 0 & 0 & 0 & 0 & 0 & 0 & 0 & 0 & 1 & 0 & 0 & 0 & 0 & 0 & 0 & 0 & 0 & 0 & 0 & 0 & 0 & 0 & 0 & 0 & 0 & 0 & 0 & 0 & 0 & 0 & 0 & 0 & 0 & 0 & 0 & 0 & 0 & 0 & 0 & 0 & 0 & 0 & 0 & 0 & 0 & 0 & 0 & 0 & 0 & 0 & 0 & 0 & 0 & 0 & 1 & 0 & 0 & 0 & 0 & 2009-05-29 & 1 & 63.88227 & White & 1 & 0 & 1 & 0.7 & 9.699997 & 110 & 55 & NA & 1 & 170168 & 0 & 0 & 0 & 0 & 0 & 0 & 0 & 0 & 0 & 0 & 0 & 0 & 0 & 0 & 0 & 0 & 0 & 1 & 10 & 0 & 0.183436 & 1 & NONE & NONE & NA & 0 & 0 & 0 & 1 & 0 & 0 & 0 & 0 & 0 & 0 & 0 & 0 & 0 & 0 & 0 & 0 & 0 & 0 & 0 & 0 & 0 & 0 & 0 & 0 & 0 & 0 & 0 & 0 & 0 & 0 & 0 & 0 & 0 & 0 & 0 & 0 & 0 & 0 & 0 & 0 & 0 & 0 & 0 & 1 & 0 & 0 & 0 & 0 & 0 & 1 & 0 & 0 & 0 & 0 & 0 & 0 & 0 & 0 & 0 & 0 & 0 & 0 & 0 & 0 & 0 & 0 & 0 & 0 & 0 & 0 & 0 & 0 & 1 & 0 & 0 & 0 & 0 & 0 & 0 & 0 & 0 & 0 & 0 & 0 & 0 & 0 & 0 & 0 & 0 & 0 & 0 & 0 & 0 & 0 & 0 & 0 & 0 & 0 & 0 & 0 & 0 & 0 & 0 & 0 & 0 & 0 & 0 & 0 & 0 & 0 & 0 & 0 & 0 & 0 & 0 & 0 & 0 & 0 & 0 & 0 & 0 & 0 & 0 & 0 & 0 & 0 & 0 & 0 & 0 & 0 & 0 & 0 & 0 & 0 & 0 & 0 & 0 & 0 & 0 & 0 & 0 & 0 & 0 & 0 & 0 & 0 & 0 & 0 & 0 & 0 & 0 & 0 & 0 & 0 & 0 & 0 & 0 & 0 & 0 & 0 & 0 & 0 & 0 & 0 & 0 & 0 & 0 & 0 & 0 & 0 & 0 & 0 & 0 & 0 & 0 & 0 & 0 & NA & NA & NA & NA & NA & NA & NA & NA & NA & NA & NA & NA & NA & NA & NA & 0 & 0 & 0 & 0 & 0 & 0 & 0 & 0 & 0 & 1 & 0 & 0 & 0 & 0 & 0 & 0 & 0 & 0 & 0 & 0 & 0 & 0 & 0 & 0 & 0 & 0 & 0 & 0 & 0 & 0 & 0 & 0 & 0 & 0 & 0 & 0 & 0 & 0 & 0 & 0 & 0 & 0 & 0 & 0 & 0 & 0 & 0 & 0 & 0 & 0 & 0 & NA & NA & NA & NA & NA & NA & NA & NA & NA & NA & NA & NA & NA & NA & NA & NA & NA & NA & NA & NA & NA & NA & NA & NA & NA & NA & NA & NA & NA & NA & NA & NA & NA & NA & NA & NA & NA & NA & NA & NA & NA & NA & NA & NA & NA & NA & NA & NA & NA & NA & NA & NA & NA & NA & NA & NA & NA & NA & NA & NA & NA & NA & NA & NA & NA & NA & NA & NA & NA & NA & NA & NA & NA & NA & NA & NA & NA & NA & NA & NA & NA & NA & NA & NA & NA & NA & NA & NA & NA & NA & NA & NA & NA & NA & NA & NA & NA & NA & NA & NA & NA & NA & NA & NA & NA & NA & NA & NA & NA & 0 & 1 & adverse & TP53\\_aneuploidy & 17-1032 & 0 & 4 & . & No & NA & RD & NA & Exactly & 63 &  & No entry & No info & NA &  & Yes & No & AML 17 & PD22541c & 0.1835616 & 1 & NA & 1 & 2 & NA & RESISTANT DIS & NA & 1 & NA & 1 & NA & 0 & 0 & 0 & 0 & 0 & 0 & NA & Match\\\\\n",
       "\\end{tabular}\n"
      ],
      "text/markdown": [
       "\n",
       "A data.frame: 1 × 522\n",
       "\n",
       "| <!--/--> | X &lt;int&gt; | donor_id &lt;chr&gt; | data_pd &lt;chr&gt; | sample_pd.x &lt;chr&gt; | ASXL1 &lt;int&gt; | ASXL2 &lt;int&gt; | ASXL3 &lt;int&gt; | ATRX &lt;int&gt; | BAGE3 &lt;int&gt; | BCOR &lt;int&gt; | BRAF &lt;int&gt; | CBFB &lt;int&gt; | CBL &lt;int&gt; | CDKN2A &lt;int&gt; | CEBPA_bi &lt;int&gt; | CEBPA_mono &lt;int&gt; | CNTN5 &lt;int&gt; | CREBBP &lt;int&gt; | CSF1R &lt;int&gt; | CSF3R &lt;int&gt; | CTCF &lt;int&gt; | CUL2 &lt;int&gt; | CUX1 &lt;int&gt; | DNMT3A &lt;int&gt; | EED &lt;int&gt; | ETV6 &lt;int&gt; | EZH2 &lt;int&gt; | FBXW7 &lt;int&gt; | FLT3_ITD &lt;int&gt; | FLT3_TKD &lt;int&gt; | FLT3_other &lt;int&gt; | GATA1 &lt;int&gt; | GATA2 &lt;int&gt; | GNAS &lt;int&gt; | GNB1 &lt;int&gt; | IDH1 &lt;int&gt; | IDH2_p.R140 &lt;int&gt; | IDH2_p.R172 &lt;int&gt; | JAK2 &lt;int&gt; | JAK3 &lt;int&gt; | KANSL1 &lt;int&gt; | KDM6A &lt;int&gt; | KIT &lt;int&gt; | KMT2C &lt;int&gt; | KMT2D &lt;int&gt; | KMT2E &lt;int&gt; | KRAS &lt;int&gt; | LUC7L2 &lt;int&gt; | MED12 &lt;int&gt; | MLL &lt;int&gt; | MPL &lt;int&gt; | MYC &lt;int&gt; | NF1 &lt;int&gt; | NFE2 &lt;int&gt; | NOTCH1 &lt;int&gt; | NPM1 &lt;int&gt; | NRAS_other &lt;int&gt; | NRAS_p.G12_13 &lt;int&gt; | NRAS_p.Q61_62 &lt;int&gt; | PDS5B &lt;int&gt; | PHF6 &lt;int&gt; | PPFIA2 &lt;int&gt; | PRPF8 &lt;int&gt; | PTEN &lt;int&gt; | PTPN11 &lt;int&gt; | PTPRF &lt;int&gt; | PTPRT &lt;int&gt; | RAD21 &lt;int&gt; | RIT1 &lt;int&gt; | RUNX1 &lt;int&gt; | S100B &lt;int&gt; | SETBP1 &lt;int&gt; | SF1 &lt;int&gt; | SF3B1 &lt;int&gt; | SMC1A &lt;int&gt; | SMC3 &lt;int&gt; | SMG1 &lt;int&gt; | SPP1 &lt;int&gt; | SRSF2 &lt;int&gt; | STAG2 &lt;int&gt; | STAT5B &lt;int&gt; | SUZ12 &lt;int&gt; | TET2 &lt;int&gt; | TP53 &lt;int&gt; | U2AF1 &lt;int&gt; | WT1 &lt;int&gt; | ZRSR2 &lt;int&gt; | trial.x &lt;int&gt; | date_entry &lt;chr&gt; | gender &lt;int&gt; | age &lt;dbl&gt; | ethnic &lt;chr&gt; | ahd &lt;int&gt; | perf_status &lt;int&gt; | secondary &lt;int&gt; | wbc &lt;dbl&gt; | hb &lt;dbl&gt; | plt &lt;dbl&gt; | bm_blasts &lt;dbl&gt; | neut &lt;dbl&gt; | intense &lt;int&gt; | trtcode &lt;int&gt; | acmarr &lt;int&gt; | acmcar &lt;int&gt; | acmhvd &lt;int&gt; | acmibd &lt;int&gt; | acmdia &lt;int&gt; | acmcvd &lt;int&gt; | acmpsy &lt;int&gt; | acmobe &lt;int&gt; | acminf &lt;int&gt; | acmrhe &lt;int&gt; | acmpep &lt;int&gt; | acmren &lt;int&gt; | acmpulmod &lt;int&gt; | acmpulsev &lt;int&gt; | acmpri &lt;int&gt; | acmhepmil &lt;int&gt; | acmhepsev &lt;int&gt; | acmoth &lt;int&gt; | cod &lt;int&gt; | cr &lt;int&gt; | os &lt;dbl&gt; | os_status &lt;int&gt; | pbmts &lt;chr&gt; | pbmty &lt;chr&gt; | t_v_11 &lt;int&gt; | add_10p &lt;int&gt; | add_10q &lt;int&gt; | add_11p &lt;int&gt; | add_11q &lt;int&gt; | add_12p &lt;int&gt; | add_12q &lt;int&gt; | add_13p &lt;int&gt; | add_13q &lt;int&gt; | add_14p &lt;int&gt; | add_14q &lt;int&gt; | add_15p &lt;int&gt; | add_15q &lt;int&gt; | add_16p &lt;int&gt; | add_16q &lt;int&gt; | add_17p &lt;int&gt; | add_17q &lt;int&gt; | add_18p &lt;int&gt; | add_18q &lt;int&gt; | add_19p &lt;int&gt; | add_19q &lt;int&gt; | add_1p &lt;int&gt; | add_1q &lt;int&gt; | add_20p &lt;int&gt; | add_20q &lt;int&gt; | add_21p &lt;int&gt; | add_21q &lt;int&gt; | add_22p &lt;int&gt; | add_22q &lt;int&gt; | add_2p &lt;int&gt; | add_2q &lt;int&gt; | add_3p &lt;int&gt; | add_3q &lt;int&gt; | add_4p &lt;int&gt; | add_4q &lt;int&gt; | add_5p &lt;int&gt; | add_5q &lt;int&gt; | add_6p &lt;int&gt; | add_6q &lt;int&gt; | add_7p &lt;int&gt; | add_7q &lt;int&gt; | add_8p &lt;int&gt; | add_8q &lt;int&gt; | add_9p &lt;int&gt; | add_9q &lt;int&gt; | add_xp &lt;int&gt; | add_xq &lt;int&gt; | complex_translocations &lt;int&gt; | del_10p &lt;int&gt; | del_10q &lt;int&gt; | del_11p &lt;int&gt; | del_11q &lt;int&gt; | del_12p &lt;int&gt; | del_12q &lt;int&gt; | del_13p &lt;int&gt; | del_13q &lt;int&gt; | del_14q &lt;int&gt; | del_15p &lt;int&gt; | del_15q &lt;int&gt; | del_16p &lt;int&gt; | del_16q &lt;int&gt; | del_17p &lt;int&gt; | del_17q &lt;int&gt; | del_18p &lt;int&gt; | del_18q &lt;int&gt; | del_19p &lt;int&gt; | del_19q &lt;int&gt; | del_1p &lt;int&gt; | del_1q &lt;int&gt; | del_20q &lt;int&gt; | del_21q &lt;int&gt; | del_22q &lt;int&gt; | del_2p &lt;int&gt; | del_2q &lt;int&gt; | ⋯ ⋯ | minus11 &lt;int&gt; | minus12 &lt;int&gt; | minus13 &lt;int&gt; | minus14 &lt;int&gt; | minus15 &lt;int&gt; | minus16 &lt;int&gt; | minus17 &lt;int&gt; | minus18 &lt;int&gt; | minus19 &lt;int&gt; | minus2 &lt;int&gt; | minus20 &lt;int&gt; | minus21 &lt;int&gt; | minus22 &lt;int&gt; | minus3 &lt;int&gt; | minus4 &lt;int&gt; | minus5 &lt;int&gt; | minus6 &lt;int&gt; | minus7 &lt;int&gt; | minus7. &lt;int&gt; | minus8 &lt;int&gt; | minus9 &lt;int&gt; | minusx &lt;int&gt; | minusy &lt;int&gt; | plus1 &lt;int&gt; | plus10 &lt;int&gt; | plus11 &lt;int&gt; | plus12 &lt;int&gt; | plus13 &lt;int&gt; | plus14 &lt;int&gt; | plus15 &lt;int&gt; | plus16 &lt;int&gt; | plus17 &lt;int&gt; | plus18 &lt;int&gt; | plus19 &lt;int&gt; | plus2 &lt;int&gt; | plus20 &lt;int&gt; | plus21 &lt;int&gt; | plus22 &lt;int&gt; | plus3 &lt;int&gt; | plus4 &lt;int&gt; | plus5 &lt;int&gt; | plus6 &lt;int&gt; | plus7 &lt;int&gt; | plus8 &lt;int&gt; | plus9 &lt;int&gt; | plusx &lt;int&gt; | plusy &lt;int&gt; | ring &lt;int&gt; | t_10_13 &lt;int&gt; | t_10_19 &lt;int&gt; | t_10_21 &lt;int&gt; | t_12_13 &lt;int&gt; | t_12_14 &lt;int&gt; | t_12_15 &lt;int&gt; | t_12_17 &lt;int&gt; | t_12_20 &lt;int&gt; | t_12_21 &lt;int&gt; | t_12_22 &lt;int&gt; | t_13_15 &lt;int&gt; | t_13_19 &lt;int&gt; | t_15_16 &lt;int&gt; | t_15_17 &lt;int&gt; | t_16_17 &lt;int&gt; | t_16_21 &lt;int&gt; | t_17_18 &lt;int&gt; | t_17_19 &lt;int&gt; | t_17_20 &lt;int&gt; | t_17_21 &lt;int&gt; | t_17_22 &lt;int&gt; | t_19_22 &lt;int&gt; | t_1_12 &lt;int&gt; | t_1_14 &lt;int&gt; | t_1_15 &lt;int&gt; | t_1_16 &lt;int&gt; | t_1_17 &lt;int&gt; | t_1_19 &lt;int&gt; | t_1_2 &lt;int&gt; | t_1_21 &lt;int&gt; | t_1_22 &lt;int&gt; | t_1_3 &lt;int&gt; | t_1_4 &lt;int&gt; | t_1_5 &lt;int&gt; | t_1_6 &lt;int&gt; | t_1_8 &lt;int&gt; | t_1_9 &lt;int&gt; | t_2_12 &lt;int&gt; | t_2_17 &lt;int&gt; | t_2_21 &lt;int&gt; | t_2_3 &lt;int&gt; | t_2_5 &lt;int&gt; | t_2_7 &lt;int&gt; | t_2_8 &lt;int&gt; | t_2_9 &lt;int&gt; | t_3_14 &lt;int&gt; | t_3_16 &lt;int&gt; | t_3_19 &lt;int&gt; | t_3_21 &lt;int&gt; | t_3_4 &lt;int&gt; | t_3_5 &lt;int&gt; | t_3_6 &lt;int&gt; | t_3_7 &lt;int&gt; | t_3_9 &lt;int&gt; | t_4_10 &lt;int&gt; | t_4_12 &lt;int&gt; | t_4_13 &lt;int&gt; | t_4_15 &lt;int&gt; | t_4_17 &lt;int&gt; | t_4_19 &lt;int&gt; | t_4_21 &lt;int&gt; | t_4_5 &lt;int&gt; | t_4_6 &lt;int&gt; | t_4_8 &lt;int&gt; | t_4_9 &lt;int&gt; | t_5_10 &lt;int&gt; | t_5_12 &lt;int&gt; | t_5_13 &lt;int&gt; | t_5_15 &lt;int&gt; | t_5_17 &lt;int&gt; | t_5_21 &lt;int&gt; | t_5_7 &lt;int&gt; | t_5_8 &lt;int&gt; | t_5_9 &lt;int&gt; | t_6_10 &lt;int&gt; | t_6_16 &lt;int&gt; | t_6_17 &lt;int&gt; | t_6_22 &lt;int&gt; | t_6_7 &lt;int&gt; | t_6_9 &lt;int&gt; | t_7_12 &lt;int&gt; | t_7_14 &lt;int&gt; | t_7_16 &lt;int&gt; | t_7_17 &lt;int&gt; | t_7_8 &lt;int&gt; | t_8_10 &lt;int&gt; | t_8_13 &lt;int&gt; | t_8_14 &lt;int&gt; | t_8_16 &lt;int&gt; | t_8_17 &lt;int&gt; | t_8_19 &lt;int&gt; | t_8_20 &lt;int&gt; | t_8_21 &lt;int&gt; | t_8_9 &lt;int&gt; | t_9_10 &lt;int&gt; | t_9_11 &lt;int&gt; | t_9_12 &lt;int&gt; | t_9_13 &lt;int&gt; | t_9_15 &lt;int&gt; | t_9_17 &lt;int&gt; | t_9_21 &lt;int&gt; | t_9_22 &lt;int&gt; | t_x_1 &lt;int&gt; | t_x_12 &lt;int&gt; | t_x_15 &lt;int&gt; | t_x_16 &lt;int&gt; | t_x_21 &lt;int&gt; | t_x_5 &lt;int&gt; | t_x_y &lt;int&gt; | wholedup &lt;int&gt; | complex &lt;int&gt; | eln_2017 &lt;chr&gt; | nejm &lt;chr&gt; | AMLID &lt;chr&gt; | dead60 &lt;int&gt; | MRDgp1 &lt;chr&gt; | MRDgp2 &lt;chr&gt; | CRby1 &lt;chr&gt; | CRby2 &lt;chr&gt; | MRD1 &lt;chr&gt; | MRD2 &lt;chr&gt; | LAIPdetection1 &lt;chr&gt; | LAIPvalue1 &lt;dbl&gt; | Sample1 &lt;chr&gt; | DiagnosticLAIPscreening &lt;chr&gt; | LAIPdetection2 &lt;chr&gt; | LAIPvalue2 &lt;dbl&gt; | Sample2 &lt;chr&gt; | LAIPassessed1 &lt;chr&gt; | LAIPassessed2 &lt;chr&gt; | trial.y &lt;chr&gt; | sample_pd.y &lt;chr&gt; | OS_randomization &lt;dbl&gt; | DEADStatus &lt;int&gt; | RFSyears &lt;dbl&gt; | RFSStatus &lt;int&gt; | RelapseCIStatus &lt;int&gt; | DaystoFirstCR &lt;int&gt; | CODCause &lt;chr&gt; | OS_CR &lt;dbl&gt; | MRD_Status &lt;int&gt; | MRD_relapse &lt;dbl&gt; | MRD_relapse_status &lt;int&gt; | CRdate &lt;chr&gt; | randDate_PB &lt;int&gt; | CRDate_PB &lt;int&gt; | relapseDate_PB &lt;int&gt; | boneDate_PB &lt;int&gt; | longCR_PB &lt;int&gt; | FLT3_ITD_New &lt;int&gt; | FLT3_ITD_Value_New &lt;dbl&gt; | NoMatchFLT3 &lt;chr&gt; |\n",
       "|---|---|---|---|---|---|---|---|---|---|---|---|---|---|---|---|---|---|---|---|---|---|---|---|---|---|---|---|---|---|---|---|---|---|---|---|---|---|---|---|---|---|---|---|---|---|---|---|---|---|---|---|---|---|---|---|---|---|---|---|---|---|---|---|---|---|---|---|---|---|---|---|---|---|---|---|---|---|---|---|---|---|---|---|---|---|---|---|---|---|---|---|---|---|---|---|---|---|---|---|---|---|---|---|---|---|---|---|---|---|---|---|---|---|---|---|---|---|---|---|---|---|---|---|---|---|---|---|---|---|---|---|---|---|---|---|---|---|---|---|---|---|---|---|---|---|---|---|---|---|---|---|---|---|---|---|---|---|---|---|---|---|---|---|---|---|---|---|---|---|---|---|---|---|---|---|---|---|---|---|---|---|---|---|---|---|---|---|---|---|---|---|---|---|---|---|---|---|---|---|---|---|---|---|---|---|---|---|---|---|---|---|---|---|---|---|---|---|---|---|---|---|---|---|---|---|---|---|---|---|---|---|---|---|---|---|---|---|---|---|---|---|---|---|---|---|---|---|---|---|---|---|---|---|---|---|---|---|---|---|---|---|---|---|---|---|---|---|---|---|---|---|---|---|---|---|---|---|---|---|---|---|---|---|---|---|---|---|---|---|---|---|---|---|---|---|---|---|---|---|---|---|---|---|---|---|---|---|---|---|---|---|---|---|---|---|---|---|---|---|---|---|---|---|---|---|---|---|---|---|---|---|---|---|---|---|---|---|---|---|---|---|---|---|---|---|---|---|---|---|---|---|---|---|---|---|---|---|---|---|---|---|---|---|---|---|---|---|---|---|---|---|---|---|---|---|---|---|---|---|---|---|---|---|---|---|---|---|---|---|---|---|---|---|---|---|---|---|---|---|---|---|\n",
       "| 770 | 770 | 17-1032 | PD22541c | PD22541c | 0 | 0 | 0 | 0 | 0 | 0 | 0 | 0 | 0 | 0 | 0 | 0 | 0 | 0 | 0 | 0 | 0 | 0 | 0 | 0 | 0 | 0 | 0 | 0 | 0 | 0 | 0 | 0 | 0 | 0 | 0 | 0 | 0 | 1 | 0 | 0 | 0 | 0 | 0 | 0 | 0 | 0 | 0 | 0 | 0 | 0 | 0 | 0 | 0 | 0 | 0 | 0 | 0 | 0 | 0 | 0 | 0 | 0 | 0 | 0 | 0 | 0 | 0 | 0 | 0 | 0 | 0 | 0 | 0 | 0 | 0 | 0 | 0 | 0 | 0 | 0 | 0 | 0 | 0 | 1 | 0 | 0 | 0 | 0 | 2009-05-29 | 1 | 63.88227 | White | 1 | 0 | 1 | 0.7 | 9.699997 | 110 | 55 | NA | 1 | 170168 | 0 | 0 | 0 | 0 | 0 | 0 | 0 | 0 | 0 | 0 | 0 | 0 | 0 | 0 | 0 | 0 | 0 | 1 | 10 | 0 | 0.183436 | 1 | NONE | NONE | NA | 0 | 0 | 0 | 1 | 0 | 0 | 0 | 0 | 0 | 0 | 0 | 0 | 0 | 0 | 0 | 0 | 0 | 0 | 0 | 0 | 0 | 0 | 0 | 0 | 0 | 0 | 0 | 0 | 0 | 0 | 0 | 0 | 0 | 0 | 0 | 0 | 0 | 0 | 0 | 0 | 0 | 0 | 0 | 1 | 0 | 0 | 0 | 0 | 0 | 1 | 0 | 0 | 0 | 0 | 0 | 0 | 0 | 0 | 0 | 0 | 0 | 0 | 0 | 0 | 0 | 0 | 0 | 0 | 0 | 0 | 0 | 0 | 1 | ⋯ | 0 | 0 | 0 | 0 | 0 | 0 | 1 | 0 | 0 | 0 | 0 | 0 | 0 | 0 | 0 | 0 | 0 | 0 | 0 | 0 | 0 | 0 | 0 | 0 | 0 | 0 | 0 | 0 | 0 | 0 | 0 | 0 | 0 | 0 | 0 | 0 | 0 | 0 | 0 | 0 | 0 | 0 | 0 | 0 | 0 | 0 | 0 | 0 | NA | NA | NA | NA | NA | NA | NA | NA | NA | NA | NA | NA | NA | NA | NA | NA | NA | NA | NA | NA | NA | NA | NA | NA | NA | NA | NA | NA | NA | NA | NA | NA | NA | NA | NA | NA | NA | NA | NA | NA | NA | NA | NA | NA | NA | NA | NA | NA | NA | NA | NA | NA | NA | NA | NA | NA | NA | NA | NA | NA | NA | NA | NA | NA | NA | NA | NA | NA | NA | NA | NA | NA | NA | NA | NA | NA | NA | NA | NA | NA | NA | NA | NA | NA | NA | NA | NA | NA | NA | NA | NA | NA | NA | NA | NA | NA | NA | NA | NA | NA | NA | NA | NA | NA | NA | NA | NA | NA | NA | 0 | 1 | adverse | TP53_aneuploidy | 17-1032 | 0 | 4 | . | No | NA | RD | NA | Exactly | 63 | <!----> | No entry | No info | NA | <!----> | Yes | No | AML 17 | PD22541c | 0.1835616 | 1 | NA | 1 | 2 | NA | RESISTANT DIS | NA | 1 | NA | 1 | NA | 0 | 0 | 0 | 0 | 0 | 0 | NA | Match |\n",
       "\n"
      ],
      "text/plain": [
       "    X   donor_id data_pd  sample_pd.x ASXL1 ASXL2 ASXL3 ATRX BAGE3 BCOR BRAF\n",
       "770 770 17-1032  PD22541c PD22541c    0     0     0     0    0     0    0   \n",
       "    CBFB CBL CDKN2A CEBPA_bi CEBPA_mono CNTN5 CREBBP CSF1R CSF3R CTCF CUL2 CUX1\n",
       "770 0    0   0      0        0          0     0      0     0     0    0    0   \n",
       "    DNMT3A EED ETV6 EZH2 FBXW7 FLT3_ITD FLT3_TKD FLT3_other GATA1 GATA2 GNAS\n",
       "770 0      0   0    0    0     0        0        0          0     0     0   \n",
       "    GNB1 IDH1 IDH2_p.R140 IDH2_p.R172 JAK2 JAK3 KANSL1 KDM6A KIT KMT2C KMT2D\n",
       "770 0    0    0           1           0    0    0      0     0   0     0    \n",
       "    KMT2E KRAS LUC7L2 MED12 MLL MPL MYC NF1 NFE2 NOTCH1 NPM1 NRAS_other\n",
       "770 0     0    0      0     0   0   0   0   0    0      0    0         \n",
       "    NRAS_p.G12_13 NRAS_p.Q61_62 PDS5B PHF6 PPFIA2 PRPF8 PTEN PTPN11 PTPRF PTPRT\n",
       "770 0             0             0     0    0      0     0    0      0     0    \n",
       "    RAD21 RIT1 RUNX1 S100B SETBP1 SF1 SF3B1 SMC1A SMC3 SMG1 SPP1 SRSF2 STAG2\n",
       "770 0     0    0     0     0      0   0     0     0    0    0    0     0    \n",
       "    STAT5B SUZ12 TET2 TP53 U2AF1 WT1 ZRSR2 trial.x date_entry gender age     \n",
       "770 0      0     0    1    0     0   0     0       2009-05-29 1      63.88227\n",
       "    ethnic ahd perf_status secondary wbc hb       plt bm_blasts neut intense\n",
       "770 White  1   0           1         0.7 9.699997 110 55        NA   1      \n",
       "    trtcode acmarr acmcar acmhvd acmibd acmdia acmcvd acmpsy acmobe acminf\n",
       "770 170168  0      0      0      0      0      0      0      0      0     \n",
       "    acmrhe acmpep acmren acmpulmod acmpulsev acmpri acmhepmil acmhepsev acmoth\n",
       "770 0      0      0      0         0         0      0         0         1     \n",
       "    cod cr os       os_status pbmts pbmty t_v_11 add_10p add_10q add_11p\n",
       "770 10  0  0.183436 1         NONE  NONE  NA     0       0       0      \n",
       "    add_11q add_12p add_12q add_13p add_13q add_14p add_14q add_15p add_15q\n",
       "770 1       0       0       0       0       0       0       0       0      \n",
       "    add_16p add_16q add_17p add_17q add_18p add_18q add_19p add_19q add_1p\n",
       "770 0       0       0       0       0       0       0       0       0     \n",
       "    add_1q add_20p add_20q add_21p add_21q add_22p add_22q add_2p add_2q add_3p\n",
       "770 0      0       0       0       0       0       0       0      0      0     \n",
       "    add_3q add_4p add_4q add_5p add_5q add_6p add_6q add_7p add_7q add_8p\n",
       "770 0      0      0      0      0      0      0      0      0      0     \n",
       "    add_8q add_9p add_9q add_xp add_xq complex_translocations del_10p del_10q\n",
       "770 0      0      1      0      0      0                      0       0      \n",
       "    del_11p del_11q del_12p del_12q del_13p del_13q del_14q del_15p del_15q\n",
       "770 1       0       0       0       0       0       0       0       0      \n",
       "    del_16p del_16q del_17p del_17q del_18p del_18q del_19p del_19q del_1p\n",
       "770 0       0       0       0       0       0       0       0       0     \n",
       "    del_1q del_20q del_21q del_22q del_2p del_2q ⋯ minus11 minus12 minus13\n",
       "770 0      0       0       0       0      1      ⋯ 0       0       0      \n",
       "    minus14 minus15 minus16 minus17 minus18 minus19 minus2 minus20 minus21\n",
       "770 0       0       0       1       0       0       0      0       0      \n",
       "    minus22 minus3 minus4 minus5 minus6 minus7 minus7. minus8 minus9 minusx\n",
       "770 0       0      0      0      0      0      0       0      0      0     \n",
       "    minusy plus1 plus10 plus11 plus12 plus13 plus14 plus15 plus16 plus17 plus18\n",
       "770 0      0     0      0      0      0      0      0      0      0      0     \n",
       "    plus19 plus2 plus20 plus21 plus22 plus3 plus4 plus5 plus6 plus7 plus8 plus9\n",
       "770 0      0     0      0      0      0     0     0     0     0     0     0    \n",
       "    plusx plusy ring t_10_13 t_10_19 t_10_21 t_12_13 t_12_14 t_12_15 t_12_17\n",
       "770 0     0     0    NA      NA      NA      NA      NA      NA      NA     \n",
       "    t_12_20 t_12_21 t_12_22 t_13_15 t_13_19 t_15_16 t_15_17 t_16_17 t_16_21\n",
       "770 NA      NA      NA      NA      NA      NA      NA      NA      NA     \n",
       "    t_17_18 t_17_19 t_17_20 t_17_21 t_17_22 t_19_22 t_1_12 t_1_14 t_1_15 t_1_16\n",
       "770 NA      NA      NA      NA      NA      NA      NA     NA     NA     NA    \n",
       "    t_1_17 t_1_19 t_1_2 t_1_21 t_1_22 t_1_3 t_1_4 t_1_5 t_1_6 t_1_8 t_1_9\n",
       "770 NA     NA     NA    NA     NA     NA    NA    NA    NA    NA    NA   \n",
       "    t_2_12 t_2_17 t_2_21 t_2_3 t_2_5 t_2_7 t_2_8 t_2_9 t_3_14 t_3_16 t_3_19\n",
       "770 NA     NA     NA     NA    NA    NA    NA    NA    NA     NA     NA    \n",
       "    t_3_21 t_3_4 t_3_5 t_3_6 t_3_7 t_3_9 t_4_10 t_4_12 t_4_13 t_4_15 t_4_17\n",
       "770 NA     NA    NA    NA    NA    NA    NA     NA     NA     NA     NA    \n",
       "    t_4_19 t_4_21 t_4_5 t_4_6 t_4_8 t_4_9 t_5_10 t_5_12 t_5_13 t_5_15 t_5_17\n",
       "770 NA     NA     NA    NA    NA    NA    NA     NA     NA     NA     NA    \n",
       "    t_5_21 t_5_7 t_5_8 t_5_9 t_6_10 t_6_16 t_6_17 t_6_22 t_6_7 t_6_9 t_7_12\n",
       "770 NA     NA    NA    NA    NA     NA     NA     NA     NA    NA    NA    \n",
       "    t_7_14 t_7_16 t_7_17 t_7_8 t_8_10 t_8_13 t_8_14 t_8_16 t_8_17 t_8_19 t_8_20\n",
       "770 NA     NA     NA     NA    NA     NA     NA     NA     NA     NA     NA    \n",
       "    t_8_21 t_8_9 t_9_10 t_9_11 t_9_12 t_9_13 t_9_15 t_9_17 t_9_21 t_9_22 t_x_1\n",
       "770 NA     NA    NA     NA     NA     NA     NA     NA     NA     NA     NA   \n",
       "    t_x_12 t_x_15 t_x_16 t_x_21 t_x_5 t_x_y wholedup complex eln_2017\n",
       "770 NA     NA     NA     NA     NA    NA    0        1       adverse \n",
       "    nejm            AMLID   dead60 MRDgp1 MRDgp2 CRby1 CRby2 MRD1 MRD2\n",
       "770 TP53_aneuploidy 17-1032 0      4      .      No    NA    RD   NA  \n",
       "    LAIPdetection1 LAIPvalue1 Sample1 DiagnosticLAIPscreening LAIPdetection2\n",
       "770 Exactly        63                 No entry                No info       \n",
       "    LAIPvalue2 Sample2 LAIPassessed1 LAIPassessed2 trial.y sample_pd.y\n",
       "770 NA                 Yes           No            AML 17  PD22541c   \n",
       "    OS_randomization DEADStatus RFSyears RFSStatus RelapseCIStatus\n",
       "770 0.1835616        1          NA       1         2              \n",
       "    DaystoFirstCR CODCause      OS_CR MRD_Status MRD_relapse MRD_relapse_status\n",
       "770 NA            RESISTANT DIS NA    1          NA          1                 \n",
       "    CRdate randDate_PB CRDate_PB relapseDate_PB boneDate_PB longCR_PB\n",
       "770 NA     0           0         0              0           0        \n",
       "    FLT3_ITD_New FLT3_ITD_Value_New NoMatchFLT3\n",
       "770 0            NA                 Match      "
      ]
     },
     "metadata": {},
     "output_type": "display_data"
    }
   ],
   "source": [
    "df[df$data_pd=='PD22541c',]"
   ]
  },
  {
   "cell_type": "code",
   "execution_count": 42,
   "metadata": {},
   "outputs": [],
   "source": [
    "#annot[annot$name ==\"cnloh_17p\",]"
   ]
  },
  {
   "cell_type": "code",
   "execution_count": null,
   "metadata": {},
   "outputs": [],
   "source": []
  },
  {
   "cell_type": "markdown",
   "metadata": {},
   "source": [
    "## After I have all the right events, I have written 'name' column for the all of them (added the name by hand for those that cnacs hasn't found). \n",
    "## Now I create the binary matrix for all the events that I am sure or that need to be checked by looking at TP53 VAF.\n",
    "## The matrix gives 1 when the event is seen in CNACS, 0 when the event isn't seen or isn't sure, and 'check-with-VAF' when the event overlaps with TP53 gene and VAF needs to be checked for confirmation"
   ]
  },
  {
   "cell_type": "code",
   "execution_count": 231,
   "metadata": {},
   "outputs": [],
   "source": [
    "cyto = read.csv(file='../data/304/processed_evts_lastversion.csv',stringsAsFactors=F)"
   ]
  },
  {
   "cell_type": "code",
   "execution_count": 232,
   "metadata": {},
   "outputs": [],
   "source": [
    "toadd = cyto[cyto$annot==\"ok\"|cyto$annot==\"del\"|cyto$annot==\"cnloh\"|cyto$annot==\"check-with-VAF\"|cyto$annot==\"plus\",]"
   ]
  },
  {
   "cell_type": "code",
   "execution_count": 233,
   "metadata": {},
   "outputs": [
    {
     "data": {
      "text/plain": [
       "\n",
       "check-with-VAF          cnloh            del             ok           plus \n",
       "            44              3             15            739              1 "
      ]
     },
     "metadata": {},
     "output_type": "display_data"
    }
   ],
   "source": [
    "table(toadd$annot)"
   ]
  },
  {
   "cell_type": "code",
   "execution_count": 234,
   "metadata": {},
   "outputs": [
    {
     "name": "stdout",
     "output_type": "stream",
     "text": [
      "[1] FALSE\n",
      "  [1] \"NA\"       \"PD14865a\" \"PD14872a\" \"PD14885a\" \"PD14899a\" \"PD14913c\"\n",
      "  [7] \"PD14920a\" \"PD14924a\" \"PD14935a\" \"PD14939c\" \"PD14952a\" \"PD14964a\"\n",
      " [13] \"PD14977c\" \"PD15010c\" \"PD15024c\" \"PD15027a\" \"PD15036c\" \"PD15037a\"\n",
      " [19] \"PD15056a\" \"PD15056c\" \"PD15060a\" \"PD15086a\" \"PD15100c\" \"PD15102a\"\n",
      " [25] \"PD15115c\" \"PD15136c\" \"PD15156a\" \"PD15163a\" \"PD15165a\" \"PD15169a\"\n",
      " [31] \"PD15174a\" \"PD15181a\" \"PD15194c\" \"PD15207a\" \"PD15209a\" \"PD15217a\"\n",
      " [37] \"PD15235a\" \"PD15244a\" \"PD15246a\" \"PD15259a\" \"PD15288a\" \"PD15297a\"\n",
      " [43] \"PD15303a\" \"PD15306c\" \"PD15312c\" \"PD15313a\" \"PD15322a\" \"PD15329a\"\n",
      " [49] \"PD15334a\" \"PD15336a\" \"PD15385a\" \"PD15415c\" \"PD15417a\" \"PD15438a\"\n",
      " [55] \"PD15460a\" \"PD15463c\" \"PD15481a\" \"PD15497a\" \"PD15500a\" \"PD15505a\"\n",
      " [61] \"PD15523a\" \"PD19640a\" \"PD19647a\" \"PD19667a\" \"PD19672c\" \"PD19673a\"\n",
      " [67] \"PD19687c\" \"PD19711a\" \"PD19773c\" \"PD19779a\" \"PD19780c\" \"PD19832c\"\n",
      " [73] \"PD19837c\" \"PD19882a\" \"PD20047a\" \"PD20067a\" \"PD20077a\" \"PD20079a\"\n",
      " [79] \"PD20114a\" \"PD20132c\" \"PD20266a\" \"PD20327a\" \"PD20336a\" \"PD22541c\"\n",
      " [85] \"PD22625c\" \"PD22713a\" \"PD22714a\" \"PD22786a\" \"PD22805c\" \"PD22806c\"\n",
      " [91] \"PD22838c\" \"PD22845c\" \"PD22850a\" \"PD22857c\" \"PD22899a\" \"PD22920c\"\n",
      " [97] \"PD22922a\" \"PD22930a\" \"PD22935a\" \"PD22946c\" \"PD22949c\" \"PD22964a\"\n",
      "[103] \"PD22965c\" \"PD22966c\" \"PD23007c\" \"PD23013a\" \"PD23053a\" \"PD23071c\"\n",
      "[109] \"PD23074c\" \"PD23076c\" \"PD23081a\" \"PD23098c\" \"PD23108c\" \"PD23109a\"\n",
      "[115] \"PD23111c\" \"PD23112c\" \"PD23130c\" \"PD23133c\" \"PD23138a\" \"PD23153a\"\n",
      "[121] \"PD23185a\" \"PD23186a\" \"PD23258a\" \"PD23259c\" \"PD23260c\" \"PD23276a\"\n",
      "[127] \"PD23287a\" \"PD23293a\" \"PD23295a\" \"PD25038a\" \"PD25039c\" \"PD25045a\"\n",
      "[133] \"PD25048a\" \"PD25062c\" \"PD25071a\" \"PD25087c\" \"PD25098c\" \"PD25107a\"\n",
      "[139] \"PD25116c\" \"PD25125c\" \"PD25143a\" \"PD25145c\" \"PD25148c\" \"PD25171c\"\n",
      "[145] \"PD25184a\" \"PD25199a\" \"PD25201a\" \"PD25210c\" \"PD25218c\" \"PD25220a\"\n",
      "[151] \"PD25242a\" \"PD25252a\" \"PD25255a\" \"PD25282c\" \"PD25291c\" \"PD25294c\"\n",
      "[157] \"PD25304a\" \"PD25332a\" \"PD25343a\" \"PD25354a\" \"PD25361c\" \"PD25370c\"\n",
      "[163] \"PD25412c\" \"PD25418a\" \"PD25420a\" \"PD25445a\" \"PD25448a\" \"PD25455c\"\n",
      "[169] \"PD25459c\" \"PD25466a\" \"PD25468c\" \"PD25473c\" \"PD25475c\" \"PD25484c\"\n",
      "[175] \"PD25486a\" \"PD25492c\" \"PD25501a\" \"PD25504c\" \"PD25506a\" \"PD25526a\"\n",
      "[181] \"PD25540a\" \"PD25544a\" \"PD25548a\" \"PD25557a\" \"PD25558a\" \"PD25564c\"\n",
      "[187] \"PD25566a\" \"PD25573a\" \"PD25575c\" \"PD25578c\" \"PD25581c\" \"PD25591a\"\n",
      "[193] \"PD25600a\" \"PD25617a\" \"PD25619a\" \"PD25624c\" \"PD25625a\" \"PD25627a\"\n",
      "[199] \"PD25629c\"\n"
     ]
    }
   ],
   "source": [
    "toadd = label_dat_fromcol(toadd,pd_x,'pd',by = \"experiment\")"
   ]
  },
  {
   "cell_type": "code",
   "execution_count": 235,
   "metadata": {},
   "outputs": [
    {
     "data": {
      "text/plain": [
       "\n",
       "          cnloh_11p           cnloh_17p cnloh_17p;cnloh_17q           cnloh_17q \n",
       "                  1                   2                   5                   1 \n",
       "           cnloh_1p            cnloh_1q           cnloh_20p            cnloh_2q \n",
       "                  1                   1                   1                   1 \n",
       "           cnloh_3p            cnloh_7q     del_10p;del_10q             del_10q \n",
       "                  1                   1                   1                   1 \n",
       "            del_11p     del_11p;del_11q             del_11q             del_12p \n",
       "                 24                   1                   8                  12 \n",
       "    del_12p;del_12q             del_12q             del_13q             del_14q \n",
       "                  4                   6                  31                   1 \n",
       "            del_15q             del_16p     del_16p;del_16q             del_16q \n",
       "                  5                  10                   7                  25 \n",
       "            del_17p     del_17p;del_17q             del_17q     del_18p;del_18q \n",
       "                 62                  37                  19                  30 \n",
       "            del_18q     del_19p;del_19q              del_1p              del_1q \n",
       "                  8                   2                   3                   8 \n",
       "            del_20p     del_20p;del_20q             del_20q             del_21q \n",
       "                  4                   1                  22                  20 \n",
       "            del_22q     del_23p;del_23q              del_2p       del_2p;del_2q \n",
       "                  3                   2                   4                   2 \n",
       "             del_2q              del_3p       del_3p;del_3q              del_3q \n",
       "                  9                  21                  15                   7 \n",
       "      del_4p;del_4q              del_4q       del_5p;del_5q              del_5q \n",
       "                  1                  11                  27                 152 \n",
       "             del_6p              del_6q              del_7p       del_7p;del_7q \n",
       "                  1                   6                   7                  38 \n",
       "             del_7q              del_8p              del_8q              del_9p \n",
       "                106                   6                   1                   2 \n",
       "      del_9p;del_9q              del_9q            plus_20p \n",
       "                  6                   7                   1 "
      ]
     },
     "metadata": {},
     "output_type": "display_data"
    }
   ],
   "source": [
    "table(toadd$name)"
   ]
  },
  {
   "cell_type": "code",
   "execution_count": 236,
   "metadata": {},
   "outputs": [],
   "source": [
    "nocheck=subset(toadd,!toadd$annot ==\"check-with-VAF\",)"
   ]
  },
  {
   "cell_type": "code",
   "execution_count": 237,
   "metadata": {},
   "outputs": [
    {
     "data": {
      "text/html": [
       "<table>\n",
       "<caption>A data.frame: 6 × 12</caption>\n",
       "<thead>\n",
       "\t<tr><th></th><th scope=col>experiment</th><th scope=col>Chr</th><th scope=col>Start</th><th scope=col>End</th><th scope=col>N</th><th scope=col>TCN</th><th scope=col>maf</th><th scope=col>evt</th><th scope=col>annot</th><th scope=col>name</th><th scope=col>comment</th><th scope=col>pd</th></tr>\n",
       "\t<tr><th></th><th scope=col>&lt;chr&gt;</th><th scope=col>&lt;chr&gt;</th><th scope=col>&lt;int&gt;</th><th scope=col>&lt;int&gt;</th><th scope=col>&lt;int&gt;</th><th scope=col>&lt;dbl&gt;</th><th scope=col>&lt;dbl&gt;</th><th scope=col>&lt;chr&gt;</th><th scope=col>&lt;chr&gt;</th><th scope=col>&lt;chr&gt;</th><th scope=col>&lt;chr&gt;</th><th scope=col>&lt;fct&gt;</th></tr>\n",
       "</thead>\n",
       "<tbody>\n",
       "\t<tr><th scope=row>5</th><td>IID_H154001_T01_01_TD01</td><td>1 </td><td>190195210</td><td>247098542</td><td> 24</td><td>1.2962750</td><td>0.3953769</td><td>del</td><td>ok</td><td>del_1q       </td><td>NA   </td><td>PD15303a</td></tr>\n",
       "\t<tr><th scope=row>6</th><td>IID_H154001_T01_01_TD01</td><td>5 </td><td>    38049</td><td>179648899</td><td> 89</td><td>1.0533228</td><td>0.1791888</td><td>del</td><td>ok</td><td>del_5p;del_5q</td><td>large</td><td>PD15303a</td></tr>\n",
       "\t<tr><th scope=row>7</th><td>IID_H154001_T01_01_TD01</td><td>7 </td><td>    46149</td><td>101870638</td><td>129</td><td>1.1619699</td><td>0.1893149</td><td>del</td><td>ok</td><td>del_7p;del_7q</td><td>large</td><td>PD15303a</td></tr>\n",
       "\t<tr><th scope=row>8</th><td>IID_H154001_T01_01_TD01</td><td>7 </td><td>101873206</td><td>103190268</td><td> 23</td><td>0.5092767</td><td>0.2862653</td><td>del</td><td>ok</td><td>del_7q       </td><td>focal</td><td>PD15303a</td></tr>\n",
       "\t<tr><th scope=row>9</th><td>IID_H154001_T01_01_TD01</td><td>7 </td><td>104681354</td><td>157560673</td><td>167</td><td>1.1804649</td><td>0.1744523</td><td>del</td><td>ok</td><td>del_7q       </td><td>NA   </td><td>PD15303a</td></tr>\n",
       "\t<tr><th scope=row>16</th><td>IID_H154001_T01_01_TD01</td><td>13</td><td> 32478354</td><td> 56509726</td><td> 95</td><td>1.2422850</td><td>0.2611616</td><td>del</td><td>ok</td><td>del_13q      </td><td>NA   </td><td>PD15303a</td></tr>\n",
       "</tbody>\n",
       "</table>\n"
      ],
      "text/latex": [
       "A data.frame: 6 × 12\n",
       "\\begin{tabular}{r|llllllllllll}\n",
       "  & experiment & Chr & Start & End & N & TCN & maf & evt & annot & name & comment & pd\\\\\n",
       "  & <chr> & <chr> & <int> & <int> & <int> & <dbl> & <dbl> & <chr> & <chr> & <chr> & <chr> & <fct>\\\\\n",
       "\\hline\n",
       "\t5 & IID\\_H154001\\_T01\\_01\\_TD01 & 1  & 190195210 & 247098542 &  24 & 1.2962750 & 0.3953769 & del & ok & del\\_1q        & NA    & PD15303a\\\\\n",
       "\t6 & IID\\_H154001\\_T01\\_01\\_TD01 & 5  &     38049 & 179648899 &  89 & 1.0533228 & 0.1791888 & del & ok & del\\_5p;del\\_5q & large & PD15303a\\\\\n",
       "\t7 & IID\\_H154001\\_T01\\_01\\_TD01 & 7  &     46149 & 101870638 & 129 & 1.1619699 & 0.1893149 & del & ok & del\\_7p;del\\_7q & large & PD15303a\\\\\n",
       "\t8 & IID\\_H154001\\_T01\\_01\\_TD01 & 7  & 101873206 & 103190268 &  23 & 0.5092767 & 0.2862653 & del & ok & del\\_7q        & focal & PD15303a\\\\\n",
       "\t9 & IID\\_H154001\\_T01\\_01\\_TD01 & 7  & 104681354 & 157560673 & 167 & 1.1804649 & 0.1744523 & del & ok & del\\_7q        & NA    & PD15303a\\\\\n",
       "\t16 & IID\\_H154001\\_T01\\_01\\_TD01 & 13 &  32478354 &  56509726 &  95 & 1.2422850 & 0.2611616 & del & ok & del\\_13q       & NA    & PD15303a\\\\\n",
       "\\end{tabular}\n"
      ],
      "text/markdown": [
       "\n",
       "A data.frame: 6 × 12\n",
       "\n",
       "| <!--/--> | experiment &lt;chr&gt; | Chr &lt;chr&gt; | Start &lt;int&gt; | End &lt;int&gt; | N &lt;int&gt; | TCN &lt;dbl&gt; | maf &lt;dbl&gt; | evt &lt;chr&gt; | annot &lt;chr&gt; | name &lt;chr&gt; | comment &lt;chr&gt; | pd &lt;fct&gt; |\n",
       "|---|---|---|---|---|---|---|---|---|---|---|---|---|\n",
       "| 5 | IID_H154001_T01_01_TD01 | 1  | 190195210 | 247098542 |  24 | 1.2962750 | 0.3953769 | del | ok | del_1q        | NA    | PD15303a |\n",
       "| 6 | IID_H154001_T01_01_TD01 | 5  |     38049 | 179648899 |  89 | 1.0533228 | 0.1791888 | del | ok | del_5p;del_5q | large | PD15303a |\n",
       "| 7 | IID_H154001_T01_01_TD01 | 7  |     46149 | 101870638 | 129 | 1.1619699 | 0.1893149 | del | ok | del_7p;del_7q | large | PD15303a |\n",
       "| 8 | IID_H154001_T01_01_TD01 | 7  | 101873206 | 103190268 |  23 | 0.5092767 | 0.2862653 | del | ok | del_7q        | focal | PD15303a |\n",
       "| 9 | IID_H154001_T01_01_TD01 | 7  | 104681354 | 157560673 | 167 | 1.1804649 | 0.1744523 | del | ok | del_7q        | NA    | PD15303a |\n",
       "| 16 | IID_H154001_T01_01_TD01 | 13 |  32478354 |  56509726 |  95 | 1.2422850 | 0.2611616 | del | ok | del_13q       | NA    | PD15303a |\n",
       "\n"
      ],
      "text/plain": [
       "   experiment              Chr Start     End       N   TCN       maf       evt\n",
       "5  IID_H154001_T01_01_TD01 1   190195210 247098542  24 1.2962750 0.3953769 del\n",
       "6  IID_H154001_T01_01_TD01 5       38049 179648899  89 1.0533228 0.1791888 del\n",
       "7  IID_H154001_T01_01_TD01 7       46149 101870638 129 1.1619699 0.1893149 del\n",
       "8  IID_H154001_T01_01_TD01 7   101873206 103190268  23 0.5092767 0.2862653 del\n",
       "9  IID_H154001_T01_01_TD01 7   104681354 157560673 167 1.1804649 0.1744523 del\n",
       "16 IID_H154001_T01_01_TD01 13   32478354  56509726  95 1.2422850 0.2611616 del\n",
       "   annot name          comment pd      \n",
       "5  ok    del_1q        NA      PD15303a\n",
       "6  ok    del_5p;del_5q large   PD15303a\n",
       "7  ok    del_7p;del_7q large   PD15303a\n",
       "8  ok    del_7q        focal   PD15303a\n",
       "9  ok    del_7q        NA      PD15303a\n",
       "16 ok    del_13q       NA      PD15303a"
      ]
     },
     "metadata": {},
     "output_type": "display_data"
    }
   ],
   "source": [
    "head(nocheck)"
   ]
  },
  {
   "cell_type": "code",
   "execution_count": 238,
   "metadata": {},
   "outputs": [
    {
     "data": {
      "text/html": [
       "758"
      ],
      "text/latex": [
       "758"
      ],
      "text/markdown": [
       "758"
      ],
      "text/plain": [
       "[1] 758"
      ]
     },
     "metadata": {},
     "output_type": "display_data"
    }
   ],
   "source": [
    "nrow(nocheck)"
   ]
  },
  {
   "cell_type": "code",
   "execution_count": 239,
   "metadata": {},
   "outputs": [
    {
     "data": {
      "text/html": [
       "758"
      ],
      "text/latex": [
       "758"
      ],
      "text/markdown": [
       "758"
      ],
      "text/plain": [
       "[1] 758"
      ]
     },
     "metadata": {},
     "output_type": "display_data"
    }
   ],
   "source": [
    "nrow(subset(nocheck,!is.na(nocheck$name),))"
   ]
  },
  {
   "cell_type": "code",
   "execution_count": 240,
   "metadata": {},
   "outputs": [
    {
     "name": "stderr",
     "output_type": "stream",
     "text": [
      "Warning message:\n",
      "“Expected 2 pieces. Missing pieces filled with `NA` in 487 rows [1, 4, 5, 6, 8, 9, 10, 11, 12, 14, 15, 16, 17, 18, 19, 21, 23, 25, 26, 28, ...].”"
     ]
    }
   ],
   "source": [
    "allevts = subset(toadd,,c('experiment','annot','name','pd'))\n",
    "allevts = unique(allevts)\n",
    "\n",
    "allevts = separate(allevts, name, c('name1','name2'), sep = \";\")"
   ]
  },
  {
   "cell_type": "code",
   "execution_count": 241,
   "metadata": {},
   "outputs": [],
   "source": [
    "#allevts"
   ]
  },
  {
   "cell_type": "code",
   "execution_count": 242,
   "metadata": {},
   "outputs": [
    {
     "data": {
      "text/html": [
       "<table>\n",
       "<caption>A data.frame: 6 × 12</caption>\n",
       "<thead>\n",
       "\t<tr><th></th><th scope=col>experiment</th><th scope=col>Chr</th><th scope=col>Start</th><th scope=col>End</th><th scope=col>N</th><th scope=col>TCN</th><th scope=col>maf</th><th scope=col>evt</th><th scope=col>annot</th><th scope=col>name</th><th scope=col>comment</th><th scope=col>pd</th></tr>\n",
       "\t<tr><th></th><th scope=col>&lt;chr&gt;</th><th scope=col>&lt;chr&gt;</th><th scope=col>&lt;int&gt;</th><th scope=col>&lt;int&gt;</th><th scope=col>&lt;int&gt;</th><th scope=col>&lt;dbl&gt;</th><th scope=col>&lt;dbl&gt;</th><th scope=col>&lt;chr&gt;</th><th scope=col>&lt;chr&gt;</th><th scope=col>&lt;chr&gt;</th><th scope=col>&lt;chr&gt;</th><th scope=col>&lt;fct&gt;</th></tr>\n",
       "</thead>\n",
       "<tbody>\n",
       "\t<tr><th scope=row>5</th><td>IID_H154001_T01_01_TD01</td><td>1 </td><td>190195210</td><td>247098542</td><td> 24</td><td>1.2962750</td><td>0.3953769</td><td>del</td><td>ok</td><td>del_1q       </td><td>NA   </td><td>PD15303a</td></tr>\n",
       "\t<tr><th scope=row>6</th><td>IID_H154001_T01_01_TD01</td><td>5 </td><td>    38049</td><td>179648899</td><td> 89</td><td>1.0533228</td><td>0.1791888</td><td>del</td><td>ok</td><td>del_5p;del_5q</td><td>large</td><td>PD15303a</td></tr>\n",
       "\t<tr><th scope=row>7</th><td>IID_H154001_T01_01_TD01</td><td>7 </td><td>    46149</td><td>101870638</td><td>129</td><td>1.1619699</td><td>0.1893149</td><td>del</td><td>ok</td><td>del_7p;del_7q</td><td>large</td><td>PD15303a</td></tr>\n",
       "\t<tr><th scope=row>8</th><td>IID_H154001_T01_01_TD01</td><td>7 </td><td>101873206</td><td>103190268</td><td> 23</td><td>0.5092767</td><td>0.2862653</td><td>del</td><td>ok</td><td>del_7q       </td><td>focal</td><td>PD15303a</td></tr>\n",
       "\t<tr><th scope=row>9</th><td>IID_H154001_T01_01_TD01</td><td>7 </td><td>104681354</td><td>157560673</td><td>167</td><td>1.1804649</td><td>0.1744523</td><td>del</td><td>ok</td><td>del_7q       </td><td>NA   </td><td>PD15303a</td></tr>\n",
       "\t<tr><th scope=row>16</th><td>IID_H154001_T01_01_TD01</td><td>13</td><td> 32478354</td><td> 56509726</td><td> 95</td><td>1.2422850</td><td>0.2611616</td><td>del</td><td>ok</td><td>del_13q      </td><td>NA   </td><td>PD15303a</td></tr>\n",
       "</tbody>\n",
       "</table>\n"
      ],
      "text/latex": [
       "A data.frame: 6 × 12\n",
       "\\begin{tabular}{r|llllllllllll}\n",
       "  & experiment & Chr & Start & End & N & TCN & maf & evt & annot & name & comment & pd\\\\\n",
       "  & <chr> & <chr> & <int> & <int> & <int> & <dbl> & <dbl> & <chr> & <chr> & <chr> & <chr> & <fct>\\\\\n",
       "\\hline\n",
       "\t5 & IID\\_H154001\\_T01\\_01\\_TD01 & 1  & 190195210 & 247098542 &  24 & 1.2962750 & 0.3953769 & del & ok & del\\_1q        & NA    & PD15303a\\\\\n",
       "\t6 & IID\\_H154001\\_T01\\_01\\_TD01 & 5  &     38049 & 179648899 &  89 & 1.0533228 & 0.1791888 & del & ok & del\\_5p;del\\_5q & large & PD15303a\\\\\n",
       "\t7 & IID\\_H154001\\_T01\\_01\\_TD01 & 7  &     46149 & 101870638 & 129 & 1.1619699 & 0.1893149 & del & ok & del\\_7p;del\\_7q & large & PD15303a\\\\\n",
       "\t8 & IID\\_H154001\\_T01\\_01\\_TD01 & 7  & 101873206 & 103190268 &  23 & 0.5092767 & 0.2862653 & del & ok & del\\_7q        & focal & PD15303a\\\\\n",
       "\t9 & IID\\_H154001\\_T01\\_01\\_TD01 & 7  & 104681354 & 157560673 & 167 & 1.1804649 & 0.1744523 & del & ok & del\\_7q        & NA    & PD15303a\\\\\n",
       "\t16 & IID\\_H154001\\_T01\\_01\\_TD01 & 13 &  32478354 &  56509726 &  95 & 1.2422850 & 0.2611616 & del & ok & del\\_13q       & NA    & PD15303a\\\\\n",
       "\\end{tabular}\n"
      ],
      "text/markdown": [
       "\n",
       "A data.frame: 6 × 12\n",
       "\n",
       "| <!--/--> | experiment &lt;chr&gt; | Chr &lt;chr&gt; | Start &lt;int&gt; | End &lt;int&gt; | N &lt;int&gt; | TCN &lt;dbl&gt; | maf &lt;dbl&gt; | evt &lt;chr&gt; | annot &lt;chr&gt; | name &lt;chr&gt; | comment &lt;chr&gt; | pd &lt;fct&gt; |\n",
       "|---|---|---|---|---|---|---|---|---|---|---|---|---|\n",
       "| 5 | IID_H154001_T01_01_TD01 | 1  | 190195210 | 247098542 |  24 | 1.2962750 | 0.3953769 | del | ok | del_1q        | NA    | PD15303a |\n",
       "| 6 | IID_H154001_T01_01_TD01 | 5  |     38049 | 179648899 |  89 | 1.0533228 | 0.1791888 | del | ok | del_5p;del_5q | large | PD15303a |\n",
       "| 7 | IID_H154001_T01_01_TD01 | 7  |     46149 | 101870638 | 129 | 1.1619699 | 0.1893149 | del | ok | del_7p;del_7q | large | PD15303a |\n",
       "| 8 | IID_H154001_T01_01_TD01 | 7  | 101873206 | 103190268 |  23 | 0.5092767 | 0.2862653 | del | ok | del_7q        | focal | PD15303a |\n",
       "| 9 | IID_H154001_T01_01_TD01 | 7  | 104681354 | 157560673 | 167 | 1.1804649 | 0.1744523 | del | ok | del_7q        | NA    | PD15303a |\n",
       "| 16 | IID_H154001_T01_01_TD01 | 13 |  32478354 |  56509726 |  95 | 1.2422850 | 0.2611616 | del | ok | del_13q       | NA    | PD15303a |\n",
       "\n"
      ],
      "text/plain": [
       "   experiment              Chr Start     End       N   TCN       maf       evt\n",
       "5  IID_H154001_T01_01_TD01 1   190195210 247098542  24 1.2962750 0.3953769 del\n",
       "6  IID_H154001_T01_01_TD01 5       38049 179648899  89 1.0533228 0.1791888 del\n",
       "7  IID_H154001_T01_01_TD01 7       46149 101870638 129 1.1619699 0.1893149 del\n",
       "8  IID_H154001_T01_01_TD01 7   101873206 103190268  23 0.5092767 0.2862653 del\n",
       "9  IID_H154001_T01_01_TD01 7   104681354 157560673 167 1.1804649 0.1744523 del\n",
       "16 IID_H154001_T01_01_TD01 13   32478354  56509726  95 1.2422850 0.2611616 del\n",
       "   annot name          comment pd      \n",
       "5  ok    del_1q        NA      PD15303a\n",
       "6  ok    del_5p;del_5q large   PD15303a\n",
       "7  ok    del_7p;del_7q large   PD15303a\n",
       "8  ok    del_7q        focal   PD15303a\n",
       "9  ok    del_7q        NA      PD15303a\n",
       "16 ok    del_13q       NA      PD15303a"
      ]
     },
     "metadata": {},
     "output_type": "display_data"
    }
   ],
   "source": [
    "head(nocheck)"
   ]
  },
  {
   "cell_type": "code",
   "execution_count": 243,
   "metadata": {},
   "outputs": [
    {
     "name": "stderr",
     "output_type": "stream",
     "text": [
      "Warning message:\n",
      "“Expected 2 pieces. Missing pieces filled with `NA` in 459 rows [1, 4, 5, 7, 8, 9, 10, 12, 13, 14, 15, 16, 17, 19, 21, 23, 24, 26, 27, 29, ...].”"
     ]
    }
   ],
   "source": [
    "#setdiff(nocheck2$annot,nocheck$annot)\n",
    "evts = subset(nocheck,,c('experiment','annot','name','pd'))\n",
    "evts = unique(evts)\n",
    "\n",
    "evts = separate(evts, name, c('name1','name2'), sep = \";\")"
   ]
  },
  {
   "cell_type": "code",
   "execution_count": 244,
   "metadata": {},
   "outputs": [],
   "source": [
    "colnames = unique(c(allevts$name1,allevts$name2))"
   ]
  },
  {
   "cell_type": "code",
   "execution_count": 245,
   "metadata": {},
   "outputs": [],
   "source": [
    "colnames = colnames[!is.na(colnames)]"
   ]
  },
  {
   "cell_type": "code",
   "execution_count": 246,
   "metadata": {},
   "outputs": [],
   "source": [
    "d = data.frame(pd=unique(toadd$pd))"
   ]
  },
  {
   "cell_type": "code",
   "execution_count": 247,
   "metadata": {},
   "outputs": [],
   "source": [
    "for (i in colnames){\n",
    "    d[,i]=0\n",
    "}"
   ]
  },
  {
   "cell_type": "code",
   "execution_count": 248,
   "metadata": {},
   "outputs": [],
   "source": [
    "for (i in d$pd){\n",
    "    all_p_evt = unique(evts[evts$pd==i,c('name1','name2')])\n",
    "    all_p_evt=unique(c(all_p_evt$name1,all_p_evt$name2))\n",
    "    for (x in all_p_evt){\n",
    "        if (!is.na(x)){\n",
    "            d[d$pd==i,x]=1\n",
    "        }\n",
    "    }\n",
    "}"
   ]
  },
  {
   "cell_type": "code",
   "execution_count": 249,
   "metadata": {},
   "outputs": [
    {
     "data": {
      "text/html": [
       "<table>\n",
       "<caption>A data.frame: 6 × 52</caption>\n",
       "<thead>\n",
       "\t<tr><th scope=col>pd</th><th scope=col>del_1q</th><th scope=col>del_5p</th><th scope=col>del_7p</th><th scope=col>del_7q</th><th scope=col>del_13q</th><th scope=col>del_17p</th><th scope=col>del_5q</th><th scope=col>del_6q</th><th scope=col>del_16q</th><th scope=col>del_11p</th><th scope=col>del_21q</th><th scope=col>del_9p</th><th scope=col>del_9q</th><th scope=col>del_16p</th><th scope=col>del_17q</th><th scope=col>del_20q</th><th scope=col>del_8p</th><th scope=col>del_18p</th><th scope=col>del_18q</th><th scope=col>cnloh_17p</th><th scope=col>del_12p</th><th scope=col>del_3p</th><th scope=col>del_15q</th><th scope=col>del_4q</th><th scope=col>del_6p</th><th scope=col>del_14q</th><th scope=col>del_12q</th><th scope=col>del_1p</th><th scope=col>del_3q</th><th scope=col>del_2q</th><th scope=col>del_19p</th><th scope=col>del_23p</th><th scope=col>del_20p</th><th scope=col>cnloh_20p</th><th scope=col>del_4p</th><th scope=col>del_11q</th><th scope=col>del_22q</th><th scope=col>plus_20p</th><th scope=col>del_2p</th><th scope=col>del_10p</th><th scope=col>del_10q</th><th scope=col>cnloh_1q</th><th scope=col>del_8q</th><th scope=col>cnloh_1p</th><th scope=col>cnloh_11p</th><th scope=col>cnloh_2q</th><th scope=col>cnloh_17q</th><th scope=col>cnloh_3p</th><th scope=col>cnloh_7q</th><th scope=col>del_19q</th><th scope=col>del_23q</th></tr>\n",
       "\t<tr><th scope=col>&lt;fct&gt;</th><th scope=col>&lt;dbl&gt;</th><th scope=col>&lt;dbl&gt;</th><th scope=col>&lt;dbl&gt;</th><th scope=col>&lt;dbl&gt;</th><th scope=col>&lt;dbl&gt;</th><th scope=col>&lt;dbl&gt;</th><th scope=col>&lt;dbl&gt;</th><th scope=col>&lt;dbl&gt;</th><th scope=col>&lt;dbl&gt;</th><th scope=col>&lt;dbl&gt;</th><th scope=col>&lt;dbl&gt;</th><th scope=col>&lt;dbl&gt;</th><th scope=col>&lt;dbl&gt;</th><th scope=col>&lt;dbl&gt;</th><th scope=col>&lt;dbl&gt;</th><th scope=col>&lt;dbl&gt;</th><th scope=col>&lt;dbl&gt;</th><th scope=col>&lt;dbl&gt;</th><th scope=col>&lt;dbl&gt;</th><th scope=col>&lt;dbl&gt;</th><th scope=col>&lt;dbl&gt;</th><th scope=col>&lt;dbl&gt;</th><th scope=col>&lt;dbl&gt;</th><th scope=col>&lt;dbl&gt;</th><th scope=col>&lt;dbl&gt;</th><th scope=col>&lt;dbl&gt;</th><th scope=col>&lt;dbl&gt;</th><th scope=col>&lt;dbl&gt;</th><th scope=col>&lt;dbl&gt;</th><th scope=col>&lt;dbl&gt;</th><th scope=col>&lt;dbl&gt;</th><th scope=col>&lt;dbl&gt;</th><th scope=col>&lt;dbl&gt;</th><th scope=col>&lt;dbl&gt;</th><th scope=col>&lt;dbl&gt;</th><th scope=col>&lt;dbl&gt;</th><th scope=col>&lt;dbl&gt;</th><th scope=col>&lt;dbl&gt;</th><th scope=col>&lt;dbl&gt;</th><th scope=col>&lt;dbl&gt;</th><th scope=col>&lt;dbl&gt;</th><th scope=col>&lt;dbl&gt;</th><th scope=col>&lt;dbl&gt;</th><th scope=col>&lt;dbl&gt;</th><th scope=col>&lt;dbl&gt;</th><th scope=col>&lt;dbl&gt;</th><th scope=col>&lt;dbl&gt;</th><th scope=col>&lt;dbl&gt;</th><th scope=col>&lt;dbl&gt;</th><th scope=col>&lt;dbl&gt;</th><th scope=col>&lt;dbl&gt;</th></tr>\n",
       "</thead>\n",
       "<tbody>\n",
       "\t<tr><td>PD15303a</td><td>1</td><td>1</td><td>1</td><td>1</td><td>1</td><td>0</td><td>1</td><td>0</td><td>0</td><td>0</td><td>0</td><td>0</td><td>0</td><td>0</td><td>0</td><td>0</td><td>0</td><td>0</td><td>0</td><td>0</td><td>0</td><td>0</td><td>0</td><td>0</td><td>0</td><td>0</td><td>0</td><td>0</td><td>0</td><td>0</td><td>0</td><td>0</td><td>0</td><td>0</td><td>0</td><td>0</td><td>0</td><td>0</td><td>0</td><td>0</td><td>0</td><td>0</td><td>0</td><td>0</td><td>0</td><td>0</td><td>0</td><td>0</td><td>0</td><td>0</td><td>0</td></tr>\n",
       "\t<tr><td>PD14913c</td><td>0</td><td>1</td><td>0</td><td>1</td><td>0</td><td>0</td><td>1</td><td>1</td><td>1</td><td>0</td><td>0</td><td>0</td><td>0</td><td>0</td><td>0</td><td>0</td><td>0</td><td>0</td><td>0</td><td>0</td><td>0</td><td>0</td><td>0</td><td>0</td><td>0</td><td>0</td><td>0</td><td>0</td><td>0</td><td>0</td><td>0</td><td>0</td><td>0</td><td>0</td><td>0</td><td>0</td><td>0</td><td>0</td><td>0</td><td>0</td><td>0</td><td>0</td><td>0</td><td>0</td><td>0</td><td>0</td><td>0</td><td>0</td><td>0</td><td>0</td><td>0</td></tr>\n",
       "\t<tr><td>PD14872a</td><td>0</td><td>1</td><td>0</td><td>0</td><td>0</td><td>0</td><td>1</td><td>0</td><td>0</td><td>0</td><td>0</td><td>0</td><td>0</td><td>0</td><td>0</td><td>0</td><td>0</td><td>0</td><td>0</td><td>0</td><td>0</td><td>0</td><td>0</td><td>0</td><td>0</td><td>0</td><td>0</td><td>0</td><td>0</td><td>0</td><td>0</td><td>0</td><td>0</td><td>0</td><td>0</td><td>0</td><td>0</td><td>0</td><td>0</td><td>0</td><td>0</td><td>0</td><td>0</td><td>0</td><td>0</td><td>0</td><td>0</td><td>0</td><td>0</td><td>0</td><td>0</td></tr>\n",
       "\t<tr><td>PD15086a</td><td>0</td><td>0</td><td>1</td><td>1</td><td>0</td><td>0</td><td>1</td><td>0</td><td>0</td><td>1</td><td>1</td><td>0</td><td>0</td><td>0</td><td>0</td><td>0</td><td>0</td><td>0</td><td>0</td><td>0</td><td>0</td><td>0</td><td>0</td><td>0</td><td>0</td><td>0</td><td>0</td><td>0</td><td>0</td><td>0</td><td>0</td><td>0</td><td>0</td><td>0</td><td>0</td><td>0</td><td>0</td><td>0</td><td>0</td><td>0</td><td>0</td><td>0</td><td>0</td><td>0</td><td>0</td><td>0</td><td>0</td><td>0</td><td>0</td><td>0</td><td>0</td></tr>\n",
       "\t<tr><td>PD15417a</td><td>0</td><td>0</td><td>0</td><td>0</td><td>0</td><td>1</td><td>1</td><td>0</td><td>1</td><td>0</td><td>0</td><td>1</td><td>1</td><td>1</td><td>1</td><td>0</td><td>0</td><td>0</td><td>0</td><td>0</td><td>0</td><td>0</td><td>0</td><td>0</td><td>0</td><td>0</td><td>0</td><td>0</td><td>0</td><td>0</td><td>0</td><td>0</td><td>0</td><td>0</td><td>0</td><td>0</td><td>0</td><td>0</td><td>0</td><td>0</td><td>0</td><td>0</td><td>0</td><td>0</td><td>0</td><td>0</td><td>0</td><td>0</td><td>0</td><td>0</td><td>0</td></tr>\n",
       "\t<tr><td>PD15217a</td><td>0</td><td>1</td><td>0</td><td>0</td><td>0</td><td>1</td><td>1</td><td>0</td><td>1</td><td>0</td><td>0</td><td>0</td><td>0</td><td>0</td><td>1</td><td>1</td><td>0</td><td>0</td><td>0</td><td>0</td><td>0</td><td>0</td><td>0</td><td>0</td><td>0</td><td>0</td><td>0</td><td>0</td><td>0</td><td>0</td><td>0</td><td>0</td><td>0</td><td>0</td><td>0</td><td>0</td><td>0</td><td>0</td><td>0</td><td>0</td><td>0</td><td>0</td><td>0</td><td>0</td><td>0</td><td>0</td><td>0</td><td>0</td><td>0</td><td>0</td><td>0</td></tr>\n",
       "</tbody>\n",
       "</table>\n"
      ],
      "text/latex": [
       "A data.frame: 6 × 52\n",
       "\\begin{tabular}{r|llllllllllllllllllllllllllllllllllllllllllllllllllll}\n",
       " pd & del\\_1q & del\\_5p & del\\_7p & del\\_7q & del\\_13q & del\\_17p & del\\_5q & del\\_6q & del\\_16q & del\\_11p & del\\_21q & del\\_9p & del\\_9q & del\\_16p & del\\_17q & del\\_20q & del\\_8p & del\\_18p & del\\_18q & cnloh\\_17p & del\\_12p & del\\_3p & del\\_15q & del\\_4q & del\\_6p & del\\_14q & del\\_12q & del\\_1p & del\\_3q & del\\_2q & del\\_19p & del\\_23p & del\\_20p & cnloh\\_20p & del\\_4p & del\\_11q & del\\_22q & plus\\_20p & del\\_2p & del\\_10p & del\\_10q & cnloh\\_1q & del\\_8q & cnloh\\_1p & cnloh\\_11p & cnloh\\_2q & cnloh\\_17q & cnloh\\_3p & cnloh\\_7q & del\\_19q & del\\_23q\\\\\n",
       " <fct> & <dbl> & <dbl> & <dbl> & <dbl> & <dbl> & <dbl> & <dbl> & <dbl> & <dbl> & <dbl> & <dbl> & <dbl> & <dbl> & <dbl> & <dbl> & <dbl> & <dbl> & <dbl> & <dbl> & <dbl> & <dbl> & <dbl> & <dbl> & <dbl> & <dbl> & <dbl> & <dbl> & <dbl> & <dbl> & <dbl> & <dbl> & <dbl> & <dbl> & <dbl> & <dbl> & <dbl> & <dbl> & <dbl> & <dbl> & <dbl> & <dbl> & <dbl> & <dbl> & <dbl> & <dbl> & <dbl> & <dbl> & <dbl> & <dbl> & <dbl> & <dbl>\\\\\n",
       "\\hline\n",
       "\t PD15303a & 1 & 1 & 1 & 1 & 1 & 0 & 1 & 0 & 0 & 0 & 0 & 0 & 0 & 0 & 0 & 0 & 0 & 0 & 0 & 0 & 0 & 0 & 0 & 0 & 0 & 0 & 0 & 0 & 0 & 0 & 0 & 0 & 0 & 0 & 0 & 0 & 0 & 0 & 0 & 0 & 0 & 0 & 0 & 0 & 0 & 0 & 0 & 0 & 0 & 0 & 0\\\\\n",
       "\t PD14913c & 0 & 1 & 0 & 1 & 0 & 0 & 1 & 1 & 1 & 0 & 0 & 0 & 0 & 0 & 0 & 0 & 0 & 0 & 0 & 0 & 0 & 0 & 0 & 0 & 0 & 0 & 0 & 0 & 0 & 0 & 0 & 0 & 0 & 0 & 0 & 0 & 0 & 0 & 0 & 0 & 0 & 0 & 0 & 0 & 0 & 0 & 0 & 0 & 0 & 0 & 0\\\\\n",
       "\t PD14872a & 0 & 1 & 0 & 0 & 0 & 0 & 1 & 0 & 0 & 0 & 0 & 0 & 0 & 0 & 0 & 0 & 0 & 0 & 0 & 0 & 0 & 0 & 0 & 0 & 0 & 0 & 0 & 0 & 0 & 0 & 0 & 0 & 0 & 0 & 0 & 0 & 0 & 0 & 0 & 0 & 0 & 0 & 0 & 0 & 0 & 0 & 0 & 0 & 0 & 0 & 0\\\\\n",
       "\t PD15086a & 0 & 0 & 1 & 1 & 0 & 0 & 1 & 0 & 0 & 1 & 1 & 0 & 0 & 0 & 0 & 0 & 0 & 0 & 0 & 0 & 0 & 0 & 0 & 0 & 0 & 0 & 0 & 0 & 0 & 0 & 0 & 0 & 0 & 0 & 0 & 0 & 0 & 0 & 0 & 0 & 0 & 0 & 0 & 0 & 0 & 0 & 0 & 0 & 0 & 0 & 0\\\\\n",
       "\t PD15417a & 0 & 0 & 0 & 0 & 0 & 1 & 1 & 0 & 1 & 0 & 0 & 1 & 1 & 1 & 1 & 0 & 0 & 0 & 0 & 0 & 0 & 0 & 0 & 0 & 0 & 0 & 0 & 0 & 0 & 0 & 0 & 0 & 0 & 0 & 0 & 0 & 0 & 0 & 0 & 0 & 0 & 0 & 0 & 0 & 0 & 0 & 0 & 0 & 0 & 0 & 0\\\\\n",
       "\t PD15217a & 0 & 1 & 0 & 0 & 0 & 1 & 1 & 0 & 1 & 0 & 0 & 0 & 0 & 0 & 1 & 1 & 0 & 0 & 0 & 0 & 0 & 0 & 0 & 0 & 0 & 0 & 0 & 0 & 0 & 0 & 0 & 0 & 0 & 0 & 0 & 0 & 0 & 0 & 0 & 0 & 0 & 0 & 0 & 0 & 0 & 0 & 0 & 0 & 0 & 0 & 0\\\\\n",
       "\\end{tabular}\n"
      ],
      "text/markdown": [
       "\n",
       "A data.frame: 6 × 52\n",
       "\n",
       "| pd &lt;fct&gt; | del_1q &lt;dbl&gt; | del_5p &lt;dbl&gt; | del_7p &lt;dbl&gt; | del_7q &lt;dbl&gt; | del_13q &lt;dbl&gt; | del_17p &lt;dbl&gt; | del_5q &lt;dbl&gt; | del_6q &lt;dbl&gt; | del_16q &lt;dbl&gt; | del_11p &lt;dbl&gt; | del_21q &lt;dbl&gt; | del_9p &lt;dbl&gt; | del_9q &lt;dbl&gt; | del_16p &lt;dbl&gt; | del_17q &lt;dbl&gt; | del_20q &lt;dbl&gt; | del_8p &lt;dbl&gt; | del_18p &lt;dbl&gt; | del_18q &lt;dbl&gt; | cnloh_17p &lt;dbl&gt; | del_12p &lt;dbl&gt; | del_3p &lt;dbl&gt; | del_15q &lt;dbl&gt; | del_4q &lt;dbl&gt; | del_6p &lt;dbl&gt; | del_14q &lt;dbl&gt; | del_12q &lt;dbl&gt; | del_1p &lt;dbl&gt; | del_3q &lt;dbl&gt; | del_2q &lt;dbl&gt; | del_19p &lt;dbl&gt; | del_23p &lt;dbl&gt; | del_20p &lt;dbl&gt; | cnloh_20p &lt;dbl&gt; | del_4p &lt;dbl&gt; | del_11q &lt;dbl&gt; | del_22q &lt;dbl&gt; | plus_20p &lt;dbl&gt; | del_2p &lt;dbl&gt; | del_10p &lt;dbl&gt; | del_10q &lt;dbl&gt; | cnloh_1q &lt;dbl&gt; | del_8q &lt;dbl&gt; | cnloh_1p &lt;dbl&gt; | cnloh_11p &lt;dbl&gt; | cnloh_2q &lt;dbl&gt; | cnloh_17q &lt;dbl&gt; | cnloh_3p &lt;dbl&gt; | cnloh_7q &lt;dbl&gt; | del_19q &lt;dbl&gt; | del_23q &lt;dbl&gt; |\n",
       "|---|---|---|---|---|---|---|---|---|---|---|---|---|---|---|---|---|---|---|---|---|---|---|---|---|---|---|---|---|---|---|---|---|---|---|---|---|---|---|---|---|---|---|---|---|---|---|---|---|---|---|---|\n",
       "| PD15303a | 1 | 1 | 1 | 1 | 1 | 0 | 1 | 0 | 0 | 0 | 0 | 0 | 0 | 0 | 0 | 0 | 0 | 0 | 0 | 0 | 0 | 0 | 0 | 0 | 0 | 0 | 0 | 0 | 0 | 0 | 0 | 0 | 0 | 0 | 0 | 0 | 0 | 0 | 0 | 0 | 0 | 0 | 0 | 0 | 0 | 0 | 0 | 0 | 0 | 0 | 0 |\n",
       "| PD14913c | 0 | 1 | 0 | 1 | 0 | 0 | 1 | 1 | 1 | 0 | 0 | 0 | 0 | 0 | 0 | 0 | 0 | 0 | 0 | 0 | 0 | 0 | 0 | 0 | 0 | 0 | 0 | 0 | 0 | 0 | 0 | 0 | 0 | 0 | 0 | 0 | 0 | 0 | 0 | 0 | 0 | 0 | 0 | 0 | 0 | 0 | 0 | 0 | 0 | 0 | 0 |\n",
       "| PD14872a | 0 | 1 | 0 | 0 | 0 | 0 | 1 | 0 | 0 | 0 | 0 | 0 | 0 | 0 | 0 | 0 | 0 | 0 | 0 | 0 | 0 | 0 | 0 | 0 | 0 | 0 | 0 | 0 | 0 | 0 | 0 | 0 | 0 | 0 | 0 | 0 | 0 | 0 | 0 | 0 | 0 | 0 | 0 | 0 | 0 | 0 | 0 | 0 | 0 | 0 | 0 |\n",
       "| PD15086a | 0 | 0 | 1 | 1 | 0 | 0 | 1 | 0 | 0 | 1 | 1 | 0 | 0 | 0 | 0 | 0 | 0 | 0 | 0 | 0 | 0 | 0 | 0 | 0 | 0 | 0 | 0 | 0 | 0 | 0 | 0 | 0 | 0 | 0 | 0 | 0 | 0 | 0 | 0 | 0 | 0 | 0 | 0 | 0 | 0 | 0 | 0 | 0 | 0 | 0 | 0 |\n",
       "| PD15417a | 0 | 0 | 0 | 0 | 0 | 1 | 1 | 0 | 1 | 0 | 0 | 1 | 1 | 1 | 1 | 0 | 0 | 0 | 0 | 0 | 0 | 0 | 0 | 0 | 0 | 0 | 0 | 0 | 0 | 0 | 0 | 0 | 0 | 0 | 0 | 0 | 0 | 0 | 0 | 0 | 0 | 0 | 0 | 0 | 0 | 0 | 0 | 0 | 0 | 0 | 0 |\n",
       "| PD15217a | 0 | 1 | 0 | 0 | 0 | 1 | 1 | 0 | 1 | 0 | 0 | 0 | 0 | 0 | 1 | 1 | 0 | 0 | 0 | 0 | 0 | 0 | 0 | 0 | 0 | 0 | 0 | 0 | 0 | 0 | 0 | 0 | 0 | 0 | 0 | 0 | 0 | 0 | 0 | 0 | 0 | 0 | 0 | 0 | 0 | 0 | 0 | 0 | 0 | 0 | 0 |\n",
       "\n"
      ],
      "text/plain": [
       "  pd       del_1q del_5p del_7p del_7q del_13q del_17p del_5q del_6q del_16q\n",
       "1 PD15303a 1      1      1      1      1       0       1      0      0      \n",
       "2 PD14913c 0      1      0      1      0       0       1      1      1      \n",
       "3 PD14872a 0      1      0      0      0       0       1      0      0      \n",
       "4 PD15086a 0      0      1      1      0       0       1      0      0      \n",
       "5 PD15417a 0      0      0      0      0       1       1      0      1      \n",
       "6 PD15217a 0      1      0      0      0       1       1      0      1      \n",
       "  del_11p del_21q del_9p del_9q del_16p del_17q del_20q del_8p del_18p del_18q\n",
       "1 0       0       0      0      0       0       0       0      0       0      \n",
       "2 0       0       0      0      0       0       0       0      0       0      \n",
       "3 0       0       0      0      0       0       0       0      0       0      \n",
       "4 1       1       0      0      0       0       0       0      0       0      \n",
       "5 0       0       1      1      1       1       0       0      0       0      \n",
       "6 0       0       0      0      0       1       1       0      0       0      \n",
       "  cnloh_17p del_12p del_3p del_15q del_4q del_6p del_14q del_12q del_1p del_3q\n",
       "1 0         0       0      0       0      0      0       0       0      0     \n",
       "2 0         0       0      0       0      0      0       0       0      0     \n",
       "3 0         0       0      0       0      0      0       0       0      0     \n",
       "4 0         0       0      0       0      0      0       0       0      0     \n",
       "5 0         0       0      0       0      0      0       0       0      0     \n",
       "6 0         0       0      0       0      0      0       0       0      0     \n",
       "  del_2q del_19p del_23p del_20p cnloh_20p del_4p del_11q del_22q plus_20p\n",
       "1 0      0       0       0       0         0      0       0       0       \n",
       "2 0      0       0       0       0         0      0       0       0       \n",
       "3 0      0       0       0       0         0      0       0       0       \n",
       "4 0      0       0       0       0         0      0       0       0       \n",
       "5 0      0       0       0       0         0      0       0       0       \n",
       "6 0      0       0       0       0         0      0       0       0       \n",
       "  del_2p del_10p del_10q cnloh_1q del_8q cnloh_1p cnloh_11p cnloh_2q cnloh_17q\n",
       "1 0      0       0       0        0      0        0         0        0        \n",
       "2 0      0       0       0        0      0        0         0        0        \n",
       "3 0      0       0       0        0      0        0         0        0        \n",
       "4 0      0       0       0        0      0        0         0        0        \n",
       "5 0      0       0       0        0      0        0         0        0        \n",
       "6 0      0       0       0        0      0        0         0        0        \n",
       "  cnloh_3p cnloh_7q del_19q del_23q\n",
       "1 0        0        0       0      \n",
       "2 0        0        0       0      \n",
       "3 0        0        0       0      \n",
       "4 0        0        0       0      \n",
       "5 0        0        0       0      \n",
       "6 0        0        0       0      "
      ]
     },
     "metadata": {},
     "output_type": "display_data"
    }
   ],
   "source": [
    "head(d)"
   ]
  },
  {
   "cell_type": "code",
   "execution_count": 250,
   "metadata": {},
   "outputs": [
    {
     "data": {
      "text/html": [
       "<table>\n",
       "<caption>A data.frame: 9 × 12</caption>\n",
       "<thead>\n",
       "\t<tr><th></th><th scope=col>experiment</th><th scope=col>Chr</th><th scope=col>Start</th><th scope=col>End</th><th scope=col>N</th><th scope=col>TCN</th><th scope=col>maf</th><th scope=col>evt</th><th scope=col>annot</th><th scope=col>name</th><th scope=col>comment</th><th scope=col>pd</th></tr>\n",
       "\t<tr><th></th><th scope=col>&lt;chr&gt;</th><th scope=col>&lt;chr&gt;</th><th scope=col>&lt;int&gt;</th><th scope=col>&lt;int&gt;</th><th scope=col>&lt;int&gt;</th><th scope=col>&lt;dbl&gt;</th><th scope=col>&lt;dbl&gt;</th><th scope=col>&lt;chr&gt;</th><th scope=col>&lt;chr&gt;</th><th scope=col>&lt;chr&gt;</th><th scope=col>&lt;chr&gt;</th><th scope=col>&lt;fct&gt;</th></tr>\n",
       "</thead>\n",
       "<tbody>\n",
       "\t<tr><th scope=row>54</th><td>IID_H154100_T01_01_TD01</td><td>9 </td><td> 40585705</td><td>107259775</td><td> 26</td><td>1.1003220</td><td>0.2774424</td><td>del   </td><td>ok </td><td>del_9p;del_9q  </td><td>NA   </td><td>PD15417a</td></tr>\n",
       "\t<tr><th scope=row>55</th><td>IID_H154100_T01_01_TD01</td><td>9 </td><td>110280337</td><td>137828560</td><td> 22</td><td>1.6868411</td><td>0.2611338</td><td>del   </td><td>ok </td><td>del_9q         </td><td>NA   </td><td>PD15417a</td></tr>\n",
       "\t<tr><th scope=row>56</th><td>IID_H154100_T01_01_TD01</td><td>9 </td><td>139390506</td><td>139405563</td><td> 17</td><td>0.5566933</td><td>0.2526655</td><td>del   </td><td>ok </td><td>del_9q         </td><td>focal</td><td>PD15417a</td></tr>\n",
       "\t<tr><th scope=row>57</th><td>IID_H154100_T01_01_TD01</td><td>16</td><td>   105230</td><td> 85817234</td><td>186</td><td>0.9474502</td><td>0.2564236</td><td>del   </td><td>ok </td><td>del_16p;del_16q</td><td>large</td><td>PD15417a</td></tr>\n",
       "\t<tr><th scope=row>58</th><td>IID_H154100_T01_01_TD01</td><td>17</td><td>    18811</td><td>  7576809</td><td> 46</td><td>0.9174908</td><td>0.1146790</td><td>del   </td><td>ok </td><td>del_17p        </td><td>NA   </td><td>PD15417a</td></tr>\n",
       "\t<tr><th scope=row>59</th><td>IID_H154100_T01_01_TD01</td><td>17</td><td>  9026000</td><td> 29579907</td><td> 32</td><td>0.9518727</td><td>0.1118016</td><td>del   </td><td>ok </td><td>del_17p;del_17q</td><td>NA   </td><td>PD15417a</td></tr>\n",
       "\t<tr><th scope=row>60</th><td>IID_H154100_T01_01_TD01</td><td>17</td><td> 29652834</td><td> 40383962</td><td> 53</td><td>0.8369141</td><td>0.2439974</td><td>del   </td><td>ok </td><td>del_17q        </td><td>NA   </td><td>PD15417a</td></tr>\n",
       "\t<tr><th scope=row>61</th><td>IID_H154100_T01_01_TD01</td><td>5q</td><td>       NA</td><td>       NA</td><td> NA</td><td>       NA</td><td>       NA</td><td>byhand</td><td>del</td><td>del_5q         </td><td>NA   </td><td>PD15417a</td></tr>\n",
       "\t<tr><th scope=row>62</th><td>IID_H154100_T01_01_TD01</td><td>17</td><td> 43430606</td><td> 79637475</td><td> 37</td><td>1.4381359</td><td>0.2854368</td><td>del   </td><td>ok </td><td>del_17q        </td><td>large</td><td>PD15417a</td></tr>\n",
       "</tbody>\n",
       "</table>\n"
      ],
      "text/latex": [
       "A data.frame: 9 × 12\n",
       "\\begin{tabular}{r|llllllllllll}\n",
       "  & experiment & Chr & Start & End & N & TCN & maf & evt & annot & name & comment & pd\\\\\n",
       "  & <chr> & <chr> & <int> & <int> & <int> & <dbl> & <dbl> & <chr> & <chr> & <chr> & <chr> & <fct>\\\\\n",
       "\\hline\n",
       "\t54 & IID\\_H154100\\_T01\\_01\\_TD01 & 9  &  40585705 & 107259775 &  26 & 1.1003220 & 0.2774424 & del    & ok  & del\\_9p;del\\_9q   & NA    & PD15417a\\\\\n",
       "\t55 & IID\\_H154100\\_T01\\_01\\_TD01 & 9  & 110280337 & 137828560 &  22 & 1.6868411 & 0.2611338 & del    & ok  & del\\_9q          & NA    & PD15417a\\\\\n",
       "\t56 & IID\\_H154100\\_T01\\_01\\_TD01 & 9  & 139390506 & 139405563 &  17 & 0.5566933 & 0.2526655 & del    & ok  & del\\_9q          & focal & PD15417a\\\\\n",
       "\t57 & IID\\_H154100\\_T01\\_01\\_TD01 & 16 &    105230 &  85817234 & 186 & 0.9474502 & 0.2564236 & del    & ok  & del\\_16p;del\\_16q & large & PD15417a\\\\\n",
       "\t58 & IID\\_H154100\\_T01\\_01\\_TD01 & 17 &     18811 &   7576809 &  46 & 0.9174908 & 0.1146790 & del    & ok  & del\\_17p         & NA    & PD15417a\\\\\n",
       "\t59 & IID\\_H154100\\_T01\\_01\\_TD01 & 17 &   9026000 &  29579907 &  32 & 0.9518727 & 0.1118016 & del    & ok  & del\\_17p;del\\_17q & NA    & PD15417a\\\\\n",
       "\t60 & IID\\_H154100\\_T01\\_01\\_TD01 & 17 &  29652834 &  40383962 &  53 & 0.8369141 & 0.2439974 & del    & ok  & del\\_17q         & NA    & PD15417a\\\\\n",
       "\t61 & IID\\_H154100\\_T01\\_01\\_TD01 & 5q &        NA &        NA &  NA &        NA &        NA & byhand & del & del\\_5q          & NA    & PD15417a\\\\\n",
       "\t62 & IID\\_H154100\\_T01\\_01\\_TD01 & 17 &  43430606 &  79637475 &  37 & 1.4381359 & 0.2854368 & del    & ok  & del\\_17q         & large & PD15417a\\\\\n",
       "\\end{tabular}\n"
      ],
      "text/markdown": [
       "\n",
       "A data.frame: 9 × 12\n",
       "\n",
       "| <!--/--> | experiment &lt;chr&gt; | Chr &lt;chr&gt; | Start &lt;int&gt; | End &lt;int&gt; | N &lt;int&gt; | TCN &lt;dbl&gt; | maf &lt;dbl&gt; | evt &lt;chr&gt; | annot &lt;chr&gt; | name &lt;chr&gt; | comment &lt;chr&gt; | pd &lt;fct&gt; |\n",
       "|---|---|---|---|---|---|---|---|---|---|---|---|---|\n",
       "| 54 | IID_H154100_T01_01_TD01 | 9  |  40585705 | 107259775 |  26 | 1.1003220 | 0.2774424 | del    | ok  | del_9p;del_9q   | NA    | PD15417a |\n",
       "| 55 | IID_H154100_T01_01_TD01 | 9  | 110280337 | 137828560 |  22 | 1.6868411 | 0.2611338 | del    | ok  | del_9q          | NA    | PD15417a |\n",
       "| 56 | IID_H154100_T01_01_TD01 | 9  | 139390506 | 139405563 |  17 | 0.5566933 | 0.2526655 | del    | ok  | del_9q          | focal | PD15417a |\n",
       "| 57 | IID_H154100_T01_01_TD01 | 16 |    105230 |  85817234 | 186 | 0.9474502 | 0.2564236 | del    | ok  | del_16p;del_16q | large | PD15417a |\n",
       "| 58 | IID_H154100_T01_01_TD01 | 17 |     18811 |   7576809 |  46 | 0.9174908 | 0.1146790 | del    | ok  | del_17p         | NA    | PD15417a |\n",
       "| 59 | IID_H154100_T01_01_TD01 | 17 |   9026000 |  29579907 |  32 | 0.9518727 | 0.1118016 | del    | ok  | del_17p;del_17q | NA    | PD15417a |\n",
       "| 60 | IID_H154100_T01_01_TD01 | 17 |  29652834 |  40383962 |  53 | 0.8369141 | 0.2439974 | del    | ok  | del_17q         | NA    | PD15417a |\n",
       "| 61 | IID_H154100_T01_01_TD01 | 5q |        NA |        NA |  NA |        NA |        NA | byhand | del | del_5q          | NA    | PD15417a |\n",
       "| 62 | IID_H154100_T01_01_TD01 | 17 |  43430606 |  79637475 |  37 | 1.4381359 | 0.2854368 | del    | ok  | del_17q         | large | PD15417a |\n",
       "\n"
      ],
      "text/plain": [
       "   experiment              Chr Start     End       N   TCN       maf      \n",
       "54 IID_H154100_T01_01_TD01 9    40585705 107259775  26 1.1003220 0.2774424\n",
       "55 IID_H154100_T01_01_TD01 9   110280337 137828560  22 1.6868411 0.2611338\n",
       "56 IID_H154100_T01_01_TD01 9   139390506 139405563  17 0.5566933 0.2526655\n",
       "57 IID_H154100_T01_01_TD01 16     105230  85817234 186 0.9474502 0.2564236\n",
       "58 IID_H154100_T01_01_TD01 17      18811   7576809  46 0.9174908 0.1146790\n",
       "59 IID_H154100_T01_01_TD01 17    9026000  29579907  32 0.9518727 0.1118016\n",
       "60 IID_H154100_T01_01_TD01 17   29652834  40383962  53 0.8369141 0.2439974\n",
       "61 IID_H154100_T01_01_TD01 5q         NA        NA  NA        NA        NA\n",
       "62 IID_H154100_T01_01_TD01 17   43430606  79637475  37 1.4381359 0.2854368\n",
       "   evt    annot name            comment pd      \n",
       "54 del    ok    del_9p;del_9q   NA      PD15417a\n",
       "55 del    ok    del_9q          NA      PD15417a\n",
       "56 del    ok    del_9q          focal   PD15417a\n",
       "57 del    ok    del_16p;del_16q large   PD15417a\n",
       "58 del    ok    del_17p         NA      PD15417a\n",
       "59 del    ok    del_17p;del_17q NA      PD15417a\n",
       "60 del    ok    del_17q         NA      PD15417a\n",
       "61 byhand del   del_5q          NA      PD15417a\n",
       "62 del    ok    del_17q         large   PD15417a"
      ]
     },
     "metadata": {},
     "output_type": "display_data"
    }
   ],
   "source": [
    "nocheck[nocheck$pd=='PD15417a',]"
   ]
  },
  {
   "cell_type": "code",
   "execution_count": 251,
   "metadata": {},
   "outputs": [],
   "source": [
    "tocheckwithVAF=toadd[toadd$annot ==\"check-with-VAF\",]"
   ]
  },
  {
   "cell_type": "code",
   "execution_count": 252,
   "metadata": {},
   "outputs": [
    {
     "data": {
      "text/html": [
       "<table>\n",
       "<caption>A data.frame: 1 × 12</caption>\n",
       "<thead>\n",
       "\t<tr><th></th><th scope=col>experiment</th><th scope=col>Chr</th><th scope=col>Start</th><th scope=col>End</th><th scope=col>N</th><th scope=col>TCN</th><th scope=col>maf</th><th scope=col>evt</th><th scope=col>annot</th><th scope=col>name</th><th scope=col>comment</th><th scope=col>pd</th></tr>\n",
       "\t<tr><th></th><th scope=col>&lt;chr&gt;</th><th scope=col>&lt;chr&gt;</th><th scope=col>&lt;int&gt;</th><th scope=col>&lt;int&gt;</th><th scope=col>&lt;int&gt;</th><th scope=col>&lt;dbl&gt;</th><th scope=col>&lt;dbl&gt;</th><th scope=col>&lt;chr&gt;</th><th scope=col>&lt;chr&gt;</th><th scope=col>&lt;chr&gt;</th><th scope=col>&lt;chr&gt;</th><th scope=col>&lt;fct&gt;</th></tr>\n",
       "</thead>\n",
       "<tbody>\n",
       "\t<tr><th scope=row>17</th><td>IID_H154001_T01_01_TD01</td><td>17</td><td>18811</td><td>18036249</td><td>54</td><td>1.20254</td><td>0.6185333</td><td>del</td><td>check-with-VAF</td><td>del_17p</td><td>large</td><td>PD15303a</td></tr>\n",
       "</tbody>\n",
       "</table>\n"
      ],
      "text/latex": [
       "A data.frame: 1 × 12\n",
       "\\begin{tabular}{r|llllllllllll}\n",
       "  & experiment & Chr & Start & End & N & TCN & maf & evt & annot & name & comment & pd\\\\\n",
       "  & <chr> & <chr> & <int> & <int> & <int> & <dbl> & <dbl> & <chr> & <chr> & <chr> & <chr> & <fct>\\\\\n",
       "\\hline\n",
       "\t17 & IID\\_H154001\\_T01\\_01\\_TD01 & 17 & 18811 & 18036249 & 54 & 1.20254 & 0.6185333 & del & check-with-VAF & del\\_17p & large & PD15303a\\\\\n",
       "\\end{tabular}\n"
      ],
      "text/markdown": [
       "\n",
       "A data.frame: 1 × 12\n",
       "\n",
       "| <!--/--> | experiment &lt;chr&gt; | Chr &lt;chr&gt; | Start &lt;int&gt; | End &lt;int&gt; | N &lt;int&gt; | TCN &lt;dbl&gt; | maf &lt;dbl&gt; | evt &lt;chr&gt; | annot &lt;chr&gt; | name &lt;chr&gt; | comment &lt;chr&gt; | pd &lt;fct&gt; |\n",
       "|---|---|---|---|---|---|---|---|---|---|---|---|---|\n",
       "| 17 | IID_H154001_T01_01_TD01 | 17 | 18811 | 18036249 | 54 | 1.20254 | 0.6185333 | del | check-with-VAF | del_17p | large | PD15303a |\n",
       "\n"
      ],
      "text/plain": [
       "   experiment              Chr Start End      N  TCN     maf       evt\n",
       "17 IID_H154001_T01_01_TD01 17  18811 18036249 54 1.20254 0.6185333 del\n",
       "   annot          name    comment pd      \n",
       "17 check-with-VAF del_17p large   PD15303a"
      ]
     },
     "metadata": {},
     "output_type": "display_data"
    }
   ],
   "source": [
    "tocheckwithVAF[tocheckwithVAF$pd=='PD15303a',]"
   ]
  },
  {
   "cell_type": "code",
   "execution_count": 253,
   "metadata": {},
   "outputs": [
    {
     "name": "stderr",
     "output_type": "stream",
     "text": [
      "Warning message:\n",
      "“Expected 2 pieces. Missing pieces filled with `NA` in 29 rows [1, 2, 3, 5, 7, 8, 10, 11, 14, 16, 17, 18, 19, 23, 25, 26, 28, 29, 31, 33, ...].”"
     ]
    }
   ],
   "source": [
    "evts2 = subset(tocheckwithVAF,,c('experiment','name','pd'))\n",
    "evts2 = unique(tocheckwithVAF)\n",
    "\n",
    "evts2 = separate(evts2, name, c('name1','name2'), sep = \";\")"
   ]
  },
  {
   "cell_type": "code",
   "execution_count": 254,
   "metadata": {},
   "outputs": [],
   "source": [
    "for (i in evts2$pd){\n",
    "    all_p_evt = unique(evts2[evts2$pd==i,c('name1','name2')])\n",
    "    all_p_evt=unique(c(all_p_evt$name1,all_p_evt$name2))\n",
    "    for (x in all_p_evt){\n",
    "        if (!is.na(x)){\n",
    "            d[d$pd==i,x]='check-with-VAF'\n",
    "        }\n",
    "    }\n",
    "}"
   ]
  },
  {
   "cell_type": "code",
   "execution_count": 257,
   "metadata": {},
   "outputs": [
    {
     "data": {
      "text/html": [
       "169"
      ],
      "text/latex": [
       "169"
      ],
      "text/markdown": [
       "169"
      ],
      "text/plain": [
       "[1] 169"
      ]
     },
     "metadata": {},
     "output_type": "display_data"
    }
   ],
   "source": [
    "nrow(d)"
   ]
  },
  {
   "cell_type": "code",
   "execution_count": 256,
   "metadata": {},
   "outputs": [
    {
     "data": {
      "text/html": [
       "33"
      ],
      "text/latex": [
       "33"
      ],
      "text/markdown": [
       "33"
      ],
      "text/plain": [
       "[1] 33"
      ]
     },
     "metadata": {},
     "output_type": "display_data"
    }
   ],
   "source": [
    "test = subset(d,d$del_17p==\"check-with-VAF\",'pd')\n",
    "nrow(test)\n",
    "#test = label_dat_fromcol(test,pd_x,'experiment',by='pd')"
   ]
  },
  {
   "cell_type": "code",
   "execution_count": 259,
   "metadata": {},
   "outputs": [],
   "source": [
    "write.csv(d, file='../data/304/binary_matrix_cytoevents_TP53mutated.csv',row.names=FALSE,quote=FALSE)"
   ]
  },
  {
   "cell_type": "code",
   "execution_count": null,
   "metadata": {},
   "outputs": [],
   "source": []
  }
 ],
 "metadata": {
  "kernelspec": {
   "display_name": "R",
   "language": "R",
   "name": "ir"
  },
  "language_info": {
   "codemirror_mode": "r",
   "file_extension": ".r",
   "mimetype": "text/x-r-source",
   "name": "R",
   "pygments_lexer": "r",
   "version": "3.5.3"
  }
 },
 "nbformat": 4,
 "nbformat_minor": 2
}

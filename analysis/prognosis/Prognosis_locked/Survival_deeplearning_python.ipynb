{
 "cells": [
  {
   "cell_type": "code",
   "execution_count": 9,
   "metadata": {},
   "outputs": [],
   "source": [
    "import sys\n",
    "sys.path.append('../deepsurv')\n",
    "import deepsurv\n",
    "\n",
    "#from deepsurv_logger import DeepSurvLogger, TensorboardLogger\n",
    "import utils\n",
    "import viz\n",
    "import numpy as np\n",
    "import pandas as pd\n",
    "from sklearn.model_selection import train_test_split\n",
    "from sklearn import preprocessing\n",
    "import lasagne\n",
    "import matplotlib\n",
    "import matplotlib.pyplot as plt\n",
    "import random\n",
    "%matplotlib inline\n"
   ]
  },
  {
   "cell_type": "code",
   "execution_count": 10,
   "metadata": {},
   "outputs": [],
   "source": [
    "df_final = pd.read_table(\"../../../analysis/clustering/clustering_Final_1/df_final_full_component_ITD.tsv\",sep=\" \")\n",
    "\n",
    "eln = [1,2,3]\n",
    "comp =list(range(169,193)) \n",
    "#comp_overlap = list(range(167,197))\n",
    "age = [166]\n",
    "\n",
    "all_gen = list(range(4,88))\n",
    "tmp = df_final.iloc[:,all_gen][df_final.iloc[:,all_gen] >0].count()\n",
    "gen = [df_final.columns.get_loc(c) for c in tmp[tmp>df_final.shape[0]*0.02].keys() if c in df_final]\n",
    "\n",
    "all_cyto = list(range(88,158))\n",
    "tmp = df_final.iloc[:,all_cyto][df_final.iloc[:,all_cyto] >0].count()\n",
    "cyto = [df_final.columns.get_loc(c) for c in tmp[tmp>df_final.shape[0]*0.02].keys() if c in df_final]\n",
    "\n",
    "clin =list(range(158,165))\n",
    "demo = [165,166]\n",
    "demo_without_age = [165]\n",
    "\n",
    "eln_comp = eln + comp\n",
    "eln_gen = eln + gen\n",
    "eln_cyto = eln + cyto\n",
    "eln_clin = eln + clin\n",
    "eln_demo = eln + demo\n",
    "\n",
    "# USEFUL FOR ELN COMPARISON\n",
    "# with comp\n",
    "eln_comp_gen = eln_comp + gen\n",
    "eln_comp_cyto = eln_comp + cyto\n",
    "eln_comp_clin = eln_comp + clin\n",
    "eln_comp_demo = eln_comp + demo\n",
    "\n",
    "\n",
    "\n",
    "\n",
    "eln_comp_gen_cyto = eln_comp_gen + cyto\n",
    "eln_comp_gen_clin = eln_comp_gen + clin\n",
    "eln_comp_gen_demo = eln_comp_gen + demo\n",
    "\n",
    "eln_comp_cyto_clin = eln_comp_cyto + clin\n",
    "eln_comp_cyto_demo = eln_comp_cyto + demo\n",
    "\n",
    "\n",
    "eln_comp_clin_demo = eln_comp_clin + demo\n",
    "\n",
    "\n",
    "eln_comp_gen_cyto_clin_demo = eln_comp_gen_cyto + clin + demo\n",
    "eln_comp_gen_cyto_clin_demo_without_age = eln_comp_gen_cyto + clin + demo_without_age\n",
    "# without comp\n",
    "\n",
    "\n",
    "eln_gen_cyto = eln_gen + cyto\n",
    "eln_gen_clin = eln_gen + clin\n",
    "eln_gen_demo = eln_gen + demo\n",
    "\n",
    "\n",
    "eln_cyto_clin = eln_cyto + clin\n",
    "eln_cyto_demo = eln_cyto + demo\n",
    "\n",
    "eln_clin_demo = eln_clin + demo\n",
    "eln_clin_demo_without_age = eln_clin + demo_without_age\n",
    "\n",
    "\n",
    "eln_gen_cyto_clin_demo = eln_gen_cyto + clin + demo\n",
    "\n",
    "# USEFUL FOR COMP\n",
    "\n",
    "comp_gen = comp + gen\n",
    "comp_cyto = comp + cyto\n",
    "comp_clin = comp + clin\n",
    "comp_demo = comp + demo\n",
    "comp_gen_cyto = comp_gen + cyto\n",
    "comp_clin_demo = comp_clin + demo\n",
    "comp_gen_cyto_clin_demo = comp_gen_cyto + clin + demo\n",
    "\n",
    "#USEFUL FOR GEN\n",
    "gen_cyto = gen + cyto\n",
    "gen_clin = gen + clin\n",
    "gen_demo = gen + demo\n",
    "gen_clin_demo = gen_clin + demo\n",
    "gen_cyto_clin_demo = gen_cyto + clin + demo\n",
    "\n",
    "#USEFUL FOR CYTO \n",
    "cyto_clin = cyto + clin\n",
    "cyto_demo = cyto + demo\n",
    "gen_demo_without_age = gen + demo_without_age\n",
    "cyto_clin_demo = cyto_clin + demo\n",
    "cyto_gen_demo = gen_cyto + demo\n",
    "\n",
    "\n",
    "clin_demo  = clin + demo"
   ]
  },
  {
   "cell_type": "code",
   "execution_count": 11,
   "metadata": {},
   "outputs": [],
   "source": [
    "train_df = df_final.iloc[:,eln_comp+[193,194]]\n",
    "train,test = train_test_split(train_df,test_size=0.2,random_state=17)\n",
    "train,val = train_test_split(train,test_size=0.2,random_state=17)"
   ]
  },
  {
   "cell_type": "code",
   "execution_count": 12,
   "metadata": {},
   "outputs": [],
   "source": [
    "def dataframe_to_deepsurv_ds(df, event_col = 'os_status', time_col = 'os'):\n",
    "    # Extract the event and time columns as numpy arrays\n",
    "    e = df[event_col].values.astype(np.int32)\n",
    "    t = df[time_col].values.astype(np.float32)\n",
    "\n",
    "    # Extract the patient's covariates as a numpy array\n",
    "    x_df = df.drop([event_col, time_col], axis = 1)\n",
    "    x = x_df.values.astype(np.float32)\n",
    "    #x=x_df\n",
    "    \n",
    "    # Return the deep surv dataframe\n",
    "    return {\n",
    "        'x' : x,\n",
    "        'e' : e,\n",
    "        't' : t\n",
    "    }\n"
   ]
  },
  {
   "cell_type": "code",
   "execution_count": 13,
   "metadata": {},
   "outputs": [
    {
     "name": "stderr",
     "output_type": "stream",
     "text": [
      "/Users/taziy/anaconda3/lib/python3.7/site-packages/sklearn/preprocessing/data.py:323: DataConversionWarning: Data with input dtype int64, float64 were all converted to float64 by MinMaxScaler.\n",
      "  return self.partial_fit(X, y)\n"
     ]
    }
   ],
   "source": [
    "### Min Max Scaler Normalization and good format of the data to feed the MLP network\n",
    "scale = preprocessing.MinMaxScaler().fit(train)\n",
    "df_train = pd.DataFrame(scale.transform(train.values), columns=train.columns, index=train.index)\n",
    "df_val = pd.DataFrame(scale.transform(val.values), columns=val.columns, index=val.index)\n",
    "df_test = pd.DataFrame(scale.transform(test.values), columns=test.columns, index=test.index)\n",
    "train_data = dataframe_to_deepsurv_ds(df_train, event_col = 'os_status', time_col= 'os')\n",
    "val_data = dataframe_to_deepsurv_ds(df_val, event_col = 'os_status', time_col= 'os')\n",
    "test_data = dataframe_to_deepsurv_ds(df_test, event_col = 'os_status', time_col= 'os')"
   ]
  },
  {
   "cell_type": "code",
   "execution_count": 21,
   "metadata": {},
   "outputs": [
    {
     "name": "stdout",
     "output_type": "stream",
     "text": [
      "2019-08-27 11:45:06,966 - Training step 0/12000     |                         | - loss: 28.2233 - ci: 0.5732\n"
     ]
    },
    {
     "ename": "KeyboardInterrupt",
     "evalue": "",
     "output_type": "error",
     "traceback": [
      "\u001b[0;31m---------------------------------------------------------------------------\u001b[0m",
      "\u001b[0;31mKeyboardInterrupt\u001b[0m                         Traceback (most recent call last)",
      "\u001b[0;32m<ipython-input-21-6a20c43d9b89>\u001b[0m in \u001b[0;36m<module>\u001b[0;34m\u001b[0m\n\u001b[1;32m     33\u001b[0m \u001b[0mval_frequency\u001b[0m\u001b[0;34m=\u001b[0m\u001b[0;36m500\u001b[0m\u001b[0;34m\u001b[0m\u001b[0;34m\u001b[0m\u001b[0m\n\u001b[1;32m     34\u001b[0m \u001b[0mpatience\u001b[0m\u001b[0;34m=\u001b[0m\u001b[0;36m10000\u001b[0m \u001b[0;31m# minimum number of epochs to train for\u001b[0m\u001b[0;34m\u001b[0m\u001b[0;34m\u001b[0m\u001b[0m\n\u001b[0;32m---> 35\u001b[0;31m \u001b[0mmetrics\u001b[0m \u001b[0;34m=\u001b[0m  \u001b[0mnetwork\u001b[0m\u001b[0;34m.\u001b[0m\u001b[0mtrain\u001b[0m\u001b[0;34m(\u001b[0m\u001b[0mtrain_data\u001b[0m\u001b[0;34m,\u001b[0m\u001b[0mval_data\u001b[0m\u001b[0;34m,\u001b[0m \u001b[0mn_epochs\u001b[0m\u001b[0;34m=\u001b[0m\u001b[0mn_epochs\u001b[0m\u001b[0;34m,\u001b[0m \u001b[0mlogger\u001b[0m\u001b[0;34m=\u001b[0m\u001b[0mlogger\u001b[0m\u001b[0;34m,\u001b[0m \u001b[0mupdate_fn\u001b[0m\u001b[0;34m=\u001b[0m\u001b[0mupdate_fn\u001b[0m\u001b[0;34m,\u001b[0m\u001b[0mpatience\u001b[0m\u001b[0;34m=\u001b[0m\u001b[0mpatience\u001b[0m\u001b[0;34m,\u001b[0m\u001b[0mvalidation_frequency\u001b[0m\u001b[0;34m=\u001b[0m\u001b[0mval_frequency\u001b[0m\u001b[0;34m)\u001b[0m\u001b[0;34m\u001b[0m\u001b[0;34m\u001b[0m\u001b[0m\n\u001b[0m",
      "\u001b[0;32m~/anaconda3/lib/python3.7/site-packages/deepsurv/deep_surv.py\u001b[0m in \u001b[0;36mtrain\u001b[0;34m(self, train_data, valid_data, n_epochs, validation_frequency, patience, improvement_threshold, patience_increase, logger, update_fn, verbose, **kwargs)\u001b[0m\n\u001b[1;32m    425\u001b[0m                 \u001b[0mmomentum\u001b[0m \u001b[0;34m=\u001b[0m \u001b[0mself\u001b[0m\u001b[0;34m.\u001b[0m\u001b[0mmomentum\u001b[0m\u001b[0;34m\u001b[0m\u001b[0;34m\u001b[0m\u001b[0m\n\u001b[1;32m    426\u001b[0m \u001b[0;34m\u001b[0m\u001b[0m\n\u001b[0;32m--> 427\u001b[0;31m             \u001b[0mloss\u001b[0m \u001b[0;34m=\u001b[0m \u001b[0mtrain_fn\u001b[0m\u001b[0;34m(\u001b[0m\u001b[0mx_train\u001b[0m\u001b[0;34m,\u001b[0m \u001b[0me_train\u001b[0m\u001b[0;34m)\u001b[0m\u001b[0;34m\u001b[0m\u001b[0;34m\u001b[0m\u001b[0m\n\u001b[0m\u001b[1;32m    428\u001b[0m \u001b[0;34m\u001b[0m\u001b[0m\n\u001b[1;32m    429\u001b[0m             \u001b[0mlogger\u001b[0m\u001b[0;34m.\u001b[0m\u001b[0mlogValue\u001b[0m\u001b[0;34m(\u001b[0m\u001b[0;34m'loss'\u001b[0m\u001b[0;34m,\u001b[0m \u001b[0mloss\u001b[0m\u001b[0;34m,\u001b[0m \u001b[0mepoch\u001b[0m\u001b[0;34m)\u001b[0m\u001b[0;34m\u001b[0m\u001b[0;34m\u001b[0m\u001b[0m\n",
      "\u001b[0;32m~/anaconda3/lib/python3.7/site-packages/theano/compile/function_module.py\u001b[0m in \u001b[0;36m__call__\u001b[0;34m(self, *args, **kwargs)\u001b[0m\n\u001b[1;32m    901\u001b[0m         \u001b[0;32mtry\u001b[0m\u001b[0;34m:\u001b[0m\u001b[0;34m\u001b[0m\u001b[0;34m\u001b[0m\u001b[0m\n\u001b[1;32m    902\u001b[0m             \u001b[0moutputs\u001b[0m \u001b[0;34m=\u001b[0m\u001b[0;31m\\\u001b[0m\u001b[0;34m\u001b[0m\u001b[0;34m\u001b[0m\u001b[0m\n\u001b[0;32m--> 903\u001b[0;31m                 \u001b[0mself\u001b[0m\u001b[0;34m.\u001b[0m\u001b[0mfn\u001b[0m\u001b[0;34m(\u001b[0m\u001b[0;34m)\u001b[0m \u001b[0;32mif\u001b[0m \u001b[0moutput_subset\u001b[0m \u001b[0;32mis\u001b[0m \u001b[0;32mNone\u001b[0m \u001b[0;32melse\u001b[0m\u001b[0;31m\\\u001b[0m\u001b[0;34m\u001b[0m\u001b[0;34m\u001b[0m\u001b[0m\n\u001b[0m\u001b[1;32m    904\u001b[0m                 \u001b[0mself\u001b[0m\u001b[0;34m.\u001b[0m\u001b[0mfn\u001b[0m\u001b[0;34m(\u001b[0m\u001b[0moutput_subset\u001b[0m\u001b[0;34m=\u001b[0m\u001b[0moutput_subset\u001b[0m\u001b[0;34m)\u001b[0m\u001b[0;34m\u001b[0m\u001b[0;34m\u001b[0m\u001b[0m\n\u001b[1;32m    905\u001b[0m         \u001b[0;32mexcept\u001b[0m \u001b[0mException\u001b[0m\u001b[0;34m:\u001b[0m\u001b[0;34m\u001b[0m\u001b[0;34m\u001b[0m\u001b[0m\n",
      "\u001b[0;32m~/anaconda3/lib/python3.7/site-packages/theano/gof/op.py\u001b[0m in \u001b[0;36mrval\u001b[0;34m(p, i, o, n)\u001b[0m\n\u001b[1;32m    889\u001b[0m         \u001b[0;32mif\u001b[0m \u001b[0mparams\u001b[0m \u001b[0;32mis\u001b[0m \u001b[0mgraph\u001b[0m\u001b[0;34m.\u001b[0m\u001b[0mNoParams\u001b[0m\u001b[0;34m:\u001b[0m\u001b[0;34m\u001b[0m\u001b[0;34m\u001b[0m\u001b[0m\n\u001b[1;32m    890\u001b[0m             \u001b[0;31m# default arguments are stored in the closure of `rval`\u001b[0m\u001b[0;34m\u001b[0m\u001b[0;34m\u001b[0m\u001b[0;34m\u001b[0m\u001b[0m\n\u001b[0;32m--> 891\u001b[0;31m             \u001b[0;32mdef\u001b[0m \u001b[0mrval\u001b[0m\u001b[0;34m(\u001b[0m\u001b[0mp\u001b[0m\u001b[0;34m=\u001b[0m\u001b[0mp\u001b[0m\u001b[0;34m,\u001b[0m \u001b[0mi\u001b[0m\u001b[0;34m=\u001b[0m\u001b[0mnode_input_storage\u001b[0m\u001b[0;34m,\u001b[0m \u001b[0mo\u001b[0m\u001b[0;34m=\u001b[0m\u001b[0mnode_output_storage\u001b[0m\u001b[0;34m,\u001b[0m \u001b[0mn\u001b[0m\u001b[0;34m=\u001b[0m\u001b[0mnode\u001b[0m\u001b[0;34m)\u001b[0m\u001b[0;34m:\u001b[0m\u001b[0;34m\u001b[0m\u001b[0;34m\u001b[0m\u001b[0m\n\u001b[0m\u001b[1;32m    892\u001b[0m                 \u001b[0mr\u001b[0m \u001b[0;34m=\u001b[0m \u001b[0mp\u001b[0m\u001b[0;34m(\u001b[0m\u001b[0mn\u001b[0m\u001b[0;34m,\u001b[0m \u001b[0;34m[\u001b[0m\u001b[0mx\u001b[0m\u001b[0;34m[\u001b[0m\u001b[0;36m0\u001b[0m\u001b[0;34m]\u001b[0m \u001b[0;32mfor\u001b[0m \u001b[0mx\u001b[0m \u001b[0;32min\u001b[0m \u001b[0mi\u001b[0m\u001b[0;34m]\u001b[0m\u001b[0;34m,\u001b[0m \u001b[0mo\u001b[0m\u001b[0;34m)\u001b[0m\u001b[0;34m\u001b[0m\u001b[0;34m\u001b[0m\u001b[0m\n\u001b[1;32m    893\u001b[0m                 \u001b[0;32mfor\u001b[0m \u001b[0mo\u001b[0m \u001b[0;32min\u001b[0m \u001b[0mnode\u001b[0m\u001b[0;34m.\u001b[0m\u001b[0moutputs\u001b[0m\u001b[0;34m:\u001b[0m\u001b[0;34m\u001b[0m\u001b[0;34m\u001b[0m\u001b[0m\n",
      "\u001b[0;31mKeyboardInterrupt\u001b[0m: "
     ]
    }
   ],
   "source": [
    "hyperparams = {\n",
    "    'L2_reg': 10.0,\n",
    "    'batch_norm': True,\n",
    "    'dropout': 0.4,\n",
    "    'hidden_layers_sizes': [25,25],\n",
    "    'learning_rate': 1e-05,\n",
    "    'lr_decay': 0.001,\n",
    "    'momentum': 0.9,\n",
    "    'n_in': train_data['x'].shape[1],\n",
    "    'activation':'selu'\n",
    "\n",
    "    #'standardize': True\n",
    "}\n",
    "hyperparams = {'n_in': train_data['x'].shape[1],\n",
    " 'learning_rate': 1e-05,\n",
    " 'hidden_layers_sizes': [100, 500, 10],\n",
    " 'lr_decay': 0.001,\n",
    " 'momentum': 0.9,\n",
    " 'L2_reg': 10.0,\n",
    " 'L1_reg': 0.0,\n",
    " 'activation': 'rectify',\n",
    " 'dropout': 0.4,\n",
    " 'batch_norm': True,\n",
    " 'standardize': False}\n",
    "np.random.seed(17)\n",
    "network = deepsurv.DeepSurv(**hyperparams)\n",
    "network.restored_update_params = None \n",
    "logger = deepsurv.deepsurv_logger.TensorboardLogger(name = 'DeepSurvLogger', logdir = './logs/tensorboard/')\n",
    "np.random.seed(17)\n",
    "update_fn=lasagne.updates.nesterov_momentum # The type of optimizer to use. \n",
    "#update_fn=lasagne.updates.rmsprop\n",
    "n_epochs = 12000\n",
    "val_frequency=500\n",
    "patience=10000 # minimum number of epochs to train for\n",
    "metrics =  network.train(train_data,val_data, n_epochs=n_epochs, logger=logger, update_fn=update_fn,patience=patience,validation_frequency=val_frequency)"
   ]
  },
  {
   "cell_type": "markdown",
   "metadata": {},
   "source": [
    "# after this training evaluate concordance index and get parameters when concordance index is maximal on validation set then test on testing dataset."
   ]
  },
  {
   "cell_type": "code",
   "execution_count": 15,
   "metadata": {},
   "outputs": [
    {
     "name": "stdout",
     "output_type": "stream",
     "text": [
      "2019-08-27 14:18:50,862 - Training step 0/250   |                         | - loss: 23.3993 - ci: 0.4805\n",
      "2019-08-27 14:18:50,862 - Training step 0/250   |                         | - loss: 23.3993 - ci: 0.4805\n",
      "2019-08-27 14:19:15,332 - Finished Training with 250 iterations in 24.67s\n",
      "2019-08-27 14:19:15,332 - Finished Training with 250 iterations in 24.67s\n",
      "2019-08-27 14:19:17,342 - Training step 0/250   |                         | - loss: 24.3028 - ci: 0.5301\n",
      "2019-08-27 14:19:17,342 - Training step 0/250   |                         | - loss: 24.3028 - ci: 0.5301\n",
      "2019-08-27 14:19:17,342 - Training step 0/250   |                         | - loss: 24.3028 - ci: 0.5301\n",
      "2019-08-27 14:19:42,578 - Finished Training with 250 iterations in 25.43s\n",
      "2019-08-27 14:19:42,578 - Finished Training with 250 iterations in 25.43s\n",
      "2019-08-27 14:19:42,578 - Finished Training with 250 iterations in 25.43s\n"
     ]
    }
   ],
   "source": [
    "hid_layers=[[100,100],[100,100,10],[100,500,10],[25,100,10],[500,100,100],[500,100]]*4+[[100,25]]\n",
    "l2_reg=[10.0]*12+[1.0]*12+[10.0]\n",
    "act=(['rectify']*6+['selu']*6)*2+['selu']\n",
    "network=[None]*25\n",
    "metrics=[None]*25\n",
    "df_tmp = pd.DataFrame(columns=('train_C_index','val_C_index','test_C_index', 'hyperparams'))\n",
    "for i in range(25):\n",
    "\n",
    "    hyperparams = {\n",
    "        'L2_reg': l2_reg[i],\n",
    "        'batch_norm': True,\n",
    "        'dropout': 0.4,\n",
    "        'hidden_layers_sizes': hid_layers[i],\n",
    "        'learning_rate': 1e-05,\n",
    "        'lr_decay': 0.001,\n",
    "        'momentum': 0.9,\n",
    "        'n_in': train_data['x'].shape[1],\n",
    "        'activation':act[i]\n",
    "        #'standardize': True\n",
    "    }\n",
    "    np.random.seed(17)\n",
    "    network[i] = deepsurv.DeepSurv(**hyperparams)\n",
    "    network[i].restored_update_params = None \n",
    "    logger = deepsurv.deepsurv_logger.TensorboardLogger(name = 'DeepSurvLogger', logdir = './logs/tensorboard/')\n",
    "    np.random.seed(17)\n",
    "    #update_fn=lasagne.updates.nesterov_momentum # The type of optimizer to use. \n",
    "    update_fn=lasagne.updates.rmsprop\n",
    "#     n_epochs = 20000\n",
    "    n_epochs =5000\n",
    "    val_frequency=250\n",
    "    patience=10000 # minimum number of epochs to train for\n",
    "    metrics[i] =  network[i].train(train_data,val_data, n_epochs=n_epochs, logger=logger, update_fn=update_fn,patience=patience,validation_frequency=val_frequency)\n",
    "    print (network[i].get_concordance_index(x=test_data['x'],t=test_data['t'],e=test_data['e']))\n",
    "    df_tmp.loc[i] = [network[i].get_concordance_index(x=train_data['x'],t=train_data['t'],e=train_data['e']),network[i].get_concordance_index(x=val_data['x'],t=val_data['t'],e=val_data['e']),network[i].get_concordance_index(x=test_data['x'],t=test_data['t'],e=test_data['e']),network[i].hyperparams]"
   ]
  },
  {
   "cell_type": "code",
   "execution_count": null,
   "metadata": {},
   "outputs": [],
   "source": [
    "import sys\n",
    "sys.path.append('/juno/work/isabl/opt/python/.virtualenvs/users/taziy/theano/lib/python3.6/site-packages/deepsurv/')\n",
    "import numpy as np\n",
    "import matplotlib.pyplot as plt\n",
    "import pandas as pd\n",
    "import seaborn as sns\n",
    "from sklearn.model_selection import ShuffleSplit, GridSearchCV,train_test_split\n",
    "from sklearn.model_selection import cross_validate\n",
    "\n",
    "from sksurv.datasets import load_veterans_lung_cancer\n",
    "from sksurv.column import encode_categorical\n",
    "from sksurv.metrics import concordance_index_censored\n",
    "from sksurv.svm import FastSurvivalSVM,FastKernelSurvivalSVM\n",
    "from sksurv.kernels import clinical_kernel\n",
    "import warnings\n",
    "warnings.simplefilter(action='ignore', category=FutureWarning)\n",
    "\n",
    "def score_survival_model(model, X, y):\n",
    "    prediction = model.predict(X)\n",
    "    result = concordance_index_censored(y['Status'], y['Survival_in_days'], prediction)\n",
    "    return result[0]\n",
    "    \n",
    "    \n",
    "df_final = pd.read_table(\"../../../analysis/clustering/clustering_Final_1/df_final_full_component_ITD.tsv\",sep=\" \")\n",
    "\n",
    "eln = [1,2,3]\n",
    "comp =list(range(169,193)) \n",
    "#comp_overlap = list(range(167,197))\n",
    "age = [166]\n",
    "\n",
    "all_gen = list(range(4,88))\n",
    "tmp = df_final.iloc[:,all_gen][df_final.iloc[:,all_gen] >0].count()\n",
    "gen = [df_final.columns.get_loc(c) for c in tmp[tmp>df_final.shape[0]*0.02].keys() if c in df_final]\n",
    "\n",
    "all_cyto = list(range(88,158))\n",
    "tmp = df_final.iloc[:,all_cyto][df_final.iloc[:,all_cyto] >0].count()\n",
    "cyto = [df_final.columns.get_loc(c) for c in tmp[tmp>df_final.shape[0]*0.02].keys() if c in df_final]\n",
    "\n",
    "clin =list(range(158,165))\n",
    "demo = [165,166]\n",
    "demo_without_age = [165]\n",
    "\n",
    "eln_comp = eln + comp\n",
    "eln_gen = eln + gen\n",
    "eln_cyto = eln + cyto\n",
    "eln_clin = eln + clin\n",
    "eln_demo = eln + demo\n",
    "\n",
    "# USEFUL FOR ELN COMPARISON\n",
    "# with comp\n",
    "eln_comp_gen = eln_comp + gen\n",
    "eln_comp_cyto = eln_comp + cyto\n",
    "eln_comp_clin = eln_comp + clin\n",
    "eln_comp_demo = eln_comp + demo\n",
    "\n",
    "\n",
    "\n",
    "\n",
    "eln_comp_gen_cyto = eln_comp_gen + cyto\n",
    "eln_comp_gen_clin = eln_comp_gen + clin\n",
    "eln_comp_gen_demo = eln_comp_gen + demo\n",
    "\n",
    "eln_comp_cyto_clin = eln_comp_cyto + clin\n",
    "eln_comp_cyto_demo = eln_comp_cyto + demo\n",
    "\n",
    "\n",
    "eln_comp_clin_demo = eln_comp_clin + demo\n",
    "\n",
    "\n",
    "eln_comp_gen_cyto_clin_demo = eln_comp_gen_cyto + clin + demo\n",
    "eln_comp_gen_cyto_clin_demo_without_age = eln_comp_gen_cyto + clin + demo_without_age\n",
    "# without comp\n",
    "\n",
    "\n",
    "eln_gen_cyto = eln_gen + cyto\n",
    "eln_gen_clin = eln_gen + clin\n",
    "eln_gen_demo = eln_gen + demo\n",
    "\n",
    "\n",
    "eln_cyto_clin = eln_cyto + clin\n",
    "eln_cyto_demo = eln_cyto + demo\n",
    "\n",
    "eln_clin_demo = eln_clin + demo\n",
    "eln_clin_demo_without_age = eln_clin + demo_without_age\n",
    "\n",
    "\n",
    "eln_gen_cyto_clin_demo = eln_gen_cyto + clin + demo\n",
    "\n",
    "# USEFUL FOR COMP\n",
    "\n",
    "comp_gen = comp + gen\n",
    "comp_cyto = comp + cyto\n",
    "comp_clin = comp + clin\n",
    "comp_demo = comp + demo\n",
    "comp_gen_cyto = comp_gen + cyto\n",
    "comp_clin_demo = comp_clin + demo\n",
    "comp_gen_cyto_clin_demo = comp_gen_cyto + clin + demo\n",
    "\n",
    "#USEFUL FOR GEN\n",
    "gen_cyto = gen + cyto\n",
    "gen_clin = gen + clin\n",
    "gen_demo = gen + demo\n",
    "gen_clin_demo = gen_clin + demo\n",
    "gen_cyto_clin_demo = gen_cyto + clin + demo\n",
    "\n",
    "#USEFUL FOR CYTO \n",
    "cyto_clin = cyto + clin\n",
    "cyto_demo = cyto + demo\n",
    "gen_demo_without_age = gen + demo_without_age\n",
    "cyto_clin_demo = cyto_clin + demo\n",
    "cyto_gen_demo = gen_cyto + demo\n",
    "\n",
    "\n",
    "clin_demo  = clin + demo\n",
    "\n",
    "train_df = df_final.iloc[:,eln_comp+[193,194]]\n",
    "train,test = train_test_split(train_df,test_size=0.2,random_state=17)\n",
    "train,val = train_test_split(train,test_size=0.2,random_state=17)\n",
    "\n",
    "def dataframe_to_deepsurv_ds(df, event_col = 'os_status', time_col = 'os'):\n",
    "    # Extract the event and time columns as numpy arrays\n",
    "    e = df[event_col].values.astype(np.int32)\n",
    "    t = df[time_col].values.astype(np.float32)\n",
    "\n",
    "    # Extract the patient's covariates as a numpy array\n",
    "    x_df = df.drop([event_col, time_col], axis = 1)\n",
    "    x = x_df.values.astype(np.float32)\n",
    "    #x=x_df\n",
    "    \n",
    "    # Return the deep surv dataframe\n",
    "    return {\n",
    "        'x' : x,\n",
    "        'e' : e,\n",
    "        't' : t\n",
    "    }\n",
    "scale = preprocessing.MinMaxScaler().fit(train)\n",
    "df_train = pd.DataFrame(scale.transform(train.values), columns=train.columns, index=train.index)\n",
    "df_val = pd.DataFrame(scale.transform(val.values), columns=val.columns, index=val.index)\n",
    "df_test = pd.DataFrame(scale.transform(test.values), columns=test.columns, index=test.index)\n",
    "train_data = dataframe_to_deepsurv_ds(df_train, event_col = 'os_status', time_col= 'os')\n",
    "val_data = dataframe_to_deepsurv_ds(df_val, event_col = 'os_status', time_col= 'os')\n",
    "test_data = dataframe_to_deepsurv_ds(df_test, event_col = 'os_status', time_col= 'os')\n",
    "\n",
    "hid_layers=[[100,100],[100,100,10],[100,500,10],[25,100,10],[500,100,100],[500,100]]*4+[[100,25]]\n",
    "l2_reg=[10.0]*12+[1.0]*12+[10.0]\n",
    "act=(['rectify']*6+['selu']*6)*2+['selu']\n",
    "network=[None]*25\n",
    "metrics=[None]*25\n",
    "df_tmp = pd.DataFrame(columns=('train_C_index','val_C_index','test_C_index', 'hyperparams'))\n",
    "for i in range(25):\n",
    "\n",
    "    hyperparams = {\n",
    "        'L2_reg': l2_reg[i],\n",
    "        'batch_norm': True,\n",
    "        'dropout': 0.4,\n",
    "        'hidden_layers_sizes': hid_layers[i],\n",
    "        'learning_rate': 1e-05,\n",
    "        'lr_decay': 0.001,\n",
    "        'momentum': 0.9,\n",
    "        'n_in': train_data['x'].shape[1],\n",
    "        'activation':act[i]\n",
    "        #'standardize': True\n",
    "    }\n",
    "    np.random.seed(17)\n",
    "    network[i] = deepsurv.DeepSurv(**hyperparams)\n",
    "    network[i].restored_update_params = None \n",
    "    logger = deepsurv.deepsurv_logger.TensorboardLogger(name = 'DeepSurvLogger', logdir = './logs/tensorboard/')\n",
    "    np.random.seed(17)\n",
    "    #update_fn=lasagne.updates.nesterov_momentum # The type of optimizer to use. \n",
    "    update_fn=lasagne.updates.rmsprop\n",
    "#     n_epochs = 20000\n",
    "    n_epochs =5000\n",
    "    val_frequency=250\n",
    "    patience=10000 # minimum number of epochs to train for\n",
    "    metrics[i] =  network[i].train(train_data,val_data, n_epochs=n_epochs, logger=logger, update_fn=update_fn,patience=patience,validation_frequency=val_frequency)\n",
    "    print (network[i].get_concordance_index(x=test_data['x'],t=test_data['t'],e=test_data['e']))\n",
    "    df_tmp.loc[i] = [network[i].get_concordance_index(x=train_data['x'],t=train_data['t'],e=train_data['e']),network[i].get_concordance_index(x=val_data['x'],t=val_data['t'],e=val_data['e']),network[i].get_concordance_index(x=test_data['x'],t=test_data['t'],e=test_data['e']),network[i].hyperparams]\n",
    "    \n",
    "df_tmp.to_csv(\"tmp.csv\")"
   ]
  },
  {
   "cell_type": "code",
   "execution_count": 143,
   "metadata": {},
   "outputs": [
    {
     "name": "stdout",
     "output_type": "stream",
     "text": [
      "0.7496196912641213 0.7774745123223891 {'n_in': 178, 'learning_rate': 1e-05, 'hidden_layers_sizes': [100, 100], 'lr_decay': 0.001, 'momentum': 0.9, 'L2_reg': 10.0, 'L1_reg': 0.0, 'activation': 'rectify', 'dropout': 0.4, 'batch_norm': True, 'standardize': False}\n",
      "0.7495199381530712 0.7838805490888657 {'n_in': 178, 'learning_rate': 1e-05, 'hidden_layers_sizes': [100, 100, 10], 'lr_decay': 0.001, 'momentum': 0.9, 'L2_reg': 10.0, 'L1_reg': 0.0, 'activation': 'rectify', 'dropout': 0.4, 'batch_norm': True, 'standardize': False}\n",
      "0.7598443851467618 0.7704904872762303 {'n_in': 178, 'learning_rate': 1e-05, 'hidden_layers_sizes': [100, 500, 10], 'lr_decay': 0.001, 'momentum': 0.9, 'L2_reg': 10.0, 'L1_reg': 0.0, 'activation': 'rectify', 'dropout': 0.4, 'batch_norm': True, 'standardize': False}\n",
      "0.744457467767276 0.7749859516737577 {'n_in': 178, 'learning_rate': 1e-05, 'hidden_layers_sizes': [25, 100, 10], 'lr_decay': 0.001, 'momentum': 0.9, 'L2_reg': 10.0, 'L1_reg': 0.0, 'activation': 'rectify', 'dropout': 0.4, 'batch_norm': True, 'standardize': False}\n",
      "0.753410309484027 0.7695913943967247 {'n_in': 178, 'learning_rate': 1e-05, 'hidden_layers_sizes': [500, 100, 100], 'lr_decay': 0.001, 'momentum': 0.9, 'L2_reg': 10.0, 'L1_reg': 0.0, 'activation': 'rectify', 'dropout': 0.4, 'batch_norm': True, 'standardize': False}\n",
      "0.7551559889274047 0.7710042546359477 {'n_in': 178, 'learning_rate': 1e-05, 'hidden_layers_sizes': [500, 100], 'lr_decay': 0.001, 'momentum': 0.9, 'L2_reg': 10.0, 'L1_reg': 0.0, 'activation': 'rectify', 'dropout': 0.4, 'batch_norm': True, 'standardize': False}\n",
      "0.7477243821541685 0.771132696475877 {'n_in': 178, 'learning_rate': 1e-05, 'hidden_layers_sizes': [100, 100], 'lr_decay': 0.001, 'momentum': 0.9, 'L2_reg': 10.0, 'L1_reg': 0.0, 'activation': 'selu', 'dropout': 0.4, 'batch_norm': True, 'standardize': False}\n",
      "0.7438340108232125 0.7696395600866982 {'n_in': 178, 'learning_rate': 1e-05, 'hidden_layers_sizes': [100, 100, 10], 'lr_decay': 0.001, 'momentum': 0.9, 'L2_reg': 10.0, 'L1_reg': 0.0, 'activation': 'selu', 'dropout': 0.4, 'batch_norm': True, 'standardize': False}\n",
      "0.7476994438764059 0.762045436300875 {'n_in': 178, 'learning_rate': 1e-05, 'hidden_layers_sizes': [100, 500, 10], 'lr_decay': 0.001, 'momentum': 0.9, 'L2_reg': 10.0, 'L1_reg': 0.0, 'activation': 'selu', 'dropout': 0.4, 'batch_norm': True, 'standardize': False}\n",
      "0.7432604304346742 0.7690455165770249 {'n_in': 178, 'learning_rate': 1e-05, 'hidden_layers_sizes': [25, 100, 10], 'lr_decay': 0.001, 'momentum': 0.9, 'L2_reg': 10.0, 'L1_reg': 0.0, 'activation': 'selu', 'dropout': 0.4, 'batch_norm': True, 'standardize': False}\n",
      "0.745155739544627 0.7669101709881994 {'n_in': 178, 'learning_rate': 1e-05, 'hidden_layers_sizes': [500, 100, 100], 'lr_decay': 0.001, 'momentum': 0.9, 'L2_reg': 10.0, 'L1_reg': 0.0, 'activation': 'selu', 'dropout': 0.4, 'batch_norm': True, 'standardize': False}\n",
      "0.751091049652111 0.7655294212089588 {'n_in': 178, 'learning_rate': 1e-05, 'hidden_layers_sizes': [500, 100], 'lr_decay': 0.001, 'momentum': 0.9, 'L2_reg': 10.0, 'L1_reg': 0.0, 'activation': 'selu', 'dropout': 0.4, 'batch_norm': True, 'standardize': False}\n",
      "0.7488216663757201 0.7763185357630248 {'n_in': 178, 'learning_rate': 1e-05, 'hidden_layers_sizes': [100, 100], 'lr_decay': 0.001, 'momentum': 0.9, 'L2_reg': 1.0, 'L1_reg': 0.0, 'activation': 'rectify', 'dropout': 0.4, 'batch_norm': True, 'standardize': False}\n",
      "0.7490710491533454 0.783719996788954 {'n_in': 178, 'learning_rate': 1e-05, 'hidden_layers_sizes': [100, 100, 10], 'lr_decay': 0.001, 'momentum': 0.9, 'L2_reg': 1.0, 'L1_reg': 0.0, 'activation': 'rectify', 'dropout': 0.4, 'batch_norm': True, 'standardize': False}\n",
      "0.7598194468689993 0.7703459902063097 {'n_in': 178, 'learning_rate': 1e-05, 'hidden_layers_sizes': [100, 500, 10], 'lr_decay': 0.001, 'momentum': 0.9, 'L2_reg': 1.0, 'L1_reg': 0.0, 'activation': 'rectify', 'dropout': 0.4, 'batch_norm': True, 'standardize': False}\n",
      "0.7446819122671389 0.7745685156939873 {'n_in': 178, 'learning_rate': 1e-05, 'hidden_layers_sizes': [25, 100, 10], 'lr_decay': 0.001, 'momentum': 0.9, 'L2_reg': 1.0, 'L1_reg': 0.0, 'activation': 'rectify', 'dropout': 0.4, 'batch_norm': True, 'standardize': False}\n",
      "0.7527619142622011 0.7691900136469455 {'n_in': 178, 'learning_rate': 1e-05, 'hidden_layers_sizes': [500, 100, 100], 'lr_decay': 0.001, 'momentum': 0.9, 'L2_reg': 1.0, 'L1_reg': 0.0, 'activation': 'rectify', 'dropout': 0.4, 'batch_norm': True, 'standardize': False}\n",
      "0.7549814209830669 0.7677771534077226 {'n_in': 178, 'learning_rate': 1e-05, 'hidden_layers_sizes': [500, 100], 'lr_decay': 0.001, 'momentum': 0.9, 'L2_reg': 1.0, 'L1_reg': 0.0, 'activation': 'rectify', 'dropout': 0.4, 'batch_norm': True, 'standardize': False}\n",
      "0.7474500610987805 0.7698803885365658 {'n_in': 178, 'learning_rate': 1e-05, 'hidden_layers_sizes': [100, 100], 'lr_decay': 0.001, 'momentum': 0.9, 'L2_reg': 1.0, 'L1_reg': 0.0, 'activation': 'selu', 'dropout': 0.4, 'batch_norm': True, 'standardize': False}\n",
      "0.7439337639342627 0.7694147868668219 {'n_in': 178, 'learning_rate': 1e-05, 'hidden_layers_sizes': [100, 100, 10], 'lr_decay': 0.001, 'momentum': 0.9, 'L2_reg': 1.0, 'L1_reg': 0.0, 'activation': 'selu', 'dropout': 0.4, 'batch_norm': True, 'standardize': False}\n",
      "0.7477243821541685 0.762141767680822 {'n_in': 178, 'learning_rate': 1e-05, 'hidden_layers_sizes': [100, 500, 10], 'lr_decay': 0.001, 'momentum': 0.9, 'L2_reg': 1.0, 'L1_reg': 0.0, 'activation': 'selu', 'dropout': 0.4, 'batch_norm': True, 'standardize': False}\n",
      "0.7430359859348113 0.7694950630167777 {'n_in': 178, 'learning_rate': 1e-05, 'hidden_layers_sizes': [25, 100, 10], 'lr_decay': 0.001, 'momentum': 0.9, 'L2_reg': 1.0, 'L1_reg': 0.0, 'activation': 'selu', 'dropout': 0.4, 'batch_norm': True, 'standardize': False}\n",
      "0.745105862989102 0.7667335634582966 {'n_in': 178, 'learning_rate': 1e-05, 'hidden_layers_sizes': [500, 100, 100], 'lr_decay': 0.001, 'momentum': 0.9, 'L2_reg': 1.0, 'L1_reg': 0.0, 'activation': 'selu', 'dropout': 0.4, 'batch_norm': True, 'standardize': False}\n",
      "0.7506670989301479 0.7644537207995504 {'n_in': 178, 'learning_rate': 1e-05, 'hidden_layers_sizes': [500, 100], 'lr_decay': 0.001, 'momentum': 0.9, 'L2_reg': 1.0, 'L1_reg': 0.0, 'activation': 'selu', 'dropout': 0.4, 'batch_norm': True, 'standardize': False}\n",
      "0.7473752462654929 0.7612747852612989 {'n_in': 178, 'learning_rate': 1e-05, 'hidden_layers_sizes': [100, 25], 'lr_decay': 0.001, 'momentum': 0.9, 'L2_reg': 10.0, 'L1_reg': 0.0, 'activation': 'selu', 'dropout': 0.4, 'batch_norm': True, 'standardize': False}\n"
     ]
    }
   ],
   "source": [
    "for i in range(25):\n",
    "    print (network[i].get_concordance_index(x=val_data['x'],t=val_data['t'],e=val_data['e']),network[i].get_concordance_index(x=test_data['x'],t=test_data['t'],e=test_data['e']),network[i].hyperparams)"
   ]
  },
  {
   "cell_type": "code",
   "execution_count": 145,
   "metadata": {},
   "outputs": [
    {
     "data": {
      "text/plain": [
       "{'n_in': 178,\n",
       " 'learning_rate': 1e-05,\n",
       " 'hidden_layers_sizes': [100, 500, 10],\n",
       " 'lr_decay': 0.001,\n",
       " 'momentum': 0.9,\n",
       " 'L2_reg': 10.0,\n",
       " 'L1_reg': 0.0,\n",
       " 'activation': 'rectify',\n",
       " 'dropout': 0.4,\n",
       " 'batch_norm': True,\n",
       " 'standardize': False}"
      ]
     },
     "execution_count": 145,
     "metadata": {},
     "output_type": "execute_result"
    }
   ],
   "source": [
    "network[2].hyperparams"
   ]
  },
  {
   "cell_type": "code",
   "execution_count": null,
   "metadata": {},
   "outputs": [],
   "source": [
    "hid=[[100,500,50],[100,500,30],[100,500,20],[100,500,10]]*2\n",
    "drop=[0.2,0.2,0.2,0,2,0,4,0.4,0.4,0.4,0.4]\n",
    "network_bis=[None]*2\n",
    "metrics_bis=[None]*2\n",
    "for i in range(8):\n",
    "    hyperparams = {\n",
    "    'L2_reg': 10.0,\n",
    "    'batch_norm': True,\n",
    "    'dropout': 0.4,\n",
    "    'hidden_layers_sizes': hid[i],\n",
    "    'learning_rate': 1e-05,\n",
    "    'lr_decay': 0.001,\n",
    "    'momentum': 0.9,\n",
    "    'n_in': train_data['x'].shape[1],\n",
    "    'activation':'rectify'\n",
    "\n",
    "    #'standardize': True\n",
    "}\n",
    "    np.random.seed(17)\n",
    "    network_bis[i] = deepsurv.DeepSurv(**hyperparams)\n",
    "    network_bis[i].restored_update_params = None \n",
    "    logger = deepsurv.deepsurv_logger.TensorboardLogger(name = 'DeepSurvLogger', logdir = './logs/tensorboard/')\n",
    "    np.random.seed(17)\n",
    "    update_fn=lasagne.updates.rmsprop\n",
    "    #update_fn=lasagne.updates.rmsprop\n",
    "    n_epochs = 20000\n",
    "    val_frequency=250\n",
    "    patience=10000 # minimum number of epochs to train for\n",
    "    metrics_bis[i] =  network_bis[i].train(train_data,val_data, n_epochs=n_epochs, logger=logger, update_fn=update_fn,patience=patience,validation_frequency=val_frequency)"
   ]
  },
  {
   "cell_type": "code",
   "execution_count": 155,
   "metadata": {},
   "outputs": [
    {
     "ename": "IndexError",
     "evalue": "list index out of range",
     "output_type": "error",
     "traceback": [
      "\u001b[0;31m---------------------------------------------------------------------------\u001b[0m",
      "\u001b[0;31mIndexError\u001b[0m                                Traceback (most recent call last)",
      "\u001b[0;32m<ipython-input-155-15afae0ce221>\u001b[0m in \u001b[0;36m<module>\u001b[0;34m\u001b[0m\n\u001b[0;32m----> 1\u001b[0;31m \u001b[0mnetwork_bis\u001b[0m\u001b[0;34m[\u001b[0m\u001b[0;36m0\u001b[0m\u001b[0;34m]\u001b[0m\u001b[0;34m.\u001b[0m\u001b[0mget_concordance_index\u001b[0m\u001b[0;34m(\u001b[0m\u001b[0mx\u001b[0m\u001b[0;34m=\u001b[0m\u001b[0mval_data\u001b[0m\u001b[0;34m[\u001b[0m\u001b[0;34m'x'\u001b[0m\u001b[0;34m]\u001b[0m\u001b[0;34m,\u001b[0m\u001b[0mt\u001b[0m\u001b[0;34m=\u001b[0m\u001b[0mval_data\u001b[0m\u001b[0;34m[\u001b[0m\u001b[0;34m't'\u001b[0m\u001b[0;34m]\u001b[0m\u001b[0;34m,\u001b[0m\u001b[0me\u001b[0m\u001b[0;34m=\u001b[0m\u001b[0mval_data\u001b[0m\u001b[0;34m[\u001b[0m\u001b[0;34m'e'\u001b[0m\u001b[0;34m]\u001b[0m\u001b[0;34m)\u001b[0m\u001b[0;34m,\u001b[0m\u001b[0mnetwork_bis\u001b[0m\u001b[0;34m[\u001b[0m\u001b[0mi\u001b[0m\u001b[0;34m]\u001b[0m\u001b[0;34m.\u001b[0m\u001b[0mget_concordance_index\u001b[0m\u001b[0;34m(\u001b[0m\u001b[0mx\u001b[0m\u001b[0;34m=\u001b[0m\u001b[0mtest_data\u001b[0m\u001b[0;34m[\u001b[0m\u001b[0;34m'x'\u001b[0m\u001b[0;34m]\u001b[0m\u001b[0;34m,\u001b[0m\u001b[0mt\u001b[0m\u001b[0;34m=\u001b[0m\u001b[0mtest_data\u001b[0m\u001b[0;34m[\u001b[0m\u001b[0;34m't'\u001b[0m\u001b[0;34m]\u001b[0m\u001b[0;34m,\u001b[0m\u001b[0me\u001b[0m\u001b[0;34m=\u001b[0m\u001b[0mtest_data\u001b[0m\u001b[0;34m[\u001b[0m\u001b[0;34m'e'\u001b[0m\u001b[0;34m]\u001b[0m\u001b[0;34m)\u001b[0m\u001b[0;34m,\u001b[0m\u001b[0mnetwork_bis\u001b[0m\u001b[0;34m[\u001b[0m\u001b[0;36m0\u001b[0m\u001b[0;34m]\u001b[0m\u001b[0;34m.\u001b[0m\u001b[0mhyperparams\u001b[0m\u001b[0;34m\u001b[0m\u001b[0;34m\u001b[0m\u001b[0m\n\u001b[0m",
      "\u001b[0;31mIndexError\u001b[0m: list index out of range"
     ]
    }
   ],
   "source": [
    "network_bis[0].get_concordance_index(x=val_data['x'],t=val_data['t'],e=val_data['e']),network_bis[i].get_concordance_index(x=test_data['x'],t=test_data['t'],e=test_data['e']),network_bis[0].hyperparams\n"
   ]
  },
  {
   "cell_type": "code",
   "execution_count": 214,
   "metadata": {},
   "outputs": [
    {
     "name": "stdout",
     "output_type": "stream",
     "text": [
      "Loading json model: {\"n_in\": 178, \"learning_rate\": 1e-05, \"hidden_layers_sizes\": [100, 10], \"lr_decay\": 0.001, \"momentum\": 0.9, \"L2_reg\": 10.0, \"L1_reg\": 0.0, \"activation\": \"rectify\", \"dropout\": 0.4, \"batch_norm\": true, \"standardize\": false}\n"
     ]
    },
    {
     "data": {
      "text/plain": [
       "0.44322067913622865"
      ]
     },
     "execution_count": 214,
     "metadata": {},
     "output_type": "execute_result"
    }
   ],
   "source": [
    "network.save_model(\"deep_surv_model_500_epochs\", weights_file =\"deep_surv_weights_500_epochs\")\n",
    "previous_model = deepsurv.deep_surv.load_model_from_json(model_fp = 'deep_surv_model_500_epochs' , weights_fp =     'deep_surv_weights_500_epochs')\n",
    "previous_model.get_concordance_index(x=val_data['x'],t=val_data['t'],e=val_data['e'])"
   ]
  },
  {
   "cell_type": "code",
   "execution_count": 216,
   "metadata": {},
   "outputs": [
    {
     "data": {
      "text/plain": [
       "[(0, 0.4391265954884804), (250, 0.4491450590029702)]"
      ]
     },
     "execution_count": 216,
     "metadata": {},
     "output_type": "execute_result"
    }
   ],
   "source": [
    "metrics['valid_c-index']"
   ]
  },
  {
   "cell_type": "code",
   "execution_count": 217,
   "metadata": {},
   "outputs": [
    {
     "data": {
      "text/plain": [
       "array(10.96796368)"
      ]
     },
     "execution_count": 217,
     "metadata": {},
     "output_type": "execute_result"
    }
   ],
   "source": [
    "metrics['best_valid_loss']"
   ]
  },
  {
   "cell_type": "code",
   "execution_count": 218,
   "metadata": {},
   "outputs": [
    {
     "name": "stdout",
     "output_type": "stream",
     "text": [
      "Train C-Index: (499, 0.4681709875707654)\n"
     ]
    },
    {
     "data": {
      "image/png": "[encoded data removed]",
      "text/plain": [
       "<Figure size 432x288 with 2 Axes>"
      ]
     },
     "metadata": {
      "needs_background": "light"
     },
     "output_type": "display_data"
    },
    {
     "data": {
      "image/png": "[encoded data removed]",
      "text/plain": [
       "<Figure size 432x288 with 1 Axes>"
      ]
     },
     "metadata": {
      "needs_background": "light"
     },
     "output_type": "display_data"
    }
   ],
   "source": [
    "\n",
    "# Print the final metrics\n",
    "print('Train C-Index:', metrics['c-index'][-1])\n",
    "# print('Valid C-Index: ',metrics['valid_c-index'][-1])\n",
    "\n",
    "# Plot the training / validation curves\n",
    "deepsurv.viz.plot_log(metrics)"
   ]
  },
  {
   "cell_type": "code",
   "execution_count": 144,
   "metadata": {},
   "outputs": [
    {
     "data": {
      "image/png": "[encoded data removed]",
      "text/plain": [
       "<Figure size 432x288 with 2 Axes>"
      ]
     },
     "metadata": {
      "needs_background": "light"
     },
     "output_type": "display_data"
    },
    {
     "data": {
      "image/png": "[encoded data removed]",
      "text/plain": [
       "<Figure size 432x288 with 1 Axes>"
      ]
     },
     "metadata": {
      "needs_background": "light"
     },
     "output_type": "display_data"
    }
   ],
   "source": [
    "deepsurv.viz.plot_log(metrics[2])"
   ]
  },
  {
   "cell_type": "code",
   "execution_count": null,
   "metadata": {},
   "outputs": [],
   "source": []
  }
 ],
 "metadata": {
  "kernelspec": {
   "display_name": "Python 3",
   "language": "python",
   "name": "python3"
  },
  "language_info": {
   "codemirror_mode": {
    "name": "ipython",
    "version": 3
   },
   "file_extension": ".py",
   "mimetype": "text/x-python",
   "name": "python",
   "nbconvert_exporter": "python",
   "pygments_lexer": "ipython3",
   "version": "3.7.1"
  }
 },
 "nbformat": 4,
 "nbformat_minor": 2
}

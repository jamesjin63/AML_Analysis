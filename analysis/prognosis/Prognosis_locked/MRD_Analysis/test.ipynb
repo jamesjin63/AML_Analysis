{
 "cells": [
  {
   "cell_type": "code",
   "execution_count": 122,
   "metadata": {},
   "outputs": [
    {
     "name": "stdout",
     "output_type": "stream",
     "text": [
      "[1] \"START\"\n",
      "[1] \"start CV\"\n",
      "[1] \"start CV\"\n",
      "[1] \"start CV\"\n",
      "[1] \"start CV\"\n",
      "[1] \"start CV\"\n",
      "[1] \"start CV\"\n",
      "[1] \"start CV\"\n",
      "[1] \"start CV\"\n",
      "[1] \"start CV\"\n",
      "[1] \"start CV\"\n",
      "[1] \"start CV\"\n",
      "[1] \"start CV\"\n",
      "[1] \"start CV\"\n",
      "[1] \"start CV\"\n",
      "[1] \"start CV\"\n",
      "[1] \"DONE\"\n"
     ]
    }
   ],
   "source": [
    "library(glmnet)\n",
    "library(doMC)\n",
    "library(survival)\n",
    "library(data.table)\n",
    "library(mltools)\n",
    "library(CoxBoost)\n",
    "library(randomForestSRC)\n",
    "library(CoxHD)\n",
    "source('../../tools_prognosis/run_prognosis.R')\n",
    "\n",
    "\n",
    "    # Data Prep\n",
    "tmp <-read.table('../handovercompiled.Yanis.080919.csv',sep=\",\",header=T)\n",
    "rownames(tmp) <- tmp$data_pd\n",
    "cols_to_keep <- colnames(tmp)\n",
    "master <- read.table('../../../../data/initial_dataset/Master_04_10_2019.csv',sep=\",\",header=T)\n",
    "rownames(master) <- master$data_pd\n",
    "df <- read.table('../../../clustering/clustering_Final_1/df_final_full_component_ITD.tsv')\n",
    "df_merge <- merge(df,master[,cols_to_keep],by=0)\n",
    "rownames(df_merge) <- df_merge$Row.names\n",
    "df_merge <- df_merge[-1]\n",
    "df_merge$AMLID <- as.character(df_merge$AMLID)\n",
    "df_merge$MRD1 <- as.character(df_merge$MRD1)\n",
    "df_merge <- df_merge[grep(\"17-\", df_merge$AMLID),]   ### keep only AML 17\n",
    "df_merge$CR_MRD_neg <- ifelse(df_merge$MRD1==\"CR,MRD-\",1,0)\n",
    "df_merge$CR_MRD_pos <- ifelse(df_merge$MRD1==\"CR,MRD+\",1,0)\n",
    "df_merge$all_others <- ifelse(df_merge$MRD1!=\"CR,MRD+\" & df_merge$MRD1!=\"CR,MRD-\",1,0)\n",
    "df_merge <- df_merge[!is.na(df_merge$OS_CR),]\n",
    "df_merge <- df_merge[!is.na(df_merge$MRD1),]\n",
    "df_merge <- df_merge[df_merge$os >0 & df_merge$OS_CR >0 & df_merge$RFSyears>0,]\n",
    "\n",
    "eln <- c(2,3,4)\n",
    "comp <- c(170:193)\n",
    "age <- c(167)\n",
    "\n",
    "all_gen <- c(5:88)\n",
    "vect <- apply(X=df_merge[,all_gen],2,FUN=function(x) 100*length(which(x==1))/dim(df_merge)[1])\n",
    "gen <- match(names(vect[vect>=2]),names(df_merge))\n",
    "              \n",
    "all_cyto <- c(89:158)\n",
    "vect <- apply(X=df_merge[,all_cyto],2,FUN=function(x) 100*length(which(x==1))/dim(df_merge)[1])\n",
    "cyto <- match(names(vect[vect>=2]),names(df_merge))\n",
    "              \n",
    "clin <- c(159:165)\n",
    "demo <- c(166:167)\n",
    "demo_without_age <-c(166)\n",
    "              \n",
    "mrd <- c(234,235,236)\n",
    "           \n",
    "                          \n",
    "eln <- eln                         \n",
    "eln_mrd <- c(eln,mrd)\n",
    "              \n",
    "comp <- comp               \n",
    "comp_mrd <- c(comp,mrd)\n",
    "              \n",
    "gen <- gen              \n",
    "gen_mrd <- c(gen,mrd)\n",
    "              \n",
    "cyto <- cyto              \n",
    "cyto_mrd <- c(cyto,mrd)\n",
    "\n",
    "clin <- clin\n",
    "clin_mrd <- c(clin,mrd)\n",
    "\n",
    "demo <- demo\n",
    "demo_mrd <- c(demo,mrd)\n",
    "              \n",
    "clin_demo <- c(clin,demo)\n",
    "clin_demo_mrd <- c(clin,demo,mrd)\n",
    "              \n",
    "gen_cyto <- c(gen,cyto)\n",
    "gen_cyto_mrd <- c(gen,cyto,mrd)\n",
    "              \n",
    "gen_cyto_clin_demo <- c(gen,cyto,clin,demo)              \n",
    "gen_cyto_clin_demo_mrd <- c(gen,cyto,clin,demo,mrd)\n",
    "              \n",
    "comp_clin_demo <- c(comp,clin,demo)              \n",
    "comp_clin_demo_mrd <- c(comp,clin,demo,mrd)\n",
    "\n",
    "eln_clin_demo <- c(eln,clin,demo)\n",
    "eln_clin_demo_mrd <- c(eln,clin,demo,mrd)\n",
    "\n",
    "y_os <- data.matrix(df_merge[,c(\"os\",\"os_status\")])\n",
    "y_RFS <- data.matrix(df_merge[,c(\"RFSyears\",\"RFSStatus\")])\n",
    "y_OS_CR <- data.matrix(df_merge[,c(\"OS_CR\",\"DEADStatus\")])\n",
    "prognosis_features<- list(eln_mrd=eln_mrd,comp_mrd=comp_mrd,gen_mrd=gen_mrd,cyto_mrd=cyto_mrd,clin_mrd=clin_mrd,demo_mrd=demo_mrd,clin_demo_mrd=clin_demo_mrd,gen_cyto_mrd=gen_cyto_mrd,gen_cyto_clin_demo_mrd=gen_cyto_clin_demo_mrd,comp_clin_demo_mrd=comp_clin_demo_mrd,eln_clin_demo_mrd=eln_clin_demo_mrd,\n",
    "                         eln=eln,comp=comp,gen=gen,cyto=cyto,clin=clin,demo=demo,clin_demo=clin_demo,gen_cyto=gen_cyto,gen_cyto_clin_demo=gen_cyto_clin_demo,comp_clin_demo=comp_clin_demo,eln_clin_demo=eln_clin_demo)\n",
    "                          \n",
    "                          \n",
    "\n",
    "predictors <- c(rep(list(predictorGLM),2),rep(list(predictorRF),1),predictorBoost,predictorRFX)\n",
    "str_predictors <-c(rep(\"CoxGLM\",2),rep(\"RFS\",1),\"CoxBoost\",\"RFX\")\n",
    "l_alpha <-c(0,1)\n",
    "l_ntree <- c(1050)\n",
    "mc.cores <- 30\n",
    "nodesize <- c(20)\n",
    "# for (i in 1:length(prognosis_features)){\n",
    "for (i in 13:13){\n",
    "    print(\"START\")\n",
    "    x <- data.matrix(df_merge[,prognosis_features[[i]]])\n",
    "    write.table(launch_prognosis(x=x,y=y_os,predictors=predictors,str_predictors=str_predictors,l_alpha=l_alpha,nrepeats=5,\n",
    "                l_ntree=l_ntree,mc.cores=mc.cores,nodesize=nodesize),paste(names(prognosis_features)[i],\"_os.tsv\",sep=\"\"),quote=F,sep='\\t')\n",
    "    \n",
    "    write.table(launch_prognosis(x=x,y=y_RFS,predictors=predictors,str_predictors=str_predictors,l_alpha=l_alpha,nrepeats=5,\n",
    "                l_ntree=l_ntree,mc.cores=mc.cores,nodesize=nodesize),paste(names(prognosis_features)[i],\"_RFS.tsv\",sep=\"\"),quote=F,sep='\\t')\n",
    "    \n",
    "    write.table(launch_prognosis(x=x,y=y_OS_CR,predictors=predictors,str_predictors=str_predictors,l_alpha=l_alpha,nrepeats=5,\n",
    "            l_ntree=l_ntree,mc.cores=mc.cores,nodesize=nodesize),paste(names(prognosis_features)[i],\"_CR_OS.tsv\",sep=\"\"),quote=F,sep='\\t')\n",
    "    \n",
    "\n",
    "    \n",
    "    print(\"DONE\")\n",
    "    }"
   ]
  },
  {
   "cell_type": "code",
   "execution_count": 123,
   "metadata": {},
   "outputs": [
    {
     "data": {
      "text/html": [
       "<dl class=dl-horizontal>\n",
       "\t<dt>CoxGLM_0</dt>\n",
       "\t\t<dd>0.66094056617562</dd>\n",
       "\t<dt>CoxGLM_1</dt>\n",
       "\t\t<dd>0.657721276173508</dd>\n",
       "\t<dt>RFS_1050_20</dt>\n",
       "\t\t<dd>0.653636537447339</dd>\n",
       "\t<dt>CoxBoost_</dt>\n",
       "\t\t<dd>0.652057564491717</dd>\n",
       "\t<dt>RFX_</dt>\n",
       "\t\t<dd>0.658473310726572</dd>\n",
       "</dl>\n"
      ],
      "text/latex": [
       "\\begin{description*}\n",
       "\\item[CoxGLM\\textbackslash{}\\_0] 0.66094056617562\n",
       "\\item[CoxGLM\\textbackslash{}\\_1] 0.657721276173508\n",
       "\\item[RFS\\textbackslash{}\\_1050\\textbackslash{}\\_20] 0.653636537447339\n",
       "\\item[CoxBoost\\textbackslash{}\\_] 0.652057564491717\n",
       "\\item[RFX\\textbackslash{}\\_] 0.658473310726572\n",
       "\\end{description*}\n"
      ],
      "text/markdown": [
       "CoxGLM_0\n",
       ":   0.66094056617562CoxGLM_1\n",
       ":   0.657721276173508RFS_1050_20\n",
       ":   0.653636537447339CoxBoost_\n",
       ":   0.652057564491717RFX_\n",
       ":   0.658473310726572\n",
       "\n"
      ],
      "text/plain": [
       "   CoxGLM_0    CoxGLM_1 RFS_1050_20   CoxBoost_        RFX_ \n",
       "  0.6609406   0.6577213   0.6536365   0.6520576   0.6584733 "
      ]
     },
     "metadata": {},
     "output_type": "display_data"
    },
    {
     "data": {
      "text/html": [
       "<dl class=dl-horizontal>\n",
       "\t<dt>CoxGLM_0</dt>\n",
       "\t\t<dd>0.605387243978999</dd>\n",
       "\t<dt>CoxGLM_1</dt>\n",
       "\t\t<dd>0.601827743630268</dd>\n",
       "\t<dt>RFS_1050_20</dt>\n",
       "\t\t<dd>0.604368380092922</dd>\n",
       "\t<dt>CoxBoost_</dt>\n",
       "\t\t<dd>0.603738220347678</dd>\n",
       "\t<dt>RFX_</dt>\n",
       "\t\t<dd>0.601900295789695</dd>\n",
       "</dl>\n"
      ],
      "text/latex": [
       "\\begin{description*}\n",
       "\\item[CoxGLM\\textbackslash{}\\_0] 0.605387243978999\n",
       "\\item[CoxGLM\\textbackslash{}\\_1] 0.601827743630268\n",
       "\\item[RFS\\textbackslash{}\\_1050\\textbackslash{}\\_20] 0.604368380092922\n",
       "\\item[CoxBoost\\textbackslash{}\\_] 0.603738220347678\n",
       "\\item[RFX\\textbackslash{}\\_] 0.601900295789695\n",
       "\\end{description*}\n"
      ],
      "text/markdown": [
       "CoxGLM_0\n",
       ":   0.605387243978999CoxGLM_1\n",
       ":   0.601827743630268RFS_1050_20\n",
       ":   0.604368380092922CoxBoost_\n",
       ":   0.603738220347678RFX_\n",
       ":   0.601900295789695\n",
       "\n"
      ],
      "text/plain": [
       "   CoxGLM_0    CoxGLM_1 RFS_1050_20   CoxBoost_        RFX_ \n",
       "  0.6053872   0.6018277   0.6043684   0.6037382   0.6019003 "
      ]
     },
     "metadata": {},
     "output_type": "display_data"
    },
    {
     "data": {
      "text/html": [
       "<dl class=dl-horizontal>\n",
       "\t<dt>CoxGLM_0</dt>\n",
       "\t\t<dd>0.65924412298845</dd>\n",
       "\t<dt>CoxGLM_1</dt>\n",
       "\t\t<dd>0.656043909000678</dd>\n",
       "\t<dt>RFS_1050_20</dt>\n",
       "\t\t<dd>0.652709794537325</dd>\n",
       "\t<dt>CoxBoost_</dt>\n",
       "\t\t<dd>0.65042667379454</dd>\n",
       "\t<dt>RFX_</dt>\n",
       "\t\t<dd>0.656813108145123</dd>\n",
       "</dl>\n"
      ],
      "text/latex": [
       "\\begin{description*}\n",
       "\\item[CoxGLM\\textbackslash{}\\_0] 0.65924412298845\n",
       "\\item[CoxGLM\\textbackslash{}\\_1] 0.656043909000678\n",
       "\\item[RFS\\textbackslash{}\\_1050\\textbackslash{}\\_20] 0.652709794537325\n",
       "\\item[CoxBoost\\textbackslash{}\\_] 0.65042667379454\n",
       "\\item[RFX\\textbackslash{}\\_] 0.656813108145123\n",
       "\\end{description*}\n"
      ],
      "text/markdown": [
       "CoxGLM_0\n",
       ":   0.65924412298845CoxGLM_1\n",
       ":   0.656043909000678RFS_1050_20\n",
       ":   0.652709794537325CoxBoost_\n",
       ":   0.65042667379454RFX_\n",
       ":   0.656813108145123\n",
       "\n"
      ],
      "text/plain": [
       "   CoxGLM_0    CoxGLM_1 RFS_1050_20   CoxBoost_        RFX_ \n",
       "  0.6592441   0.6560439   0.6527098   0.6504267   0.6568131 "
      ]
     },
     "metadata": {},
     "output_type": "display_data"
    }
   ],
   "source": [
    "a <- read.table(\"comp_CR_OS.tsv\")\n",
    "b <- read.table(\"comp_RFS.tsv\")\n",
    "c <- read.table(\"comp_os.tsv\")\n",
    "colMeans(a)\n",
    "colMeans(b)\n",
    "colMeans(c)"
   ]
  },
  {
   "cell_type": "code",
   "execution_count": 119,
   "metadata": {},
   "outputs": [
    {
     "data": {
      "text/html": [
       "<dl class=dl-horizontal>\n",
       "\t<dt>CoxGLM_0</dt>\n",
       "\t\t<dd>0.665641371460377</dd>\n",
       "\t<dt>CoxGLM_1</dt>\n",
       "\t\t<dd>0.661683843987914</dd>\n",
       "\t<dt>RFS_1050_20</dt>\n",
       "\t\t<dd>0.653914344029142</dd>\n",
       "\t<dt>CoxBoost_</dt>\n",
       "\t\t<dd>0.653282085550169</dd>\n",
       "\t<dt>RFX_</dt>\n",
       "\t\t<dd>0.660964317835286</dd>\n",
       "</dl>\n"
      ],
      "text/latex": [
       "\\begin{description*}\n",
       "\\item[CoxGLM\\textbackslash{}\\_0] 0.665641371460377\n",
       "\\item[CoxGLM\\textbackslash{}\\_1] 0.661683843987914\n",
       "\\item[RFS\\textbackslash{}\\_1050\\textbackslash{}\\_20] 0.653914344029142\n",
       "\\item[CoxBoost\\textbackslash{}\\_] 0.653282085550169\n",
       "\\item[RFX\\textbackslash{}\\_] 0.660964317835286\n",
       "\\end{description*}\n"
      ],
      "text/markdown": [
       "CoxGLM_0\n",
       ":   0.665641371460377CoxGLM_1\n",
       ":   0.661683843987914RFS_1050_20\n",
       ":   0.653914344029142CoxBoost_\n",
       ":   0.653282085550169RFX_\n",
       ":   0.660964317835286\n",
       "\n"
      ],
      "text/plain": [
       "   CoxGLM_0    CoxGLM_1 RFS_1050_20   CoxBoost_        RFX_ \n",
       "  0.6656414   0.6616838   0.6539143   0.6532821   0.6609643 "
      ]
     },
     "metadata": {},
     "output_type": "display_data"
    },
    {
     "data": {
      "text/html": [
       "<dl class=dl-horizontal>\n",
       "\t<dt>CoxGLM_0</dt>\n",
       "\t\t<dd>0.616486643943627</dd>\n",
       "\t<dt>CoxGLM_1</dt>\n",
       "\t\t<dd>0.611910883706218</dd>\n",
       "\t<dt>RFS_1050_20</dt>\n",
       "\t\t<dd>0.607959971946009</dd>\n",
       "\t<dt>CoxBoost_</dt>\n",
       "\t\t<dd>0.610556569056188</dd>\n",
       "\t<dt>RFX_</dt>\n",
       "\t\t<dd>0.610121757051529</dd>\n",
       "</dl>\n"
      ],
      "text/latex": [
       "\\begin{description*}\n",
       "\\item[CoxGLM\\textbackslash{}\\_0] 0.616486643943627\n",
       "\\item[CoxGLM\\textbackslash{}\\_1] 0.611910883706218\n",
       "\\item[RFS\\textbackslash{}\\_1050\\textbackslash{}\\_20] 0.607959971946009\n",
       "\\item[CoxBoost\\textbackslash{}\\_] 0.610556569056188\n",
       "\\item[RFX\\textbackslash{}\\_] 0.610121757051529\n",
       "\\end{description*}\n"
      ],
      "text/markdown": [
       "CoxGLM_0\n",
       ":   0.616486643943627CoxGLM_1\n",
       ":   0.611910883706218RFS_1050_20\n",
       ":   0.607959971946009CoxBoost_\n",
       ":   0.610556569056188RFX_\n",
       ":   0.610121757051529\n",
       "\n"
      ],
      "text/plain": [
       "   CoxGLM_0    CoxGLM_1 RFS_1050_20   CoxBoost_        RFX_ \n",
       "  0.6164866   0.6119109   0.6079600   0.6105566   0.6101218 "
      ]
     },
     "metadata": {},
     "output_type": "display_data"
    },
    {
     "data": {
      "text/html": [
       "<dl class=dl-horizontal>\n",
       "\t<dt>CoxGLM_0</dt>\n",
       "\t\t<dd>0.663703156020071</dd>\n",
       "\t<dt>CoxGLM_1</dt>\n",
       "\t\t<dd>0.66000990613302</dd>\n",
       "\t<dt>RFS_1050_20</dt>\n",
       "\t\t<dd>0.651821471878558</dd>\n",
       "\t<dt>CoxBoost_</dt>\n",
       "\t\t<dd>0.651157354541427</dd>\n",
       "\t<dt>RFX_</dt>\n",
       "\t\t<dd>0.659415491166098</dd>\n",
       "</dl>\n"
      ],
      "text/latex": [
       "\\begin{description*}\n",
       "\\item[CoxGLM\\textbackslash{}\\_0] 0.663703156020071\n",
       "\\item[CoxGLM\\textbackslash{}\\_1] 0.66000990613302\n",
       "\\item[RFS\\textbackslash{}\\_1050\\textbackslash{}\\_20] 0.651821471878558\n",
       "\\item[CoxBoost\\textbackslash{}\\_] 0.651157354541427\n",
       "\\item[RFX\\textbackslash{}\\_] 0.659415491166098\n",
       "\\end{description*}\n"
      ],
      "text/markdown": [
       "CoxGLM_0\n",
       ":   0.663703156020071CoxGLM_1\n",
       ":   0.66000990613302RFS_1050_20\n",
       ":   0.651821471878558CoxBoost_\n",
       ":   0.651157354541427RFX_\n",
       ":   0.659415491166098\n",
       "\n"
      ],
      "text/plain": [
       "   CoxGLM_0    CoxGLM_1 RFS_1050_20   CoxBoost_        RFX_ \n",
       "  0.6637032   0.6600099   0.6518215   0.6511574   0.6594155 "
      ]
     },
     "metadata": {},
     "output_type": "display_data"
    }
   ],
   "source": [
    "colMeans(a)\n",
    "colMeans(b)\n",
    "colMeans(c)"
   ]
  },
  {
   "cell_type": "code",
   "execution_count": null,
   "metadata": {},
   "outputs": [],
   "source": []
  }
 ],
 "metadata": {
  "kernelspec": {
   "display_name": "R",
   "language": "R",
   "name": "ir"
  },
  "language_info": {
   "codemirror_mode": "r",
   "file_extension": ".r",
   "mimetype": "text/x-r-source",
   "name": "R",
   "pygments_lexer": "r",
   "version": "3.5.2"
  }
 },
 "nbformat": 4,
 "nbformat_minor": 2
}

{
 "cells": [
  {
   "cell_type": "code",
   "execution_count": 84,
   "metadata": {},
   "outputs": [],
   "source": [
    "library(dplyr)\n",
    "library(miceadds)"
   ]
  },
  {
   "cell_type": "code",
   "execution_count": 89,
   "metadata": {},
   "outputs": [
    {
     "data": {
      "text/plain": [
       "\n",
       "     NEW_adverse    NEW_favorable NEW_intermediate \n",
       "             356              372              448 "
      ]
     },
     "metadata": {},
     "output_type": "display_data"
    }
   ],
   "source": [
    "df_nejm <- read.table(\"../Validation/full_data_validation_NO_ITD.tsv\")\n",
    "\n",
    "# Rename columns like in Cardiff\n",
    "\n",
    "df_nejm <- df_nejm %>% rename(OS_stat = OS_Status, gender = Gender , age = Age, hb = HB, bm_blasts = BM_Blasts, plt = PLT, wbc = WBC)\n",
    "# Add CR Relapse and their status from AMLSG_Clinical:\n",
    "\n",
    "load.Rdata(\"../Validation/AMLSG_Clinical_Anon.RData\",\"val_data\")\n",
    "rownames(val_data) <- val_data$PDID\n",
    "\n",
    "df_nejm <- merge(df_nejm,val_data[,c(\"PDID\",\"CR_date\",\"rfs\",\"rfsstat\")],by = 0)\n",
    "df_nejm <- df_nejm %>% rename(CR = CR_date, Relapse = rfs , Relapse_stat = rfsstat)\n",
    "\n",
    "df_nejm$CR <- as.numeric(df_nejm$CR) / 365\n",
    "df_nejm$Relapse <- df_nejm$Relapse / 365\n",
    "\n",
    "\n",
    "\n",
    "# Handle  CR stat and Relapse stat\n",
    "\n",
    "# For CR stat , we say that when CR is Na the status is 0 or not Na but CR greater than OS\n",
    "\n",
    "df_nejm$CR_stat <- ifelse(is.na(df_nejm$CR) | (!is.na(df_nejm$CR) & df_nejm$CR>df_nejm$OS),0,1)\n",
    "\n",
    "## for relapse we keep relapse stat when available and relapse lower than OS (because rfs is either relapse or OS so if they are equals it means that it's OS so we put 0)\n",
    "## and we put 0 when patients did not experienced CR (because you need CR before Relapse)\n",
    "#we just made sure that CR+Relapse is lower than OS\n",
    "\n",
    "df_nejm[is.na(df_nejm$CR) |is.na(df_nejm$Relapse) |( !is.na(df_nejm$CR) &!is.na(df_nejm$Relapse) & round(df_nejm$CR+df_nejm$Relapse,5)>=round(df_nejm$OS,5)) ,\"Relapse_stat\"] <- 0\n",
    " \n",
    "# # Handle CR\n",
    "df_nejm[df_nejm$CR_stat==0,\"CR\"] <- df_nejm[df_nejm$CR_stat==0,\"OS\"] \n",
    "\n",
    "# # Handle Relapse\n",
    "\n",
    "df_nejm[df_nejm$Relapse_stat==0,\"Relapse\"] <- df_nejm[df_nejm$Relapse_stat==0,\"OS\"]\n",
    "df_nejm[df_nejm$Relapse_stat==1,\"Relapse\"] <- df_nejm[df_nejm$Relapse_stat==1,\"CR\"] + df_nejm[df_nejm$Relapse_stat==1,\"Relapse\"]\n",
    "\n",
    "\n",
    "df_nejm$Death_in_CR <- df_nejm$OS\n",
    "df_nejm$Death_in_CR_stat <- ifelse(df_nejm$CR_stat==1 & df_nejm$Relapse_stat==0 & df_nejm$OS_stat==1,1,0 )\n",
    "\n",
    "df_nejm$Death_in_Relapse <- df_nejm$OS\n",
    "df_nejm$Death_in_Relapse_stat <- ifelse(df_nejm$CR_stat==1 & df_nejm$Relapse_stat==1 & df_nejm$OS_stat==1,1,0 )\n",
    "\n",
    "df_nejm$Death_without <- df_nejm$OS\n",
    "df_nejm$Death_without_stat <- ifelse(df_nejm$CR_stat==0 & df_nejm$Relapse_stat==0 & df_nejm$OS_stat==1,1,0 )\n",
    "\n",
    "\n",
    "# Add New Proposal\n",
    "\n",
    "df_nejm$molecular_classification <- \"none\"\n",
    "\n",
    "df_nejm[(df_nejm$full_component_NPM1==1 |df_nejm$full_component_inv_16==1 | df_nejm$full_component_t_8_21==1 | df_nejm$full_component_t_15_17==1 ) & df_nejm$molecular_classification==\"none\",\"molecular_classification\"] <- \"NEW_favorable\"\n",
    "\n",
    "df_nejm[(df_nejm$full_component_chr_splicing_1==1 | df_nejm$full_component_t_6_9==1) & df_nejm$molecular_classification==\"none\" ,\"molecular_classification\"] <- \"NEW_intermediate\"\n",
    "          \n",
    "df_nejm[((df_nejm$full_component_additions==1 & df_nejm$overlap==1) | df_nejm$full_component_chr_splicing_multiple==1 | \n",
    "          df_nejm$full_component_TP53_complex==1   | df_nejm$full_component_inv_3==1) & df_nejm$molecular_classification==\"none\",\"molecular_classification\"] <- \"NEW_adverse\"  \n",
    "          \n",
    "df_nejm[((df_nejm$full_component_additions==1 & df_nejm$overlap==0) | df_nejm$full_component_t_11==1 | df_nejm$full_component_WT1==1 | df_nejm$full_component_DNMT3A_IDH1_2==1 |\n",
    "          df_nejm$full_component_not_assigned==1) & df_nejm$molecular_classification==\"none\",\"molecular_classification\"] <- \"NEW_intermediate\"\n",
    "          \n",
    "df_nejm[(df_nejm$full_component_CEBPA_bi==1 | df_nejm$full_component_no_events==1) & df_nejm$molecular_classification==\"none\" ,\"molecular_classification\"] <- \"NEW_favorable\"\n",
    "\n",
    "#order is important! adverse . then intermediate otherwise we . overlap\n",
    "df_nejm[df_nejm$molecular_classification==\"NEW_intermediate\" & df_nejm$ITD==1,\"molecular_classification\"] <- \"NEW_adverse\"\n",
    "\n",
    "df_nejm[df_nejm$molecular_classification==\"NEW_favorable\" & df_nejm$ITD==1,\"molecular_classification\"] <- \"NEW_intermediate\"\n",
    "\n",
    "df_nejm$NEW_favorable <-  ifelse(df_nejm$molecular_classification==\"NEW_favorable\",1,0)\n",
    "df_nejm$NEW_intermediate <-  ifelse(df_nejm$molecular_classification==\"NEW_intermediate\",1,0)\n",
    "df_nejm$NEW_adverse <-  ifelse(df_nejm$molecular_classification==\"NEW_adverse\",1,0)\n",
    "table(df_nejm$molecular_classification)\n",
    "\n",
    "rownames(df_nejm) <- df_nejm$Row.names\n",
    "df_nejm$Row.names <- NULL\n",
    "\n"
   ]
  },
  {
   "cell_type": "code",
   "execution_count": 90,
   "metadata": {},
   "outputs": [
    {
     "data": {
      "text/html": [
       "<table>\n",
       "<thead><tr><th scope=col>Row.names</th><th scope=col>NPM1</th><th scope=col>CEBPA_bi</th><th scope=col>ITD</th><th scope=col>ASXL1</th><th scope=col>ATRX</th><th scope=col>BCOR</th><th scope=col>BRAF</th><th scope=col>CBL</th><th scope=col>CBLB</th><th scope=col>⋯</th><th scope=col>Death_in_Relapse</th><th scope=col>Death_in_Relapse_stat</th><th scope=col>Death_without</th><th scope=col>Death_without_stat</th><th scope=col>molecular_classification</th><th scope=col>NEW_favorable</th><th scope=col>NEW_intermediate</th><th scope=col>NEW_adverse</th><th scope=col>TPL_date</th><th scope=col>TPL_o</th></tr></thead>\n",
       "<tbody>\n",
       "\t<tr><td>PD10790a        </td><td>0               </td><td>0               </td><td>0               </td><td>1               </td><td>0               </td><td>0               </td><td>0               </td><td>0               </td><td>0               </td><td>⋯               </td><td>0.7589041       </td><td>0               </td><td>0.7589041       </td><td>0               </td><td>NEW_intermediate</td><td>0               </td><td>1               </td><td>0               </td><td>0.2054795       </td><td>1               </td></tr>\n",
       "\t<tr><td>PD10793a        </td><td>0               </td><td>0               </td><td>0               </td><td>0               </td><td>0               </td><td>0               </td><td>0               </td><td>0               </td><td>0               </td><td>⋯               </td><td>4.7150685       </td><td>0               </td><td>4.7150685       </td><td>0               </td><td>NEW_adverse     </td><td>0               </td><td>0               </td><td>1               </td><td>0.2356164       </td><td>1               </td></tr>\n",
       "\t<tr><td>PD10794a        </td><td>1               </td><td>0               </td><td>0               </td><td>0               </td><td>0               </td><td>0               </td><td>0               </td><td>0               </td><td>0               </td><td>⋯               </td><td>5.6739726       </td><td>0               </td><td>5.6739726       </td><td>0               </td><td>NEW_favorable   </td><td>1               </td><td>0               </td><td>0               </td><td>0.2684932       </td><td>1               </td></tr>\n",
       "\t<tr><td>PD10795a        </td><td>1               </td><td>0               </td><td>1               </td><td>0               </td><td>0               </td><td>0               </td><td>0               </td><td>0               </td><td>0               </td><td>⋯               </td><td>4.5095890       </td><td>0               </td><td>4.5095890       </td><td>0               </td><td>NEW_intermediate</td><td>0               </td><td>1               </td><td>0               </td><td>       NA       </td><td>0               </td></tr>\n",
       "\t<tr><td>PD10796a        </td><td>0               </td><td>1               </td><td>0               </td><td>0               </td><td>0               </td><td>0               </td><td>0               </td><td>0               </td><td>0               </td><td>⋯               </td><td>2.8520548       </td><td>0               </td><td>2.8520548       </td><td>0               </td><td>NEW_favorable   </td><td>1               </td><td>0               </td><td>0               </td><td>0.3671233       </td><td>1               </td></tr>\n",
       "\t<tr><td>PD10798a        </td><td>1               </td><td>0               </td><td>0               </td><td>0               </td><td>0               </td><td>0               </td><td>0               </td><td>0               </td><td>0               </td><td>⋯               </td><td>4.4931507       </td><td>1               </td><td>4.4931507       </td><td>0               </td><td>NEW_favorable   </td><td>1               </td><td>0               </td><td>0               </td><td>2.7287671       </td><td>1               </td></tr>\n",
       "</tbody>\n",
       "</table>\n"
      ],
      "text/latex": [
       "\\begin{tabular}{r|lllllllllllllllllllllllllllllllllllllllllllllllllllllllllllllllllllllllllllllllllllllllllllllllllllllllllllllllllllllllllllllll}\n",
       " Row.names & NPM1 & CEBPA\\_bi & ITD & ASXL1 & ATRX & BCOR & BRAF & CBL & CBLB & ⋯ & Death\\_in\\_Relapse & Death\\_in\\_Relapse\\_stat & Death\\_without & Death\\_without\\_stat & molecular\\_classification & NEW\\_favorable & NEW\\_intermediate & NEW\\_adverse & TPL\\_date & TPL\\_o\\\\\n",
       "\\hline\n",
       "\t PD10790a           & 0                  & 0                  & 0                  & 1                  & 0                  & 0                  & 0                  & 0                  & 0                  & ⋯                  & 0.7589041          & 0                  & 0.7589041          & 0                  & NEW\\_intermediate & 0                  & 1                  & 0                  & 0.2054795          & 1                 \\\\\n",
       "\t PD10793a           & 0                  & 0                  & 0                  & 0                  & 0                  & 0                  & 0                  & 0                  & 0                  & ⋯                  & 4.7150685          & 0                  & 4.7150685          & 0                  & NEW\\_adverse      & 0                  & 0                  & 1                  & 0.2356164          & 1                 \\\\\n",
       "\t PD10794a           & 1                  & 0                  & 0                  & 0                  & 0                  & 0                  & 0                  & 0                  & 0                  & ⋯                  & 5.6739726          & 0                  & 5.6739726          & 0                  & NEW\\_favorable    & 1                  & 0                  & 0                  & 0.2684932          & 1                 \\\\\n",
       "\t PD10795a           & 1                  & 0                  & 1                  & 0                  & 0                  & 0                  & 0                  & 0                  & 0                  & ⋯                  & 4.5095890          & 0                  & 4.5095890          & 0                  & NEW\\_intermediate & 0                  & 1                  & 0                  &        NA          & 0                 \\\\\n",
       "\t PD10796a           & 0                  & 1                  & 0                  & 0                  & 0                  & 0                  & 0                  & 0                  & 0                  & ⋯                  & 2.8520548          & 0                  & 2.8520548          & 0                  & NEW\\_favorable    & 1                  & 0                  & 0                  & 0.3671233          & 1                 \\\\\n",
       "\t PD10798a           & 1                  & 0                  & 0                  & 0                  & 0                  & 0                  & 0                  & 0                  & 0                  & ⋯                  & 4.4931507          & 1                  & 4.4931507          & 0                  & NEW\\_favorable    & 1                  & 0                  & 0                  & 2.7287671          & 1                 \\\\\n",
       "\\end{tabular}\n"
      ],
      "text/markdown": [
       "\n",
       "| Row.names | NPM1 | CEBPA_bi | ITD | ASXL1 | ATRX | BCOR | BRAF | CBL | CBLB | ⋯ | Death_in_Relapse | Death_in_Relapse_stat | Death_without | Death_without_stat | molecular_classification | NEW_favorable | NEW_intermediate | NEW_adverse | TPL_date | TPL_o |\n",
       "|---|---|---|---|---|---|---|---|---|---|---|---|---|---|---|---|---|---|---|---|---|\n",
       "| PD10790a         | 0                | 0                | 0                | 1                | 0                | 0                | 0                | 0                | 0                | ⋯                | 0.7589041        | 0                | 0.7589041        | 0                | NEW_intermediate | 0                | 1                | 0                | 0.2054795        | 1                |\n",
       "| PD10793a         | 0                | 0                | 0                | 0                | 0                | 0                | 0                | 0                | 0                | ⋯                | 4.7150685        | 0                | 4.7150685        | 0                | NEW_adverse      | 0                | 0                | 1                | 0.2356164        | 1                |\n",
       "| PD10794a         | 1                | 0                | 0                | 0                | 0                | 0                | 0                | 0                | 0                | ⋯                | 5.6739726        | 0                | 5.6739726        | 0                | NEW_favorable    | 1                | 0                | 0                | 0.2684932        | 1                |\n",
       "| PD10795a         | 1                | 0                | 1                | 0                | 0                | 0                | 0                | 0                | 0                | ⋯                | 4.5095890        | 0                | 4.5095890        | 0                | NEW_intermediate | 0                | 1                | 0                |        NA        | 0                |\n",
       "| PD10796a         | 0                | 1                | 0                | 0                | 0                | 0                | 0                | 0                | 0                | ⋯                | 2.8520548        | 0                | 2.8520548        | 0                | NEW_favorable    | 1                | 0                | 0                | 0.3671233        | 1                |\n",
       "| PD10798a         | 1                | 0                | 0                | 0                | 0                | 0                | 0                | 0                | 0                | ⋯                | 4.4931507        | 1                | 4.4931507        | 0                | NEW_favorable    | 1                | 0                | 0                | 2.7287671        | 1                |\n",
       "\n"
      ],
      "text/plain": [
       "  Row.names NPM1 CEBPA_bi ITD ASXL1 ATRX BCOR BRAF CBL CBLB ⋯ Death_in_Relapse\n",
       "1 PD10790a  0    0        0   1     0    0    0    0   0    ⋯ 0.7589041       \n",
       "2 PD10793a  0    0        0   0     0    0    0    0   0    ⋯ 4.7150685       \n",
       "3 PD10794a  1    0        0   0     0    0    0    0   0    ⋯ 5.6739726       \n",
       "4 PD10795a  1    0        1   0     0    0    0    0   0    ⋯ 4.5095890       \n",
       "5 PD10796a  0    1        0   0     0    0    0    0   0    ⋯ 2.8520548       \n",
       "6 PD10798a  1    0        0   0     0    0    0    0   0    ⋯ 4.4931507       \n",
       "  Death_in_Relapse_stat Death_without Death_without_stat\n",
       "1 0                     0.7589041     0                 \n",
       "2 0                     4.7150685     0                 \n",
       "3 0                     5.6739726     0                 \n",
       "4 0                     4.5095890     0                 \n",
       "5 0                     2.8520548     0                 \n",
       "6 1                     4.4931507     0                 \n",
       "  molecular_classification NEW_favorable NEW_intermediate NEW_adverse TPL_date \n",
       "1 NEW_intermediate         0             1                0           0.2054795\n",
       "2 NEW_adverse              0             0                1           0.2356164\n",
       "3 NEW_favorable            1             0                0           0.2684932\n",
       "4 NEW_intermediate         0             1                0                  NA\n",
       "5 NEW_favorable            1             0                0           0.3671233\n",
       "6 NEW_favorable            1             0                0           2.7287671\n",
       "  TPL_o\n",
       "1 1    \n",
       "2 1    \n",
       "3 1    \n",
       "4 0    \n",
       "5 1    \n",
       "6 1    "
      ]
     },
     "metadata": {},
     "output_type": "display_data"
    }
   ],
   "source": [
    "nejm_data_tpl <- merge(df_nejm,val_data[,c(\"TPL_date\",\"TPL_o\")],by=0)\n",
    "nejm_data_tpl$TPL_date <-as.numeric(nejm_data_tpl$TPL_date)/365\n",
    "head(nejm_data_tpl)"
   ]
  },
  {
   "cell_type": "code",
   "execution_count": 91,
   "metadata": {},
   "outputs": [
    {
     "data": {
      "text/html": [
       "179"
      ],
      "text/latex": [
       "179"
      ],
      "text/markdown": [
       "179"
      ],
      "text/plain": [
       "[1] 179"
      ]
     },
     "metadata": {},
     "output_type": "display_data"
    }
   ],
   "source": [
    "nrow(nejm_data_tpl[!is.na(nejm_data_tpl$TPL_date) &nejm_data_tpl$TPL_date>nejm_data_tpl$Relapse,c(\"OS\",\"CR\",\"Relapse\",\"TPL_date\",\"OS_stat\",\"Relapse_stat\",\"CR_stat\")])"
   ]
  },
  {
   "cell_type": "code",
   "execution_count": 130,
   "metadata": {},
   "outputs": [
    {
     "name": "stdout",
     "output_type": "stream",
     "text": [
      "[1] \"Total cases:\"\n"
     ]
    },
    {
     "data": {
      "text/html": [
       "647"
      ],
      "text/latex": [
       "647"
      ],
      "text/markdown": [
       "647"
      ],
      "text/plain": [
       "[1] 647"
      ]
     },
     "metadata": {},
     "output_type": "display_data"
    },
    {
     "name": "stdout",
     "output_type": "stream",
     "text": [
      "[1] \"Case 1 : CR before  transplant:\"\n"
     ]
    },
    {
     "data": {
      "text/html": [
       "521"
      ],
      "text/latex": [
       "521"
      ],
      "text/markdown": [
       "521"
      ],
      "text/plain": [
       "[1] 521"
      ]
     },
     "metadata": {},
     "output_type": "display_data"
    },
    {
     "name": "stdout",
     "output_type": "stream",
     "text": [
      "[1] \"Subcase1 : Transplant before Relapse:\"\n"
     ]
    },
    {
     "data": {
      "text/html": [
       "120"
      ],
      "text/latex": [
       "120"
      ],
      "text/markdown": [
       "120"
      ],
      "text/plain": [
       "[1] 120"
      ]
     },
     "metadata": {},
     "output_type": "display_data"
    },
    {
     "name": "stdout",
     "output_type": "stream",
     "text": [
      "[1] \"Subcase2 : Transplant after Relapse:\"\n"
     ]
    },
    {
     "data": {
      "text/html": [
       "179"
      ],
      "text/latex": [
       "179"
      ],
      "text/markdown": [
       "179"
      ],
      "text/plain": [
       "[1] 179"
      ]
     },
     "metadata": {},
     "output_type": "display_data"
    },
    {
     "name": "stdout",
     "output_type": "stream",
     "text": [
      "[1] \"Subcase3 : No Relapse:\"\n"
     ]
    },
    {
     "data": {
      "text/html": [
       "222"
      ],
      "text/latex": [
       "222"
      ],
      "text/markdown": [
       "222"
      ],
      "text/plain": [
       "[1] 222"
      ]
     },
     "metadata": {},
     "output_type": "display_data"
    },
    {
     "name": "stdout",
     "output_type": "stream",
     "text": [
      "[1] \"Case 2 : TrCR = transplant:\"\n"
     ]
    },
    {
     "data": {
      "text/html": [
       "<table>\n",
       "<thead><tr><th></th><th scope=col>OS</th><th scope=col>CR</th><th scope=col>Relapse</th><th scope=col>TPL_date</th><th scope=col>OS_stat</th><th scope=col>Relapse_stat</th><th scope=col>CR_stat</th></tr></thead>\n",
       "<tbody>\n",
       "\t<tr><th scope=row>154</th><td>0.6575342</td><td>0.2931507</td><td>0.6575342</td><td>0.2931507</td><td>1        </td><td>0        </td><td>1        </td></tr>\n",
       "\t<tr><th scope=row>174</th><td>0.4301370</td><td>0.1753425</td><td>0.4301370</td><td>0.1753425</td><td>1        </td><td>0        </td><td>1        </td></tr>\n",
       "\t<tr><th scope=row>232</th><td>2.7041096</td><td>0.4410959</td><td>1.4164384</td><td>0.4410959</td><td>1        </td><td>1        </td><td>1        </td></tr>\n",
       "\t<tr><th scope=row>1128</th><td>5.0109589</td><td>0.3479452</td><td>5.0109589</td><td>0.3479452</td><td>0        </td><td>0        </td><td>1        </td></tr>\n",
       "</tbody>\n",
       "</table>\n"
      ],
      "text/latex": [
       "\\begin{tabular}{r|lllllll}\n",
       "  & OS & CR & Relapse & TPL\\_date & OS\\_stat & Relapse\\_stat & CR\\_stat\\\\\n",
       "\\hline\n",
       "\t154 & 0.6575342 & 0.2931507 & 0.6575342 & 0.2931507 & 1         & 0         & 1        \\\\\n",
       "\t174 & 0.4301370 & 0.1753425 & 0.4301370 & 0.1753425 & 1         & 0         & 1        \\\\\n",
       "\t232 & 2.7041096 & 0.4410959 & 1.4164384 & 0.4410959 & 1         & 1         & 1        \\\\\n",
       "\t1128 & 5.0109589 & 0.3479452 & 5.0109589 & 0.3479452 & 0         & 0         & 1        \\\\\n",
       "\\end{tabular}\n"
      ],
      "text/markdown": [
       "\n",
       "| <!--/--> | OS | CR | Relapse | TPL_date | OS_stat | Relapse_stat | CR_stat |\n",
       "|---|---|---|---|---|---|---|---|\n",
       "| 154 | 0.6575342 | 0.2931507 | 0.6575342 | 0.2931507 | 1         | 0         | 1         |\n",
       "| 174 | 0.4301370 | 0.1753425 | 0.4301370 | 0.1753425 | 1         | 0         | 1         |\n",
       "| 232 | 2.7041096 | 0.4410959 | 1.4164384 | 0.4410959 | 1         | 1         | 1         |\n",
       "| 1128 | 5.0109589 | 0.3479452 | 5.0109589 | 0.3479452 | 0         | 0         | 1         |\n",
       "\n"
      ],
      "text/plain": [
       "     OS        CR        Relapse   TPL_date  OS_stat Relapse_stat CR_stat\n",
       "154  0.6575342 0.2931507 0.6575342 0.2931507 1       0            1      \n",
       "174  0.4301370 0.1753425 0.4301370 0.1753425 1       0            1      \n",
       "232  2.7041096 0.4410959 1.4164384 0.4410959 1       1            1      \n",
       "1128 5.0109589 0.3479452 5.0109589 0.3479452 0       0            1      "
      ]
     },
     "metadata": {},
     "output_type": "display_data"
    },
    {
     "name": "stdout",
     "output_type": "stream",
     "text": [
      "[1] \"Case 2 : Transplant before CR:\"\n"
     ]
    },
    {
     "data": {
      "text/html": [
       "92"
      ],
      "text/latex": [
       "92"
      ],
      "text/markdown": [
       "92"
      ],
      "text/plain": [
       "[1] 92"
      ]
     },
     "metadata": {},
     "output_type": "display_data"
    },
    {
     "name": "stdout",
     "output_type": "stream",
     "text": [
      "[1] \"Subcase 1: Relapse\"\n"
     ]
    },
    {
     "data": {
      "text/html": [
       "33"
      ],
      "text/latex": [
       "33"
      ],
      "text/markdown": [
       "33"
      ],
      "text/plain": [
       "[1] 33"
      ]
     },
     "metadata": {},
     "output_type": "display_data"
    },
    {
     "name": "stdout",
     "output_type": "stream",
     "text": [
      "[1] \"Subcase 2: No Relapse\"\n"
     ]
    },
    {
     "data": {
      "text/html": [
       "59"
      ],
      "text/latex": [
       "59"
      ],
      "text/markdown": [
       "59"
      ],
      "text/plain": [
       "[1] 59"
      ]
     },
     "metadata": {},
     "output_type": "display_data"
    }
   ],
   "source": [
    "print(\"Total cases:\")\n",
    "nrow(nejm_data_tpl[!is.na(nejm_data_tpl$TPL_date),])\n",
    "\n",
    "\n",
    "print(\"Case 1 : CR before  transplant:\")\n",
    "\n",
    "nrow(nejm_data_tpl[!is.na(nejm_data_tpl$TPL_date) & nejm_data_tpl$CR<nejm_data_tpl$TPL_date & nejm_data_tpl$CR_stat==1 ,])\n",
    "print(\"Subcase1 : Transplant before Relapse:\")\n",
    "nrow(nejm_data_tpl[!is.na(nejm_data_tpl$TPL_date) & nejm_data_tpl$CR<nejm_data_tpl$TPL_date & nejm_data_tpl$TPL_date<nejm_data_tpl$Relapse & nejm_data_tpl$Relapse_stat==1 ,])\n",
    "print(\"Subcase2 : Transplant after Relapse:\")\n",
    "nrow(nejm_data_tpl[!is.na(nejm_data_tpl$TPL_date) & nejm_data_tpl$CR<nejm_data_tpl$TPL_date & nejm_data_tpl$TPL_date>nejm_data_tpl$Relapse & nejm_data_tpl$Relapse_stat==1 ,])\n",
    "print(\"Subcase3 : No Relapse:\")\n",
    "nrow(nejm_data_tpl[!is.na(nejm_data_tpl$TPL_date) & nejm_data_tpl$CR<nejm_data_tpl$TPL_date & nejm_data_tpl$Relapse_stat==0 ,])\n",
    "\n",
    "print(\"Case 2 : TrCR = transplant:\")\n",
    "(nejm_data_tpl[!is.na(nejm_data_tpl$TPL_date) & nejm_data_tpl$CR==nejm_data_tpl$TPL_date  ,c(\"OS\",\"CR\",\"Relapse\",\"TPL_date\",\"OS_stat\",\"Relapse_stat\",\"CR_stat\")])\n",
    "\n",
    "print(\"Case 2 : Transplant before CR:\")\n",
    "nrow(nejm_data_tpl[!is.na(nejm_data_tpl$TPL_date) & nejm_data_tpl$TPL_date<nejm_data_tpl$CR & nejm_data_tpl$CR_stat==1 ,])\n",
    "print(\"Subcase 1: Relapse\")\n",
    "nrow(nejm_data_tpl[!is.na(nejm_data_tpl$TPL_date) & nejm_data_tpl$TPL_date<nejm_data_tpl$CR & nejm_data_tpl$CR_stat==1 & nejm_data_tpl$Relapse_stat==1 ,])\n",
    "print(\"Subcase 2: No Relapse\")\n",
    "nrow(nejm_data_tpl[!is.na(nejm_data_tpl$TPL_date) & nejm_data_tpl$TPL_date<nejm_data_tpl$CR & nejm_data_tpl$CR_stat==1 & nejm_data_tpl$Relapse_stat==0 ,])\n",
    "\n",
    "\n"
   ]
  },
  {
   "cell_type": "code",
   "execution_count": 57,
   "metadata": {},
   "outputs": [
    {
     "data": {
      "text/html": [
       "<table>\n",
       "<thead><tr><th></th><th scope=col>Time_1CR_TPL</th><th scope=col>TPL_date</th><th scope=col>CR_date</th><th scope=col>TPL_type</th><th scope=col>BaselineTherapy_</th><th scope=col>Post_Induction_Therapy_Remission</th></tr></thead>\n",
       "<tbody>\n",
       "\t<tr><th scope=row>PD10790a</th><td>NA                        </td><td> 75 days                  </td><td>179 days                  </td><td>FREMD                     </td><td>1                         </td><td>RD                        </td></tr>\n",
       "\t<tr><th scope=row>PD10803a</th><td>NA                        </td><td> 91 days                  </td><td>111 days                  </td><td>ALLO                      </td><td>1                         </td><td>RD                        </td></tr>\n",
       "\t<tr><th scope=row>PD10804a</th><td>NA                        </td><td>141 days                  </td><td>155 days                  </td><td>FREMD                     </td><td>1                         </td><td>RD                        </td></tr>\n",
       "\t<tr><th scope=row>PD10805a</th><td>NA                        </td><td> 68 days                  </td><td> 98 days                  </td><td>ALLO                      </td><td>1                         </td><td>RD                        </td></tr>\n",
       "\t<tr><th scope=row>PD10808a</th><td>NA                        </td><td>174 days                  </td><td>204 days                  </td><td>ALLO                      </td><td>1                         </td><td>RD                        </td></tr>\n",
       "\t<tr><th scope=row>PD10810a</th><td>NA                        </td><td> 96 days                  </td><td>124 days                  </td><td>FREMD                     </td><td>1                         </td><td>RD                        </td></tr>\n",
       "\t<tr><th scope=row>PD10814a</th><td>NA                        </td><td> 90 days                  </td><td>187 days                  </td><td>ALLO                      </td><td>1                         </td><td>RD                        </td></tr>\n",
       "\t<tr><th scope=row>PD10820a</th><td>NA                        </td><td>110 days                  </td><td>141 days                  </td><td>TPL_(Spenderart_unbekannt)</td><td>1                         </td><td>CR                        </td></tr>\n",
       "\t<tr><th scope=row>PD10821a</th><td>NA                        </td><td> 75 days                  </td><td>130 days                  </td><td>ALLO                      </td><td>1                         </td><td>RD                        </td></tr>\n",
       "\t<tr><th scope=row>PD10826a</th><td>NA                        </td><td> 70 days                  </td><td> 93 days                  </td><td>FREMD                     </td><td>1                         </td><td>RD                        </td></tr>\n",
       "\t<tr><th scope=row>PD10832a</th><td>NA                        </td><td>114 days                  </td><td>217 days                  </td><td>ALLO                      </td><td>1                         </td><td>RD                        </td></tr>\n",
       "\t<tr><th scope=row>PD10845a</th><td>NA                        </td><td>116 days                  </td><td>146 days                  </td><td>FREMD                     </td><td>1                         </td><td>RD                        </td></tr>\n",
       "\t<tr><th scope=row>PD10859a</th><td>NA                        </td><td> 69 days                  </td><td>167 days                  </td><td>ALLO                      </td><td>1                         </td><td>RD                        </td></tr>\n",
       "\t<tr><th scope=row>PD10869a</th><td>NA                        </td><td>104 days                  </td><td>172 days                  </td><td>FREMD                     </td><td>1                         </td><td>RD                        </td></tr>\n",
       "\t<tr><th scope=row>PD10875a</th><td>NA                        </td><td>119 days                  </td><td>146 days                  </td><td>FREMD                     </td><td>1                         </td><td>RD                        </td></tr>\n",
       "\t<tr><th scope=row>PD10882a</th><td>NA                        </td><td> 97 days                  </td><td>126 days                  </td><td>FREMD                     </td><td>1                         </td><td>RD                        </td></tr>\n",
       "\t<tr><th scope=row>PD10883a</th><td>NA                        </td><td>100 days                  </td><td>125 days                  </td><td>FREMD                     </td><td>1                         </td><td>RD                        </td></tr>\n",
       "\t<tr><th scope=row>PD10903a</th><td>NA                        </td><td>100 days                  </td><td>132 days                  </td><td>FREMD                     </td><td>1                         </td><td>RD                        </td></tr>\n",
       "\t<tr><th scope=row>PD10929a</th><td>NA                        </td><td>137 days                  </td><td>328 days                  </td><td>FREMD                     </td><td>1                         </td><td>RD                        </td></tr>\n",
       "\t<tr><th scope=row>PD10935a</th><td>NA                        </td><td>142 days                  </td><td>190 days                  </td><td>FREMD                     </td><td>1                         </td><td>RD                        </td></tr>\n",
       "\t<tr><th scope=row>PD10949a</th><td>NA                        </td><td>190 days                  </td><td>342 days                  </td><td>ALLO                      </td><td>1                         </td><td>RD                        </td></tr>\n",
       "\t<tr><th scope=row>PD10958a</th><td>NA                        </td><td> 72 days                  </td><td>114 days                  </td><td>ALLO                      </td><td>1                         </td><td>RD                        </td></tr>\n",
       "\t<tr><th scope=row>PD10964a</th><td>NA                        </td><td>111 days                  </td><td>125 days                  </td><td>ALLO                      </td><td>1                         </td><td>RD                        </td></tr>\n",
       "\t<tr><th scope=row>PD10969a</th><td>NA                        </td><td>179 days                  </td><td>208 days                  </td><td>ALLO                      </td><td>1                         </td><td>RD                        </td></tr>\n",
       "\t<tr><th scope=row>PD10970a</th><td>NA                        </td><td> 59 days                  </td><td>233 days                  </td><td>FREMD                     </td><td>1                         </td><td>RD                        </td></tr>\n",
       "\t<tr><th scope=row>PD10972a</th><td>NA                        </td><td> 99 days                  </td><td>143 days                  </td><td>FREMD                     </td><td>1                         </td><td>RD                        </td></tr>\n",
       "\t<tr><th scope=row>PD11004a</th><td>NA                        </td><td> 69 days                  </td><td> 96 days                  </td><td>ALLO                      </td><td>1                         </td><td>RD                        </td></tr>\n",
       "\t<tr><th scope=row>PD11047a</th><td>NA                        </td><td> 77 days                  </td><td>105 days                  </td><td>ALLO                      </td><td>1                         </td><td>RD                        </td></tr>\n",
       "\t<tr><th scope=row>PD11062a</th><td>NA                        </td><td> 88 days                  </td><td>109 days                  </td><td>ALLO                      </td><td>1                         </td><td>RD                        </td></tr>\n",
       "\t<tr><th scope=row>PD11064a</th><td>NA                        </td><td>179 days                  </td><td>232 days                  </td><td>FREMD                     </td><td>1                         </td><td>RD                        </td></tr>\n",
       "\t<tr><th scope=row>⋮</th><td>⋮</td><td>⋮</td><td>⋮</td><td>⋮</td><td>⋮</td><td>⋮</td></tr>\n",
       "\t<tr><th scope=row>PD8547a</th><td>NA      </td><td> 73 days</td><td>162 days</td><td>ALLO    </td><td>1       </td><td>RD      </td></tr>\n",
       "\t<tr><th scope=row>PD8554a</th><td>NA      </td><td> 97 days</td><td>112 days</td><td>ALLO    </td><td>1       </td><td>RD      </td></tr>\n",
       "\t<tr><th scope=row>PD8558a</th><td>NA      </td><td>167 days</td><td>179 days</td><td>FREMD   </td><td>1       </td><td>RD      </td></tr>\n",
       "\t<tr><th scope=row>PD8569a</th><td>NA      </td><td>111 days</td><td>191 days</td><td>FREMD   </td><td>1       </td><td>RD      </td></tr>\n",
       "\t<tr><th scope=row>PD8575a</th><td>NA      </td><td> 92 days</td><td>113 days</td><td>FREMD   </td><td>1       </td><td>RD      </td></tr>\n",
       "\t<tr><th scope=row>PD8582a</th><td>NA      </td><td>129 days</td><td>160 days</td><td>FREMD   </td><td>1       </td><td>RD      </td></tr>\n",
       "\t<tr><th scope=row>PD8583a</th><td>NA      </td><td> 57 days</td><td> 90 days</td><td>AUTO    </td><td>1       </td><td>CR      </td></tr>\n",
       "\t<tr><th scope=row>PD9205a</th><td>NA      </td><td> 89 days</td><td>136 days</td><td>FREMD   </td><td>1       </td><td>RD      </td></tr>\n",
       "\t<tr><th scope=row>PD9224a</th><td>NA      </td><td>140 days</td><td>172 days</td><td>FREMD   </td><td>1       </td><td>RD      </td></tr>\n",
       "\t<tr><th scope=row>PD9235a</th><td>NA      </td><td>100 days</td><td>134 days</td><td>ALLO    </td><td>1       </td><td>RD      </td></tr>\n",
       "\t<tr><th scope=row>PD9243a</th><td>NA      </td><td>180 days</td><td>211 days</td><td>FREMD   </td><td>1       </td><td>RD      </td></tr>\n",
       "\t<tr><th scope=row>PD9246a</th><td>NA      </td><td> 40 days</td><td> 55 days</td><td>ALLO    </td><td>1       </td><td>RD      </td></tr>\n",
       "\t<tr><th scope=row>PD9248a</th><td>NA      </td><td> 63 days</td><td> 85 days</td><td>ALLO    </td><td>1       </td><td>RD      </td></tr>\n",
       "\t<tr><th scope=row>PD9251a</th><td>NA      </td><td> 82 days</td><td>119 days</td><td>FREMD   </td><td>1       </td><td>RD      </td></tr>\n",
       "\t<tr><th scope=row>PD9253a</th><td>NA      </td><td> 30 days</td><td> 56 days</td><td>ALLO    </td><td>1       </td><td>RD      </td></tr>\n",
       "\t<tr><th scope=row>PD9260a</th><td>NA      </td><td> 69 days</td><td>167 days</td><td>FREMD   </td><td>1       </td><td>RD      </td></tr>\n",
       "\t<tr><th scope=row>PD9269a</th><td>NA      </td><td>122 days</td><td>279 days</td><td>FREMD   </td><td>1       </td><td>RD      </td></tr>\n",
       "\t<tr><th scope=row>PD9283a</th><td>NA      </td><td> 65 days</td><td> 82 days</td><td>FREMD   </td><td>1       </td><td>RD      </td></tr>\n",
       "\t<tr><th scope=row>PD9312a</th><td>NA      </td><td> 43 days</td><td> 65 days</td><td>ALLO    </td><td>1       </td><td>RD      </td></tr>\n",
       "\t<tr><th scope=row>PD9314a</th><td>NA      </td><td>166 days</td><td>184 days</td><td>FREMD   </td><td>1       </td><td>RD      </td></tr>\n",
       "\t<tr><th scope=row>PD9318a</th><td>NA      </td><td> 96 days</td><td>187 days</td><td>ALLO    </td><td>1       </td><td>RD      </td></tr>\n",
       "\t<tr><th scope=row>PD9319a</th><td>NA      </td><td> 98 days</td><td>133 days</td><td>FREMD   </td><td>1       </td><td>RD      </td></tr>\n",
       "\t<tr><th scope=row>PD9331a</th><td>NA      </td><td>133 days</td><td>233 days</td><td>FREMD   </td><td>1       </td><td>RD      </td></tr>\n",
       "\t<tr><th scope=row>PD9337a</th><td>NA      </td><td> 84 days</td><td>201 days</td><td>FREMD   </td><td>1       </td><td>RD      </td></tr>\n",
       "\t<tr><th scope=row>PD9343a</th><td>NA      </td><td> 90 days</td><td>153 days</td><td>FREMD   </td><td>1       </td><td>RD      </td></tr>\n",
       "\t<tr><th scope=row>PD9345a</th><td>NA      </td><td> 87 days</td><td>169 days</td><td>FREMD   </td><td>1       </td><td>RD      </td></tr>\n",
       "\t<tr><th scope=row>PD9364a</th><td>NA      </td><td> 87 days</td><td>123 days</td><td>ALLO    </td><td>1       </td><td>RD      </td></tr>\n",
       "\t<tr><th scope=row>PD9369a</th><td>NA      </td><td> 91 days</td><td>113 days</td><td>FREMD   </td><td>1       </td><td>RD      </td></tr>\n",
       "\t<tr><th scope=row>PD9372a</th><td>NA      </td><td>129 days</td><td>324 days</td><td>ALLO    </td><td>1       </td><td>RD      </td></tr>\n",
       "\t<tr><th scope=row>PD9386a</th><td>NA      </td><td> 47 days</td><td> 76 days</td><td>FREMD   </td><td>1       </td><td>RD      </td></tr>\n",
       "</tbody>\n",
       "</table>\n"
      ],
      "text/latex": [
       "\\begin{tabular}{r|llllll}\n",
       "  & Time\\_1CR\\_TPL & TPL\\_date & CR\\_date & TPL\\_type & BaselineTherapy\\_ & Post\\_Induction\\_Therapy\\_Remission\\\\\n",
       "\\hline\n",
       "\tPD10790a & NA                         &  75 days                   & 179 days                   & FREMD                      & 1                          & RD                        \\\\\n",
       "\tPD10803a & NA                         &  91 days                   & 111 days                   & ALLO                       & 1                          & RD                        \\\\\n",
       "\tPD10804a & NA                         & 141 days                   & 155 days                   & FREMD                      & 1                          & RD                        \\\\\n",
       "\tPD10805a & NA                         &  68 days                   &  98 days                   & ALLO                       & 1                          & RD                        \\\\\n",
       "\tPD10808a & NA                         & 174 days                   & 204 days                   & ALLO                       & 1                          & RD                        \\\\\n",
       "\tPD10810a & NA                         &  96 days                   & 124 days                   & FREMD                      & 1                          & RD                        \\\\\n",
       "\tPD10814a & NA                         &  90 days                   & 187 days                   & ALLO                       & 1                          & RD                        \\\\\n",
       "\tPD10820a & NA                             & 110 days                       & 141 days                       & TPL\\_(Spenderart\\_unbekannt) & 1                              & CR                            \\\\\n",
       "\tPD10821a & NA                         &  75 days                   & 130 days                   & ALLO                       & 1                          & RD                        \\\\\n",
       "\tPD10826a & NA                         &  70 days                   &  93 days                   & FREMD                      & 1                          & RD                        \\\\\n",
       "\tPD10832a & NA                         & 114 days                   & 217 days                   & ALLO                       & 1                          & RD                        \\\\\n",
       "\tPD10845a & NA                         & 116 days                   & 146 days                   & FREMD                      & 1                          & RD                        \\\\\n",
       "\tPD10859a & NA                         &  69 days                   & 167 days                   & ALLO                       & 1                          & RD                        \\\\\n",
       "\tPD10869a & NA                         & 104 days                   & 172 days                   & FREMD                      & 1                          & RD                        \\\\\n",
       "\tPD10875a & NA                         & 119 days                   & 146 days                   & FREMD                      & 1                          & RD                        \\\\\n",
       "\tPD10882a & NA                         &  97 days                   & 126 days                   & FREMD                      & 1                          & RD                        \\\\\n",
       "\tPD10883a & NA                         & 100 days                   & 125 days                   & FREMD                      & 1                          & RD                        \\\\\n",
       "\tPD10903a & NA                         & 100 days                   & 132 days                   & FREMD                      & 1                          & RD                        \\\\\n",
       "\tPD10929a & NA                         & 137 days                   & 328 days                   & FREMD                      & 1                          & RD                        \\\\\n",
       "\tPD10935a & NA                         & 142 days                   & 190 days                   & FREMD                      & 1                          & RD                        \\\\\n",
       "\tPD10949a & NA                         & 190 days                   & 342 days                   & ALLO                       & 1                          & RD                        \\\\\n",
       "\tPD10958a & NA                         &  72 days                   & 114 days                   & ALLO                       & 1                          & RD                        \\\\\n",
       "\tPD10964a & NA                         & 111 days                   & 125 days                   & ALLO                       & 1                          & RD                        \\\\\n",
       "\tPD10969a & NA                         & 179 days                   & 208 days                   & ALLO                       & 1                          & RD                        \\\\\n",
       "\tPD10970a & NA                         &  59 days                   & 233 days                   & FREMD                      & 1                          & RD                        \\\\\n",
       "\tPD10972a & NA                         &  99 days                   & 143 days                   & FREMD                      & 1                          & RD                        \\\\\n",
       "\tPD11004a & NA                         &  69 days                   &  96 days                   & ALLO                       & 1                          & RD                        \\\\\n",
       "\tPD11047a & NA                         &  77 days                   & 105 days                   & ALLO                       & 1                          & RD                        \\\\\n",
       "\tPD11062a & NA                         &  88 days                   & 109 days                   & ALLO                       & 1                          & RD                        \\\\\n",
       "\tPD11064a & NA                         & 179 days                   & 232 days                   & FREMD                      & 1                          & RD                        \\\\\n",
       "\t⋮ & ⋮ & ⋮ & ⋮ & ⋮ & ⋮ & ⋮\\\\\n",
       "\tPD8547a & NA       &  73 days & 162 days & ALLO     & 1        & RD      \\\\\n",
       "\tPD8554a & NA       &  97 days & 112 days & ALLO     & 1        & RD      \\\\\n",
       "\tPD8558a & NA       & 167 days & 179 days & FREMD    & 1        & RD      \\\\\n",
       "\tPD8569a & NA       & 111 days & 191 days & FREMD    & 1        & RD      \\\\\n",
       "\tPD8575a & NA       &  92 days & 113 days & FREMD    & 1        & RD      \\\\\n",
       "\tPD8582a & NA       & 129 days & 160 days & FREMD    & 1        & RD      \\\\\n",
       "\tPD8583a & NA       &  57 days &  90 days & AUTO     & 1        & CR      \\\\\n",
       "\tPD9205a & NA       &  89 days & 136 days & FREMD    & 1        & RD      \\\\\n",
       "\tPD9224a & NA       & 140 days & 172 days & FREMD    & 1        & RD      \\\\\n",
       "\tPD9235a & NA       & 100 days & 134 days & ALLO     & 1        & RD      \\\\\n",
       "\tPD9243a & NA       & 180 days & 211 days & FREMD    & 1        & RD      \\\\\n",
       "\tPD9246a & NA       &  40 days &  55 days & ALLO     & 1        & RD      \\\\\n",
       "\tPD9248a & NA       &  63 days &  85 days & ALLO     & 1        & RD      \\\\\n",
       "\tPD9251a & NA       &  82 days & 119 days & FREMD    & 1        & RD      \\\\\n",
       "\tPD9253a & NA       &  30 days &  56 days & ALLO     & 1        & RD      \\\\\n",
       "\tPD9260a & NA       &  69 days & 167 days & FREMD    & 1        & RD      \\\\\n",
       "\tPD9269a & NA       & 122 days & 279 days & FREMD    & 1        & RD      \\\\\n",
       "\tPD9283a & NA       &  65 days &  82 days & FREMD    & 1        & RD      \\\\\n",
       "\tPD9312a & NA       &  43 days &  65 days & ALLO     & 1        & RD      \\\\\n",
       "\tPD9314a & NA       & 166 days & 184 days & FREMD    & 1        & RD      \\\\\n",
       "\tPD9318a & NA       &  96 days & 187 days & ALLO     & 1        & RD      \\\\\n",
       "\tPD9319a & NA       &  98 days & 133 days & FREMD    & 1        & RD      \\\\\n",
       "\tPD9331a & NA       & 133 days & 233 days & FREMD    & 1        & RD      \\\\\n",
       "\tPD9337a & NA       &  84 days & 201 days & FREMD    & 1        & RD      \\\\\n",
       "\tPD9343a & NA       &  90 days & 153 days & FREMD    & 1        & RD      \\\\\n",
       "\tPD9345a & NA       &  87 days & 169 days & FREMD    & 1        & RD      \\\\\n",
       "\tPD9364a & NA       &  87 days & 123 days & ALLO     & 1        & RD      \\\\\n",
       "\tPD9369a & NA       &  91 days & 113 days & FREMD    & 1        & RD      \\\\\n",
       "\tPD9372a & NA       & 129 days & 324 days & ALLO     & 1        & RD      \\\\\n",
       "\tPD9386a & NA       &  47 days &  76 days & FREMD    & 1        & RD      \\\\\n",
       "\\end{tabular}\n"
      ],
      "text/markdown": [
       "\n",
       "| <!--/--> | Time_1CR_TPL | TPL_date | CR_date | TPL_type | BaselineTherapy_ | Post_Induction_Therapy_Remission |\n",
       "|---|---|---|---|---|---|---|\n",
       "| PD10790a | NA                         |  75 days                   | 179 days                   | FREMD                      | 1                          | RD                         |\n",
       "| PD10803a | NA                         |  91 days                   | 111 days                   | ALLO                       | 1                          | RD                         |\n",
       "| PD10804a | NA                         | 141 days                   | 155 days                   | FREMD                      | 1                          | RD                         |\n",
       "| PD10805a | NA                         |  68 days                   |  98 days                   | ALLO                       | 1                          | RD                         |\n",
       "| PD10808a | NA                         | 174 days                   | 204 days                   | ALLO                       | 1                          | RD                         |\n",
       "| PD10810a | NA                         |  96 days                   | 124 days                   | FREMD                      | 1                          | RD                         |\n",
       "| PD10814a | NA                         |  90 days                   | 187 days                   | ALLO                       | 1                          | RD                         |\n",
       "| PD10820a | NA                         | 110 days                   | 141 days                   | TPL_(Spenderart_unbekannt) | 1                          | CR                         |\n",
       "| PD10821a | NA                         |  75 days                   | 130 days                   | ALLO                       | 1                          | RD                         |\n",
       "| PD10826a | NA                         |  70 days                   |  93 days                   | FREMD                      | 1                          | RD                         |\n",
       "| PD10832a | NA                         | 114 days                   | 217 days                   | ALLO                       | 1                          | RD                         |\n",
       "| PD10845a | NA                         | 116 days                   | 146 days                   | FREMD                      | 1                          | RD                         |\n",
       "| PD10859a | NA                         |  69 days                   | 167 days                   | ALLO                       | 1                          | RD                         |\n",
       "| PD10869a | NA                         | 104 days                   | 172 days                   | FREMD                      | 1                          | RD                         |\n",
       "| PD10875a | NA                         | 119 days                   | 146 days                   | FREMD                      | 1                          | RD                         |\n",
       "| PD10882a | NA                         |  97 days                   | 126 days                   | FREMD                      | 1                          | RD                         |\n",
       "| PD10883a | NA                         | 100 days                   | 125 days                   | FREMD                      | 1                          | RD                         |\n",
       "| PD10903a | NA                         | 100 days                   | 132 days                   | FREMD                      | 1                          | RD                         |\n",
       "| PD10929a | NA                         | 137 days                   | 328 days                   | FREMD                      | 1                          | RD                         |\n",
       "| PD10935a | NA                         | 142 days                   | 190 days                   | FREMD                      | 1                          | RD                         |\n",
       "| PD10949a | NA                         | 190 days                   | 342 days                   | ALLO                       | 1                          | RD                         |\n",
       "| PD10958a | NA                         |  72 days                   | 114 days                   | ALLO                       | 1                          | RD                         |\n",
       "| PD10964a | NA                         | 111 days                   | 125 days                   | ALLO                       | 1                          | RD                         |\n",
       "| PD10969a | NA                         | 179 days                   | 208 days                   | ALLO                       | 1                          | RD                         |\n",
       "| PD10970a | NA                         |  59 days                   | 233 days                   | FREMD                      | 1                          | RD                         |\n",
       "| PD10972a | NA                         |  99 days                   | 143 days                   | FREMD                      | 1                          | RD                         |\n",
       "| PD11004a | NA                         |  69 days                   |  96 days                   | ALLO                       | 1                          | RD                         |\n",
       "| PD11047a | NA                         |  77 days                   | 105 days                   | ALLO                       | 1                          | RD                         |\n",
       "| PD11062a | NA                         |  88 days                   | 109 days                   | ALLO                       | 1                          | RD                         |\n",
       "| PD11064a | NA                         | 179 days                   | 232 days                   | FREMD                      | 1                          | RD                         |\n",
       "| ⋮ | ⋮ | ⋮ | ⋮ | ⋮ | ⋮ | ⋮ |\n",
       "| PD8547a | NA       |  73 days | 162 days | ALLO     | 1        | RD       |\n",
       "| PD8554a | NA       |  97 days | 112 days | ALLO     | 1        | RD       |\n",
       "| PD8558a | NA       | 167 days | 179 days | FREMD    | 1        | RD       |\n",
       "| PD8569a | NA       | 111 days | 191 days | FREMD    | 1        | RD       |\n",
       "| PD8575a | NA       |  92 days | 113 days | FREMD    | 1        | RD       |\n",
       "| PD8582a | NA       | 129 days | 160 days | FREMD    | 1        | RD       |\n",
       "| PD8583a | NA       |  57 days |  90 days | AUTO     | 1        | CR       |\n",
       "| PD9205a | NA       |  89 days | 136 days | FREMD    | 1        | RD       |\n",
       "| PD9224a | NA       | 140 days | 172 days | FREMD    | 1        | RD       |\n",
       "| PD9235a | NA       | 100 days | 134 days | ALLO     | 1        | RD       |\n",
       "| PD9243a | NA       | 180 days | 211 days | FREMD    | 1        | RD       |\n",
       "| PD9246a | NA       |  40 days |  55 days | ALLO     | 1        | RD       |\n",
       "| PD9248a | NA       |  63 days |  85 days | ALLO     | 1        | RD       |\n",
       "| PD9251a | NA       |  82 days | 119 days | FREMD    | 1        | RD       |\n",
       "| PD9253a | NA       |  30 days |  56 days | ALLO     | 1        | RD       |\n",
       "| PD9260a | NA       |  69 days | 167 days | FREMD    | 1        | RD       |\n",
       "| PD9269a | NA       | 122 days | 279 days | FREMD    | 1        | RD       |\n",
       "| PD9283a | NA       |  65 days |  82 days | FREMD    | 1        | RD       |\n",
       "| PD9312a | NA       |  43 days |  65 days | ALLO     | 1        | RD       |\n",
       "| PD9314a | NA       | 166 days | 184 days | FREMD    | 1        | RD       |\n",
       "| PD9318a | NA       |  96 days | 187 days | ALLO     | 1        | RD       |\n",
       "| PD9319a | NA       |  98 days | 133 days | FREMD    | 1        | RD       |\n",
       "| PD9331a | NA       | 133 days | 233 days | FREMD    | 1        | RD       |\n",
       "| PD9337a | NA       |  84 days | 201 days | FREMD    | 1        | RD       |\n",
       "| PD9343a | NA       |  90 days | 153 days | FREMD    | 1        | RD       |\n",
       "| PD9345a | NA       |  87 days | 169 days | FREMD    | 1        | RD       |\n",
       "| PD9364a | NA       |  87 days | 123 days | ALLO     | 1        | RD       |\n",
       "| PD9369a | NA       |  91 days | 113 days | FREMD    | 1        | RD       |\n",
       "| PD9372a | NA       | 129 days | 324 days | ALLO     | 1        | RD       |\n",
       "| PD9386a | NA       |  47 days |  76 days | FREMD    | 1        | RD       |\n",
       "\n"
      ],
      "text/plain": [
       "         Time_1CR_TPL TPL_date CR_date  TPL_type                  \n",
       "PD10790a NA            75 days 179 days FREMD                     \n",
       "PD10803a NA            91 days 111 days ALLO                      \n",
       "PD10804a NA           141 days 155 days FREMD                     \n",
       "PD10805a NA            68 days  98 days ALLO                      \n",
       "PD10808a NA           174 days 204 days ALLO                      \n",
       "PD10810a NA            96 days 124 days FREMD                     \n",
       "PD10814a NA            90 days 187 days ALLO                      \n",
       "PD10820a NA           110 days 141 days TPL_(Spenderart_unbekannt)\n",
       "PD10821a NA            75 days 130 days ALLO                      \n",
       "PD10826a NA            70 days  93 days FREMD                     \n",
       "PD10832a NA           114 days 217 days ALLO                      \n",
       "PD10845a NA           116 days 146 days FREMD                     \n",
       "PD10859a NA            69 days 167 days ALLO                      \n",
       "PD10869a NA           104 days 172 days FREMD                     \n",
       "PD10875a NA           119 days 146 days FREMD                     \n",
       "PD10882a NA            97 days 126 days FREMD                     \n",
       "PD10883a NA           100 days 125 days FREMD                     \n",
       "PD10903a NA           100 days 132 days FREMD                     \n",
       "PD10929a NA           137 days 328 days FREMD                     \n",
       "PD10935a NA           142 days 190 days FREMD                     \n",
       "PD10949a NA           190 days 342 days ALLO                      \n",
       "PD10958a NA            72 days 114 days ALLO                      \n",
       "PD10964a NA           111 days 125 days ALLO                      \n",
       "PD10969a NA           179 days 208 days ALLO                      \n",
       "PD10970a NA            59 days 233 days FREMD                     \n",
       "PD10972a NA            99 days 143 days FREMD                     \n",
       "PD11004a NA            69 days  96 days ALLO                      \n",
       "PD11047a NA            77 days 105 days ALLO                      \n",
       "PD11062a NA            88 days 109 days ALLO                      \n",
       "PD11064a NA           179 days 232 days FREMD                     \n",
       "⋮        ⋮            ⋮        ⋮        ⋮                         \n",
       "PD8547a  NA            73 days 162 days ALLO                      \n",
       "PD8554a  NA            97 days 112 days ALLO                      \n",
       "PD8558a  NA           167 days 179 days FREMD                     \n",
       "PD8569a  NA           111 days 191 days FREMD                     \n",
       "PD8575a  NA            92 days 113 days FREMD                     \n",
       "PD8582a  NA           129 days 160 days FREMD                     \n",
       "PD8583a  NA            57 days  90 days AUTO                      \n",
       "PD9205a  NA            89 days 136 days FREMD                     \n",
       "PD9224a  NA           140 days 172 days FREMD                     \n",
       "PD9235a  NA           100 days 134 days ALLO                      \n",
       "PD9243a  NA           180 days 211 days FREMD                     \n",
       "PD9246a  NA            40 days  55 days ALLO                      \n",
       "PD9248a  NA            63 days  85 days ALLO                      \n",
       "PD9251a  NA            82 days 119 days FREMD                     \n",
       "PD9253a  NA            30 days  56 days ALLO                      \n",
       "PD9260a  NA            69 days 167 days FREMD                     \n",
       "PD9269a  NA           122 days 279 days FREMD                     \n",
       "PD9283a  NA            65 days  82 days FREMD                     \n",
       "PD9312a  NA            43 days  65 days ALLO                      \n",
       "PD9314a  NA           166 days 184 days FREMD                     \n",
       "PD9318a  NA            96 days 187 days ALLO                      \n",
       "PD9319a  NA            98 days 133 days FREMD                     \n",
       "PD9331a  NA           133 days 233 days FREMD                     \n",
       "PD9337a  NA            84 days 201 days FREMD                     \n",
       "PD9343a  NA            90 days 153 days FREMD                     \n",
       "PD9345a  NA            87 days 169 days FREMD                     \n",
       "PD9364a  NA            87 days 123 days ALLO                      \n",
       "PD9369a  NA            91 days 113 days FREMD                     \n",
       "PD9372a  NA           129 days 324 days ALLO                      \n",
       "PD9386a  NA            47 days  76 days FREMD                     \n",
       "         BaselineTherapy_ Post_Induction_Therapy_Remission\n",
       "PD10790a 1                RD                              \n",
       "PD10803a 1                RD                              \n",
       "PD10804a 1                RD                              \n",
       "PD10805a 1                RD                              \n",
       "PD10808a 1                RD                              \n",
       "PD10810a 1                RD                              \n",
       "PD10814a 1                RD                              \n",
       "PD10820a 1                CR                              \n",
       "PD10821a 1                RD                              \n",
       "PD10826a 1                RD                              \n",
       "PD10832a 1                RD                              \n",
       "PD10845a 1                RD                              \n",
       "PD10859a 1                RD                              \n",
       "PD10869a 1                RD                              \n",
       "PD10875a 1                RD                              \n",
       "PD10882a 1                RD                              \n",
       "PD10883a 1                RD                              \n",
       "PD10903a 1                RD                              \n",
       "PD10929a 1                RD                              \n",
       "PD10935a 1                RD                              \n",
       "PD10949a 1                RD                              \n",
       "PD10958a 1                RD                              \n",
       "PD10964a 1                RD                              \n",
       "PD10969a 1                RD                              \n",
       "PD10970a 1                RD                              \n",
       "PD10972a 1                RD                              \n",
       "PD11004a 1                RD                              \n",
       "PD11047a 1                RD                              \n",
       "PD11062a 1                RD                              \n",
       "PD11064a 1                RD                              \n",
       "⋮        ⋮                ⋮                               \n",
       "PD8547a  1                RD                              \n",
       "PD8554a  1                RD                              \n",
       "PD8558a  1                RD                              \n",
       "PD8569a  1                RD                              \n",
       "PD8575a  1                RD                              \n",
       "PD8582a  1                RD                              \n",
       "PD8583a  1                CR                              \n",
       "PD9205a  1                RD                              \n",
       "PD9224a  1                RD                              \n",
       "PD9235a  1                RD                              \n",
       "PD9243a  1                RD                              \n",
       "PD9246a  1                RD                              \n",
       "PD9248a  1                RD                              \n",
       "PD9251a  1                RD                              \n",
       "PD9253a  1                RD                              \n",
       "PD9260a  1                RD                              \n",
       "PD9269a  1                RD                              \n",
       "PD9283a  1                RD                              \n",
       "PD9312a  1                RD                              \n",
       "PD9314a  1                RD                              \n",
       "PD9318a  1                RD                              \n",
       "PD9319a  1                RD                              \n",
       "PD9331a  1                RD                              \n",
       "PD9337a  1                RD                              \n",
       "PD9343a  1                RD                              \n",
       "PD9345a  1                RD                              \n",
       "PD9364a  1                RD                              \n",
       "PD9369a  1                RD                              \n",
       "PD9372a  1                RD                              \n",
       "PD9386a  1                RD                              "
      ]
     },
     "metadata": {},
     "output_type": "display_data"
    },
    {
     "data": {
      "text/html": [
       "&lt;NA&gt;"
      ],
      "text/latex": [
       "<NA>"
      ],
      "text/markdown": [
       "&lt;NA&gt;"
      ],
      "text/plain": [
       "[1] NA"
      ]
     },
     "metadata": {},
     "output_type": "display_data"
    }
   ],
   "source": [
    "val_data[which(val_data$TPL_date<val_data$CR_date),c(\"Time_1CR_TPL\",\"TPL_date\",\"CR_date\",\"TPL_type\",\"BaselineTherapy_\",\"Post_Induction_Therapy_Remission\")]\n",
    "\n",
    "unique(val_data[which(val_data$TPL_date<val_data$CR_date),c(\"Time_1CR_TPL\")])\n",
    "\n"
   ]
  },
  {
   "cell_type": "code",
   "execution_count": 39,
   "metadata": {},
   "outputs": [
    {
     "data": {
      "text/html": [
       "<ol class=list-inline>\n",
       "\t<li>'Study'</li>\n",
       "\t<li>'PDID'</li>\n",
       "\t<li>'WHOcat'</li>\n",
       "\t<li>'TypeAML'</li>\n",
       "\t<li>'Type2'</li>\n",
       "\t<li>'C_Risk'</li>\n",
       "\t<li>'M_Risk'</li>\n",
       "\t<li>'NK'</li>\n",
       "\t<li>'AOD'</li>\n",
       "\t<li>'Center'</li>\n",
       "\t<li>'ERDate'</li>\n",
       "\t<li>'Intergroup'</li>\n",
       "\t<li>'Study1'</li>\n",
       "\t<li>'BaselineTherapy_'</li>\n",
       "\t<li>'VPA'</li>\n",
       "\t<li>'ATRA_arm'</li>\n",
       "\t<li>'TPL_o'</li>\n",
       "\t<li>'TPL_type'</li>\n",
       "\t<li>'Date_LF'</li>\n",
       "\t<li>'TPL_Art'</li>\n",
       "\t<li>'CR_date'</li>\n",
       "\t<li>'Recurrence_date'</li>\n",
       "\t<li>'TPL_date'</li>\n",
       "\t<li>'TPL_Phase'</li>\n",
       "\t<li>'Time_Diag_TPL'</li>\n",
       "\t<li>'Time_1CR_TPL'</li>\n",
       "\t<li>'Family_donnor'</li>\n",
       "\t<li>'Post_Induction_Therapy_Remission'</li>\n",
       "\t<li>'Status'</li>\n",
       "\t<li>'OS'</li>\n",
       "\t<li>'EFSSTAT'</li>\n",
       "\t<li>'ereignart'</li>\n",
       "\t<li>'efs'</li>\n",
       "\t<li>'rfsstat'</li>\n",
       "\t<li>'rfs'</li>\n",
       "\t<li>'cuminc'</li>\n",
       "\t<li>'rfsstat_allo'</li>\n",
       "\t<li>'rfs_allo'</li>\n",
       "\t<li>'cuminc_allo'</li>\n",
       "\t<li>'HB'</li>\n",
       "\t<li>'platelet'</li>\n",
       "\t<li>'wbc'</li>\n",
       "\t<li>'LDH'</li>\n",
       "\t<li>'gender'</li>\n",
       "\t<li>'BM_Blasts'</li>\n",
       "\t<li>'Performance_ECOG'</li>\n",
       "\t<li>'PB_Blasts'</li>\n",
       "\t<li>'Splenomegaly'</li>\n",
       "\t<li>'MLL_PTD'</li>\n",
       "\t<li>'inv3_t3_3'</li>\n",
       "\t<li>'t_9_22'</li>\n",
       "\t<li>'minus5_5q'</li>\n",
       "\t<li>'minus7'</li>\n",
       "\t<li>'minus7q'</li>\n",
       "\t<li>'abn7other'</li>\n",
       "\t<li>'plus8_8q'</li>\n",
       "\t<li>'minus9q'</li>\n",
       "\t<li>'mono12_12p_abn12p'</li>\n",
       "\t<li>'plus13'</li>\n",
       "\t<li>'mono17_17p_abn17p'</li>\n",
       "\t<li>'minus18_18q'</li>\n",
       "\t<li>'minus20_20q'</li>\n",
       "\t<li>'plus21'</li>\n",
       "\t<li>'plus22'</li>\n",
       "\t<li>'minusY'</li>\n",
       "\t<li>'t_15_17'</li>\n",
       "\t<li>'t_8_21'</li>\n",
       "\t<li>'inv16_t16_16'</li>\n",
       "\t<li>'t_6_9'</li>\n",
       "\t<li>'abn3q_other'</li>\n",
       "\t<li>'plus11_11q'</li>\n",
       "\t<li>'mono4_4q_abn4q'</li>\n",
       "\t<li>'complex'</li>\n",
       "\t<li>'NONC_CYTO'</li>\n",
       "\t<li>'NALL_CYTO'</li>\n",
       "\t<li>'X1'</li>\n",
       "\t<li>'X2'</li>\n",
       "\t<li>'X3'</li>\n",
       "\t<li>'X4'</li>\n",
       "\t<li>'X5'</li>\n",
       "\t<li>'X6'</li>\n",
       "\t<li>'X7'</li>\n",
       "\t<li>'X8'</li>\n",
       "\t<li>'X9'</li>\n",
       "\t<li>'X10'</li>\n",
       "\t<li>'X11'</li>\n",
       "\t<li>'X12'</li>\n",
       "\t<li>'X13'</li>\n",
       "\t<li>'X14'</li>\n",
       "\t<li>'X15'</li>\n",
       "\t<li>'X16'</li>\n",
       "\t<li>'X17'</li>\n",
       "\t<li>'X18'</li>\n",
       "\t<li>'X19'</li>\n",
       "\t<li>'X20'</li>\n",
       "\t<li>'X21'</li>\n",
       "\t<li>'X22'</li>\n",
       "\t<li>'X'</li>\n",
       "\t<li>'Y'</li>\n",
       "\t<li>'CEBPA'</li>\n",
       "\t<li>'NPM1'</li>\n",
       "\t<li>'FLT3_TKD'</li>\n",
       "\t<li>'FLT3_ITD'</li>\n",
       "\t<li>'FLT3_other'</li>\n",
       "\t<li>'t_9_11'</li>\n",
       "\t<li>'t_v_11'</li>\n",
       "</ol>\n"
      ],
      "text/latex": [
       "\\begin{enumerate*}\n",
       "\\item 'Study'\n",
       "\\item 'PDID'\n",
       "\\item 'WHOcat'\n",
       "\\item 'TypeAML'\n",
       "\\item 'Type2'\n",
       "\\item 'C\\_Risk'\n",
       "\\item 'M\\_Risk'\n",
       "\\item 'NK'\n",
       "\\item 'AOD'\n",
       "\\item 'Center'\n",
       "\\item 'ERDate'\n",
       "\\item 'Intergroup'\n",
       "\\item 'Study1'\n",
       "\\item 'BaselineTherapy\\_'\n",
       "\\item 'VPA'\n",
       "\\item 'ATRA\\_arm'\n",
       "\\item 'TPL\\_o'\n",
       "\\item 'TPL\\_type'\n",
       "\\item 'Date\\_LF'\n",
       "\\item 'TPL\\_Art'\n",
       "\\item 'CR\\_date'\n",
       "\\item 'Recurrence\\_date'\n",
       "\\item 'TPL\\_date'\n",
       "\\item 'TPL\\_Phase'\n",
       "\\item 'Time\\_Diag\\_TPL'\n",
       "\\item 'Time\\_1CR\\_TPL'\n",
       "\\item 'Family\\_donnor'\n",
       "\\item 'Post\\_Induction\\_Therapy\\_Remission'\n",
       "\\item 'Status'\n",
       "\\item 'OS'\n",
       "\\item 'EFSSTAT'\n",
       "\\item 'ereignart'\n",
       "\\item 'efs'\n",
       "\\item 'rfsstat'\n",
       "\\item 'rfs'\n",
       "\\item 'cuminc'\n",
       "\\item 'rfsstat\\_allo'\n",
       "\\item 'rfs\\_allo'\n",
       "\\item 'cuminc\\_allo'\n",
       "\\item 'HB'\n",
       "\\item 'platelet'\n",
       "\\item 'wbc'\n",
       "\\item 'LDH'\n",
       "\\item 'gender'\n",
       "\\item 'BM\\_Blasts'\n",
       "\\item 'Performance\\_ECOG'\n",
       "\\item 'PB\\_Blasts'\n",
       "\\item 'Splenomegaly'\n",
       "\\item 'MLL\\_PTD'\n",
       "\\item 'inv3\\_t3\\_3'\n",
       "\\item 't\\_9\\_22'\n",
       "\\item 'minus5\\_5q'\n",
       "\\item 'minus7'\n",
       "\\item 'minus7q'\n",
       "\\item 'abn7other'\n",
       "\\item 'plus8\\_8q'\n",
       "\\item 'minus9q'\n",
       "\\item 'mono12\\_12p\\_abn12p'\n",
       "\\item 'plus13'\n",
       "\\item 'mono17\\_17p\\_abn17p'\n",
       "\\item 'minus18\\_18q'\n",
       "\\item 'minus20\\_20q'\n",
       "\\item 'plus21'\n",
       "\\item 'plus22'\n",
       "\\item 'minusY'\n",
       "\\item 't\\_15\\_17'\n",
       "\\item 't\\_8\\_21'\n",
       "\\item 'inv16\\_t16\\_16'\n",
       "\\item 't\\_6\\_9'\n",
       "\\item 'abn3q\\_other'\n",
       "\\item 'plus11\\_11q'\n",
       "\\item 'mono4\\_4q\\_abn4q'\n",
       "\\item 'complex'\n",
       "\\item 'NONC\\_CYTO'\n",
       "\\item 'NALL\\_CYTO'\n",
       "\\item 'X1'\n",
       "\\item 'X2'\n",
       "\\item 'X3'\n",
       "\\item 'X4'\n",
       "\\item 'X5'\n",
       "\\item 'X6'\n",
       "\\item 'X7'\n",
       "\\item 'X8'\n",
       "\\item 'X9'\n",
       "\\item 'X10'\n",
       "\\item 'X11'\n",
       "\\item 'X12'\n",
       "\\item 'X13'\n",
       "\\item 'X14'\n",
       "\\item 'X15'\n",
       "\\item 'X16'\n",
       "\\item 'X17'\n",
       "\\item 'X18'\n",
       "\\item 'X19'\n",
       "\\item 'X20'\n",
       "\\item 'X21'\n",
       "\\item 'X22'\n",
       "\\item 'X'\n",
       "\\item 'Y'\n",
       "\\item 'CEBPA'\n",
       "\\item 'NPM1'\n",
       "\\item 'FLT3\\_TKD'\n",
       "\\item 'FLT3\\_ITD'\n",
       "\\item 'FLT3\\_other'\n",
       "\\item 't\\_9\\_11'\n",
       "\\item 't\\_v\\_11'\n",
       "\\end{enumerate*}\n"
      ],
      "text/markdown": [
       "1. 'Study'\n",
       "2. 'PDID'\n",
       "3. 'WHOcat'\n",
       "4. 'TypeAML'\n",
       "5. 'Type2'\n",
       "6. 'C_Risk'\n",
       "7. 'M_Risk'\n",
       "8. 'NK'\n",
       "9. 'AOD'\n",
       "10. 'Center'\n",
       "11. 'ERDate'\n",
       "12. 'Intergroup'\n",
       "13. 'Study1'\n",
       "14. 'BaselineTherapy_'\n",
       "15. 'VPA'\n",
       "16. 'ATRA_arm'\n",
       "17. 'TPL_o'\n",
       "18. 'TPL_type'\n",
       "19. 'Date_LF'\n",
       "20. 'TPL_Art'\n",
       "21. 'CR_date'\n",
       "22. 'Recurrence_date'\n",
       "23. 'TPL_date'\n",
       "24. 'TPL_Phase'\n",
       "25. 'Time_Diag_TPL'\n",
       "26. 'Time_1CR_TPL'\n",
       "27. 'Family_donnor'\n",
       "28. 'Post_Induction_Therapy_Remission'\n",
       "29. 'Status'\n",
       "30. 'OS'\n",
       "31. 'EFSSTAT'\n",
       "32. 'ereignart'\n",
       "33. 'efs'\n",
       "34. 'rfsstat'\n",
       "35. 'rfs'\n",
       "36. 'cuminc'\n",
       "37. 'rfsstat_allo'\n",
       "38. 'rfs_allo'\n",
       "39. 'cuminc_allo'\n",
       "40. 'HB'\n",
       "41. 'platelet'\n",
       "42. 'wbc'\n",
       "43. 'LDH'\n",
       "44. 'gender'\n",
       "45. 'BM_Blasts'\n",
       "46. 'Performance_ECOG'\n",
       "47. 'PB_Blasts'\n",
       "48. 'Splenomegaly'\n",
       "49. 'MLL_PTD'\n",
       "50. 'inv3_t3_3'\n",
       "51. 't_9_22'\n",
       "52. 'minus5_5q'\n",
       "53. 'minus7'\n",
       "54. 'minus7q'\n",
       "55. 'abn7other'\n",
       "56. 'plus8_8q'\n",
       "57. 'minus9q'\n",
       "58. 'mono12_12p_abn12p'\n",
       "59. 'plus13'\n",
       "60. 'mono17_17p_abn17p'\n",
       "61. 'minus18_18q'\n",
       "62. 'minus20_20q'\n",
       "63. 'plus21'\n",
       "64. 'plus22'\n",
       "65. 'minusY'\n",
       "66. 't_15_17'\n",
       "67. 't_8_21'\n",
       "68. 'inv16_t16_16'\n",
       "69. 't_6_9'\n",
       "70. 'abn3q_other'\n",
       "71. 'plus11_11q'\n",
       "72. 'mono4_4q_abn4q'\n",
       "73. 'complex'\n",
       "74. 'NONC_CYTO'\n",
       "75. 'NALL_CYTO'\n",
       "76. 'X1'\n",
       "77. 'X2'\n",
       "78. 'X3'\n",
       "79. 'X4'\n",
       "80. 'X5'\n",
       "81. 'X6'\n",
       "82. 'X7'\n",
       "83. 'X8'\n",
       "84. 'X9'\n",
       "85. 'X10'\n",
       "86. 'X11'\n",
       "87. 'X12'\n",
       "88. 'X13'\n",
       "89. 'X14'\n",
       "90. 'X15'\n",
       "91. 'X16'\n",
       "92. 'X17'\n",
       "93. 'X18'\n",
       "94. 'X19'\n",
       "95. 'X20'\n",
       "96. 'X21'\n",
       "97. 'X22'\n",
       "98. 'X'\n",
       "99. 'Y'\n",
       "100. 'CEBPA'\n",
       "101. 'NPM1'\n",
       "102. 'FLT3_TKD'\n",
       "103. 'FLT3_ITD'\n",
       "104. 'FLT3_other'\n",
       "105. 't_9_11'\n",
       "106. 't_v_11'\n",
       "\n",
       "\n"
      ],
      "text/plain": [
       "  [1] \"Study\"                            \"PDID\"                            \n",
       "  [3] \"WHOcat\"                           \"TypeAML\"                         \n",
       "  [5] \"Type2\"                            \"C_Risk\"                          \n",
       "  [7] \"M_Risk\"                           \"NK\"                              \n",
       "  [9] \"AOD\"                              \"Center\"                          \n",
       " [11] \"ERDate\"                           \"Intergroup\"                      \n",
       " [13] \"Study1\"                           \"BaselineTherapy_\"                \n",
       " [15] \"VPA\"                              \"ATRA_arm\"                        \n",
       " [17] \"TPL_o\"                            \"TPL_type\"                        \n",
       " [19] \"Date_LF\"                          \"TPL_Art\"                         \n",
       " [21] \"CR_date\"                          \"Recurrence_date\"                 \n",
       " [23] \"TPL_date\"                         \"TPL_Phase\"                       \n",
       " [25] \"Time_Diag_TPL\"                    \"Time_1CR_TPL\"                    \n",
       " [27] \"Family_donnor\"                    \"Post_Induction_Therapy_Remission\"\n",
       " [29] \"Status\"                           \"OS\"                              \n",
       " [31] \"EFSSTAT\"                          \"ereignart\"                       \n",
       " [33] \"efs\"                              \"rfsstat\"                         \n",
       " [35] \"rfs\"                              \"cuminc\"                          \n",
       " [37] \"rfsstat_allo\"                     \"rfs_allo\"                        \n",
       " [39] \"cuminc_allo\"                      \"HB\"                              \n",
       " [41] \"platelet\"                         \"wbc\"                             \n",
       " [43] \"LDH\"                              \"gender\"                          \n",
       " [45] \"BM_Blasts\"                        \"Performance_ECOG\"                \n",
       " [47] \"PB_Blasts\"                        \"Splenomegaly\"                    \n",
       " [49] \"MLL_PTD\"                          \"inv3_t3_3\"                       \n",
       " [51] \"t_9_22\"                           \"minus5_5q\"                       \n",
       " [53] \"minus7\"                           \"minus7q\"                         \n",
       " [55] \"abn7other\"                        \"plus8_8q\"                        \n",
       " [57] \"minus9q\"                          \"mono12_12p_abn12p\"               \n",
       " [59] \"plus13\"                           \"mono17_17p_abn17p\"               \n",
       " [61] \"minus18_18q\"                      \"minus20_20q\"                     \n",
       " [63] \"plus21\"                           \"plus22\"                          \n",
       " [65] \"minusY\"                           \"t_15_17\"                         \n",
       " [67] \"t_8_21\"                           \"inv16_t16_16\"                    \n",
       " [69] \"t_6_9\"                            \"abn3q_other\"                     \n",
       " [71] \"plus11_11q\"                       \"mono4_4q_abn4q\"                  \n",
       " [73] \"complex\"                          \"NONC_CYTO\"                       \n",
       " [75] \"NALL_CYTO\"                        \"X1\"                              \n",
       " [77] \"X2\"                               \"X3\"                              \n",
       " [79] \"X4\"                               \"X5\"                              \n",
       " [81] \"X6\"                               \"X7\"                              \n",
       " [83] \"X8\"                               \"X9\"                              \n",
       " [85] \"X10\"                              \"X11\"                             \n",
       " [87] \"X12\"                              \"X13\"                             \n",
       " [89] \"X14\"                              \"X15\"                             \n",
       " [91] \"X16\"                              \"X17\"                             \n",
       " [93] \"X18\"                              \"X19\"                             \n",
       " [95] \"X20\"                              \"X21\"                             \n",
       " [97] \"X22\"                              \"X\"                               \n",
       " [99] \"Y\"                                \"CEBPA\"                           \n",
       "[101] \"NPM1\"                             \"FLT3_TKD\"                        \n",
       "[103] \"FLT3_ITD\"                         \"FLT3_other\"                      \n",
       "[105] \"t_9_11\"                           \"t_v_11\"                          "
      ]
     },
     "metadata": {},
     "output_type": "display_data"
    }
   ],
   "source": [
    "colnames(val_data)"
   ]
  },
  {
   "cell_type": "code",
   "execution_count": null,
   "metadata": {},
   "outputs": [],
   "source": []
  }
 ],
 "metadata": {
  "kernelspec": {
   "display_name": "R",
   "language": "R",
   "name": "ir"
  },
  "language_info": {
   "codemirror_mode": "r",
   "file_extension": ".r",
   "mimetype": "text/x-r-source",
   "name": "R",
   "pygments_lexer": "r",
   "version": "3.5.2"
  }
 },
 "nbformat": 4,
 "nbformat_minor": 2
}

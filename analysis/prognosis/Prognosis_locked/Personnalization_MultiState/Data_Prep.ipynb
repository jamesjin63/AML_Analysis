{
 "cells": [
  {
   "cell_type": "code",
   "execution_count": 2,
   "metadata": {},
   "outputs": [],
   "source": [
    "library(dplyr)\n",
    "library(miceadds)"
   ]
  },
  {
   "cell_type": "markdown",
   "metadata": {},
   "source": [
    "# 1) Nejm Dataset"
   ]
  },
  {
   "cell_type": "code",
   "execution_count": 6,
   "metadata": {},
   "outputs": [
    {
     "data": {
      "text/plain": [
       "\n",
       "     NEW_adverse    NEW_favorable NEW_intermediate \n",
       "             350              388              438 "
      ]
     },
     "metadata": {},
     "output_type": "display_data"
    }
   ],
   "source": [
    "df_nejm <- read.table(\"../Validation/full_data_validation_NO_ITD.tsv\")\n",
    "\n",
    "# Rename columns like in Cardiff\n",
    "\n",
    "df_nejm <- df_nejm %>% rename(OS_stat = OS_Status, gender = Gender , age = Age, hb = HB, bm_blasts = BM_Blasts, plt = PLT, wbc = WBC)\n",
    "# Add CR Relapse and their status from AMLSG_Clinical:\n",
    "\n",
    "load.Rdata(\"../Validation/AMLSG_Clinical_Anon.RData\",\"val_data\")\n",
    "rownames(val_data) <- val_data$PDID\n",
    "\n",
    "df_nejm <- merge(df_nejm,val_data[,c(\"PDID\",\"CR_date\",\"rfs\",\"rfsstat\")],by = 0)\n",
    "df_nejm <- df_nejm %>% rename(CR = CR_date, Relapse = rfs , Relapse_stat = rfsstat)\n",
    "\n",
    "df_nejm$CR <- as.numeric(df_nejm$CR) / 365\n",
    "df_nejm$Relapse <- df_nejm$Relapse / 365\n",
    "\n",
    "# Handle  CR stat and Relapse stat\n",
    "\n",
    "df_nejm$CR_stat <- ifelse(is.na(df_nejm$CR),0,1)\n",
    "df_nejm[is.na(df_nejm$CR),\"Relapse_stat\"] <- 0\n",
    "\n",
    "\n",
    "\n",
    "# Handle CR\n",
    "\n",
    "df_nejm[is.na(df_nejm$CR),\"CR\"] <- df_nejm[is.na(df_nejm$CR),\"OS\"] \n",
    "\n",
    "# Handle Relapse\n",
    "\n",
    "df_nejm[df_nejm$Relapse_stat==0,\"Relapse\"] <- df_nejm[df_nejm$Relapse_stat==0,\"OS\"]\n",
    "df_nejm[df_nejm$Relapse_stat==1,\"Relapse\"] <- df_nejm[df_nejm$Relapse_stat==1,\"CR\"] + df_nejm[df_nejm$Relapse_stat==1,\"Relapse\"]\n",
    "df_nejm[df_nejm$Relapse > df_nejm$OS,\"Relapse\"] <- df_nejm[df_nejm$Relapse > df_nejm$OS,\"OS\"]   ## sanity check it is the case due to rounding errors for 63 patients so we fix it\n",
    "\n",
    "df_nejm$Death_in_CR <- df_nejm$OS\n",
    "df_nejm$Death_in_CR_stat <- ifelse(df_nejm$CR_stat==1 & df_nejm$Relapse_stat==0 & df_nejm$OS_stat==1,1,0 )\n",
    "\n",
    "df_nejm$Death_in_Relapse <- df_nejm$OS\n",
    "df_nejm$Death_in_Relapse_stat <- ifelse(df_nejm$CR_stat==1 & df_nejm$Relapse_stat==1 & df_nejm$OS_stat==1,1,0 )\n",
    "\n",
    "df_nejm$Death_without <- df_nejm$OS\n",
    "df_nejm$Death_without_stat <- ifelse(df_nejm$CR_stat==0 & df_nejm$Relapse_stat==0 & df_nejm$OS_stat==1,1,0 )\n",
    "\n",
    "\n",
    "# Add New Proposal\n",
    "\n",
    "df_nejm$molecular_classification <- \"none\"\n",
    "\n",
    "df_nejm[(df_nejm$full_component_NPM1==1  | df_nejm$full_component_no_events==1 |df_nejm$full_component_inv_16==1 | df_nejm$full_component_t_8_21==1 |\n",
    "     df_nejm$full_component_t_15_17==1 | (df_nejm$full_component_additions==1 & df_nejm$overlap==0)) & df_nejm$molecular_classification==\"none\",\"molecular_classification\"] <- \"NEW_favorable\"\n",
    "\n",
    "df_nejm[(df_nejm$full_component_chr_splicing_1==1 | df_nejm$full_component_not_assigned==1) & df_nejm$molecular_classification==\"none\" ,\"molecular_classification\"] <- \"NEW_intermediate\"\n",
    "          \n",
    "df_nejm[(df_nejm$full_component_additions==1 | df_nejm$full_component_TP53_complex==1 | df_nejm$full_component_chr_splicing_multiple==1  | df_nejm$full_component_inv_3==1) & df_nejm$molecular_classification==\"none\",\"molecular_classification\"] <- \"NEW_adverse\"      \n",
    "          \n",
    "df_nejm[(df_nejm$CEBPA_bi==1) & df_nejm$molecular_classification==\"none\",\"molecular_classification\"] <- \"NEW_favorable\"\n",
    "          \n",
    "df_nejm[(df_nejm$full_component_t_11==1 | df_nejm$full_component_t_6_9==1 | df_nejm$full_component_WT1==1 | df_nejm$full_component_DNMT3A_IDH1_2==1 ) & df_nejm$molecular_classification==\"none\" ,\"molecular_classification\"] <- \"NEW_intermediate\"\n",
    "     \n",
    "\n",
    "#order is important! adverse . then intermediate otherwise we . overlap\n",
    "\n",
    "\n",
    "df_nejm[df_nejm$molecular_classification==\"NEW_intermediate\" & df_nejm$ITD==1,\"molecular_classification\"] <- \"NEW_adverse\"\n",
    "\n",
    "df_nejm[df_nejm$molecular_classification==\"NEW_favorable\" & df_nejm$ITD==1,\"molecular_classification\"] <- \"NEW_intermediate\"\n",
    "\n",
    "df_nejm$NEW_favorable <-  ifelse(df_nejm$molecular_classification==\"NEW_favorable\",1,0)\n",
    "df_nejm$NEW_intermediate <-  ifelse(df_nejm$molecular_classification==\"NEW_intermediate\",1,0)\n",
    "df_nejm$NEW_adverse <-  ifelse(df_nejm$molecular_classification==\"NEW_adverse\",1,0)\n",
    "table(df_nejm$molecular_classification)\n",
    "\n",
    "rownames(df_nejm) <- df_nejm$Row.names\n",
    "df_nejm$Row.names <- NULL\n"
   ]
  },
  {
   "cell_type": "code",
   "execution_count": 14,
   "metadata": {},
   "outputs": [],
   "source": [
    "write.table(df_nejm,\"df_nejm_personnalization.tsv\")"
   ]
  },
  {
   "cell_type": "markdown",
   "metadata": {},
   "source": [
    "# 2) Cardiff Dataset"
   ]
  },
  {
   "cell_type": "code",
   "execution_count": 16,
   "metadata": {},
   "outputs": [
    {
     "data": {
      "text/plain": [
       "\n",
       "     NEW_adverse    NEW_favorable NEW_intermediate \n",
       "             747              719              659 "
      ]
     },
     "metadata": {},
     "output_type": "display_data"
    }
   ],
   "source": [
    "df <- read.table('../../../clustering/clustering_Final_1/df_final_full_component.tsv')\n",
    "all_gen <- colnames(df)[c(5:88)]\n",
    "vect <- apply(X=df[,all_gen],2,FUN=function(x) 100*length(which(x==1))/dim(df)[1])\n",
    "gen <- colnames(df[,match(names(vect[vect>=2]),names(df))])\n",
    "\n",
    "all_cyto <- colnames(df)[c(89:158)]\n",
    "vect <- apply(X=df[,all_cyto],2,FUN=function(x) 100*length(which(x==1))/dim(df)[1])\n",
    "cyto <- c(colnames(df[,match(names(vect[vect>=2]),names(df))]),\"inv_3\",\"t_15_17\")       \n",
    "              \n",
    "comp <- colnames(df)[170:186]\n",
    "\n",
    "clin <- colnames(df)[c(159:165)]\n",
    "demo <- colnames(df)[166:167]\n",
    "master <- read.table('../../../../data/initial_dataset/Master_04_10_2019.csv',sep=\",\",header=T)\n",
    "rownames(master) <- master$data_pd\n",
    "\n",
    "              \n",
    "df_cardiff <- merge(df[,c(comp,all_gen,all_cyto,clin,demo,\"eln_2017_favorable\",\"eln_2017_intermediate\",\"eln_2017_adverse\")],master[,c(\"os\",\"os_status\",\"RelapseCIStatus\",\"OS_CR\",\"RFSyears\")],by=0)\n",
    "rownames(df_cardiff) <- df_cardiff$Row.names\n",
    "df_cardiff$patient_id <- df_cardiff$Row.names\n",
    "              \n",
    "\n",
    "# New molecular Classification\n",
    "\n",
    "\n",
    "df_cardiff$molecular_classification <- \"none\"\n",
    "\n",
    "df_cardiff[(df_cardiff$full_component_NPM1==1  | df_cardiff$full_component_no_events==1 |df_cardiff$full_component_inv_16==1 | df_cardiff$full_component_t_8_21==1 |\n",
    "     df_cardiff$full_component_t_15_17==1 | (df_cardiff$full_component_additions==1 & df_cardiff$overlap==0)) & df_cardiff$molecular_classification==\"none\",\"molecular_classification\"] <- \"NEW_favorable\"\n",
    "\n",
    "df_cardiff[(df_cardiff$full_component_chr_splicing_1==1 | df_cardiff$full_component_not_assigned==1) & df_cardiff$molecular_classification==\"none\" ,\"molecular_classification\"] <- \"NEW_intermediate\"\n",
    "          \n",
    "df_cardiff[(df_cardiff$full_component_additions==1 | df_cardiff$full_component_TP53_complex==1 | df_cardiff$full_component_chr_splicing_multiple==1  | df_cardiff$full_component_inv_3==1) & df_cardiff$molecular_classification==\"none\",\"molecular_classification\"] <- \"NEW_adverse\"      \n",
    "          \n",
    "df_cardiff[(df_cardiff$CEBPA_bi==1) & df_cardiff$molecular_classification==\"none\",\"molecular_classification\"] <- \"NEW_favorable\"\n",
    "          \n",
    "df_cardiff[(df_cardiff$full_component_t_11==1 | df_cardiff$full_component_t_6_9==1 | df_cardiff$full_component_WT1==1 | df_cardiff$full_component_DNMT3A_IDH1_2==1 ) & df_cardiff$molecular_classification==\"none\" ,\"molecular_classification\"] <- \"NEW_intermediate\"\n",
    "     \n",
    "\n",
    "#order is important! adverse . then intermediate otherwise we . overlap\n",
    "\n",
    "\n",
    "df_cardiff[df_cardiff$molecular_classification==\"NEW_intermediate\" & df_cardiff$ITD==1,\"molecular_classification\"] <- \"NEW_adverse\"\n",
    "\n",
    "df_cardiff[df_cardiff$molecular_classification==\"NEW_favorable\" & df_cardiff$ITD==1,\"molecular_classification\"] <- \"NEW_intermediate\"\n",
    "\n",
    "df_cardiff$NEW_favorable <-  ifelse(df_cardiff$molecular_classification==\"NEW_favorable\",1,0)\n",
    "df_cardiff$NEW_intermediate <-  ifelse(df_cardiff$molecular_classification==\"NEW_intermediate\",1,0)\n",
    "df_cardiff$NEW_adverse <-  ifelse(df_cardiff$molecular_classification==\"NEW_adverse\",1,0)\n",
    "table(df_cardiff$molecular_classification)\n",
    "\n",
    "\n",
    "              \n",
    "              \n",
    "# Remove weird cases (11) : we do not know when they have relapsed or CR\n",
    "\n",
    "\n",
    "df_cardiff <- df_cardiff[!(df_cardiff$RelapseCIStatus==1 & !is.na(df_cardiff$RelapseCIStatus) & is.na(df_cardiff$OS_CR)),]\n",
    "df_cardiff <- df_cardiff[!(df_cardiff$RelapseCIStatus==1 & !is.na(df_cardiff$RelapseCIStatus) & df_cardiff$os_status==1 & df_cardiff$RFSyears > df_cardiff$OS_CR),]   # you can not relapse from CR  after you die !!!\n",
    "df_cardiff <- df_cardiff[!(df_cardiff$RFSyears==0 & !is.na(df_cardiff$RFSyears)),]  ### remove when Relapse is exactly 0!\n",
    "\n",
    "\n",
    "# Handle CR\n",
    "\n",
    "df_cardiff$CR_stat <- ifelse(is.na(df_cardiff$OS_CR),0,1)\n",
    "df_cardiff[is.na(df_cardiff$OS_CR),\"CR\"] <- df_cardiff[is.na(df_cardiff$OS_CR),\"os\"]\n",
    "df_cardiff[!is.na(df_cardiff$OS_CR),\"CR\"]<- df_cardiff[!is.na(df_cardiff$OS_CR),\"os\"] - df_cardiff[!is.na(df_cardiff$OS_CR),\"OS_CR\"]\n",
    "\n",
    "# Handle RFS (relapse from first CR)\n",
    "\n",
    "df_cardiff$Relapse_stat <- ifelse(df_cardiff$RelapseCIStatus==1 & !is.na(df_cardiff$RelapseCIStatus),1,0)\n",
    "df_cardiff$Relapse <- df_cardiff$os\n",
    "df_cardiff[df_cardiff$Relapse_stat==1,\"Relapse\"] <- df_cardiff[df_cardiff$Relapse_stat==1,\"CR\"] + df_cardiff[df_cardiff$Relapse_stat==1,\"RFSyears\"]\n",
    "\n",
    "df_cardiff$OS <- df_cardiff$os\n",
    "df_cardiff$OS_stat <- df_cardiff$os_status\n",
    "\n",
    "df_cardiff$Death_in_CR <- df_cardiff$OS\n",
    "df_cardiff$Death_in_CR_stat <- ifelse(df_cardiff$CR_stat==1 & df_cardiff$Relapse_stat==0 & df_cardiff$OS_stat==1,1,0 )\n",
    "\n",
    "df_cardiff$Death_in_Relapse <- df_cardiff$OS\n",
    "df_cardiff$Death_in_Relapse_stat <- ifelse(df_cardiff$CR_stat==1 & df_cardiff$Relapse_stat==1 & df_cardiff$OS_stat==1,1,0 )\n",
    "\n",
    "df_cardiff$Death_without <- df_cardiff$OS\n",
    "df_cardiff$Death_without_stat <- ifelse(df_cardiff$CR_stat==0 & df_cardiff$Relapse_stat==0 & df_cardiff$OS_stat==1,1,0 )\n",
    "              \n",
    "df_cardiff$Row.names <- NULL"
   ]
  },
  {
   "cell_type": "code",
   "execution_count": 17,
   "metadata": {},
   "outputs": [],
   "source": [
    "write.table(df_cardiff,\"df_cardiff_personnalization.tsv\")"
   ]
  }
 ],
 "metadata": {
  "kernelspec": {
   "display_name": "R",
   "language": "R",
   "name": "ir"
  },
  "language_info": {
   "codemirror_mode": "r",
   "file_extension": ".r",
   "mimetype": "text/x-r-source",
   "name": "R",
   "pygments_lexer": "r",
   "version": "3.5.2"
  }
 },
 "nbformat": 4,
 "nbformat_minor": 2
}

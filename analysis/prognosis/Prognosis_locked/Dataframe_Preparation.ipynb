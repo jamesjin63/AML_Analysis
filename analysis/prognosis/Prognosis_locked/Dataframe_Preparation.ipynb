{
 "cells": [
  {
   "cell_type": "code",
   "execution_count": 211,
   "metadata": {},
   "outputs": [],
   "source": [
    "library(dummies)\n",
    "correlates <- c(\"ahd\",\"perf_status\",\"bm_blasts\",\"secondary\",\"wbc\",\"hb\",\"plt\",\"gender\",\"age\",\"os\",\"os_status\")\n",
    "continuous_correlates <- c(\"age\",\"wbc\",\"hb\",\"plt\",\"bm_blasts\",\"os\")\n",
    "df_all_components <- read.table(\"../../clustering/Clustering_Final_1/df_final_multiple_comp_overlap_comp.tsv\")[,c(1:155,175:190)]\n",
    "\n",
    "df_initial <- read.table(\"../../../data/initial_dataset/Master_04_10_2019.csv\",sep = ',' , header = T)\n",
    "rownames(df_initial) <- df_initial$data_pd\n",
    "df_initial <- df_initial[,-1:-4]\n",
    "df_eln <- read.table(\"../../../data/updated_dataset/eln_final.tsv\",sep = '\\t' , header = T)\n",
    "rownames(df_eln) <- df_eln$X\n",
    "df_eln <- df_eln[-1]\n",
    "df <- merge(df_eln,df_all_components,by=0)\n",
    "rownames(df) <- df$Row.names\n",
    "df <- df[-1]\n",
    "df <- merge(df,df_initial[,correlates],by=0)\n",
    "rownames(df) <- df$Row.names\n",
    "df <- df[-1]\n",
    "for (col in colnames(df)[colSums(is.na(df)) > 0]){\n",
    "    if(!is.element(col,c(\"os\",\"os_status\"))){        \n",
    "        if(is.element(col,continuous_correlates)){\n",
    "            df[,col][is.na(df[,col])] <- mean(df[,col], na.rm=TRUE)\n",
    "        }else{\n",
    "            df[,col][is.na(df[,col])] <- median(df[,col], na.rm=TRUE)\n",
    "            }\n",
    "    }\n",
    "   \n",
    "}\n",
    "df <- na.omit(df)\n",
    "df <- df[df$os>0,]\n",
    "\n",
    "df$eln_2017 <- ifelse(df$eln_2017==\"adverse\",1,\n",
    "                    ifelse(df$eln_2017==\"intermediate\",2,3))\n",
    "df<- cbind(df,dummy('final_component',df, sep = \"_\"))\n",
    "overlap_comp <- colnames(df[,startsWith(colnames(df),\"overlap_\"),])\n",
    "df$overlap <- 0\n",
    "for (comp in colnames(df[,startsWith(colnames(df),\"final_component_\"),])){\n",
    "    df[df[,comp]==1,]$overlap <- ifelse(rowSums(df[df[,comp]==1,overlap_comp])>0,1,0)\n",
    "}\n",
    "\n",
    "df <- df[,c(1:158,176:184,187:203,160:175,185:186)]\n",
    "df <- df[,colnames(df[,colSums(df)>0])]\n",
    "write.table(df,\"prognosis_dataframe.tsv\")"
   ]
  }
 ],
 "metadata": {
  "kernelspec": {
   "display_name": "R",
   "language": "R",
   "name": "ir"
  },
  "language_info": {
   "codemirror_mode": "r",
   "file_extension": ".r",
   "mimetype": "text/x-r-source",
   "name": "R",
   "pygments_lexer": "r",
   "version": "3.5.2"
  }
 },
 "nbformat": 4,
 "nbformat_minor": 2
}

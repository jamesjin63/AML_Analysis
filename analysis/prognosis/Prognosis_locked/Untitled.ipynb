{
 "cells": [
  {
   "cell_type": "code",
   "execution_count": 6,
   "metadata": {},
   "outputs": [],
   "source": [
    "a <- read.table(\"outcomes_qc_05_21.csv\",sep=\",\",header=T)"
   ]
  },
  {
   "cell_type": "code",
   "execution_count": 9,
   "metadata": {},
   "outputs": [
    {
     "data": {
      "text/plain": [
       "\n",
       "              14               15               88               99 \n",
       "               5                4               35               24 \n",
       " ALLO (post rel)    ALLO (pre CR)       ALLOGENEIC    AUTO (2nd CR) \n",
       "              31               63               62               99 \n",
       "AUTO (post rel2)    AUTO (pre CR)   AUTO (relapse)       AUTOLOGOUS \n",
       "              85               10                4                1 \n",
       "      MISMATCHED              MUD             NONE            OTHER \n",
       "              20              169             1730               19 \n",
       "               S        SYNGENEIC          UNKNOWN \n",
       "               2                1               67 "
      ]
     },
     "metadata": {},
     "output_type": "display_data"
    }
   ],
   "source": [
    "table(a$pbmty)"
   ]
  },
  {
   "cell_type": "code",
   "execution_count": 4,
   "metadata": {},
   "outputs": [
    {
     "data": {
      "text/html": [
       "<table>\n",
       "<thead><tr><th scope=col>id</th><th scope=col>from</th><th scope=col>to</th><th scope=col>trans</th><th scope=col>Tstart</th><th scope=col>Tstop</th><th scope=col>time</th><th scope=col>status</th><th scope=col>proph</th><th scope=col>year</th><th scope=col>agecl</th></tr></thead>\n",
       "<tbody>\n",
       "\t<tr><td>1        </td><td>1        </td><td>2        </td><td>1        </td><td> 0       </td><td> 22      </td><td> 22      </td><td>1        </td><td>no       </td><td>1995-1998</td><td>20-40    </td></tr>\n",
       "\t<tr><td>1        </td><td>1        </td><td>3        </td><td>2        </td><td> 0       </td><td> 22      </td><td> 22      </td><td>0        </td><td>no       </td><td>1995-1998</td><td>20-40    </td></tr>\n",
       "\t<tr><td>1        </td><td>1        </td><td>5        </td><td>3        </td><td> 0       </td><td> 22      </td><td> 22      </td><td>0        </td><td>no       </td><td>1995-1998</td><td>20-40    </td></tr>\n",
       "\t<tr><td>1        </td><td>1        </td><td>6        </td><td>4        </td><td> 0       </td><td> 22      </td><td> 22      </td><td>0        </td><td>no       </td><td>1995-1998</td><td>20-40    </td></tr>\n",
       "\t<tr><td>1        </td><td>2        </td><td>4        </td><td>5        </td><td>22       </td><td>995      </td><td>973      </td><td>0        </td><td>no       </td><td>1995-1998</td><td>20-40    </td></tr>\n",
       "\t<tr><td>1        </td><td>2        </td><td>5        </td><td>6        </td><td>22       </td><td>995      </td><td>973      </td><td>0        </td><td>no       </td><td>1995-1998</td><td>20-40    </td></tr>\n",
       "\t<tr><td>1        </td><td>2        </td><td>6        </td><td>7        </td><td>22       </td><td>995      </td><td>973      </td><td>0        </td><td>no       </td><td>1995-1998</td><td>20-40    </td></tr>\n",
       "</tbody>\n",
       "</table>\n"
      ],
      "text/latex": [
       "\\begin{tabular}{r|lllllllllll}\n",
       " id & from & to & trans & Tstart & Tstop & time & status & proph & year & agecl\\\\\n",
       "\\hline\n",
       "\t 1         & 1         & 2         & 1         &  0        &  22       &  22       & 1         & no        & 1995-1998 & 20-40    \\\\\n",
       "\t 1         & 1         & 3         & 2         &  0        &  22       &  22       & 0         & no        & 1995-1998 & 20-40    \\\\\n",
       "\t 1         & 1         & 5         & 3         &  0        &  22       &  22       & 0         & no        & 1995-1998 & 20-40    \\\\\n",
       "\t 1         & 1         & 6         & 4         &  0        &  22       &  22       & 0         & no        & 1995-1998 & 20-40    \\\\\n",
       "\t 1         & 2         & 4         & 5         & 22        & 995       & 973       & 0         & no        & 1995-1998 & 20-40    \\\\\n",
       "\t 1         & 2         & 5         & 6         & 22        & 995       & 973       & 0         & no        & 1995-1998 & 20-40    \\\\\n",
       "\t 1         & 2         & 6         & 7         & 22        & 995       & 973       & 0         & no        & 1995-1998 & 20-40    \\\\\n",
       "\\end{tabular}\n"
      ],
      "text/markdown": [
       "\n",
       "| id | from | to | trans | Tstart | Tstop | time | status | proph | year | agecl |\n",
       "|---|---|---|---|---|---|---|---|---|---|---|\n",
       "| 1         | 1         | 2         | 1         |  0        |  22       |  22       | 1         | no        | 1995-1998 | 20-40     |\n",
       "| 1         | 1         | 3         | 2         |  0        |  22       |  22       | 0         | no        | 1995-1998 | 20-40     |\n",
       "| 1         | 1         | 5         | 3         |  0        |  22       |  22       | 0         | no        | 1995-1998 | 20-40     |\n",
       "| 1         | 1         | 6         | 4         |  0        |  22       |  22       | 0         | no        | 1995-1998 | 20-40     |\n",
       "| 1         | 2         | 4         | 5         | 22        | 995       | 973       | 0         | no        | 1995-1998 | 20-40     |\n",
       "| 1         | 2         | 5         | 6         | 22        | 995       | 973       | 0         | no        | 1995-1998 | 20-40     |\n",
       "| 1         | 2         | 6         | 7         | 22        | 995       | 973       | 0         | no        | 1995-1998 | 20-40     |\n",
       "\n"
      ],
      "text/plain": [
       "  id from to trans Tstart Tstop time status proph year      agecl\n",
       "1 1  1    2  1      0      22    22  1      no    1995-1998 20-40\n",
       "2 1  1    3  2      0      22    22  0      no    1995-1998 20-40\n",
       "3 1  1    5  3      0      22    22  0      no    1995-1998 20-40\n",
       "4 1  1    6  4      0      22    22  0      no    1995-1998 20-40\n",
       "5 1  2    4  5     22     995   973  0      no    1995-1998 20-40\n",
       "6 1  2    5  6     22     995   973  0      no    1995-1998 20-40\n",
       "7 1  2    6  7     22     995   973  0      no    1995-1998 20-40"
      ]
     },
     "metadata": {},
     "output_type": "display_data"
    }
   ],
   "source": [
    "msebmt <- msprep(data = ebmt, trans = tmat, time = c(NA, \"rec\", \"ae\",\n",
    "\"recae\", \"rel\", \"srv\"), status = c(NA, \"rec.s\", \"ae.s\", \"recae.s\",\n",
    "\"rel.s\", \"srv.s\"), keep = c(\"match\", \"proph\", \"year\", \"agecl\"))\n",
    "msebmt[msebmt$id == 1, c(1:8, 10:12)]"
   ]
  },
  {
   "cell_type": "code",
   "execution_count": 6,
   "metadata": {},
   "outputs": [
    {
     "data": {
      "text/plain": [
       "$Frequencies\n",
       "        to\n",
       "from       Tx  Rec   AE Rec+AE  Rel Death no event total entering\n",
       "  Tx        0  785  907      0   95   160      332           2279\n",
       "  Rec       0    0    0    227  112    39      407            785\n",
       "  AE        0    0    0    433   56   197      221            907\n",
       "  Rec+AE    0    0    0      0  107   137      416            660\n",
       "  Rel       0    0    0      0    0     0      370            370\n",
       "  Death     0    0    0      0    0     0      533            533\n",
       "\n",
       "$Proportions\n",
       "        to\n",
       "from             Tx        Rec         AE     Rec+AE        Rel      Death\n",
       "  Tx     0.00000000 0.34444932 0.39798157 0.00000000 0.04168495 0.07020623\n",
       "  Rec    0.00000000 0.00000000 0.00000000 0.28917197 0.14267516 0.04968153\n",
       "  AE     0.00000000 0.00000000 0.00000000 0.47739802 0.06174201 0.21719956\n",
       "  Rec+AE 0.00000000 0.00000000 0.00000000 0.00000000 0.16212121 0.20757576\n",
       "  Rel    0.00000000 0.00000000 0.00000000 0.00000000 0.00000000 0.00000000\n",
       "  Death  0.00000000 0.00000000 0.00000000 0.00000000 0.00000000 0.00000000\n",
       "        to\n",
       "from       no event\n",
       "  Tx     0.14567793\n",
       "  Rec    0.51847134\n",
       "  AE     0.24366042\n",
       "  Rec+AE 0.63030303\n",
       "  Rel    1.00000000\n",
       "  Death  1.00000000\n"
      ]
     },
     "metadata": {},
     "output_type": "display_data"
    }
   ],
   "source": [
    "events(msebmt)"
   ]
  },
  {
   "cell_type": "code",
   "execution_count": 7,
   "metadata": {},
   "outputs": [
    {
     "data": {
      "text/html": [
       "<table>\n",
       "<thead><tr><th scope=col>id</th><th scope=col>from</th><th scope=col>to</th><th scope=col>trans</th><th scope=col>Tstart</th><th scope=col>Tstop</th><th scope=col>time</th><th scope=col>status</th><th scope=col>year</th><th scope=col>year2.1</th><th scope=col>⋯</th><th scope=col>year2.3</th><th scope=col>year2.4</th><th scope=col>year2.5</th><th scope=col>year2.6</th><th scope=col>year2.7</th><th scope=col>year2.8</th><th scope=col>year2.9</th><th scope=col>year2.10</th><th scope=col>year2.11</th><th scope=col>year2.12</th></tr></thead>\n",
       "<tbody>\n",
       "\t<tr><td>1        </td><td>1        </td><td>2        </td><td>1        </td><td> 0       </td><td> 22      </td><td> 22      </td><td>1        </td><td>1995-1998</td><td>1        </td><td>⋯        </td><td>0        </td><td>0        </td><td>0        </td><td>0        </td><td>0        </td><td>0        </td><td>0        </td><td>0        </td><td>0        </td><td>0        </td></tr>\n",
       "\t<tr><td>1        </td><td>1        </td><td>3        </td><td>2        </td><td> 0       </td><td> 22      </td><td> 22      </td><td>0        </td><td>1995-1998</td><td>0        </td><td>⋯        </td><td>0        </td><td>0        </td><td>0        </td><td>0        </td><td>0        </td><td>0        </td><td>0        </td><td>0        </td><td>0        </td><td>0        </td></tr>\n",
       "\t<tr><td>1        </td><td>1        </td><td>5        </td><td>3        </td><td> 0       </td><td> 22      </td><td> 22      </td><td>0        </td><td>1995-1998</td><td>0        </td><td>⋯        </td><td>1        </td><td>0        </td><td>0        </td><td>0        </td><td>0        </td><td>0        </td><td>0        </td><td>0        </td><td>0        </td><td>0        </td></tr>\n",
       "\t<tr><td>1        </td><td>1        </td><td>6        </td><td>4        </td><td> 0       </td><td> 22      </td><td> 22      </td><td>0        </td><td>1995-1998</td><td>0        </td><td>⋯        </td><td>0        </td><td>1        </td><td>0        </td><td>0        </td><td>0        </td><td>0        </td><td>0        </td><td>0        </td><td>0        </td><td>0        </td></tr>\n",
       "\t<tr><td>1        </td><td>2        </td><td>4        </td><td>5        </td><td>22       </td><td>995      </td><td>973      </td><td>0        </td><td>1995-1998</td><td>0        </td><td>⋯        </td><td>0        </td><td>0        </td><td>1        </td><td>0        </td><td>0        </td><td>0        </td><td>0        </td><td>0        </td><td>0        </td><td>0        </td></tr>\n",
       "\t<tr><td>1        </td><td>2        </td><td>5        </td><td>6        </td><td>22       </td><td>995      </td><td>973      </td><td>0        </td><td>1995-1998</td><td>0        </td><td>⋯        </td><td>0        </td><td>0        </td><td>0        </td><td>1        </td><td>0        </td><td>0        </td><td>0        </td><td>0        </td><td>0        </td><td>0        </td></tr>\n",
       "\t<tr><td>1        </td><td>2        </td><td>6        </td><td>7        </td><td>22       </td><td>995      </td><td>973      </td><td>0        </td><td>1995-1998</td><td>0        </td><td>⋯        </td><td>0        </td><td>0        </td><td>0        </td><td>0        </td><td>1        </td><td>0        </td><td>0        </td><td>0        </td><td>0        </td><td>0        </td></tr>\n",
       "</tbody>\n",
       "</table>\n"
      ],
      "text/latex": [
       "\\begin{tabular}{r|lllllllllllllllllllll}\n",
       " id & from & to & trans & Tstart & Tstop & time & status & year & year2.1 & ⋯ & year2.3 & year2.4 & year2.5 & year2.6 & year2.7 & year2.8 & year2.9 & year2.10 & year2.11 & year2.12\\\\\n",
       "\\hline\n",
       "\t 1         & 1         & 2         & 1         &  0        &  22       &  22       & 1         & 1995-1998 & 1         & ⋯         & 0         & 0         & 0         & 0         & 0         & 0         & 0         & 0         & 0         & 0        \\\\\n",
       "\t 1         & 1         & 3         & 2         &  0        &  22       &  22       & 0         & 1995-1998 & 0         & ⋯         & 0         & 0         & 0         & 0         & 0         & 0         & 0         & 0         & 0         & 0        \\\\\n",
       "\t 1         & 1         & 5         & 3         &  0        &  22       &  22       & 0         & 1995-1998 & 0         & ⋯         & 1         & 0         & 0         & 0         & 0         & 0         & 0         & 0         & 0         & 0        \\\\\n",
       "\t 1         & 1         & 6         & 4         &  0        &  22       &  22       & 0         & 1995-1998 & 0         & ⋯         & 0         & 1         & 0         & 0         & 0         & 0         & 0         & 0         & 0         & 0        \\\\\n",
       "\t 1         & 2         & 4         & 5         & 22        & 995       & 973       & 0         & 1995-1998 & 0         & ⋯         & 0         & 0         & 1         & 0         & 0         & 0         & 0         & 0         & 0         & 0        \\\\\n",
       "\t 1         & 2         & 5         & 6         & 22        & 995       & 973       & 0         & 1995-1998 & 0         & ⋯         & 0         & 0         & 0         & 1         & 0         & 0         & 0         & 0         & 0         & 0        \\\\\n",
       "\t 1         & 2         & 6         & 7         & 22        & 995       & 973       & 0         & 1995-1998 & 0         & ⋯         & 0         & 0         & 0         & 0         & 1         & 0         & 0         & 0         & 0         & 0        \\\\\n",
       "\\end{tabular}\n"
      ],
      "text/markdown": [
       "\n",
       "| id | from | to | trans | Tstart | Tstop | time | status | year | year2.1 | ⋯ | year2.3 | year2.4 | year2.5 | year2.6 | year2.7 | year2.8 | year2.9 | year2.10 | year2.11 | year2.12 |\n",
       "|---|---|---|---|---|---|---|---|---|---|---|---|---|---|---|---|---|---|---|---|---|\n",
       "| 1         | 1         | 2         | 1         |  0        |  22       |  22       | 1         | 1995-1998 | 1         | ⋯         | 0         | 0         | 0         | 0         | 0         | 0         | 0         | 0         | 0         | 0         |\n",
       "| 1         | 1         | 3         | 2         |  0        |  22       |  22       | 0         | 1995-1998 | 0         | ⋯         | 0         | 0         | 0         | 0         | 0         | 0         | 0         | 0         | 0         | 0         |\n",
       "| 1         | 1         | 5         | 3         |  0        |  22       |  22       | 0         | 1995-1998 | 0         | ⋯         | 1         | 0         | 0         | 0         | 0         | 0         | 0         | 0         | 0         | 0         |\n",
       "| 1         | 1         | 6         | 4         |  0        |  22       |  22       | 0         | 1995-1998 | 0         | ⋯         | 0         | 1         | 0         | 0         | 0         | 0         | 0         | 0         | 0         | 0         |\n",
       "| 1         | 2         | 4         | 5         | 22        | 995       | 973       | 0         | 1995-1998 | 0         | ⋯         | 0         | 0         | 1         | 0         | 0         | 0         | 0         | 0         | 0         | 0         |\n",
       "| 1         | 2         | 5         | 6         | 22        | 995       | 973       | 0         | 1995-1998 | 0         | ⋯         | 0         | 0         | 0         | 1         | 0         | 0         | 0         | 0         | 0         | 0         |\n",
       "| 1         | 2         | 6         | 7         | 22        | 995       | 973       | 0         | 1995-1998 | 0         | ⋯         | 0         | 0         | 0         | 0         | 1         | 0         | 0         | 0         | 0         | 0         |\n",
       "\n"
      ],
      "text/plain": [
       "  id from to trans Tstart Tstop time status year      year2.1 ⋯ year2.3 year2.4\n",
       "1 1  1    2  1      0      22    22  1      1995-1998 1       ⋯ 0       0      \n",
       "2 1  1    3  2      0      22    22  0      1995-1998 0       ⋯ 0       0      \n",
       "3 1  1    5  3      0      22    22  0      1995-1998 0       ⋯ 1       0      \n",
       "4 1  1    6  4      0      22    22  0      1995-1998 0       ⋯ 0       1      \n",
       "5 1  2    4  5     22     995   973  0      1995-1998 0       ⋯ 0       0      \n",
       "6 1  2    5  6     22     995   973  0      1995-1998 0       ⋯ 0       0      \n",
       "7 1  2    6  7     22     995   973  0      1995-1998 0       ⋯ 0       0      \n",
       "  year2.5 year2.6 year2.7 year2.8 year2.9 year2.10 year2.11 year2.12\n",
       "1 0       0       0       0       0       0        0        0       \n",
       "2 0       0       0       0       0       0        0        0       \n",
       "3 0       0       0       0       0       0        0        0       \n",
       "4 0       0       0       0       0       0        0        0       \n",
       "5 1       0       0       0       0       0        0        0       \n",
       "6 0       1       0       0       0       0        0        0       \n",
       "7 0       0       1       0       0       0        0        0       "
      ]
     },
     "metadata": {},
     "output_type": "display_data"
    }
   ],
   "source": [
    "covs <- c(\"match\", \"proph\", \"year\", \"agecl\")\n",
    "msebmt <- expand.covs(msebmt, covs, longnames = FALSE)\n",
    "msebmt[msebmt$id == 1, -c(9, 10, 12:48, 61:84)]"
   ]
  },
  {
   "cell_type": "code",
   "execution_count": 8,
   "metadata": {},
   "outputs": [],
   "source": [
    "msebmt[, c(\"Tstart\", \"Tstop\", \"time\")] <- msebmt[, c(\"Tstart\",\n",
    "\"Tstop\", \"time\")]/365.25"
   ]
  },
  {
   "cell_type": "code",
   "execution_count": 250,
   "metadata": {},
   "outputs": [
    {
     "ename": "ERROR",
     "evalue": "Error in glmnet(x, y, weights = weights, offset = offset, lambda = lambda, : x should be a matrix with 2 or more columns\n",
     "output_type": "error",
     "traceback": [
      "Error in glmnet(x, y, weights = weights, offset = offset, lambda = lambda, : x should be a matrix with 2 or more columns\nTraceback:\n",
      "1. cv.glmnet(as.matrix(msebmt[\"trans\"]), Surv(msebmt$Tstop - msebmt$Tstart, \n .     msebmt$status), family = \"cox\", alpha = 1, nfolds = 10)",
      "2. glmnet(x, y, weights = weights, offset = offset, lambda = lambda, \n .     ...)",
      "3. stop(\"x should be a matrix with 2 or more columns\")"
     ]
    }
   ],
   "source": [
    "res1 <- cv.glmnet(as.matrix(msebmt[\"trans\"]), Surv(msebmt$Tstop-msebmt$Tstart, msebmt$status), family=\"cox\",alpha=1,nfolds=10)"
   ]
  },
  {
   "cell_type": "code",
   "execution_count": 9,
   "metadata": {},
   "outputs": [],
   "source": [
    "c0 <- coxph(Surv(Tstart, Tstop, status) ~ strata(trans), data = msebmt,\n",
    "method = \"breslow\")"
   ]
  },
  {
   "cell_type": "code",
   "execution_count": 15,
   "metadata": {},
   "outputs": [
    {
     "data": {
      "text/plain": [
       "Call:  coxph(formula = Surv(Tstart, Tstop, status) ~ strata(trans), \n",
       "    data = msebmt[, c(\"id\", \"trans\", \"Tstart\", \"Tstop\", \"status\")], \n",
       "    method = \"breslow\")\n",
       "\n",
       "Null model\n",
       "  log likelihood= -21684.27 \n",
       "  n= 15512 "
      ]
     },
     "metadata": {},
     "output_type": "display_data"
    }
   ],
   "source": [
    "coxph(Surv(Tstart, Tstop, status) ~ strata(trans), data = msebmt[,c(\"id\",\"trans\",\"Tstart\",\"Tstop\",\"status\")],method = \"breslow\")"
   ]
  },
  {
   "cell_type": "code",
   "execution_count": 264,
   "metadata": {},
   "outputs": [],
   "source": [
    "msf0 <- msfit(object = c0, vartype = \"greenwood\", trans = tmat)"
   ]
  },
  {
   "cell_type": "code",
   "execution_count": 185,
   "metadata": {},
   "outputs": [
    {
     "data": {
      "text/plain": [
       "\n",
       "  5   6 \n",
       "660 660 "
      ]
     },
     "metadata": {},
     "output_type": "display_data"
    }
   ],
   "source": [
    "table(msebmt[msebmt$from==4,]$to)"
   ]
  },
  {
   "cell_type": "code",
   "execution_count": 217,
   "metadata": {},
   "outputs": [
    {
     "data": {
      "image/png": "[encoded data removed]",
      "text/plain": [
       "plot without title"
      ]
     },
     "metadata": {},
     "output_type": "display_data"
    }
   ],
   "source": [
    "plot(msf0, las = 1, lty = rep(1:2, c(8, 4)),xlab = \"Years since transplantation\")"
   ]
  },
  {
   "cell_type": "code",
   "execution_count": 240,
   "metadata": {},
   "outputs": [
    {
     "data": {
      "text/html": [
       "<table>\n",
       "<thead><tr><th scope=col>time</th><th scope=col>Haz</th><th scope=col>trans</th></tr></thead>\n",
       "<tbody>\n",
       "\t<tr><td>0.002737851</td><td>0.000000000</td><td>1          </td></tr>\n",
       "\t<tr><td>0.008213552</td><td>0.000000000</td><td>1          </td></tr>\n",
       "\t<tr><td>0.010951403</td><td>0.000000000</td><td>1          </td></tr>\n",
       "\t<tr><td>0.013689254</td><td>0.000000000</td><td>1          </td></tr>\n",
       "\t<tr><td>0.016427105</td><td>0.000443066</td><td>1          </td></tr>\n",
       "\t<tr><td>0.019164956</td><td>0.001333142</td><td>1          </td></tr>\n",
       "</tbody>\n",
       "</table>\n"
      ],
      "text/latex": [
       "\\begin{tabular}{r|lll}\n",
       " time & Haz & trans\\\\\n",
       "\\hline\n",
       "\t 0.002737851 & 0.000000000 & 1          \\\\\n",
       "\t 0.008213552 & 0.000000000 & 1          \\\\\n",
       "\t 0.010951403 & 0.000000000 & 1          \\\\\n",
       "\t 0.013689254 & 0.000000000 & 1          \\\\\n",
       "\t 0.016427105 & 0.000443066 & 1          \\\\\n",
       "\t 0.019164956 & 0.001333142 & 1          \\\\\n",
       "\\end{tabular}\n"
      ],
      "text/markdown": [
       "\n",
       "| time | Haz | trans |\n",
       "|---|---|---|\n",
       "| 0.002737851 | 0.000000000 | 1           |\n",
       "| 0.008213552 | 0.000000000 | 1           |\n",
       "| 0.010951403 | 0.000000000 | 1           |\n",
       "| 0.013689254 | 0.000000000 | 1           |\n",
       "| 0.016427105 | 0.000443066 | 1           |\n",
       "| 0.019164956 | 0.001333142 | 1           |\n",
       "\n"
      ],
      "text/plain": [
       "  time        Haz         trans\n",
       "1 0.002737851 0.000000000 1    \n",
       "2 0.008213552 0.000000000 1    \n",
       "3 0.010951403 0.000000000 1    \n",
       "4 0.013689254 0.000000000 1    \n",
       "5 0.016427105 0.000443066 1    \n",
       "6 0.019164956 0.001333142 1    "
      ]
     },
     "metadata": {},
     "output_type": "display_data"
    },
    {
     "data": {
      "text/html": [
       "<table>\n",
       "<thead><tr><th></th><th scope=col>time</th><th scope=col>Haz</th><th scope=col>trans</th></tr></thead>\n",
       "<tbody>\n",
       "\t<tr><th scope=row>518</th><td>0.002737851 </td><td>0.0004389816</td><td>2           </td></tr>\n",
       "\t<tr><th scope=row>519</th><td>0.008213552 </td><td>0.0021956790</td><td>2           </td></tr>\n",
       "\t<tr><th scope=row>520</th><td>0.010951403 </td><td>0.0039554678</td><td>2           </td></tr>\n",
       "\t<tr><th scope=row>521</th><td>0.013689254 </td><td>0.0079237218</td><td>2           </td></tr>\n",
       "\t<tr><th scope=row>522</th><td>0.016427105 </td><td>0.0119113159</td><td>2           </td></tr>\n",
       "\t<tr><th scope=row>523</th><td>0.019164956 </td><td>0.0190319212</td><td>2           </td></tr>\n",
       "</tbody>\n",
       "</table>\n"
      ],
      "text/latex": [
       "\\begin{tabular}{r|lll}\n",
       "  & time & Haz & trans\\\\\n",
       "\\hline\n",
       "\t518 & 0.002737851  & 0.0004389816 & 2           \\\\\n",
       "\t519 & 0.008213552  & 0.0021956790 & 2           \\\\\n",
       "\t520 & 0.010951403  & 0.0039554678 & 2           \\\\\n",
       "\t521 & 0.013689254  & 0.0079237218 & 2           \\\\\n",
       "\t522 & 0.016427105  & 0.0119113159 & 2           \\\\\n",
       "\t523 & 0.019164956  & 0.0190319212 & 2           \\\\\n",
       "\\end{tabular}\n"
      ],
      "text/markdown": [
       "\n",
       "| <!--/--> | time | Haz | trans |\n",
       "|---|---|---|---|\n",
       "| 518 | 0.002737851  | 0.0004389816 | 2            |\n",
       "| 519 | 0.008213552  | 0.0021956790 | 2            |\n",
       "| 520 | 0.010951403  | 0.0039554678 | 2            |\n",
       "| 521 | 0.013689254  | 0.0079237218 | 2            |\n",
       "| 522 | 0.016427105  | 0.0119113159 | 2            |\n",
       "| 523 | 0.019164956  | 0.0190319212 | 2            |\n",
       "\n"
      ],
      "text/plain": [
       "    time        Haz          trans\n",
       "518 0.002737851 0.0004389816 2    \n",
       "519 0.008213552 0.0021956790 2    \n",
       "520 0.010951403 0.0039554678 2    \n",
       "521 0.013689254 0.0079237218 2    \n",
       "522 0.016427105 0.0119113159 2    \n",
       "523 0.019164956 0.0190319212 2    "
      ]
     },
     "metadata": {},
     "output_type": "display_data"
    },
    {
     "data": {
      "text/html": [
       "<table>\n",
       "<thead><tr><th></th><th scope=col>time</th><th scope=col>Haz</th><th scope=col>trans</th></tr></thead>\n",
       "<tbody>\n",
       "\t<tr><th scope=row>1035</th><td>0.002737851</td><td>0          </td><td>3          </td></tr>\n",
       "\t<tr><th scope=row>1036</th><td>0.008213552</td><td>0          </td><td>3          </td></tr>\n",
       "\t<tr><th scope=row>1037</th><td>0.010951403</td><td>0          </td><td>3          </td></tr>\n",
       "\t<tr><th scope=row>1038</th><td>0.013689254</td><td>0          </td><td>3          </td></tr>\n",
       "\t<tr><th scope=row>1039</th><td>0.016427105</td><td>0          </td><td>3          </td></tr>\n",
       "\t<tr><th scope=row>1040</th><td>0.019164956</td><td>0          </td><td>3          </td></tr>\n",
       "</tbody>\n",
       "</table>\n"
      ],
      "text/latex": [
       "\\begin{tabular}{r|lll}\n",
       "  & time & Haz & trans\\\\\n",
       "\\hline\n",
       "\t1035 & 0.002737851 & 0           & 3          \\\\\n",
       "\t1036 & 0.008213552 & 0           & 3          \\\\\n",
       "\t1037 & 0.010951403 & 0           & 3          \\\\\n",
       "\t1038 & 0.013689254 & 0           & 3          \\\\\n",
       "\t1039 & 0.016427105 & 0           & 3          \\\\\n",
       "\t1040 & 0.019164956 & 0           & 3          \\\\\n",
       "\\end{tabular}\n"
      ],
      "text/markdown": [
       "\n",
       "| <!--/--> | time | Haz | trans |\n",
       "|---|---|---|---|\n",
       "| 1035 | 0.002737851 | 0           | 3           |\n",
       "| 1036 | 0.008213552 | 0           | 3           |\n",
       "| 1037 | 0.010951403 | 0           | 3           |\n",
       "| 1038 | 0.013689254 | 0           | 3           |\n",
       "| 1039 | 0.016427105 | 0           | 3           |\n",
       "| 1040 | 0.019164956 | 0           | 3           |\n",
       "\n"
      ],
      "text/plain": [
       "     time        Haz trans\n",
       "1035 0.002737851 0   3    \n",
       "1036 0.008213552 0   3    \n",
       "1037 0.010951403 0   3    \n",
       "1038 0.013689254 0   3    \n",
       "1039 0.016427105 0   3    \n",
       "1040 0.019164956 0   3    "
      ]
     },
     "metadata": {},
     "output_type": "display_data"
    },
    {
     "data": {
      "text/html": [
       "<table>\n",
       "<thead><tr><th></th><th scope=col>time</th><th scope=col>Haz</th><th scope=col>trans</th></tr></thead>\n",
       "<tbody>\n",
       "\t<tr><th scope=row>1552</th><td>0.002737851 </td><td>0.0000000000</td><td>4           </td></tr>\n",
       "\t<tr><th scope=row>1553</th><td>0.008213552 </td><td>0.0000000000</td><td>4           </td></tr>\n",
       "\t<tr><th scope=row>1554</th><td>0.010951403 </td><td>0.0004399472</td><td>4           </td></tr>\n",
       "\t<tr><th scope=row>1555</th><td>0.013689254 </td><td>0.0013217814</td><td>4           </td></tr>\n",
       "\t<tr><th scope=row>1556</th><td>0.016427105 </td><td>0.0013217814</td><td>4           </td></tr>\n",
       "\t<tr><th scope=row>1557</th><td>0.019164956 </td><td>0.0026568949</td><td>4           </td></tr>\n",
       "</tbody>\n",
       "</table>\n"
      ],
      "text/latex": [
       "\\begin{tabular}{r|lll}\n",
       "  & time & Haz & trans\\\\\n",
       "\\hline\n",
       "\t1552 & 0.002737851  & 0.0000000000 & 4           \\\\\n",
       "\t1553 & 0.008213552  & 0.0000000000 & 4           \\\\\n",
       "\t1554 & 0.010951403  & 0.0004399472 & 4           \\\\\n",
       "\t1555 & 0.013689254  & 0.0013217814 & 4           \\\\\n",
       "\t1556 & 0.016427105  & 0.0013217814 & 4           \\\\\n",
       "\t1557 & 0.019164956  & 0.0026568949 & 4           \\\\\n",
       "\\end{tabular}\n"
      ],
      "text/markdown": [
       "\n",
       "| <!--/--> | time | Haz | trans |\n",
       "|---|---|---|---|\n",
       "| 1552 | 0.002737851  | 0.0000000000 | 4            |\n",
       "| 1553 | 0.008213552  | 0.0000000000 | 4            |\n",
       "| 1554 | 0.010951403  | 0.0004399472 | 4            |\n",
       "| 1555 | 0.013689254  | 0.0013217814 | 4            |\n",
       "| 1556 | 0.016427105  | 0.0013217814 | 4            |\n",
       "| 1557 | 0.019164956  | 0.0026568949 | 4            |\n",
       "\n"
      ],
      "text/plain": [
       "     time        Haz          trans\n",
       "1552 0.002737851 0.0000000000 4    \n",
       "1553 0.008213552 0.0000000000 4    \n",
       "1554 0.010951403 0.0004399472 4    \n",
       "1555 0.013689254 0.0013217814 4    \n",
       "1556 0.016427105 0.0013217814 4    \n",
       "1557 0.019164956 0.0026568949 4    "
      ]
     },
     "metadata": {},
     "output_type": "display_data"
    }
   ],
   "source": [
    "head(msf0$Haz[msf0$Haz$trans==1,])\n",
    "head(msf0$Haz[msf0$Haz$trans==2,])\n",
    "head(msf0$Haz[msf0$Haz$trans==3,])\n",
    "head(msf0$Haz[msf0$Haz$trans==4,])\n"
   ]
  },
  {
   "cell_type": "code",
   "execution_count": 236,
   "metadata": {},
   "outputs": [
    {
     "data": {
      "text/html": [
       "0.9867669027"
      ],
      "text/latex": [
       "0.9867669027"
      ],
      "text/markdown": [
       "0.9867669027"
      ],
      "text/plain": [
       "[1] 0.9867669"
      ]
     },
     "metadata": {},
     "output_type": "display_data"
    }
   ],
   "source": [
    "1-0.0013217814-0.0119113159"
   ]
  },
  {
   "cell_type": "code",
   "execution_count": 218,
   "metadata": {},
   "outputs": [],
   "source": [
    "pt0 <- probtrans(msf0, predt = 0, method = \"greenwood\")"
   ]
  },
  {
   "cell_type": "code",
   "execution_count": 251,
   "metadata": {},
   "outputs": [
    {
     "name": "stderr",
     "output_type": "stream",
     "text": [
      "Warning message in plot.window(...):\n",
      "“\"method\" is not a graphical parameter”Warning message in plot.xy(xy, type, ...):\n",
      "“\"method\" is not a graphical parameter”Warning message in axis(side = side, at = at, labels = labels, ...):\n",
      "“\"method\" is not a graphical parameter”Warning message in axis(side = side, at = at, labels = labels, ...):\n",
      "“\"method\" is not a graphical parameter”Warning message in box(...):\n",
      "“\"method\" is not a graphical parameter”Warning message in title(...):\n",
      "“\"method\" is not a graphical parameter”Warning message in plot.xy(xy.coords(x, y), type = type, ...):\n",
      "“\"method\" is not a graphical parameter”Warning message in plot.xy(xy.coords(x, y), type = type, ...):\n",
      "“\"method\" is not a graphical parameter”Warning message in plot.xy(xy.coords(x, y), type = type, ...):\n",
      "“\"method\" is not a graphical parameter”Warning message in plot.xy(xy.coords(x, y), type = type, ...):\n",
      "“\"method\" is not a graphical parameter”Warning message in plot.xy(xy.coords(x, y), type = type, ...):\n",
      "“\"method\" is not a graphical parameter”"
     ]
    },
    {
     "data": {
      "image/png": "[encoded data removed]",
      "text/plain": [
       "plot without title"
      ]
     },
     "metadata": {},
     "output_type": "display_data"
    }
   ],
   "source": [
    "plot(pt0,method=\"filled\")"
   ]
  },
  {
   "cell_type": "code",
   "execution_count": 257,
   "metadata": {},
   "outputs": [],
   "source": [
    "cfull <- coxph(Surv(Tstart, Tstop, status) ~ match.1 +\n",
    "match.2 + match.3 + match.4 + match.5 + match.6 +\n",
    "match.7 + match.8 + match.9 + match.10 + match.11 +\n",
    "match.12 + proph.1 + proph.2 + proph.3 + proph.4 +\n",
    "proph.5 + proph.6 + proph.7 + proph.8 + proph.9 +\n",
    "proph.10 + proph.11 + proph.12 + year1.1 + year1.2 +\n",
    "year1.3 + year1.4 + year1.5 + year1.6 + year1.7 +\n",
    "year1.8 + year1.9 + year1.10 + year1.11 + year1.12 +\n",
    "year2.1 + year2.2 + year2.3 + year2.4 + year2.5 +\n",
    "year2.6 + year2.7 + year2.8 + year2.9 + year2.10 +\n",
    "year2.11 + year2.12 + agecl1.1 + agecl1.2 + agecl1.3 +\n",
    "agecl1.4 + agecl1.5 + agecl1.6 + agecl1.7 + agecl1.8 +\n",
    "agecl1.9 + agecl1.10 + agecl1.11 + agecl1.12 + agecl2.1 +\n",
    "agecl2.2 + agecl2.3 + agecl2.4 + agecl2.5 + agecl2.6 +\n",
    "agecl2.7 + agecl2.8 + agecl2.9 + agecl2.10 + agecl2.11 +\n",
    "agecl2.12 + strata(trans), data = msebmt, method = \"breslow\")"
   ]
  },
  {
   "cell_type": "code",
   "execution_count": 269,
   "metadata": {},
   "outputs": [],
   "source": [
    "whA <- which(msebmt$proph == \"yes\" & msebmt$match == \"no gender mismatch\"& msebmt$year == \"1995-1998\" & msebmt$agecl == \"<=20\")\n",
    "patA <- msebmt[rep(whA[1], 12), 9:12]\n",
    "patA$trans <- 1:12\n",
    "attr(patA, \"trans\") <- tmat\n",
    "patA <- expand.covs(patA, covs, longnames = FALSE)\n",
    "patA$strata <- patA$trans\n",
    "msfA <- msfit(object=cfull,patA, trans = tmat)"
   ]
  },
  {
   "cell_type": "code",
   "execution_count": 303,
   "metadata": {},
   "outputs": [
    {
     "data": {
      "text/plain": [
       "Call:\n",
       "coxph(formula = Surv(Tstart, Tstop, status) ~ match.1 + match.2 + \n",
       "    match.3 + match.4 + match.5 + match.6 + match.7 + match.8 + \n",
       "    match.9 + match.10 + match.11 + match.12 + proph.1 + proph.2 + \n",
       "    proph.3 + proph.4 + proph.5 + proph.6 + proph.7 + proph.8 + \n",
       "    proph.9 + proph.10 + proph.11 + proph.12 + year1.1 + year1.2 + \n",
       "    year1.3 + year1.4 + year1.5 + year1.6 + year1.7 + year1.8 + \n",
       "    year1.9 + year1.10 + year1.11 + year1.12 + year2.1 + year2.2 + \n",
       "    year2.3 + year2.4 + year2.5 + year2.6 + year2.7 + year2.8 + \n",
       "    year2.9 + year2.10 + year2.11 + year2.12 + agecl1.1 + agecl1.2 + \n",
       "    agecl1.3 + agecl1.4 + agecl1.5 + agecl1.6 + agecl1.7 + agecl1.8 + \n",
       "    agecl1.9 + agecl1.10 + agecl1.11 + agecl1.12 + agecl2.1 + \n",
       "    agecl2.2 + agecl2.3 + agecl2.4 + agecl2.5 + agecl2.6 + agecl2.7 + \n",
       "    agecl2.8 + agecl2.9 + agecl2.10 + agecl2.11 + agecl2.12 + \n",
       "    strata(trans), data = msebmt, method = \"breslow\")\n",
       "\n",
       "  n= 15512, number of events= 3255 \n",
       "\n",
       "               coef exp(coef)  se(coef)      z Pr(>|z|)    \n",
       "match.1   -0.167396  0.845865  0.085301 -1.962 0.049714 *  \n",
       "match.2   -0.110558  0.895335  0.078787 -1.403 0.160543    \n",
       "match.3    0.195585  1.216022  0.223783  0.874 0.382122    \n",
       "match.4   -0.003464  0.996542  0.181312 -0.019 0.984756    \n",
       "match.5    0.190444  1.209786  0.152933  1.245 0.213032    \n",
       "match.6    0.425753  1.530742  0.213968  1.990 0.046613 *  \n",
       "match.7    0.244482  1.276960  0.404806  0.604 0.545878    \n",
       "match.8    0.125889  1.134157  0.112939  1.115 0.264993    \n",
       "match.9   -0.414372  0.660755  0.352178 -1.177 0.239356    \n",
       "match.10   0.008200  1.008234  0.167497  0.049 0.960953    \n",
       "match.11  -0.301279  0.739871  0.248251 -1.214 0.224898    \n",
       "match.12   0.571506  1.770933  0.179425  3.185 0.001446 ** \n",
       "proph.1   -0.365788  0.693650  0.092879 -3.938 8.21e-05 ***\n",
       "proph.2   -0.277603  0.757598  0.083187 -3.337 0.000847 ***\n",
       "proph.3    0.384953  1.469546  0.227145  1.695 0.090123 .  \n",
       "proph.4   -0.056392  0.945169  0.178748 -0.315 0.752395    \n",
       "proph.5   -0.281844  0.754392  0.196259 -1.436 0.150979    \n",
       "proph.6    0.267597  1.306821  0.220868  1.212 0.225677    \n",
       "proph.7   -0.007575  0.992454  0.377779 -0.020 0.984003    \n",
       "proph.8    0.124945  1.133086  0.124881  1.001 0.317060    \n",
       "proph.9    0.158893  1.172212  0.320786  0.495 0.620372    \n",
       "proph.10   0.323600  1.382095  0.166376  1.945 0.051776 .  \n",
       "proph.11   0.012261  1.012337  0.247086  0.050 0.960422    \n",
       "proph.12  -0.111758  0.894260  0.217386 -0.514 0.607181    \n",
       "year1.1    0.401111  1.493482  0.100151  4.005 6.20e-05 ***\n",
       "year1.2    0.022976  1.023242  0.083876  0.274 0.784136    \n",
       "year1.3    0.441937  1.555718  0.244657  1.806 0.070863 .  \n",
       "year1.4   -0.358664  0.698609  0.193034 -1.858 0.063165 .  \n",
       "year1.5   -0.094688  0.909657  0.191327 -0.495 0.620670    \n",
       "year1.6   -0.210058  0.810537  0.263429 -0.797 0.425219    \n",
       "year1.7   -0.836282  0.433319  0.398280 -2.100 0.035752 *  \n",
       "year1.8    0.528238  1.695942  0.135335  3.903 9.49e-05 ***\n",
       "year1.9   -0.310895  0.732791  0.299696 -1.037 0.299563    \n",
       "year1.10  -0.643921  0.525229  0.173297 -3.716 0.000203 ***\n",
       "year1.11  -0.024286  0.976007  0.252616 -0.096 0.923412    \n",
       "year1.12  -0.362394  0.696008  0.228387 -1.587 0.112568    \n",
       "year2.1    0.521224  1.684088  0.103003  5.060 4.19e-07 ***\n",
       "year2.2   -0.113906  0.892342  0.091189 -1.249 0.211623    \n",
       "year2.3    0.220952  1.247263  0.302037  0.732 0.464450    \n",
       "year2.4   -0.475583  0.621522  0.217596 -2.186 0.028843 *  \n",
       "year2.5   -0.150925  0.859912  0.189974 -0.794 0.426935    \n",
       "year2.6    0.055170  1.056720  0.258484  0.213 0.830986    \n",
       "year2.7   -0.979617  0.375455  0.442331 -2.215 0.026783 *  \n",
       "year2.8    0.930428  2.535593  0.140567  6.619 3.61e-11 ***\n",
       "year2.9   -0.580375  0.559689  0.433284 -1.339 0.180415    \n",
       "year2.10  -0.212821  0.808301  0.194588 -1.094 0.274086    \n",
       "year2.11  -0.389563  0.677352  0.277241 -1.405 0.159979    \n",
       "year2.12  -0.352019  0.703267  0.238440 -1.476 0.139853    \n",
       "agecl1.1   0.049112  1.050338  0.088876  0.553 0.580543    \n",
       "agecl1.2   0.123340  1.131268  0.082832  1.489 0.136481    \n",
       "agecl1.3  -0.093608  0.910639  0.232175 -0.403 0.686816    \n",
       "agecl1.4   0.766029  2.151207  0.228562  3.352 0.000804 ***\n",
       "agecl1.5   0.292378  1.339610  0.187504  1.559 0.118922    \n",
       "agecl1.6  -0.255416  0.774594  0.223056 -1.145 0.252178    \n",
       "agecl1.7   0.150255  1.162130  0.490927  0.306 0.759557    \n",
       "agecl1.8  -0.393161  0.674920  0.116296 -3.381 0.000723 ***\n",
       "agecl1.9   0.172498  1.188269  0.366786  0.470 0.638144    \n",
       "agecl1.10  0.237579  1.268176  0.205262  1.157 0.247090    \n",
       "agecl1.11  0.414041  1.512919  0.250179  1.655 0.097929 .  \n",
       "agecl1.12  0.759524  2.137260  0.272286  2.789 0.005280 ** \n",
       "agecl2.1   0.199439  1.220718  0.102441  1.947 0.051550 .  \n",
       "agecl2.2   0.067313  1.069630  0.100945  0.667 0.504883    \n",
       "agecl2.3  -0.232173  0.792809  0.322286 -0.720 0.471281    \n",
       "agecl2.4   0.934224  2.545238  0.264412  3.533 0.000411 ***\n",
       "agecl2.5   0.470068  1.600102  0.205277  2.290 0.022026 *  \n",
       "agecl2.6  -0.100720  0.904186  0.264126 -0.381 0.702957    \n",
       "agecl2.7   1.464513  4.325437  0.481106  3.044 0.002334 ** \n",
       "agecl2.8  -0.327631  0.720629  0.142436 -2.300 0.021437 *  \n",
       "agecl2.9   0.422855  1.526313  0.432526  0.978 0.328252    \n",
       "agecl2.10  0.494656  1.639934  0.236828  2.089 0.036738 *  \n",
       "agecl2.11  0.256183  1.291989  0.304150  0.842 0.399626    \n",
       "agecl2.12  1.336744  3.806630  0.287013  4.657 3.20e-06 ***\n",
       "---\n",
       "Signif. codes:  0 ‘***’ 0.001 ‘**’ 0.01 ‘*’ 0.05 ‘.’ 0.1 ‘ ’ 1\n",
       "\n",
       "          exp(coef) exp(-coef) lower .95 upper .95\n",
       "match.1      0.8459     1.1822    0.7156    0.9998\n",
       "match.2      0.8953     1.1169    0.7672    1.0448\n",
       "match.3      1.2160     0.8224    0.7843    1.8855\n",
       "match.4      0.9965     1.0035    0.6985    1.4218\n",
       "match.5      1.2098     0.8266    0.8965    1.6326\n",
       "match.6      1.5307     0.6533    1.0064    2.3283\n",
       "match.7      1.2770     0.7831    0.5776    2.8232\n",
       "match.8      1.1342     0.8817    0.9089    1.4152\n",
       "match.9      0.6608     1.5134    0.3313    1.3177\n",
       "match.10     1.0082     0.9918    0.7261    1.4000\n",
       "match.11     0.7399     1.3516    0.4548    1.2036\n",
       "match.12     1.7709     0.5647    1.2459    2.5173\n",
       "proph.1      0.6937     1.4416    0.5782    0.8321\n",
       "proph.2      0.7576     1.3200    0.6436    0.8918\n",
       "proph.3      1.4695     0.6805    0.9415    2.2937\n",
       "proph.4      0.9452     1.0580    0.6658    1.3417\n",
       "proph.5      0.7544     1.3256    0.5135    1.1083\n",
       "proph.6      1.3068     0.7652    0.8476    2.0147\n",
       "proph.7      0.9925     1.0076    0.4733    2.0810\n",
       "proph.8      1.1331     0.8825    0.8871    1.4473\n",
       "proph.9      1.1722     0.8531    0.6251    2.1982\n",
       "proph.10     1.3821     0.7235    0.9975    1.9150\n",
       "proph.11     1.0123     0.9878    0.6237    1.6430\n",
       "proph.12     0.8943     1.1182    0.5840    1.3693\n",
       "year1.1      1.4935     0.6696    1.2273    1.8174\n",
       "year1.2      1.0232     0.9773    0.8681    1.2061\n",
       "year1.3      1.5557     0.6428    0.9631    2.5129\n",
       "year1.4      0.6986     1.4314    0.4785    1.0199\n",
       "year1.5      0.9097     1.0993    0.6252    1.3235\n",
       "year1.6      0.8105     1.2337    0.4837    1.3583\n",
       "year1.7      0.4333     2.3078    0.1985    0.9459\n",
       "year1.8      1.6959     0.5896    1.3008    2.2111\n",
       "year1.9      0.7328     1.3646    0.4073    1.3185\n",
       "year1.10     0.5252     1.9039    0.3740    0.7377\n",
       "year1.11     0.9760     1.0246    0.5949    1.6013\n",
       "year1.12     0.6960     1.4368    0.4448    1.0890\n",
       "year2.1      1.6841     0.5938    1.3762    2.0608\n",
       "year2.2      0.8923     1.1206    0.7463    1.0670\n",
       "year2.3      1.2473     0.8018    0.6900    2.2545\n",
       "year2.4      0.6215     1.6090    0.4057    0.9521\n",
       "year2.5      0.8599     1.1629    0.5926    1.2478\n",
       "year2.6      1.0567     0.9463    0.6367    1.7538\n",
       "year2.7      0.3755     2.6634    0.1578    0.8934\n",
       "year2.8      2.5356     0.3944    1.9250    3.3399\n",
       "year2.9      0.5597     1.7867    0.2394    1.3085\n",
       "year2.10     0.8083     1.2372    0.5520    1.1836\n",
       "year2.11     0.6774     1.4763    0.3934    1.1663\n",
       "year2.12     0.7033     1.4219    0.4407    1.1222\n",
       "agecl1.1     1.0503     0.9521    0.8824    1.2502\n",
       "agecl1.2     1.1313     0.8840    0.9617    1.3307\n",
       "agecl1.3     0.9106     1.0981    0.5777    1.4354\n",
       "agecl1.4     2.1512     0.4649    1.3745    3.3669\n",
       "agecl1.5     1.3396     0.7465    0.9276    1.9346\n",
       "agecl1.6     0.7746     1.2910    0.5003    1.1993\n",
       "agecl1.7     1.1621     0.8605    0.4440    3.0418\n",
       "agecl1.8     0.6749     1.4817    0.5374    0.8477\n",
       "agecl1.9     1.1883     0.8416    0.5790    2.4385\n",
       "agecl1.10    1.2682     0.7885    0.8481    1.8963\n",
       "agecl1.11    1.5129     0.6610    0.9265    2.4704\n",
       "agecl1.12    2.1373     0.4679    1.2534    3.6444\n",
       "agecl2.1     1.2207     0.8192    0.9987    1.4922\n",
       "agecl2.2     1.0696     0.9349    0.8776    1.3036\n",
       "agecl2.3     0.7928     1.2613    0.4215    1.4911\n",
       "agecl2.4     2.5452     0.3929    1.5159    4.2736\n",
       "agecl2.5     1.6001     0.6250    1.0701    2.3927\n",
       "agecl2.6     0.9042     1.1060    0.5388    1.5173\n",
       "agecl2.7     4.3254     0.2312    1.6847   11.1058\n",
       "agecl2.8     0.7206     1.3877    0.5451    0.9527\n",
       "agecl2.9     1.5263     0.6552    0.6538    3.5630\n",
       "agecl2.10    1.6399     0.6098    1.0309    2.6086\n",
       "agecl2.11    1.2920     0.7740    0.7118    2.3450\n",
       "agecl2.12    3.8066     0.2627    2.1689    6.6811\n",
       "\n",
       "Concordance= 0.563  (se = 0.006 )\n",
       "Likelihood ratio test= 287.5  on 72 df,   p=<2e-16\n",
       "Wald test            = 274.2  on 72 df,   p=<2e-16\n",
       "Score (logrank) test = 283.5  on 72 df,   p=<2e-16\n"
      ]
     },
     "metadata": {},
     "output_type": "display_data"
    }
   ],
   "source": [
    "summary(cfull)"
   ]
  },
  {
   "cell_type": "code",
   "execution_count": 397,
   "metadata": {},
   "outputs": [
    {
     "data": {
      "text/html": [
       "0.0003899463032052"
      ],
      "text/latex": [
       "0.0003899463032052"
      ],
      "text/markdown": [
       "0.0003899463032052"
      ],
      "text/plain": [
       "[1] 0.0003899463"
      ]
     },
     "metadata": {},
     "output_type": "display_data"
    },
    {
     "data": {
      "text/html": [
       "0.00959463633402567"
      ],
      "text/latex": [
       "0.00959463633402567"
      ],
      "text/markdown": [
       "0.00959463633402567"
      ],
      "text/plain": [
       "[1] 0.009594636"
      ]
     },
     "metadata": {},
     "output_type": "display_data"
    },
    {
     "data": {
      "text/html": [
       "0.000617658357264792"
      ],
      "text/latex": [
       "0.000617658357264792"
      ],
      "text/markdown": [
       "0.000617658357264792"
      ],
      "text/plain": [
       "[1] 0.0006176584"
      ]
     },
     "metadata": {},
     "output_type": "display_data"
    }
   ],
   "source": [
    "(0.6937*1.4935)*0.0003765615\n",
    "0.757598*0.892342*0.0141924824\n",
    "0.945169*0.621522*0.0010514348 \n"
   ]
  },
  {
   "cell_type": "code",
   "execution_count": 334,
   "metadata": {},
   "outputs": [
    {
     "data": {
      "text/plain": [
       "NULL"
      ]
     },
     "metadata": {},
     "output_type": "display_data"
    }
   ],
   "source": []
  },
  {
   "cell_type": "code",
   "execution_count": null,
   "metadata": {},
   "outputs": [],
   "source": [
    "ptA"
   ]
  },
  {
   "cell_type": "code",
   "execution_count": 393,
   "metadata": {},
   "outputs": [
    {
     "name": "stdout",
     "output_type": "stream",
     "text": [
      "An object of class 'msfit'\n",
      "\n",
      "Transition 1 (head and tail):\n",
      "\n",
      "         time          Haz trans\n",
      "1 0.002737851 0.0000000000     1\n",
      "2 0.008213552 0.0000000000     1\n",
      "3 0.010951403 0.0000000000     1\n",
      "4 0.013689254 0.0000000000     1\n",
      "5 0.016427105 0.0003765615     1\n",
      "6 0.019164956 0.0011328385     1\n",
      "\n",
      "...\n",
      "\n",
      "        time       Haz trans\n",
      "512 12.48460 0.6774274     1\n",
      "513 12.61602 0.6774274     1\n",
      "514 13.02396 0.6774274     1\n",
      "515 13.10609 0.6774274     1\n",
      "516 13.12799 0.6774274     1\n",
      "517 17.24572 0.6774274     1\n",
      "\n",
      "Transition 2 (head and tail):\n",
      "\n",
      "           time          Haz trans\n",
      "518 0.002737851 0.0003061179     2\n",
      "519 0.008213552 0.0015310860     2\n",
      "520 0.010951403 0.0027583438     2\n",
      "521 0.013689254 0.0055253716     2\n",
      "522 0.016427105 0.0083061336     2\n",
      "523 0.019164956 0.0132711189     2\n",
      "\n",
      "...\n",
      "\n",
      "         time      Haz trans\n",
      "1029 12.48460 0.464366     2\n",
      "1030 12.61602 0.464366     2\n",
      "1031 13.02396 0.464366     2\n",
      "1032 13.10609 0.464366     2\n",
      "1033 13.12799 0.464366     2\n",
      "1034 17.24572 0.464366     2\n",
      "\n",
      "Transition 3 (head and tail):\n",
      "\n",
      "            time Haz trans\n",
      "1035 0.002737851   0     3\n",
      "1036 0.008213552   0     3\n",
      "1037 0.010951403   0     3\n",
      "1038 0.013689254   0     3\n",
      "1039 0.016427105   0     3\n",
      "1040 0.019164956   0     3\n",
      "\n",
      "...\n",
      "\n",
      "         time       Haz trans\n",
      "1546 12.48460 0.3327746     3\n",
      "1547 12.61602 0.3327746     3\n",
      "1548 13.02396 0.3327746     3\n",
      "1549 13.10609 0.3327746     3\n",
      "1550 13.12799 0.3327746     3\n",
      "1551 17.24572 0.3327746     3\n",
      "\n",
      "Transition 4 (head and tail):\n",
      "\n",
      "            time          Haz trans\n",
      "1552 0.002737851 0.0000000000     4\n",
      "1553 0.008213552 0.0000000000     4\n",
      "1554 0.010951403 0.0001779313     4\n",
      "1555 0.013689254 0.0005347109     4\n",
      "1556 0.016427105 0.0005347109     4\n",
      "1557 0.019164956 0.0010747154     4\n",
      "\n",
      "...\n",
      "\n",
      "         time       Haz trans\n",
      "2063 12.48460 0.1153793     4\n",
      "2064 12.61602 0.1267464     4\n",
      "2065 13.02396 0.1267464     4\n",
      "2066 13.10609 0.1412925     4\n",
      "2067 13.12799 0.1412925     4\n",
      "2068 17.24572 0.1412925     4\n",
      "\n",
      "Transition 5 (head and tail):\n",
      "\n",
      "            time Haz trans\n",
      "2069 0.002737851   0     5\n",
      "2070 0.008213552   0     5\n",
      "2071 0.010951403   0     5\n",
      "2072 0.013689254   0     5\n",
      "2073 0.016427105   0     5\n",
      "2074 0.019164956   0     5\n",
      "\n",
      "...\n",
      "\n",
      "         time       Haz trans\n",
      "2580 12.48460 0.5237303     5\n",
      "2581 12.61602 0.5237303     5\n",
      "2582 13.02396 0.5237303     5\n",
      "2583 13.10609 0.5237303     5\n",
      "2584 13.12799 0.5237303     5\n",
      "2585 17.24572 0.5237303     5\n",
      "\n",
      "Transition 6 (head and tail):\n",
      "\n",
      "            time Haz trans\n",
      "2586 0.002737851   0     6\n",
      "2587 0.008213552   0     6\n",
      "2588 0.010951403   0     6\n",
      "2589 0.013689254   0     6\n",
      "2590 0.016427105   0     6\n",
      "2591 0.019164956   0     6\n",
      "\n",
      "...\n",
      "\n",
      "         time     Haz trans\n",
      "3097 12.48460 0.41318     6\n",
      "3098 12.61602 0.41318     6\n",
      "3099 13.02396 0.41318     6\n",
      "3100 13.10609 0.41318     6\n",
      "3101 13.12799 0.41318     6\n",
      "3102 17.24572 0.41318     6\n",
      "\n",
      "Transition 7 (head and tail):\n",
      "\n",
      "            time Haz trans\n",
      "3103 0.002737851   0     7\n",
      "3104 0.008213552   0     7\n",
      "3105 0.010951403   0     7\n",
      "3106 0.013689254   0     7\n",
      "3107 0.016427105   0     7\n",
      "3108 0.019164956   0     7\n",
      "\n",
      "...\n",
      "\n",
      "         time        Haz trans\n",
      "3614 12.48460 0.04297043     7\n",
      "3615 12.61602 0.04297043     7\n",
      "3616 13.02396 0.04297043     7\n",
      "3617 13.10609 0.04297043     7\n",
      "3618 13.12799 0.04297043     7\n",
      "3619 17.24572 0.04297043     7\n",
      "\n",
      "Transition 8 (head and tail):\n",
      "\n",
      "            time Haz trans\n",
      "3620 0.002737851   0     8\n",
      "3621 0.008213552   0     8\n",
      "3622 0.010951403   0     8\n",
      "3623 0.013689254   0     8\n",
      "3624 0.016427105   0     8\n",
      "3625 0.019164956   0     8\n",
      "\n",
      "...\n",
      "\n",
      "         time      Haz trans\n",
      "4131 12.48460 1.915836     8\n",
      "4132 12.61602 1.915836     8\n",
      "4133 13.02396 1.915836     8\n",
      "4134 13.10609 1.915836     8\n",
      "4135 13.12799 1.915836     8\n",
      "4136 17.24572 1.915836     8\n",
      "\n",
      "Transition 9 (head and tail):\n",
      "\n",
      "            time Haz trans\n",
      "4137 0.002737851   0     9\n",
      "4138 0.008213552   0     9\n",
      "4139 0.010951403   0     9\n",
      "4140 0.013689254   0     9\n",
      "4141 0.016427105   0     9\n",
      "4142 0.019164956   0     9\n",
      "\n",
      "...\n",
      "\n",
      "         time       Haz trans\n",
      "4648 12.48460 0.1428138     9\n",
      "4649 12.61602 0.1428138     9\n",
      "4650 13.02396 0.1428138     9\n",
      "4651 13.10609 0.1428138     9\n",
      "4652 13.12799 0.1428138     9\n",
      "4653 17.24572 0.1428138     9\n",
      "\n",
      "Transition 10 (head and tail):\n",
      "\n",
      "            time Haz trans\n",
      "4654 0.002737851   0    10\n",
      "4655 0.008213552   0    10\n",
      "4656 0.010951403   0    10\n",
      "4657 0.013689254   0    10\n",
      "4658 0.016427105   0    10\n",
      "4659 0.019164956   0    10\n",
      "\n",
      "...\n",
      "\n",
      "         time       Haz trans\n",
      "5165 12.48460 0.5831219    10\n",
      "5166 12.61602 0.5831219    10\n",
      "5167 13.02396 0.6113666    10\n",
      "5168 13.10609 0.6113666    10\n",
      "5169 13.12799 0.6113666    10\n",
      "5170 17.24572 0.6113666    10\n",
      "\n",
      "Transition 11 (head and tail):\n",
      "\n",
      "            time Haz trans\n",
      "5171 0.002737851   0    11\n",
      "5172 0.008213552   0    11\n",
      "5173 0.010951403   0    11\n",
      "5174 0.013689254   0    11\n",
      "5175 0.016427105   0    11\n",
      "5176 0.019164956   0    11\n",
      "\n",
      "...\n",
      "\n",
      "         time       Haz trans\n",
      "5682 12.48460 0.1502114    11\n",
      "5683 12.61602 0.1502114    11\n",
      "5684 13.02396 0.1502114    11\n",
      "5685 13.10609 0.1502114    11\n",
      "5686 13.12799 0.1502114    11\n",
      "5687 17.24572 0.1502114    11\n",
      "\n",
      "Transition 12 (head and tail):\n",
      "\n",
      "            time Haz trans\n",
      "5688 0.002737851   0    12\n",
      "5689 0.008213552   0    12\n",
      "5690 0.010951403   0    12\n",
      "5691 0.013689254   0    12\n",
      "5692 0.016427105   0    12\n",
      "5693 0.019164956   0    12\n",
      "\n",
      "...\n",
      "\n",
      "         time       Haz trans\n",
      "6199 12.48460 0.1206888    12\n",
      "6200 12.61602 0.1206888    12\n",
      "6201 13.02396 0.1206888    12\n",
      "6202 13.10609 0.1206888    12\n",
      "6203 13.12799 0.1337559    12\n",
      "6204 17.24572 0.1337559    12\n"
     ]
    }
   ],
   "source": [
    "summary(msfA)"
   ]
  },
  {
   "cell_type": "code",
   "execution_count": 272,
   "metadata": {},
   "outputs": [],
   "source": [
    "ptA <- probtrans(msfA, predt = 0)"
   ]
  },
  {
   "cell_type": "code",
   "execution_count": null,
   "metadata": {},
   "outputs": [],
   "source": [
    "ptA"
   ]
  },
  {
   "cell_type": "code",
   "execution_count": null,
   "metadata": {},
   "outputs": [],
   "source": []
  }
 ],
 "metadata": {
  "kernelspec": {
   "display_name": "R",
   "language": "R",
   "name": "ir"
  },
  "language_info": {
   "codemirror_mode": "r",
   "file_extension": ".r",
   "mimetype": "text/x-r-source",
   "name": "R",
   "pygments_lexer": "r",
   "version": "3.5.2"
  }
 },
 "nbformat": 4,
 "nbformat_minor": 2
}

{
 "cells": [
  {
   "cell_type": "code",
   "execution_count": 17,
   "metadata": {},
   "outputs": [],
   "source": [
    "df_final <- read.table(\"../../../../clustering/clustering_Final_1/df_final_full_component_ITD.tsv\")\n",
    "master <- read.table(\"../../../../../data/initial_dataset/Master_04_10_2019.tsv\")\n",
    "rownames(master) <- master$data_pd\n",
    "df_final <- merge(df_final,master[,c(\"data_pd\",\"intense\")],by=0)\n",
    "rownames(df_final) <- df_final$Row.names\n",
    "df_final <- df_final[-1]\n",
    "df_final$data_pd <- NULL\n",
    "\n",
    "#Usual Features\n",
    "eln <- c(2,3,4)\n",
    "comp <- c(170:193)\n",
    "age <- c(167)\n",
    "\n",
    "all_gen <- c(5:88)\n",
    "vect <- apply(X=df_final[,all_gen],2,FUN=function(x) 100*length(which(x==1))/dim(df_final)[1])\n",
    "gen <- match(names(vect[vect>=2]),names(df_final))\n",
    "gen_without <- setdiff(gen,grep(\"^NPM1$\", colnames(df_final)))\n",
    "gen_without <- setdiff(gen_without,grep(\"^CEBPA_bi$\", colnames(df_final))) \n",
    "              \n",
    "all_cyto <- c(89:158)\n",
    "vect <- apply(X=df_final[,all_cyto],2,FUN=function(x) 100*length(which(x==1))/dim(df_final)[1])\n",
    "cyto <- match(names(vect[vect>=2]),names(df_final))\n",
    "cyto_without <- setdiff(cyto,grep(\"^inv_16$\", colnames(df_final)))\n",
    "cyto_without <- setdiff(cyto_without,grep(\"^t_8_21$\", colnames(df_final)))      \n",
    "cyto_without <- setdiff(cyto_without,grep(\"^t_v_11$\", colnames(df_final))) \n",
    "\n",
    "clin <- c(159:165)\n",
    "demo <- c(166:167)\n",
    "demo_without_age <-c(166)\n",
    "              \n",
    "name_genes <- colnames(df_final[,gen])\n",
    "name_cyto <- colnames(df_final[,cyto])\n",
    "name_comp <- colnames(df_final[,comp])\n",
    "name_eln <- colnames(df_final[,eln])\n",
    "for (col in c(name_eln,name_genes,name_cyto,name_comp)){\n",
    "    df_final[,paste(col,\"intense\",sep=\"_\")] <- df_final[,col]*df_final$intense\n",
    "}    \n",
    "#Features with intensification\n",
    "    \n",
    "eln_intense <- c(197:199)\n",
    "comp_intense <- c(255:278) \n",
    "gen_intense <- c(200:234)    \n",
    "             \n",
    "gen_without_intense <- setdiff(gen_intense,grep(\"^NPM1_intense$\", colnames(df_final)))\n",
    "gen_without_intense <- setdiff(gen_without_intense,grep(\"^CEBPA_bi_intense$\", colnames(df_final)))\n",
    "cyto_intense <- c(235:254)\n",
    "cyto_without_intense <- setdiff(cyto_intense,grep(\"^inv_16_intense$\", colnames(df_final)))\n",
    "cyto_without_intense <- setdiff(cyto_without_intense,grep(\"^t_8_21_intense$\", colnames(df_final)))      \n",
    "cyto_without_intense <- setdiff(cyto_without_intense,grep(\"^t_v_11_intense$\", colnames(df_final))) \n"
   ]
  },
  {
   "cell_type": "code",
   "execution_count": null,
   "metadata": {},
   "outputs": [],
   "source": []
  }
 ],
 "metadata": {
  "kernelspec": {
   "display_name": "R",
   "language": "R",
   "name": "ir"
  },
  "language_info": {
   "codemirror_mode": "r",
   "file_extension": ".r",
   "mimetype": "text/x-r-source",
   "name": "R",
   "pygments_lexer": "r",
   "version": "3.5.2"
  }
 },
 "nbformat": 4,
 "nbformat_minor": 2
}

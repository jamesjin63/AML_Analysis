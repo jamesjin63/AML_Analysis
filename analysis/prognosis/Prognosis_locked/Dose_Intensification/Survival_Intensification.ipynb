{
 "cells": [
  {
   "cell_type": "code",
   "execution_count": 3,
   "metadata": {},
   "outputs": [],
   "source": [
    "library(gridExtra)\n",
    "library(matrixStats)\n",
    "library(dplyr)\n",
    "library(rlang)\n",
    "library(reshape2)\n",
    "library(clusterCrit)\n",
    "library(grid)\n",
    "library(ggrepel)\n",
    "library(RColorBrewer)\n",
    "library(dplyr)\n",
    "library(IRdisplay)\n",
    "library(scales)\n",
    "library(survival)\n",
    "library(corrplot)\n",
    "library(Hmisc)\n",
    "library(ggplot2)\n",
    "library(survminer)\n",
    "library(muhaz)\n",
    "\n",
    "options(warn=-1)\n",
    "\n",
    "source('../../../../src/tools.R')     # custom tools function\n",
    "source(\"../../../../src/ggstyles.R\")\n",
    "\n",
    "###\n",
    "\n",
    "\n",
    "theme_set(theme_minimal())\n",
    "\n",
    "# set jupyer notebook parameters\n",
    "options(repr.plot.res        = 100, # set a medium-definition resolution for the jupyter notebooks plots (DPI)\n",
    "        repr.matrix.max.rows = 200, # set the maximum number of rows displayed\n",
    "        repr.matrix.max.cols = 200) # set the maximum number of columns displayed"
   ]
  },
  {
   "cell_type": "code",
   "execution_count": 4,
   "metadata": {},
   "outputs": [],
   "source": [
    "val=c(\"grey45\", \"#e79f00\", \"#009E73\",\"#0072B2\",  \"#CC79A7\",\n",
    "        \"#9ad0f3\", \"#D55E00\", \n",
    "        \"lightgoldenrod\",\"lightskyblue\",\"#F0E442\",\n",
    "        \"firebrick3\",\"#000000\",\"#870C14\",\"#a6bddb\",\"mistyrose4\",\"#fdbb84\",\"deeppink\",\"darkseagreen\",\"black\")\n",
    "plot_surv <-function(fit,tmp,title=\"\",vals=val,legend=\"top\"){\n",
    "ggsurvplot(fit,  pval = TRUE,main = \"Survival curve\",risk.table=T,submain = \"Kaplan-Meier estimates\",palette=vals,legend=legend,linetype = 1,\n",
    "                  ggtheme = theme_survminer(\n",
    "                 font.main = c(26, \"bold\", \"darkblue\"),\n",
    "                 font.submain = c(25, \"bold.italic\", \"purple\"),\n",
    "                 font.legend=14,\n",
    "                      pval.size=20,\n",
    "                 font.caption = c(24, \"plain\", \"orange\"),\n",
    "                 font.x = c(14, \"bold.italic\", \"red\"),\n",
    "                 font.y = c(14, \"bold.italic\", \"darkred\"),\n",
    "                 font.tickslab = c(22, \"plain\", \"darkgreen\")))\n",
    "\n",
    "}"
   ]
  },
  {
   "cell_type": "code",
   "execution_count": 5,
   "metadata": {},
   "outputs": [],
   "source": [
    "df_w_correlates <- read.table(\"../../../clustering/clustering_Final_1/df_final_full_component.tsv\")"
   ]
  },
  {
   "cell_type": "code",
   "execution_count": null,
   "metadata": {},
   "outputs": [],
   "source": []
  }
 ],
 "metadata": {
  "kernelspec": {
   "display_name": "R",
   "language": "R",
   "name": "ir"
  },
  "language_info": {
   "codemirror_mode": "r",
   "file_extension": ".r",
   "mimetype": "text/x-r-source",
   "name": "R",
   "pygments_lexer": "r",
   "version": "3.5.2"
  }
 },
 "nbformat": 4,
 "nbformat_minor": 2
}

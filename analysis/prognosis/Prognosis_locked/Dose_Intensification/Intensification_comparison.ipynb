{
 "cells": [
  {
   "cell_type": "code",
   "execution_count": 9,
   "metadata": {},
   "outputs": [],
   "source": [
    "library('ggplot2')\n",
    "library('reshape2')\n",
    "library('ggpubr')\n",
    "library(glmnet)\n",
    "library(doMC)\n",
    "library(survival)\n",
    "library(data.table)\n",
    "library(mltools)\n",
    "library(CoxBoost)\n",
    "library(randomForestSRC)\n",
    "library(CoxHD)\n",
    "library(Hmisc)\n",
    "library(gridExtra)\n",
    "library(\"survminer\")\n",
    "library(dplyr)\n",
    "library(stringr)\n",
    "source(\"../../../../src/tools.R\")\n",
    "options(repr.plot.res        = 100, # set a medium-definition resolution for the jupyter notebooks plots (DPI)\n",
    "        repr.matrix.max.rows = 250, # set the maximum number of rows displayed\n",
    "        repr.matrix.max.cols = 250) # set the maximum number of columns displayed"
   ]
  },
  {
   "cell_type": "code",
   "execution_count": 11,
   "metadata": {},
   "outputs": [
    {
     "data": {
      "text/html": [
       "<strong>pdf:</strong> 2"
      ],
      "text/latex": [
       "\\textbf{pdf:} 2"
      ],
      "text/markdown": [
       "**pdf:** 2"
      ],
      "text/plain": [
       "pdf \n",
       "  2 "
      ]
     },
     "metadata": {},
     "output_type": "display_data"
    }
   ],
   "source": [
    "options(warn = -1)\n",
    "myplots <- list() \n",
    "i <- 1\n",
    "pdf(\"../graphs/Intensification/prognosis_comparison.pdf\",width=70,height=120)\n",
    "for (l in list.files('Prognosis_intense/')){\n",
    "    if (grepl(\"tsv\",l)){\n",
    "        df <- NULL\n",
    "        #try(tmp1 <- cbind(read.table(paste('../Bootstrap_coef/',l,sep=\"\"))[,c(1,3,5,7,9,11:14)],SVM_optimized=SVM_reduced[,sub(\"_reduced.tsv\",\"\",l)]))\n",
    "        try(tmp1 <- read.table(paste('Prognosis_intense/',l,sep=\"\")))#[,c(1,3,5,7,9,11:14)])\n",
    "        try(tmp1$feature <- \"intense\")\n",
    "        try(tmp1$model <- str_remove(l,\".tsv\"))\n",
    "        #try(tmp2 <- cbind(read.table(paste(\"../Prognosis_results/\",sub(\"_reduced\",\"\",l),sep=\"\"))[1:10,],SVM_optimized=SVM[,sub(\"_reduced.tsv\",\"\",l)]))\n",
    "        try(tmp2 <- read.table(paste(\"../Prognosis_results_final/\",l,sep=\"\")))     \n",
    "        try(tmp2$feature <- \"no_intense\")\n",
    "        try(tmp2$model <- str_remove(l,\".tsv\"))\n",
    "        try(df <- rbind(tmp1,tmp2))\n",
    "        try(df <- melt(df,id=c('model','feature')))\n",
    "        try(myplots[[l]] <- ggplot(df,aes(x=variable,y=value)) + geom_boxplot(aes(fill = feature), notch=F) + theme(strip.text = element_text(size=35),legend.position=\"top\",axis.text.x = element_text(size=20,angle = 35, hjust = 0.8,vjust=0.8),\n",
    "              axis.text.y = element_text(size=20),axis.title.x=element_text(size=30),axis.title.y=element_text(size=30),legend.title=element_text(size=30),legend.text=element_text(size=40)) +\n",
    "        ylab(\"C-Index\") + xlab(\"Algorithms Comparison\") + facet_wrap( ~ model, ncol=2) +scale_fill_manual(values=c(\"#EE9937\",\"#5C5C5C\")))\n",
    "        try(i <- i+1)\n",
    "    }\n",
    "}\n",
    "#c(1,2,8,10,11,12,20,23,25,26,30,32,35,36,37,38,39,40,41,43)\n",
    "set_notebook_plot_size(70,120)\n",
    "grid.arrange(grobs=myplots[c(1:8,12,14:38)],nrow=9,ncol=4)\n",
    "#grid.arrange(grobs=myplots,nrow=11,ncol=4)\n",
    "dev.off()"
   ]
  },
  {
   "cell_type": "code",
   "execution_count": 8,
   "metadata": {},
   "outputs": [
    {
     "data": {
      "text/html": [
       "<strong>pdf:</strong> 2"
      ],
      "text/latex": [
       "\\textbf{pdf:} 2"
      ],
      "text/markdown": [
       "**pdf:** 2"
      ],
      "text/plain": [
       "pdf \n",
       "  2 "
      ]
     },
     "metadata": {},
     "output_type": "display_data"
    }
   ],
   "source": [
    "set_notebook_plot_size(70,13)\n",
    "pdf(\"../graphs/Intensification/cyto_effect.pdf\",width=70,height=13)\n",
    "grid.arrange(grobs=myplots[c(9:11,13)],nrow=1,ncol=4)\n",
    "dev.off()"
   ]
  },
  {
   "cell_type": "code",
   "execution_count": null,
   "metadata": {},
   "outputs": [],
   "source": []
  }
 ],
 "metadata": {
  "kernelspec": {
   "display_name": "R",
   "language": "R",
   "name": "ir"
  },
  "language_info": {
   "codemirror_mode": "r",
   "file_extension": ".r",
   "mimetype": "text/x-r-source",
   "name": "R",
   "pygments_lexer": "r",
   "version": "3.5.2"
  }
 },
 "nbformat": 4,
 "nbformat_minor": 2
}

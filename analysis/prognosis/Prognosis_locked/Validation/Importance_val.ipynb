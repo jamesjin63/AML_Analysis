{
 "cells": [
  {
   "cell_type": "code",
   "execution_count": 63,
   "metadata": {},
   "outputs": [],
   "source": [
    "library('ggplot2')\n",
    "library('reshape2')\n",
    "library('ggpubr')\n",
    "library(glmnet)\n",
    "library(doMC)\n",
    "library(survival)\n",
    "library(data.table)\n",
    "library(mltools)\n",
    "library(CoxBoost)\n",
    "library(randomForestSRC)\n",
    "library(CoxHD)\n",
    "library(Hmisc)\n",
    "library(gridExtra)\n",
    "library(\"survminer\")\n",
    "library(dplyr)\n",
    "library(stringr)\n",
    "\n",
    "source(\"../../../../src/tools.R\")\n",
    "options(repr.plot.res        = 100, # set a medium-definition resolution for the jupyter notebooks plots (DPI)\n",
    "        repr.matrix.max.rows = 250, # set the maximum number of rows displayed\n",
    "        repr.matrix.max.cols = 250) # set the maximum number of columns displayed"
   ]
  },
  {
   "cell_type": "code",
   "execution_count": 64,
   "metadata": {},
   "outputs": [
    {
     "data": {
      "text/html": [
       "<ol class=list-inline>\n",
       "\t<li>222600</li>\n",
       "\t<li>4</li>\n",
       "</ol>\n"
      ],
      "text/latex": [
       "\\begin{enumerate*}\n",
       "\\item 222600\n",
       "\\item 4\n",
       "\\end{enumerate*}\n"
      ],
      "text/markdown": [
       "1. 222600\n",
       "2. 4\n",
       "\n",
       "\n"
      ],
      "text/plain": [
       "[1] 222600      4"
      ]
     },
     "metadata": {},
     "output_type": "display_data"
    },
    {
     "data": {
      "text/html": [
       "<ol class=list-inline>\n",
       "\t<li>2213</li>\n",
       "\t<li>5</li>\n",
       "</ol>\n"
      ],
      "text/latex": [
       "\\begin{enumerate*}\n",
       "\\item 2213\n",
       "\\item 5\n",
       "\\end{enumerate*}\n"
      ],
      "text/markdown": [
       "1. 2213\n",
       "2. 5\n",
       "\n",
       "\n"
      ],
      "text/plain": [
       "[1] 2213    5"
      ]
     },
     "metadata": {},
     "output_type": "display_data"
    }
   ],
   "source": [
    "df_reshuffling <- NULL\n",
    "for (l in list.files('Reshuffle')){\n",
    "    if (grepl(\"_reshuffle_importance.tsv\",l)){\n",
    "        df_tmp <- read.table(paste('Reshuffle/',l,sep=\"\"))\n",
    "        df_tmp$Ratio <- df_tmp$ref_CI/df_tmp$permuted_CI\n",
    "        df_tmp <- df_tmp[,c(\"feature\",\"Ratio\",\"algo\",\"model\")]\n",
    "        df_reshuffling <- rbind(df_reshuffling,df_tmp)     \n",
    "    }\n",
    "}\n",
    "\n",
    "df_bootstrap <- NULL\n",
    "for (l in list.files('Bootstrap_coef/')){\n",
    "    if (grepl(\"_bootstrap\",l)){\n",
    "        if(grepl(\"_bootstrap_SVM\",l)){\n",
    "            print('a')\n",
    "            df_tmp <- read.table(paste('../Bootstrap_coef/',l,sep=\"\"),sep=',',header=T)\n",
    "            df_tmp <- df_tmp[,-1]\n",
    "            df_tmp <- df_tmp[,c(2,1,3)]\n",
    "        } else {\n",
    "            df_tmp <- read.table(paste('Bootstrap_coef/',l,sep=\"\"))\n",
    "        }\n",
    "        colnames(df_tmp) <- c(\"feature\",\"sum_coef\",\"num_selected\")\n",
    "        df_tmp$model_algo <- str_sub(l, 1, str_length(l)-4)\n",
    "        df_bootstrap <- rbind(df_bootstrap,df_tmp)   \n",
    "    }\n",
    "}\n",
    "df_bootstrap <- df_bootstrap[df_bootstrap$feature!=\"age.1\" & !is.na(df_bootstrap$feature),]\n",
    "df_bootstrap$model <- sub(\"_bootstrap_.*$\", \"\", df_bootstrap$model_algo )\n",
    "\n",
    "dim(df_reshuffling)\n",
    "dim(df_bootstrap)"
   ]
  },
  {
   "cell_type": "code",
   "execution_count": 70,
   "metadata": {},
   "outputs": [
    {
     "data": {
      "text/html": [
       "'character'"
      ],
      "text/latex": [
       "'character'"
      ],
      "text/markdown": [
       "'character'"
      ],
      "text/plain": [
       "[1] \"character\""
      ]
     },
     "metadata": {},
     "output_type": "display_data"
    }
   ],
   "source": [
    "df_final <- read.table(\"full_data_validation.tsv\")\n",
    "eln <- colnames(df_final[,c(114,115,116)])\n",
    "comp <-  colnames(df_final[,c(90:113)])\n",
    "age <-  colnames(df_final[,c(84)])\n",
    "\n",
    "all_gen <- c(1:57)\n",
    "vect <- apply(X=df_final[,all_gen],2,FUN=function(x) 100*length(which(x==1))/dim(df_final)[1])\n",
    "gen <-  colnames(df_final[,match(names(vect[vect>=2]),names(df_final))])\n",
    "              \n",
    "all_cyto <- c(58:80)\n",
    "vect <- apply(X=df_final[,all_cyto],2,FUN=function(x) 100*length(which(x==1))/dim(df_final)[1])\n",
    "cyto <-  colnames(df_final[,match(names(vect[vect>=2]),names(df_final))])\n",
    "              \n",
    "clin <-  colnames(df_final[,c(85:88)])\n",
    "demo <-  colnames(df_final[,c(83,84)])\n",
    "\n",
    "              \n",
    "pal <- c(eln=\"#EE9937\",comp=\"#59A08B\",gen=\"#BFBFBF\",cyto=\"#2b8cbe\",clin=\"#870C14\",demo=\"#a6bddb\") \n",
    "class(pal)"
   ]
  },
  {
   "cell_type": "code",
   "execution_count": 75,
   "metadata": {},
   "outputs": [],
   "source": [
    "# Function showing Feature Importance for the Models\n",
    "\n",
    "\n",
    "\n",
    "importance <- function (models=unique(df_reshuffling$model),fun=median,width=25,height=40){\n",
    "    for (model in models){\n",
    "        set_notebook_plot_size(width,height)\n",
    "        #Resuflling Importance\n",
    "\n",
    "        feature_model <- df_reshuffling[df_reshuffling$model==model ,] \n",
    "        #%>% filter(str_detect(model, c(\"0.7|0|1|boost|rfs\")))\n",
    "\n",
    "        feature_model <- feature_model[,c('feature','Ratio','algo')] %>% group_by(feature,algo)  \n",
    "        #%>% summarize_all(sum)\n",
    "        feature_model$category <- ifelse(is.element(feature_model$feature,eln),\"eln\",\n",
    "                                       ifelse(is.element(feature_model$feature,comp),\"comp\",\n",
    "                                             ifelse(is.element(feature_model$feature,gen),\"gen\",\n",
    "                                                   ifelse(is.element(feature_model$feature,cyto),\"cyto\",\n",
    "                                                         ifelse(is.element(feature_model$feature,clin),\"clin\",\"demo\")))))\n",
    "\n",
    "        feature_model$algo <- toupper(feature_model$algo)\n",
    "        #feature_model$algo <- ifelse(feature_model$algo==\"COX\",\"SIMPLE_COX\",feature_model$algo)\n",
    "\n",
    "        # Bootstrapping + Coef Importance\n",
    "        p <- ggplot(na.omit(feature_model),aes(x=reorder(feature,Ratio,FUN=fun),y=Ratio,fill=category))+geom_boxplot()+facet_wrap(~algo,ncol=6)+\n",
    "        theme(plot.title = element_text( size=30, face=\"bold.italic\",hjust=0.5),legend.text=element_text(size=10),legend.position=\"top\",\n",
    "          axis.text.x = element_text(angle = 90, hjust = 0.8,vjust=0.8,size=12),axis.text.y=element_text(size=12),\n",
    "          axis.title.y = element_text(size = 20),axis.title.x = element_text(size = 20),strip.text = element_text(size=25))+xlab(\"Selected Features\") +\n",
    "        ylab(\"Ratio (ref_CI/Permuted_CI) \") + ggtitle(paste(model, \"Model Feature importance Reshuffling NEJM Validation\"))+coord_flip() +scale_fill_manual(values=pal,limits=names(pal))\n",
    "\n",
    "\n",
    "        feature_model <- df_bootstrap[startsWith(df_bootstrap$model_algo,paste(model,\"_bootstrap_\",sep=\"\")) ,] %>% filter(str_detect(model_algo, c(\"0.7|0|1|boost|rfs|rfx\")))\n",
    "\n",
    "        feature_model <- feature_model[,c('feature','sum_coef','num_selected','model_algo')] %>% group_by(feature,model_algo)  \n",
    "        #%>% summarize_all(sum)\n",
    "\n",
    "        feature_model$category <- ifelse(is.element(feature_model$feature,eln),\"eln\",\n",
    "                                       ifelse(is.element(feature_model$feature,comp),\"comp\",\n",
    "                                             ifelse(is.element(feature_model$feature,gen),\"gen\",\n",
    "                                                   ifelse(is.element(feature_model$feature,cyto),\"cyto\",\n",
    "                                                         ifelse(is.element(feature_model$feature,clin),\"clin\",\"demo\")))))\n",
    "\n",
    "        feature_model$model_algo <- toupper(gsub(\".*_bootstrap_\", \"\",feature_model$model_algo ))\n",
    "        feature_model$model_algo <- ifelse(feature_model$model_algo==\"GLM_0\",\"RIDGE\",\n",
    "                                          ifelse(feature_model$model_algo==\"GLM_0.7\",\"ELASTIC_NET\",\n",
    "                                                ifelse(feature_model$model_algo==\"GLM_1\",\"LASSO\",feature_model$model_algo)))\n",
    "\n",
    "        q <- ggplot(na.omit(feature_model %>% filter(str_detect(model_algo, c(\"LASSO|RIDGE|ELASTIC_NET|BOOST|RFS|RFX\")))),aes(x=reorder(feature,num_selected,FUN=mean),y=num_selected,fill=category))+geom_bar(stat = \"identity\")+facet_wrap(~model_algo,ncol=6)+\n",
    "        theme(plot.title = element_text( size=30, face=\"bold.italic\",hjust=0.5),legend.text=element_text(size=10),legend.position=\"top\",\n",
    "          axis.text.x = element_text(angle = 90, hjust = 0.8,vjust=0.8,size=12),axis.text.y=element_text(size=12),\n",
    "          axis.title.y = element_text(size = 20),axis.title.x = element_text(size = 20),strip.text = element_text(size=25))+xlab(\"Selected Features\") +\n",
    "        ylab(\"Proportion of selection count overall models and algorithms \") + ggtitle(paste(model, \"Model Feature importance Bootstrap for Algorithms NEJM Validation\"))+coord_flip() +scale_fill_manual(values=pal,limits=names(pal))\n",
    "\n",
    "        r <-  ggplot(na.omit(feature_model %>% filter(str_detect(model_algo, c(\"LASSO|RIDGE|ELASTIC_NET\")))),aes(x=reorder(feature,sum_coef),y=sum_coef,fill=category))+geom_bar(stat = \"identity\")+facet_wrap(~model_algo,ncol=5)+\n",
    "        theme(plot.title = element_text( size=30, face=\"bold.italic\",hjust=0.5),legend.text=element_text(size=10),legend.position=\"top\",\n",
    "          axis.text.x = element_text(angle = 90, hjust = 0.8,vjust=0.8,size=12),axis.text.y=element_text(size=12),\n",
    "          axis.title.y = element_text(size = 20),axis.title.x = element_text(size = 20),strip.text = element_text(size=25))+xlab(\"Selected Features\") +\n",
    "        ylab(\"Sum of coefficients over GLM Models \") + ggtitle(paste(model, \"Coefficients for Cox Penalized Models NEJM Validation\"))+coord_flip() +scale_fill_manual(values=pal,limits=names(pal))\n",
    "\n",
    "#         grid.arrange(p,q,r,nrow=3)\n",
    "          grid.arrange(p,r,nrow=2)\n",
    "\n",
    "\n",
    "\n",
    "    }\n",
    "}"
   ]
  },
  {
   "cell_type": "markdown",
   "metadata": {},
   "source": [
    "# Selected Models"
   ]
  },
  {
   "cell_type": "code",
   "execution_count": 76,
   "metadata": {},
   "outputs": [
    {
     "data": {
      "text/html": [
       "<strong>pdf:</strong> 2"
      ],
      "text/latex": [
       "\\textbf{pdf:} 2"
      ],
      "text/markdown": [
       "**pdf:** 2"
      ],
      "text/plain": [
       "pdf \n",
       "  2 "
      ]
     },
     "metadata": {},
     "output_type": "display_data"
    }
   ],
   "source": [
    "png(\"../../../script_figures/val_comp_gen_cyto_reshuffle.png\",width=5000,height=5000,res=250)\n",
    "importance(c(\"comp_gen_cyto\"),width=25,height=28,fun=max)\n",
    "dev.off()"
   ]
  },
  {
   "cell_type": "code",
   "execution_count": null,
   "metadata": {},
   "outputs": [],
   "source": []
  }
 ],
 "metadata": {
  "kernelspec": {
   "display_name": "R",
   "language": "R",
   "name": "ir"
  },
  "language_info": {
   "codemirror_mode": "r",
   "file_extension": ".r",
   "mimetype": "text/x-r-source",
   "name": "R",
   "pygments_lexer": "r",
   "version": "3.5.2"
  }
 },
 "nbformat": 4,
 "nbformat_minor": 2
}

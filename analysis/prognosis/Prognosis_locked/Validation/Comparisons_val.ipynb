{
 "cells": [
  {
   "cell_type": "code",
   "execution_count": 72,
   "metadata": {},
   "outputs": [],
   "source": [
    "library(ggplot2)\n",
    "library(reshape2)\n",
    "library(dplyr)\n",
    "library(ggpubr)\n",
    "library('ggplot2')\n",
    "library('reshape2')\n",
    "library('ggpubr')\n",
    "library(glmnet)\n",
    "library(doMC)\n",
    "library(survival)\n",
    "library(data.table)\n",
    "library(mltools)\n",
    "library(CoxBoost)\n",
    "library(randomForestSRC)\n",
    "library(CoxHD)\n",
    "library(Hmisc)\n",
    "library(gridExtra)\n",
    "library(\"survminer\")\n",
    "library(dplyr)\n",
    "library(stringr)\n",
    "source(\"../../../../src/tools.R\")\n",
    "options(repr.plot.res        = 100, # set a medium-definition resolution for the jupyter notebooks plots (DPI)\n",
    "        repr.matrix.max.rows = 250, # set the maximum number of rows displayed\n",
    "        repr.matrix.max.cols = 250)"
   ]
  },
  {
   "cell_type": "code",
   "execution_count": 73,
   "metadata": {},
   "outputs": [
    {
     "data": {
      "text/html": [
       "TRUE"
      ],
      "text/latex": [
       "TRUE"
      ],
      "text/markdown": [
       "TRUE"
      ],
      "text/plain": [
       "[1] TRUE"
      ]
     },
     "metadata": {},
     "output_type": "display_data"
    }
   ],
   "source": [
    "colors <- c(\"Components\" = \"#EE9937\", \"ELN Recommendation 2017\" = \"#5C5C5C\", \"comp\" = \"#870C14\", \"eln_comp\" = \"#BFBFBF\",\n",
    "         \"eln_gen\" = \"#59A08B\", \"eln_cyto\" = \"#2b8cbe\", \"eln_gen_cyto\" = \"#a6bddb\", \"eln_gen_cyto_comp\" = \"#fdbb84\",\n",
    "         \"comp_gen\" = \"grey45\", \"comp_cyto\" = \"#e79f00\", \"comp_gen_cyto\" = \"#009E73\", \"cyto\" = \"#0072B2\",\n",
    "         \"gen\" = \"#CC79A7\", \"gen_cyto\" = \"#9ad0f3\", \"eln_age\" = \"#D55E00\", \"eln_demo\" = \"lightskyblue\",\"eln_clin\" = \"mistyrose4\", \"eln_clin_demo\" = \"darkseagreen\",\"comp_age\" = \"lightgoldenrod\",\"comp_clin\" = \"lightsalmon\",\"comp_demo\" = \"#F0E442\",\"comp_clin_demo\" = \"firebrick3\",\"comps\" = \"#000000\")\n",
    "is.element(\"Components\",names(colors))"
   ]
  },
  {
   "cell_type": "code",
   "execution_count": 77,
   "metadata": {},
   "outputs": [],
   "source": [
    "SVM <- read.table(\"SVM_validation.csv\",sep=',',header=T)"
   ]
  },
  {
   "cell_type": "code",
   "execution_count": 81,
   "metadata": {},
   "outputs": [],
   "source": [
    "\n",
    "\n",
    "comparison <-function(models = list(c(\"eln\",\"comp\")), remove_RFX_ = F ,x = 25, y = 8 ,tests=\"\",color=\"\",FUN=mean ){\n",
    "       options(warn=-1)\n",
    "    with_colors = T\n",
    "    df_comparison <- cbind(read.table(paste(paste(\"Prognosis/\",models[1],sep=\"\"),\".tsv\",sep=\"\")),SVM=SVM[,models[1]])\n",
    "    df_comparison$model <- ifelse(models[1]==\"eln\",\"ELN Recommendation 2017\",\n",
    "                         ifelse(models[1]==\"comp\",\"Components\",models[1]))\n",
    "    for (mod in models[-1]){\n",
    "        tmp <- cbind(read.table(paste(paste(\"Prognosis/\",mod,sep=\"\"),\".tsv\",sep=\"\")),SVM=SVM[,mod])\n",
    "        tmp$model <- ifelse(mod==\"eln\",\"ELN Recommendation 2017\",\n",
    "                         ifelse(mod==\"comp\",\"Components\",mod))\n",
    "        if(with_colors){\n",
    "                with_colors = is.element(unique(tmp$model),names(colors))\n",
    "        }\n",
    "        df_comparison <- rbind(df_comparison,tmp)\n",
    "    }\n",
    "    df_comparison <- melt(df_comparison,id='model')\n",
    "    if (remove_RFX_){df_comparison <- df_comparison[df_comparison$variable!= \"RFX_\",]}\n",
    "    df_comparison $title <- \"Detailed Comparison NEJM Validation\"\n",
    "    df_comparison$title_bis <- \"Summary Comparison NEJM Validation\"\n",
    "    \n",
    "    \n",
    "    \n",
    "    \n",
    "    set_notebook_plot_size(x,y)\n",
    "    p1 <- ggplot(df_comparison,aes(x=variable,y=value)) + geom_boxplot(aes(fill = model), notch=F)+\n",
    "    theme(strip.text = element_text(size=30),legend.position=\"top\",axis.text.x = element_text(angle = 35, hjust = 0.8,vjust=0.8,size=20),axis.text.y = element_text(size = 20),\n",
    "         axis.title.x=element_text(size=30),axis.title.y=element_text(size=30),legend.title=element_text(size=30),legend.text=element_text(size=20)) +\n",
    "    ylab(\"C-Index\") + xlab(\"\") + facet_wrap( ~ title) + try(if(length(color)>1){scale_fill_manual(values=color)})\n",
    "    \n",
    "    p2 <- ggplot(df_comparison, aes(x=reorder(model,-value,FUN=FUN),y=value))+\n",
    "    geom_boxplot(aes(fill =model), notch=F)+\n",
    "    theme(strip.text = element_text(size=30),legend.position=\"none\",axis.text.x = element_text(angle = 35, hjust = 0.8,vjust=0.8,size=15),axis.text.y = element_text(size = 15),\n",
    "             axis.title.x=element_text(size=30),axis.title.y=element_text(size=30),legend.title=element_text(size=30),legend.text=element_text(size=20))+\n",
    "    #\n",
    "     stat_compare_means(paired=F,comparison=tests,method=\"wilcox.test\")+\n",
    "#              symnum.args = list(cutpoints = c(0, 0.0000001, 0.000001, 0.00001,0.0001, 0.001, 0.05), symbols = c(\"*****\",\"****\", \"***\", \"**\", \"*\", \"ns\")))+\n",
    "             #,+\n",
    "    xlab(\"\")+ylab(\"C-Index\")+ facet_wrap( ~ title_bis) + try(if(length(color)>1) {scale_fill_manual(values=color)}) + scale_y_continuous(position = \"right\")\n",
    "    return(list(p1,p2))\n",
    "}"
   ]
  },
  {
   "cell_type": "markdown",
   "metadata": {},
   "source": [
    "# FIGURES"
   ]
  },
  {
   "cell_type": "markdown",
   "metadata": {},
   "source": [
    "# FIGURE : Impact on C-I of the different correlates"
   ]
  },
  {
   "cell_type": "code",
   "execution_count": 82,
   "metadata": {},
   "outputs": [
    {
     "data": {
      "text/plain": [
       "[[1]]\n",
       "\n",
       "[[2]]\n"
      ]
     },
     "metadata": {},
     "output_type": "display_data"
    },
    {
     "data": {
      "text/html": [
       "<strong>pdf:</strong> 2"
      ],
      "text/latex": [
       "\\textbf{pdf:} 2"
      ],
      "text/markdown": [
       "**pdf:** 2"
      ],
      "text/plain": [
       "pdf \n",
       "  2 "
      ]
     },
     "metadata": {},
     "output_type": "display_data"
    }
   ],
   "source": [
    "# pdf(\"../graphs/Model_Added_value/evolution_summary.pdf\",width=25,height=8)\n",
    "png(\"../../../script_figures/val_evolution_summary.png\",width=4000,height=2000,res=200)\n",
    "comparison(c(\"eln_comp_gen_cyto_clin_demo\",\"gen\",\"cyto\",\"clin\",\"demo\",\"gen_cyto\",\"gen_cyto_clin_demo\",\"cyto_gen_demo\",\"comp\",\"eln\",\"comp_clin_demo\"),tests=list(c(\"gen\",\"cyto\"),c(\"gen\",\"gen_cyto\"),c(\"cyto\",\"gen_cyto\"),\n",
    "c(\"gen_cyto\",\"cyto_gen_demo\"),c(\"cyto_gen_demo\",\"gen_cyto_clin_demo\"),c(\"Components\",\"gen_cyto\"),c(\"gen_cyto_clin_demo\",\"comp_clin_demo\")\n",
    ",c(\"comp_clin_demo\",\"eln_comp_gen_cyto_clin_demo\")),\n",
    "          color=c(\"ELN Recommendation 2017\"=\"#5C5C5C\",\"Components\"=\"#59A08B\",\"gen\"=\"#BFBFBF\",\"gen_cyto\"=\"#EE9937\",\"gen_cyto_clin_demo\"=\"mistyrose4\",\"cyto\"=\"#2b8cbe\",\"clin\"=\"#870C14\",\"demo\"=\"#a6bddb\",\n",
    "                  \"cyto_gen_demo\"=\"lightgoldenrod\",\"comp_clin_demo\"=\"firebrick3\",\"eln_comp_gen_cyto_clin_demo\"=\"lightsalmon\"))\n",
    "dev.off()"
   ]
  },
  {
   "cell_type": "code",
   "execution_count": null,
   "metadata": {},
   "outputs": [],
   "source": []
  }
 ],
 "metadata": {
  "kernelspec": {
   "display_name": "R",
   "language": "R",
   "name": "ir"
  },
  "language_info": {
   "codemirror_mode": "r",
   "file_extension": ".r",
   "mimetype": "text/x-r-source",
   "name": "R",
   "pygments_lexer": "r",
   "version": "3.5.2"
  }
 },
 "nbformat": 4,
 "nbformat_minor": 2
}

{
 "cells": [
  {
   "cell_type": "code",
   "execution_count": 36,
   "metadata": {},
   "outputs": [],
   "source": [
    "library(gridExtra)\n",
    "library(matrixStats)\n",
    "library(dplyr)\n",
    "library(rlang)\n",
    "library(reshape2)\n",
    "library(clusterCrit)\n",
    "library(grid)\n",
    "library(ggrepel)\n",
    "library(RColorBrewer)\n",
    "library(dplyr)\n",
    "library(IRdisplay)\n",
    "library(scales)\n",
    "library(survival)\n",
    "library(corrplot)\n",
    "library(Hmisc)\n",
    "library(ggplot2)\n",
    "library(survminer)\n",
    "library(muhaz)\n",
    "library(dplyr)\n",
    "library(stringr)\n",
    "library(dummies)\n",
    "library(miceadds)\n",
    "options(warn=-1)\n",
    "library(data.table)\n",
    "library(tidyr)\n",
    "\n",
    "source('../../../../src/tools.R')     # custom tools function\n",
    "source('../../../../src/hdp_tools_yanis.R')\n",
    "source(\"../../../../src/merge_df.R\")\n",
    "source(\"../../../../src/my_toolbox.R\")\n",
    "source(\"../../../../src/my_components.R\")\n",
    "source(\"../../../../src/my_utils.R\")\n",
    "source(\"../../../../src/ggstyles.R\")\n",
    "source(\"../../../../src/my_hotspots.R\")\n",
    "###\n",
    "\n",
    "\n",
    "theme_set(theme_minimal())\n",
    "\n",
    "# set jupyer notebook parameters\n",
    "options(repr.plot.res        = 100, # set a medium-definition resolution for the jupyter notebooks plots (DPI)\n",
    "        repr.matrix.max.rows = 200, # set the maximum number of rows displayed\n",
    "        repr.matrix.max.cols = 200) # set the maximum number of columns displayed\n",
    "\n",
    "\n",
    "\n",
    "\n",
    "\n"
   ]
  },
  {
   "cell_type": "code",
   "execution_count": 92,
   "metadata": {},
   "outputs": [
    {
     "data": {
      "text/html": [
       "<ol class=list-inline>\n",
       "\t<li>1540</li>\n",
       "\t<li>16</li>\n",
       "</ol>\n"
      ],
      "text/latex": [
       "\\begin{enumerate*}\n",
       "\\item 1540\n",
       "\\item 16\n",
       "\\end{enumerate*}\n"
      ],
      "text/markdown": [
       "1. 1540\n",
       "2. 16\n",
       "\n",
       "\n"
      ],
      "text/plain": [
       "[1] 1540   16"
      ]
     },
     "metadata": {},
     "output_type": "display_data"
    },
    {
     "data": {
      "text/html": [
       "<ol class=list-inline>\n",
       "\t<li>1540</li>\n",
       "\t<li>17</li>\n",
       "</ol>\n"
      ],
      "text/latex": [
       "\\begin{enumerate*}\n",
       "\\item 1540\n",
       "\\item 17\n",
       "\\end{enumerate*}\n"
      ],
      "text/markdown": [
       "1. 1540\n",
       "2. 17\n",
       "\n",
       "\n"
      ],
      "text/plain": [
       "[1] 1540   17"
      ]
     },
     "metadata": {},
     "output_type": "display_data"
    },
    {
     "data": {
      "text/html": [
       "<ol class=list-inline>\n",
       "\t<li>1379</li>\n",
       "\t<li>69</li>\n",
       "</ol>\n"
      ],
      "text/latex": [
       "\\begin{enumerate*}\n",
       "\\item 1379\n",
       "\\item 69\n",
       "\\end{enumerate*}\n"
      ],
      "text/markdown": [
       "1. 1379\n",
       "2. 69\n",
       "\n",
       "\n"
      ],
      "text/plain": [
       "[1] 1379   69"
      ]
     },
     "metadata": {},
     "output_type": "display_data"
    },
    {
     "data": {
      "text/html": [
       "<ol class=list-inline>\n",
       "\t<li>1379</li>\n",
       "\t<li>90</li>\n",
       "</ol>\n"
      ],
      "text/latex": [
       "\\begin{enumerate*}\n",
       "\\item 1379\n",
       "\\item 90\n",
       "\\end{enumerate*}\n"
      ],
      "text/markdown": [
       "1. 1379\n",
       "2. 90\n",
       "\n",
       "\n"
      ],
      "text/plain": [
       "[1] 1379   90"
      ]
     },
     "metadata": {},
     "output_type": "display_data"
    },
    {
     "data": {
      "text/html": [
       "<ol class=list-inline>\n",
       "\t<li>203</li>\n",
       "\t<li>89</li>\n",
       "</ol>\n"
      ],
      "text/latex": [
       "\\begin{enumerate*}\n",
       "\\item 203\n",
       "\\item 89\n",
       "\\end{enumerate*}\n"
      ],
      "text/markdown": [
       "1. 203\n",
       "2. 89\n",
       "\n",
       "\n"
      ],
      "text/plain": [
       "[1] 203  89"
      ]
     },
     "metadata": {},
     "output_type": "display_data"
    }
   ],
   "source": [
    "data_clin <- read.csv(file=\"ULM.csv\", header=TRUE, sep=\",\")[,c(\"ID\",\"Gender\",\"Age\",\"HB\",\"BM_Blasts\",\"PLT\",\"WBC\",\"OS\",\"OS_Status\")]\n",
    "# data_clin <- read.csv(file=\"ULM.csv\", header=TRUE, sep=\",\")[,c(\"ID\",\"Gender\",\"Age\",\"BM_Blasts\",\"PLT\",\"WBC\",\"OS\",\"OS_Status\")]\n",
    "data_clin$OS_Status <- ifelse(data_clin$OS_Status==\"TRUE\",1,0)\n",
    "\n",
    "data2 <- read.table(file=\"AMLSG_Classification.txt\", header = TRUE, sep = \"\")[,c(\"ID\",\"NPM1\",\"CEBPA_bi\",\"inv16\",\"t15_17\",\"t8_21\",\"t6_9\",\"inv3\")]\n",
    "setnames(data2, old = c(\"inv16\",\"t15_17\",\"t8_21\",\"t6_9\",\"inv3\"), new = c(\"inv_16\",\"t_15_17\",\"t_8_21\",\"t_6_9\",\"inv_3\"))\n",
    "\n",
    "data_itd <- read.table(file=\"AMLSG_FLT3ITD.txt\", header = TRUE, sep = \"\")[,c(\"ID\",\"FLT3_ITD_status\")]\n",
    "colnames(data_itd)[colnames(data_itd)==\"FLT3_ITD_status\"] <- \"ITD\" \n",
    "data_itd$ITD <- ifelse(data_itd$ITD==\"ITD\",1,0)\n",
    "\n",
    "data_genes <- read.table(file=\"AMLSG_Genetic.txt\", header = TRUE, sep = \"\")\n",
    "colnames(data_genes)[colnames(data_genes)==\"SAMPLE_NAME\"] <- \"ID\"\n",
    "data_genes<- cbind(data_genes,dummy('GENE',data_genes, sep = \"_\"))\n",
    "data_genes <- data_genes[ , names(data_genes)==\"ID\" | grepl( \"GENE_\" , names( data_genes ) ) ]\n",
    "data_genes <- data_genes[!duplicated(data_genes), ]\n",
    "data_genes <- data_genes %>% group_by(ID) %>% summarise_all(list(sum))\n",
    "colnames(data_genes)[colnames(data_genes)==\"GENE_SFRS2\"] <- \"GENE_SRSF2\"   ###ERROR IN THE COLNAME\n",
    "names(data_genes) <- gsub(\"GENE_\", \"\", names(data_genes), fixed = TRUE)\n",
    "data_genes$NPM1 <- NULL   ## already introduced\n",
    "data_genes$CEBPA <- NULL  ## already introduced\n",
    "\n",
    "load.Rdata(\"AMLSG_Clinical_Anon.RData\",\"val_data\")\n",
    "colnames(val_data)[colnames(val_data)==\"PDID\"] <- \"ID\"\n",
    "\n",
    "val_data$del_3 <- val_data$abn3q_other\n",
    "val_data$del_5 <- val_data$minus5_5q\n",
    "val_data$del_7 <- val_data$minus7 + val_data$minus7q + val_data$abn7other\n",
    "val_data$del_9 <- val_data$minus9q\n",
    "val_data$del_12 <- val_data$mono12_12p_abn12p\n",
    "val_data$del_17 <- val_data$mono17_17p_abn17p\n",
    "val_data$del_18 <- val_data$minus18_18q\n",
    "val_data$del_20 <- val_data$minus20_20q\n",
    "val_data$minusy <- val_data$minusY\n",
    "\n",
    "val_data$add_8 <- val_data$plus8_8q\n",
    "val_data$add_11 <- val_data$plus11_11q\n",
    "val_data$add_13 <- val_data$plus13\n",
    "val_data$add_21 <- val_data$plus21\n",
    "val_data$add_22 <- val_data$plus22\n",
    "val_data$t_v_11 <- ifelse(val_data$t_v_11==\"True\",1,0)\n",
    "\n",
    "val_data <- val_data[,c(\"ID\",\"del_3\",\"del_5\",\"del_7\",\"del_9\",\"del_12\",\"del_17\",\"del_18\",\"del_20\",\n",
    "                        \"minusy\",\"add_8\",\"add_11\",\"add_13\",\"add_21\",\"add_22\",\"t_9_22\",\"t_9_11\",\n",
    "                        \"t_v_11\",\"complex\",\"FLT3_TKD\",\"FLT3_other\",\"minus7\")]                      # we add minus 7 only for the eln \n",
    "\n",
    "nejm_data <- merge(data_clin,data2, by=\"ID\")\n",
    "dim(nejm_data)\n",
    "nejm_data <- merge(nejm_data,data_itd,by =\"ID\")\n",
    "dim(nejm_data)\n",
    "nejm_data <- merge(nejm_data,data_genes,by=\"ID\")   ### not same number of patients\n",
    "dim(nejm_data)\n",
    "nejm_data <- merge(nejm_data,val_data,by=\"ID\")\n",
    "# colnames(nejm_data)\n",
    "nejm_data <- nejm_data[,c(1,10,11,17:69,88,89,12:16,84:87,70:83,8,9,2:7,90)]\n",
    "rownames(nejm_data) <- nejm_data$ID\n",
    "dim(nejm_data)\n",
    "nejm_data <- nejm_data[-1]\n",
    "nejm_data <- na.omit(nejm_data)   ### complete case \n",
    "write.table(nejm_data,\"nejm_data.tsv\")"
   ]
  },
  {
   "cell_type": "code",
   "execution_count": 91,
   "metadata": {},
   "outputs": [
    {
     "data": {
      "text/html": [
       "TRUE"
      ],
      "text/latex": [
       "TRUE"
      ],
      "text/markdown": [
       "TRUE"
      ],
      "text/plain": [
       "[1] TRUE"
      ]
     },
     "metadata": {},
     "output_type": "display_data"
    }
   ],
   "source": [
    "all.equal(read.table(\"tmp.tsv\",sep =\" \",header=T),read.table(\"nejm_data.tsv\",sep =\" \",header=T))"
   ]
  },
  {
   "cell_type": "markdown",
   "metadata": {},
   "source": [
    "# DATASET ITD SEPARATION FOR COMPONENT"
   ]
  },
  {
   "cell_type": "code",
   "execution_count": 96,
   "metadata": {},
   "outputs": [],
   "source": [
    "tmp <- read.table(\"nejm_data_eln.tsv\",sep =\" \",header=T)\n",
    "rownames(tmp) <- tmp$X\n",
    "tmp$X <- NULL\n",
    "genes <- colnames(tmp)[1:57]\n",
    "cyto <- colnames(tmp)[58:80]\n",
    "\n",
    "factors <- c(\"ZRSR2\",\"U2AF1\",\"SRSF2\",\"SF3B1\",\"ASXL1\",\"STAG2\",\"BCOR\",\"RUNX1\",\"EZH2\",\"MLL\",\"PHF6\",\"SF1\",\"NF1\",\"CUX1\")    #\"SETBP1\" missing\n",
    "mol_defining <- c('NPM1','CEBPA_bi','inv16','t15_17','t8_21','t6_9','inv3','DNMT3A','IDH1','IDH2','WT1',factors)\n",
    "\n",
    "tmp$full_component_t_15_17 <- ifelse((tmp$t_15_17==1),1,0)\n",
    "\n",
    "tmp$full_component_inv_16 <- ifelse((tmp$inv_16==1),1,0) \n",
    "\n",
    "tmp$full_component_t_8_21 <- ifelse((tmp$t_8_21==1 & tmp$ITD==0),1,0)\n",
    "tmp$full_component_t_8_21_ITD <- ifelse((tmp$t_8_21==1 & tmp$ITD==1),1,0) \n",
    "\n",
    "tmp$full_component_t_11 <- ifelse((tmp$t_v_11==1 | tmp$t_9_11==1),1,0)   \n",
    "\n",
    "tmp$full_component_t_6_9 <- ifelse((tmp$t_6_9==1 & tmp$ITD==0),1,0)\n",
    "tmp$full_component_t_6_9_ITD <- ifelse((tmp$t_6_9==1 & tmp$ITD==1),1,0)\n",
    "\n",
    "tmp$full_component_inv_3 <- ifelse((tmp$inv_3==1),1,0)\n",
    "\n",
    "tmp$full_component_additions <- ifelse((tmp$add_8==1 | tmp$add_13==1 | tmp$add_21==1 | tmp$add_22==1),1,0)\n",
    "\n",
    "tmp$full_component_TP53_complex <- ifelse((tmp$TP53==1 | tmp$complex==1) ,1,0)\n",
    "\n",
    "tmp$full_component_NPM1 <- ifelse((tmp$NPM1==1 & tmp$ITD==0),1,0) \n",
    "tmp$full_component_NPM1_ITD <- ifelse((tmp$NPM1==1 & tmp$ITD==1),1,0)\n",
    "\n",
    "tmp$full_component_CEBPA_bi <- ifelse((tmp$CEBPA_bi==1 & tmp$ITD==0),1,0) \n",
    "tmp$full_component_CEBPA_bi_ITD <- ifelse((tmp$CEBPA_bi==1 & tmp$ITD==1),1,0)\n",
    "\n",
    "tmp$full_component_DNMT3A_IDH1_2 <- ifelse((tmp$DNMT3A==1 & (tmp$IDH1==1 | tmp$IDH2==1 ) & tmp$ITD==0),1,0)\n",
    "tmp$full_component_DNMT3A_IDH1_2_ITD <- ifelse((tmp$DNMT3A==1 & (tmp$IDH1==1 | tmp$IDH2==1 ) & tmp$ITD==1),1,0)\n",
    "\n",
    "tmp$full_component_WT1 <- ifelse((tmp$WT1==1 & tmp$ITD==0),1,0) \n",
    "tmp$full_component_WT1_ITD <- ifelse((tmp$WT1==1 & tmp$ITD==1),1,0)\n",
    "\n",
    "tmp$full_component_chr_splicing_multiple <- ifelse((rowSums(tmp[,factors])>1) ,1,0)\n",
    "\n",
    "tmp$full_component_chr_splicing_1 <- ifelse((rowSums(tmp[,factors])==1),1,0)\n",
    "\n",
    "\n",
    "\n",
    "# Handling additions\n",
    "tmp[tmp$full_component_additions==1 & (tmp$full_component_t_15_17==1 | tmp$full_component_inv_16==1 | tmp$full_component_t_8_21==1 |tmp$full_component_t_8_21_ITD==1 |\n",
    "                                     tmp$full_component_t_11==1 | tmp$full_component_t_6_9==1 | tmp$full_component_t_6_9_ITD==1 | tmp$full_component_inv_3==1 |\n",
    "                                     tmp$full_component_NPM1==1 |tmp$full_component_NPM1_ITD==1 | tmp$full_component_CEBPA_bi==1 | tmp$full_component_CEBPA_bi_ITD==1 |\n",
    "                                     tmp$full_component_DNMT3A_IDH1_2==1 | tmp$full_component_DNMT3A_IDH1_2_ITD==1 | tmp$full_component_WT1==1 | tmp$full_component_WT1_ITD==1 ),\"full_component_additions\"] <- 0\n",
    "\n",
    "\n",
    "tmp[tmp$full_component_additions==1 & (tmp$full_component_TP53_complex==1) & !(tmp$del_7==1 | tmp$del_17==1 | tmp$del_5==1 | tmp$del_9==1  | tmp$minusy |\n",
    "                                                                           tmp$del_20==1 | tmp$del_18==1  | tmp$del_12==1 | tmp$del_3==1),\"full_component_additions\"] <- 0\n",
    "\n",
    "# Handling DNMT3A IDH\n",
    "tmp[tmp$full_component_DNMT3A_IDH1_2==1 & (tmp$full_component_t_15_17==1 | tmp$full_component_inv_16==1 | tmp$full_component_t_8_21==1 | tmp$full_component_t_8_21_ITD==1 | tmp$full_component_t_11==1 |\n",
    "                                         tmp$full_component_t_6_9==1 | tmp$full_component_t_6_9_ITD==1 | tmp$full_component_inv_3==1 | tmp$full_component_TP53_complex==1 | tmp$full_component_NPM1==1 |\n",
    "                                         tmp$full_component_NPM1_ITD==1 | tmp$full_component_CEBPA_bi==1 | tmp$full_component_CEBPA_bi_ITD==1 | tmp$full_component_additions==1 ),\"full_component_DNMT3A_IDH1_2\"] <- 0\n",
    "\n",
    "tmp[tmp$full_component_DNMT3A_IDH1_2_ITD==1 & (tmp$full_component_t_15_17==1 | tmp$full_component_inv_16==1 | tmp$full_component_t_8_21==1 | tmp$full_component_t_8_21_ITD==1 | tmp$full_component_t_11==1 |\n",
    "                                         tmp$full_component_t_6_9==1 | tmp$full_component_t_6_9_ITD==1 | tmp$full_component_inv_3==1 | tmp$full_component_TP53_complex==1 | tmp$full_component_NPM1==1 |\n",
    "                                         tmp$full_component_NPM1_ITD==1 | tmp$full_component_CEBPA_bi==1 | tmp$full_component_CEBPA_bi_ITD==1 | tmp$full_component_additions==1 ),\"full_component_DNMT3A_IDH1_2_ITD\"] <- 0\n",
    "\n",
    "# Handling WT1\n",
    "tmp[tmp$full_component_WT1==1 & (tmp$full_component_t_15_17==1 | tmp$full_component_inv_16==1 | tmp$full_component_t_8_21==1 | tmp$full_component_t_8_21_ITD==1 | tmp$full_component_t_11==1 |\n",
    "                               tmp$full_component_t_6_9==1 | tmp$full_component_t_6_9_ITD==1 | tmp$full_component_inv_3==1 | tmp$full_component_TP53_complex==1 | tmp$full_component_NPM1==1 |\n",
    "                               tmp$full_component_NPM1_ITD==1 | tmp$full_component_CEBPA_bi==1 | tmp$full_component_CEBPA_bi_ITD==1 ),\"full_component_WT1\"] <- 0\n",
    "\n",
    "tmp[tmp$full_component_WT1_ITD==1 & (tmp$full_component_t_15_17==1 | tmp$full_component_inv_16==1 | tmp$full_component_t_8_21==1 | tmp$full_component_t_8_21_ITD==1 | tmp$full_component_t_11==1 |\n",
    "                               tmp$full_component_t_6_9==1 | tmp$full_component_t_6_9_ITD==1 | tmp$full_component_inv_3==1 | tmp$full_component_TP53_complex==1 | tmp$full_component_NPM1==1 |\n",
    "                               tmp$full_component_NPM1_ITD==1 | tmp$full_component_CEBPA_bi==1 | tmp$full_component_CEBPA_bi_ITD==1 ),\"full_component_WT1_ITD\"] <- 0\n",
    "\n",
    "\n",
    "# Handling chr_splicing_1\n",
    "tmp[tmp$full_component_chr_splicing_1==1 & (tmp$full_component_t_15_17==1 | tmp$full_component_inv_16==1 | tmp$full_component_t_8_21==1 | tmp$full_component_t_8_21_ITD==1 |\n",
    "                                          tmp$full_component_t_11==1 | tmp$full_component_t_6_9==1 | tmp$full_component_t_6_9_ITD==1 | tmp$full_component_inv_3==1 |\n",
    "                                          tmp$full_component_TP53_complex==1 | tmp$full_component_NPM1==1 | tmp$full_component_NPM1_ITD==1 | tmp$full_component_CEBPA_bi==1 | tmp$full_component_CEBPA_bi_ITD==1 ),\"full_component_chr_splicing_1\"] <- 0\n",
    "\n",
    "tmp$full_component_not_assigned <- ifelse(rowSums(tmp[,colnames(tmp[,startsWith(colnames(tmp),\"full_component_\"),])])==0 &  rowSums(tmp[,c(genes,cyto)])>0 & tmp$ITD==0,1,0)\n",
    "tmp$full_component_not_assigned_ITD <- ifelse(rowSums(tmp[,colnames(tmp[,startsWith(colnames(tmp),\"full_component_\"),])])==0 &  rowSums(tmp[,c(genes,cyto)])>0 & tmp$ITD==1,1,0)\n",
    "\n",
    "tmp$full_component_no_events <- ifelse(rowSums(tmp[,c(genes,cyto)])==0,1,0)\n",
    "\n",
    "tmp$overlap <- 0\n",
    "tmp[rowSums(tmp[,colnames(tmp[,startsWith(colnames(tmp),\"full_component_\"),])])>1,\"overlap\"] <- 1\n",
    "\n",
    "tmp <- cbind(tmp,dummy('eln_2017',tmp, sep = \"_\"))\n",
    "\n",
    "write.table(tmp,\"full_data_validation.tsv\")"
   ]
  },
  {
   "cell_type": "markdown",
   "metadata": {},
   "source": [
    "# DATASET NO ITD COMPONENT SEPARATION"
   ]
  },
  {
   "cell_type": "code",
   "execution_count": 102,
   "metadata": {},
   "outputs": [],
   "source": [
    "tmp <- read.table(\"nejm_data_eln.tsv\",sep =\" \",header=T)\n",
    "rownames(tmp) <- tmp$X\n",
    "tmp$X <- NULL\n",
    "genes <- colnames(tmp)[1:57]\n",
    "cyto <- colnames(tmp)[58:80]\n",
    "\n",
    "factors <- c(\"ZRSR2\",\"U2AF1\",\"SRSF2\",\"SF3B1\",\"ASXL1\",\"STAG2\",\"BCOR\",\"RUNX1\",\"EZH2\",\"MLL\",\"PHF6\",\"SF1\",\"NF1\",\"CUX1\")    #\"SETBP1\" missing\n",
    "mol_defining <- c('NPM1','CEBPA_bi','inv16','t15_17','t8_21','t6_9','inv3','DNMT3A','IDH1','IDH2','WT1',factors)\n",
    "\n",
    "tmp$full_component_t_15_17 <- ifelse(tmp$t_15_17==1,1,0)\n",
    "\n",
    "tmp$full_component_inv_16 <- ifelse(tmp$inv_16==1,1,0) \n",
    "\n",
    "tmp$full_component_t_8_21 <- ifelse(tmp$t_8_21==1,1,0)\n",
    "\n",
    "tmp$full_component_t_11 <- ifelse((tmp$t_v_11==1 | tmp$t_9_11==1),1,0)   \n",
    "\n",
    "tmp$full_component_t_6_9 <- ifelse(tmp$t_6_9==1,1,0)\n",
    "\n",
    "tmp$full_component_inv_3 <- ifelse(tmp$inv_3==1,1,0)\n",
    "\n",
    "tmp$full_component_additions <- ifelse((tmp$add_8==1 | tmp$add_13==1 | tmp$add_21==1 | tmp$add_22==1),1,0)\n",
    "\n",
    "tmp$full_component_TP53_complex <- ifelse((tmp$TP53==1 | tmp$complex==1) ,1,0)\n",
    "\n",
    "tmp$full_component_NPM1 <- ifelse(tmp$NPM1==1,1,0)\n",
    "\n",
    "tmp$full_component_CEBPA_bi <- ifelse(tmp$CEBPA_bi==1,1,0) \n",
    "\n",
    "tmp$full_component_DNMT3A_IDH1_2 <- ifelse((tmp$DNMT3A==1 & (tmp$IDH1==1 | tmp$IDH2==1)),1,0)\n",
    "\n",
    "tmp$full_component_WT1 <- ifelse(tmp$WT1==1,1,0)\n",
    "\n",
    "tmp$full_component_chr_splicing_multiple <- ifelse((rowSums(tmp[,factors])>1) ,1,0)\n",
    "\n",
    "tmp$full_component_chr_splicing_1 <- ifelse((rowSums(tmp[,factors])==1),1,0)\n",
    "\n",
    "\n",
    "\n",
    "# Handling additions\n",
    "tmp[tmp$full_component_additions==1 & (tmp$full_component_t_15_17==1 | tmp$full_component_inv_16==1 | tmp$full_component_t_8_21==1 |\n",
    "                                     tmp$full_component_t_11==1 | tmp$full_component_t_6_9==1  | tmp$full_component_inv_3==1 |\n",
    "                                     tmp$full_component_NPM1==1 | tmp$full_component_CEBPA_bi==1 | \n",
    "                                     tmp$full_component_DNMT3A_IDH1_2==1 |  tmp$full_component_WT1==1  ),\"full_component_additions\"] <- 0\n",
    "\n",
    "\n",
    "tmp[tmp$full_component_additions==1 & (tmp$full_component_TP53_complex==1) & !(tmp$del_7==1 | tmp$del_17==1 | tmp$del_5==1 | tmp$del_9==1  | tmp$minusy |\n",
    "                                                                           tmp$del_20==1 | tmp$del_18==1  | tmp$del_12==1 | tmp$del_3==1),\"full_component_additions\"] <- 0\n",
    "\n",
    "# Handling DNMT3A IDH\n",
    "tmp[tmp$full_component_DNMT3A_IDH1_2==1 & (tmp$full_component_t_15_17==1 | tmp$full_component_inv_16==1 | tmp$full_component_t_8_21==1 |  tmp$full_component_t_11==1 |\n",
    "                                         tmp$full_component_t_6_9==1 |  tmp$full_component_inv_3==1 | tmp$full_component_TP53_complex==1 | tmp$full_component_NPM1==1 |\n",
    "                                          tmp$full_component_CEBPA_bi==1 |  tmp$full_component_additions==1 ),\"full_component_DNMT3A_IDH1_2\"] <- 0\n",
    "\n",
    "\n",
    "# Handling WT1\n",
    "tmp[tmp$full_component_WT1==1 & (tmp$full_component_t_15_17==1 | tmp$full_component_inv_16==1 | tmp$full_component_t_8_21==1 |  tmp$full_component_t_11==1 |\n",
    "                               tmp$full_component_t_6_9==1  | tmp$full_component_inv_3==1 | tmp$full_component_TP53_complex==1 | tmp$full_component_NPM1==1 |\n",
    "                                tmp$full_component_CEBPA_bi==1  ),\"full_component_WT1\"] <- 0\n",
    "\n",
    "\n",
    "\n",
    "\n",
    "# Handling chr_splicing_1\n",
    "tmp[tmp$full_component_chr_splicing_1==1 & (tmp$full_component_t_15_17==1 | tmp$full_component_inv_16==1 | tmp$full_component_t_8_21==1 | \n",
    "                                          tmp$full_component_t_11==1 | tmp$full_component_t_6_9==1 |  tmp$full_component_inv_3==1 |\n",
    "                                          tmp$full_component_TP53_complex==1 | tmp$full_component_NPM1==1 | tmp$full_component_CEBPA_bi==1  ),\"full_component_chr_splicing_1\"] <- 0\n",
    "\n",
    "tmp$full_component_not_assigned <- ifelse(rowSums(tmp[,colnames(tmp[,startsWith(colnames(tmp),\"full_component_\"),])])==0 ,1,0)\n",
    "\n",
    "tmp$full_component_no_events <- ifelse(rowSums(tmp[,c(genes,cyto)])==0,1,0)\n",
    "\n",
    "tmp$overlap <- 0\n",
    "tmp[rowSums(tmp[,colnames(tmp[,startsWith(colnames(tmp),\"full_component_\"),])])>1,\"overlap\"] <- 1\n",
    "\n",
    "tmp <- cbind(tmp,dummy('eln_2017',tmp, sep = \"_\"))\n",
    "\n",
    "write.table(tmp,\"full_data_validation_NO_ITD.tsv\")"
   ]
  },
  {
   "cell_type": "code",
   "execution_count": null,
   "metadata": {},
   "outputs": [],
   "source": []
  }
 ],
 "metadata": {
  "kernelspec": {
   "display_name": "R",
   "language": "R",
   "name": "ir"
  },
  "language_info": {
   "codemirror_mode": "r",
   "file_extension": ".r",
   "mimetype": "text/x-r-source",
   "name": "R",
   "pygments_lexer": "r",
   "version": "3.5.2"
  }
 },
 "nbformat": 4,
 "nbformat_minor": 2
}

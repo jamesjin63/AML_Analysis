{
 "cells": [
  {
   "cell_type": "code",
   "execution_count": null,
   "metadata": {},
   "outputs": [],
   "source": [
    "library(glmnet)\n",
    "library(doMC)\n",
    "library(survival)\n",
    "library(data.table)\n",
    "library(mltools)\n",
    "library(CoxBoost)\n",
    "library(randomForestSRC)\n",
    "library(CoxHD)\n",
    "source('run_prognosis.R')\n",
    "# RFS=105=15*7 for str but only right rep(list(predictorRF),length(l_ntree)) because there is an inside for loop\n",
    "\n",
    "df_final <- read.table(\"prognosis_comp_final.tsv\",sep='\\t',header=T)"
   ]
  },
  {
   "cell_type": "code",
   "execution_count": 1,
   "metadata": {},
   "outputs": [
    {
     "name": "stderr",
     "output_type": "stream",
     "text": [
      "Loading required package: Matrix\n",
      "Loading required package: foreach\n",
      "Loaded glmnet 2.0-16\n",
      "\n",
      "Loading required package: iterators\n",
      "Loading required package: parallel\n",
      "Loading required package: prodlim\n",
      "\n",
      " randomForestSRC 2.9.0 \n",
      " \n",
      " Type rfsrc.news() to see new features, changes, and bug fixes. \n",
      " \n",
      "\n",
      "Loading required package: RColorBrewer\n"
     ]
    }
   ],
   "source": [
    "\n",
    "\n",
    "\n",
    "### To try when component availables: ###\n",
    "\n",
    "all_features <-c(1:180) #not used\n",
    "clin_demo_comp <-c(155:180) #not used\n",
    "clin_demo_cyto_gen_comp <- c(2:180) #not used\n",
    "comp <- c(164:180) #not used\n",
    "cyto_comp <-c(86:154,164:180) #not used\n",
    "cyto_gen_comp <- c(2:154,164:180) #not used\n",
    "eln_clin_demo_comp <- c(1,155:180) #not used\n",
    "eln_cyto_comp <- c(1,86:154,164:180) #not used\n",
    "eln_cyto_gen_comp <- c(1:154,164:180) #not used\n",
    "eln_gen_comp <- c(1:85,164:180) #not used\n",
    "gen_comp <- c(2:85,164:180) #not used\n",
    "clin_comp <- c(155:161,164:180) #not used\n",
    "clin_cyto_comp <- c(86:161,164:180) #not used\n",
    "clin_gen_comp <- c(2:85,155:161,164:180) #not used\n",
    "eln_clin_comp <- c(1,155:161,164:180) #not used\n",
    "\n",
    "#Without age\n",
    "all_features_without_age <-c(1:162,164:180) #not used\n",
    "clin_demo_comp_without_age <-c(155:162,164:180) #not used\n",
    "clin_demo_cyto_gen_comp_without_age <- c(2:162,164:180) #not used\n",
    "eln_clin_demo_comp_without_age <- c(1,155:162,164:180) #not used\n",
    "\n",
    "\n",
    "### To try now: ###\n",
    "\n",
    "###With age:\n",
    "eln_clin_gen <-  c(1:85,155:161)\n",
    "eln_demo_gen <- c(1:85,162:163)\n",
    "eln_clin_demo_cyto_gen <- c(1:163)\n",
    "eln_clin_demo_cyto <- c(1,86:163)\n",
    "\n",
    "eln_clin_demo_gen <- c(1:85,155:163)  ##START HERE\n",
    "eln_clin_demo <- c(1,155:163)\n",
    "eln_clin <- c(1,155:161)\n",
    "eln_cyto_gen <- c(1:154)\n",
    "clin_demo_cyto_gen <- c(2:163)\n",
    "clin_demo_cyto <- c(86:163)\n",
    "clin_demo_gen <- c(2:85,155:163)\n",
    "clin_demo <- c(155:163)\n",
    "cyto_gen <- c(2:154)\n",
    "cyto <- c(86:154)\n",
    "gen <- c(2:85)\n",
    "clin_gen <- c(2:85,155:161)\n",
    "clin_cyto <- c(86:161)\n",
    "demo_gen <- c(2:85,162:163)\n",
    "demo_cyto <- c(86:154,162:163)   \n",
    "\n",
    "###Without age:\n",
    "eln_demo_gen_without_age <- c(1:85,162)\n",
    "eln_clin_demo_cyto_gen_without_age <- c(1:162)\n",
    "eln_clin_demo_cyto_without_age <- c(1,86:162)\n",
    "eln_clin_demo_gen_without_age <- c(1:85,155:162)\n",
    "eln_clin_demo_without_age <- c(1,155:162)\n",
    "clin_demo_cyto_gen_without_age <- c(2:162)\n",
    "clin_demo_cyto_without_age <- c(86:162)\n",
    "clin_demo_gen_without_age <- c(2:85,155:162)\n",
    "clin_demo_without_age <- c(155:162)\n",
    "demo_gen_without_age <- c(2:85,162)\n",
    "demo_cyto_without_age <- c(86:154,162)   \n",
    "age <- c(163)\n",
    "gen_age <- c(2:85,163)\n",
    "eln <-c(1) \n",
    "eln_comp <-c(1,164:180)\n",
    "eln_age <- c(1,163)\n",
    "eln_gen <- c(1:85)\n",
    "eln_cyto <- c(1,86:154)\n",
    "######################################################### eln_cyto_comp=eln_cyto_comp,eln_cyto_gen_comp=eln_cyto_gen_comp,\n",
    "#######################################################clin_demo_without_age=clin_demo_without_age,demo_gen_without_age=demo_gen_without_age,demo_cyto_without_age=demo_cyto_without_age\n",
    "y <- data.matrix(df_final[,c(\"os\",\"os_status\")])\n",
    "\n",
    "prognosis_features<- list(eln=eln)\n",
    "\n",
    "predictors <- c(rep(list(predictorGLM),11),rep(list(predictorRF),7),predictorBoost,predictorRFX)\n",
    "str_predictors <-c(rep(\"CoxGLM\",11),rep(\"RFS\",28),\"CoxBoost\",\"RFX\")\n",
    "l_alpha <-seq(0,1,0.1)\n",
    "l_ntree <- seq(300,1200,150)\n",
    "mc.cores <- 50\n",
    "nodesize <- c(5,10,20,30)\n",
    "for (i in 1:length(prognosis_features)){\n",
    "    print(\"DONE\")\n",
    "    x <- data.matrix(data.frame(df_final[,prognosis_features[[i]]]))\n",
    "    write.table(launch_prognosis(x=x,y=y,predictors=predictors,str_predictors=str_predictors,l_alpha=l_alpha,nrepeats=5,\n",
    "                l_ntree=l_ntree,mc.cores=mc.cores,nodesize=nodesize),paste(names(prognosis_features)[i],\".tsv\",sep=\"\"),quote=F,sep='\\t')\n",
    "    print(\"DONE\")\n",
    "    }\n"
   ]
  },
  {
   "cell_type": "code",
   "execution_count": 14,
   "metadata": {},
   "outputs": [],
   "source": [
    "eln <- c(184,185,186)\n",
    "eln_comp <- c(164:180,184,185,186)\n",
    "eln_age <- c(184,185,186,163)\n",
    "eln_gen <- c(2:85,184,185,186)\n",
    "eln_cyto <- c(184,185,186,86:154)\n",
    "eln_comp_merged <- c(164:173,177,179,180,184,185,186,187)\n",
    "df_final <- read.table(\"prognosis_comp_final.tsv\",sep='\\t',header=T)\n",
    "df_final$eln_favorable <- ifelse(df_final$eln_2017_ratio==3,1,0)\n",
    "df_final$eln_intermediate <- ifelse(df_final$eln_2017_ratio==2,1,0)\n",
    "df_final$eln_adverse <- ifelse(df_final$eln_2017_ratio==1,1,0)\n",
    "df_final$NC_chr_splicing <- df_final$final_component_chr_splicing + df_final$final_component_NC1 + df_final$final_component_NC2 + df_final$final_component_NC3 +df_final$final_component_NC6\n"
   ]
  },
  {
   "cell_type": "code",
   "execution_count": 20,
   "metadata": {},
   "outputs": [
    {
     "data": {
      "text/html": [
       "<ol class=list-inline>\n",
       "\t<li>'final_component_c1_NPM1'</li>\n",
       "\t<li>'final_component_c2_TP53_complex'</li>\n",
       "\t<li>'final_component_c3_rare_fusion'</li>\n",
       "\t<li>'final_component_c3_trans11'</li>\n",
       "\t<li>'final_component_c3_trans15_17'</li>\n",
       "\t<li>'final_component_c4_5_trans_8_21'</li>\n",
       "\t<li>'final_component_c6_biallelic_CEBPA'</li>\n",
       "\t<li>'final_component_c7_inversion_3'</li>\n",
       "\t<li>'final_component_c8_BAGE3_KMT2C'</li>\n",
       "\t<li>'final_component_chr_splicing'</li>\n",
       "\t<li>'final_component_nc4_DNMT3A_IDH2'</li>\n",
       "\t<li>'final_component_NC7'</li>\n",
       "\t<li>'final_component_not_assigned'</li>\n",
       "\t<li>'eln_favorable'</li>\n",
       "\t<li>'eln_intermediate'</li>\n",
       "\t<li>'eln_adverse'</li>\n",
       "\t<li>'NC_chr_splicing'</li>\n",
       "</ol>\n"
      ],
      "text/latex": [
       "\\begin{enumerate*}\n",
       "\\item 'final\\_component\\_c1\\_NPM1'\n",
       "\\item 'final\\_component\\_c2\\_TP53\\_complex'\n",
       "\\item 'final\\_component\\_c3\\_rare\\_fusion'\n",
       "\\item 'final\\_component\\_c3\\_trans11'\n",
       "\\item 'final\\_component\\_c3\\_trans15\\_17'\n",
       "\\item 'final\\_component\\_c4\\_5\\_trans\\_8\\_21'\n",
       "\\item 'final\\_component\\_c6\\_biallelic\\_CEBPA'\n",
       "\\item 'final\\_component\\_c7\\_inversion\\_3'\n",
       "\\item 'final\\_component\\_c8\\_BAGE3\\_KMT2C'\n",
       "\\item 'final\\_component\\_chr\\_splicing'\n",
       "\\item 'final\\_component\\_nc4\\_DNMT3A\\_IDH2'\n",
       "\\item 'final\\_component\\_NC7'\n",
       "\\item 'final\\_component\\_not\\_assigned'\n",
       "\\item 'eln\\_favorable'\n",
       "\\item 'eln\\_intermediate'\n",
       "\\item 'eln\\_adverse'\n",
       "\\item 'NC\\_chr\\_splicing'\n",
       "\\end{enumerate*}\n"
      ],
      "text/markdown": [
       "1. 'final_component_c1_NPM1'\n",
       "2. 'final_component_c2_TP53_complex'\n",
       "3. 'final_component_c3_rare_fusion'\n",
       "4. 'final_component_c3_trans11'\n",
       "5. 'final_component_c3_trans15_17'\n",
       "6. 'final_component_c4_5_trans_8_21'\n",
       "7. 'final_component_c6_biallelic_CEBPA'\n",
       "8. 'final_component_c7_inversion_3'\n",
       "9. 'final_component_c8_BAGE3_KMT2C'\n",
       "10. 'final_component_chr_splicing'\n",
       "11. 'final_component_nc4_DNMT3A_IDH2'\n",
       "12. 'final_component_NC7'\n",
       "13. 'final_component_not_assigned'\n",
       "14. 'eln_favorable'\n",
       "15. 'eln_intermediate'\n",
       "16. 'eln_adverse'\n",
       "17. 'NC_chr_splicing'\n",
       "\n",
       "\n"
      ],
      "text/plain": [
       " [1] \"final_component_c1_NPM1\"            \"final_component_c2_TP53_complex\"   \n",
       " [3] \"final_component_c3_rare_fusion\"     \"final_component_c3_trans11\"        \n",
       " [5] \"final_component_c3_trans15_17\"      \"final_component_c4_5_trans_8_21\"   \n",
       " [7] \"final_component_c6_biallelic_CEBPA\" \"final_component_c7_inversion_3\"    \n",
       " [9] \"final_component_c8_BAGE3_KMT2C\"     \"final_component_chr_splicing\"      \n",
       "[11] \"final_component_nc4_DNMT3A_IDH2\"    \"final_component_NC7\"               \n",
       "[13] \"final_component_not_assigned\"       \"eln_favorable\"                     \n",
       "[15] \"eln_intermediate\"                   \"eln_adverse\"                       \n",
       "[17] \"NC_chr_splicing\"                   "
      ]
     },
     "metadata": {},
     "output_type": "display_data"
    }
   ],
   "source": [
    "colnames(df_final[,eln_comp_merged])"
   ]
  },
  {
   "cell_type": "code",
   "execution_count": 2,
   "metadata": {},
   "outputs": [
    {
     "name": "stdout",
     "output_type": "stream",
     "text": [
      "[1] \"DONE\"\n",
      "[1] \"start CV\"\n",
      "[1] \"start CV\"\n",
      "[1] \"start CV\"\n",
      "[1] \"start CV\"\n",
      "[1] \"start CV\"\n",
      "[1] \"start CV\"\n",
      "[1] \"start CV\"\n",
      "[1] \"start CV\"\n",
      "[1] \"start CV\"\n",
      "[1] \"start CV\"\n",
      "[1] \"start CV\"\n",
      "[1] \"start CV\"\n",
      "[1] \"start CV\"\n",
      "[1] \"start CV\"\n",
      "[1] \"start CV\"\n",
      "[1] \"start CV\"\n",
      "[1] \"start CV\"\n",
      "[1] \"start CV\"\n",
      "[1] \"start CV\"\n",
      "[1] \"start CV\"\n",
      "[1] \"start CV\"\n",
      "[1] \"start CV\"\n",
      "[1] \"start CV\"\n",
      "[1] \"start CV\"\n",
      "[1] \"start CV\"\n",
      "[1] \"start CV\"\n",
      "[1] \"start CV\"\n",
      "[1] \"start CV\"\n",
      "[1] \"start CV\"\n",
      "[1] \"start CV\"\n",
      "[1] \"start CV\"\n",
      "[1] \"start CV\"\n",
      "[1] \"start CV\"\n",
      "[1] \"start CV\"\n",
      "[1] \"start CV\"\n",
      "[1] \"start CV\"\n",
      "[1] \"start CV\"\n",
      "[1] \"start CV\"\n",
      "[1] \"start CV\"\n",
      "[1] \"start CV\"\n",
      "[1] \"start CV\"\n",
      "[1] \"DONE\"\n"
     ]
    }
   ],
   "source": [
    "df_final_chr_merged <- read.table(\"prognosis_comp_final.tsv\",sep='\\t',header=T)\n",
    "df_final_chr_merged$NC_chr_splicing <- df_final_chr_merged$final_component_chr_splicing + df_final_chr_merged$final_component_NC1 + df_final_chr_merged$final_component_NC2 + df_final_chr_merged$final_component_NC3 +df_final_chr_merged$final_component_NC6\n",
    "df_final_chr_merged <- df_final_chr_merged[,c(1,164:172,184,177,179:182)]\n",
    "eln_comp_chr_merged <- c(1:14)\n",
    "y <- data.matrix(df_final_chr_merged[,c(\"os\",\"os_status\")])\n",
    "\n",
    "prognosis_features<- list(eln_comp_chr_merged=eln_comp_chr_merged)\n",
    "\n",
    "predictors <- c(rep(list(predictorGLM),11),rep(list(predictorRF),7),predictorBoost,predictorRFX)\n",
    "str_predictors <-c(rep(\"CoxGLM\",11),rep(\"RFS\",28),\"CoxBoost\",\"RFX\")\n",
    "l_alpha <-seq(0,1,0.1)\n",
    "l_ntree <- seq(300,1200,150)\n",
    "mc.cores <- 50\n",
    "nodesize <- c(5,10,20,30)\n",
    "for (i in 1:length(prognosis_features)){\n",
    "    print(\"DONE\")\n",
    "    x <- data.matrix(df_final_chr_merged[,prognosis_features[[i]]])\n",
    "    write.table(launch_prognosis(x=x,y=y,predictors=predictors,str_predictors=str_predictors,l_alpha=l_alpha,nrepeats=5,\n",
    "                l_ntree=l_ntree,mc.cores=mc.cores,nodesize=nodesize),paste(names(prognosis_features)[i],\".tsv\",sep=\"\"),quote=F,sep='\\t')\n",
    "    print(\"DONE\")\n",
    "    }"
   ]
  },
  {
   "cell_type": "code",
   "execution_count": 7,
   "metadata": {},
   "outputs": [
    {
     "data": {
      "text/plain": [
       "\n",
       "   0    1 \n",
       "1873   58 "
      ]
     },
     "metadata": {},
     "output_type": "display_data"
    }
   ],
   "source": [
    "table(df_final_chr_merged$final_component_chr_splicing)"
   ]
  },
  {
   "cell_type": "code",
   "execution_count": 39,
   "metadata": {},
   "outputs": [
    {
     "ename": "ERROR",
     "evalue": "Error in scan(file = file, what = what, sep = sep, quote = quote, dec = dec, : line 2 did not have 41 elements\n",
     "output_type": "error",
     "traceback": [
      "Error in scan(file = file, what = what, sep = sep, quote = quote, dec = dec, : line 2 did not have 41 elements\nTraceback:\n",
      "1. summary(read.table(\"eln.tsv\"))",
      "2. read.table(\"eln.tsv\")",
      "3. scan(file = file, what = what, sep = sep, quote = quote, dec = dec, \n .     nmax = nrows, skip = 0, na.strings = na.strings, quiet = TRUE, \n .     fill = fill, strip.white = strip.white, blank.lines.skip = blank.lines.skip, \n .     multi.line = FALSE, comment.char = comment.char, allowEscapes = allowEscapes, \n .     flush = flush, encoding = encoding, skipNul = skipNul)"
     ]
    }
   ],
   "source": [
    "summary(read.table(\"eln.tsv\"))\n",
    "#summary(read.table(\"eln_comp.tsv\"))"
   ]
  },
  {
   "cell_type": "code",
   "execution_count": null,
   "metadata": {},
   "outputs": [],
   "source": []
  }
 ],
 "metadata": {
  "kernelspec": {
   "display_name": "R",
   "language": "R",
   "name": "ir"
  },
  "language_info": {
   "codemirror_mode": "r",
   "file_extension": ".r",
   "mimetype": "text/x-r-source",
   "name": "R",
   "pygments_lexer": "r",
   "version": "3.5.2"
  }
 },
 "nbformat": 4,
 "nbformat_minor": 2
}

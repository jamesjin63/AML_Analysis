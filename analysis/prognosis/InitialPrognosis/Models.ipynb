{
 "cells": [
  {
   "cell_type": "code",
   "execution_count": 1,
   "metadata": {},
   "outputs": [
    {
     "name": "stderr",
     "output_type": "stream",
     "text": [
      "Loading required package: Matrix\n",
      "Loading required package: foreach\n",
      "Loaded glmnet 2.0-16\n",
      "\n",
      "Loading required package: iterators\n",
      "Loading required package: parallel\n",
      "Loading required package: prodlim\n",
      "\n",
      " randomForestSRC 2.9.0 \n",
      " \n",
      " Type rfsrc.news() to see new features, changes, and bug fixes. \n",
      " \n",
      "\n"
     ]
    }
   ],
   "source": [
    "library(glmnet)\n",
    "library(doMC)\n",
    "library(survival)\n",
    "library(data.table)\n",
    "library(mltools)\n",
    "library(CoxBoost)\n",
    "library(randomForestSRC)"
   ]
  },
  {
   "cell_type": "code",
   "execution_count": 2,
   "metadata": {},
   "outputs": [],
   "source": [
    "df_all <-read.table(\"df_prognosis.tsv\",sep = '\\t' , header = T) \n",
    "\n",
    "###    2094 rows 166 columns\n",
    "\n",
    "df_all <-na.omit(df_all) # delete rows with na (161)\n",
    "df_all <- df_all[df_all$os>0,] # delete when os is negative (2)\n",
    "\n",
    "####\n",
    "\n",
    "#Convert predicted_component to one hot encoder\n",
    "df_all$new_eln<-factor(df_all$new_eln, levels = c(\"adverse\",\"intermediate\",\"favorable\"), labels = 0:2, ordered = TRUE)  # convert categorical new_eln to numerical (0,1,2)\n",
    "name <-rownames(df_all)\n",
    "df_all$predicted_component <- as.factor(df_all$predicted_component)\n",
    "df_final <- as.data.frame(one_hot(as.data.table(df_all),cols=\"predicted_component\"))\n",
    "rownames(df_final) <- name\n",
    "\n",
    "####\n",
    "\n",
    "###  1931 rows 180 columns"
   ]
  },
  {
   "cell_type": "code",
   "execution_count": 13,
   "metadata": {},
   "outputs": [],
   "source": [
    "predictorRidge <- function(designTrain, designTest, responseTrain, alpha=0.9, ninternalfolds=10) {\n",
    "    # alpha=1 --> l1 penalty\n",
    "    # alpha=0 --> l2 penalty\n",
    "    # alpha=1/2 --> elastic net\n",
    "\n",
    "    # Train\n",
    "    cvfit = cv.glmnet(designTrain, responseTrain, family=\"cox\", alpha=alpha, nfolds=ninternalfolds, grouped=TRUE)\n",
    "    # Predict\n",
    "    risk.predict = predict(cvfit, newx=designTest, s=\"lambda.1se\", type=\"response\")\n",
    "    risk.predict = as.vector(risk.predict[,1])\n",
    "\n",
    "    return(risk.predict)\n",
    "}    \n",
    "\n",
    "predictorBOOST<-function(designTrain, designTest, responseTrain){\n",
    "  cvfit<-CoxBoost(time=responseTrain[,1],\n",
    "                  status=responseTrain[,2],\n",
    "                  x=designTrain)\n",
    "  \n",
    "  risk.predict<-predict(cvfit,designTest,newtime=responseTest[,1],newstatus=responseTest[,2],type='lp')\n",
    "  \n",
    "  return(as.vector(risk.predict))\n",
    "}\n",
    "predictorRF <- function(designTrain, designTest, responseTrain, ntree=5, importance=\"none\") {\n",
    "    \n",
    "    # Train\n",
    "    cvfit = rfsrc(Surv(time, status) ~ ., data=data.frame(designTrain,responseTrain), ntree=ntree, importance=importance)\n",
    "    \n",
    "    # Predict\n",
    "    risk.predict = predict(cvfit, data.frame(designTest), importance=importance)$predicted\n",
    "    \n",
    "    return(risk.predict)\n",
    "} \n",
    "predictorAIC <- function(designTrain, designTest, responseTrain) {\n",
    "    \n",
    "    # Train\n",
    "    c <- coxph(Surv(time, status) ~ ., data=data.frame(designTrain,responseTrain))\n",
    "    scopeStep <- as.formula(paste(\"Surv(time,status) ~\", paste(colnames(designTrain), collapse=\"+\")))\n",
    "    cvfit<-step(c, scope=scopeStep, k = 2, trace=0)\n",
    "    # Predict\n",
    "    risk.predict = predict(cvfit, data.frame(designTest))\n",
    "    \n",
    "    return(risk.predict)\n",
    "}\n"
   ]
  },
  {
   "cell_type": "code",
   "execution_count": 14,
   "metadata": {},
   "outputs": [
    {
     "name": "stdout",
     "output_type": "stream",
     "text": [
      "[1] \"start CV\"\n"
     ]
    }
   ],
   "source": [
    "set.seed(17)\n",
    "x <- data.matrix(df_final[,1:177])\n",
    "y <- data.matrix(df_final[,c(\"os\",\"os_status\")])\n",
    "colnames(y) = c(\"time\",\"status\")\n",
    "#y <- Surv(time = df_final$os, event = df_final$os_status)\n",
    "nrepeats=1\n",
    "nfolds=5 # to do 80% vs 20%\n",
    "    # Make folds\n",
    "n = nrow(x)\n",
    "folds <- list()\n",
    "# This splits the dataset into nfolds folds without repetition\n",
    "for (i in seq(nrepeats)) {\n",
    "    folds <- c(folds,split(sample(seq(n)), rep(1:nfolds, length = n)))\n",
    "}\n",
    "\n",
    "nexp=length(folds)\n",
    "print(\"start CV\")\n",
    "rescv = mclapply(seq(nexp),\n",
    "               FUN=function(iexp) {\n",
    "                   cat(\".\")\n",
    "                   vTrain = x[-folds[[iexp]],,drop=F]\n",
    "                   vTest = x[folds[[iexp]],,drop=F]\n",
    "                   lTrain = y[-folds[[iexp]],]\n",
    "                   lTest = y[folds[[iexp]],]\n",
    "                   # Train and Predcit\n",
    "                   predict.test = predictorRidge(designTrain=vTrain, designTest=vTest, responseTrain=lTrain)\n",
    "                   # Evaluate CI on the test\n",
    "                   ci.test = survConcordance(Surv(time,status) ~ predict.test, as.data.frame(lTest))\n",
    "                   print(as.vector(ci.test$concordance))\n",
    "               },\n",
    "               mc.cores=50\n",
    "               )\n",
    "print(unlist(rescv))\n",
    "#nexp = length(folds) # the total number CV of experiments = nfolds * nrepeats\n"
   ]
  },
  {
   "cell_type": "code",
   "execution_count": 12,
   "metadata": {},
   "outputs": [
    {
     "data": {
      "text/html": [
       "0.728158557554195"
      ],
      "text/latex": [
       "0.728158557554195"
      ],
      "text/markdown": [
       "0.728158557554195"
      ],
      "text/plain": [
       "[1] 0.7281586"
      ]
     },
     "metadata": {},
     "output_type": "display_data"
    }
   ],
   "source": [
    "mean(unlist(rescv))"
   ]
  },
  {
   "cell_type": "code",
   "execution_count": 104,
   "metadata": {},
   "outputs": [
    {
     "ename": "ERROR",
     "evalue": "Error in parse(text = x, srcfile = src): <text>:1:3: unexpected string constant\n20: return(unlist(rescv))\n21: '\n      ^\n",
     "output_type": "error",
     "traceback": [
      "Error in parse(text = x, srcfile = src): <text>:1:3: unexpected string constant\n20: return(unlist(rescv))\n21: '\n      ^\nTraceback:\n"
     ]
    }
   ],
   "source": [
    "'''\n",
    "# Parallel CV\n",
    "print(\"start CV\")\n",
    "rescv = mclapply(seq(nexp),\n",
    "               FUN=function(iexp) {\n",
    "                   cat(\".\")\n",
    "                   vTrain = design[-folds[[iexp]],,drop=F]\n",
    "                   vTest = design[folds[[iexp]],,drop=F]\n",
    "                   lTrain = response[-folds[[iexp]],]\n",
    "                   lTest = response[folds[[iexp]],]\n",
    "                   # Train and Predcit\n",
    "                   predict.test = mypredictor(designTrain=vTrain, designTest=vTest, response=lTrain, ...)\n",
    "                   # Evaluate CI on the test\n",
    "                   ci.test = survConcordance(Surv(time,status) ~ predict.test, as.data.frame(lTest))\n",
    "                   return(as.vector(ci.test$concordance))\n",
    "               },\n",
    "               mc.cores=mc.cores\n",
    "               )\n",
    "\n",
    "return(unlist(rescv))\n",
    "'''"
   ]
  },
  {
   "cell_type": "code",
   "execution_count": 251,
   "metadata": {},
   "outputs": [
    {
     "data": {
      "text/plain": [
       "           Length Class  Mode     \n",
       "lambda     61     -none- numeric  \n",
       "cvm        61     -none- numeric  \n",
       "cvsd       61     -none- numeric  \n",
       "cvup       61     -none- numeric  \n",
       "cvlo       61     -none- numeric  \n",
       "nzero      61     -none- numeric  \n",
       "name        1     -none- character\n",
       "glmnet.fit 12     coxnet list     \n",
       "lambda.min  1     -none- numeric  \n",
       "lambda.1se  1     -none- numeric  "
      ]
     },
     "metadata": {},
     "output_type": "display_data"
    }
   ],
   "source": [
    "summary(cvfit)"
   ]
  },
  {
   "cell_type": "code",
   "execution_count": null,
   "metadata": {},
   "outputs": [],
   "source": [
    "predictorRidge <- function(designTrain, designTest, responseTrain, alpha=0, ninternalfolds=10) {\n",
    "    # alpha=1 --> l1 penalty\n",
    "    # alpha=0 --> l2 penalty\n",
    "    # alpha=1/2 --> elastic net\n",
    "\n",
    "    # Train\n",
    "    cvfit = cv.glmnet(designTrain, responseTrain, family=\"cox\", alpha=alpha, nfolds=ninternalfolds, grouped=TRUE)\n",
    "    # Predict\n",
    "    risk.predict = predict(cvfit, newx=designTest, s=\"lambda.1se\", type=\"response\")\n",
    "    risk.predict = as.vector(risk.predict[,1])\n",
    "\n",
    "    return(risk.predict)\n",
    "}    "
   ]
  },
  {
   "cell_type": "code",
   "execution_count": null,
   "metadata": {},
   "outputs": [],
   "source": [
    "for(predictor in predictors[6:7]){\n",
    "    tmp <- runCV(mypredictor=predictor,\n",
    "          response=prep.CLIN_DEMO_CYTO$response, design=prep.CLIN_DEMO_CYTO$design,\n",
    "          nfolds=nfolds, nrepeats=nrepeats, seed=seed, mc.cores=mc.cores)\n",
    "    res.CLIN_DEMO_CYTO <- cbind(res.CLIN_DEMO_CYTO,tmp)\n",
    "}\n",
    "runCV <- function(mypredictor, response, design, nfolds=5, nrepeats=10, seed=5396, mc.cores=1, ...) {\n",
    "    # function that run \"mypredictor\" on a CV setting\n",
    "    #\n",
    "    # output a list of size the number of CV experiments (eg 50) (= nfolds x nrepeats)\n",
    "    \n",
    "    # \"ref\" contains the responses of the fold test set\n",
    "\n",
    "    #  random number generator seed\n",
    "    set.seed(seed)\n",
    "\n",
    "    # Make folds\n",
    "    n = nrow(design)\n",
    "    folds <- list()\n",
    "    for (i in seq(nrepeats)) {\n",
    "        folds <- c(folds,split(sample(seq(n)), rep(1:nfolds, length = n)))\n",
    "    }\n",
    "    nexp = length(folds) # the total number CV of experiments\n",
    "\n",
    "    # Parallel CV\n",
    "    print(\"start CV\")\n",
    "    rescv = mclapply(seq(nexp),\n",
    "                   FUN=function(iexp) {\n",
    "                       cat(\".\")\n",
    "                       vTrain = design[-folds[[iexp]],,drop=F]\n",
    "                       vTest = design[folds[[iexp]],,drop=F]\n",
    "                       lTrain = response[-folds[[iexp]],]\n",
    "                       lTest = response[folds[[iexp]],]\n",
    "                       # Train and Predcit\n",
    "                       predict.test = mypredictor(designTrain=vTrain, designTest=vTest, response=lTrain, ...)\n",
    "                       # Evaluate CI on the test\n",
    "                       ci.test = survConcordance(Surv(time,status) ~ predict.test, as.data.frame(lTest))\n",
    "                       return(as.vector(ci.test$concordance))\n",
    "                   },\n",
    "                   mc.cores=mc.cores\n",
    "                   )\n",
    "\n",
    "    return(unlist(rescv))\n",
    "\n",
    "}"
   ]
  }
 ],
 "metadata": {
  "kernelspec": {
   "display_name": "R",
   "language": "R",
   "name": "ir"
  },
  "language_info": {
   "codemirror_mode": "r",
   "file_extension": ".r",
   "mimetype": "text/x-r-source",
   "name": "R",
   "pygments_lexer": "r",
   "version": "3.5.2"
  }
 },
 "nbformat": 4,
 "nbformat_minor": 2
}

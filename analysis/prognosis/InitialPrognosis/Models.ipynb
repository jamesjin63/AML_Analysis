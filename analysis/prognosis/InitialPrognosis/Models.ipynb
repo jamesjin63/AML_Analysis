{
 "cells": [
  {
   "cell_type": "code",
   "execution_count": 176,
   "metadata": {},
   "outputs": [],
   "source": [
    "library(glmnet)\n",
    "library(doMC)\n",
    "library(survival)\n",
    "library(data.table)\n",
    "library(mltools)\n",
    "library(CoxBoost)\n",
    "library(randomForestSRC)\n",
    "library(CoxHD)\n",
    "source('run_prognosis.R')"
   ]
  },
  {
   "cell_type": "code",
   "execution_count": 20,
   "metadata": {},
   "outputs": [],
   "source": [
    "df_all <-read.table(\"df_prognosis.tsv\",sep = '\\t' , header = T) \n",
    "\n",
    "###    2094 rows 166 columns\n",
    "\n",
    "df_all <-na.omit(df_all) # delete rows with na (161)\n",
    "df_all <- df_all[df_all$os>0,] # delete when os is negative (2)\n",
    "\n",
    "####\n",
    "\n",
    "#Convert predicted_component to one hot encoder\n",
    "df_all$new_eln<-factor(df_all$new_eln, levels = c(\"adverse\",\"intermediate\",\"favorable\"), labels = 0:2, ordered = TRUE)  # convert categorical new_eln to numerical (0,1,2)\n",
    "name <-rownames(df_all)\n",
    "df_all$predicted_component <- as.factor(df_all$predicted_component)\n",
    "df_final <- as.data.frame(one_hot(as.data.table(df_all),cols=\"predicted_component\"))\n",
    "rownames(df_final) <- name\n",
    "\n",
    "#write.table(df_final,\"df_prognosis_features_ready.tsv\",sep='\\t',quote=F)\n",
    "####\n",
    "\n",
    "###  1931 rows 180 columns"
   ]
  },
  {
   "cell_type": "code",
   "execution_count": 21,
   "metadata": {},
   "outputs": [
    {
     "name": "stdout",
     "output_type": "stream",
     "text": [
      "[1] \"start CV\"\n"
     ]
    },
    {
     "data": {
      "text/html": [
       "<table>\n",
       "<thead><tr><th scope=col>CoxMod_0.1</th></tr></thead>\n",
       "<tbody>\n",
       "\t<tr><td>0.6265973</td></tr>\n",
       "\t<tr><td>0.6511334</td></tr>\n",
       "\t<tr><td>0.6376802</td></tr>\n",
       "\t<tr><td>0.6470114</td></tr>\n",
       "\t<tr><td>0.6554482</td></tr>\n",
       "\t<tr><td>0.6808461</td></tr>\n",
       "\t<tr><td>0.6326469</td></tr>\n",
       "\t<tr><td>0.6370511</td></tr>\n",
       "\t<tr><td>0.6442483</td></tr>\n",
       "\t<tr><td>0.6153510</td></tr>\n",
       "\t<tr><td>0.6390959</td></tr>\n",
       "\t<tr><td>0.6476431</td></tr>\n",
       "\t<tr><td>0.6379850</td></tr>\n",
       "\t<tr><td>0.6345605</td></tr>\n",
       "\t<tr><td>0.6626678</td></tr>\n",
       "\t<tr><td>0.6489270</td></tr>\n",
       "\t<tr><td>0.6490383</td></tr>\n",
       "\t<tr><td>0.6620929</td></tr>\n",
       "\t<tr><td>0.6435715</td></tr>\n",
       "\t<tr><td>0.6278114</td></tr>\n",
       "\t<tr><td>0.6570237</td></tr>\n",
       "\t<tr><td>0.6576372</td></tr>\n",
       "\t<tr><td>0.6085469</td></tr>\n",
       "\t<tr><td>0.6517430</td></tr>\n",
       "\t<tr><td>0.6316241</td></tr>\n",
       "</tbody>\n",
       "</table>\n"
      ],
      "text/latex": [
       "\\begin{tabular}{l}\n",
       " CoxMod\\_0.1\\\\\n",
       "\\hline\n",
       "\t 0.6265973\\\\\n",
       "\t 0.6511334\\\\\n",
       "\t 0.6376802\\\\\n",
       "\t 0.6470114\\\\\n",
       "\t 0.6554482\\\\\n",
       "\t 0.6808461\\\\\n",
       "\t 0.6326469\\\\\n",
       "\t 0.6370511\\\\\n",
       "\t 0.6442483\\\\\n",
       "\t 0.6153510\\\\\n",
       "\t 0.6390959\\\\\n",
       "\t 0.6476431\\\\\n",
       "\t 0.6379850\\\\\n",
       "\t 0.6345605\\\\\n",
       "\t 0.6626678\\\\\n",
       "\t 0.6489270\\\\\n",
       "\t 0.6490383\\\\\n",
       "\t 0.6620929\\\\\n",
       "\t 0.6435715\\\\\n",
       "\t 0.6278114\\\\\n",
       "\t 0.6570237\\\\\n",
       "\t 0.6576372\\\\\n",
       "\t 0.6085469\\\\\n",
       "\t 0.6517430\\\\\n",
       "\t 0.6316241\\\\\n",
       "\\end{tabular}\n"
      ],
      "text/markdown": [
       "\n",
       "| CoxMod_0.1 |\n",
       "|---|\n",
       "| 0.6265973 |\n",
       "| 0.6511334 |\n",
       "| 0.6376802 |\n",
       "| 0.6470114 |\n",
       "| 0.6554482 |\n",
       "| 0.6808461 |\n",
       "| 0.6326469 |\n",
       "| 0.6370511 |\n",
       "| 0.6442483 |\n",
       "| 0.6153510 |\n",
       "| 0.6390959 |\n",
       "| 0.6476431 |\n",
       "| 0.6379850 |\n",
       "| 0.6345605 |\n",
       "| 0.6626678 |\n",
       "| 0.6489270 |\n",
       "| 0.6490383 |\n",
       "| 0.6620929 |\n",
       "| 0.6435715 |\n",
       "| 0.6278114 |\n",
       "| 0.6570237 |\n",
       "| 0.6576372 |\n",
       "| 0.6085469 |\n",
       "| 0.6517430 |\n",
       "| 0.6316241 |\n",
       "\n"
      ],
      "text/plain": [
       "      CoxMod_0.1\n",
       " [1,] 0.6265973 \n",
       " [2,] 0.6511334 \n",
       " [3,] 0.6376802 \n",
       " [4,] 0.6470114 \n",
       " [5,] 0.6554482 \n",
       " [6,] 0.6808461 \n",
       " [7,] 0.6326469 \n",
       " [8,] 0.6370511 \n",
       " [9,] 0.6442483 \n",
       "[10,] 0.6153510 \n",
       "[11,] 0.6390959 \n",
       "[12,] 0.6476431 \n",
       "[13,] 0.6379850 \n",
       "[14,] 0.6345605 \n",
       "[15,] 0.6626678 \n",
       "[16,] 0.6489270 \n",
       "[17,] 0.6490383 \n",
       "[18,] 0.6620929 \n",
       "[19,] 0.6435715 \n",
       "[20,] 0.6278114 \n",
       "[21,] 0.6570237 \n",
       "[22,] 0.6576372 \n",
       "[23,] 0.6085469 \n",
       "[24,] 0.6517430 \n",
       "[25,] 0.6316241 "
      ]
     },
     "metadata": {},
     "output_type": "display_data"
    }
   ],
   "source": [
    "#dim(df_all)\n",
    "#dim(df_final)\n",
    "df_final <- read.table(\"df_prognosis_features_ready.tsv\",sep = '\\t' , header = T)\n",
    "x <- data.matrix(df_final[,1:84])\n",
    "y <- data.matrix(df_final[,c(\"os\",\"os_status\")])\n",
    "predictors <- c(predictorGLM)\n",
    "#predictors <- c(rep(list(predictorGLM),10),rep(list(predictorRF),10),predictorBoost,predictorRFX)\n",
    "str_predictors <-c(rep(\"CoxMod\",10),rep(\"RFS\",10),\"CoxBoost\",\"RFX\")\n",
    "l_alpha <-seq(0.1,1,0.1)\n",
    "l_ntree <- seq(100,1000,100)\n",
    "launch_prognosis(x,y,predictors,str_predictors,l_alpha,l_ntree)"
   ]
  },
  {
   "cell_type": "code",
   "execution_count": 185,
   "metadata": {},
   "outputs": [
    {
     "name": "stdout",
     "output_type": "stream",
     "text": [
      "[1] \"start CV\"\n",
      "..[1] \"start CV\"\n",
      "..[1] \"start CV\"\n",
      "..[1] \"start CV\"\n",
      ".[1] 10\n",
      ".[1] 10\n",
      "[1] \"start CV\"\n",
      ".[1] 20\n",
      ".[1] 20\n",
      "[1] \"start CV\"\n",
      ".[1] 10\n",
      ".[1] 10\n",
      "[1] \"start CV\"\n",
      ".[1] 20\n",
      ".[1] 20\n",
      "[1] \"start CV\"\n",
      ".."
     ]
    },
    {
     "data": {
      "text/html": [
       "<table>\n",
       "<thead><tr><th scope=col>CoxGLM_0.05</th><th scope=col>CoxGLM_0.1</th><th scope=col>CoxGLM_0.15</th><th scope=col>predictorRF_10_10</th><th scope=col>predictorRF_10_20</th><th scope=col>predictorRF_20_10</th><th scope=col>predictorRF_20_20</th><th scope=col>predictorBoost_</th></tr></thead>\n",
       "<tbody>\n",
       "\t<tr><td>0.6478436</td><td>0.6479093</td><td>0.6471204</td><td>0.6398329</td><td>0.6387570</td><td>0.6347908</td><td>0.6448320</td><td>0.6471647</td></tr>\n",
       "\t<tr><td>0.6498326</td><td>0.6485409</td><td>0.6485937</td><td>0.6363847</td><td>0.6407016</td><td>0.6454629</td><td>0.6515815</td><td>0.6474822</td></tr>\n",
       "</tbody>\n",
       "</table>\n"
      ],
      "text/latex": [
       "\\begin{tabular}{llllllll}\n",
       " CoxGLM\\_0.05 & CoxGLM\\_0.1 & CoxGLM\\_0.15 & predictorRF\\_10\\_10 & predictorRF\\_10\\_20 & predictorRF\\_20\\_10 & predictorRF\\_20\\_20 & predictorBoost\\_\\\\\n",
       "\\hline\n",
       "\t 0.6478436 & 0.6479093 & 0.6471204 & 0.6398329 & 0.6387570 & 0.6347908 & 0.6448320 & 0.6471647\\\\\n",
       "\t 0.6498326 & 0.6485409 & 0.6485937 & 0.6363847 & 0.6407016 & 0.6454629 & 0.6515815 & 0.6474822\\\\\n",
       "\\end{tabular}\n"
      ],
      "text/markdown": [
       "\n",
       "| CoxGLM_0.05 | CoxGLM_0.1 | CoxGLM_0.15 | predictorRF_10_10 | predictorRF_10_20 | predictorRF_20_10 | predictorRF_20_20 | predictorBoost_ |\n",
       "|---|---|---|---|---|---|---|---|\n",
       "| 0.6478436 | 0.6479093 | 0.6471204 | 0.6398329 | 0.6387570 | 0.6347908 | 0.6448320 | 0.6471647 |\n",
       "| 0.6498326 | 0.6485409 | 0.6485937 | 0.6363847 | 0.6407016 | 0.6454629 | 0.6515815 | 0.6474822 |\n",
       "\n"
      ],
      "text/plain": [
       "     CoxGLM_0.05 CoxGLM_0.1 CoxGLM_0.15 predictorRF_10_10 predictorRF_10_20\n",
       "[1,] 0.6478436   0.6479093  0.6471204   0.6398329         0.6387570        \n",
       "[2,] 0.6498326   0.6485409  0.6485937   0.6363847         0.6407016        \n",
       "     predictorRF_20_10 predictorRF_20_20 predictorBoost_\n",
       "[1,] 0.6347908         0.6448320         0.6471647      \n",
       "[2,] 0.6454629         0.6515815         0.6474822      "
      ]
     },
     "metadata": {},
     "output_type": "display_data"
    }
   ],
   "source": [
    "x <- data.matrix(df_final[,1:84])\n",
    "y <- data.matrix(df_final[,c(\"os\",\"os_status\")])\n",
    "predictors <- c(rep(list(predictorGLM),3),predictorRF,predictorRF,predictorBoost)\n",
    "#predictors <- c(predictorRFX)\n",
    "#predictors <- c(rep(list(predictorGLM),10),rep(list(predictorRF),10),predictorBoost,predictorRFX)\n",
    "str_predictors <-c(rep(\"CoxMod\",10),rep(\"RFS\",10),\"CoxBoost\",\"RFX\")\n",
    "str_predictors <- c(rep(\"CoxGLM\",3),rep(\"predictorRF\",4),\"predictorBoost\")\n",
    "l_alpha <-seq(0.05,1,0.05)\n",
    "#l_ntree <- seq(100,1500,100)\n",
    "l_ntree <-c(10,20)\n",
    "(launch_prognosis(x=x,y=y,predictors=predictors,str_predictors=str_predictors,l_alpha=l_alpha,l_ntree=l_ntree,mc.cores=1,nodesize=c(10,20),nrepeats=1,nfolds=2))"
   ]
  },
  {
   "cell_type": "code",
   "execution_count": 218,
   "metadata": {},
   "outputs": [],
   "source": [
    "#colnames(df_final)\n",
    "all_features <- 1:177\n",
    "eln_clin<-c(1,169:175)\n",
    "eln_clin_demo<-c(1,169:177)\n",
    "eln_clin_demo_cyto <-c(1,85:153,169:177)\n",
    "eln_clin_demo_gen <-c(1:84,169:177)\n",
    "eln_clin_demo_cyto_gen <-c(1:153,169:177)\n",
    "eln_clin_demo_comp <-c(1,154:177)\n",
    "eln_cyto_gen<-c(1:153)\n",
    "eln_cyto_gen_comp <-c(1:168)\n",
    "eln_cyto_comp <-c(1,85:168)\n",
    "eln_gen_comp <-c(1:84,154:168)\n",
    "\n",
    "clin_demo<-c(169:177)\n",
    "clin_demo_cyto <-c(85:153,169:177)\n",
    "clin_demo_gen <-c(2:84,169:177)\n",
    "clin_demo_cyto_gen <-c(2:153,169:177)\n",
    "clin_demo_comp <-c(154:177)\n",
    "cyto_gen<-c(2:153)\n",
    "cyto_gen_comp <-c(2:168)\n",
    "cyto_comp <-c(85:168)\n",
    "gen_comp <-c(2:84,154:168)\n",
    "clin_demo_cyto_gen_comp<-c(2:177)\n",
    "gen<-c(2:84)\n",
    "cyto<-c(85:153)\n",
    "comp<-c(154:168)\n",
    "a <-list(all_features=all_features,eln_clin=eln_clin,eln_clin_demo=eln_clin_demo,\n",
    "    eln_clin_demo_cyto=eln_clin_demo_cyto,eln_clin_demo_gen=eln_clin_demo_gen,\n",
    "    eln_clin_demo_cyto_gen=eln_clin_demo_cyto_gen,eln_clin_demo_comp=eln_clin_demo_comp,\n",
    "    eln_cyto_gen=eln_cyto_gen,eln_cyto_gen_comp=eln_cyto_gen_comp,eln_cyto_comp=eln_cyto_comp,\n",
    "    eln_gen_comp=eln_gen_comp,clin_demo=clin_demo,clin_demo_cyto=clin_demo_cyto,clin_demo_gen=clin_demo_gen,\n",
    "    clin_demo_cyto_gen=clin_demo_cyto_gen,clin_demo_comp=clin_demo_comp,cyto_gen=cyto_gen,cyto_gen_comp=cyto_gen_comp,\n",
    "    cyto_comp=cyto_comp,gen_comp=gen_comp,clin_demo_cyto_gen_comp=clin_demo_cyto_gen_comp,gen=gen,cyto=cyto,comp=comp)"
   ]
  },
  {
   "cell_type": "code",
   "execution_count": 241,
   "metadata": {},
   "outputs": [
    {
     "name": "stdout",
     "output_type": "stream",
     "text": [
      "[1] \"start CV\"\n",
      "[1] \"start CV\"\n",
      "[1] \"DONE\"\n",
      "[1] \"start CV\"\n",
      "[1] \"start CV\"\n",
      "[1] \"DONE\"\n"
     ]
    }
   ],
   "source": [
    "prognosis_features<- list(all_features=all_features,eln_clin=eln_clin,eln_clin_demo=eln_clin_demo,\n",
    "    eln_clin_demo_cyto=eln_clin_demo_cyto,eln_clin_demo_gen=eln_clin_demo_gen)\n",
    "###--------------------------------------------------\n",
    "y <- data.matrix(df_final[,c(\"os\",\"os_status\")])\n",
    "\n",
    "#predictors <- c(rep(list(predictorGLM),20),rep(list(predictorRF),15),predictorBoost,predictorRFX)\n",
    "predictors <- c(predictorBoost,predictorRFX)\n",
    "prognosis_features<- list(eln_clin=eln_clin,eln_clin_demo=eln_clin_demo)\n",
    "str_predictors <-c(rep(\"CoxGLM\",20),rep(\"RFS\",105),\"CoxBoost\",\"RFX\")\n",
    "l_alpha <-seq(0.05,1,0.05)\n",
    "l_ntree <- seq(100,1500,100)\n",
    "mc.cores <- 8\n",
    "nodesize <- c(5,10,15,20,30,40,50)\n",
    "for (i in 1:length(prognosis_features)){\n",
    "    x <- data.matrix(df_final[,prognosis_features[[i]]])\n",
    "launch_prognosis(x=x,y=y,predictors=predictors,str_predictors=str_predictors,l_alpha=l_alpha,\n",
    "                l_ntree=l_ntree,mc.cores=mc.cores,nodesize=nodesize)\n",
    "    print(\"DONE\")\n",
    "    }"
   ]
  },
  {
   "cell_type": "code",
   "execution_count": 181,
   "metadata": {},
   "outputs": [],
   "source": [
    "df_final <- read.table(\"df_prognosis_features_ready.tsv\",sep = '\\t' , header = T)\n",
    "x <- data.matrix(df_final[,1:84])\n",
    "y <- data.matrix(df_final[,c(\"os\",\"os_status\")])\n",
    "predictors <- c(rep(list(predictorGLM),20),rep(list(predictorRF),105),predictorBoost,predictorRFX)\n",
    "str_predictors <-c(rep(\"CoxGLM\",20),rep(\"RFS\",105),\"CoxBoost\",\"RFX\")\n",
    "l_alpha <-seq(0.05,1,0.05)\n",
    "l_ntree <- seq(100,1500,100)\n",
    "#write.table(launch_prognosis(x,y,predictors,str_predictors,l_alpha,l_ntree),\"tests.tsv\",quote=F,sep='\\t')\n",
    "launch_prognosis(x=x,y=y,predictors=predictors,str_predictors=str_predictors,l_alpha=l_alpha,l_ntree=l_ntree,mc.cores=8,nodesize=c(5,10,15,20,30,40,50))"
   ]
  },
  {
   "cell_type": "code",
   "execution_count": 247,
   "metadata": {},
   "outputs": [
    {
     "data": {
      "text/plain": [
       "    CoxGLM_         CoxGLM_.1     \n",
       " Min.   :0.6851   Min.   :0.6841  \n",
       " 1st Qu.:0.6937   1st Qu.:0.6932  \n",
       " Median :0.7032   Median :0.7018  \n",
       " Mean   :0.7039   Mean   :0.7033  \n",
       " 3rd Qu.:0.7110   3rd Qu.:0.7109  \n",
       " Max.   :0.7301   Max.   :0.7306  "
      ]
     },
     "metadata": {},
     "output_type": "display_data"
    }
   ],
   "source": [
    "summary(read.table(\"eln_clin_demo.tsv\",sep=\"\\t\"))"
   ]
  },
  {
   "cell_type": "code",
   "execution_count": 248,
   "metadata": {},
   "outputs": [
    {
     "data": {
      "text/html": [
       "<ol class=list-inline>\n",
       "\t<li>500</li>\n",
       "\t<li>700</li>\n",
       "\t<li>900</li>\n",
       "\t<li>1100</li>\n",
       "\t<li>1300</li>\n",
       "\t<li>1500</li>\n",
       "</ol>\n"
      ],
      "text/latex": [
       "\\begin{enumerate*}\n",
       "\\item 500\n",
       "\\item 700\n",
       "\\item 900\n",
       "\\item 1100\n",
       "\\item 1300\n",
       "\\item 1500\n",
       "\\end{enumerate*}\n"
      ],
      "text/markdown": [
       "1. 500\n",
       "2. 700\n",
       "3. 900\n",
       "4. 1100\n",
       "5. 1300\n",
       "6. 1500\n",
       "\n",
       "\n"
      ],
      "text/plain": [
       "[1]  500  700  900 1100 1300 1500"
      ]
     },
     "metadata": {},
     "output_type": "display_data"
    }
   ],
   "source": [
    "seq(500,1500,200)"
   ]
  },
  {
   "cell_type": "code",
   "execution_count": null,
   "metadata": {},
   "outputs": [],
   "source": []
  }
 ],
 "metadata": {
  "kernelspec": {
   "display_name": "R",
   "language": "R",
   "name": "ir"
  },
  "language_info": {
   "codemirror_mode": "r",
   "file_extension": ".r",
   "mimetype": "text/x-r-source",
   "name": "R",
   "pygments_lexer": "r",
   "version": "3.5.2"
  }
 },
 "nbformat": 4,
 "nbformat_minor": 2
}

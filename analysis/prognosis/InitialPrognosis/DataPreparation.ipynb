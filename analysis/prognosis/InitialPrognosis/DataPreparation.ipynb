{
 "cells": [
  {
   "cell_type": "markdown",
   "metadata": {},
   "source": [
    "##### We will prepare the dataset for the prognosis part of the AML.\n",
    "##### To do so, we will need :\n",
    "##### -ELN data : We have followed Yoann's methodology and change the ELN classification coming from the Master dataset\n",
    "##### -Clinical data : it comes frome Master Dataset\n",
    "##### -Demographic data: it comes from Master dataset\n",
    "##### -Genetical data with ITD : ITD has been added based on rules we have established looking at the distribution plots of NGS and Clinical ITD and number of read counts. Rules are based on the provenance of ITD\n",
    "##### (wheter it comes from clinical or NGS or both and the standard deviation of the read counts taking into account the high variability of read counts and its impact on ITD).\n",
    "##### -Cytogenetical data: it has already been modified based on the rules established with Elli (look at frequency for additions and deletions and keep the ones greater than 2%)\n",
    "##### -Translocation data: it has been modified based on Elli's rules. We keep only translocation with a count number greater than or equal to 2 . We summarize other translocations\n",
    "##### that were not kept in a column called other translocs\n",
    "##### -Column complex to integrate to cytogenetical data: we have modified this column based on some mistakes for complex classification previously done. The rules adopted are the presence of 3 or more aneuploidies \n",
    "##### (additions or deletions combined and no presence of translocation(8,21) or (15,17)\n",
    "##### -Component data: it comes from the component that we have established thanks to the HDP method.\n"
   ]
  },
  {
   "cell_type": "code",
   "execution_count": 2,
   "metadata": {},
   "outputs": [],
   "source": [
    "library('hdp')\n",
    "library('clusterCrit')\n",
    "library('grid')\n",
    "library('gridExtra')\n",
    "library('ggplot2')\n",
    "library('ggrepel')\n",
    "library('RColorBrewer')\n",
    "library('dplyr')\n",
    "library('reshape2')\n",
    "library('IRdisplay')\n",
    "library('scales')\n",
    "library('survival')\n",
    "library('corrplot')\n",
    "library('Hmisc')\n",
    "source('../../../src/tools.R')     # custom tools function\n",
    "source('../../../src/hdp_tools_yanis.R')\n",
    "###       \n",
    "source(\"../../../src/merge_df.R\")\n",
    "source(\"../../../src/my_toolbox.R\")\n",
    "source(\"../../../src/my_components.R\")\n",
    "source(\"../../../src/my_utils.R\")\n",
    "source(\"../../../src/ggstyles.R\")\n",
    "source(\"../../../src/my_hotspots.R\")\n",
    "###\n",
    "\n",
    "\n",
    "theme_set(theme_minimal())\n",
    "\n",
    "# set jupyer notebook parameters\n",
    "options(repr.plot.res        = 100, # set a medium-definition resolution for the jupyter notebooks plots (DPI)\n",
    "        repr.matrix.max.rows = 200, # set the maximum number of rows displayed\n",
    "        repr.matrix.max.cols = 200) # set the maximum number of columns displayed"
   ]
  },
  {
   "cell_type": "markdown",
   "metadata": {},
   "source": [
    "##### In the dataframe already prepared,(df_all_components), there is already the genetical data WITH ITD , the translocations, the cytogenetical data and the components.\n",
    "##### We also have demographic and clinical data from the Master dataset.\n",
    "##### We need to add:\n",
    "##### -ELN coming from another dataset that I have set up for the new rule\n",
    "##### -complex: we will add a new column called complex_new\n"
   ]
  },
  {
   "cell_type": "code",
   "execution_count": 3,
   "metadata": {},
   "outputs": [],
   "source": [
    "df_all_components <- read.table(\"../../../data/updated_dataset/all_components.tsv\",sep = '\\t' , header = T)# \n",
    "df_initial <- read.table(\"../../../data/initial_dataset/Master_04_10_2019.csv\",sep = ',' , header = T)\n",
    "rownames(df_initial) <- df_initial$data_pd\n",
    "df_initial <- df_initial[,-1:-4]\n"
   ]
  },
  {
   "cell_type": "code",
   "execution_count": 4,
   "metadata": {},
   "outputs": [],
   "source": [
    "df_eln <- read.table(\"../../../data/updated_dataset/modif_final_eln.csv\",sep = ',' , header = T)\n",
    "rownames(df_eln) <- df_eln$data_pd\n",
    "df_eln <- df_eln[,-1:-2]\n",
    "names(df_eln)[names(df_eln) == \"eln_2017\"] <- \"new_eln\""
   ]
  },
  {
   "cell_type": "code",
   "execution_count": 5,
   "metadata": {},
   "outputs": [],
   "source": [
    "df_all <- merge(df_eln['new_eln'],df_all_components,by=0)\n",
    "rownames(df_all) <- df_all$Row.names\n",
    "df_all <- df_all[,-1]\n",
    "# now we have genetical with ITD ,  translocation , cytogenetical , components and eln\n",
    "# we reorder inv_3 to have the columns in a nice order: eln,genetical,cytogenetical,translocationm and component\n",
    "df_all <- df_all[,c(1,seq(3,ncol(df_all)-1),2,ncol(df_all))]"
   ]
  },
  {
   "cell_type": "markdown",
   "metadata": {},
   "source": [
    "##### Now we use df_initial for clinical ,  demographical and new rules for complex:\n",
    "##### Let's first do the new rules for complex"
   ]
  },
  {
   "cell_type": "code",
   "execution_count": 6,
   "metadata": {},
   "outputs": [],
   "source": [
    "for (i in 1:22){\n",
    "    df_initial[,paste(\"add_\",as.character(i),sep=\"\")] <- df_initial[,paste(\"add_\",\"p\",sep=as.character(i))]+df_initial[,paste(\"add_\",\"q\",sep=as.character(i))]+df_initial[,paste(\"plus\",as.character(i),sep=\"\")]\n",
    "    df_initial[,paste(\"add_\",as.character(i),sep=\"\")][df_initial[,paste(\"add_\",as.character(i),sep=\"\")]>=2] <-1\n",
    "} \n",
    "df_initial$add_x <- df_initial$add_xp + df_initial$add_xq + df_initial$plusx\n",
    "df_initial$add_y <- df_initial$plusy\n",
    "###\n",
    "# deletions\n",
    "###\n",
    "for (i in c(c(1,2,3),5:13,15:19)){\n",
    "    df_initial[,paste(\"del_\",as.character(i),sep=\"\")] <- df_initial[,paste(\"del_\",\"p\",sep=as.character(i))]+df_initial[,paste(\"del_\",\"q\",sep=as.character(i))]+df_initial[,paste(\"minus\",as.character(i),sep=\"\")]\n",
    "    df_initial[,paste(\"del_\",as.character(i),sep=\"\")][df_initial[,paste(\"del_\",as.character(i),sep=\"\")]>=2] <-1  \n",
    "}\n",
    "for (i in c(c(4,14,20,21,22),\"x\")){\n",
    "    df_initial[,paste(\"del_\",as.character(i),sep=\"\")]<- df_initial[,paste(\"del_\",\"q\",sep=as.character(i))]+df_initial[,paste(\"minus\",as.character(i),sep=\"\")]\n",
    "}     \n",
    "df_initial$del_y <- df_initial$minusy\n",
    "df_initial$sum <- rowSums(df_initial[,519:566],na.rm=T)\n",
    "df_initial$new_complex <- ifelse((df_initial$sum>=3) & (df_initial$t_8_21==0) & (df_initial$t_15_17==0), 1,0) "
   ]
  },
  {
   "cell_type": "markdown",
   "metadata": {},
   "source": [
    "##### Let's now add clinical and demographical to merge them all together:"
   ]
  },
  {
   "cell_type": "code",
   "execution_count": 7,
   "metadata": {},
   "outputs": [],
   "source": [
    "clinical <-c(\"ahd\",\"perf_status\",\"bm_blasts\",\"secondary\",\"wbc\",\"hb\",\"plt\")\n",
    "demographical <- c(\"gender\",\"age\")\n",
    "survival <- c(\"os\",\"os_status\",\"cr\")"
   ]
  },
  {
   "cell_type": "code",
   "execution_count": 8,
   "metadata": {},
   "outputs": [],
   "source": [
    "df_all <- merge(df_all,df_initial[,c(clinical,demographical,survival,\"new_complex\")],by=0)\n",
    "rownames(df_all) <- df_all$Row.names\n",
    "df_all <- df_all[,-1]"
   ]
  },
  {
   "cell_type": "code",
   "execution_count": 8,
   "metadata": {},
   "outputs": [
    {
     "data": {
      "text/html": [
       "<ol class=list-inline>\n",
       "\t<li>2094</li>\n",
       "\t<li>166</li>\n",
       "</ol>\n"
      ],
      "text/latex": [
       "\\begin{enumerate*}\n",
       "\\item 2094\n",
       "\\item 166\n",
       "\\end{enumerate*}\n"
      ],
      "text/markdown": [
       "1. 2094\n",
       "2. 166\n",
       "\n",
       "\n"
      ],
      "text/plain": [
       "[1] 2094  166"
      ]
     },
     "metadata": {},
     "output_type": "display_data"
    }
   ],
   "source": [
    "df_all$complex <- NULL\n",
    "dim(df_all)"
   ]
  },
  {
   "cell_type": "code",
   "execution_count": 20,
   "metadata": {},
   "outputs": [],
   "source": [
    "row.has.na <- apply(df_all, 1, function(x){any(is.na(x))})"
   ]
  },
  {
   "cell_type": "code",
   "execution_count": 25,
   "metadata": {},
   "outputs": [
    {
     "data": {
      "text/plain": [
       "\n",
       "   0    1 \n",
       " 732 1342 "
      ]
     },
     "metadata": {},
     "output_type": "display_data"
    }
   ],
   "source": [
    "table(df_all$os_status)"
   ]
  },
  {
   "cell_type": "code",
   "execution_count": 24,
   "metadata": {},
   "outputs": [
    {
     "data": {
      "text/html": [
       "<ol class=list-inline>\n",
       "\t<li>2094</li>\n",
       "\t<li>166</li>\n",
       "</ol>\n"
      ],
      "text/latex": [
       "\\begin{enumerate*}\n",
       "\\item 2094\n",
       "\\item 166\n",
       "\\end{enumerate*}\n"
      ],
      "text/markdown": [
       "1. 2094\n",
       "2. 166\n",
       "\n",
       "\n"
      ],
      "text/plain": [
       "[1] 2094  166"
      ]
     },
     "metadata": {},
     "output_type": "display_data"
    },
    {
     "data": {
      "text/html": [
       "<ol class=list-inline>\n",
       "\t<li>1933</li>\n",
       "\t<li>166</li>\n",
       "</ol>\n"
      ],
      "text/latex": [
       "\\begin{enumerate*}\n",
       "\\item 1933\n",
       "\\item 166\n",
       "\\end{enumerate*}\n"
      ],
      "text/markdown": [
       "1. 1933\n",
       "2. 166\n",
       "\n",
       "\n"
      ],
      "text/plain": [
       "[1] 1933  166"
      ]
     },
     "metadata": {},
     "output_type": "display_data"
    }
   ],
   "source": [
    "dim(df_all)\n",
    "dim(na.omit(df_all))"
   ]
  },
  {
   "cell_type": "code",
   "execution_count": 26,
   "metadata": {},
   "outputs": [
    {
     "data": {
      "text/html": [
       "No documentation for ‘predict.glmnet’ in specified packages and libraries:\n",
       "you could try ‘??predict.glmnet’"
      ],
      "text/latex": [
       "No documentation for ‘predict.glmnet’ in specified packages and libraries:\n",
       "you could try ‘??predict.glmnet’"
      ],
      "text/plain": [
       "No documentation for ‘predict.glmnet’ in specified packages and libraries:\n",
       "you could try ‘??predict.glmnet’"
      ]
     },
     "metadata": {},
     "output_type": "display_data"
    }
   ],
   "source": []
  },
  {
   "cell_type": "code",
   "execution_count": null,
   "metadata": {},
   "outputs": [],
   "source": [
    "# Prep without comp\n",
    "correlates <- c(\"ahd\",\"perf_status\",\"bm_blasts\",\"secondary\",\"wbc\",\"hb\",\"plt\",\"gender\",\"age\",\"os\",\"os_status\")\n",
    "\n",
    "df_all_components <- read.table(\"../../../data/updated_dataset/refined_components_updated.tsv\",sep = '\\t' , header = T)\n",
    "df_initial <- read.table(\"../../../data/initial_dataset/Master_04_10_2019.csv\",sep = ',' , header = T)\n",
    "df_initial <- read.table(\"../../../data/initial_dataset/Master_04_10_2019.csv\",sep = ',' , header = T)\n",
    "rownames(df_initial) <- df_initial$data_pd\n",
    "df_initial <- df_initial[,-1:-4]\n",
    "df_eln <- read.table(\"../../../data/updated_dataset/eln_ratio.tsv\",sep = '\\t' , header = T)\n",
    "rownames(df_eln) <- df_eln$X\n",
    "df_eln <- df_eln[-1]\n",
    "df <- merge(df_eln,df_all_components,by=0)\n",
    "rownames(df) <- df$Row.names\n",
    "df <- df[-1]\n",
    "df <- merge(df,df_initial[,correlates],by=0)\n",
    "rownames(df) <- df$Row.names\n",
    "df <- df[-1]\n",
    "df <- df[,c(1:151,157,156,166:176)]\n",
    "df <- na.omit(df)\n",
    "df <- df[df$os>0,]\n",
    "write.table(df,\"prognosis_without_comp.tsv\",sep='\\t')"
   ]
  }
 ],
 "metadata": {
  "kernelspec": {
   "display_name": "R",
   "language": "R",
   "name": "ir"
  },
  "language_info": {
   "codemirror_mode": "r",
   "file_extension": ".r",
   "mimetype": "text/x-r-source",
   "name": "R",
   "pygments_lexer": "r",
   "version": "3.5.2"
  }
 },
 "nbformat": 4,
 "nbformat_minor": 2
}

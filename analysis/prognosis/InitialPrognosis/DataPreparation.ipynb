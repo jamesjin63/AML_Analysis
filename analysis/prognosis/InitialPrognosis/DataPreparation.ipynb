{
 "cells": [
  {
   "cell_type": "markdown",
   "metadata": {},
   "source": [
    "##### We will prepare the dataset for the prognosis part of the AML.\n",
    "##### To do so, we will need :\n",
    "##### -ELN data : We have followed Yoann's methodology and change the ELN classification coming from the Master dataset\n",
    "##### -Clinical data : it comes frome Master Dataset\n",
    "##### -Demographic data: it comes from Master dataset\n",
    "##### -Genetical data with ITD : ITD has been added based on rules we have established looking at the distribution plots of NGS and Clinical ITD and number of read counts. Rules are based on the provenance of ITD\n",
    "##### (wheter it comes from clinical or NGS or both and the standard deviation of the read counts taking into account the high variability of read counts and its impact on ITD).\n",
    "##### -Cytogenetical data: it has already been modified based on the rules established with Elli (look at frequency for additions and deletions and keep the ones greater than 2%)\n",
    "##### -Translocation data: it has been modified based on Elli's rules. We keep only translocation with a count number greater than or equal to 2 . We summarize other translocations\n",
    "##### that were not kept in a column called other translocs\n",
    "##### -Column complex to integrate to cytogenetical data: we have modified this column based on some mistakes for complex classification previously done. The rules adopted are the presence of 3 or more aneuploidies \n",
    "##### (additions or deletions combined and no presence of translocation(8,21) or (15,17)\n",
    "##### -Component data: it comes from the component that we have established thanks to the HDP method.\n"
   ]
  },
  {
   "cell_type": "code",
   "execution_count": 2,
   "metadata": {},
   "outputs": [],
   "source": [
    "library('hdp')\n",
    "library('clusterCrit')\n",
    "library('grid')\n",
    "library('gridExtra')\n",
    "library('ggplot2')\n",
    "library('ggrepel')\n",
    "library('RColorBrewer')\n",
    "library('dplyr')\n",
    "library('reshape2')\n",
    "library('IRdisplay')\n",
    "library('scales')\n",
    "library('survival')\n",
    "library('corrplot')\n",
    "library('Hmisc')\n",
    "source('../../../src/tools.R')     # custom tools function\n",
    "source('../../../src/hdp_tools_yanis.R')\n",
    "###       \n",
    "source(\"../../../src/merge_df.R\")\n",
    "source(\"../../../src/my_toolbox.R\")\n",
    "source(\"../../../src/my_components.R\")\n",
    "source(\"../../../src/my_utils.R\")\n",
    "source(\"../../../src/ggstyles.R\")\n",
    "source(\"../../../src/my_hotspots.R\")\n",
    "###\n",
    "\n",
    "\n",
    "theme_set(theme_minimal())\n",
    "\n",
    "# set jupyer notebook parameters\n",
    "options(repr.plot.res        = 100, # set a medium-definition resolution for the jupyter notebooks plots (DPI)\n",
    "        repr.matrix.max.rows = 200, # set the maximum number of rows displayed\n",
    "        repr.matrix.max.cols = 200) # set the maximum number of columns displayed"
   ]
  },
  {
   "cell_type": "markdown",
   "metadata": {},
   "source": [
    "##### In the dataframe already prepared,(df_all_components), there is already the genetical data WITH ITD , the translocations, the cytogenetical data and the components.\n",
    "##### We also have demographic and clinical data from the Master dataset.\n",
    "##### We need to add:\n",
    "##### -ELN coming from another dataset that I have set up for the new rule\n",
    "##### -complex: we will add a new column called complex_new\n"
   ]
  },
  {
   "cell_type": "code",
   "execution_count": 3,
   "metadata": {},
   "outputs": [],
   "source": [
    "df_all_components <- read.table(\"../../../data/updated_dataset/all_components.tsv\",sep = '\\t' , header = T)# \n",
    "df_initial <- read.table(\"../../../data/initial_dataset/Master_04_10_2019.csv\",sep = ',' , header = T)\n",
    "rownames(df_initial) <- df_initial$data_pd\n",
    "df_initial <- df_initial[,-1:-4]\n"
   ]
  },
  {
   "cell_type": "code",
   "execution_count": 4,
   "metadata": {},
   "outputs": [],
   "source": [
    "df_eln <- read.table(\"../../../data/updated_dataset/modif_final_eln.csv\",sep = ',' , header = T)\n",
    "rownames(df_eln) <- df_eln$data_pd\n",
    "df_eln <- df_eln[,-1:-2]\n",
    "names(df_eln)[names(df_eln) == \"eln_2017\"] <- \"new_eln\""
   ]
  },
  {
   "cell_type": "code",
   "execution_count": 5,
   "metadata": {},
   "outputs": [],
   "source": [
    "df_all <- merge(df_eln['new_eln'],df_all_components,by=0)\n",
    "rownames(df_all) <- df_all$Row.names\n",
    "df_all <- df_all[,-1]\n",
    "# now we have genetical with ITD ,  translocation , cytogenetical , components and eln\n",
    "# we reorder inv_3 to have the columns in a nice order: eln,genetical,cytogenetical,translocationm and component\n",
    "df_all <- df_all[,c(1,seq(3,ncol(df_all)-1),2,ncol(df_all))]"
   ]
  },
  {
   "cell_type": "markdown",
   "metadata": {},
   "source": [
    "##### Now we use df_initial for clinical ,  demographical and new rules for complex:\n",
    "##### Let's first do the new rules for complex"
   ]
  },
  {
   "cell_type": "code",
   "execution_count": 6,
   "metadata": {},
   "outputs": [],
   "source": [
    "for (i in 1:22){\n",
    "    df_initial[,paste(\"add_\",as.character(i),sep=\"\")] <- df_initial[,paste(\"add_\",\"p\",sep=as.character(i))]+df_initial[,paste(\"add_\",\"q\",sep=as.character(i))]+df_initial[,paste(\"plus\",as.character(i),sep=\"\")]\n",
    "    df_initial[,paste(\"add_\",as.character(i),sep=\"\")][df_initial[,paste(\"add_\",as.character(i),sep=\"\")]>=2] <-1\n",
    "} \n",
    "df_initial$add_x <- df_initial$add_xp + df_initial$add_xq + df_initial$plusx\n",
    "df_initial$add_y <- df_initial$plusy\n",
    "###\n",
    "# deletions\n",
    "###\n",
    "for (i in c(c(1,2,3),5:13,15:19)){\n",
    "    df_initial[,paste(\"del_\",as.character(i),sep=\"\")] <- df_initial[,paste(\"del_\",\"p\",sep=as.character(i))]+df_initial[,paste(\"del_\",\"q\",sep=as.character(i))]+df_initial[,paste(\"minus\",as.character(i),sep=\"\")]\n",
    "    df_initial[,paste(\"del_\",as.character(i),sep=\"\")][df_initial[,paste(\"del_\",as.character(i),sep=\"\")]>=2] <-1  \n",
    "}\n",
    "for (i in c(c(4,14,20,21,22),\"x\")){\n",
    "    df_initial[,paste(\"del_\",as.character(i),sep=\"\")]<- df_initial[,paste(\"del_\",\"q\",sep=as.character(i))]+df_initial[,paste(\"minus\",as.character(i),sep=\"\")]\n",
    "}     \n",
    "df_initial$del_y <- df_initial$minusy\n",
    "df_initial$sum <- rowSums(df_initial[,519:566],na.rm=T)\n",
    "df_initial$new_complex <- ifelse((df_initial$sum>=3) & (df_initial$t_8_21==0) & (df_initial$t_15_17==0), 1,0) "
   ]
  },
  {
   "cell_type": "markdown",
   "metadata": {},
   "source": [
    "##### Let's now add clinical and demographical to merge them all together:"
   ]
  },
  {
   "cell_type": "code",
   "execution_count": 7,
   "metadata": {},
   "outputs": [],
   "source": [
    "clinical <-c(\"ahd\",\"perf_status\",\"bm_blasts\",\"secondary\",\"wbc\",\"hb\",\"plt\")\n",
    "demographical <- c(\"gender\",\"age\")\n",
    "survival <- c(\"os\",\"os_status\",\"cr\")"
   ]
  },
  {
   "cell_type": "code",
   "execution_count": 8,
   "metadata": {},
   "outputs": [],
   "source": [
    "df_all <- merge(df_all,df_initial[,c(clinical,demographical,survival,\"new_complex\")],by=0)\n",
    "rownames(df_all) <- df_all$Row.names\n",
    "df_all <- df_all[,-1]"
   ]
  },
  {
   "cell_type": "code",
   "execution_count": 8,
   "metadata": {},
   "outputs": [
    {
     "data": {
      "text/html": [
       "<ol class=list-inline>\n",
       "\t<li>2094</li>\n",
       "\t<li>166</li>\n",
       "</ol>\n"
      ],
      "text/latex": [
       "\\begin{enumerate*}\n",
       "\\item 2094\n",
       "\\item 166\n",
       "\\end{enumerate*}\n"
      ],
      "text/markdown": [
       "1. 2094\n",
       "2. 166\n",
       "\n",
       "\n"
      ],
      "text/plain": [
       "[1] 2094  166"
      ]
     },
     "metadata": {},
     "output_type": "display_data"
    }
   ],
   "source": [
    "df_all$complex <- NULL\n",
    "dim(df_all)"
   ]
  },
  {
   "cell_type": "code",
   "execution_count": 20,
   "metadata": {},
   "outputs": [],
   "source": [
    "row.has.na <- apply(df_all, 1, function(x){any(is.na(x))})"
   ]
  },
  {
   "cell_type": "code",
   "execution_count": 25,
   "metadata": {},
   "outputs": [
    {
     "data": {
      "text/plain": [
       "\n",
       "   0    1 \n",
       " 732 1342 "
      ]
     },
     "metadata": {},
     "output_type": "display_data"
    }
   ],
   "source": [
    "table(df_all$os_status)"
   ]
  },
  {
   "cell_type": "code",
   "execution_count": 24,
   "metadata": {},
   "outputs": [
    {
     "data": {
      "text/html": [
       "<ol class=list-inline>\n",
       "\t<li>2094</li>\n",
       "\t<li>166</li>\n",
       "</ol>\n"
      ],
      "text/latex": [
       "\\begin{enumerate*}\n",
       "\\item 2094\n",
       "\\item 166\n",
       "\\end{enumerate*}\n"
      ],
      "text/markdown": [
       "1. 2094\n",
       "2. 166\n",
       "\n",
       "\n"
      ],
      "text/plain": [
       "[1] 2094  166"
      ]
     },
     "metadata": {},
     "output_type": "display_data"
    },
    {
     "data": {
      "text/html": [
       "<ol class=list-inline>\n",
       "\t<li>1933</li>\n",
       "\t<li>166</li>\n",
       "</ol>\n"
      ],
      "text/latex": [
       "\\begin{enumerate*}\n",
       "\\item 1933\n",
       "\\item 166\n",
       "\\end{enumerate*}\n"
      ],
      "text/markdown": [
       "1. 1933\n",
       "2. 166\n",
       "\n",
       "\n"
      ],
      "text/plain": [
       "[1] 1933  166"
      ]
     },
     "metadata": {},
     "output_type": "display_data"
    }
   ],
   "source": [
    "dim(df_all)\n",
    "dim(na.omit(df_all))"
   ]
  },
  {
   "cell_type": "code",
   "execution_count": null,
   "metadata": {},
   "outputs": [],
   "source": [
    "# Prep without comp\n",
    "correlates <- c(\"ahd\",\"perf_status\",\"bm_blasts\",\"secondary\",\"wbc\",\"hb\",\"plt\",\"gender\",\"age\",\"os\",\"os_status\")\n",
    "\n",
    "df_all_components <- read.table(\"../../../data/updated_dataset/refined_components_updated.tsv\",sep = '\\t' , header = T)\n",
    "df_initial <- read.table(\"../../../data/initial_dataset/Master_04_10_2019.csv\",sep = ',' , header = T)\n",
    "rownames(df_initial) <- df_initial$data_pd\n",
    "df_initial <- df_initial[,-1:-4]\n",
    "df_eln <- read.table(\"../../../data/updated_dataset/eln_ratio.tsv\",sep = '\\t' , header = T)\n",
    "rownames(df_eln) <- df_eln$X\n",
    "df_eln <- df_eln[-1]\n",
    "df <- merge(df_eln,df_all_components,by=0)\n",
    "rownames(df) <- df$Row.names\n",
    "df <- df[-1]\n",
    "df <- merge(df,df_initial[,correlates],by=0)\n",
    "rownames(df) <- df$Row.names\n",
    "df <- df[-1]\n",
    "df <- df[,c(1:151,157,156,166:176)]\n",
    "df <- na.omit(df)\n",
    "df <- df[df$os>0,]\n",
    "df$eln_2017_ratio <- ifelse(df$eln_2017_ratio==\"adverse\",1,\n",
    "                     ifelse(df$eln_2017_ratio==\"intermediate\",2,3))\n",
    "write.table(df,\"prognosis_without_comp.tsv\",sep='\\t')"
   ]
  },
  {
   "cell_type": "code",
   "execution_count": 1,
   "metadata": {},
   "outputs": [
    {
     "data": {
      "text/html": [
       "<ol class=list-inline>\n",
       "\t<li>2094</li>\n",
       "\t<li>164</li>\n",
       "</ol>\n"
      ],
      "text/latex": [
       "\\begin{enumerate*}\n",
       "\\item 2094\n",
       "\\item 164\n",
       "\\end{enumerate*}\n"
      ],
      "text/markdown": [
       "1. 2094\n",
       "2. 164\n",
       "\n",
       "\n"
      ],
      "text/plain": [
       "[1] 2094  164"
      ]
     },
     "metadata": {},
     "output_type": "display_data"
    }
   ],
   "source": [
    "dim(read.table(\"../../../data/updated_dataset/refined_components_updated.tsv\",sep = '\\t' , header = T))"
   ]
  },
  {
   "cell_type": "code",
   "execution_count": 19,
   "metadata": {},
   "outputs": [],
   "source": [
    "# Prep with component Elli\n",
    "library(dummies)\n",
    "df_component_yanis <- read.table(\"../../../data/updated_dataset/refined_components_updated.tsv\",sep = '\\t' , header = T)\n",
    "df_component_elli <- read.table(\"../../../data/updated_dataset/elli_refined_components_updated.tsv\",sep = '\\t' , header = T)\n",
    "df <- read.table(\"prognosis_without_comp.tsv\",sep='\\t')\n",
    "df_yanis <- merge(df,df_component_yanis[,'final_component',drop=FALSE],by=0)\n",
    "df_elli <- merge(df,df_component_elli[,'final_component',drop=FALSE],by=0)\n",
    "rownames(df_yanis) <- df_yanis$Row.names\n",
    "rownames(df_elli) <- df_elli$Row.names\n",
    "df_yanis <- df_yanis[-1]\n",
    "df_elli <- df_elli[-1]\n",
    "df_yanis <- cbind(df_yanis, dummy('final_component',df_yanis, sep = \"_\"))\n",
    "df_elli <- cbind(df_elli, dummy('final_component',df_elli, sep = \"_\"))\n",
    "df_yanis <- df_yanis[,c(1:162,166:184,163,164,165)]\n",
    "df_elli <- df_elli[,c(1:162,166:184,163,164,165)]\n",
    "#write.table(df_yanis,\"prognosis_comp_yanis.tsv\",sep='\\t')\n",
    "#write.table(df_elli,\"prognosis_comp_elli.tsv\",sep='\\t')"
   ]
  },
  {
   "cell_type": "code",
   "execution_count": 31,
   "metadata": {},
   "outputs": [],
   "source": [
    "# Prep final component\n",
    "df_component_final <- read.table(\"../../../data/updated_dataset/final_refined_components_updated.tsv\",sep = '\\t' , header = T)\n",
    "df <- read.table(\"prognosis_without_comp.tsv\",sep='\\t')\n",
    "df_final <- merge(df[,colnames(df)!=\"U2AF1\"],df_component_final[c(\"U2AF1_p.S34\",\"U2AF1_p.Q157\",\"final_component\")],by=0)\n",
    "rownames(df_final) <- df_final$Row.names\n",
    "df_final <- df_final[-1]\n",
    "df_final <- cbind(df_final, dummy('final_component',df_final, sep = \"_\"))\n",
    "df_final <- df_final[,c(1:81,164,165,82:161,167:183,162,163,166)]\n",
    "write.table(df_final,\"prognosis_comp_final.tsv\",sep='\\t')"
   ]
  },
  {
   "cell_type": "code",
   "execution_count": 2,
   "metadata": {},
   "outputs": [
    {
     "data": {
      "text/html": [
       "<ol class=list-inline>\n",
       "\t<li>1931</li>\n",
       "\t<li>183</li>\n",
       "</ol>\n"
      ],
      "text/latex": [
       "\\begin{enumerate*}\n",
       "\\item 1931\n",
       "\\item 183\n",
       "\\end{enumerate*}\n"
      ],
      "text/markdown": [
       "1. 1931\n",
       "2. 183\n",
       "\n",
       "\n"
      ],
      "text/plain": [
       "[1] 1931  183"
      ]
     },
     "metadata": {},
     "output_type": "display_data"
    }
   ],
   "source": [
    "dim(read.table(\"prognosis_comp_final.tsv\"))"
   ]
  },
  {
   "cell_type": "code",
   "execution_count": 3,
   "metadata": {},
   "outputs": [
    {
     "data": {
      "text/html": [
       "<ol class=list-inline>\n",
       "\t<li>2094</li>\n",
       "\t<li>165</li>\n",
       "</ol>\n"
      ],
      "text/latex": [
       "\\begin{enumerate*}\n",
       "\\item 2094\n",
       "\\item 165\n",
       "\\end{enumerate*}\n"
      ],
      "text/markdown": [
       "1. 2094\n",
       "2. 165\n",
       "\n",
       "\n"
      ],
      "text/plain": [
       "[1] 2094  165"
      ]
     },
     "metadata": {},
     "output_type": "display_data"
    }
   ],
   "source": [
    "df_component_final <- read.table(\"../../../data/updated_dataset/final_refined_components_updated.tsv\",sep = '\\t' , header = T)\n",
    "dim(df_component_final)"
   ]
  },
  {
   "cell_type": "code",
   "execution_count": 9,
   "metadata": {},
   "outputs": [],
   "source": [
    "correlates <- c(\"ahd\",\"perf_status\",\"bm_blasts\",\"secondary\",\"wbc\",\"hb\",\"plt\",\"gender\",\"age\",\"os\",\"os_status\")\n",
    "df_all_components <- read.table(\"../../../data/updated_dataset/refined_components_updated.tsv\",sep = '\\t' , header = T)\n",
    "df_initial <- read.table(\"../../../data/initial_dataset/Master_04_10_2019.csv\",sep = ',' , header = T)\n",
    "rownames(df_initial) <- df_initial$data_pd\n",
    "df_initial <- df_initial[,-1:-4]\n",
    "df_eln <- read.table(\"../../../data/updated_dataset/eln_ratio.tsv\",sep = '\\t' , header = T)\n",
    "rownames(df_eln) <- df_eln$X\n",
    "df_eln <- df_eln[-1]\n",
    "df <- merge(df_eln,df_all_components,by=0)\n",
    "rownames(df) <- df$Row.names\n",
    "df <- df[-1]\n",
    "df <- merge(df,df_initial[,correlates],by=0)\n",
    "rownames(df) <- df$Row.names"
   ]
  },
  {
   "cell_type": "code",
   "execution_count": 12,
   "metadata": {},
   "outputs": [
    {
     "data": {
      "text/html": [
       "<table>\n",
       "<thead><tr><th></th><th scope=col>ahd</th><th scope=col>perf_status</th><th scope=col>bm_blasts</th><th scope=col>secondary</th><th scope=col>wbc</th><th scope=col>hb</th><th scope=col>plt</th><th scope=col>gender</th><th scope=col>age</th><th scope=col>os</th><th scope=col>os_status</th></tr></thead>\n",
       "<tbody>\n",
       "\t<tr><th scope=row>PD14868a</th><td>1         </td><td>1         </td><td>89.00000  </td><td>1         </td><td>175.0     </td><td> 9.899994 </td><td>199       </td><td>0         </td><td>79.71253  </td><td>0.19164956</td><td>1         </td></tr>\n",
       "\t<tr><th scope=row>PD14869c</th><td>1         </td><td>1         </td><td>90.00000  </td><td>1         </td><td>  3.1     </td><td> 8.699997 </td><td> 23       </td><td>1         </td><td>65.04312  </td><td>4.70636550</td><td>0         </td></tr>\n",
       "\t<tr><th scope=row>PD14871a</th><td>1         </td><td>0         </td><td>62.00000  </td><td>1         </td><td>127.0     </td><td> 7.599998 </td><td> 57       </td><td>1         </td><td>79.65777  </td><td>0.37782341</td><td>1         </td></tr>\n",
       "\t<tr><th scope=row>PD14872a</th><td>1         </td><td>2         </td><td>40.00000  </td><td>1         </td><td>  8.2     </td><td> 7.699997 </td><td>124       </td><td>0         </td><td>66.50513  </td><td>0.04928131</td><td>1         </td></tr>\n",
       "\t<tr><th scope=row>PD14873a</th><td>0         </td><td>1         </td><td>25.00000  </td><td>2         </td><td> 44.2     </td><td> 9.299995 </td><td> 40       </td><td>1         </td><td>71.78097  </td><td>0.55030801</td><td>1         </td></tr>\n",
       "\t<tr><th scope=row>PD14874a</th><td>1         </td><td>0         </td><td>56.00000  </td><td>1         </td><td> 69.0     </td><td> 9.099998 </td><td> 63       </td><td>1         </td><td>75.01437  </td><td>0.20807666</td><td>1         </td></tr>\n",
       "\t<tr><th scope=row>PD14875a</th><td>1         </td><td>2         </td><td>70.00000  </td><td>1         </td><td> 43.4     </td><td>10.299995 </td><td> 64       </td><td>0         </td><td>74.79535  </td><td>1.58795346</td><td>1         </td></tr>\n",
       "\t<tr><th scope=row>PD14876c</th><td>0         </td><td>1         </td><td>90.00000  </td><td>2         </td><td> 59.1     </td><td> 7.599998 </td><td>104       </td><td>1         </td><td>65.65914  </td><td>0.24366872</td><td>1         </td></tr>\n",
       "\t<tr><th scope=row>PD14877c</th><td>1         </td><td>1         </td><td>92.00000  </td><td>1         </td><td>144.0     </td><td> 6.299999 </td><td> 47       </td><td>0         </td><td>84.10404  </td><td>0.06570842</td><td>1         </td></tr>\n",
       "\t<tr><th scope=row>PD14879a</th><td>1         </td><td>0         </td><td>84.00000  </td><td>1         </td><td>  4.6     </td><td>10.599998 </td><td> 25       </td><td>1         </td><td>76.50103  </td><td>0.11225188</td><td>1         </td></tr>\n",
       "\t<tr><th scope=row>PD14880c</th><td>1         </td><td>0         </td><td>85.00000  </td><td>1         </td><td> 29.5     </td><td> 5.399998 </td><td> 13       </td><td>1         </td><td>73.88638  </td><td>5.16632444</td><td>0         </td></tr>\n",
       "\t<tr><th scope=row>PD14881a</th><td>1         </td><td>0         </td><td>70.00000  </td><td>1         </td><td> 14.3     </td><td>11.199997 </td><td> 10       </td><td>1         </td><td>78.13552  </td><td>1.13347023</td><td>1         </td></tr>\n",
       "\t<tr><th scope=row>PD14882c</th><td>1         </td><td>0         </td><td>90.00000  </td><td>1         </td><td> 13.1     </td><td> 7.500000 </td><td> 45       </td><td>1         </td><td>90.76523  </td><td>0.05475702</td><td>1         </td></tr>\n",
       "\t<tr><th scope=row>PD14883a</th><td>0         </td><td>2         </td><td>87.00000  </td><td>2         </td><td> 52.9     </td><td> 9.199997 </td><td> 12       </td><td>1         </td><td>77.71663  </td><td>0.02190281</td><td>1         </td></tr>\n",
       "\t<tr><th scope=row>PD14884a</th><td>1         </td><td>0         </td><td>      NA  </td><td>1         </td><td> 20.5     </td><td>10.199997 </td><td> 29       </td><td>0         </td><td>78.19849  </td><td>1.25393566</td><td>1         </td></tr>\n",
       "\t<tr><th scope=row>PD14885a</th><td>0         </td><td>3         </td><td>50.59998  </td><td>2         </td><td> 81.0     </td><td> 8.199997 </td><td>105       </td><td>1         </td><td>74.74059  </td><td>0.03011636</td><td>1         </td></tr>\n",
       "\t<tr><th scope=row>PD14888a</th><td>1         </td><td>0         </td><td>16.00000  </td><td>3         </td><td> 16.0     </td><td> 9.500000 </td><td>402       </td><td>1         </td><td>74.81999  </td><td>0.72826831</td><td>1         </td></tr>\n",
       "\t<tr><th scope=row>PD14892c</th><td>1         </td><td>0         </td><td>17.00000  </td><td>3         </td><td>  1.3     </td><td>10.500000 </td><td>104       </td><td>1         </td><td>71.21697  </td><td>4.20807666</td><td>0         </td></tr>\n",
       "\t<tr><th scope=row>PD14893c</th><td>1         </td><td>1         </td><td>85.00000  </td><td>1         </td><td>  1.9     </td><td> 8.599998 </td><td>103       </td><td>1         </td><td>85.47296  </td><td>1.19917864</td><td>1         </td></tr>\n",
       "\t<tr><th scope=row>PD14895a</th><td>1         </td><td>0         </td><td>10.00000  </td><td>1         </td><td> 32.0     </td><td>10.699997 </td><td> 63       </td><td>0         </td><td>71.44148  </td><td>0.81861739</td><td>1         </td></tr>\n",
       "\t<tr><th scope=row>PD14898c</th><td>1         </td><td>1         </td><td>65.00000  </td><td>1         </td><td>  3.5     </td><td> 8.699997 </td><td>182       </td><td>1         </td><td>78.83094  </td><td>0.08213552</td><td>1         </td></tr>\n",
       "\t<tr><th scope=row>PD14900a</th><td>0         </td><td>0         </td><td>40.00000  </td><td>2         </td><td>  7.2     </td><td>10.899994 </td><td>  5       </td><td>1         </td><td>75.57290  </td><td>0.24093087</td><td>1         </td></tr>\n",
       "\t<tr><th scope=row>PD14902a</th><td>1         </td><td>1         </td><td>44.19998  </td><td>1         </td><td> 53.0     </td><td>11.199997 </td><td>197       </td><td>0         </td><td>79.71253  </td><td>0.44900753</td><td>1         </td></tr>\n",
       "\t<tr><th scope=row>PD14903a</th><td>0         </td><td>2         </td><td>84.00000  </td><td>2         </td><td> 45.7     </td><td> 8.899994 </td><td> 30       </td><td>1         </td><td>84.31485  </td><td>0.11225188</td><td>1         </td></tr>\n",
       "\t<tr><th scope=row>PD14904c</th><td>1         </td><td>0         </td><td>43.00000  </td><td>1         </td><td> 27.0     </td><td> 8.199997 </td><td> 74       </td><td>0         </td><td>67.36756  </td><td>4.76933607</td><td>0         </td></tr>\n",
       "\t<tr><th scope=row>PD14905a</th><td>1         </td><td>1         </td><td>95.00000  </td><td>1         </td><td>  5.2     </td><td> 9.199997 </td><td> 96       </td><td>0         </td><td>77.01027  </td><td>0.31485284</td><td>1         </td></tr>\n",
       "\t<tr><th scope=row>PD14908a</th><td>1         </td><td>2         </td><td>      NA  </td><td>1         </td><td> 61.0     </td><td> 9.199997 </td><td> 72       </td><td>1         </td><td>77.91923  </td><td>0.06844627</td><td>1         </td></tr>\n",
       "\t<tr><th scope=row>PD14909c</th><td>1         </td><td>0         </td><td>53.00000  </td><td>1         </td><td> 58.0     </td><td>11.599998 </td><td>114       </td><td>1         </td><td>70.70226  </td><td>0.26283368</td><td>1         </td></tr>\n",
       "\t<tr><th scope=row>PD14910a</th><td>1         </td><td>0         </td><td>80.00000  </td><td>1         </td><td> 75.8     </td><td>11.299995 </td><td> 12       </td><td>1         </td><td>67.74264  </td><td>0.01916496</td><td>1         </td></tr>\n",
       "\t<tr><th scope=row>PD14911a</th><td>1         </td><td>0         </td><td>67.00000  </td><td>1         </td><td>  1.6     </td><td> 6.000000 </td><td> 23       </td><td>0         </td><td>73.31691  </td><td>0.70910335</td><td>1         </td></tr>\n",
       "\t<tr><th scope=row>⋮</th><td>⋮</td><td>⋮</td><td>⋮</td><td>⋮</td><td>⋮</td><td>⋮</td><td>⋮</td><td>⋮</td><td>⋮</td><td>⋮</td><td>⋮</td></tr>\n",
       "\t<tr><th scope=row>PD25595a</th><td>0         </td><td>1         </td><td>42.00000  </td><td>2         </td><td>  6.4     </td><td> 8.299995 </td><td> 85       </td><td>1         </td><td>78.89391  </td><td>0.11498973</td><td>1         </td></tr>\n",
       "\t<tr><th scope=row>PD25596a</th><td>1         </td><td>0         </td><td>87.69995  </td><td>1         </td><td>102.9     </td><td> 8.199997 </td><td> 15       </td><td>1         </td><td>72.56126  </td><td>0.12046543</td><td>1         </td></tr>\n",
       "\t<tr><th scope=row>PD25597a</th><td>0         </td><td>2         </td><td>61.00000  </td><td>2         </td><td>  5.3     </td><td> 6.799999 </td><td> 66       </td><td>1         </td><td>74.70226  </td><td>1.73579740</td><td>1         </td></tr>\n",
       "\t<tr><th scope=row>PD25598c</th><td>1         </td><td>1         </td><td>17.00000  </td><td>1         </td><td>  2.5     </td><td> 9.199997 </td><td> 57       </td><td>1         </td><td>83.10746  </td><td>0.06297057</td><td>1         </td></tr>\n",
       "\t<tr><th scope=row>PD25599a</th><td>1         </td><td>1         </td><td>18.59999  </td><td>1         </td><td>  1.1     </td><td> 9.199997 </td><td> 42       </td><td>1         </td><td>82.23135  </td><td>0.86242300</td><td>1         </td></tr>\n",
       "\t<tr><th scope=row>PD25601c</th><td>1         </td><td>2         </td><td>      NA  </td><td>1         </td><td>  1.1     </td><td>10.299995 </td><td>399       </td><td>1         </td><td>86.10267  </td><td>0.05475702</td><td>1         </td></tr>\n",
       "\t<tr><th scope=row>PD25602a</th><td>0         </td><td>1         </td><td>65.00000  </td><td>2         </td><td> 27.6     </td><td> 8.899994 </td><td> 33       </td><td>1         </td><td>69.09240  </td><td>0.15058179</td><td>1         </td></tr>\n",
       "\t<tr><th scope=row>PD25604c</th><td>1         </td><td>0         </td><td> 1.00000  </td><td>1         </td><td>  1.7     </td><td>11.899994 </td><td> 62       </td><td>1         </td><td>73.68652  </td><td>0.04654346</td><td>1         </td></tr>\n",
       "\t<tr><th scope=row>PD25606c</th><td>1         </td><td>0         </td><td>70.00000  </td><td>1         </td><td>  1.0     </td><td> 7.699997 </td><td> 22       </td><td>0         </td><td>80.08761  </td><td>0.13141684</td><td>1         </td></tr>\n",
       "\t<tr><th scope=row>PD25607c</th><td>1         </td><td>0         </td><td>44.00000  </td><td>1         </td><td>  8.9     </td><td>11.399994 </td><td> 25       </td><td>1         </td><td>79.80014  </td><td>0.11225188</td><td>1         </td></tr>\n",
       "\t<tr><th scope=row>PD25608a</th><td>1         </td><td>1         </td><td>      NA  </td><td>1         </td><td>199.6     </td><td>10.299995 </td><td> 73       </td><td>0         </td><td>80.90623  </td><td>0.03285421</td><td>1         </td></tr>\n",
       "\t<tr><th scope=row>PD25609c</th><td>1         </td><td>1         </td><td>80.00000  </td><td>1         </td><td> 13.1     </td><td>11.199997 </td><td>136       </td><td>0         </td><td>78.49692  </td><td>2.35181383</td><td>1         </td></tr>\n",
       "\t<tr><th scope=row>PD25610c</th><td>0         </td><td>0         </td><td>93.00000  </td><td>2         </td><td> 46.4     </td><td> 8.899994 </td><td> 51       </td><td>0         </td><td>76.63518  </td><td>3.02806297</td><td>0         </td></tr>\n",
       "\t<tr><th scope=row>PD25611a</th><td>1         </td><td>1         </td><td>22.00000  </td><td>1         </td><td> 15.6     </td><td> 8.199997 </td><td>198       </td><td>1         </td><td>85.37166  </td><td>0.81861739</td><td>1         </td></tr>\n",
       "\t<tr><th scope=row>PD25612c</th><td>0         </td><td>3         </td><td>90.00000  </td><td>2         </td><td> 21.8     </td><td> 7.799999 </td><td> 36       </td><td>0         </td><td>70.79808  </td><td>0.26009582</td><td>1         </td></tr>\n",
       "\t<tr><th scope=row>PD25613a</th><td>1         </td><td>1         </td><td>72.00000  </td><td>1         </td><td> 49.6     </td><td> 7.799999 </td><td> 35       </td><td>0         </td><td>72.20260  </td><td>0.04654346</td><td>1         </td></tr>\n",
       "\t<tr><th scope=row>PD25614c</th><td>1         </td><td>1         </td><td>91.00000  </td><td>1         </td><td> 59.6     </td><td> 9.000000 </td><td> 19       </td><td>0         </td><td>82.59274  </td><td>0.04106776</td><td>1         </td></tr>\n",
       "\t<tr><th scope=row>PD25615a</th><td>1         </td><td>1         </td><td>60.00000  </td><td>1         </td><td>  3.6     </td><td> 8.699997 </td><td> 86       </td><td>1         </td><td>75.23066  </td><td>0.63791923</td><td>1         </td></tr>\n",
       "\t<tr><th scope=row>PD25616a</th><td>1         </td><td>0         </td><td>37.39999  </td><td>2         </td><td>  1.9     </td><td> 9.199997 </td><td> 19       </td><td>1         </td><td>72.53388  </td><td>0.17248460</td><td>1         </td></tr>\n",
       "\t<tr><th scope=row>PD25617a</th><td>0         </td><td>1         </td><td>86.00000  </td><td>2         </td><td> 16.9     </td><td>15.299995 </td><td> 19       </td><td>1         </td><td>74.95414  </td><td>0.17796030</td><td>1         </td></tr>\n",
       "\t<tr><th scope=row>PD25618c</th><td>1         </td><td>1         </td><td>15.00000  </td><td>1         </td><td> 18.1     </td><td> 9.000000 </td><td> 32       </td><td>0         </td><td>84.37509  </td><td>0.10951403</td><td>1         </td></tr>\n",
       "\t<tr><th scope=row>PD25620c</th><td>1         </td><td>1         </td><td>50.00000  </td><td>1         </td><td>  2.4     </td><td> 9.500000 </td><td> 56       </td><td>1         </td><td>79.89596  </td><td>0.31759069</td><td>1         </td></tr>\n",
       "\t<tr><th scope=row>PD25621a</th><td>1         </td><td>0         </td><td>80.00000  </td><td>1         </td><td> 29.8     </td><td>10.000000 </td><td> 69       </td><td>1         </td><td>73.99042  </td><td>2.62833676</td><td>1         </td></tr>\n",
       "\t<tr><th scope=row>PD25622a</th><td>1         </td><td>2         </td><td>59.00000  </td><td>1         </td><td>  1.6     </td><td> 4.599998 </td><td> 28       </td><td>0         </td><td>73.89185  </td><td>0.05201916</td><td>1         </td></tr>\n",
       "\t<tr><th scope=row>PD25623a</th><td>1         </td><td>1         </td><td>90.00000  </td><td>1         </td><td>  2.4     </td><td>57.000000 </td><td> 54       </td><td>1         </td><td>73.99042  </td><td>0.46269678</td><td>1         </td></tr>\n",
       "\t<tr><th scope=row>PD25624c</th><td>0         </td><td>2         </td><td>50.00000  </td><td>2         </td><td>  1.5     </td><td> 6.599998 </td><td>167       </td><td>1         </td><td>76.47091  </td><td>1.16632444</td><td>1         </td></tr>\n",
       "\t<tr><th scope=row>PD25625a</th><td>1         </td><td>2         </td><td>      NA  </td><td>1         </td><td>  3.4     </td><td>10.099998 </td><td> 29       </td><td>1         </td><td>71.31554  </td><td>0.32032854</td><td>1         </td></tr>\n",
       "\t<tr><th scope=row>PD25626c</th><td>1         </td><td>0         </td><td>15.00000  </td><td>3         </td><td>  7.0     </td><td> 9.099998 </td><td> 78       </td><td>0         </td><td>80.79124  </td><td>1.44010951</td><td>1         </td></tr>\n",
       "\t<tr><th scope=row>PD25627a</th><td>1         </td><td>0         </td><td>59.00000  </td><td>1         </td><td>  1.4     </td><td> 7.299999 </td><td> 76       </td><td>0         </td><td>76.87885  </td><td>0.07392197</td><td>1         </td></tr>\n",
       "\t<tr><th scope=row>PD25629c</th><td>1         </td><td>1         </td><td>70.00000  </td><td>1         </td><td>  9.6     </td><td> 9.899994 </td><td>102       </td><td>0         </td><td>81.55236  </td><td>0.41341547</td><td>1         </td></tr>\n",
       "</tbody>\n",
       "</table>\n"
      ],
      "text/latex": [
       "\\begin{tabular}{r|lllllllllll}\n",
       "  & ahd & perf\\_status & bm\\_blasts & secondary & wbc & hb & plt & gender & age & os & os\\_status\\\\\n",
       "\\hline\n",
       "\tPD14868a & 1          & 1          & 89.00000   & 1          & 175.0      &  9.899994  & 199        & 0          & 79.71253   & 0.19164956 & 1         \\\\\n",
       "\tPD14869c & 1          & 1          & 90.00000   & 1          &   3.1      &  8.699997  &  23        & 1          & 65.04312   & 4.70636550 & 0         \\\\\n",
       "\tPD14871a & 1          & 0          & 62.00000   & 1          & 127.0      &  7.599998  &  57        & 1          & 79.65777   & 0.37782341 & 1         \\\\\n",
       "\tPD14872a & 1          & 2          & 40.00000   & 1          &   8.2      &  7.699997  & 124        & 0          & 66.50513   & 0.04928131 & 1         \\\\\n",
       "\tPD14873a & 0          & 1          & 25.00000   & 2          &  44.2      &  9.299995  &  40        & 1          & 71.78097   & 0.55030801 & 1         \\\\\n",
       "\tPD14874a & 1          & 0          & 56.00000   & 1          &  69.0      &  9.099998  &  63        & 1          & 75.01437   & 0.20807666 & 1         \\\\\n",
       "\tPD14875a & 1          & 2          & 70.00000   & 1          &  43.4      & 10.299995  &  64        & 0          & 74.79535   & 1.58795346 & 1         \\\\\n",
       "\tPD14876c & 0          & 1          & 90.00000   & 2          &  59.1      &  7.599998  & 104        & 1          & 65.65914   & 0.24366872 & 1         \\\\\n",
       "\tPD14877c & 1          & 1          & 92.00000   & 1          & 144.0      &  6.299999  &  47        & 0          & 84.10404   & 0.06570842 & 1         \\\\\n",
       "\tPD14879a & 1          & 0          & 84.00000   & 1          &   4.6      & 10.599998  &  25        & 1          & 76.50103   & 0.11225188 & 1         \\\\\n",
       "\tPD14880c & 1          & 0          & 85.00000   & 1          &  29.5      &  5.399998  &  13        & 1          & 73.88638   & 5.16632444 & 0         \\\\\n",
       "\tPD14881a & 1          & 0          & 70.00000   & 1          &  14.3      & 11.199997  &  10        & 1          & 78.13552   & 1.13347023 & 1         \\\\\n",
       "\tPD14882c & 1          & 0          & 90.00000   & 1          &  13.1      &  7.500000  &  45        & 1          & 90.76523   & 0.05475702 & 1         \\\\\n",
       "\tPD14883a & 0          & 2          & 87.00000   & 2          &  52.9      &  9.199997  &  12        & 1          & 77.71663   & 0.02190281 & 1         \\\\\n",
       "\tPD14884a & 1          & 0          &       NA   & 1          &  20.5      & 10.199997  &  29        & 0          & 78.19849   & 1.25393566 & 1         \\\\\n",
       "\tPD14885a & 0          & 3          & 50.59998   & 2          &  81.0      &  8.199997  & 105        & 1          & 74.74059   & 0.03011636 & 1         \\\\\n",
       "\tPD14888a & 1          & 0          & 16.00000   & 3          &  16.0      &  9.500000  & 402        & 1          & 74.81999   & 0.72826831 & 1         \\\\\n",
       "\tPD14892c & 1          & 0          & 17.00000   & 3          &   1.3      & 10.500000  & 104        & 1          & 71.21697   & 4.20807666 & 0         \\\\\n",
       "\tPD14893c & 1          & 1          & 85.00000   & 1          &   1.9      &  8.599998  & 103        & 1          & 85.47296   & 1.19917864 & 1         \\\\\n",
       "\tPD14895a & 1          & 0          & 10.00000   & 1          &  32.0      & 10.699997  &  63        & 0          & 71.44148   & 0.81861739 & 1         \\\\\n",
       "\tPD14898c & 1          & 1          & 65.00000   & 1          &   3.5      &  8.699997  & 182        & 1          & 78.83094   & 0.08213552 & 1         \\\\\n",
       "\tPD14900a & 0          & 0          & 40.00000   & 2          &   7.2      & 10.899994  &   5        & 1          & 75.57290   & 0.24093087 & 1         \\\\\n",
       "\tPD14902a & 1          & 1          & 44.19998   & 1          &  53.0      & 11.199997  & 197        & 0          & 79.71253   & 0.44900753 & 1         \\\\\n",
       "\tPD14903a & 0          & 2          & 84.00000   & 2          &  45.7      &  8.899994  &  30        & 1          & 84.31485   & 0.11225188 & 1         \\\\\n",
       "\tPD14904c & 1          & 0          & 43.00000   & 1          &  27.0      &  8.199997  &  74        & 0          & 67.36756   & 4.76933607 & 0         \\\\\n",
       "\tPD14905a & 1          & 1          & 95.00000   & 1          &   5.2      &  9.199997  &  96        & 0          & 77.01027   & 0.31485284 & 1         \\\\\n",
       "\tPD14908a & 1          & 2          &       NA   & 1          &  61.0      &  9.199997  &  72        & 1          & 77.91923   & 0.06844627 & 1         \\\\\n",
       "\tPD14909c & 1          & 0          & 53.00000   & 1          &  58.0      & 11.599998  & 114        & 1          & 70.70226   & 0.26283368 & 1         \\\\\n",
       "\tPD14910a & 1          & 0          & 80.00000   & 1          &  75.8      & 11.299995  &  12        & 1          & 67.74264   & 0.01916496 & 1         \\\\\n",
       "\tPD14911a & 1          & 0          & 67.00000   & 1          &   1.6      &  6.000000  &  23        & 0          & 73.31691   & 0.70910335 & 1         \\\\\n",
       "\t⋮ & ⋮ & ⋮ & ⋮ & ⋮ & ⋮ & ⋮ & ⋮ & ⋮ & ⋮ & ⋮ & ⋮\\\\\n",
       "\tPD25595a & 0          & 1          & 42.00000   & 2          &   6.4      &  8.299995  &  85        & 1          & 78.89391   & 0.11498973 & 1         \\\\\n",
       "\tPD25596a & 1          & 0          & 87.69995   & 1          & 102.9      &  8.199997  &  15        & 1          & 72.56126   & 0.12046543 & 1         \\\\\n",
       "\tPD25597a & 0          & 2          & 61.00000   & 2          &   5.3      &  6.799999  &  66        & 1          & 74.70226   & 1.73579740 & 1         \\\\\n",
       "\tPD25598c & 1          & 1          & 17.00000   & 1          &   2.5      &  9.199997  &  57        & 1          & 83.10746   & 0.06297057 & 1         \\\\\n",
       "\tPD25599a & 1          & 1          & 18.59999   & 1          &   1.1      &  9.199997  &  42        & 1          & 82.23135   & 0.86242300 & 1         \\\\\n",
       "\tPD25601c & 1          & 2          &       NA   & 1          &   1.1      & 10.299995  & 399        & 1          & 86.10267   & 0.05475702 & 1         \\\\\n",
       "\tPD25602a & 0          & 1          & 65.00000   & 2          &  27.6      &  8.899994  &  33        & 1          & 69.09240   & 0.15058179 & 1         \\\\\n",
       "\tPD25604c & 1          & 0          &  1.00000   & 1          &   1.7      & 11.899994  &  62        & 1          & 73.68652   & 0.04654346 & 1         \\\\\n",
       "\tPD25606c & 1          & 0          & 70.00000   & 1          &   1.0      &  7.699997  &  22        & 0          & 80.08761   & 0.13141684 & 1         \\\\\n",
       "\tPD25607c & 1          & 0          & 44.00000   & 1          &   8.9      & 11.399994  &  25        & 1          & 79.80014   & 0.11225188 & 1         \\\\\n",
       "\tPD25608a & 1          & 1          &       NA   & 1          & 199.6      & 10.299995  &  73        & 0          & 80.90623   & 0.03285421 & 1         \\\\\n",
       "\tPD25609c & 1          & 1          & 80.00000   & 1          &  13.1      & 11.199997  & 136        & 0          & 78.49692   & 2.35181383 & 1         \\\\\n",
       "\tPD25610c & 0          & 0          & 93.00000   & 2          &  46.4      &  8.899994  &  51        & 0          & 76.63518   & 3.02806297 & 0         \\\\\n",
       "\tPD25611a & 1          & 1          & 22.00000   & 1          &  15.6      &  8.199997  & 198        & 1          & 85.37166   & 0.81861739 & 1         \\\\\n",
       "\tPD25612c & 0          & 3          & 90.00000   & 2          &  21.8      &  7.799999  &  36        & 0          & 70.79808   & 0.26009582 & 1         \\\\\n",
       "\tPD25613a & 1          & 1          & 72.00000   & 1          &  49.6      &  7.799999  &  35        & 0          & 72.20260   & 0.04654346 & 1         \\\\\n",
       "\tPD25614c & 1          & 1          & 91.00000   & 1          &  59.6      &  9.000000  &  19        & 0          & 82.59274   & 0.04106776 & 1         \\\\\n",
       "\tPD25615a & 1          & 1          & 60.00000   & 1          &   3.6      &  8.699997  &  86        & 1          & 75.23066   & 0.63791923 & 1         \\\\\n",
       "\tPD25616a & 1          & 0          & 37.39999   & 2          &   1.9      &  9.199997  &  19        & 1          & 72.53388   & 0.17248460 & 1         \\\\\n",
       "\tPD25617a & 0          & 1          & 86.00000   & 2          &  16.9      & 15.299995  &  19        & 1          & 74.95414   & 0.17796030 & 1         \\\\\n",
       "\tPD25618c & 1          & 1          & 15.00000   & 1          &  18.1      &  9.000000  &  32        & 0          & 84.37509   & 0.10951403 & 1         \\\\\n",
       "\tPD25620c & 1          & 1          & 50.00000   & 1          &   2.4      &  9.500000  &  56        & 1          & 79.89596   & 0.31759069 & 1         \\\\\n",
       "\tPD25621a & 1          & 0          & 80.00000   & 1          &  29.8      & 10.000000  &  69        & 1          & 73.99042   & 2.62833676 & 1         \\\\\n",
       "\tPD25622a & 1          & 2          & 59.00000   & 1          &   1.6      &  4.599998  &  28        & 0          & 73.89185   & 0.05201916 & 1         \\\\\n",
       "\tPD25623a & 1          & 1          & 90.00000   & 1          &   2.4      & 57.000000  &  54        & 1          & 73.99042   & 0.46269678 & 1         \\\\\n",
       "\tPD25624c & 0          & 2          & 50.00000   & 2          &   1.5      &  6.599998  & 167        & 1          & 76.47091   & 1.16632444 & 1         \\\\\n",
       "\tPD25625a & 1          & 2          &       NA   & 1          &   3.4      & 10.099998  &  29        & 1          & 71.31554   & 0.32032854 & 1         \\\\\n",
       "\tPD25626c & 1          & 0          & 15.00000   & 3          &   7.0      &  9.099998  &  78        & 0          & 80.79124   & 1.44010951 & 1         \\\\\n",
       "\tPD25627a & 1          & 0          & 59.00000   & 1          &   1.4      &  7.299999  &  76        & 0          & 76.87885   & 0.07392197 & 1         \\\\\n",
       "\tPD25629c & 1          & 1          & 70.00000   & 1          &   9.6      &  9.899994  & 102        & 0          & 81.55236   & 0.41341547 & 1         \\\\\n",
       "\\end{tabular}\n"
      ],
      "text/markdown": [
       "\n",
       "| <!--/--> | ahd | perf_status | bm_blasts | secondary | wbc | hb | plt | gender | age | os | os_status |\n",
       "|---|---|---|---|---|---|---|---|---|---|---|---|\n",
       "| PD14868a | 1          | 1          | 89.00000   | 1          | 175.0      |  9.899994  | 199        | 0          | 79.71253   | 0.19164956 | 1          |\n",
       "| PD14869c | 1          | 1          | 90.00000   | 1          |   3.1      |  8.699997  |  23        | 1          | 65.04312   | 4.70636550 | 0          |\n",
       "| PD14871a | 1          | 0          | 62.00000   | 1          | 127.0      |  7.599998  |  57        | 1          | 79.65777   | 0.37782341 | 1          |\n",
       "| PD14872a | 1          | 2          | 40.00000   | 1          |   8.2      |  7.699997  | 124        | 0          | 66.50513   | 0.04928131 | 1          |\n",
       "| PD14873a | 0          | 1          | 25.00000   | 2          |  44.2      |  9.299995  |  40        | 1          | 71.78097   | 0.55030801 | 1          |\n",
       "| PD14874a | 1          | 0          | 56.00000   | 1          |  69.0      |  9.099998  |  63        | 1          | 75.01437   | 0.20807666 | 1          |\n",
       "| PD14875a | 1          | 2          | 70.00000   | 1          |  43.4      | 10.299995  |  64        | 0          | 74.79535   | 1.58795346 | 1          |\n",
       "| PD14876c | 0          | 1          | 90.00000   | 2          |  59.1      |  7.599998  | 104        | 1          | 65.65914   | 0.24366872 | 1          |\n",
       "| PD14877c | 1          | 1          | 92.00000   | 1          | 144.0      |  6.299999  |  47        | 0          | 84.10404   | 0.06570842 | 1          |\n",
       "| PD14879a | 1          | 0          | 84.00000   | 1          |   4.6      | 10.599998  |  25        | 1          | 76.50103   | 0.11225188 | 1          |\n",
       "| PD14880c | 1          | 0          | 85.00000   | 1          |  29.5      |  5.399998  |  13        | 1          | 73.88638   | 5.16632444 | 0          |\n",
       "| PD14881a | 1          | 0          | 70.00000   | 1          |  14.3      | 11.199997  |  10        | 1          | 78.13552   | 1.13347023 | 1          |\n",
       "| PD14882c | 1          | 0          | 90.00000   | 1          |  13.1      |  7.500000  |  45        | 1          | 90.76523   | 0.05475702 | 1          |\n",
       "| PD14883a | 0          | 2          | 87.00000   | 2          |  52.9      |  9.199997  |  12        | 1          | 77.71663   | 0.02190281 | 1          |\n",
       "| PD14884a | 1          | 0          |       NA   | 1          |  20.5      | 10.199997  |  29        | 0          | 78.19849   | 1.25393566 | 1          |\n",
       "| PD14885a | 0          | 3          | 50.59998   | 2          |  81.0      |  8.199997  | 105        | 1          | 74.74059   | 0.03011636 | 1          |\n",
       "| PD14888a | 1          | 0          | 16.00000   | 3          |  16.0      |  9.500000  | 402        | 1          | 74.81999   | 0.72826831 | 1          |\n",
       "| PD14892c | 1          | 0          | 17.00000   | 3          |   1.3      | 10.500000  | 104        | 1          | 71.21697   | 4.20807666 | 0          |\n",
       "| PD14893c | 1          | 1          | 85.00000   | 1          |   1.9      |  8.599998  | 103        | 1          | 85.47296   | 1.19917864 | 1          |\n",
       "| PD14895a | 1          | 0          | 10.00000   | 1          |  32.0      | 10.699997  |  63        | 0          | 71.44148   | 0.81861739 | 1          |\n",
       "| PD14898c | 1          | 1          | 65.00000   | 1          |   3.5      |  8.699997  | 182        | 1          | 78.83094   | 0.08213552 | 1          |\n",
       "| PD14900a | 0          | 0          | 40.00000   | 2          |   7.2      | 10.899994  |   5        | 1          | 75.57290   | 0.24093087 | 1          |\n",
       "| PD14902a | 1          | 1          | 44.19998   | 1          |  53.0      | 11.199997  | 197        | 0          | 79.71253   | 0.44900753 | 1          |\n",
       "| PD14903a | 0          | 2          | 84.00000   | 2          |  45.7      |  8.899994  |  30        | 1          | 84.31485   | 0.11225188 | 1          |\n",
       "| PD14904c | 1          | 0          | 43.00000   | 1          |  27.0      |  8.199997  |  74        | 0          | 67.36756   | 4.76933607 | 0          |\n",
       "| PD14905a | 1          | 1          | 95.00000   | 1          |   5.2      |  9.199997  |  96        | 0          | 77.01027   | 0.31485284 | 1          |\n",
       "| PD14908a | 1          | 2          |       NA   | 1          |  61.0      |  9.199997  |  72        | 1          | 77.91923   | 0.06844627 | 1          |\n",
       "| PD14909c | 1          | 0          | 53.00000   | 1          |  58.0      | 11.599998  | 114        | 1          | 70.70226   | 0.26283368 | 1          |\n",
       "| PD14910a | 1          | 0          | 80.00000   | 1          |  75.8      | 11.299995  |  12        | 1          | 67.74264   | 0.01916496 | 1          |\n",
       "| PD14911a | 1          | 0          | 67.00000   | 1          |   1.6      |  6.000000  |  23        | 0          | 73.31691   | 0.70910335 | 1          |\n",
       "| ⋮ | ⋮ | ⋮ | ⋮ | ⋮ | ⋮ | ⋮ | ⋮ | ⋮ | ⋮ | ⋮ | ⋮ |\n",
       "| PD25595a | 0          | 1          | 42.00000   | 2          |   6.4      |  8.299995  |  85        | 1          | 78.89391   | 0.11498973 | 1          |\n",
       "| PD25596a | 1          | 0          | 87.69995   | 1          | 102.9      |  8.199997  |  15        | 1          | 72.56126   | 0.12046543 | 1          |\n",
       "| PD25597a | 0          | 2          | 61.00000   | 2          |   5.3      |  6.799999  |  66        | 1          | 74.70226   | 1.73579740 | 1          |\n",
       "| PD25598c | 1          | 1          | 17.00000   | 1          |   2.5      |  9.199997  |  57        | 1          | 83.10746   | 0.06297057 | 1          |\n",
       "| PD25599a | 1          | 1          | 18.59999   | 1          |   1.1      |  9.199997  |  42        | 1          | 82.23135   | 0.86242300 | 1          |\n",
       "| PD25601c | 1          | 2          |       NA   | 1          |   1.1      | 10.299995  | 399        | 1          | 86.10267   | 0.05475702 | 1          |\n",
       "| PD25602a | 0          | 1          | 65.00000   | 2          |  27.6      |  8.899994  |  33        | 1          | 69.09240   | 0.15058179 | 1          |\n",
       "| PD25604c | 1          | 0          |  1.00000   | 1          |   1.7      | 11.899994  |  62        | 1          | 73.68652   | 0.04654346 | 1          |\n",
       "| PD25606c | 1          | 0          | 70.00000   | 1          |   1.0      |  7.699997  |  22        | 0          | 80.08761   | 0.13141684 | 1          |\n",
       "| PD25607c | 1          | 0          | 44.00000   | 1          |   8.9      | 11.399994  |  25        | 1          | 79.80014   | 0.11225188 | 1          |\n",
       "| PD25608a | 1          | 1          |       NA   | 1          | 199.6      | 10.299995  |  73        | 0          | 80.90623   | 0.03285421 | 1          |\n",
       "| PD25609c | 1          | 1          | 80.00000   | 1          |  13.1      | 11.199997  | 136        | 0          | 78.49692   | 2.35181383 | 1          |\n",
       "| PD25610c | 0          | 0          | 93.00000   | 2          |  46.4      |  8.899994  |  51        | 0          | 76.63518   | 3.02806297 | 0          |\n",
       "| PD25611a | 1          | 1          | 22.00000   | 1          |  15.6      |  8.199997  | 198        | 1          | 85.37166   | 0.81861739 | 1          |\n",
       "| PD25612c | 0          | 3          | 90.00000   | 2          |  21.8      |  7.799999  |  36        | 0          | 70.79808   | 0.26009582 | 1          |\n",
       "| PD25613a | 1          | 1          | 72.00000   | 1          |  49.6      |  7.799999  |  35        | 0          | 72.20260   | 0.04654346 | 1          |\n",
       "| PD25614c | 1          | 1          | 91.00000   | 1          |  59.6      |  9.000000  |  19        | 0          | 82.59274   | 0.04106776 | 1          |\n",
       "| PD25615a | 1          | 1          | 60.00000   | 1          |   3.6      |  8.699997  |  86        | 1          | 75.23066   | 0.63791923 | 1          |\n",
       "| PD25616a | 1          | 0          | 37.39999   | 2          |   1.9      |  9.199997  |  19        | 1          | 72.53388   | 0.17248460 | 1          |\n",
       "| PD25617a | 0          | 1          | 86.00000   | 2          |  16.9      | 15.299995  |  19        | 1          | 74.95414   | 0.17796030 | 1          |\n",
       "| PD25618c | 1          | 1          | 15.00000   | 1          |  18.1      |  9.000000  |  32        | 0          | 84.37509   | 0.10951403 | 1          |\n",
       "| PD25620c | 1          | 1          | 50.00000   | 1          |   2.4      |  9.500000  |  56        | 1          | 79.89596   | 0.31759069 | 1          |\n",
       "| PD25621a | 1          | 0          | 80.00000   | 1          |  29.8      | 10.000000  |  69        | 1          | 73.99042   | 2.62833676 | 1          |\n",
       "| PD25622a | 1          | 2          | 59.00000   | 1          |   1.6      |  4.599998  |  28        | 0          | 73.89185   | 0.05201916 | 1          |\n",
       "| PD25623a | 1          | 1          | 90.00000   | 1          |   2.4      | 57.000000  |  54        | 1          | 73.99042   | 0.46269678 | 1          |\n",
       "| PD25624c | 0          | 2          | 50.00000   | 2          |   1.5      |  6.599998  | 167        | 1          | 76.47091   | 1.16632444 | 1          |\n",
       "| PD25625a | 1          | 2          |       NA   | 1          |   3.4      | 10.099998  |  29        | 1          | 71.31554   | 0.32032854 | 1          |\n",
       "| PD25626c | 1          | 0          | 15.00000   | 3          |   7.0      |  9.099998  |  78        | 0          | 80.79124   | 1.44010951 | 1          |\n",
       "| PD25627a | 1          | 0          | 59.00000   | 1          |   1.4      |  7.299999  |  76        | 0          | 76.87885   | 0.07392197 | 1          |\n",
       "| PD25629c | 1          | 1          | 70.00000   | 1          |   9.6      |  9.899994  | 102        | 0          | 81.55236   | 0.41341547 | 1          |\n",
       "\n"
      ],
      "text/plain": [
       "         ahd perf_status bm_blasts secondary wbc   hb        plt gender\n",
       "PD14868a 1   1           89.00000  1         175.0  9.899994 199 0     \n",
       "PD14869c 1   1           90.00000  1           3.1  8.699997  23 1     \n",
       "PD14871a 1   0           62.00000  1         127.0  7.599998  57 1     \n",
       "PD14872a 1   2           40.00000  1           8.2  7.699997 124 0     \n",
       "PD14873a 0   1           25.00000  2          44.2  9.299995  40 1     \n",
       "PD14874a 1   0           56.00000  1          69.0  9.099998  63 1     \n",
       "PD14875a 1   2           70.00000  1          43.4 10.299995  64 0     \n",
       "PD14876c 0   1           90.00000  2          59.1  7.599998 104 1     \n",
       "PD14877c 1   1           92.00000  1         144.0  6.299999  47 0     \n",
       "PD14879a 1   0           84.00000  1           4.6 10.599998  25 1     \n",
       "PD14880c 1   0           85.00000  1          29.5  5.399998  13 1     \n",
       "PD14881a 1   0           70.00000  1          14.3 11.199997  10 1     \n",
       "PD14882c 1   0           90.00000  1          13.1  7.500000  45 1     \n",
       "PD14883a 0   2           87.00000  2          52.9  9.199997  12 1     \n",
       "PD14884a 1   0                 NA  1          20.5 10.199997  29 0     \n",
       "PD14885a 0   3           50.59998  2          81.0  8.199997 105 1     \n",
       "PD14888a 1   0           16.00000  3          16.0  9.500000 402 1     \n",
       "PD14892c 1   0           17.00000  3           1.3 10.500000 104 1     \n",
       "PD14893c 1   1           85.00000  1           1.9  8.599998 103 1     \n",
       "PD14895a 1   0           10.00000  1          32.0 10.699997  63 0     \n",
       "PD14898c 1   1           65.00000  1           3.5  8.699997 182 1     \n",
       "PD14900a 0   0           40.00000  2           7.2 10.899994   5 1     \n",
       "PD14902a 1   1           44.19998  1          53.0 11.199997 197 0     \n",
       "PD14903a 0   2           84.00000  2          45.7  8.899994  30 1     \n",
       "PD14904c 1   0           43.00000  1          27.0  8.199997  74 0     \n",
       "PD14905a 1   1           95.00000  1           5.2  9.199997  96 0     \n",
       "PD14908a 1   2                 NA  1          61.0  9.199997  72 1     \n",
       "PD14909c 1   0           53.00000  1          58.0 11.599998 114 1     \n",
       "PD14910a 1   0           80.00000  1          75.8 11.299995  12 1     \n",
       "PD14911a 1   0           67.00000  1           1.6  6.000000  23 0     \n",
       "⋮        ⋮   ⋮           ⋮         ⋮         ⋮     ⋮         ⋮   ⋮     \n",
       "PD25595a 0   1           42.00000  2           6.4  8.299995  85 1     \n",
       "PD25596a 1   0           87.69995  1         102.9  8.199997  15 1     \n",
       "PD25597a 0   2           61.00000  2           5.3  6.799999  66 1     \n",
       "PD25598c 1   1           17.00000  1           2.5  9.199997  57 1     \n",
       "PD25599a 1   1           18.59999  1           1.1  9.199997  42 1     \n",
       "PD25601c 1   2                 NA  1           1.1 10.299995 399 1     \n",
       "PD25602a 0   1           65.00000  2          27.6  8.899994  33 1     \n",
       "PD25604c 1   0            1.00000  1           1.7 11.899994  62 1     \n",
       "PD25606c 1   0           70.00000  1           1.0  7.699997  22 0     \n",
       "PD25607c 1   0           44.00000  1           8.9 11.399994  25 1     \n",
       "PD25608a 1   1                 NA  1         199.6 10.299995  73 0     \n",
       "PD25609c 1   1           80.00000  1          13.1 11.199997 136 0     \n",
       "PD25610c 0   0           93.00000  2          46.4  8.899994  51 0     \n",
       "PD25611a 1   1           22.00000  1          15.6  8.199997 198 1     \n",
       "PD25612c 0   3           90.00000  2          21.8  7.799999  36 0     \n",
       "PD25613a 1   1           72.00000  1          49.6  7.799999  35 0     \n",
       "PD25614c 1   1           91.00000  1          59.6  9.000000  19 0     \n",
       "PD25615a 1   1           60.00000  1           3.6  8.699997  86 1     \n",
       "PD25616a 1   0           37.39999  2           1.9  9.199997  19 1     \n",
       "PD25617a 0   1           86.00000  2          16.9 15.299995  19 1     \n",
       "PD25618c 1   1           15.00000  1          18.1  9.000000  32 0     \n",
       "PD25620c 1   1           50.00000  1           2.4  9.500000  56 1     \n",
       "PD25621a 1   0           80.00000  1          29.8 10.000000  69 1     \n",
       "PD25622a 1   2           59.00000  1           1.6  4.599998  28 0     \n",
       "PD25623a 1   1           90.00000  1           2.4 57.000000  54 1     \n",
       "PD25624c 0   2           50.00000  2           1.5  6.599998 167 1     \n",
       "PD25625a 1   2                 NA  1           3.4 10.099998  29 1     \n",
       "PD25626c 1   0           15.00000  3           7.0  9.099998  78 0     \n",
       "PD25627a 1   0           59.00000  1           1.4  7.299999  76 0     \n",
       "PD25629c 1   1           70.00000  1           9.6  9.899994 102 0     \n",
       "         age      os         os_status\n",
       "PD14868a 79.71253 0.19164956 1        \n",
       "PD14869c 65.04312 4.70636550 0        \n",
       "PD14871a 79.65777 0.37782341 1        \n",
       "PD14872a 66.50513 0.04928131 1        \n",
       "PD14873a 71.78097 0.55030801 1        \n",
       "PD14874a 75.01437 0.20807666 1        \n",
       "PD14875a 74.79535 1.58795346 1        \n",
       "PD14876c 65.65914 0.24366872 1        \n",
       "PD14877c 84.10404 0.06570842 1        \n",
       "PD14879a 76.50103 0.11225188 1        \n",
       "PD14880c 73.88638 5.16632444 0        \n",
       "PD14881a 78.13552 1.13347023 1        \n",
       "PD14882c 90.76523 0.05475702 1        \n",
       "PD14883a 77.71663 0.02190281 1        \n",
       "PD14884a 78.19849 1.25393566 1        \n",
       "PD14885a 74.74059 0.03011636 1        \n",
       "PD14888a 74.81999 0.72826831 1        \n",
       "PD14892c 71.21697 4.20807666 0        \n",
       "PD14893c 85.47296 1.19917864 1        \n",
       "PD14895a 71.44148 0.81861739 1        \n",
       "PD14898c 78.83094 0.08213552 1        \n",
       "PD14900a 75.57290 0.24093087 1        \n",
       "PD14902a 79.71253 0.44900753 1        \n",
       "PD14903a 84.31485 0.11225188 1        \n",
       "PD14904c 67.36756 4.76933607 0        \n",
       "PD14905a 77.01027 0.31485284 1        \n",
       "PD14908a 77.91923 0.06844627 1        \n",
       "PD14909c 70.70226 0.26283368 1        \n",
       "PD14910a 67.74264 0.01916496 1        \n",
       "PD14911a 73.31691 0.70910335 1        \n",
       "⋮        ⋮        ⋮          ⋮        \n",
       "PD25595a 78.89391 0.11498973 1        \n",
       "PD25596a 72.56126 0.12046543 1        \n",
       "PD25597a 74.70226 1.73579740 1        \n",
       "PD25598c 83.10746 0.06297057 1        \n",
       "PD25599a 82.23135 0.86242300 1        \n",
       "PD25601c 86.10267 0.05475702 1        \n",
       "PD25602a 69.09240 0.15058179 1        \n",
       "PD25604c 73.68652 0.04654346 1        \n",
       "PD25606c 80.08761 0.13141684 1        \n",
       "PD25607c 79.80014 0.11225188 1        \n",
       "PD25608a 80.90623 0.03285421 1        \n",
       "PD25609c 78.49692 2.35181383 1        \n",
       "PD25610c 76.63518 3.02806297 0        \n",
       "PD25611a 85.37166 0.81861739 1        \n",
       "PD25612c 70.79808 0.26009582 1        \n",
       "PD25613a 72.20260 0.04654346 1        \n",
       "PD25614c 82.59274 0.04106776 1        \n",
       "PD25615a 75.23066 0.63791923 1        \n",
       "PD25616a 72.53388 0.17248460 1        \n",
       "PD25617a 74.95414 0.17796030 1        \n",
       "PD25618c 84.37509 0.10951403 1        \n",
       "PD25620c 79.89596 0.31759069 1        \n",
       "PD25621a 73.99042 2.62833676 1        \n",
       "PD25622a 73.89185 0.05201916 1        \n",
       "PD25623a 73.99042 0.46269678 1        \n",
       "PD25624c 76.47091 1.16632444 1        \n",
       "PD25625a 71.31554 0.32032854 1        \n",
       "PD25626c 80.79124 1.44010951 1        \n",
       "PD25627a 76.87885 0.07392197 1        \n",
       "PD25629c 81.55236 0.41341547 1        "
      ]
     },
     "metadata": {},
     "output_type": "display_data"
    }
   ],
   "source": [
    " df[,names(df)[!!colSums(is.na(df))]]"
   ]
  },
  {
   "cell_type": "code",
   "execution_count": null,
   "metadata": {},
   "outputs": [],
   "source": []
  }
 ],
 "metadata": {
  "kernelspec": {
   "display_name": "R",
   "language": "R",
   "name": "ir"
  },
  "language_info": {
   "codemirror_mode": "r",
   "file_extension": ".r",
   "mimetype": "text/x-r-source",
   "name": "R",
   "pygments_lexer": "r",
   "version": "3.5.2"
  }
 },
 "nbformat": 4,
 "nbformat_minor": 2
}

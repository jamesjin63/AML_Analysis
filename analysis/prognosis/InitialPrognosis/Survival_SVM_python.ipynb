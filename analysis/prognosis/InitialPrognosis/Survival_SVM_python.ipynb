{
 "cells": [
  {
   "cell_type": "code",
   "execution_count": 67,
   "metadata": {},
   "outputs": [],
   "source": [
    "%matplotlib inline\n",
    "import numpy as np\n",
    "import matplotlib.pyplot as plt\n",
    "import pandas as pd\n",
    "import seaborn as sns\n",
    "from sklearn.model_selection import ShuffleSplit, GridSearchCV,train_test_split\n",
    "\n",
    "from sksurv.datasets import load_veterans_lung_cancer\n",
    "from sksurv.column import encode_categorical\n",
    "from sksurv.metrics import concordance_index_censored\n",
    "from sksurv.svm import FastSurvivalSVM,FastKernelSurvivalSVM\n",
    "from sksurv.kernels import clinical_kernel"
   ]
  },
  {
   "cell_type": "code",
   "execution_count": null,
   "metadata": {},
   "outputs": [],
   "source": [
    "all_features <- c(1:177)\n",
    "eln_clin<-c(1,169:175)\n",
    "eln_clin_demo<-c(1,169:177)\n",
    "eln_clin_demo_cyto <-c(1,85:153,169:177)\n",
    "eln_clin_demo_gen <-c(1:84,169:177)\n",
    "eln_clin_demo_cyto_gen <-c(1:153,169:177)\n",
    "eln_clin_demo_comp <-c(1,154:177)\n",
    "eln_cyto_gen<-c(1:153)\n",
    "eln_cyto_gen_comp <-c(1:168)\n",
    "eln_cyto_comp <-c(1,85:168)\n",
    "eln_gen_comp <-c(1:84,154:168)\n",
    "\n",
    "clin_demo<-c(169:177)\n",
    "clin_demo_cyto <-c(85:153,169:177)\n",
    "clin_demo_gen <-c(2:84,169:177)\n",
    "clin_demo_cyto_gen <-c(2:153,169:177)\n",
    "clin_demo_comp <-c(154:177)\n",
    "cyto_gen<-c(2:153)\n",
    "cyto_gen_comp <-c(2:168)\n",
    "cyto_comp <-c(85:168)\n",
    "gen_comp <-c(2:84,154:168)\n",
    "clin_demo_cyto_gen_comp<-c(2:177)\n",
    "gen<-c(2:84)\n",
    "cyto<-c(85:153)\n",
    "comp<-c(154:168)"
   ]
  },
  {
   "cell_type": "code",
   "execution_count": 3,
   "metadata": {},
   "outputs": [],
   "source": [
    "df_final = pd.read_table(\"df_prognosis_features_ready.tsv\")\n",
    "x = df_final.iloc[:,1:177]\n",
    "#x = df_final.iloc[:,1:84]\n",
    "y = np.array(list(zip(df_final.os_status, df_final.os)),dtype=[('Status', '?'), ('Survival_in_days', '<f8')])"
   ]
  },
  {
   "cell_type": "code",
   "execution_count": 49,
   "metadata": {},
   "outputs": [
    {
     "data": {
      "text/plain": [
       "['a', 'b']"
      ]
     },
     "execution_count": 49,
     "metadata": {},
     "output_type": "execute_result"
    }
   ],
   "source": [
    "{'alpha': 10. ** np.arange(-5.5, -4.5, 0.1)}\n",
    "[\"a\",\"b\"]"
   ]
  },
  {
   "cell_type": "code",
   "execution_count": 50,
   "metadata": {},
   "outputs": [],
   "source": [
    "#estimator = FastSurvivalSVM(optimizer=\"rbtree\", max_iter=1000, tol=1e-6, random_state=17)\n",
    "estimator = FastSurvivalSVM(max_iter=1000, tol=1e-6, random_state=17)"
   ]
  },
  {
   "cell_type": "code",
   "execution_count": 51,
   "metadata": {},
   "outputs": [],
   "source": [
    "def score_survival_model(model, X, y):\n",
    "    prediction = model.predict(X)\n",
    "    result = concordance_index_censored(y['Status'], y['Survival_in_days'], prediction)\n",
    "    return result[0]"
   ]
  },
  {
   "cell_type": "code",
   "execution_count": 82,
   "metadata": {},
   "outputs": [],
   "source": [
    "param_grid = {'alpha': 10. ** np.arange(-6, -4, 0.1),'optimizer':[\"rbtree\"]}\n",
    "#param_grid = {'alpha': 10. ** np.arange(-6, -3, 0.5),'optimizer':\n",
    "#param_grid = {'alpha': 10. ** np.arange(-10, -3, 0.2)}\n",
    "#cv = ShuffleSplit(n_splits=5, test_size=0.5, random_state=0)\n",
    "cv = ShuffleSplit(n_splits=5,random_state=17)\n",
    "gcv = GridSearchCV(estimator, param_grid, scoring=score_survival_model,\n",
    "                   n_jobs=4, iid=False, refit=True,\n",
    "                   cv=cv)"
   ]
  },
  {
   "cell_type": "code",
   "execution_count": null,
   "metadata": {},
   "outputs": [],
   "source": [
    "ci=[]\n",
    "for i in range(25):\n",
    "    X_train, X_test, y_train, y_test = train_test_split(x, y, test_size=0.2, random_state=i)\n",
    "    gcv = gcv.fit(X_train,y_train)\n",
    "    ci.append(concordance_index_censored(y_test['Status'], y_test['Survival_in_days'], gcv.predict(X_test))[0])\n",
    "#gcv = gcv.fit(clinical_kernel(x),y)\n"
   ]
  },
  {
   "cell_type": "code",
   "execution_count": 77,
   "metadata": {},
   "outputs": [
    {
     "data": {
      "text/plain": [
       "(0.7146985630569158, 44515, 17770, 0, 39)"
      ]
     },
     "execution_count": 77,
     "metadata": {},
     "output_type": "execute_result"
    }
   ],
   "source": [
    "concordance_index_censored(y_test['Status'], y_test['Survival_in_days'], gcv.predict(X_test))"
   ]
  },
  {
   "cell_type": "code",
   "execution_count": 55,
   "metadata": {},
   "outputs": [
    {
     "data": {
      "text/plain": [
       "0.7205554260770012"
      ]
     },
     "execution_count": 55,
     "metadata": {},
     "output_type": "execute_result"
    }
   ],
   "source": [
    "gcv.best_score_"
   ]
  },
  {
   "cell_type": "code",
   "execution_count": 56,
   "metadata": {},
   "outputs": [
    {
     "data": {
      "text/plain": [
       "{'alpha': 1e-05, 'optimizer': 'rbtree'}"
      ]
     },
     "execution_count": 56,
     "metadata": {},
     "output_type": "execute_result"
    }
   ],
   "source": [
    "gcv.best_params_"
   ]
  },
  {
   "cell_type": "code",
   "execution_count": 46,
   "metadata": {},
   "outputs": [
    {
     "name": "stdout",
     "output_type": "stream",
     "text": [
      "{'mean_fit_time': array([1.9771034 , 3.02099858]), 'std_fit_time': array([0.11847194, 0.21321437]), 'mean_score_time': array([0.00434766, 0.00449839]), 'std_score_time': array([0.00037126, 0.00047645]), 'param_alpha': masked_array(data=[3.162277660168379e-06, 1e-05],\n",
      "             mask=[False, False],\n",
      "       fill_value='?',\n",
      "            dtype=object), 'params': [{'alpha': 3.162277660168379e-06}, {'alpha': 1e-05}], 'split0_test_score': array([0.75801641, 0.75795426]), 'split1_test_score': array([0.73586812, 0.74275248]), 'split2_test_score': array([0.69129321, 0.69276569]), 'split3_test_score': array([0.72580131, 0.72134073]), 'split4_test_score': array([0.73887891, 0.74346699]), 'split5_test_score': array([0.70319326, 0.69919399]), 'split6_test_score': array([0.73891689, 0.73626729]), 'split7_test_score': array([0.73944451, 0.74206003]), 'split8_test_score': array([0.7257573, 0.7257573]), 'split9_test_score': array([0.72973698, 0.73268921]), 'split10_test_score': array([0.70290357, 0.70372237]), 'split11_test_score': array([0.73771119, 0.74070768]), 'split12_test_score': array([0.71028097, 0.71636963]), 'split13_test_score': array([0.69550965, 0.69427264]), 'split14_test_score': array([0.74053838, 0.73907249]), 'split15_test_score': array([0.71191273, 0.71662328]), 'split16_test_score': array([0.69681657, 0.69005811]), 'split17_test_score': array([0.72573648, 0.72204597]), 'split18_test_score': array([0.71236804, 0.71517008]), 'split19_test_score': array([0.72078141, 0.73095318]), 'split20_test_score': array([0.709665  , 0.71319471]), 'split21_test_score': array([0.7257714 , 0.71869374]), 'split22_test_score': array([0.69564407, 0.69458771]), 'split23_test_score': array([0.6953271 , 0.69586115]), 'split24_test_score': array([0.72406264, 0.72830495]), 'mean_test_score': array([0.71967745, 0.72055543]), 'std_test_score': array([0.0176977 , 0.01871522]), 'rank_test_score': array([2, 1], dtype=int32), 'split0_train_score': array([0.71887516, 0.72672144]), 'split1_train_score': array([0.72126315, 0.72835153]), 'split2_train_score': array([0.72604853, 0.73366801]), 'split3_train_score': array([0.72259126, 0.7304697 ]), 'split4_train_score': array([0.72070285, 0.72785098]), 'split5_train_score': array([0.72449909, 0.73265075]), 'split6_train_score': array([0.72170344, 0.72965261]), 'split7_train_score': array([0.72110467, 0.72880388]), 'split8_train_score': array([0.72262143, 0.73027725]), 'split9_train_score': array([0.72169174, 0.729346  ]), 'split10_train_score': array([0.72507335, 0.73291683]), 'split11_train_score': array([0.72072987, 0.72794166]), 'split12_train_score': array([0.72381116, 0.73095567]), 'split13_train_score': array([0.72639461, 0.7342781 ]), 'split14_train_score': array([0.72097029, 0.7287035 ]), 'split15_train_score': array([0.72340678, 0.73064396]), 'split16_train_score': array([0.72575454, 0.73385226]), 'split17_train_score': array([0.72300896, 0.73075248]), 'split18_train_score': array([0.72281065, 0.73042436]), 'split19_train_score': array([0.72275942, 0.72984471]), 'split20_train_score': array([0.72357006, 0.73103321]), 'split21_train_score': array([0.72273918, 0.73124885]), 'split22_train_score': array([0.72607671, 0.73417819]), 'split23_train_score': array([0.72510691, 0.73245715]), 'split24_train_score': array([0.72162178, 0.72845331]), 'mean_train_score': array([0.72299742, 0.73061905]), 'std_train_score': array([0.00193847, 0.00209229])}\n"
     ]
    }
   ],
   "source": [
    "print(gcv.cv_results_)"
   ]
  },
  {
   "cell_type": "code",
   "execution_count": 38,
   "metadata": {},
   "outputs": [
    {
     "name": "stdout",
     "output_type": "stream",
     "text": [
      "{'mean_fit_time': array([1.95929852, 2.15535703, 2.45642877, 2.82545433, 2.9712359 ,\n",
      "       3.43145871, 3.6201467 , 3.76200402, 4.17489281, 4.35264575]), 'std_fit_time': array([0.09316165, 0.08327517, 0.18496588, 0.17330992, 0.12335856,\n",
      "       0.09683836, 0.27536213, 0.14368053, 0.26379503, 0.39251015]), 'mean_score_time': array([0.00440171, 0.00466011, 0.0047617 , 0.00469139, 0.0047878 ,\n",
      "       0.00503514, 0.00512285, 0.00497859, 0.00506957, 0.00484123]), 'std_score_time': array([0.00048422, 0.00047025, 0.00037283, 0.00040476, 0.00040411,\n",
      "       0.00028405, 0.00022961, 0.00026873, 0.00037943, 0.00080902]), 'param_alpha': masked_array(data=[3.162277660168379e-06, 3.981071705534969e-06,\n",
      "                   5.011872336272715e-06, 6.309573444801917e-06,\n",
      "                   7.94328234724279e-06, 9.999999999999958e-06,\n",
      "                   1.258925411794161e-05, 1.5848931924611043e-05,\n",
      "                   1.9952623149688664e-05, 2.5118864315095615e-05],\n",
      "             mask=[False, False, False, False, False, False, False, False,\n",
      "                   False, False],\n",
      "       fill_value='?',\n",
      "            dtype=object), 'params': [{'alpha': 3.162277660168379e-06}, {'alpha': 3.981071705534969e-06}, {'alpha': 5.011872336272715e-06}, {'alpha': 6.309573444801917e-06}, {'alpha': 7.94328234724279e-06}, {'alpha': 9.999999999999958e-06}, {'alpha': 1.258925411794161e-05}, {'alpha': 1.5848931924611043e-05}, {'alpha': 1.9952623149688664e-05}, {'alpha': 2.5118864315095615e-05}], 'split0_test_score': array([0.75801641, 0.7584514 , 0.75869998, 0.75820283, 0.75739498,\n",
      "       0.75795426, 0.75907283, 0.75863783, 0.75851355, 0.75882426]), 'split1_test_score': array([0.73586812, 0.7374471 , 0.73782606, 0.7391524 , 0.7408577 ,\n",
      "       0.74275248, 0.7428788 , 0.74300512, 0.74351039, 0.74319459]), 'split2_test_score': array([0.69129321, 0.69238156, 0.69411012, 0.69391805, 0.69346991,\n",
      "       0.69276569, 0.69276569, 0.69231754, 0.69212548, 0.69174136]), 'split3_test_score': array([0.72580131, 0.72733066, 0.72643854, 0.7249092 , 0.72299751,\n",
      "       0.72134073, 0.72038488, 0.71968394, 0.71923788, 0.71942904]), 'split4_test_score': array([0.73887891, 0.73961035, 0.73980983, 0.7401423 , 0.74200412,\n",
      "       0.74346699, 0.74386595, 0.74499634, 0.74592726, 0.74659219]), 'split5_test_score': array([0.70319326, 0.70171661, 0.70134744, 0.70116286, 0.70005537,\n",
      "       0.69919399, 0.69937858, 0.69777887, 0.69728665, 0.69734818]), 'split6_test_score': array([0.73891689, 0.73924002, 0.7373659 , 0.73652579, 0.73659041,\n",
      "       0.73626729, 0.73568567, 0.73458705, 0.73400543, 0.73284219]), 'split7_test_score': array([0.73944451, 0.73963134, 0.73969361, 0.7409391 , 0.74131274,\n",
      "       0.74206003, 0.74206003, 0.74162411, 0.74131274, 0.7404409 ]), 'split8_test_score': array([0.7257573 , 0.72474159, 0.72551831, 0.72533907, 0.72593655,\n",
      "       0.7257573 , 0.72569756, 0.7245026 , 0.72330764, 0.72444285]), 'split9_test_score': array([0.72973698, 0.73047504, 0.73141439, 0.73060923, 0.73268921,\n",
      "       0.73268921, 0.73376275, 0.7329576 , 0.73242083, 0.73208535]), 'mean_test_score': array([0.72869069, 0.72910257, 0.72922242, 0.72909008, 0.72933085,\n",
      "       0.7294248 , 0.72955527, 0.7290091 , 0.72876478, 0.72869409]), 'std_test_score': array([0.01817215, 0.01837794, 0.01807531, 0.01821401, 0.01866364,\n",
      "       0.01934544, 0.01956613, 0.01990992, 0.0201224 , 0.02014228]), 'rank_test_score': array([10,  5,  4,  6,  3,  2,  1,  7,  8,  9], dtype=int32), 'split0_train_score': array([0.71887516, 0.72055857, 0.72206107, 0.72376896, 0.72533151,\n",
      "       0.72672144, 0.72832625, 0.72969604, 0.73110138, 0.73232266]), 'split1_train_score': array([0.72126315, 0.7227461 , 0.72414707, 0.72548732, 0.72687803,\n",
      "       0.72835153, 0.72967444, 0.73092797, 0.73213578, 0.7332269 ]), 'split2_train_score': array([0.72604853, 0.72757337, 0.72912419, 0.73065611, 0.73220693,\n",
      "       0.73366801, 0.73510153, 0.73640673, 0.73778672, 0.73919112]), 'split3_train_score': array([0.72259126, 0.7242917 , 0.72583699, 0.7273618 , 0.72892362,\n",
      "       0.7304697 , 0.73192441, 0.73335234, 0.73475665, 0.73598925]), 'split4_train_score': array([0.72070285, 0.72220619, 0.72357308, 0.72509446, 0.72647703,\n",
      "       0.72785098, 0.72938099, 0.73081924, 0.73218613, 0.73339618]), 'split5_train_score': array([0.72449909, 0.7261473 , 0.72784296, 0.72945478, 0.73113146,\n",
      "       0.73265075, 0.73406959, 0.73549477, 0.73679657, 0.73806357]), 'split6_train_score': array([0.72170344, 0.72335824, 0.72507832, 0.72666548, 0.72820387,\n",
      "       0.72965261, 0.73114303, 0.73246907, 0.73374006, 0.73506296]), 'split7_train_score': array([0.72110467, 0.72254344, 0.7241046 , 0.72565076, 0.72721271,\n",
      "       0.72880388, 0.73023475, 0.73171932, 0.73311465, 0.73437337]), 'split8_train_score': array([0.72262143, 0.72443891, 0.72585939, 0.72729893, 0.72874244,\n",
      "       0.73027725, 0.73161039, 0.73292447, 0.73431796, 0.7355844 ]), 'split9_train_score': array([0.72169174, 0.723311  , 0.72478527, 0.72646096, 0.72791876,\n",
      "       0.729346  , 0.73075208, 0.73216207, 0.73343099, 0.73471558]), 'mean_train_score': array([0.72211013, 0.72371748, 0.72524129, 0.72678996, 0.72830264,\n",
      "       0.72977921, 0.73122175, 0.7325972 , 0.73393669, 0.7351926 ]), 'std_train_score': array([0.0019033 , 0.00191053, 0.00195456, 0.00194304, 0.00198393,\n",
      "       0.00200884, 0.00197927, 0.00197298, 0.00197829, 0.0020313 ])}\n"
     ]
    }
   ],
   "source": [
    "#help(gcv)\n",
    "print(gcv.cv_results_)"
   ]
  },
  {
   "cell_type": "code",
   "execution_count": 42,
   "metadata": {},
   "outputs": [
    {
     "data": {
      "text/plain": [
       "{'alpha': array([3.16227766e-06, 1.00000000e-05])}"
      ]
     },
     "execution_count": 42,
     "metadata": {},
     "output_type": "execute_result"
    }
   ],
   "source": [
    "gcv.p"
   ]
  },
  {
   "cell_type": "code",
   "execution_count": null,
   "metadata": {},
   "outputs": [],
   "source": []
  }
 ],
 "metadata": {
  "kernelspec": {
   "display_name": "Python 3",
   "language": "python",
   "name": "python3"
  },
  "language_info": {
   "codemirror_mode": {
    "name": "ipython",
    "version": 3
   },
   "file_extension": ".py",
   "mimetype": "text/x-python",
   "name": "python",
   "nbconvert_exporter": "python",
   "pygments_lexer": "ipython3",
   "version": "3.7.1"
  }
 },
 "nbformat": 4,
 "nbformat_minor": 2
}

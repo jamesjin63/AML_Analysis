{
 "cells": [
  {
   "cell_type": "code",
   "execution_count": 216,
   "metadata": {},
   "outputs": [],
   "source": [
    "%matplotlib inline\n",
    "import numpy as np\n",
    "import matplotlib.pyplot as plt\n",
    "import pandas as pd\n",
    "import seaborn as sns\n",
    "from sklearn.model_selection import ShuffleSplit, GridSearchCV,train_test_split\n",
    "\n",
    "from sksurv.datasets import load_veterans_lung_cancer\n",
    "from sksurv.column import encode_categorical\n",
    "from sksurv.metrics import concordance_index_censored\n",
    "from sksurv.svm import FastSurvivalSVM,FastKernelSurvivalSVM\n",
    "from sksurv.kernels import clinical_kernel"
   ]
  },
  {
   "cell_type": "markdown",
   "metadata": {},
   "source": [
    "In this notebook, we create the different features that we want to put in our evaluation model with a dictionary. After that,\n",
    "we use a gridsearch on SVM survival to find a good set of parameters and we train our model 25 times with the best parameters find using the training and validation set. Finally, we evaluate 25 times our \n",
    "model on a separate testing set."
   ]
  },
  {
   "cell_type": "code",
   "execution_count": 217,
   "metadata": {},
   "outputs": [],
   "source": [
    "def score_survival_model(model, X, y):\n",
    "    prediction = model.predict(X)\n",
    "    result = concordance_index_censored(y['Status'], y['Survival_in_days'], prediction)\n",
    "    return result[0]"
   ]
  },
  {
   "cell_type": "code",
   "execution_count": 218,
   "metadata": {},
   "outputs": [],
   "source": [
    "all_features = list(range(177))\n",
    "eln_clin = [0]+list(range(168,175))\n",
    "eln_clin_demo = [0]+list(range(168,177))\n",
    "eln_clin_demo_cyto = [0]+list(range(84,153))+list(range(168,177))\n",
    "eln_clin_demo_gen = list(range(84))+list(range(168,177))\n",
    "eln_clin_demo_cyto_gen = list(range(153))+list(range(168,177))\n",
    "eln_clin_demo_comp = [0]+list(range(153,177))\n",
    "eln_cyto_gen = list(range(153))\n",
    "eln_cyto_gen_comp = list(range(168))\n",
    "eln_cyto_comp = [0] + list(range(84,168))\n",
    "eln_gen_comp = list(range(84)) + list(range(153,168))\n",
    "\n",
    "clin_demo = list(range(168,177))\n",
    "clin_demo_cyto = list(range(84,153))+list(range(168,177))\n",
    "clin_demo_gen = list(range(1,84))+list(range(168,177))\n",
    "clin_demo_cyto_gen = list(range(1,153))+ list(range(168,177))\n",
    "clin_demo_comp = list(range(153,177))\n",
    "cyto_gen = list(range(1,153))\n",
    "cyto_gen_comp = list(range(1,168))\n",
    "cyto_comp = list(range(84,168))\n",
    "gen_comp = list(range(1,84))+list(range(153,168))\n",
    "clin_demo_cyto_gen_comp = list(range(1,177))\n",
    "gen = list(range(1,84))\n",
    "cyto = list(range(84,153))\n",
    "comp = list(range(153,168))\n",
    "\n",
    "dict_features_type = dict(zip((\"all_features\",\"eln_clin\",\"eln_clin_demo\",\n",
    "         \"eln_clin_demo_cyto\",\"eln_clin_demo_gen\",\"eln_clin_demo_cyto_gen\",\n",
    "         \"eln_clin_demo_comp\",\"eln_cyto_gen\",\"eln_cyto_gen_comp\",\n",
    "         \"eln_cyto_comp\",\"eln_gen_comp\",\"clin_demo\",\n",
    "         \"clin_demo_cyto\",\"clin_demo_gen\",\"clin_demo_cyto_gen\",\n",
    "         \"clin_demo_comp\",\"cyto_gen\",\"cyto_gen_comp\",\n",
    "         \"cyto_comp\",\"gen_comp\",\"clin_demo_cyto_gen_comp\",\n",
    "         \"gen\",\"cyto\",\"comp\"), (all_features,eln_clin,eln_clin_demo,\n",
    "         eln_clin_demo_cyto,eln_clin_demo_gen,eln_clin_demo_cyto_gen,\n",
    "         eln_clin_demo_comp,eln_cyto_gen,eln_cyto_gen_comp,\n",
    "         eln_cyto_comp,eln_gen_comp,clin_demo,\n",
    "         clin_demo_cyto,clin_demo_gen,clin_demo_cyto_gen,\n",
    "         clin_demo_comp,cyto_gen,cyto_gen_comp,\n",
    "         cyto_comp,gen_comp,clin_demo_cyto_gen_comp,\n",
    "         gen,cyto,comp)))\n",
    "\n",
    "df_final = pd.read_table(\"df_prognosis_features_ready.tsv\")"
   ]
  },
  {
   "cell_type": "code",
   "execution_count": 219,
   "metadata": {},
   "outputs": [],
   "source": [
    "estimator = FastSurvivalSVM(max_iter=1000, tol=1e-6, random_state=17)"
   ]
  },
  {
   "cell_type": "code",
   "execution_count": 220,
   "metadata": {},
   "outputs": [],
   "source": [
    "param_grid = {'alpha': 10. ** np.array([-6,-5.5,-5,-4.5,-2.5,-1,0]),'optimizer':[\"avltree\"]}\n",
    "cv = ShuffleSplit(n_splits=5,random_state=17)\n",
    "gcv = GridSearchCV(estimator, param_grid, scoring=score_survival_model,\n",
    "                   n_jobs=4, iid=False, refit=True,\n",
    "                   cv=cv)\n",
    "#refit=True to have the best params for the prediction of next step"
   ]
  },
  {
   "cell_type": "code",
   "execution_count": null,
   "metadata": {},
   "outputs": [],
   "source": [
    "df=pd.DataFrame(columns=dict_features_type.keys())\n",
    "\n",
    "for key,item in dict_features_type.items():\n",
    "    x = df_final.iloc[:,item]\n",
    "    y = np.array(list(zip(df_final.os_status, df_final.os)),dtype=[('Status', '?'), ('Survival_in_days', '<f8')])\n",
    "    ci=[]\n",
    "    for i in range(25):\n",
    "        X_train, X_test, y_train, y_test = train_test_split(x, y, test_size=0.2, random_state=i)\n",
    "        gcv = gcv.fit(X_train,y_train)\n",
    "        print(gcv.best_params_)\n",
    "        ci.append(concordance_index_censored(y_test['Status'], y_test['Survival_in_days'], gcv.predict(X_test))[0])\n",
    "        print(ci)\n",
    "    df[key] = ci\n"
   ]
  },
  {
   "cell_type": "code",
   "execution_count": null,
   "metadata": {},
   "outputs": [],
   "source": [
    "df.to_csv(\"SVM_different_features_type.csv\")"
   ]
  },
  {
   "cell_type": "code",
   "execution_count": null,
   "metadata": {},
   "outputs": [],
   "source": [
    "param_grid = {'alpha': 10. ** np.array([-6,-5.5,-5,-4.5,-2.5,-1,0]),'optimizer':[\"avltree\"]}\n",
    "\n",
    "cv = ShuffleSplit(n_splits=5,random_state=17)\n",
    "gcv = GridSearchCV(estimator, param_grid, scoring=score_survival_model,\n",
    "                   n_jobs=4, iid=False, refit=True,\n",
    "                   cv=cv)\n",
    "cv = ShuffleSplit(n_splits=5,random_state=17)\n",
    "gcv = GridSearchCV(estimator, param_grid, scoring=score_survival_model,\n",
    "                   n_jobs=4, iid=False, refit=True,\n",
    "                   cv=cv)\n",
    "df1=pd.DataFrame(columns=dict_features_type.keys())\n",
    "\n",
    "for key,item in dict_features_type.items():\n",
    "    x = df_final.iloc[:,item]\n",
    "    y = np.array(list(zip(df_final.os_status, df_final.os)),dtype=[('Status', '?'), ('Survival_in_days', '<f8')])\n",
    "    ci=[]\n",
    "    for i in range(25):\n",
    "        X_train, X_test, y_train, y_test = train_test_split(x, y, test_size=0.2, random_state=i)\n",
    "        gcv = gcv.fit(X_train,y_train)\n",
    "        print(gcv.best_params_)\n",
    "        ci.append(concordance_index_censored(y_test['Status'], y_test['Survival_in_days'], gcv.predict(X_test))[0])\n",
    "        print(ci)\n",
    "    df1[key] = ci\n",
    "df1.to_csv(\"SVM_bis\")"
   ]
  },
  {
   "cell_type": "code",
   "execution_count": 42,
   "metadata": {},
   "outputs": [
    {
     "data": {
      "text/plain": [
       "{'alpha': array([3.16227766e-06, 1.00000000e-05])}"
      ]
     },
     "execution_count": 42,
     "metadata": {},
     "output_type": "execute_result"
    }
   ],
   "source": [
    "gcv.p"
   ]
  },
  {
   "cell_type": "code",
   "execution_count": null,
   "metadata": {},
   "outputs": [],
   "source": [
    "df=pd.DataFrame(columns=dict_features_type.keys())\n",
    "for key,item in dict_features_type.items():\n",
    "    x = df_final.iloc[:,item]\n",
    "    y = np.array(list(zip(df_final.os_status, df_final.os)),dtype=[('Status', '?'), ('Survival_in_days', '<f8')])\n",
    "    gcv = gcv.fit(x,y)\n",
    "    print (gcv.best_params_)\n",
    "    ci=[]\n",
    "    for i in range(2):\n",
    "        X_train, X_test, y_train, y_test = train_test_split(x, y, test_size=0.2, random_state=i)\n",
    "        model = FastSurvivalSVM(max_iter=1000, tol=1e-6, random_state=17, alpha=gcv.best_params_['alpha'], optimizer=gcv.best_params_['optimizer']).fit(X_train, y_train)\n",
    "        ci.append(concordance_index_censored(y_test['Status'], y_test['Survival_in_days'], model.predict(X_test))[0])\n",
    "        print(ci)\n",
    "    df[key] = ci"
   ]
  }
 ],
 "metadata": {
  "kernelspec": {
   "display_name": "Python 3",
   "language": "python",
   "name": "python3"
  },
  "language_info": {
   "codemirror_mode": {
    "name": "ipython",
    "version": 3
   },
   "file_extension": ".py",
   "mimetype": "text/x-python",
   "name": "python",
   "nbconvert_exporter": "python",
   "pygments_lexer": "ipython3",
   "version": "3.7.1"
  }
 },
 "nbformat": 4,
 "nbformat_minor": 2
}

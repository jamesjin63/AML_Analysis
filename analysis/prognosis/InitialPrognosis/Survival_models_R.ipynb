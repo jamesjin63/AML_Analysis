{
 "cells": [
  {
   "cell_type": "code",
   "execution_count": 1,
   "metadata": {},
   "outputs": [
    {
     "name": "stderr",
     "output_type": "stream",
     "text": [
      "Loading required package: Matrix\n",
      "Loading required package: foreach\n",
      "Loaded glmnet 2.0-16\n",
      "\n",
      "Loading required package: iterators\n",
      "Loading required package: parallel\n",
      "Loading required package: prodlim\n",
      "\n",
      " randomForestSRC 2.9.0 \n",
      " \n",
      " Type rfsrc.news() to see new features, changes, and bug fixes. \n",
      " \n",
      "\n",
      "Loading required package: RColorBrewer\n"
     ]
    }
   ],
   "source": [
    "library(glmnet)\n",
    "library(doMC)\n",
    "library(survival)\n",
    "library(data.table)\n",
    "library(mltools)\n",
    "library(CoxBoost)\n",
    "library(randomForestSRC)\n",
    "library(CoxHD)\n",
    "source('run_prognosis.R')\n",
    "# RFS=105=15*7 for str but only right rep(list(predictorRF),length(l_ntree)) because there is an inside for loop\n",
    "\n",
    "df_final <- read.table(\"df_prognosis_features_ready.tsv\",sep = '\\t' , header = T)\n",
    "\n",
    "### Different combinations to try ###\n",
    "all_features <- c(1:177)\n",
    "eln_clin<-c(1,169:175)\n",
    "eln_clin_demo<-c(1,169:177)\n",
    "eln_clin_demo_cyto <-c(1,85:153,169:177)\n",
    "eln_clin_demo_gen <-c(1:84,169:177)\n",
    "eln_clin_demo_cyto_gen <-c(1:153,169:177)\n",
    "eln_clin_demo_comp <-c(1,154:177)\n",
    "eln_cyto_gen<-c(1:153)\n",
    "eln_cyto_gen_comp <-c(1:168)\n",
    "eln_cyto_comp <-c(1,85:168)\n",
    "eln_gen_comp <-c(1:84,154:168)\n",
    "\n",
    "clin_demo<-c(169:177)\n",
    "clin_demo_cyto <-c(85:153,169:177)\n",
    "clin_demo_gen <-c(2:84,169:177)\n",
    "clin_demo_cyto_gen <-c(2:153,169:177)\n",
    "clin_demo_comp <-c(154:177)\n",
    "cyto_gen<-c(2:153)\n",
    "cyto_gen_comp <-c(2:168)\n",
    "cyto_comp <-c(85:168)\n",
    "gen_comp <-c(2:84,154:168)\n",
    "clin_demo_cyto_gen_comp<-c(2:177)\n",
    "gen<-c(2:84)\n",
    "cyto<-c(85:153)\n",
    "comp<-c(154:168)"
   ]
  },
  {
   "cell_type": "code",
   "execution_count": 3,
   "metadata": {},
   "outputs": [
    {
     "name": "stdout",
     "output_type": "stream",
     "text": [
      "[1] \"DONE\"\n",
      "[1] \"start CV\"\n"
     ]
    },
    {
     "name": "stderr",
     "output_type": "stream",
     "text": [
      "Warning message in mclapply(seq(nexp), FUN = function(iexp) {:\n",
      "“scheduled cores 7, 1, 14, 2, 12, 18, 24, 10 encountered errors in user code, all values of the jobs will be affected”"
     ]
    },
    {
     "name": "stdout",
     "output_type": "stream",
     "text": [
      "[1] \"DONE\"\n"
     ]
    }
   ],
   "source": [
    "#prognosis_features<- list(all_features=all_features,eln_clin=eln_clin,eln_clin_demo=eln_clin_demo,\n",
    "#    eln_clin_demo_cyto=eln_clin_demo_cyto,eln_clin_demo_gen=eln_clin_demo_gen,eln_clin_demo_cyto_gen=eln_clin_demo_cyto_gen,eln_clin_demo_comp=eln_clin_demo_comp,\n",
    "#    eln_cyto_gen=eln_cyto_gen,eln_cyto_gen_comp=eln_cyto_gen_comp,eln_cyto_comp=eln_cyto_comp,\n",
    "#    eln_gen_comp=eln_gen_comp,clin_demo=clin_demo,clin_demo_cyto=clin_demo_cyto,clin_demo_gen=clin_demo_gen,\n",
    "#    clin_demo_cyto_gen=clin_demo_cyto_gen,clin_demo_comp=clin_demo_comp,cyto_gen=cyto_gen,cyto_gen_comp=cyto_gen_comp,\n",
    "#    cyto_comp=cyto_comp,gen_comp=gen_comp,clin_demo_cyto_gen_comp=clin_demo_cyto_gen_comp,gen=gen,cyto=cyto,comp=comp)\n",
    "###--------------------------------------------------\n",
    "#prognosis_features<- list(gen=gen,cyto=cyto,eln_clin=eln_clin)\n",
    "prognosis_features<- list(eln_clin=eln_clin)\n",
    "y <- data.matrix(df_final[,c(\"os\",\"os_status\")])\n",
    "predictors <- c(predictorCPSS)\n",
    "str_predictors <- names(prognosis_features)\n",
    "l_alpha <-seq(0.1,1,0.1)\n",
    "l_ntree <- seq(500,1500,200)\n",
    "mc.cores <- 25\n",
    "nodesize <- c(5,15,25,50)\n",
    "table_w_c_i <- c()\n",
    "for (i in 1:length(prognosis_features)){\n",
    "    print(\"DONE\")\n",
    "    x <- data.matrix(df_final[,prognosis_features[[i]]])        \n",
    "    table_w_c_i <- cbind(table_w_c_i,launch_prognosis(x=x,y=y,predictors=predictors,str_predictors=str_predictors,l_alpha=l_alpha,\n",
    "                l_ntree=l_ntree,mc.cores=mc.cores,nodesize=nodesize))\n",
    "    \n",
    "    print(\"DONE\")\n",
    "   }"
   ]
  },
  {
   "cell_type": "code",
   "execution_count": null,
   "metadata": {},
   "outputs": [],
   "source": []
  }
 ],
 "metadata": {
  "kernelspec": {
   "display_name": "R",
   "language": "R",
   "name": "ir"
  },
  "language_info": {
   "codemirror_mode": "r",
   "file_extension": ".r",
   "mimetype": "text/x-r-source",
   "name": "R",
   "pygments_lexer": "r",
   "version": "3.5.2"
  }
 },
 "nbformat": 4,
 "nbformat_minor": 2
}

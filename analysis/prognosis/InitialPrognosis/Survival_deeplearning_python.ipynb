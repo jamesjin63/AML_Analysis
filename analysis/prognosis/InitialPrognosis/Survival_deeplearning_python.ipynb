{
 "cells": [
  {
   "cell_type": "code",
   "execution_count": 38,
   "metadata": {},
   "outputs": [],
   "source": [
    "import sys\n",
    "sys.path.append('../deepsurv')\n",
    "import deepsurv\n",
    "\n",
    "#from deepsurv_logger import DeepSurvLogger, TensorboardLogger\n",
    "import utils\n",
    "import viz\n",
    "import numpy as np\n",
    "import pandas as pd\n",
    "from sklearn.model_selection import train_test_split\n",
    "from sklearn import preprocessing\n",
    "import lasagne\n",
    "import matplotlib\n",
    "import matplotlib.pyplot as plt\n",
    "import random\n",
    "%matplotlib inline\n"
   ]
  },
  {
   "cell_type": "code",
   "execution_count": 16,
   "metadata": {},
   "outputs": [],
   "source": [
    "train_dataset_fp = 'df_prognosis_features_ready.tsv'\n",
    "train_df = pd.read_table(train_dataset_fp)\n"
   ]
  },
  {
   "cell_type": "code",
   "execution_count": 131,
   "metadata": {},
   "outputs": [],
   "source": [
    "def dataframe_to_deepsurv_ds(df, event_col = 'os_status', time_col = 'os'):\n",
    "    # Extract the event and time columns as numpy arrays\n",
    "    e = df[event_col].values.astype(np.int32)\n",
    "    t = df[time_col].values.astype(np.float32)\n",
    "\n",
    "    # Extract the patient's covariates as a numpy array\n",
    "    x_df = df.drop([event_col, time_col], axis = 1)\n",
    "    x = x_df.values.astype(np.float32)\n",
    "    #x=x_df\n",
    "    \n",
    "    # Return the deep surv dataframe\n",
    "    return {\n",
    "        'x' : x,\n",
    "        'e' : e,\n",
    "        't' : t\n",
    "    }\n"
   ]
  },
  {
   "cell_type": "code",
   "execution_count": 184,
   "metadata": {},
   "outputs": [
    {
     "name": "stderr",
     "output_type": "stream",
     "text": [
      "/Users/taziy/anaconda3/lib/python3.7/site-packages/sklearn/preprocessing/data.py:323: DataConversionWarning: Data with input dtype int64, float64 were all converted to float64 by MinMaxScaler.\n",
      "  return self.partial_fit(X, y)\n"
     ]
    }
   ],
   "source": [
    "### Min Max Scaler Normalization and good format of the data to feed the MLP network\n",
    "scale = preprocessing.MinMaxScaler().fit(train)\n",
    "df_train = pd.DataFrame(scale.transform(train.values), columns=train.columns, index=train.index)\n",
    "df_test = pd.DataFrame(scale.transform(test.values), columns=test.columns, index=test.index)\n",
    "train_data = dataframe_to_deepsurv_ds(df_train, event_col = 'os_status', time_col= 'os')\n",
    "val_data = dataframe_to_deepsurv_ds(df_test, event_col = 'os_status', time_col= 'os')"
   ]
  },
  {
   "cell_type": "code",
   "execution_count": 185,
   "metadata": {},
   "outputs": [
    {
     "data": {
      "text/plain": [
       "\"\\n        self.hyperparams = {\\n            'n_in': n_in,\\n            'learning_rate': learning_rate,\\n            'hidden_layers_sizes': hidden_layers_sizes,\\n            'lr_decay': lr_decay,\\n            'momentum': momentum,\\n            'L2_reg': L2_reg,\\n            'L1_reg': L1_reg,\\n            'activation': activation,\\n            'dropout': dropout,\\n            'batch_norm': batch_norm,\\n            'standardize': standardize\\n        }\\n\""
      ]
     },
     "execution_count": 185,
     "metadata": {},
     "output_type": "execute_result"
    }
   ],
   "source": [
    "hyperparams = {\n",
    "    'L2_reg': 10.0,\n",
    "    'batch_norm': True,\n",
    "    'dropout': 0.4,\n",
    "    'hidden_layers_sizes': [100,10],\n",
    "    'learning_rate': 1e-05,\n",
    "    'lr_decay': 0.001,\n",
    "    'momentum': 0.9,\n",
    "    'n_in': train_data['x'].shape[1],\n",
    "    #'standardize': True\n",
    "}\n",
    "#activation:\"selu\"\n",
    "'''\n",
    "        self.hyperparams = {\n",
    "            'n_in': n_in,\n",
    "            'learning_rate': learning_rate,\n",
    "            'hidden_layers_sizes': hidden_layers_sizes,\n",
    "            'lr_decay': lr_decay,\n",
    "            'momentum': momentum,\n",
    "            'L2_reg': L2_reg,\n",
    "            'L1_reg': L1_reg,\n",
    "            'activation': activation,\n",
    "            'dropout': dropout,\n",
    "            'batch_norm': batch_norm,\n",
    "            'standardize': standardize\n",
    "        }\n",
    "'''"
   ]
  },
  {
   "cell_type": "code",
   "execution_count": 215,
   "metadata": {},
   "outputs": [
    {
     "name": "stdout",
     "output_type": "stream",
     "text": [
      "2019-05-14 12:05:03,870 - Training step 0/500   |                         | - loss: 22.0443 - ci: 0.4373\n",
      "2019-05-14 12:05:03,870 - Training step 0/500   |                         | - loss: 22.0443 - ci: 0.4373\n",
      "2019-05-14 12:05:03,870 - Training step 0/500   |                         | - loss: 22.0443 - ci: 0.4373\n",
      "2019-05-14 12:05:03,870 - Training step 0/500   |                         | - loss: 22.0443 - ci: 0.4373\n",
      "2019-05-14 12:05:29,973 - Training step 250/500 |************             | - loss: 12.4677 - ci: 0.4602\n",
      "2019-05-14 12:05:29,973 - Training step 250/500 |************             | - loss: 12.4677 - ci: 0.4602\n",
      "2019-05-14 12:05:29,973 - Training step 250/500 |************             | - loss: 12.4677 - ci: 0.4602\n",
      "2019-05-14 12:05:29,973 - Training step 250/500 |************             | - loss: 12.4677 - ci: 0.4602\n",
      "2019-05-14 12:05:57,458 - Finished Training with 500 iterations in 53.78s\n",
      "2019-05-14 12:05:57,458 - Finished Training with 500 iterations in 53.78s\n",
      "2019-05-14 12:05:57,458 - Finished Training with 500 iterations in 53.78s\n",
      "2019-05-14 12:05:57,458 - Finished Training with 500 iterations in 53.78s\n"
     ]
    }
   ],
   "source": [
    "np.random.seed(17)\n",
    "network = deepsurv.DeepSurv(**hyperparams)\n",
    "network.restored_update_params = None \n",
    "logger = deepsurv.deepsurv_logger.TensorboardLogger(name = 'DeepSurvLogger', logdir = './logs/tensorboard/')\n",
    "np.random.seed(17)\n",
    "update_fn=lasagne.updates.nesterov_momentum # The type of optimizer to use. \n",
    "n_epochs = 500\n",
    "val_frequency=250\n",
    "patience=2000 # minimum number of epochs to train for\n",
    "metrics =  network.train(train_data,val_data, n_epochs=n_epochs, logger=logger, update_fn=update_fn,patience=patience,validation_frequency=val_frequency)"
   ]
  },
  {
   "cell_type": "code",
   "execution_count": 214,
   "metadata": {},
   "outputs": [
    {
     "name": "stdout",
     "output_type": "stream",
     "text": [
      "Loading json model: {\"n_in\": 178, \"learning_rate\": 1e-05, \"hidden_layers_sizes\": [100, 10], \"lr_decay\": 0.001, \"momentum\": 0.9, \"L2_reg\": 10.0, \"L1_reg\": 0.0, \"activation\": \"rectify\", \"dropout\": 0.4, \"batch_norm\": true, \"standardize\": false}\n"
     ]
    },
    {
     "data": {
      "text/plain": [
       "0.44322067913622865"
      ]
     },
     "execution_count": 214,
     "metadata": {},
     "output_type": "execute_result"
    }
   ],
   "source": [
    "network.save_model(\"deep_surv_model_500_epochs\", weights_file =\"deep_surv_weights_500_epochs\")\n",
    "previous_model = deepsurv.deep_surv.load_model_from_json(model_fp = 'deep_surv_model_500_epochs' , weights_fp =     'deep_surv_weights_500_epochs')\n",
    "previous_model.get_concordance_index(x=val_data['x'],t=val_data['t'],e=val_data['e'])"
   ]
  },
  {
   "cell_type": "code",
   "execution_count": 187,
   "metadata": {},
   "outputs": [
    {
     "name": "stdout",
     "output_type": "stream",
     "text": [
      "2019-05-14 11:18:32,342 - Training step 0/500   |                         | - loss: 22.0443 - ci: 0.4373\n",
      "2019-05-14 11:18:32,342 - Training step 0/500   |                         | - loss: 22.0443 - ci: 0.4373\n",
      "2019-05-14 11:18:32,342 - Training step 0/500   |                         | - loss: 22.0443 - ci: 0.4373\n",
      "2019-05-14 11:18:32,342 - Training step 0/500   |                         | - loss: 22.0443 - ci: 0.4373\n",
      "2019-05-14 11:18:32,342 - Training step 0/500   |                         | - loss: 22.0443 - ci: 0.4373\n",
      "2019-05-14 11:18:32,342 - Training step 0/500   |                         | - loss: 22.0443 - ci: 0.4373\n",
      "2019-05-14 11:18:32,342 - Training step 0/500   |                         | - loss: 22.0443 - ci: 0.4373\n",
      "2019-05-14 11:18:32,342 - Training step 0/500   |                         | - loss: 22.0443 - ci: 0.4373\n",
      "2019-05-14 11:18:32,342 - Training step 0/500   |                         | - loss: 22.0443 - ci: 0.4373\n",
      "2019-05-14 11:18:32,342 - Training step 0/500   |                         | - loss: 22.0443 - ci: 0.4373\n",
      "2019-05-14 11:18:32,342 - Training step 0/500   |                         | - loss: 22.0443 - ci: 0.4373\n",
      "2019-05-14 11:18:32,342 - Training step 0/500   |                         | - loss: 22.0443 - ci: 0.4373\n",
      "2019-05-14 11:18:32,342 - Training step 0/500   |                         | - loss: 22.0443 - ci: 0.4373\n",
      "2019-05-14 11:18:32,342 - Training step 0/500   |                         | - loss: 22.0443 - ci: 0.4373\n",
      "2019-05-14 11:18:32,342 - Training step 0/500   |                         | - loss: 22.0443 - ci: 0.4373\n",
      "2019-05-14 11:18:32,342 - Training step 0/500   |                         | - loss: 22.0443 - ci: 0.4373\n",
      "2019-05-14 11:19:01,355 - Training step 250/500 |************             | - loss: 12.4677 - ci: 0.4602\n",
      "2019-05-14 11:19:01,355 - Training step 250/500 |************             | - loss: 12.4677 - ci: 0.4602\n",
      "2019-05-14 11:19:01,355 - Training step 250/500 |************             | - loss: 12.4677 - ci: 0.4602\n",
      "2019-05-14 11:19:01,355 - Training step 250/500 |************             | - loss: 12.4677 - ci: 0.4602\n",
      "2019-05-14 11:19:01,355 - Training step 250/500 |************             | - loss: 12.4677 - ci: 0.4602\n",
      "2019-05-14 11:19:01,355 - Training step 250/500 |************             | - loss: 12.4677 - ci: 0.4602\n",
      "2019-05-14 11:19:01,355 - Training step 250/500 |************             | - loss: 12.4677 - ci: 0.4602\n",
      "2019-05-14 11:19:01,355 - Training step 250/500 |************             | - loss: 12.4677 - ci: 0.4602\n",
      "2019-05-14 11:19:01,355 - Training step 250/500 |************             | - loss: 12.4677 - ci: 0.4602\n",
      "2019-05-14 11:19:01,355 - Training step 250/500 |************             | - loss: 12.4677 - ci: 0.4602\n",
      "2019-05-14 11:19:01,355 - Training step 250/500 |************             | - loss: 12.4677 - ci: 0.4602\n",
      "2019-05-14 11:19:01,355 - Training step 250/500 |************             | - loss: 12.4677 - ci: 0.4602\n",
      "2019-05-14 11:19:01,355 - Training step 250/500 |************             | - loss: 12.4677 - ci: 0.4602\n",
      "2019-05-14 11:19:01,355 - Training step 250/500 |************             | - loss: 12.4677 - ci: 0.4602\n",
      "2019-05-14 11:19:01,355 - Training step 250/500 |************             | - loss: 12.4677 - ci: 0.4602\n",
      "2019-05-14 11:19:01,355 - Training step 250/500 |************             | - loss: 12.4677 - ci: 0.4602\n",
      "2019-05-14 11:19:29,675 - Finished Training with 500 iterations in 57.53s\n",
      "2019-05-14 11:19:29,675 - Finished Training with 500 iterations in 57.53s\n",
      "2019-05-14 11:19:29,675 - Finished Training with 500 iterations in 57.53s\n",
      "2019-05-14 11:19:29,675 - Finished Training with 500 iterations in 57.53s\n",
      "2019-05-14 11:19:29,675 - Finished Training with 500 iterations in 57.53s\n",
      "2019-05-14 11:19:29,675 - Finished Training with 500 iterations in 57.53s\n",
      "2019-05-14 11:19:29,675 - Finished Training with 500 iterations in 57.53s\n",
      "2019-05-14 11:19:29,675 - Finished Training with 500 iterations in 57.53s\n",
      "2019-05-14 11:19:29,675 - Finished Training with 500 iterations in 57.53s\n",
      "2019-05-14 11:19:29,675 - Finished Training with 500 iterations in 57.53s\n",
      "2019-05-14 11:19:29,675 - Finished Training with 500 iterations in 57.53s\n",
      "2019-05-14 11:19:29,675 - Finished Training with 500 iterations in 57.53s\n",
      "2019-05-14 11:19:29,675 - Finished Training with 500 iterations in 57.53s\n",
      "2019-05-14 11:19:29,675 - Finished Training with 500 iterations in 57.53s\n",
      "2019-05-14 11:19:29,675 - Finished Training with 500 iterations in 57.53s\n",
      "2019-05-14 11:19:29,675 - Finished Training with 500 iterations in 57.53s\n"
     ]
    }
   ],
   "source": [
    "np.random.seed(17)\n",
    "model = deepsurv.DeepSurv(**hyperparams)\n",
    "\n",
    "# DeepSurv can now leverage TensorBoard to monitor training and validation\n",
    "# This section of code is optional. If you don't want to use the tensorboard logger\n",
    "# Uncomment the below line, and comment out the other three lines: \n",
    "# logger = None\n",
    "\n",
    "experiment_name = 'test_experiment_sebastian'\n",
    "logdir = './logs/tensorboard/'\n",
    "logger = deepsurv.deepsurv_logger.TensorboardLogger(experiment_name, logdir=logdir)\n",
    "\n",
    "# Now we train the model\n",
    "np.random.seed(17)\n",
    "update_fn=lasagne.updates.nesterov_momentum # The type of optimizer to use. \\\n",
    "                                            # Check out http://lasagne.readthedocs.io/en/latest/modules/updates.html \\\n",
    "                                            # for other optimizers to use\n",
    "n_epochs = 500\n",
    "val_frequency=250\n",
    "patience=2000 # minimum number of epochs to train for\n",
    "# If you have validation data, you can add it as the second parameter to the function\n",
    "\n",
    "metrics = model.train(train_data,val_data, n_epochs=n_epochs, logger=logger, update_fn=update_fn,patience=patience,validation_frequency=val_frequency)"
   ]
  },
  {
   "cell_type": "code",
   "execution_count": 216,
   "metadata": {},
   "outputs": [
    {
     "data": {
      "text/plain": [
       "[(0, 0.4391265954884804), (250, 0.4491450590029702)]"
      ]
     },
     "execution_count": 216,
     "metadata": {},
     "output_type": "execute_result"
    }
   ],
   "source": [
    "metrics['valid_c-index']"
   ]
  },
  {
   "cell_type": "code",
   "execution_count": 217,
   "metadata": {},
   "outputs": [
    {
     "data": {
      "text/plain": [
       "array(10.96796368)"
      ]
     },
     "execution_count": 217,
     "metadata": {},
     "output_type": "execute_result"
    }
   ],
   "source": [
    "metrics['best_valid_loss']"
   ]
  },
  {
   "cell_type": "code",
   "execution_count": 218,
   "metadata": {},
   "outputs": [
    {
     "name": "stdout",
     "output_type": "stream",
     "text": [
      "Train C-Index: (499, 0.4681709875707654)\n"
     ]
    },
    {
     "data": {
      "image/png": "[encoded data removed]",
      "text/plain": [
       "<Figure size 432x288 with 2 Axes>"
      ]
     },
     "metadata": {
      "needs_background": "light"
     },
     "output_type": "display_data"
    },
    {
     "data": {
      "image/png": "[encoded data removed]",
      "text/plain": [
       "<Figure size 432x288 with 1 Axes>"
      ]
     },
     "metadata": {
      "needs_background": "light"
     },
     "output_type": "display_data"
    }
   ],
   "source": [
    "\n",
    "# Print the final metrics\n",
    "print('Train C-Index:', metrics['c-index'][-1])\n",
    "# print('Valid C-Index: ',metrics['valid_c-index'][-1])\n",
    "\n",
    "# Plot the training / validation curves\n",
    "deepsurv.viz.plot_log(metrics)"
   ]
  },
  {
   "cell_type": "code",
   "execution_count": null,
   "metadata": {},
   "outputs": [],
   "source": []
  }
 ],
 "metadata": {
  "kernelspec": {
   "display_name": "Python 3",
   "language": "python",
   "name": "python3"
  },
  "language_info": {
   "codemirror_mode": {
    "name": "ipython",
    "version": 3
   },
   "file_extension": ".py",
   "mimetype": "text/x-python",
   "name": "python",
   "nbconvert_exporter": "python",
   "pygments_lexer": "ipython3",
   "version": "3.7.1"
  }
 },
 "nbformat": 4,
 "nbformat_minor": 2
}

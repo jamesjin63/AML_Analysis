{
 "cells": [
  {
   "cell_type": "code",
   "execution_count": 38,
   "metadata": {},
   "outputs": [],
   "source": [
    "import sys\n",
    "sys.path.append('../deepsurv')\n",
    "import deepsurv\n",
    "\n",
    "#from deepsurv_logger import DeepSurvLogger, TensorboardLogger\n",
    "import utils\n",
    "import viz\n",
    "\n",
    "import numpy as np\n",
    "import pandas as pd\n",
    "from sklearn.model_selection import train_test_split\n",
    "from sklearn import preprocessing\n",
    "import lasagne\n",
    "import matplotlib\n",
    "import matplotlib.pyplot as plt\n",
    "import random\n",
    "%matplotlib inline\n"
   ]
  },
  {
   "cell_type": "code",
   "execution_count": 16,
   "metadata": {},
   "outputs": [],
   "source": [
    "train_dataset_fp = 'df_prognosis_features_ready.tsv'\n",
    "train_df = pd.read_table(train_dataset_fp)\n"
   ]
  },
  {
   "cell_type": "code",
   "execution_count": 17,
   "metadata": {},
   "outputs": [],
   "source": [
    "def dataframe_to_deepsurv_ds(df, event_col = 'os_status', time_col = 'os'):\n",
    "    # Extract the event and time columns as numpy arrays\n",
    "    e = df[event_col].values.astype(np.int32)\n",
    "    t = df[time_col].values.astype(np.float32)\n",
    "\n",
    "    # Extract the patient's covariates as a numpy array\n",
    "    x_df = df.drop([event_col, time_col], axis = 1)\n",
    "    x = x_df.values.astype(np.float32)\n",
    "    \n",
    "    # Return the deep surv dataframe\n",
    "    return {\n",
    "        'x' : x,\n",
    "        'e' : e,\n",
    "        't' : t\n",
    "    }\n"
   ]
  },
  {
   "cell_type": "code",
   "execution_count": 73,
   "metadata": {},
   "outputs": [],
   "source": [
    "# If the headers of the csv change, you can replace the values of \n",
    "# 'event_col' and 'time_col' with the names of the new headers\n",
    "# You can also use this function on your training dataset, validation dataset, and testing dataset\n",
    "\n",
    "#train_df.head()\n",
    "#train_data = dataframe_to_deepsurv_ds(train_df, event_col = 'os_status', time_col= 'os')\n",
    "train,test=train_test_split(train_df,test_size=0.2)\n",
    "train_data = dataframe_to_deepsurv_ds(train, event_col = 'os_status', time_col= 'os')\n",
    "val_data = dataframe_to_deepsurv_ds(test, event_col = 'os_status', time_col= 'os')"
   ]
  },
  {
   "cell_type": "code",
   "execution_count": 72,
   "metadata": {},
   "outputs": [
    {
     "name": "stdout",
     "output_type": "stream",
     "text": [
      "[ 2.       0.       0.       0.       0.       0.       0.       0.\n",
      "  0.       0.       0.       0.       0.       0.       0.       0.\n",
      "  0.       0.       0.       0.       0.       0.       0.       0.\n",
      "  0.       0.       0.       0.       0.       0.       0.       0.\n",
      "  0.       0.       0.       0.       0.       0.       0.       0.\n",
      "  0.       0.       0.       1.       0.       0.       0.       0.\n",
      "  0.       0.       0.       0.       1.       0.       1.       0.\n",
      "  0.       0.       0.       0.       0.       0.       0.       0.\n",
      "  0.       0.       0.       0.       0.       0.       0.       0.\n",
      "  0.       0.       0.       0.       0.       0.       0.       0.\n",
      "  0.       0.       0.       0.       0.       0.       0.       1.\n",
      "  0.       0.       0.       0.       0.       0.       0.       0.\n",
      "  0.       0.       0.       0.       0.       0.       0.       0.\n",
      "  0.       0.       0.       0.       0.       0.       0.       0.\n",
      "  0.       0.       0.       0.       0.       0.       0.       0.\n",
      "  0.       0.       0.       0.       0.       0.       0.       0.\n",
      "  0.       0.       0.       0.       0.       0.       0.       0.\n",
      "  0.       0.       0.       0.       0.       0.       0.       0.\n",
      "  0.       0.       0.       0.       0.       0.       0.       0.\n",
      "  0.       1.       0.       0.       0.       0.       0.       0.\n",
      "  0.       0.       0.       0.       0.       0.       0.       0.\n",
      "  1.       1.      90.       1.       2.4     57.      54.       1.\n",
      " 73.99042  0.     ]\n",
      "          new_eln  ASXL1  ASXL2  ASXL3  ATRX  BAGE3  BCOR  BRAF  CBFB  CBL  \\\n",
      "PD20312a        2      0      0      0     0      0     0     0     0    0   \n",
      "PD25456c        1      0      0      0     0      0     0     0     0    0   \n",
      "PD25322a        0      0      0      0     0      0     1     0     0    0   \n",
      "PD25536a        2      0      0      0     0      0     0     0     0    0   \n",
      "PD25453a        1      0      0      0     0      0     0     0     0    0   \n",
      "\n",
      "         ...  bm_blasts  secondary    wbc          hb   plt  gender  \\\n",
      "PD20312a ...       95.0          2  165.0   10.399994  53.0       0   \n",
      "PD25456c ...       90.0          1   91.1   74.000000   9.0       0   \n",
      "PD25322a ...       41.0          1    3.5   82.000000  83.0       1   \n",
      "PD25536a ...       55.0          1    8.3    8.399994  14.0       1   \n",
      "PD25453a ...       96.0          1    1.9  116.000000  51.0       1   \n",
      "\n",
      "                age        os  os_status  cr  \n",
      "PD20312a  68.123203  0.134155          1   0  \n",
      "PD25456c  72.594114  2.943190          0   1  \n",
      "PD25322a  72.320329  3.208761          0   1  \n",
      "PD25536a  73.431896  0.287474          1   0  \n",
      "PD25453a  34.444901  2.828200          0   1  \n",
      "\n",
      "[5 rows x 180 columns]\n"
     ]
    }
   ],
   "source": [
    "mean = train_data['x'].mean(axis = 0)\n",
    "std = train_data['x'].std(axis = 0)\n",
    "print(train_data['x'][0])\n",
    "print(train.head())"
   ]
  },
  {
   "cell_type": "code",
   "execution_count": 21,
   "metadata": {},
   "outputs": [
    {
     "data": {
      "text/plain": [
       "\"\\n        self.hyperparams = {\\n            'n_in': n_in,\\n            'learning_rate': learning_rate,\\n            'hidden_layers_sizes': hidden_layers_sizes,\\n            'lr_decay': lr_decay,\\n            'momentum': momentum,\\n            'L2_reg': L2_reg,\\n            'L1_reg': L1_reg,\\n            'activation': activation,\\n            'dropout': dropout,\\n            'batch_norm': batch_norm,\\n            'standardize': standardize\\n        }\\n\""
      ]
     },
     "execution_count": 21,
     "metadata": {},
     "output_type": "execute_result"
    }
   ],
   "source": [
    "hyperparams = {\n",
    "    'L2_reg': 10.0,\n",
    "    'batch_norm': True,\n",
    "    'dropout': 0.4,\n",
    "    'hidden_layers_sizes': [100,10],\n",
    "    'learning_rate': 1e-05,\n",
    "    'lr_decay': 0.001,\n",
    "    'momentum': 0.9,\n",
    "    'n_in': train_data['x'].shape[1],\n",
    "    #'standardize': True\n",
    "}\n",
    "#activation:\"selu\"\n",
    "'''\n",
    "        self.hyperparams = {\n",
    "            'n_in': n_in,\n",
    "            'learning_rate': learning_rate,\n",
    "            'hidden_layers_sizes': hidden_layers_sizes,\n",
    "            'lr_decay': lr_decay,\n",
    "            'momentum': momentum,\n",
    "            'L2_reg': L2_reg,\n",
    "            'L1_reg': L1_reg,\n",
    "            'activation': activation,\n",
    "            'dropout': dropout,\n",
    "            'batch_norm': batch_norm,\n",
    "            'standardize': standardize\n",
    "        }\n",
    "'''"
   ]
  },
  {
   "cell_type": "code",
   "execution_count": 31,
   "metadata": {},
   "outputs": [
    {
     "name": "stdout",
     "output_type": "stream",
     "text": [
      "Help on function nesterov_momentum in module lasagne.updates:\n",
      "\n",
      "nesterov_momentum(loss_or_grads, params, learning_rate, momentum=0.9)\n",
      "    Stochastic Gradient Descent (SGD) updates with Nesterov momentum\n",
      "    \n",
      "    Generates update expressions of the form:\n",
      "    \n",
      "    * ``velocity := momentum * velocity - learning_rate * gradient``\n",
      "    * ``param := param + momentum * velocity - learning_rate * gradient``\n",
      "    \n",
      "    Parameters\n",
      "    ----------\n",
      "    loss_or_grads : symbolic expression or list of expressions\n",
      "        A scalar loss expression, or a list of gradient expressions\n",
      "    params : list of shared variables\n",
      "        The variables to generate update expressions for\n",
      "    learning_rate : float or symbolic scalar\n",
      "        The learning rate controlling the size of update steps\n",
      "    momentum : float or symbolic scalar, optional\n",
      "        The amount of momentum to apply. Higher momentum results in\n",
      "        smoothing over more update steps. Defaults to 0.9.\n",
      "    \n",
      "    Returns\n",
      "    -------\n",
      "    OrderedDict\n",
      "        A dictionary mapping each parameter to its update expression\n",
      "    \n",
      "    Notes\n",
      "    -----\n",
      "    Higher momentum also results in larger update steps. To counter that,\n",
      "    you can optionally scale your learning rate by `1 - momentum`.\n",
      "    \n",
      "    The classic formulation of Nesterov momentum (or Nesterov accelerated\n",
      "    gradient) requires the gradient to be evaluated at the predicted next\n",
      "    position in parameter space. Here, we use the formulation described at\n",
      "    https://github.com/lisa-lab/pylearn2/pull/136#issuecomment-10381617,\n",
      "    which allows the gradient to be evaluated at the current parameters.\n",
      "    \n",
      "    See Also\n",
      "    --------\n",
      "    apply_nesterov_momentum : Function applying momentum to updates\n",
      "\n"
     ]
    }
   ],
   "source": [
    "help(lasagne.updates.nesterov_momentum"
   ]
  },
  {
   "cell_type": "code",
   "execution_count": 36,
   "metadata": {},
   "outputs": [
    {
     "name": "stdout",
     "output_type": "stream",
     "text": [
      "2019-05-14 10:25:13,728 - Training step 0/500   |                         | - loss: 22.0380 - ci: 0.4449\n",
      "2019-05-14 10:25:13,728 - Training step 0/500   |                         | - loss: 22.0380 - ci: 0.4449\n",
      "2019-05-14 10:25:13,728 - Training step 0/500   |                         | - loss: 22.0380 - ci: 0.4449\n",
      "2019-05-14 10:25:13,728 - Training step 0/500   |                         | - loss: 22.0380 - ci: 0.4449\n",
      "2019-05-14 10:25:13,728 - Training step 0/500   |                         | - loss: 22.0380 - ci: 0.4449\n",
      "2019-05-14 10:25:13,728 - Training step 0/500   |                         | - loss: 22.0380 - ci: 0.4449\n",
      "2019-05-14 10:25:13,728 - Training step 0/500   |                         | - loss: 22.0380 - ci: 0.4449\n",
      "2019-05-14 10:25:13,728 - Training step 0/500   |                         | - loss: 22.0380 - ci: 0.4449\n",
      "2019-05-14 10:25:13,728 - Training step 0/500   |                         | - loss: 22.0380 - ci: 0.4449\n",
      "2019-05-14 10:25:13,728 - Training step 0/500   |                         | - loss: 22.0380 - ci: 0.4449\n",
      "2019-05-14 10:25:13,728 - Training step 0/500   |                         | - loss: 22.0380 - ci: 0.4449\n",
      "2019-05-14 10:25:13,728 - Training step 0/500   |                         | - loss: 22.0380 - ci: 0.4449\n",
      "2019-05-14 10:25:13,728 - Training step 0/500   |                         | - loss: 22.0380 - ci: 0.4449\n",
      "2019-05-14 10:25:13,728 - Training step 0/500   |                         | - loss: 22.0380 - ci: 0.4449\n",
      "2019-05-14 10:25:41,217 - Training step 250/500 |************             | - loss: 12.4772 - ci: 0.4616\n",
      "2019-05-14 10:25:41,217 - Training step 250/500 |************             | - loss: 12.4772 - ci: 0.4616\n",
      "2019-05-14 10:25:41,217 - Training step 250/500 |************             | - loss: 12.4772 - ci: 0.4616\n",
      "2019-05-14 10:25:41,217 - Training step 250/500 |************             | - loss: 12.4772 - ci: 0.4616\n",
      "2019-05-14 10:25:41,217 - Training step 250/500 |************             | - loss: 12.4772 - ci: 0.4616\n",
      "2019-05-14 10:25:41,217 - Training step 250/500 |************             | - loss: 12.4772 - ci: 0.4616\n",
      "2019-05-14 10:25:41,217 - Training step 250/500 |************             | - loss: 12.4772 - ci: 0.4616\n",
      "2019-05-14 10:25:41,217 - Training step 250/500 |************             | - loss: 12.4772 - ci: 0.4616\n",
      "2019-05-14 10:25:41,217 - Training step 250/500 |************             | - loss: 12.4772 - ci: 0.4616\n",
      "2019-05-14 10:25:41,217 - Training step 250/500 |************             | - loss: 12.4772 - ci: 0.4616\n",
      "2019-05-14 10:25:41,217 - Training step 250/500 |************             | - loss: 12.4772 - ci: 0.4616\n",
      "2019-05-14 10:25:41,217 - Training step 250/500 |************             | - loss: 12.4772 - ci: 0.4616\n",
      "2019-05-14 10:25:41,217 - Training step 250/500 |************             | - loss: 12.4772 - ci: 0.4616\n",
      "2019-05-14 10:25:41,217 - Training step 250/500 |************             | - loss: 12.4772 - ci: 0.4616\n",
      "2019-05-14 10:26:10,930 - Finished Training with 500 iterations in 57.39s\n",
      "2019-05-14 10:26:10,930 - Finished Training with 500 iterations in 57.39s\n",
      "2019-05-14 10:26:10,930 - Finished Training with 500 iterations in 57.39s\n",
      "2019-05-14 10:26:10,930 - Finished Training with 500 iterations in 57.39s\n",
      "2019-05-14 10:26:10,930 - Finished Training with 500 iterations in 57.39s\n",
      "2019-05-14 10:26:10,930 - Finished Training with 500 iterations in 57.39s\n",
      "2019-05-14 10:26:10,930 - Finished Training with 500 iterations in 57.39s\n",
      "2019-05-14 10:26:10,930 - Finished Training with 500 iterations in 57.39s\n",
      "2019-05-14 10:26:10,930 - Finished Training with 500 iterations in 57.39s\n",
      "2019-05-14 10:26:10,930 - Finished Training with 500 iterations in 57.39s\n",
      "2019-05-14 10:26:10,930 - Finished Training with 500 iterations in 57.39s\n",
      "2019-05-14 10:26:10,930 - Finished Training with 500 iterations in 57.39s\n",
      "2019-05-14 10:26:10,930 - Finished Training with 500 iterations in 57.39s\n",
      "2019-05-14 10:26:10,930 - Finished Training with 500 iterations in 57.39s\n"
     ]
    }
   ],
   "source": [
    "np.random.seed(17)\n",
    "model = deepsurv.DeepSurv(**hyperparams)\n",
    "\n",
    "# DeepSurv can now leverage TensorBoard to monitor training and validation\n",
    "# This section of code is optional. If you don't want to use the tensorboard logger\n",
    "# Uncomment the below line, and comment out the other three lines: \n",
    "# logger = None\n",
    "\n",
    "experiment_name = 'test_experiment_sebastian'\n",
    "logdir = './logs/tensorboard/'\n",
    "logger = deepsurv.deepsurv_logger.TensorboardLogger(experiment_name, logdir=logdir)\n",
    "\n",
    "# Now we train the model\n",
    "np.random.seed(17)\n",
    "update_fn=lasagne.updates.nesterov_momentum # The type of optimizer to use. \\\n",
    "                                            # Check out http://lasagne.readthedocs.io/en/latest/modules/updates.html \\\n",
    "                                            # for other optimizers to use\n",
    "n_epochs = 500\n",
    "val_frequency=250\n",
    "patience=2000 # minimum number of epochs to train for\n",
    "# If you have validation data, you can add it as the second parameter to the function\n",
    "\n",
    "metrics = model.train(train_data,val_data, n_epochs=n_epochs, logger=logger, update_fn=update_fn,patience=patience,validation_frequency=val_frequency)"
   ]
  },
  {
   "cell_type": "code",
   "execution_count": null,
   "metadata": {},
   "outputs": [],
   "source": []
  },
  {
   "cell_type": "code",
   "execution_count": 9,
   "metadata": {},
   "outputs": [
    {
     "name": "stdout",
     "output_type": "stream",
     "text": [
      "Help on method train in module deepsurv.deep_surv:\n",
      "\n",
      "train(train_data, valid_data=None, n_epochs=500, validation_frequency=250, patience=2000, improvement_threshold=0.99999, patience_increase=2, logger=None, update_fn=<function nesterov_momentum at 0x1c2a0b0048>, verbose=True, **kwargs) method of deepsurv.deep_surv.DeepSurv instance\n",
      "    Trains a DeepSurv network on the provided training data and evalutes\n",
      "        it on the validation data.\n",
      "    \n",
      "    Parameters:\n",
      "        train_data: dictionary with the following keys:\n",
      "            'x' : (n,d) array of observations (dtype = float32).\n",
      "            't' : (n) array of observed time events (dtype = float32).\n",
      "            'e' : (n) array of observed time indicators (dtype = int32).\n",
      "        valid_data: optional. A dictionary with the following keys:\n",
      "            'x' : (n,d) array of observations.\n",
      "            't' : (n) array of observed time events.\n",
      "            'e' : (n) array of observed time indicators.\n",
      "        standardize: True or False. Set the offset and scale of\n",
      "            standardization layey to the mean and standard deviation of the\n",
      "            training data.\n",
      "        n_epochs: integer for the maximum number of epochs the network will\n",
      "            train for.\n",
      "        validation_frequency: how often the network computes the validation\n",
      "            metrics. Decreasing validation_frequency increases training speed.\n",
      "        patience: minimum number of epochs to train for. Once patience is\n",
      "            reached, looks at validation improvement to increase patience or\n",
      "            early stop.\n",
      "        improvement_threshold: percentage of improvement needed to increase\n",
      "            patience.\n",
      "        patience_increase: multiplier to patience if threshold is reached.\n",
      "        logger: None or DeepSurvLogger.\n",
      "        update_fn: lasagne update function for training.\n",
      "            Default: lasagne.updates.nesterov_momentum\n",
      "        **kwargs: additional parameters to provide _get_train_valid_fn.\n",
      "            Parameters used to provide configurations to update_fn.\n",
      "    \n",
      "    Returns:\n",
      "        metrics: a dictionary of training metrics that include:\n",
      "            'train': a list of loss values for each training epoch\n",
      "            'train_ci': a list of C-indices for each training epoch\n",
      "            'best_params': a list of numpy arrays containing the parameters\n",
      "                when the network had the best validation loss\n",
      "            'best_params_idx': the epoch at which best_params was found\n",
      "        If valid_data is provided, the metrics also contain:\n",
      "            'valid': a list of validation loss values for each validation frequency\n",
      "            'valid_ci': a list of validation C-indiices for each validation frequency\n",
      "            'best_validation_loss': the best validation loss found during training\n",
      "            'best_valid_ci': the max validation C-index found during training\n",
      "\n"
     ]
    }
   ],
   "source": [
    "help(model.train)"
   ]
  },
  {
   "cell_type": "code",
   "execution_count": 13,
   "metadata": {},
   "outputs": [
    {
     "data": {
      "text/plain": [
       "[(0, 0.5077454603888799), (250, 0.5717820986662382)]"
      ]
     },
     "execution_count": 13,
     "metadata": {},
     "output_type": "execute_result"
    }
   ],
   "source": [
    "metrics['valid_c-index']"
   ]
  },
  {
   "cell_type": "code",
   "execution_count": 8,
   "metadata": {},
   "outputs": [
    {
     "data": {
      "text/plain": [
       "array(10.92700923)"
      ]
     },
     "execution_count": 8,
     "metadata": {},
     "output_type": "execute_result"
    }
   ],
   "source": [
    "metrics['best_valid_loss']"
   ]
  },
  {
   "cell_type": "code",
   "execution_count": 43,
   "metadata": {},
   "outputs": [
    {
     "name": "stdout",
     "output_type": "stream",
     "text": [
      "Train C-Index: (1999, 0.5994815629633172)\n"
     ]
    },
    {
     "data": {
      "image/png": "[encoded data removed]",
      "text/plain": [
       "<Figure size 432x288 with 1 Axes>"
      ]
     },
     "metadata": {
      "needs_background": "light"
     },
     "output_type": "display_data"
    },
    {
     "data": {
      "image/png": "[encoded data removed]",
      "text/plain": [
       "<Figure size 432x288 with 1 Axes>"
      ]
     },
     "metadata": {
      "needs_background": "light"
     },
     "output_type": "display_data"
    }
   ],
   "source": [
    "\n",
    "# Print the final metrics\n",
    "print('Train C-Index:', metrics['c-index'][-1])\n",
    "# print('Valid C-Index: ',metrics['valid_c-index'][-1])\n",
    "\n",
    "# Plot the training / validation curves\n",
    "deepsurv.viz.plot_log(metrics)"
   ]
  }
 ],
 "metadata": {
  "kernelspec": {
   "display_name": "Python 3",
   "language": "python",
   "name": "python3"
  },
  "language_info": {
   "codemirror_mode": {
    "name": "ipython",
    "version": 3
   },
   "file_extension": ".py",
   "mimetype": "text/x-python",
   "name": "python",
   "nbconvert_exporter": "python",
   "pygments_lexer": "ipython3",
   "version": "3.7.1"
  }
 },
 "nbformat": 4,
 "nbformat_minor": 2
}

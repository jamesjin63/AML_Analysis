{
 "cells": [
  {
   "cell_type": "code",
   "execution_count": 3,
   "metadata": {},
   "outputs": [],
   "source": [
    "%matplotlib inline\n",
    "import numpy as np\n",
    "import matplotlib.pyplot as plt\n",
    "import pandas as pd\n",
    "import seaborn as sns\n",
    "from sklearn.model_selection import ShuffleSplit, GridSearchCV\n",
    "\n",
    "from sksurv.datasets import load_veterans_lung_cancer\n",
    "from sksurv.column import encode_categorical\n",
    "from sksurv.metrics import concordance_index_censored\n",
    "from sksurv.svm import FastSurvivalSVM,FastKernelSurvivalSVM\n",
    "from sksurv.kernels import clinical_kernel"
   ]
  },
  {
   "cell_type": "code",
   "execution_count": 9,
   "metadata": {},
   "outputs": [],
   "source": [
    "df_final = pd.read_table(\"df_prognosis_features_ready.tsv\")\n",
    "#x = df_final.iloc[:,1:177]\n",
    "x = df_final.iloc[:,1:84]\n",
    "y = np.array(list(zip(df_final.os_status, df_final.os)),dtype=[('Status', '?'), ('Survival_in_days', '<f8')])"
   ]
  },
  {
   "cell_type": "code",
   "execution_count": 33,
   "metadata": {},
   "outputs": [
    {
     "data": {
      "text/plain": [
       "{'alpha': array([1.00000000e-06, 1.25892541e-06, 1.58489319e-06, 1.99526231e-06,\n",
       "        2.51188643e-06, 3.16227766e-06, 3.98107171e-06, 5.01187234e-06,\n",
       "        6.30957344e-06, 7.94328235e-06, 1.00000000e-05, 1.25892541e-05,\n",
       "        1.58489319e-05, 1.99526231e-05, 2.51188643e-05, 3.16227766e-05,\n",
       "        3.98107171e-05, 5.01187234e-05, 6.30957344e-05, 7.94328235e-05])}"
      ]
     },
     "execution_count": 33,
     "metadata": {},
     "output_type": "execute_result"
    }
   ],
   "source": [
    "{'alpha': 10. ** np.arange(-6, -4, 0.1)}"
   ]
  },
  {
   "cell_type": "code",
   "execution_count": 34,
   "metadata": {},
   "outputs": [],
   "source": [
    "estimator = FastSurvivalSVM(optimizer=\"rbtree\", max_iter=1000, tol=1e-6, random_state=17)\n",
    "#estimator = FastKernelSurvivalSVM(optimizer=\"rbtree\", kernel=\"precomputed\", random_state=0)"
   ]
  },
  {
   "cell_type": "code",
   "execution_count": 35,
   "metadata": {},
   "outputs": [],
   "source": [
    "def score_survival_model(model, X, y):\n",
    "    prediction = model.predict(X)\n",
    "    result = concordance_index_censored(y['Status'], y['Survival_in_days'], prediction)\n",
    "    return result[0]"
   ]
  },
  {
   "cell_type": "code",
   "execution_count": 44,
   "metadata": {},
   "outputs": [],
   "source": [
    "param_grid = {'alpha': 10. ** np.arange(-6, -4, 0.1)}\n",
    "#param_grid = {'alpha': 10. ** np.arange(-10, -3, 0.2)}\n",
    "#cv = ShuffleSplit(n_splits=5, test_size=0.5, random_state=0)\n",
    "cv = ShuffleSplit(n_splits=10,random_state=17)\n",
    "gcv = GridSearchCV(estimator, param_grid, scoring=score_survival_model,\n",
    "                   n_jobs=4, iid=False, refit=False,\n",
    "                   cv=cv)"
   ]
  },
  {
   "cell_type": "code",
   "execution_count": 45,
   "metadata": {},
   "outputs": [],
   "source": [
    "import warnings\n",
    "warnings.filterwarnings(\"ignore\", category=UserWarning)\n",
    "gcv = gcv.fit(x,y)\n",
    "#gcv = gcv.fit(clinical_kernel(x),y)\n"
   ]
  },
  {
   "cell_type": "code",
   "execution_count": 46,
   "metadata": {},
   "outputs": [
    {
     "data": {
      "text/plain": [
       "0.6464302951335703"
      ]
     },
     "execution_count": 46,
     "metadata": {},
     "output_type": "execute_result"
    }
   ],
   "source": [
    "gcv.best_score_"
   ]
  },
  {
   "cell_type": "code",
   "execution_count": 47,
   "metadata": {},
   "outputs": [
    {
     "data": {
      "text/plain": [
       "{'alpha': 7.943282347242757e-06}"
      ]
     },
     "execution_count": 47,
     "metadata": {},
     "output_type": "execute_result"
    }
   ],
   "source": [
    "gcv.best_params_"
   ]
  },
  {
   "cell_type": "code",
   "execution_count": null,
   "metadata": {},
   "outputs": [],
   "source": []
  }
 ],
 "metadata": {
  "kernelspec": {
   "display_name": "Python 3",
   "language": "python",
   "name": "python3"
  },
  "language_info": {
   "codemirror_mode": {
    "name": "ipython",
    "version": 3
   },
   "file_extension": ".py",
   "mimetype": "text/x-python",
   "name": "python",
   "nbconvert_exporter": "python",
   "pygments_lexer": "ipython3",
   "version": "3.7.1"
  }
 },
 "nbformat": 4,
 "nbformat_minor": 2
}
